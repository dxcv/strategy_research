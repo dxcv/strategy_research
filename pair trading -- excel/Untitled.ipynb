{
 "cells": [
  {
   "cell_type": "code",
   "execution_count": 1,
   "metadata": {},
   "outputs": [],
   "source": [
    "import numpy as np\n",
    "import pandas as pd\n",
    "import matplotlib.pyplot as plt\n",
    "import seaborn as sns\n",
    "# import statsmodels.api as sm\n",
    "# import tushare as ts\n",
    "import QUANTAXIS as QA\n",
    "import talib as ta\n",
    "import datetime\n"
   ]
  },
  {
   "cell_type": "code",
   "execution_count": 2,
   "metadata": {},
   "outputs": [],
   "source": [
    "plt.rcParams['figure.figsize'] = [12, 8]\n",
    "plt.rcParams['image.interpolation'] = 'nearest'\n",
    "plt.rcParams['image.cmap'] = 'gray'\n",
    "plt.style.use('ggplot')"
   ]
  },
  {
   "cell_type": "code",
   "execution_count": null,
   "metadata": {},
   "outputs": [],
   "source": [
    "from QA.QAUtil.QAM"
   ]
  },
  {
   "cell_type": "markdown",
   "metadata": {},
   "source": [
    "retrieve hk stock data"
   ]
  },
  {
   "cell_type": "markdown",
   "metadata": {},
   "source": [
    "```\n",
    "QA.QA_fetch_get_hkfund_day\n",
    "QA.QA_fetch_get_hkfund_list\n",
    "QA.QA_fetch_get_hkfund_min\n",
    "QA.QA_fetch_get_hkindex_day\n",
    "QA.QA_fetch_get_hkindex_list\n",
    "QA.QA_fetch_get_hkindex_min\n",
    "QA.QA_fetch_get_hkstock_day\n",
    "QA.QA_fetch_get_hkstock_list\n",
    "QA.QA_fetch_get_hkstock_min\n",
    "```"
   ]
  },
  {
   "cell_type": "code",
   "execution_count": 3,
   "metadata": {},
   "outputs": [],
   "source": [
    "?QA.*hk*"
   ]
  },
  {
   "cell_type": "code",
   "execution_count": 5,
   "metadata": {},
   "outputs": [
    {
     "name": "stderr",
     "output_type": "stream",
     "text": [
      "QUANTAXIS>> Selecting the Best Server IP of TDX\n"
     ]
    },
    {
     "name": "stdout",
     "output_type": "stream",
     "text": [
      "USING DEFAULT STOCK IP\n",
      "USING DEFAULT FUTURE IP\n"
     ]
    },
    {
     "name": "stderr",
     "output_type": "stream",
     "text": [
      "QUANTAXIS>> === The BEST SERVER ===\n",
      " stock_ip 60.191.117.167 future_ip 59.175.238.38\n"
     ]
    }
   ],
   "source": [
    "hkstock_list = QA.QA_fetch_get_hkstock_list('tdx')"
   ]
  },
  {
   "cell_type": "code",
   "execution_count": 6,
   "metadata": {},
   "outputs": [
    {
     "data": {
      "text/html": [
       "<div>\n",
       "<style scoped>\n",
       "    .dataframe tbody tr th:only-of-type {\n",
       "        vertical-align: middle;\n",
       "    }\n",
       "\n",
       "    .dataframe tbody tr th {\n",
       "        vertical-align: top;\n",
       "    }\n",
       "\n",
       "    .dataframe thead th {\n",
       "        text-align: right;\n",
       "    }\n",
       "</style>\n",
       "<table border=\"1\" class=\"dataframe\">\n",
       "  <thead>\n",
       "    <tr style=\"text-align: right;\">\n",
       "      <th></th>\n",
       "      <th>category</th>\n",
       "      <th>market</th>\n",
       "      <th>code</th>\n",
       "      <th>name</th>\n",
       "      <th>desc</th>\n",
       "    </tr>\n",
       "    <tr>\n",
       "      <th>code</th>\n",
       "      <th></th>\n",
       "      <th></th>\n",
       "      <th></th>\n",
       "      <th></th>\n",
       "      <th></th>\n",
       "    </tr>\n",
       "  </thead>\n",
       "  <tbody>\n",
       "    <tr>\n",
       "      <th>08220</th>\n",
       "      <td>2</td>\n",
       "      <td>48</td>\n",
       "      <td>08220</td>\n",
       "      <td>比高集团</td>\n",
       "      <td>08220</td>\n",
       "    </tr>\n",
       "    <tr>\n",
       "      <th>08221</th>\n",
       "      <td>2</td>\n",
       "      <td>48</td>\n",
       "      <td>08221</td>\n",
       "      <td>PF GROUP</td>\n",
       "      <td>08221</td>\n",
       "    </tr>\n",
       "    <tr>\n",
       "      <th>08222</th>\n",
       "      <td>2</td>\n",
       "      <td>48</td>\n",
       "      <td>08222</td>\n",
       "      <td>壹照明</td>\n",
       "      <td>08222</td>\n",
       "    </tr>\n",
       "    <tr>\n",
       "      <th>08223</th>\n",
       "      <td>2</td>\n",
       "      <td>48</td>\n",
       "      <td>08223</td>\n",
       "      <td>紫元元</td>\n",
       "      <td>08223</td>\n",
       "    </tr>\n",
       "    <tr>\n",
       "      <th>08225</th>\n",
       "      <td>2</td>\n",
       "      <td>48</td>\n",
       "      <td>08225</td>\n",
       "      <td>中国医疗集团</td>\n",
       "      <td>08225</td>\n",
       "    </tr>\n",
       "  </tbody>\n",
       "</table>\n",
       "</div>"
      ],
      "text/plain": [
       "       category  market   code      name   desc\n",
       "code                                           \n",
       "08220         2      48  08220      比高集团  08220\n",
       "08221         2      48  08221  PF GROUP  08221\n",
       "08222         2      48  08222       壹照明  08222\n",
       "08223         2      48  08223       紫元元  08223\n",
       "08225         2      48  08225    中国医疗集团  08225"
      ]
     },
     "execution_count": 6,
     "metadata": {},
     "output_type": "execute_result"
    }
   ],
   "source": [
    "hkstock_list.head()"
   ]
  },
  {
   "cell_type": "code",
   "execution_count": 7,
   "metadata": {},
   "outputs": [],
   "source": [
    "QA.QA_fetch_get_hkindex_list??"
   ]
  },
  {
   "cell_type": "code",
   "execution_count": 8,
   "metadata": {},
   "outputs": [],
   "source": [
    "trade_calendar = QA.trade_date_sse"
   ]
  },
  {
   "cell_type": "code",
   "execution_count": 9,
   "metadata": {},
   "outputs": [
    {
     "data": {
      "text/plain": [
       "['2018-12-18',\n",
       " '2018-12-19',\n",
       " '2018-12-20',\n",
       " '2018-12-21',\n",
       " '2018-12-24',\n",
       " '2018-12-25',\n",
       " '2018-12-26',\n",
       " '2018-12-27',\n",
       " '2018-12-28',\n",
       " '2018-12-31']"
      ]
     },
     "execution_count": 9,
     "metadata": {},
     "output_type": "execute_result"
    }
   ],
   "source": [
    "trade_calendar[-10:]"
   ]
  },
  {
   "cell_type": "code",
   "execution_count": 11,
   "metadata": {},
   "outputs": [],
   "source": [
    "temp = QA.QA_fetch_stock_min_adv('600621', '2017-12-06', '2017-12-06', frequence='5min')"
   ]
  },
  {
   "cell_type": "code",
   "execution_count": 12,
   "metadata": {},
   "outputs": [
    {
     "data": {
      "text/html": [
       "<div>\n",
       "<style scoped>\n",
       "    .dataframe tbody tr th:only-of-type {\n",
       "        vertical-align: middle;\n",
       "    }\n",
       "\n",
       "    .dataframe tbody tr th {\n",
       "        vertical-align: top;\n",
       "    }\n",
       "\n",
       "    .dataframe thead th {\n",
       "        text-align: right;\n",
       "    }\n",
       "</style>\n",
       "<table border=\"1\" class=\"dataframe\">\n",
       "  <thead>\n",
       "    <tr style=\"text-align: right;\">\n",
       "      <th></th>\n",
       "      <th></th>\n",
       "      <th>open</th>\n",
       "      <th>high</th>\n",
       "      <th>low</th>\n",
       "      <th>close</th>\n",
       "      <th>volume</th>\n",
       "      <th>amount</th>\n",
       "      <th>type</th>\n",
       "      <th>high_limit</th>\n",
       "      <th>low_limit</th>\n",
       "    </tr>\n",
       "    <tr>\n",
       "      <th>datetime</th>\n",
       "      <th>code</th>\n",
       "      <th></th>\n",
       "      <th></th>\n",
       "      <th></th>\n",
       "      <th></th>\n",
       "      <th></th>\n",
       "      <th></th>\n",
       "      <th></th>\n",
       "      <th></th>\n",
       "      <th></th>\n",
       "    </tr>\n",
       "  </thead>\n",
       "  <tbody>\n",
       "    <tr>\n",
       "      <th>2017-12-06 14:40:00</th>\n",
       "      <th>600621</th>\n",
       "      <td>13.59</td>\n",
       "      <td>13.72</td>\n",
       "      <td>13.59</td>\n",
       "      <td>13.72</td>\n",
       "      <td>515100.0</td>\n",
       "      <td>7022672.0</td>\n",
       "      <td>5min</td>\n",
       "      <td>14.96</td>\n",
       "      <td>12.24</td>\n",
       "    </tr>\n",
       "    <tr>\n",
       "      <th>2017-12-06 14:45:00</th>\n",
       "      <th>600621</th>\n",
       "      <td>13.70</td>\n",
       "      <td>13.75</td>\n",
       "      <td>13.67</td>\n",
       "      <td>13.72</td>\n",
       "      <td>579600.0</td>\n",
       "      <td>7949392.0</td>\n",
       "      <td>5min</td>\n",
       "      <td>15.09</td>\n",
       "      <td>12.35</td>\n",
       "    </tr>\n",
       "    <tr>\n",
       "      <th>2017-12-06 14:50:00</th>\n",
       "      <th>600621</th>\n",
       "      <td>13.72</td>\n",
       "      <td>13.83</td>\n",
       "      <td>13.72</td>\n",
       "      <td>13.76</td>\n",
       "      <td>1058800.0</td>\n",
       "      <td>14589712.0</td>\n",
       "      <td>5min</td>\n",
       "      <td>15.09</td>\n",
       "      <td>12.35</td>\n",
       "    </tr>\n",
       "    <tr>\n",
       "      <th>2017-12-06 14:55:00</th>\n",
       "      <th>600621</th>\n",
       "      <td>13.76</td>\n",
       "      <td>13.77</td>\n",
       "      <td>13.69</td>\n",
       "      <td>13.77</td>\n",
       "      <td>861600.0</td>\n",
       "      <td>11840096.0</td>\n",
       "      <td>5min</td>\n",
       "      <td>15.14</td>\n",
       "      <td>12.38</td>\n",
       "    </tr>\n",
       "    <tr>\n",
       "      <th>2017-12-06 15:00:00</th>\n",
       "      <th>600621</th>\n",
       "      <td>13.77</td>\n",
       "      <td>13.94</td>\n",
       "      <td>13.75</td>\n",
       "      <td>13.88</td>\n",
       "      <td>1447000.0</td>\n",
       "      <td>20037984.0</td>\n",
       "      <td>5min</td>\n",
       "      <td>15.15</td>\n",
       "      <td>12.39</td>\n",
       "    </tr>\n",
       "  </tbody>\n",
       "</table>\n",
       "</div>"
      ],
      "text/plain": [
       "                             open   high    low  close     volume      amount  \\\n",
       "datetime            code                                                        \n",
       "2017-12-06 14:40:00 600621  13.59  13.72  13.59  13.72   515100.0   7022672.0   \n",
       "2017-12-06 14:45:00 600621  13.70  13.75  13.67  13.72   579600.0   7949392.0   \n",
       "2017-12-06 14:50:00 600621  13.72  13.83  13.72  13.76  1058800.0  14589712.0   \n",
       "2017-12-06 14:55:00 600621  13.76  13.77  13.69  13.77   861600.0  11840096.0   \n",
       "2017-12-06 15:00:00 600621  13.77  13.94  13.75  13.88  1447000.0  20037984.0   \n",
       "\n",
       "                            type  high_limit  low_limit  \n",
       "datetime            code                                 \n",
       "2017-12-06 14:40:00 600621  5min       14.96      12.24  \n",
       "2017-12-06 14:45:00 600621  5min       15.09      12.35  \n",
       "2017-12-06 14:50:00 600621  5min       15.09      12.35  \n",
       "2017-12-06 14:55:00 600621  5min       15.14      12.38  \n",
       "2017-12-06 15:00:00 600621  5min       15.15      12.39  "
      ]
     },
     "execution_count": 12,
     "metadata": {},
     "output_type": "execute_result"
    }
   ],
   "source": [
    "temp.data.tail()"
   ]
  },
  {
   "cell_type": "code",
   "execution_count": null,
   "metadata": {},
   "outputs": [],
   "source": []
  },
  {
   "cell_type": "code",
   "execution_count": null,
   "metadata": {},
   "outputs": [],
   "source": []
  }
 ],
 "metadata": {
  "kernelspec": {
   "display_name": "Python (quant)",
   "language": "python",
   "name": "quant"
  },
  "language_info": {
   "codemirror_mode": {
    "name": "ipython",
    "version": 3
   },
   "file_extension": ".py",
   "mimetype": "text/x-python",
   "name": "python",
   "nbconvert_exporter": "python",
   "pygments_lexer": "ipython3",
   "version": "3.6.6"
  },
  "toc": {
   "base_numbering": 1,
   "nav_menu": {},
   "number_sections": true,
   "sideBar": true,
   "skip_h1_title": false,
   "title_cell": "Table of Contents",
   "title_sidebar": "Contents",
   "toc_cell": false,
   "toc_position": {},
   "toc_section_display": true,
   "toc_window_display": false
  },
  "varInspector": {
   "cols": {
    "lenName": 16,
    "lenType": 16,
    "lenVar": 40
   },
   "kernels_config": {
    "python": {
     "delete_cmd_postfix": "",
     "delete_cmd_prefix": "del ",
     "library": "var_list.py",
     "varRefreshCmd": "print(var_dic_list())"
    },
    "r": {
     "delete_cmd_postfix": ") ",
     "delete_cmd_prefix": "rm(",
     "library": "var_list.r",
     "varRefreshCmd": "cat(var_dic_list()) "
    }
   },
   "types_to_exclude": [
    "module",
    "function",
    "builtin_function_or_method",
    "instance",
    "_Feature"
   ],
   "window_display": false
  }
 },
 "nbformat": 4,
 "nbformat_minor": 2
}
