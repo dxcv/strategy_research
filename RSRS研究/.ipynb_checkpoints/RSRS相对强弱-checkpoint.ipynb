{
 "cells": [
  {
   "cell_type": "code",
   "execution_count": 1,
   "metadata": {},
   "outputs": [],
   "source": [
    "%load_ext autoreload\n",
    "%autoreload 2"
   ]
  },
  {
   "cell_type": "code",
   "execution_count": 2,
   "metadata": {},
   "outputs": [],
   "source": [
    "import numpy as np\n",
    "import pandas as pd\n",
    "import matplotlib.pyplot as plt\n",
    "import seaborn as sns\n",
    "import statsmodels.api as sm\n",
    "import QUANTAXIS as QA\n",
    "import talib as ta\n",
    "import datetime, time"
   ]
  },
  {
   "cell_type": "code",
   "execution_count": 3,
   "metadata": {},
   "outputs": [],
   "source": [
    "plt.rcParams['figure.figsize'] = [12, 8]\n",
    "plt.rcParams['image.interpolation'] = 'nearest'\n",
    "plt.rcParams['image.cmap'] = 'gray'\n",
    "plt.style.use('ggplot')"
   ]
  },
  {
   "cell_type": "code",
   "execution_count": 4,
   "metadata": {},
   "outputs": [],
   "source": [
    "code = '000300'"
   ]
  },
  {
   "cell_type": "code",
   "execution_count": 5,
   "metadata": {},
   "outputs": [],
   "source": [
    "start = '1990-01-01'\n",
    "end = datetime.datetime.today().strftime('%Y-%m-%d')"
   ]
  },
  {
   "cell_type": "code",
   "execution_count": 6,
   "metadata": {},
   "outputs": [],
   "source": [
    "data = QA.QA_fetch_index_day_adv(code, start, end)"
   ]
  },
  {
   "cell_type": "code",
   "execution_count": 14,
   "metadata": {},
   "outputs": [
    {
     "data": {
      "text/html": [
       "<div>\n",
       "<style scoped>\n",
       "    .dataframe tbody tr th:only-of-type {\n",
       "        vertical-align: middle;\n",
       "    }\n",
       "\n",
       "    .dataframe tbody tr th {\n",
       "        vertical-align: top;\n",
       "    }\n",
       "\n",
       "    .dataframe thead th {\n",
       "        text-align: right;\n",
       "    }\n",
       "</style>\n",
       "<table border=\"1\" class=\"dataframe\">\n",
       "  <thead>\n",
       "    <tr style=\"text-align: right;\">\n",
       "      <th></th>\n",
       "      <th></th>\n",
       "      <th>amount</th>\n",
       "      <th>close</th>\n",
       "      <th>date_stamp</th>\n",
       "      <th>down_count</th>\n",
       "      <th>high</th>\n",
       "      <th>low</th>\n",
       "      <th>open</th>\n",
       "      <th>up_count</th>\n",
       "      <th>vol</th>\n",
       "      <th>volume</th>\n",
       "    </tr>\n",
       "    <tr>\n",
       "      <th>date</th>\n",
       "      <th>code</th>\n",
       "      <th></th>\n",
       "      <th></th>\n",
       "      <th></th>\n",
       "      <th></th>\n",
       "      <th></th>\n",
       "      <th></th>\n",
       "      <th></th>\n",
       "      <th></th>\n",
       "      <th></th>\n",
       "      <th></th>\n",
       "    </tr>\n",
       "  </thead>\n",
       "  <tbody>\n",
       "    <tr>\n",
       "      <th>2005-01-04</th>\n",
       "      <th>000300</th>\n",
       "      <td>4.431976e+09</td>\n",
       "      <td>982.79</td>\n",
       "      <td>1.104768e+09</td>\n",
       "      <td>0</td>\n",
       "      <td>994.76</td>\n",
       "      <td>980.65</td>\n",
       "      <td>994.76</td>\n",
       "      <td>0</td>\n",
       "      <td>74128.0</td>\n",
       "      <td>74128.0</td>\n",
       "    </tr>\n",
       "    <tr>\n",
       "      <th>2005-01-05</th>\n",
       "      <th>000300</th>\n",
       "      <td>4.529207e+09</td>\n",
       "      <td>992.56</td>\n",
       "      <td>1.104854e+09</td>\n",
       "      <td>0</td>\n",
       "      <td>997.32</td>\n",
       "      <td>979.87</td>\n",
       "      <td>981.57</td>\n",
       "      <td>0</td>\n",
       "      <td>71191.0</td>\n",
       "      <td>71191.0</td>\n",
       "    </tr>\n",
       "    <tr>\n",
       "      <th>2005-01-06</th>\n",
       "      <th>000300</th>\n",
       "      <td>3.921015e+09</td>\n",
       "      <td>983.17</td>\n",
       "      <td>1.104941e+09</td>\n",
       "      <td>0</td>\n",
       "      <td>993.78</td>\n",
       "      <td>980.33</td>\n",
       "      <td>993.33</td>\n",
       "      <td>0</td>\n",
       "      <td>62880.0</td>\n",
       "      <td>62880.0</td>\n",
       "    </tr>\n",
       "    <tr>\n",
       "      <th>2005-01-07</th>\n",
       "      <th>000300</th>\n",
       "      <td>4.737468e+09</td>\n",
       "      <td>983.95</td>\n",
       "      <td>1.105027e+09</td>\n",
       "      <td>0</td>\n",
       "      <td>995.71</td>\n",
       "      <td>979.81</td>\n",
       "      <td>983.04</td>\n",
       "      <td>0</td>\n",
       "      <td>72986.0</td>\n",
       "      <td>72986.0</td>\n",
       "    </tr>\n",
       "    <tr>\n",
       "      <th>2005-01-10</th>\n",
       "      <th>000300</th>\n",
       "      <td>3.762931e+09</td>\n",
       "      <td>993.87</td>\n",
       "      <td>1.105286e+09</td>\n",
       "      <td>0</td>\n",
       "      <td>993.95</td>\n",
       "      <td>979.78</td>\n",
       "      <td>983.76</td>\n",
       "      <td>0</td>\n",
       "      <td>57916.0</td>\n",
       "      <td>57916.0</td>\n",
       "    </tr>\n",
       "  </tbody>\n",
       "</table>\n",
       "</div>"
      ],
      "text/plain": [
       "                         amount   close    date_stamp  down_count    high  \\\n",
       "date       code                                                             \n",
       "2005-01-04 000300  4.431976e+09  982.79  1.104768e+09           0  994.76   \n",
       "2005-01-05 000300  4.529207e+09  992.56  1.104854e+09           0  997.32   \n",
       "2005-01-06 000300  3.921015e+09  983.17  1.104941e+09           0  993.78   \n",
       "2005-01-07 000300  4.737468e+09  983.95  1.105027e+09           0  995.71   \n",
       "2005-01-10 000300  3.762931e+09  993.87  1.105286e+09           0  993.95   \n",
       "\n",
       "                      low    open  up_count      vol   volume  \n",
       "date       code                                                \n",
       "2005-01-04 000300  980.65  994.76         0  74128.0  74128.0  \n",
       "2005-01-05 000300  979.87  981.57         0  71191.0  71191.0  \n",
       "2005-01-06 000300  980.33  993.33         0  62880.0  62880.0  \n",
       "2005-01-07 000300  979.81  983.04         0  72986.0  72986.0  \n",
       "2005-01-10 000300  979.78  983.76         0  57916.0  57916.0  "
      ]
     },
     "execution_count": 14,
     "metadata": {},
     "output_type": "execute_result"
    }
   ],
   "source": [
    "data.data.head()"
   ]
  },
  {
   "cell_type": "code",
   "execution_count": 17,
   "metadata": {},
   "outputs": [
    {
     "data": {
      "text/plain": [
       "Timestamp('2019-03-29 00:00:00')"
      ]
     },
     "execution_count": 17,
     "metadata": {},
     "output_type": "execute_result"
    }
   ],
   "source": [
    "data.data.index.get_level_values(0)[-1]"
   ]
  },
  {
   "cell_type": "code",
   "execution_count": 18,
   "metadata": {},
   "outputs": [],
   "source": [
    "def trailing_rsrs(df, N=18):\n",
    "    df.rolling()\n",
    "    high = high.values\n",
    "    low = low.values\n",
    "    X = sm.add_constant(low)\n",
    "    model = sm.OLS(high, X)\n",
    "    result_fit = model.fit()\n",
    "    beta = result_fit.params[1]\n",
    "    beta_adj = result_fit.rsquared\n",
    "    res = pd.DataFrame(\n",
    "        {\n",
    "            'beta':beta,\n",
    "            'beta_adj':beta_adj\n",
    "        }, index = df.index\n",
    "    )"
   ]
  },
  {
   "cell_type": "code",
   "execution_count": null,
   "metadata": {},
   "outputs": [],
   "source": [
    "data.add_func()"
   ]
  },
  {
   "cell_type": "code",
   "execution_count": null,
   "metadata": {},
   "outputs": [],
   "source": []
  },
  {
   "cell_type": "code",
   "execution_count": null,
   "metadata": {},
   "outputs": [],
   "source": []
  },
  {
   "cell_type": "code",
   "execution_count": null,
   "metadata": {},
   "outputs": [],
   "source": []
  },
  {
   "cell_type": "code",
   "execution_count": null,
   "metadata": {},
   "outputs": [],
   "source": []
  },
  {
   "cell_type": "code",
   "execution_count": null,
   "metadata": {},
   "outputs": [],
   "source": []
  },
  {
   "cell_type": "code",
   "execution_count": null,
   "metadata": {},
   "outputs": [],
   "source": []
  },
  {
   "cell_type": "code",
   "execution_count": null,
   "metadata": {},
   "outputs": [],
   "source": []
  }
 ],
 "metadata": {
  "kernelspec": {
   "display_name": "Python 3",
   "language": "python",
   "name": "python3"
  },
  "language_info": {
   "codemirror_mode": {
    "name": "ipython",
    "version": 3
   },
   "file_extension": ".py",
   "mimetype": "text/x-python",
   "name": "python",
   "nbconvert_exporter": "python",
   "pygments_lexer": "ipython3",
   "version": "3.6.5"
  },
  "toc": {
   "base_numbering": 1,
   "nav_menu": {},
   "number_sections": true,
   "sideBar": true,
   "skip_h1_title": false,
   "title_cell": "Table of Contents",
   "title_sidebar": "Contents",
   "toc_cell": false,
   "toc_position": {},
   "toc_section_display": true,
   "toc_window_display": false
  },
  "varInspector": {
   "cols": {
    "lenName": 16,
    "lenType": 16,
    "lenVar": 40
   },
   "kernels_config": {
    "python": {
     "delete_cmd_postfix": "",
     "delete_cmd_prefix": "del ",
     "library": "var_list.py",
     "varRefreshCmd": "print(var_dic_list())"
    },
    "r": {
     "delete_cmd_postfix": ") ",
     "delete_cmd_prefix": "rm(",
     "library": "var_list.r",
     "varRefreshCmd": "cat(var_dic_list()) "
    }
   },
   "types_to_exclude": [
    "module",
    "function",
    "builtin_function_or_method",
    "instance",
    "_Feature"
   ],
   "window_display": false
  }
 },
 "nbformat": 4,
 "nbformat_minor": 2
}
