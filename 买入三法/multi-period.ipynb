{
 "cells": [
  {
   "cell_type": "code",
   "execution_count": 1,
   "metadata": {},
   "outputs": [],
   "source": [
    "import numpy as np\n",
    "import pandas as pd\n",
    "import matplotlib.pyplot as plt\n",
    "import seaborn as sns\n",
    "# import statsmodels.api as sm\n",
    "import QUANTAXIS as QA\n",
    "import talib as ta\n",
    "import datetime #, time"
   ]
  },
  {
   "cell_type": "code",
   "execution_count": 2,
   "metadata": {},
   "outputs": [],
   "source": [
    "plt.rcParams['figure.figsize'] = [12, 8]\n",
    "plt.rcParams['image.interpolation'] = 'nearest'\n",
    "plt.rcParams['image.cmap'] = 'gray'\n",
    "plt.style.use('ggplot')"
   ]
  },
  {
   "cell_type": "code",
   "execution_count": 3,
   "metadata": {},
   "outputs": [],
   "source": [
    "code = '002366'"
   ]
  },
  {
   "cell_type": "markdown",
   "metadata": {},
   "source": [
    "我们需要试一下在1分钟，5分钟，30分钟，60分钟，120分钟，日k的数据"
   ]
  },
  {
   "cell_type": "markdown",
   "metadata": {},
   "source": [
    "因为只能取到最近2万根bar的数据\n",
    "\n",
    "先看看一天有多少根1分钟的数据\n",
    "\n",
    "20000 / (60 * 4)"
   ]
  },
  {
   "cell_type": "code",
   "execution_count": 4,
   "metadata": {},
   "outputs": [
    {
     "data": {
      "text/plain": [
       "83.33333333333333"
      ]
     },
     "execution_count": 4,
     "metadata": {},
     "output_type": "execute_result"
    }
   ],
   "source": [
    "20000 / (60 * 4)"
   ]
  },
  {
   "cell_type": "code",
   "execution_count": 5,
   "metadata": {},
   "outputs": [],
   "source": [
    "start = '2018-07-01'\n",
    "end = '2018-12-14'"
   ]
  },
  {
   "cell_type": "code",
   "execution_count": 6,
   "metadata": {},
   "outputs": [
    {
     "name": "stderr",
     "output_type": "stream",
     "text": [
      "QUANTAXIS>> Selecting the Best Server IP of TDX\n"
     ]
    },
    {
     "name": "stdout",
     "output_type": "stream",
     "text": [
      "USING DEFAULT STOCK IP\n",
      "USING DEFAULT FUTURE IP\n"
     ]
    },
    {
     "name": "stderr",
     "output_type": "stream",
     "text": [
      "QUANTAXIS>> === The BEST SERVER ===\n",
      " stock_ip 60.191.117.167 future_ip 202.103.36.71\n"
     ]
    }
   ],
   "source": [
    "data = QA.QA_fetch_get_stock_min('tdx', code, start, end)"
   ]
  },
  {
   "cell_type": "code",
   "execution_count": 7,
   "metadata": {},
   "outputs": [
    {
     "data": {
      "text/html": [
       "<div>\n",
       "<style scoped>\n",
       "    .dataframe tbody tr th:only-of-type {\n",
       "        vertical-align: middle;\n",
       "    }\n",
       "\n",
       "    .dataframe tbody tr th {\n",
       "        vertical-align: top;\n",
       "    }\n",
       "\n",
       "    .dataframe thead th {\n",
       "        text-align: right;\n",
       "    }\n",
       "</style>\n",
       "<table border=\"1\" class=\"dataframe\">\n",
       "  <thead>\n",
       "    <tr style=\"text-align: right;\">\n",
       "      <th></th>\n",
       "      <th>open</th>\n",
       "      <th>close</th>\n",
       "      <th>high</th>\n",
       "      <th>low</th>\n",
       "      <th>vol</th>\n",
       "      <th>amount</th>\n",
       "      <th>datetime</th>\n",
       "      <th>code</th>\n",
       "      <th>date</th>\n",
       "      <th>date_stamp</th>\n",
       "      <th>time_stamp</th>\n",
       "      <th>type</th>\n",
       "    </tr>\n",
       "    <tr>\n",
       "      <th>datetime</th>\n",
       "      <th></th>\n",
       "      <th></th>\n",
       "      <th></th>\n",
       "      <th></th>\n",
       "      <th></th>\n",
       "      <th></th>\n",
       "      <th></th>\n",
       "      <th></th>\n",
       "      <th></th>\n",
       "      <th></th>\n",
       "      <th></th>\n",
       "      <th></th>\n",
       "    </tr>\n",
       "  </thead>\n",
       "  <tbody>\n",
       "    <tr>\n",
       "      <th>2018-08-03 10:31:00</th>\n",
       "      <td>12.92</td>\n",
       "      <td>12.88</td>\n",
       "      <td>12.92</td>\n",
       "      <td>12.88</td>\n",
       "      <td>54300.0</td>\n",
       "      <td>700054.000000</td>\n",
       "      <td>2018-08-03 10:31:00</td>\n",
       "      <td>002366</td>\n",
       "      <td>2018-08-03</td>\n",
       "      <td>1.533226e+09</td>\n",
       "      <td>1.533263e+09</td>\n",
       "      <td>1min</td>\n",
       "    </tr>\n",
       "    <tr>\n",
       "      <th>2018-08-03 10:32:00</th>\n",
       "      <td>12.87</td>\n",
       "      <td>12.87</td>\n",
       "      <td>12.88</td>\n",
       "      <td>12.86</td>\n",
       "      <td>7900.0</td>\n",
       "      <td>101669.015625</td>\n",
       "      <td>2018-08-03 10:32:00</td>\n",
       "      <td>002366</td>\n",
       "      <td>2018-08-03</td>\n",
       "      <td>1.533226e+09</td>\n",
       "      <td>1.533264e+09</td>\n",
       "      <td>1min</td>\n",
       "    </tr>\n",
       "    <tr>\n",
       "      <th>2018-08-03 10:33:00</th>\n",
       "      <td>12.86</td>\n",
       "      <td>12.89</td>\n",
       "      <td>12.90</td>\n",
       "      <td>12.86</td>\n",
       "      <td>10300.0</td>\n",
       "      <td>132781.000000</td>\n",
       "      <td>2018-08-03 10:33:00</td>\n",
       "      <td>002366</td>\n",
       "      <td>2018-08-03</td>\n",
       "      <td>1.533226e+09</td>\n",
       "      <td>1.533264e+09</td>\n",
       "      <td>1min</td>\n",
       "    </tr>\n",
       "    <tr>\n",
       "      <th>2018-08-03 10:34:00</th>\n",
       "      <td>12.90</td>\n",
       "      <td>12.89</td>\n",
       "      <td>12.90</td>\n",
       "      <td>12.89</td>\n",
       "      <td>12000.0</td>\n",
       "      <td>154726.000000</td>\n",
       "      <td>2018-08-03 10:34:00</td>\n",
       "      <td>002366</td>\n",
       "      <td>2018-08-03</td>\n",
       "      <td>1.533226e+09</td>\n",
       "      <td>1.533264e+09</td>\n",
       "      <td>1min</td>\n",
       "    </tr>\n",
       "    <tr>\n",
       "      <th>2018-08-03 10:35:00</th>\n",
       "      <td>12.91</td>\n",
       "      <td>12.91</td>\n",
       "      <td>12.92</td>\n",
       "      <td>12.91</td>\n",
       "      <td>30100.0</td>\n",
       "      <td>388594.000000</td>\n",
       "      <td>2018-08-03 10:35:00</td>\n",
       "      <td>002366</td>\n",
       "      <td>2018-08-03</td>\n",
       "      <td>1.533226e+09</td>\n",
       "      <td>1.533264e+09</td>\n",
       "      <td>1min</td>\n",
       "    </tr>\n",
       "  </tbody>\n",
       "</table>\n",
       "</div>"
      ],
      "text/plain": [
       "                      open  close   high    low      vol         amount  \\\n",
       "datetime                                                                  \n",
       "2018-08-03 10:31:00  12.92  12.88  12.92  12.88  54300.0  700054.000000   \n",
       "2018-08-03 10:32:00  12.87  12.87  12.88  12.86   7900.0  101669.015625   \n",
       "2018-08-03 10:33:00  12.86  12.89  12.90  12.86  10300.0  132781.000000   \n",
       "2018-08-03 10:34:00  12.90  12.89  12.90  12.89  12000.0  154726.000000   \n",
       "2018-08-03 10:35:00  12.91  12.91  12.92  12.91  30100.0  388594.000000   \n",
       "\n",
       "                                datetime    code        date    date_stamp  \\\n",
       "datetime                                                                     \n",
       "2018-08-03 10:31:00  2018-08-03 10:31:00  002366  2018-08-03  1.533226e+09   \n",
       "2018-08-03 10:32:00  2018-08-03 10:32:00  002366  2018-08-03  1.533226e+09   \n",
       "2018-08-03 10:33:00  2018-08-03 10:33:00  002366  2018-08-03  1.533226e+09   \n",
       "2018-08-03 10:34:00  2018-08-03 10:34:00  002366  2018-08-03  1.533226e+09   \n",
       "2018-08-03 10:35:00  2018-08-03 10:35:00  002366  2018-08-03  1.533226e+09   \n",
       "\n",
       "                       time_stamp  type  \n",
       "datetime                                 \n",
       "2018-08-03 10:31:00  1.533263e+09  1min  \n",
       "2018-08-03 10:32:00  1.533264e+09  1min  \n",
       "2018-08-03 10:33:00  1.533264e+09  1min  \n",
       "2018-08-03 10:34:00  1.533264e+09  1min  \n",
       "2018-08-03 10:35:00  1.533264e+09  1min  "
      ]
     },
     "execution_count": 7,
     "metadata": {},
     "output_type": "execute_result"
    }
   ],
   "source": [
    "data.head()"
   ]
  },
  {
   "cell_type": "code",
   "execution_count": null,
   "metadata": {},
   "outputs": [],
   "source": [
    "QA.QA_data_tick_resample()"
   ]
  }
 ],
 "metadata": {
  "kernelspec": {
   "display_name": "Python 3",
   "language": "python",
   "name": "python3"
  },
  "language_info": {
   "codemirror_mode": {
    "name": "ipython",
    "version": 3
   },
   "file_extension": ".py",
   "mimetype": "text/x-python",
   "name": "python",
   "nbconvert_exporter": "python",
   "pygments_lexer": "ipython3",
   "version": "3.6.5"
  },
  "toc": {
   "base_numbering": 1,
   "nav_menu": {},
   "number_sections": true,
   "sideBar": true,
   "skip_h1_title": false,
   "title_cell": "Table of Contents",
   "title_sidebar": "Contents",
   "toc_cell": false,
   "toc_position": {},
   "toc_section_display": true,
   "toc_window_display": false
  },
  "varInspector": {
   "cols": {
    "lenName": 16,
    "lenType": 16,
    "lenVar": 40
   },
   "kernels_config": {
    "python": {
     "delete_cmd_postfix": "",
     "delete_cmd_prefix": "del ",
     "library": "var_list.py",
     "varRefreshCmd": "print(var_dic_list())"
    },
    "r": {
     "delete_cmd_postfix": ") ",
     "delete_cmd_prefix": "rm(",
     "library": "var_list.r",
     "varRefreshCmd": "cat(var_dic_list()) "
    }
   },
   "types_to_exclude": [
    "module",
    "function",
    "builtin_function_or_method",
    "instance",
    "_Feature"
   ],
   "window_display": false
  }
 },
 "nbformat": 4,
 "nbformat_minor": 2
}
