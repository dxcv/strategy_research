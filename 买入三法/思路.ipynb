{
 "cells": [
  {
   "cell_type": "markdown",
   "metadata": {},
   "source": [
    "买入三法核心思想是什么\n",
    "\n",
    "- 买入条件:\n",
    "    1. 当日收盘价大于前10日收盘价的均值\n",
    "    2. 当日成交量大于前10日成交量的均值\n",
    "    3. stochastic算法下的kline和dline, 当日kline > 当日dline, 而前一日的kline < 前一日dline;\n",
    "\n",
    "- 卖出条件:\n",
    "    - 当日收盘价小于前20收盘价均值"
   ]
  },
  {
   "cell_type": "markdown",
   "metadata": {},
   "source": [
    "两种实现方式\n",
    "\n",
    "1. 当日计算指标，如果满足条件，次日以开盘价执行相关操作；\n",
    "2. 亦或者当日计算指标，但是成交量不能这么执行对吧"
   ]
  },
  {
   "cell_type": "markdown",
   "metadata": {},
   "source": [
    "以大盘的买入三法作为最外层进场和出场条件\n",
    "\n",
    "1. 当大盘满足买入条件之后，如果个股也开始满足条件，则开始买入(至于哪个好，可以再看);\n",
    "2. 当大盘未出现卖出条件的时候，个股则使用买入三法降低成本，比如使用其中2到3成仓位做t;\n",
    "3. 当大盘出现卖出条件时，个股如果最近出现的是减仓信号，则全部清仓；如果是加仓，则等待下一次个股减仓信号出现，进行全部清仓;"
   ]
  },
  {
   "cell_type": "code",
   "execution_count": 13,
   "metadata": {},
   "outputs": [],
   "source": [
    "import numpy as np\n",
    "import pandas as pd\n",
    "import matplotlib.pyplot as plt\n",
    "import seaborn as sns\n",
    "# import statsmodels.api as sm\n",
    "import QUANTAXIS as QA\n",
    "import talib as ta\n",
    "import datetime #, time"
   ]
  },
  {
   "cell_type": "code",
   "execution_count": 14,
   "metadata": {},
   "outputs": [],
   "source": [
    "plt.rcParams['figure.figsize'] = [12, 8]\n",
    "plt.rcParams['image.interpolation'] = 'nearest'\n",
    "plt.rcParams['image.cmap'] = 'gray'\n",
    "plt.style.use('ggplot')"
   ]
  },
  {
   "cell_type": "code",
   "execution_count": 15,
   "metadata": {},
   "outputs": [],
   "source": [
    "data = QA.QA_fetch_index_day_adv('000001', '1992-02-01', '2018-01-31')"
   ]
  },
  {
   "cell_type": "code",
   "execution_count": 16,
   "metadata": {},
   "outputs": [],
   "source": [
    "close = data.close"
   ]
  },
  {
   "cell_type": "code",
   "execution_count": 17,
   "metadata": {},
   "outputs": [],
   "source": [
    "volume = data.volume"
   ]
  },
  {
   "cell_type": "code",
   "execution_count": 18,
   "metadata": {},
   "outputs": [],
   "source": [
    "ind_kdj = QA.QA_indicator_KDJ(data)"
   ]
  },
  {
   "cell_type": "code",
   "execution_count": 19,
   "metadata": {
    "collapsed": true
   },
   "outputs": [
    {
     "data": {
      "text/plain": [
       "date        code  \n",
       "1992-02-17  000001    92.091049\n",
       "1992-02-18  000001    92.091049\n",
       "1992-02-19  000001    92.969822\n",
       "1992-02-20  000001    94.134843\n",
       "1992-02-21  000001    95.219171\n",
       "1992-02-24  000001    95.956918\n",
       "1992-02-25  000001    96.422487\n",
       "1992-02-26  000001    96.648063\n",
       "1992-02-27  000001    96.972096\n",
       "1992-02-28  000001    97.450070\n",
       "1992-03-02  000001    97.945828\n",
       "1992-03-03  000001    98.282580\n",
       "1992-03-04  000001    98.644976\n",
       "1992-03-05  000001    98.852514\n",
       "1992-03-06  000001    99.072252\n",
       "1992-03-09  000001    98.874829\n",
       "1992-03-10  000001    98.912105\n",
       "1992-03-11  000001    98.960982\n",
       "1992-03-12  000001    98.538723\n",
       "1992-03-13  000001    97.427848\n",
       "1992-03-16  000001    96.675874\n",
       "1992-03-17  000001    96.311330\n",
       "1992-03-18  000001    95.702465\n",
       "1992-03-19  000001    94.166781\n",
       "1992-03-20  000001    93.366907\n",
       "1992-03-23  000001    93.337908\n",
       "1992-03-24  000001    91.386681\n",
       "1992-03-25  000001    86.815917\n",
       "1992-03-26  000001    84.999786\n",
       "1992-03-27  000001    85.810787\n",
       "                        ...    \n",
       "2017-12-20  000001    41.434208\n",
       "2017-12-21  000001    44.996035\n",
       "2017-12-22  000001    48.784174\n",
       "2017-12-25  000001    50.071416\n",
       "2017-12-26  000001    55.009680\n",
       "2017-12-27  000001    55.221665\n",
       "2017-12-28  000001    57.247739\n",
       "2017-12-29  000001    61.724904\n",
       "2018-01-02  000001    67.873779\n",
       "2018-01-03  000001    73.142445\n",
       "2018-01-04  000001    77.855458\n",
       "2018-01-05  000001    81.581759\n",
       "2018-01-08  000001    85.042008\n",
       "2018-01-09  000001    88.000853\n",
       "2018-01-10  000001    90.089841\n",
       "2018-01-11  000001    91.726510\n",
       "2018-01-12  000001    92.780065\n",
       "2018-01-15  000001    90.391782\n",
       "2018-01-16  000001    89.547297\n",
       "2018-01-17  000001    87.648143\n",
       "2018-01-18  000001    87.959088\n",
       "2018-01-19  000001    88.255885\n",
       "2018-01-22  000001    89.476957\n",
       "2018-01-23  000001    91.133809\n",
       "2018-01-24  000001    92.190763\n",
       "2018-01-25  000001    92.009546\n",
       "2018-01-26  000001    91.739388\n",
       "2018-01-29  000001    87.991774\n",
       "2018-01-30  000001    79.701631\n",
       "2018-01-31  000001    69.353375\n",
       "Name: KDJ_D, Length: 6342, dtype: float64"
      ]
     },
     "execution_count": 19,
     "metadata": {},
     "output_type": "execute_result"
    }
   ],
   "source": [
    "ind_kdj.KDJ_D"
   ]
  },
  {
   "cell_type": "code",
   "execution_count": 19,
   "metadata": {
    "scrolled": true
   },
   "outputs": [],
   "source": [
    "ind = (QA.CROSS(ind_kdj.KDJ_K, ind_kdj.KDJ_D) & \\\n",
    "QA.CROSS(close, close.rolling(window=10).mean()) & \\\n",
    "QA.CROSS(volume, volume.rolling(window=10).mean()))"
   ]
  },
  {
   "cell_type": "code",
   "execution_count": 20,
   "metadata": {},
   "outputs": [],
   "source": [
    "def buy_3_methods(dataframe, short=10, long=20):\n",
    "    \"\"\"\n",
    "    1. kline上穿dline， close上穿close 10日均线，volume上穿volume10日均线, 买入信号参考;\n",
    "    \n",
    "    2. close下穿close 20日均线, 卖出信号参考;\n",
    "    \"\"\"\n",
    "    kdj = QA.QA_indicator_KDJ(dataframe)\n",
    "    close = dataframe.close\n",
    "    volume = dataframe.volume\n",
    "    buy_signal = (QA.CROSS(kdj.KDJ_K, kdj.KDJ_D) & \\\n",
    "                QA.CROSS(close, close.rolling(window=short).mean()) & \\\n",
    "                QA.CROSS(volume, volume.rolling(window=short).mean()))\n",
    "    sell_signal = (QA.CROSS(close.rolling(window=long).mean(), close))\n",
    "    return pd.DataFrame({'BUY':buy_signal.shift(-1).fillna(0).apply(int), \n",
    "                         'SELL':sell_signal.shift(-1).fillna(0).apply(int)})"
   ]
  },
  {
   "cell_type": "code",
   "execution_count": 21,
   "metadata": {},
   "outputs": [],
   "source": [
    "init_assets = 1e7"
   ]
  },
  {
   "cell_type": "code",
   "execution_count": 22,
   "metadata": {},
   "outputs": [],
   "source": [
    "ind = data.add_func(buy_3_methods)"
   ]
  },
  {
   "cell_type": "code",
   "execution_count": 23,
   "metadata": {
    "scrolled": true
   },
   "outputs": [
    {
     "data": {
      "text/plain": [
       "271"
      ]
     },
     "execution_count": 23,
     "metadata": {},
     "output_type": "execute_result"
    }
   ],
   "source": [
    "ind.xs('000001', level=1).SELL.sum()"
   ]
  },
  {
   "cell_type": "code",
   "execution_count": 24,
   "metadata": {},
   "outputs": [
    {
     "data": {
      "text/plain": [
       "Timestamp('1992-02-03 00:00:00')"
      ]
     },
     "execution_count": 24,
     "metadata": {},
     "output_type": "execute_result"
    }
   ],
   "source": [
    "data.date[0]"
   ]
  },
  {
   "cell_type": "code",
   "execution_count": 37,
   "metadata": {},
   "outputs": [],
   "source": [
    "cash = init_assets\n",
    "stock_holding_volume = {}\n",
    "history_table = pd.DataFrame()\n",
    "count = 0\n",
    "net_value = 1\n",
    "# daily_profit = pd.DataFrame()\n",
    "cum_profit = pd.DataFrame()\n",
    "position = pd.DataFrame()\n",
    "data_forbacktest = data.select_time('1992-02-01', '2018-01-31')\n",
    "for items in data_forbacktest.panel_gen:\n",
    "    for item in items.security_gen:\n",
    "        daily_ind = ind.loc[item.index]\n",
    "        _date = item.date[0]\n",
    "\n",
    "        if daily_ind.BUY.iloc[0] > 0:\n",
    "            code = item.code[0]\n",
    "    #         _date = item.date[0]\n",
    "            buy_price = item.open.iloc[0]\n",
    "            holding_volume = cash // buy_price // 100 * 100\n",
    "            try:\n",
    "                stock_holding_volume[code] += holding_volume\n",
    "            except:\n",
    "                stock_holding_volume[code] = holding_volume\n",
    "            cash -= holding_volume * buy_price\n",
    "\n",
    "            # 记录交割单\n",
    "            count += 1\n",
    "            _order = {'datetime':_date, 'code':code, 'price':buy_price,\n",
    "                     'amount':holding_volume, 'cash':cash}\n",
    "            temp = pd.DataFrame(data=_order, index=[count])\n",
    "            history_table = pd.concat([history_table, temp])\n",
    "\n",
    "        if daily_ind.SELL.iloc[0] > 0:\n",
    "            code = item.code[0]\n",
    "            _date = item.date[0]\n",
    "\n",
    "            if len(stock_holding_volume)>0:\n",
    "                sell_price = item.open.iloc[0]\n",
    "                holding_volume = stock_holding_volume[code]\n",
    "                cash += holding_volume * sell_price\n",
    "                stock_holding_volume.pop(code)\n",
    "\n",
    "                # 记录交割单\n",
    "                count += 1\n",
    "                _order = {'datetime':_date, 'code':code, 'price':sell_price,\n",
    "                         'amount':-1 * holding_volume, 'cash':cash}\n",
    "                temp = pd.DataFrame(data=_order, index=[count])\n",
    "                history_table = pd.concat([history_table, temp])\n",
    "\n",
    "        # 记录仓位/净值/每日利润/累计利润\n",
    "        if len(stock_holding_volume)>0:\n",
    "            holding_volume = stock_holding_volume[code]\n",
    "            holding_value = holding_volume * item.close.iloc[0]\n",
    "            cur_value = cash + holding_value\n",
    "            cur_profit = pd.Series(data=cur_value, index=[_date])\n",
    "            cum_profit = pd.concat([cum_profit, cur_profit])\n",
    "            cur_position = pd.Series(data=holding_value, index=[_date])\n",
    "            position = pd.concat([position, cur_position])\n",
    "        else:\n",
    "            cur_profit = pd.Series(data=cash, index=[_date])\n",
    "            cum_profit = pd.concat([cum_profit, cur_profit])\n",
    "            cur_position = pd.Series(data=0, index=[_date])\n",
    "            position = pd.concat([position, cur_position])"
   ]
  },
  {
   "cell_type": "code",
   "execution_count": 38,
   "metadata": {},
   "outputs": [
    {
     "data": {
      "image/png": "[encoded data removed]",
      "text/plain": [
       "<Figure size 864x576 with 1 Axes>"
      ]
     },
     "metadata": {},
     "output_type": "display_data"
    }
   ],
   "source": [
    "(cum_profit/init_assets).plot();"
   ]
  },
  {
   "cell_type": "code",
   "execution_count": 31,
   "metadata": {},
   "outputs": [
    {
     "data": {
      "text/html": [
       "<div>\n",
       "<style scoped>\n",
       "    .dataframe tbody tr th:only-of-type {\n",
       "        vertical-align: middle;\n",
       "    }\n",
       "\n",
       "    .dataframe tbody tr th {\n",
       "        vertical-align: top;\n",
       "    }\n",
       "\n",
       "    .dataframe thead th {\n",
       "        text-align: right;\n",
       "    }\n",
       "</style>\n",
       "<table border=\"1\" class=\"dataframe\">\n",
       "  <thead>\n",
       "    <tr style=\"text-align: right;\">\n",
       "      <th></th>\n",
       "      <th></th>\n",
       "      <th>open</th>\n",
       "      <th>high</th>\n",
       "      <th>low</th>\n",
       "      <th>close</th>\n",
       "      <th>up_count</th>\n",
       "      <th>down_count</th>\n",
       "      <th>volume</th>\n",
       "      <th>amount</th>\n",
       "    </tr>\n",
       "    <tr>\n",
       "      <th>date</th>\n",
       "      <th>code</th>\n",
       "      <th></th>\n",
       "      <th></th>\n",
       "      <th></th>\n",
       "      <th></th>\n",
       "      <th></th>\n",
       "      <th></th>\n",
       "      <th></th>\n",
       "      <th></th>\n",
       "    </tr>\n",
       "  </thead>\n",
       "  <tbody>\n",
       "    <tr>\n",
       "      <th>1992-02-03</th>\n",
       "      <th>000001</th>\n",
       "      <td>314.18</td>\n",
       "      <td>314.18</td>\n",
       "      <td>313.24</td>\n",
       "      <td>314.18</td>\n",
       "      <td>2</td>\n",
       "      <td>0</td>\n",
       "      <td>4098.0</td>\n",
       "      <td>583000.0</td>\n",
       "    </tr>\n",
       "    <tr>\n",
       "      <th>1992-02-07</th>\n",
       "      <th>000001</th>\n",
       "      <td>314.72</td>\n",
       "      <td>314.72</td>\n",
       "      <td>314.18</td>\n",
       "      <td>314.72</td>\n",
       "      <td>1</td>\n",
       "      <td>0</td>\n",
       "      <td>4098.0</td>\n",
       "      <td>527000.0</td>\n",
       "    </tr>\n",
       "    <tr>\n",
       "      <th>1992-02-10</th>\n",
       "      <th>000001</th>\n",
       "      <td>315.55</td>\n",
       "      <td>315.56</td>\n",
       "      <td>314.72</td>\n",
       "      <td>315.56</td>\n",
       "      <td>4</td>\n",
       "      <td>0</td>\n",
       "      <td>4098.0</td>\n",
       "      <td>586000.0</td>\n",
       "    </tr>\n",
       "    <tr>\n",
       "      <th>1992-02-11</th>\n",
       "      <th>000001</th>\n",
       "      <td>316.12</td>\n",
       "      <td>316.43</td>\n",
       "      <td>315.56</td>\n",
       "      <td>316.43</td>\n",
       "      <td>3</td>\n",
       "      <td>0</td>\n",
       "      <td>2.0</td>\n",
       "      <td>460000.0</td>\n",
       "    </tr>\n",
       "    <tr>\n",
       "      <th>1992-02-12</th>\n",
       "      <th>000001</th>\n",
       "      <td>316.43</td>\n",
       "      <td>316.44</td>\n",
       "      <td>316.43</td>\n",
       "      <td>316.44</td>\n",
       "      <td>1</td>\n",
       "      <td>0</td>\n",
       "      <td>2.0</td>\n",
       "      <td>397000.0</td>\n",
       "    </tr>\n",
       "  </tbody>\n",
       "</table>\n",
       "</div>"
      ],
      "text/plain": [
       "                     open    high     low   close  up_count  down_count  \\\n",
       "date       code                                                           \n",
       "1992-02-03 000001  314.18  314.18  313.24  314.18         2           0   \n",
       "1992-02-07 000001  314.72  314.72  314.18  314.72         1           0   \n",
       "1992-02-10 000001  315.55  315.56  314.72  315.56         4           0   \n",
       "1992-02-11 000001  316.12  316.43  315.56  316.43         3           0   \n",
       "1992-02-12 000001  316.43  316.44  316.43  316.44         1           0   \n",
       "\n",
       "                   volume    amount  \n",
       "date       code                      \n",
       "1992-02-03 000001  4098.0  583000.0  \n",
       "1992-02-07 000001  4098.0  527000.0  \n",
       "1992-02-10 000001  4098.0  586000.0  \n",
       "1992-02-11 000001     2.0  460000.0  \n",
       "1992-02-12 000001     2.0  397000.0  "
      ]
     },
     "execution_count": 31,
     "metadata": {},
     "output_type": "execute_result"
    }
   ],
   "source": [
    "data.data.head()"
   ]
  },
  {
   "cell_type": "code",
   "execution_count": 27,
   "metadata": {},
   "outputs": [
    {
     "data": {
      "text/html": [
       "<div>\n",
       "<style scoped>\n",
       "    .dataframe tbody tr th:only-of-type {\n",
       "        vertical-align: middle;\n",
       "    }\n",
       "\n",
       "    .dataframe tbody tr th {\n",
       "        vertical-align: top;\n",
       "    }\n",
       "\n",
       "    .dataframe thead th {\n",
       "        text-align: right;\n",
       "    }\n",
       "</style>\n",
       "<table border=\"1\" class=\"dataframe\">\n",
       "  <thead>\n",
       "    <tr style=\"text-align: right;\">\n",
       "      <th></th>\n",
       "      <th></th>\n",
       "      <th>open</th>\n",
       "      <th>high</th>\n",
       "      <th>low</th>\n",
       "      <th>close</th>\n",
       "      <th>up_count</th>\n",
       "      <th>down_count</th>\n",
       "      <th>volume</th>\n",
       "      <th>amount</th>\n",
       "    </tr>\n",
       "    <tr>\n",
       "      <th>date</th>\n",
       "      <th>code</th>\n",
       "      <th></th>\n",
       "      <th></th>\n",
       "      <th></th>\n",
       "      <th></th>\n",
       "      <th></th>\n",
       "      <th></th>\n",
       "      <th></th>\n",
       "      <th></th>\n",
       "    </tr>\n",
       "  </thead>\n",
       "  <tbody>\n",
       "    <tr>\n",
       "      <th>1992-02-03</th>\n",
       "      <th>000001</th>\n",
       "      <td>314.18</td>\n",
       "      <td>314.18</td>\n",
       "      <td>313.24</td>\n",
       "      <td>314.18</td>\n",
       "      <td>2</td>\n",
       "      <td>0</td>\n",
       "      <td>4098.0</td>\n",
       "      <td>583000.0</td>\n",
       "    </tr>\n",
       "    <tr>\n",
       "      <th>1992-02-07</th>\n",
       "      <th>000001</th>\n",
       "      <td>314.72</td>\n",
       "      <td>314.72</td>\n",
       "      <td>314.18</td>\n",
       "      <td>314.72</td>\n",
       "      <td>1</td>\n",
       "      <td>0</td>\n",
       "      <td>4098.0</td>\n",
       "      <td>527000.0</td>\n",
       "    </tr>\n",
       "    <tr>\n",
       "      <th>1992-02-10</th>\n",
       "      <th>000001</th>\n",
       "      <td>315.55</td>\n",
       "      <td>315.56</td>\n",
       "      <td>314.72</td>\n",
       "      <td>315.56</td>\n",
       "      <td>4</td>\n",
       "      <td>0</td>\n",
       "      <td>4098.0</td>\n",
       "      <td>586000.0</td>\n",
       "    </tr>\n",
       "    <tr>\n",
       "      <th>1992-02-11</th>\n",
       "      <th>000001</th>\n",
       "      <td>316.12</td>\n",
       "      <td>316.43</td>\n",
       "      <td>315.56</td>\n",
       "      <td>316.43</td>\n",
       "      <td>3</td>\n",
       "      <td>0</td>\n",
       "      <td>2.0</td>\n",
       "      <td>460000.0</td>\n",
       "    </tr>\n",
       "    <tr>\n",
       "      <th>1992-02-12</th>\n",
       "      <th>000001</th>\n",
       "      <td>316.43</td>\n",
       "      <td>316.44</td>\n",
       "      <td>316.43</td>\n",
       "      <td>316.44</td>\n",
       "      <td>1</td>\n",
       "      <td>0</td>\n",
       "      <td>2.0</td>\n",
       "      <td>397000.0</td>\n",
       "    </tr>\n",
       "    <tr>\n",
       "      <th>1992-02-13</th>\n",
       "      <th>000001</th>\n",
       "      <td>317.24</td>\n",
       "      <td>317.57</td>\n",
       "      <td>317.06</td>\n",
       "      <td>317.04</td>\n",
       "      <td>0</td>\n",
       "      <td>0</td>\n",
       "      <td>520.0</td>\n",
       "      <td>1680000.0</td>\n",
       "    </tr>\n",
       "    <tr>\n",
       "      <th>1992-02-14</th>\n",
       "      <th>000001</th>\n",
       "      <td>319.45</td>\n",
       "      <td>319.68</td>\n",
       "      <td>317.04</td>\n",
       "      <td>319.68</td>\n",
       "      <td>4</td>\n",
       "      <td>0</td>\n",
       "      <td>8194.0</td>\n",
       "      <td>770000.0</td>\n",
       "    </tr>\n",
       "    <tr>\n",
       "      <th>1992-02-17</th>\n",
       "      <th>000001</th>\n",
       "      <td>319.77</td>\n",
       "      <td>319.77</td>\n",
       "      <td>319.68</td>\n",
       "      <td>319.77</td>\n",
       "      <td>1</td>\n",
       "      <td>0</td>\n",
       "      <td>528.0</td>\n",
       "      <td>13782000.0</td>\n",
       "    </tr>\n",
       "    <tr>\n",
       "      <th>1992-02-18</th>\n",
       "      <th>000001</th>\n",
       "      <td>338.98</td>\n",
       "      <td>339.16</td>\n",
       "      <td>319.77</td>\n",
       "      <td>337.11</td>\n",
       "      <td>6</td>\n",
       "      <td>0</td>\n",
       "      <td>74.0</td>\n",
       "      <td>12655000.0</td>\n",
       "    </tr>\n",
       "    <tr>\n",
       "      <th>1992-02-19</th>\n",
       "      <th>000001</th>\n",
       "      <td>340.50</td>\n",
       "      <td>342.41</td>\n",
       "      <td>337.11</td>\n",
       "      <td>342.41</td>\n",
       "      <td>7</td>\n",
       "      <td>0</td>\n",
       "      <td>94.0</td>\n",
       "      <td>16501000.0</td>\n",
       "    </tr>\n",
       "  </tbody>\n",
       "</table>\n",
       "</div>"
      ],
      "text/plain": [
       "                     open    high     low   close  up_count  down_count  \\\n",
       "date       code                                                           \n",
       "1992-02-03 000001  314.18  314.18  313.24  314.18         2           0   \n",
       "1992-02-07 000001  314.72  314.72  314.18  314.72         1           0   \n",
       "1992-02-10 000001  315.55  315.56  314.72  315.56         4           0   \n",
       "1992-02-11 000001  316.12  316.43  315.56  316.43         3           0   \n",
       "1992-02-12 000001  316.43  316.44  316.43  316.44         1           0   \n",
       "1992-02-13 000001  317.24  317.57  317.06  317.04         0           0   \n",
       "1992-02-14 000001  319.45  319.68  317.04  319.68         4           0   \n",
       "1992-02-17 000001  319.77  319.77  319.68  319.77         1           0   \n",
       "1992-02-18 000001  338.98  339.16  319.77  337.11         6           0   \n",
       "1992-02-19 000001  340.50  342.41  337.11  342.41         7           0   \n",
       "\n",
       "                   volume      amount  \n",
       "date       code                        \n",
       "1992-02-03 000001  4098.0    583000.0  \n",
       "1992-02-07 000001  4098.0    527000.0  \n",
       "1992-02-10 000001  4098.0    586000.0  \n",
       "1992-02-11 000001     2.0    460000.0  \n",
       "1992-02-12 000001     2.0    397000.0  \n",
       "1992-02-13 000001   520.0   1680000.0  \n",
       "1992-02-14 000001  8194.0    770000.0  \n",
       "1992-02-17 000001   528.0  13782000.0  \n",
       "1992-02-18 000001    74.0  12655000.0  \n",
       "1992-02-19 000001    94.0  16501000.0  "
      ]
     },
     "execution_count": 27,
     "metadata": {},
     "output_type": "execute_result"
    }
   ],
   "source": [
    "data[:10].data"
   ]
  },
  {
   "cell_type": "code",
   "execution_count": 1,
   "metadata": {},
   "outputs": [],
   "source": [
    "import pandas as pd"
   ]
  },
  {
   "cell_type": "code",
   "execution_count": 10,
   "metadata": {},
   "outputs": [],
   "source": [
    "df = pd.DataFrame()"
   ]
  },
  {
   "cell_type": "code",
   "execution_count": 12,
   "metadata": {
    "collapsed": true
   },
   "outputs": [
    {
     "ename": "IndexError",
     "evalue": "single positional indexer is out-of-bounds",
     "output_type": "error",
     "traceback": [
      "\u001b[1;31m---------------------------------------------------------------------------\u001b[0m",
      "\u001b[1;31mIndexError\u001b[0m                                Traceback (most recent call last)",
      "\u001b[1;32m<ipython-input-12-c31264cbe179>\u001b[0m in \u001b[0;36m<module>\u001b[1;34m()\u001b[0m\n\u001b[1;32m----> 1\u001b[1;33m \u001b[0mdf\u001b[0m\u001b[1;33m.\u001b[0m\u001b[0miloc\u001b[0m\u001b[1;33m[\u001b[0m\u001b[1;36m0\u001b[0m\u001b[1;33m,\u001b[0m\u001b[1;36m0\u001b[0m\u001b[1;33m]\u001b[0m \u001b[1;33m=\u001b[0m \u001b[1;36m1\u001b[0m\u001b[1;33m\u001b[0m\u001b[0m\n\u001b[0m",
      "\u001b[1;32mC:\\ProgramData\\Anaconda3\\lib\\site-packages\\pandas\\core\\indexing.py\u001b[0m in \u001b[0;36m__setitem__\u001b[1;34m(self, key, value)\u001b[0m\n\u001b[0;32m    186\u001b[0m         \u001b[1;32melse\u001b[0m\u001b[1;33m:\u001b[0m\u001b[1;33m\u001b[0m\u001b[0m\n\u001b[0;32m    187\u001b[0m             \u001b[0mkey\u001b[0m \u001b[1;33m=\u001b[0m \u001b[0mcom\u001b[0m\u001b[1;33m.\u001b[0m\u001b[0m_apply_if_callable\u001b[0m\u001b[1;33m(\u001b[0m\u001b[0mkey\u001b[0m\u001b[1;33m,\u001b[0m \u001b[0mself\u001b[0m\u001b[1;33m.\u001b[0m\u001b[0mobj\u001b[0m\u001b[1;33m)\u001b[0m\u001b[1;33m\u001b[0m\u001b[0m\n\u001b[1;32m--> 188\u001b[1;33m         \u001b[0mindexer\u001b[0m \u001b[1;33m=\u001b[0m \u001b[0mself\u001b[0m\u001b[1;33m.\u001b[0m\u001b[0m_get_setitem_indexer\u001b[0m\u001b[1;33m(\u001b[0m\u001b[0mkey\u001b[0m\u001b[1;33m)\u001b[0m\u001b[1;33m\u001b[0m\u001b[0m\n\u001b[0m\u001b[0;32m    189\u001b[0m         \u001b[0mself\u001b[0m\u001b[1;33m.\u001b[0m\u001b[0m_setitem_with_indexer\u001b[0m\u001b[1;33m(\u001b[0m\u001b[0mindexer\u001b[0m\u001b[1;33m,\u001b[0m \u001b[0mvalue\u001b[0m\u001b[1;33m)\u001b[0m\u001b[1;33m\u001b[0m\u001b[0m\n\u001b[0;32m    190\u001b[0m \u001b[1;33m\u001b[0m\u001b[0m\n",
      "\u001b[1;32mC:\\ProgramData\\Anaconda3\\lib\\site-packages\\pandas\\core\\indexing.py\u001b[0m in \u001b[0;36m_get_setitem_indexer\u001b[1;34m(self, key)\u001b[0m\n\u001b[0;32m    164\u001b[0m         \u001b[1;32mif\u001b[0m \u001b[0misinstance\u001b[0m\u001b[1;33m(\u001b[0m\u001b[0mkey\u001b[0m\u001b[1;33m,\u001b[0m \u001b[0mtuple\u001b[0m\u001b[1;33m)\u001b[0m\u001b[1;33m:\u001b[0m\u001b[1;33m\u001b[0m\u001b[0m\n\u001b[0;32m    165\u001b[0m             \u001b[1;32mtry\u001b[0m\u001b[1;33m:\u001b[0m\u001b[1;33m\u001b[0m\u001b[0m\n\u001b[1;32m--> 166\u001b[1;33m                 \u001b[1;32mreturn\u001b[0m \u001b[0mself\u001b[0m\u001b[1;33m.\u001b[0m\u001b[0m_convert_tuple\u001b[0m\u001b[1;33m(\u001b[0m\u001b[0mkey\u001b[0m\u001b[1;33m,\u001b[0m \u001b[0mis_setter\u001b[0m\u001b[1;33m=\u001b[0m\u001b[1;32mTrue\u001b[0m\u001b[1;33m)\u001b[0m\u001b[1;33m\u001b[0m\u001b[0m\n\u001b[0m\u001b[0;32m    167\u001b[0m             \u001b[1;32mexcept\u001b[0m \u001b[0mIndexingError\u001b[0m\u001b[1;33m:\u001b[0m\u001b[1;33m\u001b[0m\u001b[0m\n\u001b[0;32m    168\u001b[0m                 \u001b[1;32mpass\u001b[0m\u001b[1;33m\u001b[0m\u001b[0m\n",
      "\u001b[1;32mC:\\ProgramData\\Anaconda3\\lib\\site-packages\\pandas\\core\\indexing.py\u001b[0m in \u001b[0;36m_convert_tuple\u001b[1;34m(self, key, is_setter)\u001b[0m\n\u001b[0;32m    245\u001b[0m                 \u001b[1;32mif\u001b[0m \u001b[0mi\u001b[0m \u001b[1;33m>=\u001b[0m \u001b[0mself\u001b[0m\u001b[1;33m.\u001b[0m\u001b[0mobj\u001b[0m\u001b[1;33m.\u001b[0m\u001b[0mndim\u001b[0m\u001b[1;33m:\u001b[0m\u001b[1;33m\u001b[0m\u001b[0m\n\u001b[0;32m    246\u001b[0m                     \u001b[1;32mraise\u001b[0m \u001b[0mIndexingError\u001b[0m\u001b[1;33m(\u001b[0m\u001b[1;34m'Too many indexers'\u001b[0m\u001b[1;33m)\u001b[0m\u001b[1;33m\u001b[0m\u001b[0m\n\u001b[1;32m--> 247\u001b[1;33m                 \u001b[0midx\u001b[0m \u001b[1;33m=\u001b[0m \u001b[0mself\u001b[0m\u001b[1;33m.\u001b[0m\u001b[0m_convert_to_indexer\u001b[0m\u001b[1;33m(\u001b[0m\u001b[0mk\u001b[0m\u001b[1;33m,\u001b[0m \u001b[0maxis\u001b[0m\u001b[1;33m=\u001b[0m\u001b[0mi\u001b[0m\u001b[1;33m,\u001b[0m \u001b[0mis_setter\u001b[0m\u001b[1;33m=\u001b[0m\u001b[0mis_setter\u001b[0m\u001b[1;33m)\u001b[0m\u001b[1;33m\u001b[0m\u001b[0m\n\u001b[0m\u001b[0;32m    248\u001b[0m                 \u001b[0mkeyidx\u001b[0m\u001b[1;33m.\u001b[0m\u001b[0mappend\u001b[0m\u001b[1;33m(\u001b[0m\u001b[0midx\u001b[0m\u001b[1;33m)\u001b[0m\u001b[1;33m\u001b[0m\u001b[0m\n\u001b[0;32m    249\u001b[0m         \u001b[1;32mreturn\u001b[0m \u001b[0mtuple\u001b[0m\u001b[1;33m(\u001b[0m\u001b[0mkeyidx\u001b[0m\u001b[1;33m)\u001b[0m\u001b[1;33m\u001b[0m\u001b[0m\n",
      "\u001b[1;32mC:\\ProgramData\\Anaconda3\\lib\\site-packages\\pandas\\core\\indexing.py\u001b[0m in \u001b[0;36m_convert_to_indexer\u001b[1;34m(self, obj, axis, is_setter)\u001b[0m\n\u001b[0;32m   2117\u001b[0m \u001b[1;33m\u001b[0m\u001b[0m\n\u001b[0;32m   2118\u001b[0m         \u001b[1;32mtry\u001b[0m\u001b[1;33m:\u001b[0m\u001b[1;33m\u001b[0m\u001b[0m\n\u001b[1;32m-> 2119\u001b[1;33m             \u001b[0mself\u001b[0m\u001b[1;33m.\u001b[0m\u001b[0m_validate_key\u001b[0m\u001b[1;33m(\u001b[0m\u001b[0mobj\u001b[0m\u001b[1;33m,\u001b[0m \u001b[0maxis\u001b[0m\u001b[1;33m)\u001b[0m\u001b[1;33m\u001b[0m\u001b[0m\n\u001b[0m\u001b[0;32m   2120\u001b[0m             \u001b[1;32mreturn\u001b[0m \u001b[0mobj\u001b[0m\u001b[1;33m\u001b[0m\u001b[0m\n\u001b[0;32m   2121\u001b[0m         \u001b[1;32mexcept\u001b[0m \u001b[0mValueError\u001b[0m\u001b[1;33m:\u001b[0m\u001b[1;33m\u001b[0m\u001b[0m\n",
      "\u001b[1;32mC:\\ProgramData\\Anaconda3\\lib\\site-packages\\pandas\\core\\indexing.py\u001b[0m in \u001b[0;36m_validate_key\u001b[1;34m(self, key, axis)\u001b[0m\n\u001b[0;32m   1955\u001b[0m             \u001b[1;32mreturn\u001b[0m\u001b[1;33m\u001b[0m\u001b[0m\n\u001b[0;32m   1956\u001b[0m         \u001b[1;32melif\u001b[0m \u001b[0mis_integer\u001b[0m\u001b[1;33m(\u001b[0m\u001b[0mkey\u001b[0m\u001b[1;33m)\u001b[0m\u001b[1;33m:\u001b[0m\u001b[1;33m\u001b[0m\u001b[0m\n\u001b[1;32m-> 1957\u001b[1;33m             \u001b[0mself\u001b[0m\u001b[1;33m.\u001b[0m\u001b[0m_validate_integer\u001b[0m\u001b[1;33m(\u001b[0m\u001b[0mkey\u001b[0m\u001b[1;33m,\u001b[0m \u001b[0maxis\u001b[0m\u001b[1;33m)\u001b[0m\u001b[1;33m\u001b[0m\u001b[0m\n\u001b[0m\u001b[0;32m   1958\u001b[0m         \u001b[1;32melif\u001b[0m \u001b[0misinstance\u001b[0m\u001b[1;33m(\u001b[0m\u001b[0mkey\u001b[0m\u001b[1;33m,\u001b[0m \u001b[0mtuple\u001b[0m\u001b[1;33m)\u001b[0m\u001b[1;33m:\u001b[0m\u001b[1;33m\u001b[0m\u001b[0m\n\u001b[0;32m   1959\u001b[0m             \u001b[1;31m# a tuple should already have been caught by this point\u001b[0m\u001b[1;33m\u001b[0m\u001b[1;33m\u001b[0m\u001b[0m\n",
      "\u001b[1;32mC:\\ProgramData\\Anaconda3\\lib\\site-packages\\pandas\\core\\indexing.py\u001b[0m in \u001b[0;36m_validate_integer\u001b[1;34m(self, key, axis)\u001b[0m\n\u001b[0;32m   2007\u001b[0m         \u001b[0ml\u001b[0m \u001b[1;33m=\u001b[0m \u001b[0mlen\u001b[0m\u001b[1;33m(\u001b[0m\u001b[0max\u001b[0m\u001b[1;33m)\u001b[0m\u001b[1;33m\u001b[0m\u001b[0m\n\u001b[0;32m   2008\u001b[0m         \u001b[1;32mif\u001b[0m \u001b[0mkey\u001b[0m \u001b[1;33m>=\u001b[0m \u001b[0ml\u001b[0m \u001b[1;32mor\u001b[0m \u001b[0mkey\u001b[0m \u001b[1;33m<\u001b[0m \u001b[1;33m-\u001b[0m\u001b[0ml\u001b[0m\u001b[1;33m:\u001b[0m\u001b[1;33m\u001b[0m\u001b[0m\n\u001b[1;32m-> 2009\u001b[1;33m             \u001b[1;32mraise\u001b[0m \u001b[0mIndexError\u001b[0m\u001b[1;33m(\u001b[0m\u001b[1;34m\"single positional indexer is out-of-bounds\"\u001b[0m\u001b[1;33m)\u001b[0m\u001b[1;33m\u001b[0m\u001b[0m\n\u001b[0m\u001b[0;32m   2010\u001b[0m \u001b[1;33m\u001b[0m\u001b[0m\n\u001b[0;32m   2011\u001b[0m     \u001b[1;32mdef\u001b[0m \u001b[0m_getitem_tuple\u001b[0m\u001b[1;33m(\u001b[0m\u001b[0mself\u001b[0m\u001b[1;33m,\u001b[0m \u001b[0mtup\u001b[0m\u001b[1;33m)\u001b[0m\u001b[1;33m:\u001b[0m\u001b[1;33m\u001b[0m\u001b[0m\n",
      "\u001b[1;31mIndexError\u001b[0m: single positional indexer is out-of-bounds"
     ]
    }
   ],
   "source": [
    "df.iloc[0,0] = 1"
   ]
  },
  {
   "cell_type": "code",
   "execution_count": 9,
   "metadata": {},
   "outputs": [
    {
     "data": {
      "text/html": [
       "<div>\n",
       "<style scoped>\n",
       "    .dataframe tbody tr th:only-of-type {\n",
       "        vertical-align: middle;\n",
       "    }\n",
       "\n",
       "    .dataframe tbody tr th {\n",
       "        vertical-align: top;\n",
       "    }\n",
       "\n",
       "    .dataframe thead th {\n",
       "        text-align: right;\n",
       "    }\n",
       "</style>\n",
       "<table border=\"1\" class=\"dataframe\">\n",
       "  <thead>\n",
       "    <tr style=\"text-align: right;\">\n",
       "      <th></th>\n",
       "      <th>test</th>\n",
       "    </tr>\n",
       "  </thead>\n",
       "  <tbody>\n",
       "    <tr>\n",
       "      <th>0</th>\n",
       "      <td>1</td>\n",
       "    </tr>\n",
       "  </tbody>\n",
       "</table>\n",
       "</div>"
      ],
      "text/plain": [
       "   test\n",
       "0     1"
      ]
     },
     "execution_count": 9,
     "metadata": {},
     "output_type": "execute_result"
    }
   ],
   "source": [
    "df"
   ]
  },
  {
   "cell_type": "code",
   "execution_count": 72,
   "metadata": {},
   "outputs": [
    {
     "data": {
      "text/plain": [
       "6"
      ]
     },
     "execution_count": 72,
     "metadata": {},
     "output_type": "execute_result"
    }
   ],
   "source": [
    "len({'code':'000001'}.pop('code'))"
   ]
  },
  {
   "cell_type": "code",
   "execution_count": 73,
   "metadata": {},
   "outputs": [
    {
     "data": {
      "text/plain": [
       "0"
      ]
     },
     "execution_count": 73,
     "metadata": {},
     "output_type": "execute_result"
    }
   ],
   "source": [
    "a = {'code':'000001'}\n",
    "a.pop('code')\n",
    "len(a)"
   ]
  },
  {
   "cell_type": "code",
   "execution_count": 69,
   "metadata": {},
   "outputs": [
    {
     "data": {
      "text/plain": [
       "'000001'"
      ]
     },
     "execution_count": 69,
     "metadata": {},
     "output_type": "execute_result"
    }
   ],
   "source": [
    "a."
   ]
  },
  {
   "cell_type": "code",
   "execution_count": 70,
   "metadata": {},
   "outputs": [
    {
     "data": {
      "text/plain": [
       "{}"
      ]
     },
     "execution_count": 70,
     "metadata": {},
     "output_type": "execute_result"
    }
   ],
   "source": [
    "a"
   ]
  }
 ],
 "metadata": {
  "kernelspec": {
   "display_name": "Python 3",
   "language": "python",
   "name": "python3"
  },
  "language_info": {
   "codemirror_mode": {
    "name": "ipython",
    "version": 3
   },
   "file_extension": ".py",
   "mimetype": "text/x-python",
   "name": "python",
   "nbconvert_exporter": "python",
   "pygments_lexer": "ipython3",
   "version": "3.6.5"
  },
  "toc": {
   "base_numbering": 1,
   "nav_menu": {},
   "number_sections": true,
   "sideBar": true,
   "skip_h1_title": false,
   "title_cell": "Table of Contents",
   "title_sidebar": "Contents",
   "toc_cell": false,
   "toc_position": {},
   "toc_section_display": true,
   "toc_window_display": false
  },
  "varInspector": {
   "cols": {
    "lenName": 16,
    "lenType": 16,
    "lenVar": 40
   },
   "kernels_config": {
    "python": {
     "delete_cmd_postfix": "",
     "delete_cmd_prefix": "del ",
     "library": "var_list.py",
     "varRefreshCmd": "print(var_dic_list())"
    },
    "r": {
     "delete_cmd_postfix": ") ",
     "delete_cmd_prefix": "rm(",
     "library": "var_list.r",
     "varRefreshCmd": "cat(var_dic_list()) "
    }
   },
   "types_to_exclude": [
    "module",
    "function",
    "builtin_function_or_method",
    "instance",
    "_Feature"
   ],
   "window_display": false
  }
 },
 "nbformat": 4,
 "nbformat_minor": 2
}
