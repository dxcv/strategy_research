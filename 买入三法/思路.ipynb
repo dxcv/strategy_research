{
 "cells": [
  {
   "cell_type": "markdown",
   "metadata": {},
   "source": [
    "买入三法核心思想是什么\n",
    "\n",
    "- 买入条件:\n",
    "    1. 当日收盘价大于前10日收盘价的均值\n",
    "    2. 当日成交量大于前10日成交量的均值\n",
    "    3. stochastic算法下的kline和dline, 当日kline > 当日dline, 而前一日的kline < 前一日dline;\n",
    "\n",
    "- 卖出条件:\n",
    "    - 当日收盘价小于前20收盘价均值"
   ]
  },
  {
   "cell_type": "markdown",
   "metadata": {},
   "source": [
    "两种实现方式\n",
    "\n",
    "1. 当日计算指标，如果满足条件，次日以开盘价执行相关操作；\n",
    "2. 亦或者当日计算指标，但是成交量不能这么执行对吧"
   ]
  },
  {
   "cell_type": "code",
   "execution_count": 1,
   "metadata": {},
   "outputs": [],
   "source": [
    "import numpy as np\n",
    "import pandas as pd\n",
    "import matplotlib.pyplot as plt\n",
    "import seaborn as sns\n",
    "# import statsmodels.api as sm\n",
    "import QUANTAXIS as QA\n",
    "import talib as ta\n",
    "import datetime #, time"
   ]
  },
  {
   "cell_type": "code",
   "execution_count": 5,
   "metadata": {},
   "outputs": [],
   "source": [
    "plt.rcParams['figure.figsize'] = [12, 8]\n",
    "plt.rcParams['image.interpolation'] = 'nearest'\n",
    "plt.rcParams['image.cmap'] = 'gray'\n",
    "plt.style.use('ggplot')"
   ]
  },
  {
   "cell_type": "code",
   "execution_count": 3,
   "metadata": {},
   "outputs": [],
   "source": [
    "data = QA.QA_fetch_index_day_adv('000001', '1992-02-01', '2018-01-31')"
   ]
  },
  {
   "cell_type": "code",
   "execution_count": 12,
   "metadata": {},
   "outputs": [],
   "source": [
    "close = data.close"
   ]
  },
  {
   "cell_type": "code",
   "execution_count": 13,
   "metadata": {},
   "outputs": [],
   "source": [
    "volume = data.volume"
   ]
  },
  {
   "cell_type": "code",
   "execution_count": 9,
   "metadata": {},
   "outputs": [],
   "source": [
    "ind_kdj = QA.QA_indicator_KDJ(data)"
   ]
  },
  {
   "cell_type": "code",
   "execution_count": 10,
   "metadata": {},
   "outputs": [
    {
     "data": {
      "text/html": [
       "<div>\n",
       "<style scoped>\n",
       "    .dataframe tbody tr th:only-of-type {\n",
       "        vertical-align: middle;\n",
       "    }\n",
       "\n",
       "    .dataframe tbody tr th {\n",
       "        vertical-align: top;\n",
       "    }\n",
       "\n",
       "    .dataframe thead th {\n",
       "        text-align: right;\n",
       "    }\n",
       "</style>\n",
       "<table border=\"1\" class=\"dataframe\">\n",
       "  <thead>\n",
       "    <tr style=\"text-align: right;\">\n",
       "      <th></th>\n",
       "      <th></th>\n",
       "      <th>KDJ_K</th>\n",
       "      <th>KDJ_D</th>\n",
       "      <th>KDJ_J</th>\n",
       "    </tr>\n",
       "    <tr>\n",
       "      <th>date</th>\n",
       "      <th>code</th>\n",
       "      <th></th>\n",
       "      <th></th>\n",
       "      <th></th>\n",
       "    </tr>\n",
       "  </thead>\n",
       "  <tbody>\n",
       "    <tr>\n",
       "      <th>1992-02-17</th>\n",
       "      <th>000001</th>\n",
       "      <td>92.091049</td>\n",
       "      <td>92.091049</td>\n",
       "      <td>92.091049</td>\n",
       "    </tr>\n",
       "    <tr>\n",
       "      <th>1992-02-18</th>\n",
       "      <th>000001</th>\n",
       "      <td>92.091049</td>\n",
       "      <td>92.091049</td>\n",
       "      <td>92.091049</td>\n",
       "    </tr>\n",
       "    <tr>\n",
       "      <th>1992-02-19</th>\n",
       "      <th>000001</th>\n",
       "      <td>94.727366</td>\n",
       "      <td>92.969822</td>\n",
       "      <td>98.242455</td>\n",
       "    </tr>\n",
       "    <tr>\n",
       "      <th>1992-02-20</th>\n",
       "      <th>000001</th>\n",
       "      <td>96.464885</td>\n",
       "      <td>94.134843</td>\n",
       "      <td>101.124969</td>\n",
       "    </tr>\n",
       "    <tr>\n",
       "      <th>1992-02-21</th>\n",
       "      <th>000001</th>\n",
       "      <td>97.387829</td>\n",
       "      <td>95.219171</td>\n",
       "      <td>101.725143</td>\n",
       "    </tr>\n",
       "  </tbody>\n",
       "</table>\n",
       "</div>"
      ],
      "text/plain": [
       "                       KDJ_K      KDJ_D       KDJ_J\n",
       "date       code                                    \n",
       "1992-02-17 000001  92.091049  92.091049   92.091049\n",
       "1992-02-18 000001  92.091049  92.091049   92.091049\n",
       "1992-02-19 000001  94.727366  92.969822   98.242455\n",
       "1992-02-20 000001  96.464885  94.134843  101.124969\n",
       "1992-02-21 000001  97.387829  95.219171  101.725143"
      ]
     },
     "execution_count": 10,
     "metadata": {},
     "output_type": "execute_result"
    }
   ],
   "source": [
    "ind_kdj.KDJ_D"
   ]
  },
  {
   "cell_type": "code",
   "execution_count": 19,
   "metadata": {
    "scrolled": true
   },
   "outputs": [],
   "source": [
    "ind = (QA.CROSS(ind_kdj.KDJ_K, ind_kdj.KDJ_D) & \\\n",
    "QA.CROSS(close, close.rolling(window=10).mean()) & \\\n",
    "QA.CROSS(volume, volume.rolling(window=10).mean()))"
   ]
  },
  {
   "cell_type": "code",
   "execution_count": 56,
   "metadata": {},
   "outputs": [],
   "source": [
    "def buy_3_methods(dataframe, short=10, long=20):\n",
    "    \"\"\"\n",
    "    1. kline上穿dline， close上穿close 10日均线，volume上穿volume10日均线, 买入信号参考;\n",
    "    \n",
    "    2. close下穿close 20日均线, 卖出信号参考;\n",
    "    \"\"\"\n",
    "    kdj = QA.QA_indicator_KDJ(dataframe)\n",
    "    close = dataframe.close\n",
    "    volume = dataframe.volume\n",
    "    buy_signal = (QA.CROSS(kdj.KDJ_K, kdj.KDJ_D) & \\\n",
    "                QA.CROSS(close, close.rolling(window=short).mean()) & \\\n",
    "                QA.CROSS(volume, volume.rolling(window=short).mean()))\n",
    "    sell_signal = (QA.CROSS(close.rolling(window=long).mean(), close))\n",
    "    return pd.DataFrame({'BUY':buy_signal.shift(-1).fillna(0).apply(int), \n",
    "                         'SELL':sell_signal.shift(-1).fillna(0).apply(int)})"
   ]
  },
  {
   "cell_type": "code",
   "execution_count": 18,
   "metadata": {},
   "outputs": [],
   "source": [
    "init_assets = 1e7"
   ]
  },
  {
   "cell_type": "code",
   "execution_count": 57,
   "metadata": {},
   "outputs": [],
   "source": [
    "ind = data.add_func(buy_3_methods)"
   ]
  },
  {
   "cell_type": "code",
   "execution_count": 59,
   "metadata": {
    "scrolled": true
   },
   "outputs": [
    {
     "data": {
      "text/plain": [
       "271"
      ]
     },
     "execution_count": 59,
     "metadata": {},
     "output_type": "execute_result"
    }
   ],
   "source": [
    "ind.xs('000001', level=1).SELL.sum()"
   ]
  },
  {
   "cell_type": "code",
   "execution_count": 66,
   "metadata": {},
   "outputs": [
    {
     "data": {
      "text/plain": [
       "Timestamp('1992-02-03 00:00:00')"
      ]
     },
     "execution_count": 66,
     "metadata": {},
     "output_type": "execute_result"
    }
   ],
   "source": [
    "data.date[0]"
   ]
  },
  {
   "cell_type": "code",
   "execution_count": 51,
   "metadata": {},
   "outputs": [
    {
     "data": {
      "text/plain": [
       "date        code  \n",
       "2018-01-25  000001    3548.31\n",
       "2018-01-26  000001    3558.13\n",
       "2018-01-29  000001    3523.00\n",
       "2018-01-30  000001    3488.01\n",
       "2018-01-31  000001    3480.83\n",
       "Name: close, dtype: float64"
      ]
     },
     "execution_count": 51,
     "metadata": {},
     "output_type": "execute_result"
    }
   ],
   "source": [
    "cash = init_assets\n",
    "stock_holding_volume = {}\n",
    "history_table = pd.DataFrame()\n",
    "count = 0\n",
    "for item in data:\n",
    "    daily_ind = ind.loc[item.index]\n",
    "    \n",
    "    if daily_ind.BUY.iloc[0] > 0:\n",
    "        code = item.code[0]\n",
    "        _date = item.date[0]\n",
    "        buy_price = item.open.iloc[0]\n",
    "        holding_volume = cash // buy_price // 100 * 100\n",
    "        stock_holding_volume[code] = holding_volume\n",
    "        cash -= holding_volume * buy_price\n",
    "        \n",
    "        # 记录交割单\n",
    "        count += 1\n",
    "        _order = {'datetime':_date, 'code':code, 'price':buy_price,\n",
    "                 'amount':holding_volume, 'cash':cash}\n",
    "        temp = pd.DataFrame(data=_order, index=[count])\n",
    "        history_table = pd.concat([history_table, temp])\n",
    "    \n",
    "    if daily_ind.SELL.iloc[0] > 0:\n",
    "        code = item.code[0]\n",
    "        _date = item.date[0]\n",
    "        \n",
    "        if len(stock_holding_volume)>0:\n",
    "            sell_price = item.open.iloc[0]\n",
    "            holding_volume = stock_holding_volume[code]\n",
    "            cash += holding_volume * sell_price\n",
    "            stock_holding_volume.pop(code)\n",
    "            \n",
    "            # 记录交割单\n",
    "            count += 1\n",
    "            _order = {'datetime':_date, 'code':code, 'price':sell_price,\n",
    "                     'amount':-1 * holding_volume, 'cash':cash}\n",
    "            temp = pd.DataFrame(data=_order, index=[count])\n",
    "            history_table = pd.concat([history_table, temp])"
   ]
  },
  {
   "cell_type": "code",
   "execution_count": 72,
   "metadata": {},
   "outputs": [
    {
     "data": {
      "text/plain": [
       "6"
      ]
     },
     "execution_count": 72,
     "metadata": {},
     "output_type": "execute_result"
    }
   ],
   "source": [
    "len({'code':'000001'}.pop('code'))"
   ]
  },
  {
   "cell_type": "code",
   "execution_count": 73,
   "metadata": {},
   "outputs": [
    {
     "data": {
      "text/plain": [
       "0"
      ]
     },
     "execution_count": 73,
     "metadata": {},
     "output_type": "execute_result"
    }
   ],
   "source": [
    "a = {'code':'000001'}\n",
    "a.pop('code')\n",
    "len(a)"
   ]
  },
  {
   "cell_type": "code",
   "execution_count": 69,
   "metadata": {},
   "outputs": [
    {
     "data": {
      "text/plain": [
       "'000001'"
      ]
     },
     "execution_count": 69,
     "metadata": {},
     "output_type": "execute_result"
    }
   ],
   "source": [
    "a."
   ]
  },
  {
   "cell_type": "code",
   "execution_count": 70,
   "metadata": {},
   "outputs": [
    {
     "data": {
      "text/plain": [
       "{}"
      ]
     },
     "execution_count": 70,
     "metadata": {},
     "output_type": "execute_result"
    }
   ],
   "source": [
    "a"
   ]
  }
 ],
 "metadata": {
  "kernelspec": {
   "display_name": "Python 3",
   "language": "python",
   "name": "python3"
  },
  "language_info": {
   "codemirror_mode": {
    "name": "ipython",
    "version": 3
   },
   "file_extension": ".py",
   "mimetype": "text/x-python",
   "name": "python",
   "nbconvert_exporter": "python",
   "pygments_lexer": "ipython3",
   "version": "3.6.5"
  },
  "toc": {
   "base_numbering": 1,
   "nav_menu": {},
   "number_sections": true,
   "sideBar": true,
   "skip_h1_title": false,
   "title_cell": "Table of Contents",
   "title_sidebar": "Contents",
   "toc_cell": false,
   "toc_position": {},
   "toc_section_display": true,
   "toc_window_display": false
  },
  "varInspector": {
   "cols": {
    "lenName": 16,
    "lenType": 16,
    "lenVar": 40
   },
   "kernels_config": {
    "python": {
     "delete_cmd_postfix": "",
     "delete_cmd_prefix": "del ",
     "library": "var_list.py",
     "varRefreshCmd": "print(var_dic_list())"
    },
    "r": {
     "delete_cmd_postfix": ") ",
     "delete_cmd_prefix": "rm(",
     "library": "var_list.r",
     "varRefreshCmd": "cat(var_dic_list()) "
    }
   },
   "types_to_exclude": [
    "module",
    "function",
    "builtin_function_or_method",
    "instance",
    "_Feature"
   ],
   "window_display": false
  }
 },
 "nbformat": 4,
 "nbformat_minor": 2
}
