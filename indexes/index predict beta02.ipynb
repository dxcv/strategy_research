{
 "cells": [
  {
   "cell_type": "markdown",
   "metadata": {},
   "source": [
    "先重整流程，然后再想办法完善数据，比如东财"
   ]
  },
  {
   "cell_type": "markdown",
   "metadata": {},
   "source": [
    "## import libraries"
   ]
  },
  {
   "cell_type": "code",
   "execution_count": 1,
   "metadata": {},
   "outputs": [],
   "source": [
    "import numpy as np\n",
    "import pandas as pd\n",
    "import matplotlib.pyplot as plt\n",
    "import seaborn as sns\n",
    "# import statsmodels.api as sm\n",
    "import QUANTAXIS as QA\n",
    "import talib as ta\n",
    "import datetime, time"
   ]
  },
  {
   "cell_type": "code",
   "execution_count": 2,
   "metadata": {},
   "outputs": [],
   "source": [
    "plt.rcParams['figure.figsize'] = [12, 8]\n",
    "plt.rcParams['image.interpolation'] = 'nearest'\n",
    "plt.rcParams['image.cmap'] = 'gray'"
   ]
  },
  {
   "cell_type": "markdown",
   "metadata": {},
   "source": [
    "## import & update 60-min data"
   ]
  },
  {
   "cell_type": "code",
   "execution_count": 3,
   "metadata": {},
   "outputs": [],
   "source": [
    "# read non-update data\n",
    "data = pd.read_excel('index_60min.xlsx',index_col=0, header=0)"
   ]
  },
  {
   "cell_type": "code",
   "execution_count": 7,
   "metadata": {},
   "outputs": [
    {
     "name": "stderr",
     "output_type": "stream",
     "text": [
      "QUANTAXIS>> Selecting the Best Server IP of TDX\n"
     ]
    },
    {
     "name": "stdout",
     "output_type": "stream",
     "text": [
      "USING DEFAULT STOCK IP\n",
      "USING DEFAULT FUTURE IP\n"
     ]
    },
    {
     "name": "stderr",
     "output_type": "stream",
     "text": [
      "QUANTAXIS>> === The BEST SERVER ===\n",
      " stock_ip 60.191.117.167 future_ip 202.103.36.71\n"
     ]
    }
   ],
   "source": [
    "# update data\n",
    "# set update data date\n",
    "start_update = QA.QA_util_get_next_day(data.index[-1].strftime('%Y-%m-%d'), 1)\n",
    "end_update = QA.QA_util_get_last_day(datetime.datetime.today().strftime('%Y-%m-%d'), 1)\n",
    "\n",
    "# retrieve & adjust cols for concating\n",
    "data_update = QA.QA_fetch_get_index_min('tdx', '000001', start_update, end_update, '60min')\n",
    "data_update = data_update.loc[:,['open', 'close', 'high', 'low', 'vol', 'amount', 'up_count',\n",
    "       'down_count', 'code', 'date', 'date_stamp', 'time_stamp', 'type']]\n",
    "\n",
    "# concat data\n",
    "data = pd.concat([data, data_update], axis=0)\n",
    "\n",
    "# save data\n",
    "writer = pd.ExcelWriter('index_60min.xlsx')\n",
    "data.to_excel(writer)\n",
    "writer.save()"
   ]
  },
  {
   "cell_type": "code",
   "execution_count": 4,
   "metadata": {},
   "outputs": [],
   "source": [
    "# resample data\n",
    "data_min = data[(data.index.hour == 10) | (data.index.hour == 11)].loc[:, \n",
    "    ['open', 'high', 'low', 'close', 'vol', 'amount']]\n",
    "data_min_resample_day = data_min.resample('D').apply({\n",
    "    'open':'first', 'high':'max', 'low':'min', 'close':'last',\n",
    "    'vol':'sum','amount':'sum'\n",
    "}).dropna()"
   ]
  },
  {
   "cell_type": "code",
   "execution_count": 5,
   "metadata": {},
   "outputs": [
    {
     "name": "stderr",
     "output_type": "stream",
     "text": [
      "QUANTAXIS>> Selecting the Best Server IP of TDX\n"
     ]
    },
    {
     "name": "stdout",
     "output_type": "stream",
     "text": [
      "USING DEFAULT STOCK IP\n",
      "USING DEFAULT FUTURE IP\n"
     ]
    },
    {
     "name": "stderr",
     "output_type": "stream",
     "text": [
      "QUANTAXIS>> === The BEST SERVER ===\n",
      " stock_ip 60.191.117.167 future_ip 202.103.36.71\n"
     ]
    }
   ],
   "source": [
    "end_update = QA.QA_util_get_last_day(datetime.datetime.today().strftime('%Y-%m-%d'), 1)\n",
    "start = '2016-11-16'\n",
    "end = end_update\n",
    "index_day = QA.QA_fetch_get_index_day('tdx', '000001', start, end)"
   ]
  },
  {
   "cell_type": "markdown",
   "metadata": {},
   "source": [
    "test method accuracy"
   ]
  },
  {
   "cell_type": "code",
   "execution_count": 6,
   "metadata": {},
   "outputs": [],
   "source": [
    "data_half_day = data_min_resample_day\n",
    "data_full_day = index_day"
   ]
  },
  {
   "cell_type": "code",
   "execution_count": 7,
   "metadata": {},
   "outputs": [],
   "source": [
    "half_day_change = (data_half_day.close / data_full_day.close.shift(1))[1:] - 1\n",
    "full_day_change = data_full_day.close.pct_change()[1:]"
   ]
  },
  {
   "cell_type": "code",
   "execution_count": 25,
   "metadata": {},
   "outputs": [],
   "source": [
    "ind = half_day_change >= 0.01\n",
    "half_filter = half_day_change[ind]\n",
    "full_filter = full_day_change[ind]\n",
    "result = (np.sign(half_filter) * np.sign(full_filter)).value_counts()"
   ]
  },
  {
   "cell_type": "code",
   "execution_count": 26,
   "metadata": {},
   "outputs": [
    {
     "data": {
      "text/plain": [
       "1.0"
      ]
     },
     "execution_count": 26,
     "metadata": {},
     "output_type": "execute_result"
    }
   ],
   "source": [
    "result.loc[1.0] / result.sum()"
   ]
  },
  {
   "cell_type": "code",
   "execution_count": 28,
   "metadata": {
    "collapsed": true
   },
   "outputs": [
    {
     "data": {
      "text/plain": [
       "datetime\n",
       "2017-04-05    0.010600\n",
       "2017-08-25    0.011554\n",
       "2017-10-09    0.012502\n",
       "2018-01-02    0.010828\n",
       "2018-02-13    0.018018\n",
       "2018-02-22    0.019502\n",
       "2018-04-24    0.020701\n",
       "2018-05-07    0.012070\n",
       "2018-05-31    0.013826\n",
       "2018-06-29    0.011995\n",
       "2018-07-09    0.016504\n",
       "2018-07-12    0.018961\n",
       "2018-07-24    0.015873\n",
       "2018-08-07    0.014251\n",
       "2018-08-09    0.017846\n",
       "2018-08-21    0.014327\n",
       "2018-08-27    0.014278\n",
       "2018-09-26    0.012689\n",
       "2018-10-22    0.041718\n",
       "2018-10-24    0.015288\n",
       "2018-10-31    0.011293\n",
       "2018-11-01    0.011311\n",
       "2018-11-02    0.012052\n",
       "2018-12-03    0.029078\n",
       "2018-12-13    0.016006\n",
       "Name: close, dtype: float64"
      ]
     },
     "execution_count": 28,
     "metadata": {},
     "output_type": "execute_result"
    }
   ],
   "source": [
    "half_filter"
   ]
  },
  {
   "cell_type": "code",
   "execution_count": 33,
   "metadata": {},
   "outputs": [
    {
     "data": {
      "text/plain": [
       "date\n",
       "2017-04-05    0.014833\n",
       "2017-08-25    0.018343\n",
       "2017-10-09    0.007596\n",
       "2018-01-02    0.012446\n",
       "2018-02-13    0.009774\n",
       "2018-02-22    0.021693\n",
       "2018-04-24    0.019857\n",
       "2018-05-07    0.014756\n",
       "2018-05-31    0.017765\n",
       "2018-06-29    0.021716\n",
       "2018-07-09    0.024709\n",
       "2018-07-12    0.021560\n",
       "2018-07-24    0.016093\n",
       "2018-08-07    0.027433\n",
       "2018-08-09    0.018334\n",
       "2018-08-21    0.013104\n",
       "2018-08-27    0.018857\n",
       "2018-09-26    0.009230\n",
       "2018-10-22    0.040938\n",
       "2018-10-24    0.003264\n",
       "2018-10-31    0.013524\n",
       "2018-11-01    0.001329\n",
       "2018-11-02    0.026951\n",
       "2018-12-03    0.025736\n",
       "2018-12-13    0.012259\n",
       "Name: close, dtype: float64"
      ]
     },
     "execution_count": 33,
     "metadata": {},
     "output_type": "execute_result"
    }
   ],
   "source": [
    "full_filter"
   ]
  },
  {
   "cell_type": "code",
   "execution_count": 39,
   "metadata": {},
   "outputs": [
    {
     "data": {
      "text/plain": [
       "date\n",
       "2018-10-23    2594.83\n",
       "2018-10-24    2603.30\n",
       "2018-10-25    2603.80\n",
       "2018-10-26    2598.85\n",
       "2018-10-29    2542.10\n",
       "2018-10-30    2568.05\n",
       "2018-10-31    2602.78\n",
       "2018-11-01    2606.24\n",
       "2018-11-02    2676.48\n",
       "2018-11-05    2665.43\n",
       "Name: close, dtype: float64"
      ]
     },
     "execution_count": 39,
     "metadata": {},
     "output_type": "execute_result"
    }
   ],
   "source": [
    "data_full_day.close[-50:-40:]"
   ]
  },
  {
   "cell_type": "code",
   "execution_count": 32,
   "metadata": {},
   "outputs": [
    {
     "data": {
      "text/html": [
       "<div>\n",
       "<style scoped>\n",
       "    .dataframe tbody tr th:only-of-type {\n",
       "        vertical-align: middle;\n",
       "    }\n",
       "\n",
       "    .dataframe tbody tr th {\n",
       "        vertical-align: top;\n",
       "    }\n",
       "\n",
       "    .dataframe thead th {\n",
       "        text-align: right;\n",
       "    }\n",
       "</style>\n",
       "<table border=\"1\" class=\"dataframe\">\n",
       "  <thead>\n",
       "    <tr style=\"text-align: right;\">\n",
       "      <th></th>\n",
       "      <th>open</th>\n",
       "      <th>close</th>\n",
       "      <th>high</th>\n",
       "      <th>low</th>\n",
       "      <th>vol</th>\n",
       "      <th>amount</th>\n",
       "      <th>up_count</th>\n",
       "      <th>down_count</th>\n",
       "      <th>date</th>\n",
       "      <th>code</th>\n",
       "      <th>date_stamp</th>\n",
       "    </tr>\n",
       "    <tr>\n",
       "      <th>date</th>\n",
       "      <th></th>\n",
       "      <th></th>\n",
       "      <th></th>\n",
       "      <th></th>\n",
       "      <th></th>\n",
       "      <th></th>\n",
       "      <th></th>\n",
       "      <th></th>\n",
       "      <th></th>\n",
       "      <th></th>\n",
       "      <th></th>\n",
       "    </tr>\n",
       "  </thead>\n",
       "  <tbody>\n",
       "    <tr>\n",
       "      <th>2017-04-05</th>\n",
       "      <td>3235.66</td>\n",
       "      <td>3270.31</td>\n",
       "      <td>3270.65</td>\n",
       "      <td>3233.24</td>\n",
       "      <td>2483202.0</td>\n",
       "      <td>2.732012e+11</td>\n",
       "      <td>1123</td>\n",
       "      <td>89</td>\n",
       "      <td>2017-04-05</td>\n",
       "      <td>000001</td>\n",
       "      <td>1.491322e+09</td>\n",
       "    </tr>\n",
       "    <tr>\n",
       "      <th>2017-08-25</th>\n",
       "      <td>3271.46</td>\n",
       "      <td>3331.52</td>\n",
       "      <td>3331.91</td>\n",
       "      <td>3271.46</td>\n",
       "      <td>2058394.0</td>\n",
       "      <td>2.271410e+11</td>\n",
       "      <td>1170</td>\n",
       "      <td>112</td>\n",
       "      <td>2017-08-25</td>\n",
       "      <td>000001</td>\n",
       "      <td>1.503590e+09</td>\n",
       "    </tr>\n",
       "    <tr>\n",
       "      <th>2017-10-09</th>\n",
       "      <td>3403.25</td>\n",
       "      <td>3374.38</td>\n",
       "      <td>3410.17</td>\n",
       "      <td>3366.97</td>\n",
       "      <td>1917360.0</td>\n",
       "      <td>2.274406e+11</td>\n",
       "      <td>1080</td>\n",
       "      <td>224</td>\n",
       "      <td>2017-10-09</td>\n",
       "      <td>000001</td>\n",
       "      <td>1.507478e+09</td>\n",
       "    </tr>\n",
       "    <tr>\n",
       "      <th>2018-01-02</th>\n",
       "      <td>3314.03</td>\n",
       "      <td>3348.33</td>\n",
       "      <td>3349.05</td>\n",
       "      <td>3314.03</td>\n",
       "      <td>2022788.0</td>\n",
       "      <td>2.277885e+11</td>\n",
       "      <td>1108</td>\n",
       "      <td>230</td>\n",
       "      <td>2018-01-02</td>\n",
       "      <td>000001</td>\n",
       "      <td>1.514822e+09</td>\n",
       "    </tr>\n",
       "    <tr>\n",
       "      <th>2018-02-13</th>\n",
       "      <td>3176.11</td>\n",
       "      <td>3184.96</td>\n",
       "      <td>3219.22</td>\n",
       "      <td>3176.11</td>\n",
       "      <td>1515276.0</td>\n",
       "      <td>1.720452e+11</td>\n",
       "      <td>741</td>\n",
       "      <td>550</td>\n",
       "      <td>2018-02-13</td>\n",
       "      <td>000001</td>\n",
       "      <td>1.518451e+09</td>\n",
       "    </tr>\n",
       "    <tr>\n",
       "      <th>2018-02-22</th>\n",
       "      <td>3237.57</td>\n",
       "      <td>3268.56</td>\n",
       "      <td>3269.92</td>\n",
       "      <td>3234.12</td>\n",
       "      <td>1387304.0</td>\n",
       "      <td>1.573039e+11</td>\n",
       "      <td>1279</td>\n",
       "      <td>54</td>\n",
       "      <td>2018-02-22</td>\n",
       "      <td>000001</td>\n",
       "      <td>1.519229e+09</td>\n",
       "    </tr>\n",
       "    <tr>\n",
       "      <th>2018-04-24</th>\n",
       "      <td>3069.75</td>\n",
       "      <td>3128.93</td>\n",
       "      <td>3136.04</td>\n",
       "      <td>3069.75</td>\n",
       "      <td>1622748.0</td>\n",
       "      <td>1.955450e+11</td>\n",
       "      <td>1301</td>\n",
       "      <td>55</td>\n",
       "      <td>2018-04-24</td>\n",
       "      <td>000001</td>\n",
       "      <td>1.524499e+09</td>\n",
       "    </tr>\n",
       "    <tr>\n",
       "      <th>2018-05-07</th>\n",
       "      <td>3094.90</td>\n",
       "      <td>3136.64</td>\n",
       "      <td>3136.84</td>\n",
       "      <td>3091.66</td>\n",
       "      <td>1389481.0</td>\n",
       "      <td>1.782439e+11</td>\n",
       "      <td>1274</td>\n",
       "      <td>78</td>\n",
       "      <td>2018-05-07</td>\n",
       "      <td>000001</td>\n",
       "      <td>1.525622e+09</td>\n",
       "    </tr>\n",
       "    <tr>\n",
       "      <th>2018-05-31</th>\n",
       "      <td>3061.83</td>\n",
       "      <td>3095.47</td>\n",
       "      <td>3098.08</td>\n",
       "      <td>3054.27</td>\n",
       "      <td>1404755.0</td>\n",
       "      <td>1.851990e+11</td>\n",
       "      <td>1209</td>\n",
       "      <td>152</td>\n",
       "      <td>2018-05-31</td>\n",
       "      <td>000001</td>\n",
       "      <td>1.527696e+09</td>\n",
       "    </tr>\n",
       "    <tr>\n",
       "      <th>2018-06-29</th>\n",
       "      <td>2789.81</td>\n",
       "      <td>2847.42</td>\n",
       "      <td>2848.37</td>\n",
       "      <td>2782.38</td>\n",
       "      <td>1256716.0</td>\n",
       "      <td>1.356524e+11</td>\n",
       "      <td>1366</td>\n",
       "      <td>29</td>\n",
       "      <td>2018-06-29</td>\n",
       "      <td>000001</td>\n",
       "      <td>1.530202e+09</td>\n",
       "    </tr>\n",
       "    <tr>\n",
       "      <th>2018-07-09</th>\n",
       "      <td>2752.45</td>\n",
       "      <td>2815.11</td>\n",
       "      <td>2815.79</td>\n",
       "      <td>2752.45</td>\n",
       "      <td>1215493.0</td>\n",
       "      <td>1.356545e+11</td>\n",
       "      <td>1326</td>\n",
       "      <td>69</td>\n",
       "      <td>2018-07-09</td>\n",
       "      <td>000001</td>\n",
       "      <td>1.531066e+09</td>\n",
       "    </tr>\n",
       "    <tr>\n",
       "      <th>2018-07-12</th>\n",
       "      <td>2771.04</td>\n",
       "      <td>2837.66</td>\n",
       "      <td>2844.19</td>\n",
       "      <td>2771.04</td>\n",
       "      <td>1469801.0</td>\n",
       "      <td>1.703191e+11</td>\n",
       "      <td>1361</td>\n",
       "      <td>43</td>\n",
       "      <td>2018-07-12</td>\n",
       "      <td>000001</td>\n",
       "      <td>1.531325e+09</td>\n",
       "    </tr>\n",
       "    <tr>\n",
       "      <th>2018-07-24</th>\n",
       "      <td>2862.27</td>\n",
       "      <td>2905.56</td>\n",
       "      <td>2911.46</td>\n",
       "      <td>2862.27</td>\n",
       "      <td>2295783.0</td>\n",
       "      <td>2.287019e+11</td>\n",
       "      <td>1286</td>\n",
       "      <td>119</td>\n",
       "      <td>2018-07-24</td>\n",
       "      <td>000001</td>\n",
       "      <td>1.532362e+09</td>\n",
       "    </tr>\n",
       "    <tr>\n",
       "      <th>2018-08-07</th>\n",
       "      <td>2711.74</td>\n",
       "      <td>2779.37</td>\n",
       "      <td>2779.37</td>\n",
       "      <td>2696.04</td>\n",
       "      <td>1495797.0</td>\n",
       "      <td>1.472595e+11</td>\n",
       "      <td>1377</td>\n",
       "      <td>46</td>\n",
       "      <td>2018-08-07</td>\n",
       "      <td>000001</td>\n",
       "      <td>1.533571e+09</td>\n",
       "    </tr>\n",
       "    <tr>\n",
       "      <th>2018-08-09</th>\n",
       "      <td>2729.58</td>\n",
       "      <td>2794.38</td>\n",
       "      <td>2801.66</td>\n",
       "      <td>2726.22</td>\n",
       "      <td>1516603.0</td>\n",
       "      <td>1.510799e+11</td>\n",
       "      <td>1327</td>\n",
       "      <td>79</td>\n",
       "      <td>2018-08-09</td>\n",
       "      <td>000001</td>\n",
       "      <td>1.533744e+09</td>\n",
       "    </tr>\n",
       "    <tr>\n",
       "      <th>2018-08-21</th>\n",
       "      <td>2700.34</td>\n",
       "      <td>2733.83</td>\n",
       "      <td>2739.17</td>\n",
       "      <td>2696.29</td>\n",
       "      <td>1135868.0</td>\n",
       "      <td>1.222602e+11</td>\n",
       "      <td>1180</td>\n",
       "      <td>205</td>\n",
       "      <td>2018-08-21</td>\n",
       "      <td>000001</td>\n",
       "      <td>1.534781e+09</td>\n",
       "    </tr>\n",
       "    <tr>\n",
       "      <th>2018-08-27</th>\n",
       "      <td>2736.32</td>\n",
       "      <td>2780.90</td>\n",
       "      <td>2780.90</td>\n",
       "      <td>2736.32</td>\n",
       "      <td>1327625.0</td>\n",
       "      <td>1.414297e+11</td>\n",
       "      <td>1378</td>\n",
       "      <td>47</td>\n",
       "      <td>2018-08-27</td>\n",
       "      <td>000001</td>\n",
       "      <td>1.535299e+09</td>\n",
       "    </tr>\n",
       "    <tr>\n",
       "      <th>2018-09-26</th>\n",
       "      <td>2785.32</td>\n",
       "      <td>2806.81</td>\n",
       "      <td>2827.34</td>\n",
       "      <td>2783.34</td>\n",
       "      <td>1395677.0</td>\n",
       "      <td>1.450588e+11</td>\n",
       "      <td>786</td>\n",
       "      <td>510</td>\n",
       "      <td>2018-09-26</td>\n",
       "      <td>000001</td>\n",
       "      <td>1.537891e+09</td>\n",
       "    </tr>\n",
       "    <tr>\n",
       "      <th>2018-10-22</th>\n",
       "      <td>2565.64</td>\n",
       "      <td>2654.88</td>\n",
       "      <td>2675.41</td>\n",
       "      <td>2565.64</td>\n",
       "      <td>2118884.0</td>\n",
       "      <td>1.973098e+11</td>\n",
       "      <td>1467</td>\n",
       "      <td>5</td>\n",
       "      <td>2018-10-22</td>\n",
       "      <td>000001</td>\n",
       "      <td>1.540138e+09</td>\n",
       "    </tr>\n",
       "    <tr>\n",
       "      <th>2018-10-24</th>\n",
       "      <td>2579.97</td>\n",
       "      <td>2603.30</td>\n",
       "      <td>2640.40</td>\n",
       "      <td>2577.77</td>\n",
       "      <td>1600604.0</td>\n",
       "      <td>1.420822e+11</td>\n",
       "      <td>826</td>\n",
       "      <td>539</td>\n",
       "      <td>2018-10-24</td>\n",
       "      <td>000001</td>\n",
       "      <td>1.540310e+09</td>\n",
       "    </tr>\n",
       "    <tr>\n",
       "      <th>2018-10-31</th>\n",
       "      <td>2573.01</td>\n",
       "      <td>2602.78</td>\n",
       "      <td>2612.92</td>\n",
       "      <td>2567.03</td>\n",
       "      <td>1805503.0</td>\n",
       "      <td>1.548947e+11</td>\n",
       "      <td>1262</td>\n",
       "      <td>174</td>\n",
       "      <td>2018-10-31</td>\n",
       "      <td>000001</td>\n",
       "      <td>1.540915e+09</td>\n",
       "    </tr>\n",
       "    <tr>\n",
       "      <th>2018-11-01</th>\n",
       "      <td>2617.03</td>\n",
       "      <td>2606.24</td>\n",
       "      <td>2636.80</td>\n",
       "      <td>2603.65</td>\n",
       "      <td>2009039.0</td>\n",
       "      <td>1.802538e+11</td>\n",
       "      <td>724</td>\n",
       "      <td>644</td>\n",
       "      <td>2018-11-01</td>\n",
       "      <td>000001</td>\n",
       "      <td>1.541002e+09</td>\n",
       "    </tr>\n",
       "    <tr>\n",
       "      <th>2018-11-02</th>\n",
       "      <td>2649.25</td>\n",
       "      <td>2676.48</td>\n",
       "      <td>2676.48</td>\n",
       "      <td>2628.87</td>\n",
       "      <td>2250269.0</td>\n",
       "      <td>2.078616e+11</td>\n",
       "      <td>1431</td>\n",
       "      <td>39</td>\n",
       "      <td>2018-11-02</td>\n",
       "      <td>000001</td>\n",
       "      <td>1.541088e+09</td>\n",
       "    </tr>\n",
       "    <tr>\n",
       "      <th>2018-12-03</th>\n",
       "      <td>2647.13</td>\n",
       "      <td>2654.80</td>\n",
       "      <td>2665.30</td>\n",
       "      <td>2629.18</td>\n",
       "      <td>2074789.0</td>\n",
       "      <td>1.878318e+11</td>\n",
       "      <td>1465</td>\n",
       "      <td>16</td>\n",
       "      <td>2018-12-03</td>\n",
       "      <td>000001</td>\n",
       "      <td>1.543766e+09</td>\n",
       "    </tr>\n",
       "    <tr>\n",
       "      <th>2018-12-13</th>\n",
       "      <td>2607.14</td>\n",
       "      <td>2634.05</td>\n",
       "      <td>2645.84</td>\n",
       "      <td>2599.46</td>\n",
       "      <td>1507381.0</td>\n",
       "      <td>1.323961e+11</td>\n",
       "      <td>1174</td>\n",
       "      <td>230</td>\n",
       "      <td>2018-12-13</td>\n",
       "      <td>000001</td>\n",
       "      <td>1.544630e+09</td>\n",
       "    </tr>\n",
       "  </tbody>\n",
       "</table>\n",
       "</div>"
      ],
      "text/plain": [
       "               open    close     high      low        vol        amount  \\\n",
       "date                                                                      \n",
       "2017-04-05  3235.66  3270.31  3270.65  3233.24  2483202.0  2.732012e+11   \n",
       "2017-08-25  3271.46  3331.52  3331.91  3271.46  2058394.0  2.271410e+11   \n",
       "2017-10-09  3403.25  3374.38  3410.17  3366.97  1917360.0  2.274406e+11   \n",
       "2018-01-02  3314.03  3348.33  3349.05  3314.03  2022788.0  2.277885e+11   \n",
       "2018-02-13  3176.11  3184.96  3219.22  3176.11  1515276.0  1.720452e+11   \n",
       "2018-02-22  3237.57  3268.56  3269.92  3234.12  1387304.0  1.573039e+11   \n",
       "2018-04-24  3069.75  3128.93  3136.04  3069.75  1622748.0  1.955450e+11   \n",
       "2018-05-07  3094.90  3136.64  3136.84  3091.66  1389481.0  1.782439e+11   \n",
       "2018-05-31  3061.83  3095.47  3098.08  3054.27  1404755.0  1.851990e+11   \n",
       "2018-06-29  2789.81  2847.42  2848.37  2782.38  1256716.0  1.356524e+11   \n",
       "2018-07-09  2752.45  2815.11  2815.79  2752.45  1215493.0  1.356545e+11   \n",
       "2018-07-12  2771.04  2837.66  2844.19  2771.04  1469801.0  1.703191e+11   \n",
       "2018-07-24  2862.27  2905.56  2911.46  2862.27  2295783.0  2.287019e+11   \n",
       "2018-08-07  2711.74  2779.37  2779.37  2696.04  1495797.0  1.472595e+11   \n",
       "2018-08-09  2729.58  2794.38  2801.66  2726.22  1516603.0  1.510799e+11   \n",
       "2018-08-21  2700.34  2733.83  2739.17  2696.29  1135868.0  1.222602e+11   \n",
       "2018-08-27  2736.32  2780.90  2780.90  2736.32  1327625.0  1.414297e+11   \n",
       "2018-09-26  2785.32  2806.81  2827.34  2783.34  1395677.0  1.450588e+11   \n",
       "2018-10-22  2565.64  2654.88  2675.41  2565.64  2118884.0  1.973098e+11   \n",
       "2018-10-24  2579.97  2603.30  2640.40  2577.77  1600604.0  1.420822e+11   \n",
       "2018-10-31  2573.01  2602.78  2612.92  2567.03  1805503.0  1.548947e+11   \n",
       "2018-11-01  2617.03  2606.24  2636.80  2603.65  2009039.0  1.802538e+11   \n",
       "2018-11-02  2649.25  2676.48  2676.48  2628.87  2250269.0  2.078616e+11   \n",
       "2018-12-03  2647.13  2654.80  2665.30  2629.18  2074789.0  1.878318e+11   \n",
       "2018-12-13  2607.14  2634.05  2645.84  2599.46  1507381.0  1.323961e+11   \n",
       "\n",
       "            up_count  down_count        date    code    date_stamp  \n",
       "date                                                                \n",
       "2017-04-05      1123          89  2017-04-05  000001  1.491322e+09  \n",
       "2017-08-25      1170         112  2017-08-25  000001  1.503590e+09  \n",
       "2017-10-09      1080         224  2017-10-09  000001  1.507478e+09  \n",
       "2018-01-02      1108         230  2018-01-02  000001  1.514822e+09  \n",
       "2018-02-13       741         550  2018-02-13  000001  1.518451e+09  \n",
       "2018-02-22      1279          54  2018-02-22  000001  1.519229e+09  \n",
       "2018-04-24      1301          55  2018-04-24  000001  1.524499e+09  \n",
       "2018-05-07      1274          78  2018-05-07  000001  1.525622e+09  \n",
       "2018-05-31      1209         152  2018-05-31  000001  1.527696e+09  \n",
       "2018-06-29      1366          29  2018-06-29  000001  1.530202e+09  \n",
       "2018-07-09      1326          69  2018-07-09  000001  1.531066e+09  \n",
       "2018-07-12      1361          43  2018-07-12  000001  1.531325e+09  \n",
       "2018-07-24      1286         119  2018-07-24  000001  1.532362e+09  \n",
       "2018-08-07      1377          46  2018-08-07  000001  1.533571e+09  \n",
       "2018-08-09      1327          79  2018-08-09  000001  1.533744e+09  \n",
       "2018-08-21      1180         205  2018-08-21  000001  1.534781e+09  \n",
       "2018-08-27      1378          47  2018-08-27  000001  1.535299e+09  \n",
       "2018-09-26       786         510  2018-09-26  000001  1.537891e+09  \n",
       "2018-10-22      1467           5  2018-10-22  000001  1.540138e+09  \n",
       "2018-10-24       826         539  2018-10-24  000001  1.540310e+09  \n",
       "2018-10-31      1262         174  2018-10-31  000001  1.540915e+09  \n",
       "2018-11-01       724         644  2018-11-01  000001  1.541002e+09  \n",
       "2018-11-02      1431          39  2018-11-02  000001  1.541088e+09  \n",
       "2018-12-03      1465          16  2018-12-03  000001  1.543766e+09  \n",
       "2018-12-13      1174         230  2018-12-13  000001  1.544630e+09  "
      ]
     },
     "execution_count": 32,
     "metadata": {},
     "output_type": "execute_result"
    }
   ],
   "source": [
    "index_day[1:][ind]"
   ]
  },
  {
   "cell_type": "code",
   "execution_count": 3,
   "metadata": {},
   "outputs": [],
   "source": [
    "def update_data(data, start, end):\n",
    "    \"\"\"\n",
    "    Implements:\n",
    "        update the 60mins data & save the data to the excel file\n",
    "    \n",
    "    Arguments:\n",
    "        data -- dataframe type, 60mins data that to be updating\n",
    "        start -- str, the data updated start date\n",
    "        end -- str, the data updated end date\n",
    "    \n",
    "    Returns:\n",
    "        data\n",
    "    \"\"\"\n",
    "    # retrieve & adjust cols for concating\n",
    "    data_update = QA.QA_fetch_get_index_min('tdx', '000001', start, end, '60min')\n",
    "    data_update = data_update.loc[:,['open', 'close', 'high', 'low', 'vol', 'amount', 'up_count',\n",
    "           'down_count', 'code', 'date', 'date_stamp', 'time_stamp', 'type']]\n",
    "\n",
    "    # concat data\n",
    "    data = pd.concat([data, data_update], axis=0)\n",
    "\n",
    "    # save data\n",
    "    writer = pd.ExcelWriter('index_60min.xlsx')\n",
    "    data.to_excel(writer)\n",
    "    writer.save()\n",
    "    \n",
    "    return data"
   ]
  },
  {
   "cell_type": "code",
   "execution_count": 4,
   "metadata": {},
   "outputs": [],
   "source": [
    "def update_and_import_data():\n",
    "    \"\"\"\n",
    "    Implements:\n",
    "        update the 60min data\n",
    "        import the data\n",
    "    \n",
    "    Arguments:\n",
    "        --\n",
    "    \n",
    "    Returns:\n",
    "        data_min_resample_day\n",
    "        index_day\n",
    "    \"\"\"\n",
    "    # read non-update data\n",
    "    data = pd.read_excel('index_60min.xlsx',index_col=0, header=0)\n",
    "    \n",
    "    start_update = QA.QA_util_get_next_day(data.index[-1].strftime('%Y-%m-%d'), 1)\n",
    "    today = datetime.datetime.today().strftime('%Y-%m-%d')\n",
    "    end_update = QA.QA_util_get_last_day(today, 1)\n",
    "    \n",
    "    if start_update < today:\n",
    "        data = update_data(data, start_update, end_update)\n",
    "    \n",
    "    # resample data\n",
    "    data_min = data[(data.index.hour == 10) | (data.index.hour == 11)].loc[:, \n",
    "        ['open', 'high', 'low', 'close', 'vol', 'amount']]\n",
    "    data_min_resample_day = data_min.resample('D').apply({\n",
    "        'open':'first', 'high':'max', 'low':'min', 'close':'last',\n",
    "        'vol':'sum','amount':'sum'\n",
    "    }).dropna()\n",
    "    \n",
    "    start = '2016-11-16'\n",
    "    end = end_update\n",
    "    index_day = QA.QA_fetch_get_index_day('tdx', '000001', start, end)\n",
    "    \n",
    "    return (data_min_resample_day, index_day)"
   ]
  },
  {
   "cell_type": "code",
   "execution_count": 9,
   "metadata": {},
   "outputs": [],
   "source": [
    "def calc_right_nums(data_half_day, data_full_day, cur_half_day_range):\n",
    "    \"\"\"\n",
    "    Implements:\n",
    "        依据半天的涨幅，计算出有多少半天的涨幅和全天涨幅一致的数量和整体数量\n",
    "    Arguments:\n",
    "        \n",
    "    Returns:\n",
    "        \n",
    "    \"\"\"\n",
    "    # 计算半天的涨幅和全天的涨幅\n",
    "    half_day_change = (data_half_day.close / data_full_day.close.shift(1))[1:] - 1\n",
    "    full_day_change = data_full_day.close.pct_change()[1:]\n",
    "    \n",
    "    if cur_half_day_range >= 0:\n",
    "        ind = half_day_change >= cur_half_day_range\n",
    "    else:\n",
    "        ind = half_day_change <= cur_half_day_range\n",
    "    \n",
    "    half_filter = half_day_change[ind]\n",
    "    full_filter = full_day_change[ind]\n",
    "    \n",
    "    result = (np.sign(half_filter) * np.sign(full_filter)).value_counts()\n",
    "    right_nums = result.loc[1.0]\n",
    "    total_nums = result.sum()\n",
    "    \n",
    "    return (right_nums, total_nums)"
   ]
  },
  {
   "cell_type": "code",
   "execution_count": 10,
   "metadata": {},
   "outputs": [],
   "source": [
    "def Kelly_Criterion(p, q, bet_win, bet_loss):\n",
    "    \"\"\"\n",
    "    Implements:\n",
    "        依据当前的半日涨跌幅, 赔率计算仓位\n",
    "    Arguments:\n",
    "        \n",
    "    Returns:\n",
    "        \n",
    "    \"\"\"\n",
    "    f_star = p - q / bet_win\n",
    "    f_star_reverse = q - p / bet_loss\n",
    "    \n",
    "    return (f_star, f_star_reverse)"
   ]
  },
  {
   "cell_type": "code",
   "execution_count": 24,
   "metadata": {},
   "outputs": [],
   "source": [
    "def calc_probability_and_position(data_half_day, data_full_day, cur_half_day_range, bet_win, bet_loss):\n",
    "    \"\"\"\n",
    "    Implements:\n",
    "        \n",
    "    Arugments:\n",
    "        \n",
    "    Returns:\n",
    "        \n",
    "    \"\"\"\n",
    "    right_nums, total_nums = calc_right_nums(data_half_day, data_full_day, cur_half_day_range)\n",
    "    if cur_half_day_range >= 0:\n",
    "        p = right_nums / total_nums\n",
    "        q = 1 - p\n",
    "    else:\n",
    "        q = right_nums / total_nums\n",
    "        p = 1 - q\n",
    "        \n",
    "    f_star, f_star_reverse = Kelly_Criterion(p, q, bet_win, bet_loss)\n",
    "    return (f_star, f_star_reverse)"
   ]
  },
  {
   "cell_type": "code",
   "execution_count": 5,
   "metadata": {},
   "outputs": [
    {
     "name": "stderr",
     "output_type": "stream",
     "text": [
      "QUANTAXIS>> Selecting the Best Server IP of TDX\n"
     ]
    },
    {
     "name": "stdout",
     "output_type": "stream",
     "text": [
      "USING DEFAULT STOCK IP\n",
      "USING DEFAULT FUTURE IP\n"
     ]
    },
    {
     "name": "stderr",
     "output_type": "stream",
     "text": [
      "QUANTAXIS>> === The BEST SERVER ===\n",
      " stock_ip 60.191.117.167 future_ip 202.103.36.71\n"
     ]
    }
   ],
   "source": [
    "data_half_day, data_full_day = update_and_import_data()"
   ]
  },
  {
   "cell_type": "code",
   "execution_count": 34,
   "metadata": {},
   "outputs": [],
   "source": [
    "half_range = 0 * 1e-4\n",
    "bet_win = 0.47\n",
    "bet_loss = 1.72"
   ]
  },
  {
   "cell_type": "code",
   "execution_count": 35,
   "metadata": {},
   "outputs": [
    {
     "name": "stdout",
     "output_type": "stream",
     "text": [
      "0.40863579474342926 -0.2823920265780731\n"
     ]
    }
   ],
   "source": [
    "f_star, f_star_reverse = calc_probability_and_position(data_half_day, data_full_day,\n",
    "                                                       half_range, bet_win, bet_loss)\n",
    "print(f_star, f_star_reverse)"
   ]
  },
  {
   "cell_type": "code",
   "execution_count": 20,
   "metadata": {},
   "outputs": [
    {
     "data": {
      "text/plain": [
       "33"
      ]
     },
     "execution_count": 20,
     "metadata": {},
     "output_type": "execute_result"
    }
   ],
   "source": [
    "int(f_star * 12000)"
   ]
  }
 ],
 "metadata": {
  "kernelspec": {
   "display_name": "Python 3",
   "language": "python",
   "name": "python3"
  },
  "language_info": {
   "codemirror_mode": {
    "name": "ipython",
    "version": 3
   },
   "file_extension": ".py",
   "mimetype": "text/x-python",
   "name": "python",
   "nbconvert_exporter": "python",
   "pygments_lexer": "ipython3",
   "version": "3.6.5"
  },
  "toc": {
   "base_numbering": 1,
   "nav_menu": {},
   "number_sections": true,
   "sideBar": true,
   "skip_h1_title": false,
   "title_cell": "Table of Contents",
   "title_sidebar": "Contents",
   "toc_cell": false,
   "toc_position": {},
   "toc_section_display": true,
   "toc_window_display": false
  },
  "varInspector": {
   "cols": {
    "lenName": 16,
    "lenType": 16,
    "lenVar": 40
   },
   "kernels_config": {
    "python": {
     "delete_cmd_postfix": "",
     "delete_cmd_prefix": "del ",
     "library": "var_list.py",
     "varRefreshCmd": "print(var_dic_list())"
    },
    "r": {
     "delete_cmd_postfix": ") ",
     "delete_cmd_prefix": "rm(",
     "library": "var_list.r",
     "varRefreshCmd": "cat(var_dic_list()) "
    }
   },
   "types_to_exclude": [
    "module",
    "function",
    "builtin_function_or_method",
    "instance",
    "_Feature"
   ],
   "window_display": false
  }
 },
 "nbformat": 4,
 "nbformat_minor": 2
}
