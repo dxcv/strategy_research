{
 "cells": [
  {
   "cell_type": "code",
   "execution_count": 1,
   "metadata": {},
   "outputs": [],
   "source": [
    "import numpy as np\n",
    "import pandas as pd\n",
    "import matplotlib.pyplot as plt\n",
    "import seaborn as sns\n",
    "# import statsmodels.api as sm\n",
    "# import tushare as ts\n",
    "import QUANTAXIS as QA\n",
    "import talib as ta\n",
    "import datetime\n"
   ]
  },
  {
   "cell_type": "code",
   "execution_count": 2,
   "metadata": {},
   "outputs": [],
   "source": [
    "plt.rcParams['figure.figsize'] = [12, 8]\n",
    "plt.rcParams['image.interpolation'] = 'nearest'\n",
    "plt.rcParams['image.cmap'] = 'gray'\n",
    "plt.style.use('ggplot')"
   ]
  },
  {
   "cell_type": "code",
   "execution_count": 12,
   "metadata": {},
   "outputs": [],
   "source": [
    "code = '000300'\n",
    "start = '2018-05-01'\n",
    "end = '2018-11-30'"
   ]
  },
  {
   "cell_type": "code",
   "execution_count": 13,
   "metadata": {},
   "outputs": [],
   "source": [
    "data = QA.QA_fetch_index_day_adv(code, start, end)"
   ]
  },
  {
   "cell_type": "code",
   "execution_count": 29,
   "metadata": {},
   "outputs": [],
   "source": [
    "index_data = QA.QA_fetch_index_day_adv('000001', start, end)"
   ]
  },
  {
   "cell_type": "code",
   "execution_count": 6,
   "metadata": {},
   "outputs": [
    {
     "data": {
      "text/html": [
       "<div>\n",
       "<style scoped>\n",
       "    .dataframe tbody tr th:only-of-type {\n",
       "        vertical-align: middle;\n",
       "    }\n",
       "\n",
       "    .dataframe tbody tr th {\n",
       "        vertical-align: top;\n",
       "    }\n",
       "\n",
       "    .dataframe thead th {\n",
       "        text-align: right;\n",
       "    }\n",
       "</style>\n",
       "<table border=\"1\" class=\"dataframe\">\n",
       "  <thead>\n",
       "    <tr style=\"text-align: right;\">\n",
       "      <th></th>\n",
       "      <th></th>\n",
       "      <th>open</th>\n",
       "      <th>high</th>\n",
       "      <th>low</th>\n",
       "      <th>close</th>\n",
       "      <th>up_count</th>\n",
       "      <th>down_count</th>\n",
       "      <th>volume</th>\n",
       "      <th>amount</th>\n",
       "    </tr>\n",
       "    <tr>\n",
       "      <th>date</th>\n",
       "      <th>code</th>\n",
       "      <th></th>\n",
       "      <th></th>\n",
       "      <th></th>\n",
       "      <th></th>\n",
       "      <th></th>\n",
       "      <th></th>\n",
       "      <th></th>\n",
       "      <th></th>\n",
       "    </tr>\n",
       "  </thead>\n",
       "  <tbody>\n",
       "    <tr>\n",
       "      <th>2018-05-02</th>\n",
       "      <th>000300</th>\n",
       "      <td>3769.93</td>\n",
       "      <td>3787.30</td>\n",
       "      <td>3744.55</td>\n",
       "      <td>3763.65</td>\n",
       "      <td>145</td>\n",
       "      <td>129</td>\n",
       "      <td>833010.0</td>\n",
       "      <td>1.200835e+11</td>\n",
       "    </tr>\n",
       "    <tr>\n",
       "      <th>2018-05-03</th>\n",
       "      <th>000300</th>\n",
       "      <td>3756.17</td>\n",
       "      <td>3797.53</td>\n",
       "      <td>3732.37</td>\n",
       "      <td>3793.00</td>\n",
       "      <td>193</td>\n",
       "      <td>82</td>\n",
       "      <td>939611.0</td>\n",
       "      <td>1.227402e+11</td>\n",
       "    </tr>\n",
       "    <tr>\n",
       "      <th>2018-05-04</th>\n",
       "      <th>000300</th>\n",
       "      <td>3784.32</td>\n",
       "      <td>3801.52</td>\n",
       "      <td>3770.94</td>\n",
       "      <td>3774.60</td>\n",
       "      <td>95</td>\n",
       "      <td>178</td>\n",
       "      <td>715542.0</td>\n",
       "      <td>9.831526e+10</td>\n",
       "    </tr>\n",
       "    <tr>\n",
       "      <th>2018-05-07</th>\n",
       "      <th>000300</th>\n",
       "      <td>3782.54</td>\n",
       "      <td>3834.59</td>\n",
       "      <td>3776.03</td>\n",
       "      <td>3834.19</td>\n",
       "      <td>271</td>\n",
       "      <td>9</td>\n",
       "      <td>872861.0</td>\n",
       "      <td>1.263548e+11</td>\n",
       "    </tr>\n",
       "    <tr>\n",
       "      <th>2018-05-08</th>\n",
       "      <th>000300</th>\n",
       "      <td>3834.61</td>\n",
       "      <td>3892.07</td>\n",
       "      <td>3833.73</td>\n",
       "      <td>3878.68</td>\n",
       "      <td>216</td>\n",
       "      <td>59</td>\n",
       "      <td>942151.0</td>\n",
       "      <td>1.354459e+11</td>\n",
       "    </tr>\n",
       "  </tbody>\n",
       "</table>\n",
       "</div>"
      ],
      "text/plain": [
       "                      open     high      low    close  up_count  down_count  \\\n",
       "date       code                                                               \n",
       "2018-05-02 000300  3769.93  3787.30  3744.55  3763.65       145         129   \n",
       "2018-05-03 000300  3756.17  3797.53  3732.37  3793.00       193          82   \n",
       "2018-05-04 000300  3784.32  3801.52  3770.94  3774.60        95         178   \n",
       "2018-05-07 000300  3782.54  3834.59  3776.03  3834.19       271           9   \n",
       "2018-05-08 000300  3834.61  3892.07  3833.73  3878.68       216          59   \n",
       "\n",
       "                     volume        amount  \n",
       "date       code                            \n",
       "2018-05-02 000300  833010.0  1.200835e+11  \n",
       "2018-05-03 000300  939611.0  1.227402e+11  \n",
       "2018-05-04 000300  715542.0  9.831526e+10  \n",
       "2018-05-07 000300  872861.0  1.263548e+11  \n",
       "2018-05-08 000300  942151.0  1.354459e+11  "
      ]
     },
     "execution_count": 6,
     "metadata": {},
     "output_type": "execute_result"
    }
   ],
   "source": [
    "data.data.head()"
   ]
  },
  {
   "cell_type": "code",
   "execution_count": 16,
   "metadata": {},
   "outputs": [],
   "source": [
    "cum = (data.close / data.close[0]) - 1"
   ]
  },
  {
   "cell_type": "code",
   "execution_count": 17,
   "metadata": {
    "scrolled": false
   },
   "outputs": [
    {
     "data": {
      "image/png": "[encoded data removed]",
      "text/plain": [
       "<Figure size 864x576 with 1 Axes>"
      ]
     },
     "metadata": {},
     "output_type": "display_data"
    }
   ],
   "source": [
    "plt.plot(data.date, cum);"
   ]
  },
  {
   "cell_type": "code",
   "execution_count": 22,
   "metadata": {},
   "outputs": [
    {
     "data": {
      "text/plain": [
       "DatetimeIndex(['2018-05-02', '2018-05-03', '2018-05-04', '2018-05-07',\n",
       "               '2018-05-08', '2018-05-09', '2018-05-10', '2018-05-11',\n",
       "               '2018-05-14', '2018-05-15',\n",
       "               ...\n",
       "               '2018-11-19', '2018-11-20', '2018-11-21', '2018-11-22',\n",
       "               '2018-11-23', '2018-11-26', '2018-11-27', '2018-11-28',\n",
       "               '2018-11-29', '2018-11-30'],\n",
       "              dtype='datetime64[ns]', name='date', length=146, freq=None)"
      ]
     },
     "execution_count": 22,
     "metadata": {},
     "output_type": "execute_result"
    }
   ],
   "source": [
    "cum.index.droplevel(1)"
   ]
  },
  {
   "cell_type": "code",
   "execution_count": 24,
   "metadata": {},
   "outputs": [],
   "source": [
    "cum.index = cum.index.droplevel(1)"
   ]
  },
  {
   "cell_type": "code",
   "execution_count": null,
   "metadata": {},
   "outputs": [],
   "source": []
  },
  {
   "cell_type": "code",
   "execution_count": 30,
   "metadata": {},
   "outputs": [
    {
     "name": "stdout",
     "output_type": "stream",
     "text": [
      "2018-05-02 00:00:00 0.0 3081.18\n",
      "2018-05-03 00:00:00 0.0077982809241 3100.86\n",
      "2018-05-04 00:00:00 0.00290940974852 3091.03\n",
      "2018-05-07 00:00:00 0.0187424441699 3136.64\n",
      "2018-05-08 00:00:00 0.030563415833 3161.5\n",
      "2018-05-09 00:00:00 0.0286875772189 3159.15\n",
      "2018-05-10 00:00:00 0.0343841749366 3174.41\n",
      "2018-05-11 00:00:00 0.0290117306338 3163.26\n",
      "2018-05-14 00:00:00 0.0386964781529 3174.03\n",
      "2018-05-15 00:00:00 0.0426314880502 3192.12\n",
      "2018-05-16 00:00:00 0.0343257210421 3169.57\n",
      "2018-05-17 00:00:00 0.0266762318494 3154.28\n",
      "2018-05-18 00:00:00 0.0370411701407 3193.3\n",
      "2018-05-21 00:00:00 0.0418715874218 3213.84\n",
      "2018-05-22 00:00:00 0.03787812363 3214.35\n",
      "2018-05-23 00:00:00 0.0241600573911 3168.96\n",
      "2018-05-24 00:00:00 0.0168905185126 3154.65\n",
      "2018-05-25 00:00:00 0.0140422196538 3141.3\n",
      "2018-05-28 00:00:00 0.0184953436159 3135.08\n",
      "2018-05-29 00:00:00 0.0107236326438 3120.46\n",
      "2018-05-30 00:00:00 -0.0107023766822 3041.44\n",
      "2018-05-31 00:00:00 0.0102905424256 3095.47\n",
      "2018-06-01 00:00:00 0.00184395467166 3075.14\n",
      "2018-06-04 00:00:00 0.0116721799317 3091.19\n",
      "2018-06-05 00:00:00 0.0216996798321 3114.21\n",
      "2018-06-06 00:00:00 0.0195820546544 3115.18\n",
      "2018-06-07 00:00:00 0.017897519695 3109.5\n",
      "2018-06-08 00:00:00 0.00424322134099 3067.15\n",
      "2018-06-11 00:00:00 0.00433887316833 3052.78\n",
      "2018-06-12 00:00:00 0.0165530801217 3079.8\n",
      "2018-06-13 00:00:00 0.00656012115898 3049.8\n",
      "2018-06-14 00:00:00 0.00258259933841 3044.16\n",
      "2018-06-15 00:00:00 -0.00271544909861 3021.9\n",
      "2018-06-19 00:00:00 -0.0378701526444 2907.82\n",
      "2018-06-20 00:00:00 -0.0340653355121 2915.73\n",
      "2018-06-21 00:00:00 -0.045349594144 2875.81\n",
      "2018-06-22 00:00:00 -0.0411170007838 2889.76\n",
      "2018-06-25 00:00:00 -0.0539821715622 2859.34\n",
      "2018-06-26 00:00:00 -0.0617857664767 2844.51\n",
      "2018-06-27 00:00:00 -0.0808762770183 2813.18\n",
      "2018-06-28 00:00:00 -0.0903697208827 2786.9\n",
      "2018-06-29 00:00:00 -0.0671342978226 2847.42\n",
      "2018-07-02 00:00:00 -0.0945066624155 2775.56\n",
      "2018-07-03 00:00:00 -0.0941559390485 2786.89\n",
      "2018-07-04 00:00:00 -0.106253238213 2759.13\n",
      "2018-07-05 00:00:00 -0.111915294993 2733.88\n",
      "2018-07-06 00:00:00 -0.10588922987 2747.23\n",
      "2018-07-09 00:00:00 -0.08089753298 2815.11\n",
      "2018-07-10 00:00:00 -0.0786815989797 2827.63\n",
      "2018-07-11 00:00:00 -0.0946209132093 2777.77\n",
      "2018-07-12 00:00:00 -0.0750840274733 2837.66\n",
      "2018-07-13 00:00:00 -0.0719939420509 2831.18\n",
      "2018-07-16 00:00:00 -0.0774673521714 2814.04\n",
      "2018-07-17 00:00:00 -0.08350138828 2798.13\n",
      "2018-07-18 00:00:00 -0.0882999216186 2787.26\n",
      "2018-07-19 00:00:00 -0.0890917061895 2772.55\n",
      "2018-07-20 00:00:00 -0.0719408021469 2829.27\n",
      "2018-07-23 00:00:00 -0.0632099159061 2859.54\n",
      "2018-07-24 00:00:00 -0.0483413707438 2905.56\n",
      "2018-07-25 00:00:00 -0.0493935408447 2903.65\n",
      "2018-07-26 00:00:00 -0.0604200709418 2882.23\n",
      "2018-07-27 00:00:00 -0.0644108777384 2873.59\n",
      "2018-07-30 00:00:00 -0.0660449297889 2869.05\n",
      "2018-07-31 00:00:00 -0.0653594250262 2876.4\n",
      "2018-08-01 00:00:00 -0.0840301303256 2824.53\n",
      "2018-08-02 00:00:00 -0.104337544671 2768.02\n",
      "2018-08-03 00:00:00 -0.119131693967 2740.44\n",
      "2018-08-06 00:00:00 -0.13029373082 2705.16\n",
      "2018-08-07 00:00:00 -0.104892856668 2779.37\n",
      "2018-08-08 00:00:00 -0.119336282598 2744.07\n",
      "2018-08-09 00:00:00 -0.0972779084134 2794.38\n",
      "2018-08-10 00:00:00 -0.0952878190055 2795.31\n",
      "2018-08-13 00:00:00 -0.0991882879651 2785.87\n",
      "2018-08-14 00:00:00 -0.103819430606 2780.96\n",
      "2018-08-15 00:00:00 -0.125322492793 2723.26\n",
      "2018-08-16 00:00:00 -0.129374410479 2705.19\n",
      "2018-08-17 00:00:00 -0.141891514886 2668.97\n",
      "2018-08-20 00:00:00 -0.131893241933 2698.47\n",
      "2018-08-21 00:00:00 -0.11611069042 2733.83\n",
      "2018-08-22 00:00:00 -0.121079271452 2714.61\n",
      "2018-08-23 00:00:00 -0.117869621245 2724.62\n",
      "2018-08-24 00:00:00 -0.116461413787 2729.43\n",
      "2018-08-27 00:00:00 -0.0948759847488 2780.9\n",
      "2018-08-28 00:00:00 -0.0965764616795 2777.98\n",
      "2018-08-29 00:00:00 -0.100189975157 2769.29\n",
      "2018-08-30 00:00:00 -0.109616994141 2737.74\n",
      "2018-08-31 00:00:00 -0.114024949185 2725.25\n",
      "2018-09-03 00:00:00 -0.117394019104 2720.73\n",
      "2018-09-04 00:00:00 -0.106213383285 2750.58\n",
      "2018-09-05 00:00:00 -0.123685783747 2704.34\n",
      "2018-09-06 00:00:00 -0.133054348837 2691.59\n",
      "2018-09-07 00:00:00 -0.129132623916 2702.3\n",
      "2018-09-10 00:00:00 -0.141771950102 2669.48\n",
      "2018-09-11 00:00:00 -0.143328949291 2664.8\n",
      "2018-09-12 00:00:00 -0.149222164654 2656.11\n",
      "2018-09-13 00:00:00 -0.140044903219 2686.58\n",
      "2018-09-14 00:00:00 -0.138578241866 2681.64\n",
      "2018-09-17 00:00:00 -0.14845429304 2651.79\n",
      "2018-09-18 00:00:00 -0.131314016978 2699.95\n",
      "2018-09-19 00:00:00 -0.119875652624 2730.85\n",
      "2018-09-20 00:00:00 -0.120500046497 2729.24\n",
      "2018-09-21 00:00:00 -0.0938344426288 2797.49\n",
      "2018-09-25 00:00:00 -0.10198876091 2781.14\n",
      "2018-09-26 00:00:00 -0.092040970866 2806.81\n",
      "2018-09-27 00:00:00 -0.0956677693197 2791.78\n",
      "2018-09-28 00:00:00 -0.0862938902395 2821.35\n",
      "2018-10-08 00:00:00 -0.125609448275 2716.51\n",
      "2018-10-09 00:00:00 -0.126196644215 2721.01\n",
      "2018-10-10 00:00:00 -0.128080453815 2725.84\n",
      "2018-10-11 00:00:00 -0.169925471285 2583.46\n",
      "2018-10-12 00:00:00 -0.157538559643 2606.91\n",
      "2018-10-15 00:00:00 -0.169303734407 2568.1\n",
      "2018-10-16 00:00:00 -0.176073758187 2546.33\n",
      "2018-10-17 00:00:00 -0.171482470474 2561.61\n",
      "2018-10-18 00:00:00 -0.191107037052 2486.42\n",
      "2018-10-19 00:00:00 -0.167045288483 2550.47\n",
      "2018-10-22 00:00:00 -0.131090829381 2654.88\n",
      "2018-10-23 00:00:00 -0.154164175734 2594.83\n",
      "2018-10-24 00:00:00 -0.152896789021 2603.3\n",
      "2018-10-25 00:00:00 -0.151273364952 2603.8\n",
      "2018-10-26 00:00:00 -0.156765374038 2598.85\n",
      "2018-10-29 00:00:00 -0.182471802638 2542.1\n",
      "2018-10-30 00:00:00 -0.173605409642 2568.05\n",
      "2018-10-31 00:00:00 -0.162031538533 2602.78\n",
      "2018-11-01 00:00:00 -0.155864652664 2606.24\n",
      "2018-11-02 00:00:00 -0.125782152963 2676.48\n",
      "2018-11-05 00:00:00 -0.133064976818 2665.43\n",
      "2018-11-06 00:00:00 -0.138296600375 2659.36\n",
      "2018-11-07 00:00:00 -0.143940058188 2641.34\n",
      "2018-11-08 00:00:00 -0.146368551805 2635.63\n",
      "2018-11-09 00:00:00 -0.158412711065 2598.87\n",
      "2018-11-12 00:00:00 -0.148395839146 2630.52\n",
      "2018-11-13 00:00:00 -0.139829686607 2654.88\n",
      "2018-11-14 00:00:00 -0.14844897905 2632.24\n",
      "2018-11-15 00:00:00 -0.138503846001 2668.17\n",
      "2018-11-16 00:00:00 -0.134438643338 2679.11\n",
      "2018-11-19 00:00:00 -0.124626360049 2703.51\n",
      "2018-11-20 00:00:00 -0.14487000651 2645.85\n",
      "2018-11-21 00:00:00 -0.142723154385 2651.51\n",
      "2018-11-22 00:00:00 -0.145927490601 2645.43\n",
      "2018-11-23 00:00:00 -0.164778871574 2579.48\n",
      "2018-11-26 00:00:00 -0.1653740385 2575.81\n",
      "2018-11-27 00:00:00 -0.166436836582 2574.68\n",
      "2018-11-28 00:00:00 -0.155359823576 2601.74\n",
      "2018-11-29 00:00:00 -0.166327899778 2567.44\n",
      "2018-11-30 00:00:00 -0.157017788583 2588.19\n"
     ]
    }
   ],
   "source": [
    "for i in range(cum.shape[0]):\n",
    "    print(cum.index[i], cum[i], index_data.close[i])"
   ]
  }
 ],
 "metadata": {
  "kernelspec": {
   "display_name": "Python (quant)",
   "language": "python",
   "name": "quant"
  },
  "language_info": {
   "codemirror_mode": {
    "name": "ipython",
    "version": 3
   },
   "file_extension": ".py",
   "mimetype": "text/x-python",
   "name": "python",
   "nbconvert_exporter": "python",
   "pygments_lexer": "ipython3",
   "version": "3.6.6"
  },
  "toc": {
   "base_numbering": 1,
   "nav_menu": {},
   "number_sections": true,
   "sideBar": true,
   "skip_h1_title": false,
   "title_cell": "Table of Contents",
   "title_sidebar": "Contents",
   "toc_cell": false,
   "toc_position": {},
   "toc_section_display": true,
   "toc_window_display": false
  },
  "varInspector": {
   "cols": {
    "lenName": 16,
    "lenType": 16,
    "lenVar": 40
   },
   "kernels_config": {
    "python": {
     "delete_cmd_postfix": "",
     "delete_cmd_prefix": "del ",
     "library": "var_list.py",
     "varRefreshCmd": "print(var_dic_list())"
    },
    "r": {
     "delete_cmd_postfix": ") ",
     "delete_cmd_prefix": "rm(",
     "library": "var_list.r",
     "varRefreshCmd": "cat(var_dic_list()) "
    }
   },
   "position": {
    "height": "312px",
    "left": "1550px",
    "right": "20px",
    "top": "119px",
    "width": "350px"
   },
   "types_to_exclude": [
    "module",
    "function",
    "builtin_function_or_method",
    "instance",
    "_Feature"
   ],
   "window_display": true
  }
 },
 "nbformat": 4,
 "nbformat_minor": 2
}
