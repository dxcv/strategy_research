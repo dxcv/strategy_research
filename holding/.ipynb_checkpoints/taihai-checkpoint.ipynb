{
 "cells": [
  {
   "cell_type": "code",
   "execution_count": 1,
   "metadata": {},
   "outputs": [],
   "source": [
    "%load_ext autoreload\n",
    "%autoreload 2"
   ]
  },
  {
   "cell_type": "code",
   "execution_count": 2,
   "metadata": {},
   "outputs": [],
   "source": [
    "import numpy as np\n",
    "import pandas as pd\n",
    "import matplotlib.pyplot as plt\n",
    "import seaborn as sns\n",
    "# import statsmodels.api as sm\n",
    "# import tushare as ts\n",
    "import QUANTAXIS as QA\n",
    "import talib as ta\n",
    "import datetime\n"
   ]
  },
  {
   "cell_type": "code",
   "execution_count": 3,
   "metadata": {},
   "outputs": [],
   "source": [
    "plt.rcParams['figure.figsize'] = [12, 8]\n",
    "plt.rcParams['image.interpolation'] = 'nearest'\n",
    "plt.rcParams['image.cmap'] = 'gray'\n",
    "plt.style.use('ggplot')"
   ]
  },
  {
   "cell_type": "markdown",
   "metadata": {},
   "source": [
    "拿出台海的分钟级数据\n",
    "\n",
    "1/5/15/30/60"
   ]
  },
  {
   "cell_type": "code",
   "execution_count": 4,
   "metadata": {},
   "outputs": [],
   "source": [
    "code = '002366'"
   ]
  },
  {
   "cell_type": "code",
   "execution_count": 9,
   "metadata": {},
   "outputs": [],
   "source": [
    "start = '2010-03-12'\n",
    "end = '2018-12-31'"
   ]
  },
  {
   "cell_type": "code",
   "execution_count": 18,
   "metadata": {},
   "outputs": [],
   "source": [
    "data_day = QA.QA_fetch_stock_day_adv(code, '2001-01-01', '2019-01-01')"
   ]
  },
  {
   "cell_type": "code",
   "execution_count": 10,
   "metadata": {},
   "outputs": [],
   "source": [
    "data_1min = QA.QA_fetch_stock_min_adv(code, start, end, frequence='1min')"
   ]
  },
  {
   "cell_type": "code",
   "execution_count": 11,
   "metadata": {},
   "outputs": [],
   "source": [
    "data_5min = QA.QA_fetch_stock_min_adv(code, start, end, frequence='5min')\n",
    "data_15min = QA.QA_fetch_stock_min_adv(code, start, end, frequence='15min')\n",
    "data_30min = QA.QA_fetch_stock_min_adv(code, start, end, frequence='30min')\n",
    "data_60min = QA.QA_fetch_stock_min_adv(code, start, end, frequence='60min')"
   ]
  },
  {
   "cell_type": "code",
   "execution_count": 16,
   "metadata": {},
   "outputs": [
    {
     "data": {
      "text/html": [
       "<div>\n",
       "<style scoped>\n",
       "    .dataframe tbody tr th:only-of-type {\n",
       "        vertical-align: middle;\n",
       "    }\n",
       "\n",
       "    .dataframe tbody tr th {\n",
       "        vertical-align: top;\n",
       "    }\n",
       "\n",
       "    .dataframe thead th {\n",
       "        text-align: right;\n",
       "    }\n",
       "</style>\n",
       "<table border=\"1\" class=\"dataframe\">\n",
       "  <thead>\n",
       "    <tr style=\"text-align: right;\">\n",
       "      <th></th>\n",
       "      <th></th>\n",
       "      <th>open</th>\n",
       "      <th>high</th>\n",
       "      <th>low</th>\n",
       "      <th>close</th>\n",
       "      <th>volume</th>\n",
       "      <th>amount</th>\n",
       "      <th>type</th>\n",
       "      <th>high_limit</th>\n",
       "      <th>low_limit</th>\n",
       "    </tr>\n",
       "    <tr>\n",
       "      <th>datetime</th>\n",
       "      <th>code</th>\n",
       "      <th></th>\n",
       "      <th></th>\n",
       "      <th></th>\n",
       "      <th></th>\n",
       "      <th></th>\n",
       "      <th></th>\n",
       "      <th></th>\n",
       "      <th></th>\n",
       "      <th></th>\n",
       "    </tr>\n",
       "  </thead>\n",
       "  <tbody>\n",
       "    <tr>\n",
       "      <th>2016-03-21 10:30:00</th>\n",
       "      <th>002366</th>\n",
       "      <td>50.00</td>\n",
       "      <td>50.00</td>\n",
       "      <td>47.70</td>\n",
       "      <td>48.00</td>\n",
       "      <td>3818900.0</td>\n",
       "      <td>186194096.0</td>\n",
       "      <td>60min</td>\n",
       "      <td>NaN</td>\n",
       "      <td>NaN</td>\n",
       "    </tr>\n",
       "    <tr>\n",
       "      <th>2016-03-21 11:30:00</th>\n",
       "      <th>002366</th>\n",
       "      <td>48.18</td>\n",
       "      <td>49.09</td>\n",
       "      <td>48.18</td>\n",
       "      <td>48.82</td>\n",
       "      <td>767100.0</td>\n",
       "      <td>37297904.0</td>\n",
       "      <td>60min</td>\n",
       "      <td>52.80</td>\n",
       "      <td>43.20</td>\n",
       "    </tr>\n",
       "    <tr>\n",
       "      <th>2016-03-21 14:00:00</th>\n",
       "      <th>002366</th>\n",
       "      <td>48.88</td>\n",
       "      <td>49.01</td>\n",
       "      <td>48.10</td>\n",
       "      <td>48.37</td>\n",
       "      <td>382600.0</td>\n",
       "      <td>18630704.0</td>\n",
       "      <td>60min</td>\n",
       "      <td>53.70</td>\n",
       "      <td>43.94</td>\n",
       "    </tr>\n",
       "    <tr>\n",
       "      <th>2016-03-21 15:00:00</th>\n",
       "      <th>002366</th>\n",
       "      <td>48.40</td>\n",
       "      <td>48.70</td>\n",
       "      <td>48.25</td>\n",
       "      <td>48.69</td>\n",
       "      <td>807900.0</td>\n",
       "      <td>39223600.0</td>\n",
       "      <td>60min</td>\n",
       "      <td>53.21</td>\n",
       "      <td>43.53</td>\n",
       "    </tr>\n",
       "    <tr>\n",
       "      <th>2016-03-22 10:30:00</th>\n",
       "      <th>002366</th>\n",
       "      <td>48.00</td>\n",
       "      <td>50.50</td>\n",
       "      <td>47.89</td>\n",
       "      <td>49.15</td>\n",
       "      <td>2651500.0</td>\n",
       "      <td>130832120.0</td>\n",
       "      <td>60min</td>\n",
       "      <td>53.56</td>\n",
       "      <td>43.82</td>\n",
       "    </tr>\n",
       "  </tbody>\n",
       "</table>\n",
       "</div>"
      ],
      "text/plain": [
       "                             open   high    low  close     volume  \\\n",
       "datetime            code                                            \n",
       "2016-03-21 10:30:00 002366  50.00  50.00  47.70  48.00  3818900.0   \n",
       "2016-03-21 11:30:00 002366  48.18  49.09  48.18  48.82   767100.0   \n",
       "2016-03-21 14:00:00 002366  48.88  49.01  48.10  48.37   382600.0   \n",
       "2016-03-21 15:00:00 002366  48.40  48.70  48.25  48.69   807900.0   \n",
       "2016-03-22 10:30:00 002366  48.00  50.50  47.89  49.15  2651500.0   \n",
       "\n",
       "                                 amount   type  high_limit  low_limit  \n",
       "datetime            code                                               \n",
       "2016-03-21 10:30:00 002366  186194096.0  60min         NaN        NaN  \n",
       "2016-03-21 11:30:00 002366   37297904.0  60min       52.80      43.20  \n",
       "2016-03-21 14:00:00 002366   18630704.0  60min       53.70      43.94  \n",
       "2016-03-21 15:00:00 002366   39223600.0  60min       53.21      43.53  \n",
       "2016-03-22 10:30:00 002366  130832120.0  60min       53.56      43.82  "
      ]
     },
     "execution_count": 16,
     "metadata": {},
     "output_type": "execute_result"
    }
   ],
   "source": [
    "data_60min.data.head()"
   ]
  },
  {
   "cell_type": "code",
   "execution_count": 21,
   "metadata": {},
   "outputs": [],
   "source": [
    "writer = pd.ExcelWriter('data/data_min.xlsx')\n",
    "data_day.data.to_excel(writer, 'day')\n",
    "data_1min.data.to_excel(writer, '1min')\n",
    "data_5min.data.to_excel(writer, '5min')\n",
    "data_15min.data.to_excel(writer, '15min')\n",
    "data_30min.data.to_excel(writer, '30min')\n",
    "data_60min.data.to_excel(writer, '60min')\n",
    "writer.save()"
   ]
  },
  {
   "cell_type": "code",
   "execution_count": 22,
   "metadata": {},
   "outputs": [],
   "source": [
    "data_day_qfq = data_day.to_qfq()"
   ]
  },
  {
   "cell_type": "code",
   "execution_count": 30,
   "metadata": {},
   "outputs": [
    {
     "data": {
      "text/plain": [
       "date        code  \n",
       "2018-12-24  002366    10.23\n",
       "2018-12-25  002366    10.21\n",
       "2018-12-26  002366    10.08\n",
       "2018-12-27  002366     9.93\n",
       "2018-12-28  002366     9.51\n",
       "Name: open, dtype: float64"
      ]
     },
     "execution_count": 30,
     "metadata": {},
     "output_type": "execute_result"
    }
   ],
   "source": [
    "data_day_qfq.open.tail()"
   ]
  },
  {
   "cell_type": "code",
   "execution_count": 29,
   "metadata": {},
   "outputs": [
    {
     "data": {
      "text/plain": [
       "date        code  \n",
       "2018-12-24  002366    10.24\n",
       "2018-12-25  002366    10.00\n",
       "2018-12-26  002366     9.70\n",
       "2018-12-27  002366     9.32\n",
       "2018-12-28  002366     9.38\n",
       "Name: close, dtype: float64"
      ]
     },
     "execution_count": 29,
     "metadata": {},
     "output_type": "execute_result"
    }
   ],
   "source": [
    "data_day_qfq.close.tail()"
   ]
  },
  {
   "cell_type": "code",
   "execution_count": 28,
   "metadata": {},
   "outputs": [
    {
     "data": {
      "text/plain": [
       "date        code  \n",
       "2018-12-24  002366    10.15\n",
       "2018-12-25  002366    10.24\n",
       "2018-12-26  002366    10.00\n",
       "2018-12-27  002366     9.70\n",
       "2018-12-28  002366     9.32\n",
       "Name: close, dtype: float64"
      ]
     },
     "execution_count": 28,
     "metadata": {},
     "output_type": "execute_result"
    }
   ],
   "source": [
    "data_day_qfq.close.shift(1).tail()"
   ]
  },
  {
   "cell_type": "code",
   "execution_count": 31,
   "metadata": {},
   "outputs": [
    {
     "data": {
      "text/plain": [
       "date        code  \n",
       "2018-12-24  002366    10.00\n",
       "2018-12-25  002366     9.70\n",
       "2018-12-26  002366     9.32\n",
       "2018-12-27  002366     9.38\n",
       "2018-12-28  002366      NaN\n",
       "Name: close, dtype: float64"
      ]
     },
     "execution_count": 31,
     "metadata": {},
     "output_type": "execute_result"
    }
   ],
   "source": [
    "data_day_qfq.close.shift(-1).tail()"
   ]
  },
  {
   "cell_type": "markdown",
   "metadata": {},
   "source": [
    "避免未来函数??"
   ]
  },
  {
   "cell_type": "code",
   "execution_count": 34,
   "metadata": {
    "scrolled": true
   },
   "outputs": [
    {
     "data": {
      "text/plain": [
       "date        code  \n",
       "2018-12-24  002366    0.041646\n",
       "2018-12-25  002366    0.041689\n",
       "2018-12-26  002366    0.041774\n",
       "2018-12-27  002366    0.041871\n",
       "2018-12-28  002366    0.041867\n",
       "Name: close, dtype: float64"
      ]
     },
     "execution_count": 34,
     "metadata": {},
     "output_type": "execute_result"
    }
   ],
   "source": [
    "data_day_qfq.close.pct_change().rolling(90).std().tail()"
   ]
  },
  {
   "cell_type": "code",
   "execution_count": 35,
   "metadata": {},
   "outputs": [
    {
     "data": {
      "text/plain": [
       "date        code  \n",
       "2018-12-24  002366    0.007882\n",
       "2018-12-25  002366   -0.002930\n",
       "2018-12-26  002366    0.008000\n",
       "2018-12-27  002366    0.023711\n",
       "2018-12-28  002366    0.020386\n",
       "dtype: float64"
      ]
     },
     "execution_count": 35,
     "metadata": {},
     "output_type": "execute_result"
    }
   ],
   "source": [
    "((data_day_qfq.open - data_day_qfq.close.shift(1)) / \n",
    " data_day_qfq.close.shift(1)).tail()"
   ]
  }
 ],
 "metadata": {
  "kernelspec": {
   "display_name": "Python (quant)",
   "language": "python",
   "name": "quant"
  },
  "language_info": {
   "codemirror_mode": {
    "name": "ipython",
    "version": 3
   },
   "file_extension": ".py",
   "mimetype": "text/x-python",
   "name": "python",
   "nbconvert_exporter": "python",
   "pygments_lexer": "ipython3",
   "version": "3.6.6"
  },
  "toc": {
   "base_numbering": 1,
   "nav_menu": {},
   "number_sections": true,
   "sideBar": true,
   "skip_h1_title": false,
   "title_cell": "Table of Contents",
   "title_sidebar": "Contents",
   "toc_cell": false,
   "toc_position": {},
   "toc_section_display": true,
   "toc_window_display": false
  },
  "varInspector": {
   "cols": {
    "lenName": 16,
    "lenType": 16,
    "lenVar": 40
   },
   "kernels_config": {
    "python": {
     "delete_cmd_postfix": "",
     "delete_cmd_prefix": "del ",
     "library": "var_list.py",
     "varRefreshCmd": "print(var_dic_list())"
    },
    "r": {
     "delete_cmd_postfix": ") ",
     "delete_cmd_prefix": "rm(",
     "library": "var_list.r",
     "varRefreshCmd": "cat(var_dic_list()) "
    }
   },
   "types_to_exclude": [
    "module",
    "function",
    "builtin_function_or_method",
    "instance",
    "_Feature"
   ],
   "window_display": false
  }
 },
 "nbformat": 4,
 "nbformat_minor": 2
}
