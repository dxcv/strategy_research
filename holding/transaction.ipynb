{
 "cells": [
  {
   "cell_type": "markdown",
   "metadata": {},
   "source": [
    "想知道主力的成本是多少\n",
    "\n",
    "主力是平均多少钱离场的\n",
    "\n",
    "平均多少钱进场的\n",
    "\n",
    "主力什么时候进场的\n",
    "\n",
    "主力有几个，如何分辨"
   ]
  },
  {
   "cell_type": "markdown",
   "metadata": {},
   "source": [
    "看看volume_MA_135, 40, 5和volume四条线"
   ]
  },
  {
   "cell_type": "code",
   "execution_count": 1,
   "metadata": {},
   "outputs": [],
   "source": [
    "import numpy as np\n",
    "import pandas as pd\n",
    "import matplotlib.pyplot as plt\n",
    "import seaborn as sns\n",
    "# import statsmodels.api as sm\n",
    "# import tushare as ts\n",
    "import QUANTAXIS as QA\n",
    "import talib as ta\n",
    "import datetime"
   ]
  },
  {
   "cell_type": "code",
   "execution_count": 2,
   "metadata": {},
   "outputs": [],
   "source": [
    "plt.rcParams['figure.figsize'] = [12, 8]\n",
    "plt.rcParams['image.interpolation'] = 'nearest'\n",
    "plt.rcParams['image.cmap'] = 'gray'"
   ]
  },
  {
   "cell_type": "code",
   "execution_count": 3,
   "metadata": {},
   "outputs": [],
   "source": [
    "code = '002366'\n",
    "start = '2018-08-30'\n",
    "end = '2018-11-28'"
   ]
  },
  {
   "cell_type": "code",
   "execution_count": 4,
   "metadata": {
    "collapsed": true
   },
   "outputs": [
    {
     "name": "stderr",
     "output_type": "stream",
     "text": [
      "QUANTAXIS>> Selecting the Best Server IP of TDX\n"
     ]
    },
    {
     "name": "stdout",
     "output_type": "stream",
     "text": [
      "USING DEFAULT STOCK IP\n",
      "USING DEFAULT FUTURE IP\n"
     ]
    },
    {
     "name": "stderr",
     "output_type": "stream",
     "text": [
      "QUANTAXIS>> === The BEST SERVER ===\n",
      " stock_ip 60.191.117.167 future_ip 59.175.238.38\n",
      "QUANTAXIS>> Successfully Getting 002366 history transaction data in day 2018-08-30\n",
      "QUANTAXIS>> Successfully Getting 002366 history transaction data in day 2018-08-31\n",
      "QUANTAXIS>> Successfully Getting 002366 history transaction data in day 2018-09-03\n",
      "QUANTAXIS>> Successfully Getting 002366 history transaction data in day 2018-09-04\n",
      "QUANTAXIS>> Successfully Getting 002366 history transaction data in day 2018-09-05\n",
      "QUANTAXIS>> Successfully Getting 002366 history transaction data in day 2018-09-06\n",
      "QUANTAXIS>> Successfully Getting 002366 history transaction data in day 2018-09-07\n",
      "QUANTAXIS>> Successfully Getting 002366 history transaction data in day 2018-09-10\n",
      "QUANTAXIS>> Successfully Getting 002366 history transaction data in day 2018-09-11\n",
      "QUANTAXIS>> Successfully Getting 002366 history transaction data in day 2018-09-12\n",
      "QUANTAXIS>> Successfully Getting 002366 history transaction data in day 2018-09-13\n",
      "QUANTAXIS>> Successfully Getting 002366 history transaction data in day 2018-09-14\n",
      "QUANTAXIS>> Successfully Getting 002366 history transaction data in day 2018-09-17\n",
      "QUANTAXIS>> Successfully Getting 002366 history transaction data in day 2018-09-18\n",
      "QUANTAXIS>> Successfully Getting 002366 history transaction data in day 2018-09-19\n",
      "QUANTAXIS>> Successfully Getting 002366 history transaction data in day 2018-09-20\n",
      "QUANTAXIS>> Successfully Getting 002366 history transaction data in day 2018-09-21\n",
      "QUANTAXIS>> Successfully Getting 002366 history transaction data in day 2018-09-25\n",
      "QUANTAXIS>> Successfully Getting 002366 history transaction data in day 2018-09-26\n",
      "QUANTAXIS>> Successfully Getting 002366 history transaction data in day 2018-09-27\n",
      "QUANTAXIS>> Successfully Getting 002366 history transaction data in day 2018-09-28\n",
      "QUANTAXIS>> Successfully Getting 002366 history transaction data in day 2018-10-08\n",
      "QUANTAXIS>> Successfully Getting 002366 history transaction data in day 2018-10-09\n",
      "QUANTAXIS>> Successfully Getting 002366 history transaction data in day 2018-10-10\n",
      "QUANTAXIS>> Successfully Getting 002366 history transaction data in day 2018-10-11\n",
      "QUANTAXIS>> Successfully Getting 002366 history transaction data in day 2018-10-12\n",
      "QUANTAXIS>> Successfully Getting 002366 history transaction data in day 2018-10-15\n",
      "QUANTAXIS>> Successfully Getting 002366 history transaction data in day 2018-10-16\n",
      "QUANTAXIS>> Successfully Getting 002366 history transaction data in day 2018-10-17\n",
      "QUANTAXIS>> Successfully Getting 002366 history transaction data in day 2018-10-18\n",
      "QUANTAXIS>> Successfully Getting 002366 history transaction data in day 2018-10-19\n",
      "QUANTAXIS>> Successfully Getting 002366 history transaction data in day 2018-10-22\n",
      "QUANTAXIS>> Successfully Getting 002366 history transaction data in day 2018-10-23\n",
      "QUANTAXIS>> Successfully Getting 002366 history transaction data in day 2018-10-24\n",
      "QUANTAXIS>> Successfully Getting 002366 history transaction data in day 2018-10-25\n",
      "QUANTAXIS>> Successfully Getting 002366 history transaction data in day 2018-10-26\n",
      "QUANTAXIS>> Successfully Getting 002366 history transaction data in day 2018-10-29\n",
      "QUANTAXIS>> Successfully Getting 002366 history transaction data in day 2018-10-30\n",
      "QUANTAXIS>> Successfully Getting 002366 history transaction data in day 2018-10-31\n",
      "QUANTAXIS>> Successfully Getting 002366 history transaction data in day 2018-11-01\n",
      "QUANTAXIS>> Successfully Getting 002366 history transaction data in day 2018-11-02\n",
      "QUANTAXIS>> Successfully Getting 002366 history transaction data in day 2018-11-05\n",
      "QUANTAXIS>> Successfully Getting 002366 history transaction data in day 2018-11-06\n",
      "QUANTAXIS>> Successfully Getting 002366 history transaction data in day 2018-11-07\n",
      "QUANTAXIS>> Successfully Getting 002366 history transaction data in day 2018-11-08\n",
      "QUANTAXIS>> Successfully Getting 002366 history transaction data in day 2018-11-09\n",
      "QUANTAXIS>> Successfully Getting 002366 history transaction data in day 2018-11-12\n",
      "QUANTAXIS>> Successfully Getting 002366 history transaction data in day 2018-11-13\n",
      "QUANTAXIS>> Successfully Getting 002366 history transaction data in day 2018-11-14\n",
      "QUANTAXIS>> Successfully Getting 002366 history transaction data in day 2018-11-15\n",
      "QUANTAXIS>> Successfully Getting 002366 history transaction data in day 2018-11-16\n",
      "QUANTAXIS>> Successfully Getting 002366 history transaction data in day 2018-11-19\n",
      "QUANTAXIS>> Successfully Getting 002366 history transaction data in day 2018-11-20\n",
      "QUANTAXIS>> Successfully Getting 002366 history transaction data in day 2018-11-21\n",
      "QUANTAXIS>> Successfully Getting 002366 history transaction data in day 2018-11-22\n",
      "QUANTAXIS>> Successfully Getting 002366 history transaction data in day 2018-11-23\n",
      "QUANTAXIS>> Successfully Getting 002366 history transaction data in day 2018-11-26\n",
      "QUANTAXIS>> Successfully Getting 002366 history transaction data in day 2018-11-27\n",
      "QUANTAXIS>> Successfully Getting 002366 history transaction data in day 2018-11-28\n"
     ]
    }
   ],
   "source": [
    "data = QA.QA_fetch_get_stock_transaction('tdx', code, start, end)"
   ]
  },
  {
   "cell_type": "code",
   "execution_count": 7,
   "metadata": {},
   "outputs": [
    {
     "data": {
      "text/html": [
       "<div>\n",
       "<style scoped>\n",
       "    .dataframe tbody tr th:only-of-type {\n",
       "        vertical-align: middle;\n",
       "    }\n",
       "\n",
       "    .dataframe tbody tr th {\n",
       "        vertical-align: top;\n",
       "    }\n",
       "\n",
       "    .dataframe thead th {\n",
       "        text-align: right;\n",
       "    }\n",
       "</style>\n",
       "<table border=\"1\" class=\"dataframe\">\n",
       "  <thead>\n",
       "    <tr style=\"text-align: right;\">\n",
       "      <th></th>\n",
       "      <th>time</th>\n",
       "      <th>price</th>\n",
       "      <th>vol</th>\n",
       "      <th>buyorsell</th>\n",
       "      <th>date</th>\n",
       "      <th>datetime</th>\n",
       "      <th>code</th>\n",
       "      <th>order</th>\n",
       "    </tr>\n",
       "    <tr>\n",
       "      <th>datetime</th>\n",
       "      <th></th>\n",
       "      <th></th>\n",
       "      <th></th>\n",
       "      <th></th>\n",
       "      <th></th>\n",
       "      <th></th>\n",
       "      <th></th>\n",
       "      <th></th>\n",
       "    </tr>\n",
       "  </thead>\n",
       "  <tbody>\n",
       "    <tr>\n",
       "      <th>2018-08-30 09:25:00</th>\n",
       "      <td>09:25</td>\n",
       "      <td>11.96</td>\n",
       "      <td>1104</td>\n",
       "      <td>2</td>\n",
       "      <td>2018-08-30</td>\n",
       "      <td>2018-08-30 09:25:00</td>\n",
       "      <td>002366</td>\n",
       "      <td>0</td>\n",
       "    </tr>\n",
       "    <tr>\n",
       "      <th>2018-08-30 09:30:00</th>\n",
       "      <td>09:30</td>\n",
       "      <td>11.96</td>\n",
       "      <td>20</td>\n",
       "      <td>0</td>\n",
       "      <td>2018-08-30</td>\n",
       "      <td>2018-08-30 09:30:00</td>\n",
       "      <td>002366</td>\n",
       "      <td>1</td>\n",
       "    </tr>\n",
       "    <tr>\n",
       "      <th>2018-08-30 09:30:00</th>\n",
       "      <td>09:30</td>\n",
       "      <td>11.87</td>\n",
       "      <td>1324</td>\n",
       "      <td>1</td>\n",
       "      <td>2018-08-30</td>\n",
       "      <td>2018-08-30 09:30:00</td>\n",
       "      <td>002366</td>\n",
       "      <td>2</td>\n",
       "    </tr>\n",
       "    <tr>\n",
       "      <th>2018-08-30 09:30:00</th>\n",
       "      <td>09:30</td>\n",
       "      <td>11.85</td>\n",
       "      <td>464</td>\n",
       "      <td>1</td>\n",
       "      <td>2018-08-30</td>\n",
       "      <td>2018-08-30 09:30:00</td>\n",
       "      <td>002366</td>\n",
       "      <td>3</td>\n",
       "    </tr>\n",
       "    <tr>\n",
       "      <th>2018-08-30 09:30:00</th>\n",
       "      <td>09:30</td>\n",
       "      <td>11.85</td>\n",
       "      <td>104</td>\n",
       "      <td>0</td>\n",
       "      <td>2018-08-30</td>\n",
       "      <td>2018-08-30 09:30:00</td>\n",
       "      <td>002366</td>\n",
       "      <td>4</td>\n",
       "    </tr>\n",
       "  </tbody>\n",
       "</table>\n",
       "</div>"
      ],
      "text/plain": [
       "                      time  price   vol  buyorsell        date  \\\n",
       "datetime                                                         \n",
       "2018-08-30 09:25:00  09:25  11.96  1104          2  2018-08-30   \n",
       "2018-08-30 09:30:00  09:30  11.96    20          0  2018-08-30   \n",
       "2018-08-30 09:30:00  09:30  11.87  1324          1  2018-08-30   \n",
       "2018-08-30 09:30:00  09:30  11.85   464          1  2018-08-30   \n",
       "2018-08-30 09:30:00  09:30  11.85   104          0  2018-08-30   \n",
       "\n",
       "                                datetime    code  order  \n",
       "datetime                                                 \n",
       "2018-08-30 09:25:00  2018-08-30 09:25:00  002366      0  \n",
       "2018-08-30 09:30:00  2018-08-30 09:30:00  002366      1  \n",
       "2018-08-30 09:30:00  2018-08-30 09:30:00  002366      2  \n",
       "2018-08-30 09:30:00  2018-08-30 09:30:00  002366      3  \n",
       "2018-08-30 09:30:00  2018-08-30 09:30:00  002366      4  "
      ]
     },
     "execution_count": 7,
     "metadata": {},
     "output_type": "execute_result"
    }
   ],
   "source": [
    "data.head()"
   ]
  },
  {
   "cell_type": "code",
   "execution_count": 6,
   "metadata": {
    "collapsed": true
   },
   "outputs": [
    {
     "data": {
      "text/html": [
       "<div>\n",
       "<style scoped>\n",
       "    .dataframe tbody tr th:only-of-type {\n",
       "        vertical-align: middle;\n",
       "    }\n",
       "\n",
       "    .dataframe tbody tr th {\n",
       "        vertical-align: top;\n",
       "    }\n",
       "\n",
       "    .dataframe thead th {\n",
       "        text-align: right;\n",
       "    }\n",
       "</style>\n",
       "<table border=\"1\" class=\"dataframe\">\n",
       "  <thead>\n",
       "    <tr style=\"text-align: right;\">\n",
       "      <th></th>\n",
       "      <th>time</th>\n",
       "      <th>price</th>\n",
       "      <th>vol</th>\n",
       "      <th>buyorsell</th>\n",
       "      <th>date</th>\n",
       "      <th>datetime</th>\n",
       "      <th>code</th>\n",
       "      <th>order</th>\n",
       "    </tr>\n",
       "    <tr>\n",
       "      <th>datetime</th>\n",
       "      <th></th>\n",
       "      <th></th>\n",
       "      <th></th>\n",
       "      <th></th>\n",
       "      <th></th>\n",
       "      <th></th>\n",
       "      <th></th>\n",
       "      <th></th>\n",
       "    </tr>\n",
       "  </thead>\n",
       "  <tbody>\n",
       "    <tr>\n",
       "      <th>2018-11-28 14:56:00</th>\n",
       "      <td>14:56</td>\n",
       "      <td>10.67</td>\n",
       "      <td>16</td>\n",
       "      <td>1</td>\n",
       "      <td>2018-11-28</td>\n",
       "      <td>2018-11-28 14:56:00</td>\n",
       "      <td>002366</td>\n",
       "      <td>2733</td>\n",
       "    </tr>\n",
       "    <tr>\n",
       "      <th>2018-11-28 14:56:00</th>\n",
       "      <td>14:56</td>\n",
       "      <td>10.67</td>\n",
       "      <td>35</td>\n",
       "      <td>1</td>\n",
       "      <td>2018-11-28</td>\n",
       "      <td>2018-11-28 14:56:00</td>\n",
       "      <td>002366</td>\n",
       "      <td>2734</td>\n",
       "    </tr>\n",
       "    <tr>\n",
       "      <th>2018-11-28 14:56:00</th>\n",
       "      <td>14:56</td>\n",
       "      <td>10.67</td>\n",
       "      <td>50</td>\n",
       "      <td>1</td>\n",
       "      <td>2018-11-28</td>\n",
       "      <td>2018-11-28 14:56:00</td>\n",
       "      <td>002366</td>\n",
       "      <td>2735</td>\n",
       "    </tr>\n",
       "    <tr>\n",
       "      <th>2018-11-28 14:56:00</th>\n",
       "      <td>14:56</td>\n",
       "      <td>10.68</td>\n",
       "      <td>4</td>\n",
       "      <td>0</td>\n",
       "      <td>2018-11-28</td>\n",
       "      <td>2018-11-28 14:56:00</td>\n",
       "      <td>002366</td>\n",
       "      <td>2736</td>\n",
       "    </tr>\n",
       "    <tr>\n",
       "      <th>2018-11-28 14:56:00</th>\n",
       "      <td>14:56</td>\n",
       "      <td>10.68</td>\n",
       "      <td>204</td>\n",
       "      <td>0</td>\n",
       "      <td>2018-11-28</td>\n",
       "      <td>2018-11-28 14:56:00</td>\n",
       "      <td>002366</td>\n",
       "      <td>2737</td>\n",
       "    </tr>\n",
       "    <tr>\n",
       "      <th>2018-11-28 14:56:00</th>\n",
       "      <td>14:56</td>\n",
       "      <td>10.67</td>\n",
       "      <td>178</td>\n",
       "      <td>1</td>\n",
       "      <td>2018-11-28</td>\n",
       "      <td>2018-11-28 14:56:00</td>\n",
       "      <td>002366</td>\n",
       "      <td>2738</td>\n",
       "    </tr>\n",
       "    <tr>\n",
       "      <th>2018-11-28 14:56:00</th>\n",
       "      <td>14:56</td>\n",
       "      <td>10.68</td>\n",
       "      <td>73</td>\n",
       "      <td>1</td>\n",
       "      <td>2018-11-28</td>\n",
       "      <td>2018-11-28 14:56:00</td>\n",
       "      <td>002366</td>\n",
       "      <td>2739</td>\n",
       "    </tr>\n",
       "    <tr>\n",
       "      <th>2018-11-28 14:56:00</th>\n",
       "      <td>14:56</td>\n",
       "      <td>10.68</td>\n",
       "      <td>7</td>\n",
       "      <td>0</td>\n",
       "      <td>2018-11-28</td>\n",
       "      <td>2018-11-28 14:56:00</td>\n",
       "      <td>002366</td>\n",
       "      <td>2740</td>\n",
       "    </tr>\n",
       "    <tr>\n",
       "      <th>2018-11-28 14:56:00</th>\n",
       "      <td>14:56</td>\n",
       "      <td>10.67</td>\n",
       "      <td>1103</td>\n",
       "      <td>1</td>\n",
       "      <td>2018-11-28</td>\n",
       "      <td>2018-11-28 14:56:00</td>\n",
       "      <td>002366</td>\n",
       "      <td>2741</td>\n",
       "    </tr>\n",
       "    <tr>\n",
       "      <th>2018-11-28 14:56:00</th>\n",
       "      <td>14:56</td>\n",
       "      <td>10.67</td>\n",
       "      <td>9</td>\n",
       "      <td>1</td>\n",
       "      <td>2018-11-28</td>\n",
       "      <td>2018-11-28 14:56:00</td>\n",
       "      <td>002366</td>\n",
       "      <td>2742</td>\n",
       "    </tr>\n",
       "    <tr>\n",
       "      <th>2018-11-28 14:56:00</th>\n",
       "      <td>14:56</td>\n",
       "      <td>10.67</td>\n",
       "      <td>29</td>\n",
       "      <td>1</td>\n",
       "      <td>2018-11-28</td>\n",
       "      <td>2018-11-28 14:56:00</td>\n",
       "      <td>002366</td>\n",
       "      <td>2743</td>\n",
       "    </tr>\n",
       "    <tr>\n",
       "      <th>2018-11-28 14:56:00</th>\n",
       "      <td>14:56</td>\n",
       "      <td>10.68</td>\n",
       "      <td>80</td>\n",
       "      <td>0</td>\n",
       "      <td>2018-11-28</td>\n",
       "      <td>2018-11-28 14:56:00</td>\n",
       "      <td>002366</td>\n",
       "      <td>2744</td>\n",
       "    </tr>\n",
       "    <tr>\n",
       "      <th>2018-11-28 14:56:00</th>\n",
       "      <td>14:56</td>\n",
       "      <td>10.67</td>\n",
       "      <td>6</td>\n",
       "      <td>1</td>\n",
       "      <td>2018-11-28</td>\n",
       "      <td>2018-11-28 14:56:00</td>\n",
       "      <td>002366</td>\n",
       "      <td>2745</td>\n",
       "    </tr>\n",
       "    <tr>\n",
       "      <th>2018-11-28 14:56:00</th>\n",
       "      <td>14:56</td>\n",
       "      <td>10.68</td>\n",
       "      <td>20</td>\n",
       "      <td>0</td>\n",
       "      <td>2018-11-28</td>\n",
       "      <td>2018-11-28 14:56:00</td>\n",
       "      <td>002366</td>\n",
       "      <td>2746</td>\n",
       "    </tr>\n",
       "    <tr>\n",
       "      <th>2018-11-28 14:56:00</th>\n",
       "      <td>14:56</td>\n",
       "      <td>10.68</td>\n",
       "      <td>7</td>\n",
       "      <td>0</td>\n",
       "      <td>2018-11-28</td>\n",
       "      <td>2018-11-28 14:56:00</td>\n",
       "      <td>002366</td>\n",
       "      <td>2747</td>\n",
       "    </tr>\n",
       "    <tr>\n",
       "      <th>2018-11-28 14:56:00</th>\n",
       "      <td>14:56</td>\n",
       "      <td>10.68</td>\n",
       "      <td>107</td>\n",
       "      <td>0</td>\n",
       "      <td>2018-11-28</td>\n",
       "      <td>2018-11-28 14:56:00</td>\n",
       "      <td>002366</td>\n",
       "      <td>2748</td>\n",
       "    </tr>\n",
       "    <tr>\n",
       "      <th>2018-11-28 14:56:00</th>\n",
       "      <td>14:56</td>\n",
       "      <td>10.70</td>\n",
       "      <td>366</td>\n",
       "      <td>0</td>\n",
       "      <td>2018-11-28</td>\n",
       "      <td>2018-11-28 14:56:00</td>\n",
       "      <td>002366</td>\n",
       "      <td>2749</td>\n",
       "    </tr>\n",
       "    <tr>\n",
       "      <th>2018-11-28 14:56:00</th>\n",
       "      <td>14:56</td>\n",
       "      <td>10.67</td>\n",
       "      <td>87</td>\n",
       "      <td>1</td>\n",
       "      <td>2018-11-28</td>\n",
       "      <td>2018-11-28 14:56:00</td>\n",
       "      <td>002366</td>\n",
       "      <td>2750</td>\n",
       "    </tr>\n",
       "    <tr>\n",
       "      <th>2018-11-28 14:57:00</th>\n",
       "      <td>14:57</td>\n",
       "      <td>10.67</td>\n",
       "      <td>13</td>\n",
       "      <td>2</td>\n",
       "      <td>2018-11-28</td>\n",
       "      <td>2018-11-28 14:57:00</td>\n",
       "      <td>002366</td>\n",
       "      <td>2751</td>\n",
       "    </tr>\n",
       "    <tr>\n",
       "      <th>2018-11-28 15:00:00</th>\n",
       "      <td>15:00</td>\n",
       "      <td>10.67</td>\n",
       "      <td>1613</td>\n",
       "      <td>2</td>\n",
       "      <td>2018-11-28</td>\n",
       "      <td>2018-11-28 15:00:00</td>\n",
       "      <td>002366</td>\n",
       "      <td>2752</td>\n",
       "    </tr>\n",
       "  </tbody>\n",
       "</table>\n",
       "</div>"
      ],
      "text/plain": [
       "                      time  price   vol  buyorsell        date  \\\n",
       "datetime                                                         \n",
       "2018-11-28 14:56:00  14:56  10.67    16          1  2018-11-28   \n",
       "2018-11-28 14:56:00  14:56  10.67    35          1  2018-11-28   \n",
       "2018-11-28 14:56:00  14:56  10.67    50          1  2018-11-28   \n",
       "2018-11-28 14:56:00  14:56  10.68     4          0  2018-11-28   \n",
       "2018-11-28 14:56:00  14:56  10.68   204          0  2018-11-28   \n",
       "2018-11-28 14:56:00  14:56  10.67   178          1  2018-11-28   \n",
       "2018-11-28 14:56:00  14:56  10.68    73          1  2018-11-28   \n",
       "2018-11-28 14:56:00  14:56  10.68     7          0  2018-11-28   \n",
       "2018-11-28 14:56:00  14:56  10.67  1103          1  2018-11-28   \n",
       "2018-11-28 14:56:00  14:56  10.67     9          1  2018-11-28   \n",
       "2018-11-28 14:56:00  14:56  10.67    29          1  2018-11-28   \n",
       "2018-11-28 14:56:00  14:56  10.68    80          0  2018-11-28   \n",
       "2018-11-28 14:56:00  14:56  10.67     6          1  2018-11-28   \n",
       "2018-11-28 14:56:00  14:56  10.68    20          0  2018-11-28   \n",
       "2018-11-28 14:56:00  14:56  10.68     7          0  2018-11-28   \n",
       "2018-11-28 14:56:00  14:56  10.68   107          0  2018-11-28   \n",
       "2018-11-28 14:56:00  14:56  10.70   366          0  2018-11-28   \n",
       "2018-11-28 14:56:00  14:56  10.67    87          1  2018-11-28   \n",
       "2018-11-28 14:57:00  14:57  10.67    13          2  2018-11-28   \n",
       "2018-11-28 15:00:00  15:00  10.67  1613          2  2018-11-28   \n",
       "\n",
       "                                datetime    code  order  \n",
       "datetime                                                 \n",
       "2018-11-28 14:56:00  2018-11-28 14:56:00  002366   2733  \n",
       "2018-11-28 14:56:00  2018-11-28 14:56:00  002366   2734  \n",
       "2018-11-28 14:56:00  2018-11-28 14:56:00  002366   2735  \n",
       "2018-11-28 14:56:00  2018-11-28 14:56:00  002366   2736  \n",
       "2018-11-28 14:56:00  2018-11-28 14:56:00  002366   2737  \n",
       "2018-11-28 14:56:00  2018-11-28 14:56:00  002366   2738  \n",
       "2018-11-28 14:56:00  2018-11-28 14:56:00  002366   2739  \n",
       "2018-11-28 14:56:00  2018-11-28 14:56:00  002366   2740  \n",
       "2018-11-28 14:56:00  2018-11-28 14:56:00  002366   2741  \n",
       "2018-11-28 14:56:00  2018-11-28 14:56:00  002366   2742  \n",
       "2018-11-28 14:56:00  2018-11-28 14:56:00  002366   2743  \n",
       "2018-11-28 14:56:00  2018-11-28 14:56:00  002366   2744  \n",
       "2018-11-28 14:56:00  2018-11-28 14:56:00  002366   2745  \n",
       "2018-11-28 14:56:00  2018-11-28 14:56:00  002366   2746  \n",
       "2018-11-28 14:56:00  2018-11-28 14:56:00  002366   2747  \n",
       "2018-11-28 14:56:00  2018-11-28 14:56:00  002366   2748  \n",
       "2018-11-28 14:56:00  2018-11-28 14:56:00  002366   2749  \n",
       "2018-11-28 14:56:00  2018-11-28 14:56:00  002366   2750  \n",
       "2018-11-28 14:57:00  2018-11-28 14:57:00  002366   2751  \n",
       "2018-11-28 15:00:00  2018-11-28 15:00:00  002366   2752  "
      ]
     },
     "execution_count": 6,
     "metadata": {},
     "output_type": "execute_result"
    }
   ],
   "source": [
    "data.tail(20)"
   ]
  },
  {
   "cell_type": "markdown",
   "metadata": {},
   "source": [
    "- time\n",
    "- price\n",
    "- vol\n",
    "- buyorsell\n",
    "    - 0 -- buy\n",
    "    - 1 -- sell\n",
    "    - 2 集合竞价\n",
    "- date\n",
    "- datetime\n",
    "- code\n",
    "- order"
   ]
  },
  {
   "cell_type": "code",
   "execution_count": 10,
   "metadata": {
    "scrolled": true
   },
   "outputs": [],
   "source": [
    "_res = data.resample('D').apply({'vol':'sum', 'order':'count'})"
   ]
  },
  {
   "cell_type": "code",
   "execution_count": 15,
   "metadata": {},
   "outputs": [],
   "source": [
    "resample_data = _res[_res>0].dropna()"
   ]
  },
  {
   "cell_type": "code",
   "execution_count": 16,
   "metadata": {},
   "outputs": [],
   "source": [
    "resample_data = resample_data.assign(avgVol=resample_data.vol/resample_data.order)"
   ]
  },
  {
   "cell_type": "code",
   "execution_count": 22,
   "metadata": {
    "scrolled": true
   },
   "outputs": [],
   "source": [
    "moving_average_volume_30 = resample_data.avgVol.rolling(window=30).mean()[29:]"
   ]
  },
  {
   "cell_type": "code",
   "execution_count": 21,
   "metadata": {
    "scrolled": true
   },
   "outputs": [],
   "source": [
    "data_today = data[data.date=='2018-11-28']"
   ]
  },
  {
   "cell_type": "code",
   "execution_count": 24,
   "metadata": {},
   "outputs": [],
   "source": [
    "latest_ma_vol = moving_average_volume_30.iloc[-1]"
   ]
  },
  {
   "cell_type": "code",
   "execution_count": 25,
   "metadata": {},
   "outputs": [],
   "source": [
    "data_today = data_today.assign(amount = data_today.price * data_today.vol * 100)"
   ]
  },
  {
   "cell_type": "code",
   "execution_count": 27,
   "metadata": {},
   "outputs": [
    {
     "data": {
      "text/html": [
       "<div>\n",
       "<style scoped>\n",
       "    .dataframe tbody tr th:only-of-type {\n",
       "        vertical-align: middle;\n",
       "    }\n",
       "\n",
       "    .dataframe tbody tr th {\n",
       "        vertical-align: top;\n",
       "    }\n",
       "\n",
       "    .dataframe thead th {\n",
       "        text-align: right;\n",
       "    }\n",
       "</style>\n",
       "<table border=\"1\" class=\"dataframe\">\n",
       "  <thead>\n",
       "    <tr style=\"text-align: right;\">\n",
       "      <th></th>\n",
       "      <th>time</th>\n",
       "      <th>price</th>\n",
       "      <th>vol</th>\n",
       "      <th>buyorsell</th>\n",
       "      <th>date</th>\n",
       "      <th>datetime</th>\n",
       "      <th>code</th>\n",
       "      <th>order</th>\n",
       "      <th>amount</th>\n",
       "    </tr>\n",
       "    <tr>\n",
       "      <th>datetime</th>\n",
       "      <th></th>\n",
       "      <th></th>\n",
       "      <th></th>\n",
       "      <th></th>\n",
       "      <th></th>\n",
       "      <th></th>\n",
       "      <th></th>\n",
       "      <th></th>\n",
       "      <th></th>\n",
       "    </tr>\n",
       "  </thead>\n",
       "  <tbody>\n",
       "    <tr>\n",
       "      <th>2018-11-28 09:25:00</th>\n",
       "      <td>09:25</td>\n",
       "      <td>10.68</td>\n",
       "      <td>802</td>\n",
       "      <td>2</td>\n",
       "      <td>2018-11-28</td>\n",
       "      <td>2018-11-28 09:25:00</td>\n",
       "      <td>002366</td>\n",
       "      <td>0</td>\n",
       "      <td>856536.0</td>\n",
       "    </tr>\n",
       "    <tr>\n",
       "      <th>2018-11-28 09:30:00</th>\n",
       "      <td>09:30</td>\n",
       "      <td>10.69</td>\n",
       "      <td>19</td>\n",
       "      <td>0</td>\n",
       "      <td>2018-11-28</td>\n",
       "      <td>2018-11-28 09:30:00</td>\n",
       "      <td>002366</td>\n",
       "      <td>1</td>\n",
       "      <td>20311.0</td>\n",
       "    </tr>\n",
       "    <tr>\n",
       "      <th>2018-11-28 09:30:00</th>\n",
       "      <td>09:30</td>\n",
       "      <td>10.72</td>\n",
       "      <td>898</td>\n",
       "      <td>0</td>\n",
       "      <td>2018-11-28</td>\n",
       "      <td>2018-11-28 09:30:00</td>\n",
       "      <td>002366</td>\n",
       "      <td>2</td>\n",
       "      <td>962656.0</td>\n",
       "    </tr>\n",
       "    <tr>\n",
       "      <th>2018-11-28 09:30:00</th>\n",
       "      <td>09:30</td>\n",
       "      <td>10.68</td>\n",
       "      <td>428</td>\n",
       "      <td>1</td>\n",
       "      <td>2018-11-28</td>\n",
       "      <td>2018-11-28 09:30:00</td>\n",
       "      <td>002366</td>\n",
       "      <td>3</td>\n",
       "      <td>457104.0</td>\n",
       "    </tr>\n",
       "    <tr>\n",
       "      <th>2018-11-28 09:30:00</th>\n",
       "      <td>09:30</td>\n",
       "      <td>10.68</td>\n",
       "      <td>206</td>\n",
       "      <td>0</td>\n",
       "      <td>2018-11-28</td>\n",
       "      <td>2018-11-28 09:30:00</td>\n",
       "      <td>002366</td>\n",
       "      <td>4</td>\n",
       "      <td>220008.0</td>\n",
       "    </tr>\n",
       "  </tbody>\n",
       "</table>\n",
       "</div>"
      ],
      "text/plain": [
       "                      time  price  vol  buyorsell        date  \\\n",
       "datetime                                                        \n",
       "2018-11-28 09:25:00  09:25  10.68  802          2  2018-11-28   \n",
       "2018-11-28 09:30:00  09:30  10.69   19          0  2018-11-28   \n",
       "2018-11-28 09:30:00  09:30  10.72  898          0  2018-11-28   \n",
       "2018-11-28 09:30:00  09:30  10.68  428          1  2018-11-28   \n",
       "2018-11-28 09:30:00  09:30  10.68  206          0  2018-11-28   \n",
       "\n",
       "                                datetime    code  order    amount  \n",
       "datetime                                                           \n",
       "2018-11-28 09:25:00  2018-11-28 09:25:00  002366      0  856536.0  \n",
       "2018-11-28 09:30:00  2018-11-28 09:30:00  002366      1   20311.0  \n",
       "2018-11-28 09:30:00  2018-11-28 09:30:00  002366      2  962656.0  \n",
       "2018-11-28 09:30:00  2018-11-28 09:30:00  002366      3  457104.0  \n",
       "2018-11-28 09:30:00  2018-11-28 09:30:00  002366      4  220008.0  "
      ]
     },
     "execution_count": 27,
     "metadata": {},
     "output_type": "execute_result"
    }
   ],
   "source": [
    "data_today.head()"
   ]
  },
  {
   "cell_type": "code",
   "execution_count": 28,
   "metadata": {},
   "outputs": [],
   "source": [
    "data_today_non_set_bidding = data_today[data_today.buyorsell != 2]"
   ]
  },
  {
   "cell_type": "code",
   "execution_count": 35,
   "metadata": {},
   "outputs": [],
   "source": [
    "ind_small = data_today_non_set_bidding.vol < latest_ma_vol"
   ]
  },
  {
   "cell_type": "code",
   "execution_count": 36,
   "metadata": {},
   "outputs": [],
   "source": [
    "ind_mid = (data_today_non_set_bidding.vol >= latest_ma_vol) &\\\n",
    "(data_today_non_set_bidding.vol < 10 * latest_ma_vol)"
   ]
  },
  {
   "cell_type": "code",
   "execution_count": 37,
   "metadata": {},
   "outputs": [],
   "source": [
    "ind_large = data_today_non_set_bidding.vol >= 10 * latest_ma_vol"
   ]
  },
  {
   "cell_type": "code",
   "execution_count": 44,
   "metadata": {},
   "outputs": [],
   "source": [
    "small_amount = data_today_non_set_bidding[ind_small].amount.sum()"
   ]
  },
  {
   "cell_type": "code",
   "execution_count": 42,
   "metadata": {},
   "outputs": [],
   "source": [
    "mid_amount = data_today_non_set_bidding[ind_mid].amount.sum()"
   ]
  },
  {
   "cell_type": "code",
   "execution_count": 43,
   "metadata": {},
   "outputs": [],
   "source": [
    "large_amount = data_today_non_set_bidding[ind_large].amount.sum()"
   ]
  },
  {
   "cell_type": "code",
   "execution_count": 63,
   "metadata": {},
   "outputs": [
    {
     "data": {
      "image/png": "[encoded data removed]",
      "text/plain": [
       "<Figure size 864x576 with 1 Axes>"
      ]
     },
     "metadata": {},
     "output_type": "display_data"
    }
   ],
   "source": [
    "plt.bar([0,1,2], [large_amount, mid_amount, small_amount]);"
   ]
  },
  {
   "cell_type": "code",
   "execution_count": 51,
   "metadata": {},
   "outputs": [],
   "source": [
    "ind_small_buy = (data_today_non_set_bidding.vol < latest_ma_vol) &\\\n",
    "(data_today_non_set_bidding.buyorsell == 0)\n",
    "\n",
    "ind_mid_buy = (data_today_non_set_bidding.vol >= latest_ma_vol) &\\\n",
    "(data_today_non_set_bidding.vol < 10 * latest_ma_vol) &\\\n",
    "(data_today_non_set_bidding.buyorsell == 0)\n",
    "\n",
    "ind_large_buy = (data_today_non_set_bidding.vol >= 10 * latest_ma_vol) &\\\n",
    "(data_today_non_set_bidding.buyorsell == 0)"
   ]
  },
  {
   "cell_type": "code",
   "execution_count": 52,
   "metadata": {},
   "outputs": [],
   "source": [
    "ind_small_sell = (data_today_non_set_bidding.vol < latest_ma_vol) &\\\n",
    "(data_today_non_set_bidding.buyorsell == 1)\n",
    "\n",
    "ind_mid_sell = (data_today_non_set_bidding.vol >= latest_ma_vol) &\\\n",
    "(data_today_non_set_bidding.vol < 10 * latest_ma_vol) &\\\n",
    "(data_today_non_set_bidding.buyorsell == 1)\n",
    "\n",
    "ind_large_sell = (data_today_non_set_bidding.vol >= 10 * latest_ma_vol) &\\\n",
    "(data_today_non_set_bidding.buyorsell == 1)"
   ]
  },
  {
   "cell_type": "code",
   "execution_count": 53,
   "metadata": {},
   "outputs": [],
   "source": [
    "small_amount_buy = data_today_non_set_bidding[ind_small_buy].amount.sum()\n",
    "mid_amount_buy = data_today_non_set_bidding[ind_mid_buy].amount.sum()\n",
    "large_amount_buy = data_today_non_set_bidding[ind_large_buy].amount.sum()\n",
    "\n",
    "small_amount_sell = data_today_non_set_bidding[ind_small_sell].amount.sum()\n",
    "mid_amount_sell = data_today_non_set_bidding[ind_mid_sell].amount.sum()\n",
    "large_amount_sell = data_today_non_set_bidding[ind_large_sell].amount.sum()"
   ]
  },
  {
   "cell_type": "code",
   "execution_count": 56,
   "metadata": {},
   "outputs": [
    {
     "data": {
      "text/plain": [
       "2123956.0"
      ]
     },
     "execution_count": 56,
     "metadata": {},
     "output_type": "execute_result"
    }
   ],
   "source": [
    "large_amount_buy"
   ]
  },
  {
   "cell_type": "code",
   "execution_count": 61,
   "metadata": {
    "scrolled": true
   },
   "outputs": [
    {
     "data": {
      "image/png": "[encoded data removed]",
      "text/plain": [
       "<Figure size 864x576 with 1 Axes>"
      ]
     },
     "metadata": {},
     "output_type": "display_data"
    }
   ],
   "source": [
    "plt.bar([0,1,2], [large_amount_buy, mid_amount_buy, small_amount_buy]);"
   ]
  },
  {
   "cell_type": "code",
   "execution_count": 62,
   "metadata": {
    "scrolled": true
   },
   "outputs": [
    {
     "data": {
      "image/png": "[encoded data removed]",
      "text/plain": [
       "<Figure size 864x576 with 1 Axes>"
      ]
     },
     "metadata": {},
     "output_type": "display_data"
    }
   ],
   "source": [
    "plt.bar([0,1,2], [large_amount_sell, mid_amount_sell, small_amount_sell]);"
   ]
  },
  {
   "cell_type": "code",
   "execution_count": 73,
   "metadata": {},
   "outputs": [
    {
     "data": {
      "image/png": "[encoded data removed]",
      "text/plain": [
       "<Figure size 864x576 with 1 Axes>"
      ]
     },
     "metadata": {},
     "output_type": "display_data"
    }
   ],
   "source": [
    "data_today_non_set_bidding[data_today_non_set_bidding.buyorsell==0].\\\n",
    "vol.plot.hist(bins=list(range(700,1200)));"
   ]
  },
  {
   "cell_type": "code",
   "execution_count": 68,
   "metadata": {
    "collapsed": true
   },
   "outputs": [
    {
     "data": {
      "text/plain": [
       "3      68\n",
       "5      66\n",
       "10     63\n",
       "1      61\n",
       "2      47\n",
       "7      41\n",
       "20     41\n",
       "6      30\n",
       "4      29\n",
       "15     29\n",
       "8      28\n",
       "30     28\n",
       "12     25\n",
       "9      25\n",
       "25     24\n",
       "11     23\n",
       "50     21\n",
       "19     19\n",
       "14     18\n",
       "26     18\n",
       "22     14\n",
       "18     14\n",
       "13     14\n",
       "16     13\n",
       "100    13\n",
       "24     12\n",
       "23     11\n",
       "29     11\n",
       "35     11\n",
       "21     10\n",
       "       ..\n",
       "124     1\n",
       "121     1\n",
       "117     1\n",
       "114     1\n",
       "898     1\n",
       "109     1\n",
       "101     1\n",
       "97      1\n",
       "160     1\n",
       "164     1\n",
       "217     1\n",
       "165     1\n",
       "215     1\n",
       "211     1\n",
       "208     1\n",
       "207     1\n",
       "204     1\n",
       "201     1\n",
       "200     1\n",
       "195     1\n",
       "192     1\n",
       "190     1\n",
       "184     1\n",
       "177     1\n",
       "172     1\n",
       "170     1\n",
       "168     1\n",
       "167     1\n",
       "166     1\n",
       "113     1\n",
       "Name: vol, Length: 220, dtype: int64"
      ]
     },
     "execution_count": 68,
     "metadata": {},
     "output_type": "execute_result"
    }
   ],
   "source": [
    "plt.hist()"
   ]
  },
  {
   "cell_type": "code",
   "execution_count": null,
   "metadata": {},
   "outputs": [],
   "source": []
  },
  {
   "cell_type": "code",
   "execution_count": null,
   "metadata": {},
   "outputs": [],
   "source": []
  },
  {
   "cell_type": "code",
   "execution_count": null,
   "metadata": {},
   "outputs": [],
   "source": []
  }
 ],
 "metadata": {
  "kernelspec": {
   "display_name": "Python (quant)",
   "language": "python",
   "name": "quant"
  },
  "language_info": {
   "codemirror_mode": {
    "name": "ipython",
    "version": 3
   },
   "file_extension": ".py",
   "mimetype": "text/x-python",
   "name": "python",
   "nbconvert_exporter": "python",
   "pygments_lexer": "ipython3",
   "version": "3.6.6"
  },
  "toc": {
   "base_numbering": 1,
   "nav_menu": {},
   "number_sections": true,
   "sideBar": true,
   "skip_h1_title": false,
   "title_cell": "Table of Contents",
   "title_sidebar": "Contents",
   "toc_cell": false,
   "toc_position": {},
   "toc_section_display": true,
   "toc_window_display": false
  },
  "varInspector": {
   "cols": {
    "lenName": 16,
    "lenType": 16,
    "lenVar": 40
   },
   "kernels_config": {
    "python": {
     "delete_cmd_postfix": "",
     "delete_cmd_prefix": "del ",
     "library": "var_list.py",
     "varRefreshCmd": "print(var_dic_list())"
    },
    "r": {
     "delete_cmd_postfix": ") ",
     "delete_cmd_prefix": "rm(",
     "library": "var_list.r",
     "varRefreshCmd": "cat(var_dic_list()) "
    }
   },
   "position": {
    "height": "456px",
    "left": "1550px",
    "right": "20px",
    "top": "120px",
    "width": "350px"
   },
   "types_to_exclude": [
    "module",
    "function",
    "builtin_function_or_method",
    "instance",
    "_Feature"
   ],
   "window_display": false
  }
 },
 "nbformat": 4,
 "nbformat_minor": 2
}
