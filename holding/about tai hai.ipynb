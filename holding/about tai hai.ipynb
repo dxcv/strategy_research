{
 "cells": [
  {
   "cell_type": "markdown",
   "metadata": {},
   "source": [
    "1. 以15分钟线为例, 从量价还有强度的角度去切入, 各个指标的相关性, 高相关性的指标分配不同的权重"
   ]
  },
  {
   "cell_type": "code",
   "execution_count": 1,
   "metadata": {},
   "outputs": [],
   "source": [
    "%load_ext autoreload\n",
    "%autoreload 2"
   ]
  },
  {
   "cell_type": "code",
   "execution_count": 2,
   "metadata": {},
   "outputs": [],
   "source": [
    "import numpy as np\n",
    "import pandas as pd\n",
    "import matplotlib.pyplot as plt\n",
    "import seaborn as sns\n",
    "# import statsmodels.api as sm\n",
    "# import tushare as ts\n",
    "import QUANTAXIS as QA\n",
    "import talib as ta\n",
    "import datetime, time\n"
   ]
  },
  {
   "cell_type": "code",
   "execution_count": 3,
   "metadata": {},
   "outputs": [],
   "source": [
    "plt.rcParams['figure.figsize'] = [12, 8]\n",
    "plt.rcParams['image.interpolation'] = 'nearest'\n",
    "plt.rcParams['image.cmap'] = 'gray'\n",
    "plt.style.use('ggplot')"
   ]
  },
  {
   "cell_type": "markdown",
   "metadata": {},
   "source": [
    "### 先拿到15分钟线的数据"
   ]
  },
  {
   "cell_type": "code",
   "execution_count": 5,
   "metadata": {},
   "outputs": [],
   "source": [
    "code = '002366'\n",
    "start = '2010-01-01'\n",
    "end = datetime.datetime.today().strftime('%Y-%m-%d')"
   ]
  },
  {
   "cell_type": "code",
   "execution_count": 7,
   "metadata": {},
   "outputs": [],
   "source": [
    "data_15min = QA.QA_fetch_stock_min_adv(code, start, end, frequence='15min')"
   ]
  },
  {
   "cell_type": "code",
   "execution_count": 8,
   "metadata": {},
   "outputs": [
    {
     "data": {
      "text/html": [
       "<div>\n",
       "<style scoped>\n",
       "    .dataframe tbody tr th:only-of-type {\n",
       "        vertical-align: middle;\n",
       "    }\n",
       "\n",
       "    .dataframe tbody tr th {\n",
       "        vertical-align: top;\n",
       "    }\n",
       "\n",
       "    .dataframe thead th {\n",
       "        text-align: right;\n",
       "    }\n",
       "</style>\n",
       "<table border=\"1\" class=\"dataframe\">\n",
       "  <thead>\n",
       "    <tr style=\"text-align: right;\">\n",
       "      <th></th>\n",
       "      <th></th>\n",
       "      <th>open</th>\n",
       "      <th>high</th>\n",
       "      <th>low</th>\n",
       "      <th>close</th>\n",
       "      <th>volume</th>\n",
       "      <th>amount</th>\n",
       "      <th>type</th>\n",
       "    </tr>\n",
       "    <tr>\n",
       "      <th>datetime</th>\n",
       "      <th>code</th>\n",
       "      <th></th>\n",
       "      <th></th>\n",
       "      <th></th>\n",
       "      <th></th>\n",
       "      <th></th>\n",
       "      <th></th>\n",
       "      <th></th>\n",
       "    </tr>\n",
       "  </thead>\n",
       "  <tbody>\n",
       "    <tr>\n",
       "      <th>2016-03-21 09:45:00</th>\n",
       "      <th>002366</th>\n",
       "      <td>50.00</td>\n",
       "      <td>50.00</td>\n",
       "      <td>48.65</td>\n",
       "      <td>48.8</td>\n",
       "      <td>1744900.0</td>\n",
       "      <td>85716128.0</td>\n",
       "      <td>15min</td>\n",
       "    </tr>\n",
       "    <tr>\n",
       "      <th>2016-03-21 10:00:00</th>\n",
       "      <th>002366</th>\n",
       "      <td>48.79</td>\n",
       "      <td>49.07</td>\n",
       "      <td>48.38</td>\n",
       "      <td>48.4</td>\n",
       "      <td>934900.0</td>\n",
       "      <td>45594224.0</td>\n",
       "      <td>15min</td>\n",
       "    </tr>\n",
       "    <tr>\n",
       "      <th>2016-03-21 10:15:00</th>\n",
       "      <th>002366</th>\n",
       "      <td>48.38</td>\n",
       "      <td>48.66</td>\n",
       "      <td>48.00</td>\n",
       "      <td>48.3</td>\n",
       "      <td>620000.0</td>\n",
       "      <td>29945104.0</td>\n",
       "      <td>15min</td>\n",
       "    </tr>\n",
       "    <tr>\n",
       "      <th>2016-03-21 10:30:00</th>\n",
       "      <th>002366</th>\n",
       "      <td>48.30</td>\n",
       "      <td>48.30</td>\n",
       "      <td>47.70</td>\n",
       "      <td>48.0</td>\n",
       "      <td>519100.0</td>\n",
       "      <td>24938640.0</td>\n",
       "      <td>15min</td>\n",
       "    </tr>\n",
       "    <tr>\n",
       "      <th>2016-03-21 10:45:00</th>\n",
       "      <th>002366</th>\n",
       "      <td>48.18</td>\n",
       "      <td>48.78</td>\n",
       "      <td>48.18</td>\n",
       "      <td>48.5</td>\n",
       "      <td>376100.0</td>\n",
       "      <td>18231968.0</td>\n",
       "      <td>15min</td>\n",
       "    </tr>\n",
       "  </tbody>\n",
       "</table>\n",
       "</div>"
      ],
      "text/plain": [
       "                             open   high    low  close     volume      amount  \\\n",
       "datetime            code                                                        \n",
       "2016-03-21 09:45:00 002366  50.00  50.00  48.65   48.8  1744900.0  85716128.0   \n",
       "2016-03-21 10:00:00 002366  48.79  49.07  48.38   48.4   934900.0  45594224.0   \n",
       "2016-03-21 10:15:00 002366  48.38  48.66  48.00   48.3   620000.0  29945104.0   \n",
       "2016-03-21 10:30:00 002366  48.30  48.30  47.70   48.0   519100.0  24938640.0   \n",
       "2016-03-21 10:45:00 002366  48.18  48.78  48.18   48.5   376100.0  18231968.0   \n",
       "\n",
       "                             type  \n",
       "datetime            code           \n",
       "2016-03-21 09:45:00 002366  15min  \n",
       "2016-03-21 10:00:00 002366  15min  \n",
       "2016-03-21 10:15:00 002366  15min  \n",
       "2016-03-21 10:30:00 002366  15min  \n",
       "2016-03-21 10:45:00 002366  15min  "
      ]
     },
     "execution_count": 8,
     "metadata": {},
     "output_type": "execute_result"
    }
   ],
   "source": [
    "data_15min.data.head()"
   ]
  },
  {
   "cell_type": "code",
   "execution_count": 9,
   "metadata": {},
   "outputs": [
    {
     "data": {
      "text/html": [
       "<div>\n",
       "<style scoped>\n",
       "    .dataframe tbody tr th:only-of-type {\n",
       "        vertical-align: middle;\n",
       "    }\n",
       "\n",
       "    .dataframe tbody tr th {\n",
       "        vertical-align: top;\n",
       "    }\n",
       "\n",
       "    .dataframe thead th {\n",
       "        text-align: right;\n",
       "    }\n",
       "</style>\n",
       "<table border=\"1\" class=\"dataframe\">\n",
       "  <thead>\n",
       "    <tr style=\"text-align: right;\">\n",
       "      <th></th>\n",
       "      <th></th>\n",
       "      <th>open</th>\n",
       "      <th>high</th>\n",
       "      <th>low</th>\n",
       "      <th>close</th>\n",
       "      <th>volume</th>\n",
       "      <th>amount</th>\n",
       "      <th>type</th>\n",
       "    </tr>\n",
       "    <tr>\n",
       "      <th>datetime</th>\n",
       "      <th>code</th>\n",
       "      <th></th>\n",
       "      <th></th>\n",
       "      <th></th>\n",
       "      <th></th>\n",
       "      <th></th>\n",
       "      <th></th>\n",
       "      <th></th>\n",
       "    </tr>\n",
       "  </thead>\n",
       "  <tbody>\n",
       "    <tr>\n",
       "      <th>2019-01-25 14:00:00</th>\n",
       "      <th>002366</th>\n",
       "      <td>11.46</td>\n",
       "      <td>11.79</td>\n",
       "      <td>11.45</td>\n",
       "      <td>11.58</td>\n",
       "      <td>3222200.0</td>\n",
       "      <td>37441488.0</td>\n",
       "      <td>15min</td>\n",
       "    </tr>\n",
       "    <tr>\n",
       "      <th>2019-01-25 14:15:00</th>\n",
       "      <th>002366</th>\n",
       "      <td>11.55</td>\n",
       "      <td>11.66</td>\n",
       "      <td>11.50</td>\n",
       "      <td>11.60</td>\n",
       "      <td>1370000.0</td>\n",
       "      <td>15864368.0</td>\n",
       "      <td>15min</td>\n",
       "    </tr>\n",
       "    <tr>\n",
       "      <th>2019-01-25 14:30:00</th>\n",
       "      <th>002366</th>\n",
       "      <td>11.59</td>\n",
       "      <td>11.60</td>\n",
       "      <td>11.52</td>\n",
       "      <td>11.52</td>\n",
       "      <td>1130600.0</td>\n",
       "      <td>13060336.0</td>\n",
       "      <td>15min</td>\n",
       "    </tr>\n",
       "    <tr>\n",
       "      <th>2019-01-25 14:45:00</th>\n",
       "      <th>002366</th>\n",
       "      <td>11.54</td>\n",
       "      <td>11.65</td>\n",
       "      <td>11.45</td>\n",
       "      <td>11.58</td>\n",
       "      <td>1451900.0</td>\n",
       "      <td>16717376.0</td>\n",
       "      <td>15min</td>\n",
       "    </tr>\n",
       "    <tr>\n",
       "      <th>2019-01-25 15:00:00</th>\n",
       "      <th>002366</th>\n",
       "      <td>11.58</td>\n",
       "      <td>11.61</td>\n",
       "      <td>11.48</td>\n",
       "      <td>11.49</td>\n",
       "      <td>1663500.0</td>\n",
       "      <td>19159072.0</td>\n",
       "      <td>15min</td>\n",
       "    </tr>\n",
       "  </tbody>\n",
       "</table>\n",
       "</div>"
      ],
      "text/plain": [
       "                             open   high    low  close     volume      amount  \\\n",
       "datetime            code                                                        \n",
       "2019-01-25 14:00:00 002366  11.46  11.79  11.45  11.58  3222200.0  37441488.0   \n",
       "2019-01-25 14:15:00 002366  11.55  11.66  11.50  11.60  1370000.0  15864368.0   \n",
       "2019-01-25 14:30:00 002366  11.59  11.60  11.52  11.52  1130600.0  13060336.0   \n",
       "2019-01-25 14:45:00 002366  11.54  11.65  11.45  11.58  1451900.0  16717376.0   \n",
       "2019-01-25 15:00:00 002366  11.58  11.61  11.48  11.49  1663500.0  19159072.0   \n",
       "\n",
       "                             type  \n",
       "datetime            code           \n",
       "2019-01-25 14:00:00 002366  15min  \n",
       "2019-01-25 14:15:00 002366  15min  \n",
       "2019-01-25 14:30:00 002366  15min  \n",
       "2019-01-25 14:45:00 002366  15min  \n",
       "2019-01-25 15:00:00 002366  15min  "
      ]
     },
     "execution_count": 9,
     "metadata": {},
     "output_type": "execute_result"
    }
   ],
   "source": [
    "data_15min.data.tail()"
   ]
  },
  {
   "cell_type": "code",
   "execution_count": 11,
   "metadata": {},
   "outputs": [],
   "source": [
    "writer = pd.ExcelWriter('data/data_min.xlsx')\n",
    "data_15min.data.to_excel(writer)\n",
    "writer.save()"
   ]
  }
 ],
 "metadata": {
  "kernelspec": {
   "display_name": "Python (quant)",
   "language": "python",
   "name": "quant"
  },
  "language_info": {
   "codemirror_mode": {
    "name": "ipython",
    "version": 3
   },
   "file_extension": ".py",
   "mimetype": "text/x-python",
   "name": "python",
   "nbconvert_exporter": "python",
   "pygments_lexer": "ipython3",
   "version": "3.6.6"
  },
  "toc": {
   "base_numbering": 1,
   "nav_menu": {},
   "number_sections": true,
   "sideBar": true,
   "skip_h1_title": false,
   "title_cell": "Table of Contents",
   "title_sidebar": "Contents",
   "toc_cell": false,
   "toc_position": {},
   "toc_section_display": true,
   "toc_window_display": false
  },
  "varInspector": {
   "cols": {
    "lenName": 16,
    "lenType": 16,
    "lenVar": 40
   },
   "kernels_config": {
    "python": {
     "delete_cmd_postfix": "",
     "delete_cmd_prefix": "del ",
     "library": "var_list.py",
     "varRefreshCmd": "print(var_dic_list())"
    },
    "r": {
     "delete_cmd_postfix": ") ",
     "delete_cmd_prefix": "rm(",
     "library": "var_list.r",
     "varRefreshCmd": "cat(var_dic_list()) "
    }
   },
   "types_to_exclude": [
    "module",
    "function",
    "builtin_function_or_method",
    "instance",
    "_Feature"
   ],
   "window_display": false
  }
 },
 "nbformat": 4,
 "nbformat_minor": 2
}
