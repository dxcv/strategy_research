{
 "cells": [
  {
   "cell_type": "code",
   "execution_count": 1,
   "metadata": {},
   "outputs": [],
   "source": [
    "import numpy as np\n",
    "import pandas as pd\n",
    "import matplotlib.pyplot as plt\n",
    "import seaborn as sns\n",
    "# import statsmodels.api as sm\n",
    "# import QUANTAXIS as QA\n",
    "import talib as ta\n",
    "import datetime #, time"
   ]
  },
  {
   "cell_type": "code",
   "execution_count": 2,
   "metadata": {},
   "outputs": [],
   "source": [
    "import tushare as ts"
   ]
  },
  {
   "cell_type": "code",
   "execution_count": 3,
   "metadata": {},
   "outputs": [],
   "source": [
    "plt.rcParams['figure.figsize'] = [12, 8]\n",
    "plt.rcParams['image.interpolation'] = 'nearest'\n",
    "plt.rcParams['image.cmap'] = 'gray'\n",
    "plt.style.use('ggplot')"
   ]
  },
  {
   "cell_type": "code",
   "execution_count": 3,
   "metadata": {},
   "outputs": [],
   "source": [
    "code = '002366'"
   ]
  },
  {
   "cell_type": "code",
   "execution_count": 4,
   "metadata": {},
   "outputs": [],
   "source": [
    "start = '2018-10-01'\n",
    "end = '2018-11-20'"
   ]
  },
  {
   "cell_type": "code",
   "execution_count": 8,
   "metadata": {},
   "outputs": [],
   "source": [
    "data_hfq = ts.get_k_data(code, start, end, autype='hfq')"
   ]
  },
  {
   "cell_type": "code",
   "execution_count": 7,
   "metadata": {},
   "outputs": [
    {
     "data": {
      "text/html": [
       "<div>\n",
       "<style scoped>\n",
       "    .dataframe tbody tr th:only-of-type {\n",
       "        vertical-align: middle;\n",
       "    }\n",
       "\n",
       "    .dataframe tbody tr th {\n",
       "        vertical-align: top;\n",
       "    }\n",
       "\n",
       "    .dataframe thead th {\n",
       "        text-align: right;\n",
       "    }\n",
       "</style>\n",
       "<table border=\"1\" class=\"dataframe\">\n",
       "  <thead>\n",
       "    <tr style=\"text-align: right;\">\n",
       "      <th></th>\n",
       "      <th>date</th>\n",
       "      <th>open</th>\n",
       "      <th>close</th>\n",
       "      <th>high</th>\n",
       "      <th>low</th>\n",
       "      <th>volume</th>\n",
       "      <th>code</th>\n",
       "    </tr>\n",
       "  </thead>\n",
       "  <tbody>\n",
       "    <tr>\n",
       "      <th>103</th>\n",
       "      <td>2018-10-08</td>\n",
       "      <td>21.165</td>\n",
       "      <td>22.023</td>\n",
       "      <td>23.184</td>\n",
       "      <td>20.886</td>\n",
       "      <td>329540.0</td>\n",
       "      <td>002366</td>\n",
       "    </tr>\n",
       "    <tr>\n",
       "      <th>104</th>\n",
       "      <td>2018-10-09</td>\n",
       "      <td>22.371</td>\n",
       "      <td>22.743</td>\n",
       "      <td>23.184</td>\n",
       "      <td>21.907</td>\n",
       "      <td>315958.0</td>\n",
       "      <td>002366</td>\n",
       "    </tr>\n",
       "    <tr>\n",
       "      <th>105</th>\n",
       "      <td>2018-10-10</td>\n",
       "      <td>22.789</td>\n",
       "      <td>22.325</td>\n",
       "      <td>22.859</td>\n",
       "      <td>22.070</td>\n",
       "      <td>181824.0</td>\n",
       "      <td>002366</td>\n",
       "    </tr>\n",
       "    <tr>\n",
       "      <th>106</th>\n",
       "      <td>2018-10-11</td>\n",
       "      <td>21.814</td>\n",
       "      <td>20.213</td>\n",
       "      <td>21.930</td>\n",
       "      <td>20.097</td>\n",
       "      <td>226829.0</td>\n",
       "      <td>002366</td>\n",
       "    </tr>\n",
       "    <tr>\n",
       "      <th>107</th>\n",
       "      <td>2018-10-12</td>\n",
       "      <td>20.213</td>\n",
       "      <td>22.232</td>\n",
       "      <td>22.232</td>\n",
       "      <td>20.190</td>\n",
       "      <td>379423.0</td>\n",
       "      <td>002366</td>\n",
       "    </tr>\n",
       "  </tbody>\n",
       "</table>\n",
       "</div>"
      ],
      "text/plain": [
       "           date    open   close    high     low    volume    code\n",
       "103  2018-10-08  21.165  22.023  23.184  20.886  329540.0  002366\n",
       "104  2018-10-09  22.371  22.743  23.184  21.907  315958.0  002366\n",
       "105  2018-10-10  22.789  22.325  22.859  22.070  181824.0  002366\n",
       "106  2018-10-11  21.814  20.213  21.930  20.097  226829.0  002366\n",
       "107  2018-10-12  20.213  22.232  22.232  20.190  379423.0  002366"
      ]
     },
     "execution_count": 7,
     "metadata": {},
     "output_type": "execute_result"
    }
   ],
   "source": [
    "data_hfq.head()"
   ]
  },
  {
   "cell_type": "code",
   "execution_count": 9,
   "metadata": {},
   "outputs": [],
   "source": [
    "data_qfq = ts.get_k_data(code, start, end, autype='qfq')"
   ]
  },
  {
   "cell_type": "code",
   "execution_count": 10,
   "metadata": {},
   "outputs": [],
   "source": [
    "high_hfq = data_hfq.high\n",
    "low_hfq = data_hfq.low\n",
    "close_hfq = data_hfq.close"
   ]
  },
  {
   "cell_type": "code",
   "execution_count": 11,
   "metadata": {},
   "outputs": [],
   "source": [
    "high_qfq = data_qfq.high\n",
    "low_qfq = data_qfq.low\n",
    "close_qfq = data_qfq.close"
   ]
  },
  {
   "cell_type": "code",
   "execution_count": 12,
   "metadata": {},
   "outputs": [],
   "source": [
    "atr_hfq = ta.ATR(high_hfq.values, low_hfq.values, close_hfq.values, timeperiod=14)"
   ]
  },
  {
   "cell_type": "code",
   "execution_count": 13,
   "metadata": {},
   "outputs": [],
   "source": [
    "atr_qfq = ta.ATR(high_qfq.values, low_qfq.values, close_qfq.values, timeperiod=14)"
   ]
  },
  {
   "cell_type": "code",
   "execution_count": 14,
   "metadata": {
    "collapsed": true
   },
   "outputs": [
    {
     "data": {
      "text/plain": [
       "array([       nan,        nan,        nan,        nan,        nan,\n",
       "              nan,        nan,        nan,        nan,        nan,\n",
       "              nan,        nan,        nan,        nan, 1.50507143,\n",
       "       1.43570918, 1.4640871 , 1.49543802, 1.43997816, 1.47469401,\n",
       "       1.48207301, 1.55692494, 1.56671601, 1.52609344, 1.47844391,\n",
       "       1.49712649, 1.51947459, 1.47229784, 1.52627656])"
      ]
     },
     "execution_count": 14,
     "metadata": {},
     "output_type": "execute_result"
    }
   ],
   "source": [
    "atr_hfq"
   ]
  },
  {
   "cell_type": "code",
   "execution_count": 19,
   "metadata": {},
   "outputs": [
    {
     "data": {
      "text/plain": [
       "0.6446697117718967"
      ]
     },
     "execution_count": 19,
     "metadata": {},
     "output_type": "execute_result"
    }
   ],
   "source": [
    "np.nanmean(atr_qfq)"
   ]
  },
  {
   "cell_type": "code",
   "execution_count": 18,
   "metadata": {},
   "outputs": [],
   "source": [
    "np.amax()"
   ]
  },
  {
   "cell_type": "code",
   "execution_count": 35,
   "metadata": {},
   "outputs": [
    {
     "data": {
      "text/plain": [
       "9.616660576456207"
      ]
     },
     "execution_count": 35,
     "metadata": {},
     "output_type": "execute_result"
    }
   ],
   "source": [
    "(10.906 - np.nanmean(atr_qfq) * 2) #/ 10.906"
   ]
  },
  {
   "cell_type": "code",
   "execution_count": 5,
   "metadata": {},
   "outputs": [],
   "source": [
    "def stop_lose_price(code, start, end, entry_price, atr_ratio=2):\n",
    "    \"\"\"\n",
    "    计算止损价格:\n",
    "    入场价格下跌2倍实时atr(14天)\n",
    "    有个问题，这里用的前复权计算的\n",
    "    \"\"\"\n",
    "    data_qfq = ts.get_k_data(code, start, end, autype='qfq')\n",
    "    high_qfq = data_qfq.high\n",
    "    low_qfq = data_qfq.low\n",
    "    close_qfq = data_qfq.close\n",
    "    atr_qfq = ta.ATR(high_qfq.values, low_qfq.values, close_qfq.values, timeperiod=14)\n",
    "    return (entry_price - np.nanmean(atr_qfq) * 2) #/ entry_price"
   ]
  },
  {
   "cell_type": "code",
   "execution_count": 26,
   "metadata": {},
   "outputs": [
    {
     "data": {
      "text/plain": [
       "3.330899359215615"
      ]
     },
     "execution_count": 26,
     "metadata": {},
     "output_type": "execute_result"
    }
   ],
   "source": [
    "stop_lose_price('300104', start, end, 3.93)"
   ]
  },
  {
   "cell_type": "code",
   "execution_count": 6,
   "metadata": {},
   "outputs": [],
   "source": [
    "def atr_calc(code, start, end):\n",
    "    \"\"\"\n",
    "    计算近期atr\n",
    "    \"\"\"\n",
    "    data_qfq = ts.get_k_data(code, start, end, autype='qfq')\n",
    "    high_qfq = data_qfq.high\n",
    "    low_qfq = data_qfq.low\n",
    "    close_qfq = data_qfq.close\n",
    "    atr_qfq = ta.ATR(high_qfq.values, low_qfq.values, close_qfq.values, timeperiod=14)\n",
    "    return np.nanmean(atr_qfq)"
   ]
  },
  {
   "cell_type": "code",
   "execution_count": 8,
   "metadata": {},
   "outputs": [
    {
     "data": {
      "text/plain": [
       "0.29921970654087876"
      ]
     },
     "execution_count": 8,
     "metadata": {},
     "output_type": "execute_result"
    }
   ],
   "source": [
    "atr_calc('300104', start, end)"
   ]
  },
  {
   "cell_type": "code",
   "execution_count": 9,
   "metadata": {},
   "outputs": [
    {
     "data": {
      "text/plain": [
       "180969"
      ]
     },
     "execution_count": 9,
     "metadata": {},
     "output_type": "execute_result"
    }
   ],
   "source": [
    "537 * 337"
   ]
  },
  {
   "cell_type": "code",
   "execution_count": 34,
   "metadata": {},
   "outputs": [
    {
     "data": {
      "text/plain": [
       "8.070477082497394"
      ]
     },
     "execution_count": 34,
     "metadata": {},
     "output_type": "execute_result"
    }
   ],
   "source": [
    "(13.91 - 9.34) / atr_calc('300257', start, end)"
   ]
  },
  {
   "cell_type": "code",
   "execution_count": 38,
   "metadata": {},
   "outputs": [
    {
     "data": {
      "text/plain": [
       "0.18604651162790697"
      ]
     },
     "execution_count": 38,
     "metadata": {},
     "output_type": "execute_result"
    }
   ],
   "source": [
    "amount_buy = 1.53\n",
    "amount_sell = 1.05\n",
    "(amount_buy - amount_sell) / (amount_buy + amount_sell)"
   ]
  },
  {
   "cell_type": "code",
   "execution_count": 37,
   "metadata": {},
   "outputs": [
    {
     "data": {
      "text/plain": [
       "0.1875"
      ]
     },
     "execution_count": 37,
     "metadata": {},
     "output_type": "execute_result"
    }
   ],
   "source": []
  },
  {
   "cell_type": "code",
   "execution_count": null,
   "metadata": {},
   "outputs": [],
   "source": []
  },
  {
   "cell_type": "code",
   "execution_count": null,
   "metadata": {},
   "outputs": [],
   "source": []
  },
  {
   "cell_type": "code",
   "execution_count": null,
   "metadata": {},
   "outputs": [],
   "source": []
  }
 ],
 "metadata": {
  "kernelspec": {
   "display_name": "Python 3",
   "language": "python",
   "name": "python3"
  },
  "language_info": {
   "codemirror_mode": {
    "name": "ipython",
    "version": 3
   },
   "file_extension": ".py",
   "mimetype": "text/x-python",
   "name": "python",
   "nbconvert_exporter": "python",
   "pygments_lexer": "ipython3",
   "version": "3.6.5"
  },
  "toc": {
   "base_numbering": 1,
   "nav_menu": {},
   "number_sections": true,
   "sideBar": true,
   "skip_h1_title": false,
   "title_cell": "Table of Contents",
   "title_sidebar": "Contents",
   "toc_cell": false,
   "toc_position": {},
   "toc_section_display": true,
   "toc_window_display": false
  },
  "varInspector": {
   "cols": {
    "lenName": 16,
    "lenType": 16,
    "lenVar": 40
   },
   "kernels_config": {
    "python": {
     "delete_cmd_postfix": "",
     "delete_cmd_prefix": "del ",
     "library": "var_list.py",
     "varRefreshCmd": "print(var_dic_list())"
    },
    "r": {
     "delete_cmd_postfix": ") ",
     "delete_cmd_prefix": "rm(",
     "library": "var_list.r",
     "varRefreshCmd": "cat(var_dic_list()) "
    }
   },
   "position": {
    "height": "264.5px",
    "left": "1130px",
    "right": "20px",
    "top": "121px",
    "width": "350px"
   },
   "types_to_exclude": [
    "module",
    "function",
    "builtin_function_or_method",
    "instance",
    "_Feature"
   ],
   "window_display": false
  }
 },
 "nbformat": 4,
 "nbformat_minor": 2
}
