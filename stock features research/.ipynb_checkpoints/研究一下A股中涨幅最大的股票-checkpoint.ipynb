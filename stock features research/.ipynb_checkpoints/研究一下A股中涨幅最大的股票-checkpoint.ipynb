{
 "cells": [
  {
   "cell_type": "code",
   "execution_count": 1,
   "metadata": {},
   "outputs": [],
   "source": [
    "import numpy as np\n",
    "import pandas as pd\n",
    "import matplotlib.pyplot as plt\n",
    "import seaborn as sns\n",
    "# import statsmodels.api as sm\n",
    "# import tushare as ts\n",
    "import QUANTAXIS as QA\n",
    "import talib as ta\n",
    "import datetime\n"
   ]
  },
  {
   "cell_type": "code",
   "execution_count": 2,
   "metadata": {},
   "outputs": [],
   "source": [
    "plt.rcParams['figure.figsize'] = [12, 8]\n",
    "plt.rcParams['image.interpolation'] = 'nearest'\n",
    "plt.rcParams['image.cmap'] = 'gray'\n",
    "plt.style.use('ggplot')"
   ]
  },
  {
   "cell_type": "code",
   "execution_count": 31,
   "metadata": {},
   "outputs": [],
   "source": [
    "import seaborn as sns"
   ]
  },
  {
   "cell_type": "markdown",
   "metadata": {},
   "source": [
    "应该说除了新股以外，对个股按照历史最大涨幅进行排序，输出最大涨幅的时间点，最好能带上相关板块"
   ]
  },
  {
   "cell_type": "code",
   "execution_count": 162,
   "metadata": {},
   "outputs": [],
   "source": [
    "stock_ipo_info = pd.read_excel('data/ipo_info.xlsx', header=0, dtype={'code':str})"
   ]
  },
  {
   "cell_type": "code",
   "execution_count": 149,
   "metadata": {},
   "outputs": [
    {
     "data": {
      "text/plain": [
       "'1991-04-03'"
      ]
     },
     "execution_count": 149,
     "metadata": {},
     "output_type": "execute_result"
    }
   ],
   "source": [
    "stock_ipo_info.loc[0, 'timeToMarket']"
   ]
  },
  {
   "cell_type": "code",
   "execution_count": 150,
   "metadata": {},
   "outputs": [],
   "source": [
    "def after_1_year_fisrt_trade_date(x):\n",
    "    year = str(int(x[:4]) + 1)\n",
    "    x = year + x[4:]\n",
    "    return QA.QA_util_get_next_datetime(x)"
   ]
  },
  {
   "cell_type": "code",
   "execution_count": 151,
   "metadata": {},
   "outputs": [
    {
     "data": {
      "text/plain": [
       "'1992-04-06 '"
      ]
     },
     "execution_count": 151,
     "metadata": {},
     "output_type": "execute_result"
    }
   ],
   "source": [
    "after_1_year_fisrt_trade_date(stock_ipo_info.loc[0, 'timeToMarket'])"
   ]
  },
  {
   "cell_type": "code",
   "execution_count": 163,
   "metadata": {},
   "outputs": [],
   "source": [
    "after_1_year_date = stock_ipo_info.timeToMarket.apply(lambda x : after_1_year_fisrt_trade_date(x))"
   ]
  },
  {
   "cell_type": "code",
   "execution_count": 164,
   "metadata": {},
   "outputs": [],
   "source": [
    "stock_ipo_info = stock_ipo_info.assign(ipo_after_1_year_date = after_1_year_date)"
   ]
  },
  {
   "cell_type": "code",
   "execution_count": 165,
   "metadata": {},
   "outputs": [
    {
     "data": {
      "text/html": [
       "<div>\n",
       "<style scoped>\n",
       "    .dataframe tbody tr th:only-of-type {\n",
       "        vertical-align: middle;\n",
       "    }\n",
       "\n",
       "    .dataframe tbody tr th {\n",
       "        vertical-align: top;\n",
       "    }\n",
       "\n",
       "    .dataframe thead th {\n",
       "        text-align: right;\n",
       "    }\n",
       "</style>\n",
       "<table border=\"1\" class=\"dataframe\">\n",
       "  <thead>\n",
       "    <tr style=\"text-align: right;\">\n",
       "      <th></th>\n",
       "      <th>code</th>\n",
       "      <th>name</th>\n",
       "      <th>issueprice</th>\n",
       "      <th>timeToMarket</th>\n",
       "      <th>code_choice</th>\n",
       "      <th>ipo_after_1_year_date</th>\n",
       "    </tr>\n",
       "  </thead>\n",
       "  <tbody>\n",
       "    <tr>\n",
       "      <th>0</th>\n",
       "      <td>000001</td>\n",
       "      <td>平安银行</td>\n",
       "      <td>40.0</td>\n",
       "      <td>1991-04-03</td>\n",
       "      <td>000001.SZ</td>\n",
       "      <td>1992-04-06</td>\n",
       "    </tr>\n",
       "    <tr>\n",
       "      <th>1</th>\n",
       "      <td>000002</td>\n",
       "      <td>万科A</td>\n",
       "      <td>1.0</td>\n",
       "      <td>1991-01-29</td>\n",
       "      <td>000002.SZ</td>\n",
       "      <td>1992-01-30</td>\n",
       "    </tr>\n",
       "    <tr>\n",
       "      <th>2</th>\n",
       "      <td>000004</td>\n",
       "      <td>国农科技</td>\n",
       "      <td>1.0</td>\n",
       "      <td>1991-01-14</td>\n",
       "      <td>000004.SZ</td>\n",
       "      <td>1992-01-15</td>\n",
       "    </tr>\n",
       "    <tr>\n",
       "      <th>3</th>\n",
       "      <td>000005</td>\n",
       "      <td>世纪星源</td>\n",
       "      <td>10.0</td>\n",
       "      <td>1990-12-10</td>\n",
       "      <td>000005.SZ</td>\n",
       "      <td>1991-12-11</td>\n",
       "    </tr>\n",
       "    <tr>\n",
       "      <th>4</th>\n",
       "      <td>000006</td>\n",
       "      <td>深振业A</td>\n",
       "      <td>10.0</td>\n",
       "      <td>1992-04-27</td>\n",
       "      <td>000006.SZ</td>\n",
       "      <td>1993-04-28</td>\n",
       "    </tr>\n",
       "  </tbody>\n",
       "</table>\n",
       "</div>"
      ],
      "text/plain": [
       "     code  name  issueprice timeToMarket code_choice ipo_after_1_year_date\n",
       "0  000001  平安银行        40.0   1991-04-03   000001.SZ           1992-04-06 \n",
       "1  000002   万科A         1.0   1991-01-29   000002.SZ           1992-01-30 \n",
       "2  000004  国农科技         1.0   1991-01-14   000004.SZ           1992-01-15 \n",
       "3  000005  世纪星源        10.0   1990-12-10   000005.SZ           1991-12-11 \n",
       "4  000006  深振业A        10.0   1992-04-27   000006.SZ           1993-04-28 "
      ]
     },
     "execution_count": 165,
     "metadata": {},
     "output_type": "execute_result"
    }
   ],
   "source": [
    "stock_ipo_info.head()"
   ]
  },
  {
   "cell_type": "code",
   "execution_count": 18,
   "metadata": {},
   "outputs": [],
   "source": [
    "data = QA.QA_fetch_stock_day_adv('000002', '1991-06-07', end='2018-11-11')\n",
    "data.plot('000002');\n",
    "close = data.to_hfq().close\n",
    "close.index.get_level_values(0)\n",
    "close.index = close.index.droplevel(level=1)\n",
    "close.plot();\n",
    "data.to_hfq().close\n",
    "# (close/close.iloc[0]).plot();\n",
    "plt.plot(data.date, close/close.iloc[0]);\n",
    "(1+close.pct_change()[1:]).cumprod().plot();\n",
    "start = stock_ipo_info[stock_ipo_info.code == '300257'].ipo_next_90_date.iloc[0]\n",
    "end = '2018-11-11'\n",
    "(1+QA.QA_fetch_stock_day_adv('300257', start, end).to_hfq().close.pct_change()[1:]).cumprod().plot();"
   ]
  },
  {
   "cell_type": "code",
   "execution_count": 112,
   "metadata": {},
   "outputs": [],
   "source": [
    "sz_data = QA.QA_fetch_index_day_adv('000001',start='1990-01-01', end='2018-11-11')"
   ]
  },
  {
   "cell_type": "code",
   "execution_count": 124,
   "metadata": {},
   "outputs": [
    {
     "data": {
      "image/png": "[encoded data removed]",
      "text/plain": [
       "<Figure size 748.8x514.8 with 1 Axes>"
      ]
     },
     "metadata": {},
     "output_type": "display_data"
    }
   ],
   "source": [
    "plt.plot(sz_data.date, sz_data.close);"
   ]
  },
  {
   "cell_type": "code",
   "execution_count": 140,
   "metadata": {},
   "outputs": [
    {
     "data": {
      "text/plain": [
       "Timestamp('2005-06-06 00:00:00')"
      ]
     },
     "execution_count": 140,
     "metadata": {},
     "output_type": "execute_result"
    }
   ],
   "source": [
    "sz_data.data.xs('000001',level=1)['2005-01':'2008-01'].low.idxmin()"
   ]
  },
  {
   "cell_type": "code",
   "execution_count": 141,
   "metadata": {},
   "outputs": [
    {
     "data": {
      "text/plain": [
       "998.23000000000002"
      ]
     },
     "execution_count": 141,
     "metadata": {},
     "output_type": "execute_result"
    }
   ],
   "source": [
    "sz_data.data.xs('000001',level=1)['2005-01':'2007-01'].low.min()"
   ]
  },
  {
   "cell_type": "code",
   "execution_count": 142,
   "metadata": {},
   "outputs": [
    {
     "data": {
      "text/plain": [
       "Timestamp('2007-10-16 00:00:00')"
      ]
     },
     "execution_count": 142,
     "metadata": {},
     "output_type": "execute_result"
    }
   ],
   "source": [
    "sz_data.data.xs('000001',level=1)['2005-01':'2008-12'].high.idxmax()"
   ]
  },
  {
   "cell_type": "code",
   "execution_count": 143,
   "metadata": {},
   "outputs": [
    {
     "data": {
      "text/plain": [
       "6124.04"
      ]
     },
     "execution_count": 143,
     "metadata": {},
     "output_type": "execute_result"
    }
   ],
   "source": [
    "sz_data.data.xs('000001',level=1)['2005-01':'2008-12'].high.max()"
   ]
  },
  {
   "cell_type": "code",
   "execution_count": 146,
   "metadata": {},
   "outputs": [
    {
     "data": {
      "text/plain": [
       "575"
      ]
     },
     "execution_count": 146,
     "metadata": {},
     "output_type": "execute_result"
    }
   ],
   "source": [
    "QA.QA_util_get_trade_gap('2005-06-06', '2007-10-16')"
   ]
  },
  {
   "cell_type": "markdown",
   "metadata": {},
   "source": [
    "先做第一期,时间点选择从2005-06-06到2007-12-31\n",
    "\n",
    "直接求出各股该区间的最小值和最大值,然后可以求出最大净值，并返回时间点"
   ]
  },
  {
   "cell_type": "code",
   "execution_count": 185,
   "metadata": {},
   "outputs": [],
   "source": [
    "start = '2004-06-06'\n",
    "end = '2008-12-31'"
   ]
  },
  {
   "cell_type": "code",
   "execution_count": 186,
   "metadata": {},
   "outputs": [],
   "source": [
    "nums = stock_ipo_info.shape[0]"
   ]
  },
  {
   "cell_type": "code",
   "execution_count": 188,
   "metadata": {},
   "outputs": [
    {
     "name": "stdout",
     "output_type": "stream",
     "text": [
      "QA Error QA_fetch_stock_day_adv parameter code=000638 , start=2004-06-06, end=2008-12-31 call QA_fetch_stock_day return None\n",
      "QA Error QA_fetch_stock_day_adv parameter code=601918 , start=2008-12-22, end=2008-12-31 call QA_fetch_stock_day return None\n"
     ]
    }
   ],
   "source": [
    "df = pd.DataFrame()\n",
    "\n",
    "for i in range(nums):\n",
    "# for i in range(10):\n",
    "    code = stock_ipo_info.loc[i, 'code']\n",
    "    name = stock_ipo_info.loc[i, 'name']\n",
    "    # 因为trade date貌似只到2018年底，所以需要到时候先跑一下所有的日期获取是否正常\n",
    "    ipo_after_year_date = stock_ipo_info.loc[i, 'ipo_after_1_year_date']\n",
    "    if ipo_after_year_date > end :\n",
    "        continue\n",
    "    _start = max(start, ipo_after_year_date)\n",
    "    _end = end\n",
    "    try:\n",
    "        _data = QA.QA_fetch_stock_day_adv(code, _start, _end).to_hfq().data\n",
    "    except:\n",
    "        continue\n",
    "    _high = _data.xs(code, level=1).high.max()\n",
    "    _high_date = _data.xs(code, level=1).high.idxmax()\n",
    "    _low = _data.xs(code, level=1).low.min()\n",
    "    _low_date = _data.xs(code, level=1).low.idxmin()\n",
    "    _max_net_value = (_high - _low) / _low\n",
    "    gap_days = QA.QA_util_get_trade_gap(str(_low_date), str(_high_date))\n",
    "    data_dict = {'code':code,\n",
    "                 'name':name,\n",
    "                 'max_net_value':_max_net_value,\n",
    "                 'low':_low,\n",
    "                 'high':_high,\n",
    "                 'low_date':_low_date,\n",
    "                 'high_date':_high_date,\n",
    "                 'gap_days':gap_days\n",
    "                }\n",
    "    temp = pd.DataFrame(data_dict, index=[i])\n",
    "    df = pd.concat([df, temp])\n",
    "df = df.sort_values('max_net_value',ascending=False)   "
   ]
  },
  {
   "cell_type": "code",
   "execution_count": 193,
   "metadata": {},
   "outputs": [],
   "source": [
    "df = df.assign(name = df.code.apply(lambda x : stock_ipo_info[stock_ipo_info.code == x].name.iloc[0]))"
   ]
  },
  {
   "cell_type": "code",
   "execution_count": 208,
   "metadata": {
    "collapsed": true
   },
   "outputs": [
    {
     "data": {
      "text/html": [
       "<div>\n",
       "<style scoped>\n",
       "    .dataframe tbody tr th:only-of-type {\n",
       "        vertical-align: middle;\n",
       "    }\n",
       "\n",
       "    .dataframe tbody tr th {\n",
       "        vertical-align: top;\n",
       "    }\n",
       "\n",
       "    .dataframe thead th {\n",
       "        text-align: right;\n",
       "    }\n",
       "</style>\n",
       "<table border=\"1\" class=\"dataframe\">\n",
       "  <thead>\n",
       "    <tr style=\"text-align: right;\">\n",
       "      <th></th>\n",
       "      <th>code</th>\n",
       "      <th>max_net_value</th>\n",
       "      <th>low</th>\n",
       "      <th>high</th>\n",
       "      <th>low_date</th>\n",
       "      <th>high_date</th>\n",
       "      <th>gap_days</th>\n",
       "      <th>name</th>\n",
       "      <th>block</th>\n",
       "    </tr>\n",
       "  </thead>\n",
       "  <tbody>\n",
       "    <tr>\n",
       "      <th>373</th>\n",
       "      <td>000887</td>\n",
       "      <td>83.513362</td>\n",
       "      <td>0.940000</td>\n",
       "      <td>79.442560</td>\n",
       "      <td>2005-07-22</td>\n",
       "      <td>2008-03-07</td>\n",
       "      <td>637</td>\n",
       "      <td>中鼎股份</td>\n",
       "      <td>[皖江区域, 中盘成长, QFII重仓, 高铁, 安徽, 汽车零部件, 制造业]</td>\n",
       "    </tr>\n",
       "    <tr>\n",
       "      <th>2204</th>\n",
       "      <td>600109</td>\n",
       "      <td>68.628431</td>\n",
       "      <td>3.288876</td>\n",
       "      <td>228.999246</td>\n",
       "      <td>2005-07-19</td>\n",
       "      <td>2007-08-21</td>\n",
       "      <td>509</td>\n",
       "      <td>国金证券</td>\n",
       "      <td>[成渝特区, 沪深300, 融资融券, 互联网+, 四川, 证券, 金融、保险业]</td>\n",
       "    </tr>\n",
       "    <tr>\n",
       "      <th>265</th>\n",
       "      <td>000718</td>\n",
       "      <td>63.696203</td>\n",
       "      <td>0.790000</td>\n",
       "      <td>51.110000</td>\n",
       "      <td>2005-03-15</td>\n",
       "      <td>2007-08-28</td>\n",
       "      <td>599</td>\n",
       "      <td>苏宁环球</td>\n",
       "      <td>[图们江, 融资融券, 小盘价值, 吉林, 房地产开发, 房地产业]</td>\n",
       "    </tr>\n",
       "    <tr>\n",
       "      <th>2239</th>\n",
       "      <td>600150</td>\n",
       "      <td>59.110573</td>\n",
       "      <td>6.750000</td>\n",
       "      <td>405.746368</td>\n",
       "      <td>2004-09-13</td>\n",
       "      <td>2007-10-11</td>\n",
       "      <td>744</td>\n",
       "      <td>*ST船舶</td>\n",
       "      <td>[一带一路, 融资融券, 中证央企, 风电, 浦东, 国防军工, 制造业]</td>\n",
       "    </tr>\n",
       "    <tr>\n",
       "      <th>2683</th>\n",
       "      <td>600685</td>\n",
       "      <td>58.126833</td>\n",
       "      <td>2.210000</td>\n",
       "      <td>130.670300</td>\n",
       "      <td>2005-07-18</td>\n",
       "      <td>2007-10-15</td>\n",
       "      <td>544</td>\n",
       "      <td>中船防务</td>\n",
       "      <td>[粤港澳, 中证央企, 证金持股, 高端装备, 广东其它, 国防军工, 制造业]</td>\n",
       "    </tr>\n",
       "    <tr>\n",
       "      <th>240</th>\n",
       "      <td>000686</td>\n",
       "      <td>57.417021</td>\n",
       "      <td>2.820000</td>\n",
       "      <td>164.736000</td>\n",
       "      <td>2005-07-12</td>\n",
       "      <td>2007-10-16</td>\n",
       "      <td>549</td>\n",
       "      <td>东北证券</td>\n",
       "      <td>[新三板, 融资融券, 中盘成长, 参股新三板, 吉林, 证券, 金融、保险业]</td>\n",
       "    </tr>\n",
       "    <tr>\n",
       "      <th>2735</th>\n",
       "      <td>600739</td>\n",
       "      <td>51.905806</td>\n",
       "      <td>5.464294</td>\n",
       "      <td>289.092854</td>\n",
       "      <td>2004-08-20</td>\n",
       "      <td>2007-10-16</td>\n",
       "      <td>763</td>\n",
       "      <td>辽宁成大</td>\n",
       "      <td>[环渤海, 沪深300, 融资融券, 参股券商, 辽宁, 贸易, 批发和零售贸易]</td>\n",
       "    </tr>\n",
       "    <tr>\n",
       "      <th>2230</th>\n",
       "      <td>600137</td>\n",
       "      <td>51.860697</td>\n",
       "      <td>2.010000</td>\n",
       "      <td>106.250000</td>\n",
       "      <td>2005-07-21</td>\n",
       "      <td>2007-04-13</td>\n",
       "      <td>420</td>\n",
       "      <td>浪莎股份</td>\n",
       "      <td>[小盘股, 金改, 四川, 服装家纺, 制造业]</td>\n",
       "    </tr>\n",
       "    <tr>\n",
       "      <th>189</th>\n",
       "      <td>000612</td>\n",
       "      <td>49.683989</td>\n",
       "      <td>1.800000</td>\n",
       "      <td>91.231180</td>\n",
       "      <td>2005-07-19</td>\n",
       "      <td>2007-10-17</td>\n",
       "      <td>545</td>\n",
       "      <td>焦作万方</td>\n",
       "      <td>[小盘价值, 被举牌, 股权转让, 河南, 有色冶炼加工, 制造业]</td>\n",
       "    </tr>\n",
       "    <tr>\n",
       "      <th>2794</th>\n",
       "      <td>600804</td>\n",
       "      <td>47.787129</td>\n",
       "      <td>2.020000</td>\n",
       "      <td>98.550000</td>\n",
       "      <td>2005-07-19</td>\n",
       "      <td>2008-01-11</td>\n",
       "      <td>605</td>\n",
       "      <td>鹏博士</td>\n",
       "      <td>[通达信88, 沪深300, 融资融券, 电子信息, 四川, 通信设备, 信息技术业]</td>\n",
       "    </tr>\n",
       "    <tr>\n",
       "      <th>197</th>\n",
       "      <td>000623</td>\n",
       "      <td>40.189611</td>\n",
       "      <td>4.910000</td>\n",
       "      <td>202.240992</td>\n",
       "      <td>2004-06-29</td>\n",
       "      <td>2007-10-19</td>\n",
       "      <td>804</td>\n",
       "      <td>吉林敖东</td>\n",
       "      <td>[含可转债, 沪深300, 融资融券, 参股券商, 吉林, 中药, 制造业]</td>\n",
       "    </tr>\n",
       "    <tr>\n",
       "      <th>2398</th>\n",
       "      <td>600331</td>\n",
       "      <td>39.672570</td>\n",
       "      <td>5.310000</td>\n",
       "      <td>215.971347</td>\n",
       "      <td>2004-07-01</td>\n",
       "      <td>2007-09-24</td>\n",
       "      <td>788</td>\n",
       "      <td>宏达股份</td>\n",
       "      <td>[成渝特区, 破净资产, 融资融券, 四川, 有色冶炼加工, 制造业]</td>\n",
       "    </tr>\n",
       "    <tr>\n",
       "      <th>2564</th>\n",
       "      <td>600550</td>\n",
       "      <td>39.101550</td>\n",
       "      <td>5.070000</td>\n",
       "      <td>203.314860</td>\n",
       "      <td>2004-09-13</td>\n",
       "      <td>2008-05-08</td>\n",
       "      <td>884</td>\n",
       "      <td>保变电气</td>\n",
       "      <td>[雄安新区, 中证央企, 亏损股, 核电, 河北, 电气设备, 制造业]</td>\n",
       "    </tr>\n",
       "    <tr>\n",
       "      <th>366</th>\n",
       "      <td>000878</td>\n",
       "      <td>39.071234</td>\n",
       "      <td>3.438357</td>\n",
       "      <td>137.779208</td>\n",
       "      <td>2005-06-06</td>\n",
       "      <td>2007-10-08</td>\n",
       "      <td>569</td>\n",
       "      <td>云南铜业</td>\n",
       "      <td>[稀缺资源, 融资融券, 中证央企, 期货概念, 云南, 有色冶炼加工, 制造业]</td>\n",
       "    </tr>\n",
       "    <tr>\n",
       "      <th>2140</th>\n",
       "      <td>600030</td>\n",
       "      <td>37.896210</td>\n",
       "      <td>4.235064</td>\n",
       "      <td>164.727930</td>\n",
       "      <td>2005-03-31</td>\n",
       "      <td>2007-11-05</td>\n",
       "      <td>631</td>\n",
       "      <td>中信证券</td>\n",
       "      <td>[珠三角, 沪深300, 融资融券, MSCI概念, 深圳, 证券, 金融、保险业]</td>\n",
       "    </tr>\n",
       "    <tr>\n",
       "      <th>2518</th>\n",
       "      <td>600497</td>\n",
       "      <td>37.568540</td>\n",
       "      <td>8.350000</td>\n",
       "      <td>322.047306</td>\n",
       "      <td>2005-06-06</td>\n",
       "      <td>2007-10-22</td>\n",
       "      <td>579</td>\n",
       "      <td>驰宏锌锗</td>\n",
       "      <td>[稀缺资源, 融资融券, 上证180, 云南, 有色冶炼加工, 采掘业]</td>\n",
       "    </tr>\n",
       "    <tr>\n",
       "      <th>2329</th>\n",
       "      <td>600251</td>\n",
       "      <td>37.206456</td>\n",
       "      <td>5.809655</td>\n",
       "      <td>221.966334</td>\n",
       "      <td>2005-02-16</td>\n",
       "      <td>2008-05-16</td>\n",
       "      <td>791</td>\n",
       "      <td>冠农股份</td>\n",
       "      <td>[稀缺资源, 上证治理, 证金持股, O2O概念, 新疆, 农产品加工, 农、林、牧、渔业,...</td>\n",
       "    </tr>\n",
       "    <tr>\n",
       "      <th>2428</th>\n",
       "      <td>600369</td>\n",
       "      <td>35.132231</td>\n",
       "      <td>1.210000</td>\n",
       "      <td>43.720000</td>\n",
       "      <td>2005-07-21</td>\n",
       "      <td>2008-01-28</td>\n",
       "      <td>614</td>\n",
       "      <td>西南证券</td>\n",
       "      <td>[成渝特区, 沪深300, 融资融券, 期货概念, 重庆, 证券, 金融、保险业]</td>\n",
       "    </tr>\n",
       "    <tr>\n",
       "      <th>38</th>\n",
       "      <td>000046</td>\n",
       "      <td>34.075000</td>\n",
       "      <td>3.614990</td>\n",
       "      <td>126.795787</td>\n",
       "      <td>2005-07-18</td>\n",
       "      <td>2007-09-25</td>\n",
       "      <td>535</td>\n",
       "      <td>泛海控股</td>\n",
       "      <td>[互联金融, 融资融券, 中盘成长, 参股保险, 北京, 房地产开发, 房地产业]</td>\n",
       "    </tr>\n",
       "    <tr>\n",
       "      <th>2170</th>\n",
       "      <td>600072</td>\n",
       "      <td>34.037511</td>\n",
       "      <td>2.410000</td>\n",
       "      <td>84.440400</td>\n",
       "      <td>2005-07-18</td>\n",
       "      <td>2007-09-20</td>\n",
       "      <td>532</td>\n",
       "      <td>中船科技</td>\n",
       "      <td>[国防军工, 中证央企, 高市盈率, 高端装备, 浦东, 制造业]</td>\n",
       "    </tr>\n",
       "  </tbody>\n",
       "</table>\n",
       "</div>"
      ],
      "text/plain": [
       "        code  max_net_value       low        high   low_date  high_date  \\\n",
       "373   000887      83.513362  0.940000   79.442560 2005-07-22 2008-03-07   \n",
       "2204  600109      68.628431  3.288876  228.999246 2005-07-19 2007-08-21   \n",
       "265   000718      63.696203  0.790000   51.110000 2005-03-15 2007-08-28   \n",
       "2239  600150      59.110573  6.750000  405.746368 2004-09-13 2007-10-11   \n",
       "2683  600685      58.126833  2.210000  130.670300 2005-07-18 2007-10-15   \n",
       "240   000686      57.417021  2.820000  164.736000 2005-07-12 2007-10-16   \n",
       "2735  600739      51.905806  5.464294  289.092854 2004-08-20 2007-10-16   \n",
       "2230  600137      51.860697  2.010000  106.250000 2005-07-21 2007-04-13   \n",
       "189   000612      49.683989  1.800000   91.231180 2005-07-19 2007-10-17   \n",
       "2794  600804      47.787129  2.020000   98.550000 2005-07-19 2008-01-11   \n",
       "197   000623      40.189611  4.910000  202.240992 2004-06-29 2007-10-19   \n",
       "2398  600331      39.672570  5.310000  215.971347 2004-07-01 2007-09-24   \n",
       "2564  600550      39.101550  5.070000  203.314860 2004-09-13 2008-05-08   \n",
       "366   000878      39.071234  3.438357  137.779208 2005-06-06 2007-10-08   \n",
       "2140  600030      37.896210  4.235064  164.727930 2005-03-31 2007-11-05   \n",
       "2518  600497      37.568540  8.350000  322.047306 2005-06-06 2007-10-22   \n",
       "2329  600251      37.206456  5.809655  221.966334 2005-02-16 2008-05-16   \n",
       "2428  600369      35.132231  1.210000   43.720000 2005-07-21 2008-01-28   \n",
       "38    000046      34.075000  3.614990  126.795787 2005-07-18 2007-09-25   \n",
       "2170  600072      34.037511  2.410000   84.440400 2005-07-18 2007-09-20   \n",
       "\n",
       "      gap_days   name                                              block  \n",
       "373        637   中鼎股份           [皖江区域, 中盘成长, QFII重仓, 高铁, 安徽, 汽车零部件, 制造业]  \n",
       "2204       509   国金证券          [成渝特区, 沪深300, 融资融券, 互联网+, 四川, 证券, 金融、保险业]  \n",
       "265        599   苏宁环球                 [图们江, 融资融券, 小盘价值, 吉林, 房地产开发, 房地产业]  \n",
       "2239       744  *ST船舶              [一带一路, 融资融券, 中证央企, 风电, 浦东, 国防军工, 制造业]  \n",
       "2683       544   中船防务           [粤港澳, 中证央企, 证金持股, 高端装备, 广东其它, 国防军工, 制造业]  \n",
       "240        549   东北证券           [新三板, 融资融券, 中盘成长, 参股新三板, 吉林, 证券, 金融、保险业]  \n",
       "2735       763   辽宁成大          [环渤海, 沪深300, 融资融券, 参股券商, 辽宁, 贸易, 批发和零售贸易]  \n",
       "2230       420   浪莎股份                           [小盘股, 金改, 四川, 服装家纺, 制造业]  \n",
       "189        545   焦作万方                 [小盘价值, 被举牌, 股权转让, 河南, 有色冶炼加工, 制造业]  \n",
       "2794       605    鹏博士        [通达信88, 沪深300, 融资融券, 电子信息, 四川, 通信设备, 信息技术业]  \n",
       "197        804   吉林敖东             [含可转债, 沪深300, 融资融券, 参股券商, 吉林, 中药, 制造业]  \n",
       "2398       788   宏达股份                [成渝特区, 破净资产, 融资融券, 四川, 有色冶炼加工, 制造业]  \n",
       "2564       884   保变电气               [雄安新区, 中证央企, 亏损股, 核电, 河北, 电气设备, 制造业]  \n",
       "366        569   云南铜业          [稀缺资源, 融资融券, 中证央企, 期货概念, 云南, 有色冶炼加工, 制造业]  \n",
       "2140       631   中信证券         [珠三角, 沪深300, 融资融券, MSCI概念, 深圳, 证券, 金融、保险业]  \n",
       "2518       579   驰宏锌锗               [稀缺资源, 融资融券, 上证180, 云南, 有色冶炼加工, 采掘业]  \n",
       "2329       791   冠农股份  [稀缺资源, 上证治理, 证金持股, O2O概念, 新疆, 农产品加工, 农、林、牧、渔业,...  \n",
       "2428       614   西南证券          [成渝特区, 沪深300, 融资融券, 期货概念, 重庆, 证券, 金融、保险业]  \n",
       "38         535   泛海控股          [互联金融, 融资融券, 中盘成长, 参股保险, 北京, 房地产开发, 房地产业]  \n",
       "2170       532   中船科技                  [国防军工, 中证央企, 高市盈率, 高端装备, 浦东, 制造业]  "
      ]
     },
     "execution_count": 208,
     "metadata": {},
     "output_type": "execute_result"
    }
   ],
   "source": [
    "df.head(20)"
   ]
  },
  {
   "cell_type": "code",
   "execution_count": 197,
   "metadata": {
    "collapsed": true
   },
   "outputs": [
    {
     "data": {
      "text/html": [
       "<div>\n",
       "<style scoped>\n",
       "    .dataframe tbody tr th:only-of-type {\n",
       "        vertical-align: middle;\n",
       "    }\n",
       "\n",
       "    .dataframe tbody tr th {\n",
       "        vertical-align: top;\n",
       "    }\n",
       "\n",
       "    .dataframe thead th {\n",
       "        text-align: right;\n",
       "    }\n",
       "</style>\n",
       "<table border=\"1\" class=\"dataframe\">\n",
       "  <thead>\n",
       "    <tr style=\"text-align: right;\">\n",
       "      <th></th>\n",
       "      <th>code</th>\n",
       "      <th>max_net_value</th>\n",
       "      <th>low</th>\n",
       "      <th>high</th>\n",
       "      <th>low_date</th>\n",
       "      <th>high_date</th>\n",
       "      <th>gap_days</th>\n",
       "      <th>name</th>\n",
       "    </tr>\n",
       "  </thead>\n",
       "  <tbody>\n",
       "    <tr>\n",
       "      <th>2467</th>\n",
       "      <td>600419</td>\n",
       "      <td>3.214019</td>\n",
       "      <td>3.230763</td>\n",
       "      <td>13.614497</td>\n",
       "      <td>2005-07-21</td>\n",
       "      <td>2007-06-19</td>\n",
       "      <td>462</td>\n",
       "      <td>天润乳业</td>\n",
       "    </tr>\n",
       "    <tr>\n",
       "      <th>2326</th>\n",
       "      <td>600248</td>\n",
       "      <td>3.206757</td>\n",
       "      <td>2.220000</td>\n",
       "      <td>9.339000</td>\n",
       "      <td>2005-07-12</td>\n",
       "      <td>2008-12-26</td>\n",
       "      <td>845</td>\n",
       "      <td>延长化建</td>\n",
       "    </tr>\n",
       "    <tr>\n",
       "      <th>37</th>\n",
       "      <td>000045</td>\n",
       "      <td>3.169412</td>\n",
       "      <td>6.269099</td>\n",
       "      <td>26.138460</td>\n",
       "      <td>2005-07-04</td>\n",
       "      <td>2008-01-17</td>\n",
       "      <td>620</td>\n",
       "      <td>深纺织A</td>\n",
       "    </tr>\n",
       "    <tr>\n",
       "      <th>2132</th>\n",
       "      <td>600021</td>\n",
       "      <td>3.056710</td>\n",
       "      <td>4.674882</td>\n",
       "      <td>18.964640</td>\n",
       "      <td>2005-06-03</td>\n",
       "      <td>2007-05-30</td>\n",
       "      <td>482</td>\n",
       "      <td>上海电力</td>\n",
       "    </tr>\n",
       "    <tr>\n",
       "      <th>2540</th>\n",
       "      <td>600521</td>\n",
       "      <td>3.031387</td>\n",
       "      <td>13.050000</td>\n",
       "      <td>52.609600</td>\n",
       "      <td>2004-06-07</td>\n",
       "      <td>2008-01-03</td>\n",
       "      <td>872</td>\n",
       "      <td>华海药业</td>\n",
       "    </tr>\n",
       "    <tr>\n",
       "      <th>42</th>\n",
       "      <td>000055</td>\n",
       "      <td>2.980703</td>\n",
       "      <td>3.900000</td>\n",
       "      <td>15.524740</td>\n",
       "      <td>2005-07-12</td>\n",
       "      <td>2008-03-06</td>\n",
       "      <td>644</td>\n",
       "      <td>方大集团</td>\n",
       "    </tr>\n",
       "    <tr>\n",
       "      <th>2533</th>\n",
       "      <td>600513</td>\n",
       "      <td>2.935082</td>\n",
       "      <td>6.470978</td>\n",
       "      <td>25.463828</td>\n",
       "      <td>2005-07-18</td>\n",
       "      <td>2007-05-17</td>\n",
       "      <td>442</td>\n",
       "      <td>联环药业</td>\n",
       "    </tr>\n",
       "    <tr>\n",
       "      <th>199</th>\n",
       "      <td>000626</td>\n",
       "      <td>2.827251</td>\n",
       "      <td>4.110000</td>\n",
       "      <td>15.730000</td>\n",
       "      <td>2006-04-25</td>\n",
       "      <td>2007-05-29</td>\n",
       "      <td>263</td>\n",
       "      <td>远大控股</td>\n",
       "    </tr>\n",
       "    <tr>\n",
       "      <th>40</th>\n",
       "      <td>000049</td>\n",
       "      <td>2.818594</td>\n",
       "      <td>5.000000</td>\n",
       "      <td>19.092970</td>\n",
       "      <td>2005-02-01</td>\n",
       "      <td>2008-01-10</td>\n",
       "      <td>712</td>\n",
       "      <td>德赛电池</td>\n",
       "    </tr>\n",
       "    <tr>\n",
       "      <th>18</th>\n",
       "      <td>000022</td>\n",
       "      <td>2.817070</td>\n",
       "      <td>21.224406</td>\n",
       "      <td>81.015043</td>\n",
       "      <td>2005-12-06</td>\n",
       "      <td>2007-09-06</td>\n",
       "      <td>426</td>\n",
       "      <td>深赤湾A</td>\n",
       "    </tr>\n",
       "    <tr>\n",
       "      <th>2470</th>\n",
       "      <td>600422</td>\n",
       "      <td>2.802312</td>\n",
       "      <td>11.353045</td>\n",
       "      <td>43.167820</td>\n",
       "      <td>2005-07-12</td>\n",
       "      <td>2007-05-29</td>\n",
       "      <td>454</td>\n",
       "      <td>昆药集团</td>\n",
       "    </tr>\n",
       "    <tr>\n",
       "      <th>2417</th>\n",
       "      <td>600356</td>\n",
       "      <td>2.755732</td>\n",
       "      <td>5.822828</td>\n",
       "      <td>21.868983</td>\n",
       "      <td>2005-05-16</td>\n",
       "      <td>2007-10-08</td>\n",
       "      <td>584</td>\n",
       "      <td>恒丰纸业</td>\n",
       "    </tr>\n",
       "    <tr>\n",
       "      <th>502</th>\n",
       "      <td>002039</td>\n",
       "      <td>2.671470</td>\n",
       "      <td>5.620000</td>\n",
       "      <td>20.633663</td>\n",
       "      <td>2006-03-08</td>\n",
       "      <td>2007-09-03</td>\n",
       "      <td>366</td>\n",
       "      <td>黔源电力</td>\n",
       "    </tr>\n",
       "    <tr>\n",
       "      <th>2702</th>\n",
       "      <td>600705</td>\n",
       "      <td>2.522059</td>\n",
       "      <td>1.360000</td>\n",
       "      <td>4.790000</td>\n",
       "      <td>2006-05-09</td>\n",
       "      <td>2007-04-23</td>\n",
       "      <td>237</td>\n",
       "      <td>中航资本</td>\n",
       "    </tr>\n",
       "    <tr>\n",
       "      <th>397</th>\n",
       "      <td>000918</td>\n",
       "      <td>2.397436</td>\n",
       "      <td>1.560000</td>\n",
       "      <td>5.300000</td>\n",
       "      <td>2005-07-18</td>\n",
       "      <td>2008-05-19</td>\n",
       "      <td>689</td>\n",
       "      <td>嘉凯城</td>\n",
       "    </tr>\n",
       "    <tr>\n",
       "      <th>2435</th>\n",
       "      <td>600377</td>\n",
       "      <td>2.394467</td>\n",
       "      <td>5.192544</td>\n",
       "      <td>17.625920</td>\n",
       "      <td>2004-10-22</td>\n",
       "      <td>2007-09-07</td>\n",
       "      <td>701</td>\n",
       "      <td>宁沪高速</td>\n",
       "    </tr>\n",
       "    <tr>\n",
       "      <th>211</th>\n",
       "      <td>000639</td>\n",
       "      <td>2.381605</td>\n",
       "      <td>6.694657</td>\n",
       "      <td>22.638684</td>\n",
       "      <td>2006-11-21</td>\n",
       "      <td>2008-01-15</td>\n",
       "      <td>281</td>\n",
       "      <td>西王食品</td>\n",
       "    </tr>\n",
       "    <tr>\n",
       "      <th>2584</th>\n",
       "      <td>600573</td>\n",
       "      <td>2.331752</td>\n",
       "      <td>4.600000</td>\n",
       "      <td>15.326057</td>\n",
       "      <td>2005-12-06</td>\n",
       "      <td>2008-01-07</td>\n",
       "      <td>506</td>\n",
       "      <td>惠泉啤酒</td>\n",
       "    </tr>\n",
       "    <tr>\n",
       "      <th>2391</th>\n",
       "      <td>600323</td>\n",
       "      <td>2.316314</td>\n",
       "      <td>6.872864</td>\n",
       "      <td>22.792574</td>\n",
       "      <td>2004-09-13</td>\n",
       "      <td>2007-05-24</td>\n",
       "      <td>649</td>\n",
       "      <td>瀚蓝环境</td>\n",
       "    </tr>\n",
       "    <tr>\n",
       "      <th>2125</th>\n",
       "      <td>600012</td>\n",
       "      <td>2.299229</td>\n",
       "      <td>5.010000</td>\n",
       "      <td>16.529137</td>\n",
       "      <td>2004-06-10</td>\n",
       "      <td>2007-09-05</td>\n",
       "      <td>790</td>\n",
       "      <td>皖通高速</td>\n",
       "    </tr>\n",
       "  </tbody>\n",
       "</table>\n",
       "</div>"
      ],
      "text/plain": [
       "        code  max_net_value        low       high   low_date  high_date  \\\n",
       "2467  600419       3.214019   3.230763  13.614497 2005-07-21 2007-06-19   \n",
       "2326  600248       3.206757   2.220000   9.339000 2005-07-12 2008-12-26   \n",
       "37    000045       3.169412   6.269099  26.138460 2005-07-04 2008-01-17   \n",
       "2132  600021       3.056710   4.674882  18.964640 2005-06-03 2007-05-30   \n",
       "2540  600521       3.031387  13.050000  52.609600 2004-06-07 2008-01-03   \n",
       "42    000055       2.980703   3.900000  15.524740 2005-07-12 2008-03-06   \n",
       "2533  600513       2.935082   6.470978  25.463828 2005-07-18 2007-05-17   \n",
       "199   000626       2.827251   4.110000  15.730000 2006-04-25 2007-05-29   \n",
       "40    000049       2.818594   5.000000  19.092970 2005-02-01 2008-01-10   \n",
       "18    000022       2.817070  21.224406  81.015043 2005-12-06 2007-09-06   \n",
       "2470  600422       2.802312  11.353045  43.167820 2005-07-12 2007-05-29   \n",
       "2417  600356       2.755732   5.822828  21.868983 2005-05-16 2007-10-08   \n",
       "502   002039       2.671470   5.620000  20.633663 2006-03-08 2007-09-03   \n",
       "2702  600705       2.522059   1.360000   4.790000 2006-05-09 2007-04-23   \n",
       "397   000918       2.397436   1.560000   5.300000 2005-07-18 2008-05-19   \n",
       "2435  600377       2.394467   5.192544  17.625920 2004-10-22 2007-09-07   \n",
       "211   000639       2.381605   6.694657  22.638684 2006-11-21 2008-01-15   \n",
       "2584  600573       2.331752   4.600000  15.326057 2005-12-06 2008-01-07   \n",
       "2391  600323       2.316314   6.872864  22.792574 2004-09-13 2007-05-24   \n",
       "2125  600012       2.299229   5.010000  16.529137 2004-06-10 2007-09-05   \n",
       "\n",
       "      gap_days  name  \n",
       "2467       462  天润乳业  \n",
       "2326       845  延长化建  \n",
       "37         620  深纺织A  \n",
       "2132       482  上海电力  \n",
       "2540       872  华海药业  \n",
       "42         644  方大集团  \n",
       "2533       442  联环药业  \n",
       "199        263  远大控股  \n",
       "40         712  德赛电池  \n",
       "18         426  深赤湾A  \n",
       "2470       454  昆药集团  \n",
       "2417       584  恒丰纸业  \n",
       "502        366  黔源电力  \n",
       "2702       237  中航资本  \n",
       "397        689   嘉凯城  \n",
       "2435       701  宁沪高速  \n",
       "211        281  西王食品  \n",
       "2584       506  惠泉啤酒  \n",
       "2391       649  瀚蓝环境  \n",
       "2125       790  皖通高速  "
      ]
     },
     "execution_count": 197,
     "metadata": {},
     "output_type": "execute_result"
    }
   ],
   "source": [
    "df[df.gap_days>=60].tail(20)"
   ]
  },
  {
   "cell_type": "code",
   "execution_count": 203,
   "metadata": {},
   "outputs": [
    {
     "data": {
      "text/plain": [
       "['军民融合', '创业300', '冷链物流', '浙江', '通用设备', '制造业']"
      ]
     },
     "execution_count": 203,
     "metadata": {},
     "output_type": "execute_result"
    }
   ],
   "source": [
    "QA.QA_fetch_stock_block_adv(['300257']).block_name"
   ]
  },
  {
   "cell_type": "code",
   "execution_count": 207,
   "metadata": {},
   "outputs": [],
   "source": [
    "df = df.assign(block = df.code.apply(lambda x: QA.QA_fetch_stock_block_adv([x]).block_name))"
   ]
  },
  {
   "cell_type": "code",
   "execution_count": 206,
   "metadata": {
    "collapsed": true
   },
   "outputs": [
    {
     "data": {
      "text/plain": [
       "['000887',\n",
       " '600109',\n",
       " '000718',\n",
       " '600150',\n",
       " '600685',\n",
       " '000686',\n",
       " '600739',\n",
       " '600137',\n",
       " '000612',\n",
       " '600804',\n",
       " '000623',\n",
       " '600331',\n",
       " '600550',\n",
       " '000878',\n",
       " '600030',\n",
       " '600497',\n",
       " '600251',\n",
       " '600369',\n",
       " '000046',\n",
       " '600072',\n",
       " '000655',\n",
       " '000829',\n",
       " '000728',\n",
       " '000807',\n",
       " '000568',\n",
       " '600595',\n",
       " '000783',\n",
       " '600881',\n",
       " '600596',\n",
       " '600864',\n",
       " '000060',\n",
       " '000862',\n",
       " '000960',\n",
       " '000650',\n",
       " '000609',\n",
       " '600111',\n",
       " '000505',\n",
       " '600385',\n",
       " '600519',\n",
       " '600291',\n",
       " '600383',\n",
       " '000157',\n",
       " '600528',\n",
       " '600837',\n",
       " '600107',\n",
       " '600748',\n",
       " '000768',\n",
       " '600390',\n",
       " '600582',\n",
       " '000880',\n",
       " '000002',\n",
       " '600635',\n",
       " '000685',\n",
       " '000996',\n",
       " '001696',\n",
       " '000758',\n",
       " '000792',\n",
       " '600376',\n",
       " '000301',\n",
       " '600515',\n",
       " '600509',\n",
       " '000425',\n",
       " '600981',\n",
       " '000528',\n",
       " '600299',\n",
       " '000712',\n",
       " '600677',\n",
       " '002019',\n",
       " '002024',\n",
       " '600743',\n",
       " '600737',\n",
       " '000428',\n",
       " '000933',\n",
       " '000548',\n",
       " '600108',\n",
       " '600272',\n",
       " '600089',\n",
       " '000657',\n",
       " '600811',\n",
       " '600208',\n",
       " '000983',\n",
       " '600801',\n",
       " '000422',\n",
       " '600162',\n",
       " '000802',\n",
       " '600531',\n",
       " '600127',\n",
       " '600961',\n",
       " '600725',\n",
       " '600765',\n",
       " '000680',\n",
       " '000652',\n",
       " '000762',\n",
       " '000819',\n",
       " '600161',\n",
       " '600570',\n",
       " '000532',\n",
       " '600325',\n",
       " '600438',\n",
       " '000777']"
      ]
     },
     "execution_count": 206,
     "metadata": {},
     "output_type": "execute_result"
    }
   ],
   "source": [
    "df.head(100).code.tolist()"
   ]
  },
  {
   "cell_type": "code",
   "execution_count": 215,
   "metadata": {},
   "outputs": [],
   "source": [
    "import itertools"
   ]
  },
  {
   "cell_type": "code",
   "execution_count": 219,
   "metadata": {
    "scrolled": true
   },
   "outputs": [],
   "source": [
    "df_10bei = pd.value_counts(list(itertools.chain.from_iterable(df[df.max_net_value>=10].block.tolist())))"
   ]
  },
  {
   "cell_type": "code",
   "execution_count": 220,
   "metadata": {
    "scrolled": true
   },
   "outputs": [],
   "source": [
    "df_qian100 = pd.value_counts(list(itertools.chain.from_iterable(df.head(100).block.tolist())))"
   ]
  },
  {
   "cell_type": "code",
   "execution_count": 221,
   "metadata": {},
   "outputs": [],
   "source": [
    "writer = pd.ExcelWriter('data/07年牛市涨幅居前个股及其版块(剔除新股).xlsx')\n",
    "df.to_excel(writer, sheet_name='个股涨幅榜', index=False)\n",
    "df_10bei.to_excel(writer, sheet_name='涨幅超过10倍的个股版块分布')\n",
    "df_qian100.to_excel(writer, sheet_name='涨幅前100个股版块分布')\n",
    "writer.save()"
   ]
  },
  {
   "cell_type": "markdown",
   "metadata": {},
   "source": [
    "应该每一轮热点都会不一样，这次难道真的是人工智能，5G这种么，科创板"
   ]
  }
 ],
 "metadata": {
  "kernelspec": {
   "display_name": "Python 3",
   "language": "python",
   "name": "python3"
  },
  "language_info": {
   "codemirror_mode": {
    "name": "ipython",
    "version": 3
   },
   "file_extension": ".py",
   "mimetype": "text/x-python",
   "name": "python",
   "nbconvert_exporter": "python",
   "pygments_lexer": "ipython3",
   "version": "3.6.5"
  },
  "toc": {
   "base_numbering": 1,
   "nav_menu": {},
   "number_sections": true,
   "sideBar": true,
   "skip_h1_title": false,
   "title_cell": "Table of Contents",
   "title_sidebar": "Contents",
   "toc_cell": false,
   "toc_position": {},
   "toc_section_display": true,
   "toc_window_display": false
  },
  "varInspector": {
   "cols": {
    "lenName": 16,
    "lenType": 16,
    "lenVar": 40
   },
   "kernels_config": {
    "python": {
     "delete_cmd_postfix": "",
     "delete_cmd_prefix": "del ",
     "library": "var_list.py",
     "varRefreshCmd": "print(var_dic_list())"
    },
    "r": {
     "delete_cmd_postfix": ") ",
     "delete_cmd_prefix": "rm(",
     "library": "var_list.r",
     "varRefreshCmd": "cat(var_dic_list()) "
    }
   },
   "position": {
    "height": "357px",
    "left": "1507px",
    "right": "20px",
    "top": "124px",
    "width": "350px"
   },
   "types_to_exclude": [
    "module",
    "function",
    "builtin_function_or_method",
    "instance",
    "_Feature"
   ],
   "window_display": true
  }
 },
 "nbformat": 4,
 "nbformat_minor": 2
}
