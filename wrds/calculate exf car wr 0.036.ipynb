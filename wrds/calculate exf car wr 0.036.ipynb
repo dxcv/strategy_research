{
 "cells": [
  {
   "cell_type": "code",
   "execution_count": 1,
   "metadata": {},
   "outputs": [],
   "source": [
    "%load_ext autoreload\n",
    "%autoreload 2"
   ]
  },
  {
   "cell_type": "code",
   "execution_count": 2,
   "metadata": {},
   "outputs": [],
   "source": [
    "import numpy as np\n",
    "import pandas as pd\n",
    "import matplotlib.pyplot as plt\n",
    "import seaborn as sns\n",
    "import statsmodels.api as sm\n",
    "# import tushare as ts\n",
    "# import QUANTAXIS as QA\n",
    "import talib as ta\n",
    "import datetime, time\n",
    "from dateutil.relativedelta import *\n",
    "from pandas.tseries.offsets import *\n",
    "from tqdm import tqdm_notebook\n",
    "from scipy.stats import mstats"
   ]
  },
  {
   "cell_type": "code",
   "execution_count": 3,
   "metadata": {},
   "outputs": [],
   "source": [
    "plt.rcParams['figure.figsize'] = [12, 8]\n",
    "plt.rcParams['image.interpolation'] = 'nearest'\n",
    "plt.rcParams['image.cmap'] = 'gray'\n",
    "plt.style.use('ggplot')"
   ]
  },
  {
   "cell_type": "markdown",
   "metadata": {},
   "source": [
    "crsp fiscal resample"
   ]
  },
  {
   "cell_type": "code",
   "execution_count": 14,
   "metadata": {},
   "outputs": [],
   "source": [
    "def calc_exf(df):\n",
    "    ret = df.ret_p1\n",
    "    dret = df.dret_p1\n",
    "    exf = df.mv - df.mv.shift(1) * df.retx_p1\n",
    "    exf_to_mv = exf / df.mv.shift(1)\n",
    "    \n",
    "    car1 = ((ret[::-1]).rolling(1, min_periods=1).apply(np.prod, raw=True)[::-1]) - \\\n",
    "        ((dret[::-1]).rolling(1, min_periods=1).apply(np.prod, raw=True)[::-1])\n",
    "    car3 = ((ret[::-1]).rolling(3, min_periods=1).apply(np.prod, raw=True)[::-1]) - \\\n",
    "        ((dret[::-1]).rolling(3, min_periods=1).apply(np.prod, raw=True)[::-1])\n",
    "    car5 = ((ret[::-1]).rolling(5, min_periods=1).apply(np.prod, raw=True)[::-1]) - \\\n",
    "        ((dret[::-1]).rolling(5, min_periods=1).apply(np.prod, raw=True)[::-1])\n",
    "    \n",
    "    wr5 = ((ret[::-1]).rolling(5, min_periods=1).apply(np.prod, raw=True)[::-1]) / \\\n",
    "        ((dret[::-1]).rolling(5, min_periods=1).apply(np.prod, raw=True)[::-1])\n",
    "    \n",
    "#     ret_n1 = ((ret[::-1]).rolling(1, min_periods=1).apply(np.prod, raw=True)[::-1])\n",
    "#     ret_n2 = ((ret[::-1]).rolling(2, min_periods=1).apply(np.prod, raw=True)[::-1])\n",
    "#     ret_n3 = ((ret[::-1]).rolling(3, min_periods=1).apply(np.prod, raw=True)[::-1])\n",
    "#     ret_n4 = ((ret[::-1]).rolling(4, min_periods=1).apply(np.prod, raw=True)[::-1])\n",
    "#     ret_n5 = ((ret[::-1]).rolling(5, min_periods=1).apply(np.prod, raw=True)[::-1])\n",
    "#     ret_n6 = ((ret[::-1]).rolling(6, min_periods=1).apply(np.prod, raw=True)[::-1])\n",
    "#     ret_n7 = ((ret[::-1]).rolling(7, min_periods=1).apply(np.prod, raw=True)[::-1])\n",
    "#     ret_n8 = ((ret[::-1]).rolling(8, min_periods=1).apply(np.prod, raw=True)[::-1])\n",
    "    \n",
    "    res = pd.DataFrame({\n",
    "        'date':df.date,\n",
    "        'mv':df.mv,\n",
    "        'retx_p1':df.retx_p1,\n",
    "        'exf':exf,\n",
    "        'exf_to_mv':exf_to_mv,\n",
    "        'car1':car1.shift(-1),\n",
    "        'car3':car3.shift(-1),\n",
    "        'car5':car5.shift(-1),\n",
    "        'wr5':wr5.shift(-1),\n",
    "#         'ret_n1':ret_n1.shift(-1),\n",
    "#         'ret_n2':ret_n2.shift(-1),\n",
    "#         'ret_n3':ret_n3.shift(-1),\n",
    "#         'ret_n4':ret_n4.shift(-1),\n",
    "#         'ret_n5':ret_n5.shift(-1),\n",
    "#         'ret_n6':ret_n6.shift(-1),\n",
    "#         'ret_n7':ret_n7.shift(-1),\n",
    "#         'ret_n8':ret_n8.shift(-1)\n",
    "    })\n",
    "    return res"
   ]
  },
  {
   "cell_type": "code",
   "execution_count": 5,
   "metadata": {},
   "outputs": [],
   "source": [
    "crsp_fa = pd.read_csv('data/crsp_fa_filtered.zip',\n",
    "                     parse_dates=['date'], infer_datetime_format=True)"
   ]
  },
  {
   "cell_type": "code",
   "execution_count": 6,
   "metadata": {
    "scrolled": true
   },
   "outputs": [
    {
     "data": {
      "text/html": [
       "<div>\n",
       "<style scoped>\n",
       "    .dataframe tbody tr th:only-of-type {\n",
       "        vertical-align: middle;\n",
       "    }\n",
       "\n",
       "    .dataframe tbody tr th {\n",
       "        vertical-align: top;\n",
       "    }\n",
       "\n",
       "    .dataframe thead th {\n",
       "        text-align: right;\n",
       "    }\n",
       "</style>\n",
       "<table border=\"1\" class=\"dataframe\">\n",
       "  <thead>\n",
       "    <tr style=\"text-align: right;\">\n",
       "      <th></th>\n",
       "      <th>date</th>\n",
       "      <th>permno</th>\n",
       "      <th>ret_p1</th>\n",
       "      <th>retx_p1</th>\n",
       "      <th>dret_p1</th>\n",
       "      <th>mv</th>\n",
       "      <th>mv_adj</th>\n",
       "    </tr>\n",
       "  </thead>\n",
       "  <tbody>\n",
       "    <tr>\n",
       "      <th>0</th>\n",
       "      <td>1986-10-31</td>\n",
       "      <td>10000</td>\n",
       "      <td>0.178571</td>\n",
       "      <td>0.178571</td>\n",
       "      <td>1.059979</td>\n",
       "      <td>3002.34375</td>\n",
       "      <td>5796.726244</td>\n",
       "    </tr>\n",
       "    <tr>\n",
       "      <th>1</th>\n",
       "      <td>1986-06-30</td>\n",
       "      <td>10001</td>\n",
       "      <td>1.032450</td>\n",
       "      <td>1.000000</td>\n",
       "      <td>1.252963</td>\n",
       "      <td>6033.12500</td>\n",
       "      <td>12067.131553</td>\n",
       "    </tr>\n",
       "    <tr>\n",
       "      <th>2</th>\n",
       "      <td>1987-06-30</td>\n",
       "      <td>10001</td>\n",
       "      <td>1.023885</td>\n",
       "      <td>0.959184</td>\n",
       "      <td>1.018842</td>\n",
       "      <td>5822.12500</td>\n",
       "      <td>11205.083735</td>\n",
       "    </tr>\n",
       "    <tr>\n",
       "      <th>3</th>\n",
       "      <td>1988-06-30</td>\n",
       "      <td>10001</td>\n",
       "      <td>1.140535</td>\n",
       "      <td>1.063829</td>\n",
       "      <td>0.827947</td>\n",
       "      <td>6200.00000</td>\n",
       "      <td>11459.064979</td>\n",
       "    </tr>\n",
       "    <tr>\n",
       "      <th>4</th>\n",
       "      <td>1989-06-30</td>\n",
       "      <td>10001</td>\n",
       "      <td>1.199811</td>\n",
       "      <td>1.120000</td>\n",
       "      <td>1.005611</td>\n",
       "      <td>7007.00000</td>\n",
       "      <td>12326.466763</td>\n",
       "    </tr>\n",
       "  </tbody>\n",
       "</table>\n",
       "</div>"
      ],
      "text/plain": [
       "        date  permno    ret_p1   retx_p1   dret_p1          mv        mv_adj\n",
       "0 1986-10-31   10000  0.178571  0.178571  1.059979  3002.34375   5796.726244\n",
       "1 1986-06-30   10001  1.032450  1.000000  1.252963  6033.12500  12067.131553\n",
       "2 1987-06-30   10001  1.023885  0.959184  1.018842  5822.12500  11205.083735\n",
       "3 1988-06-30   10001  1.140535  1.063829  0.827947  6200.00000  11459.064979\n",
       "4 1989-06-30   10001  1.199811  1.120000  1.005611  7007.00000  12326.466763"
      ]
     },
     "execution_count": 6,
     "metadata": {},
     "output_type": "execute_result"
    }
   ],
   "source": [
    "crsp_fa.head()"
   ]
  },
  {
   "cell_type": "markdown",
   "metadata": {},
   "source": [
    "some explain"
   ]
  },
  {
   "cell_type": "code",
   "execution_count": 7,
   "metadata": {},
   "outputs": [],
   "source": [
    "# crsp_fa.query('permno == 77418')\n",
    "# test = crsp_fa.query('permno == 77418').set_index('date')\n",
    "# test['2002':'2006']\n",
    "# test['2002':'2006'].ret_p1\n",
    "\n",
    "# p = 1\n",
    "# for i in test['2002':'2006'].ret_p1:\n",
    "#     p = i * p\n",
    "# print(p)\n",
    "\n",
    "# test['2002':'2006'].ret_p1.prod()\n",
    "# test['2002':'2006'].dret_p1.prod()\n",
    "# wr5_test = test['2002':'2006'].ret_p1.prod() / test['2002':'2006'].dret_p1.prod()\n",
    "# wr5 = ((ret[::-1]).rolling(5, min_periods=1).apply(np.prod, raw=True)[::-1]) / \\\n",
    "#         ((dret[::-1]).rolling(5, min_periods=1).apply(np.prod, raw=True)[::-1])"
   ]
  },
  {
   "cell_type": "code",
   "execution_count": 8,
   "metadata": {},
   "outputs": [],
   "source": [
    "# s = pd.Series(range(1,11))\n",
    "# s\n",
    "# s[::-1]\n",
    "# s.rolling(5).sum()\n",
    "# s[::-1].rolling(5).sum()\n",
    "# s[::-1].rolling(5).sum()[::-1]\n",
    "# s[::-1].rolling(5).sum()[::-1].shift(-1)\n",
    "# s[::-1].rolling(5, min_periods=1).sum()[::-1].shift(-1)\n",
    "# s.rolling(5, min_periods=1).sum()\n",
    "# s.rolling(5, min_periods=1).apply(np.prod, raw=True)"
   ]
  },
  {
   "cell_type": "code",
   "execution_count": 9,
   "metadata": {},
   "outputs": [],
   "source": [
    "# test.ret_p1\n",
    "# test.ret_p1[::-1].rolling(5, min_periods=1).apply(np.prod, raw=True)[::-1].shift(-1)\n",
    "# # test.ret_p1.rolling(5, min_periods=1).apply(np.prod, raw=True)\n",
    "# test.ret_p1[::-1].rolling(5, min_periods=1).apply(np.prod, raw=True)[::-1].shift(-1)\n",
    "# # test.ret_p1.rolling(5, min_periods=1).apply(np.prod, raw=True)\n",
    "# test.dret_p1[::-1].rolling(5, min_periods=1).apply(np.prod, raw=True)[::-1].shift(-1)\n",
    "# (test.ret_p1[::-1].rolling(5, min_periods=1).apply(np.prod, raw=True)[::-1].shift(-1)) / \\\n",
    "# (test.dret_p1[::-1].rolling(5, min_periods=1).apply(np.prod, raw=True)[::-1].shift(-1))\n",
    "# (test.ret_p1[::-1].rolling(5, min_periods=1).apply(np.prod, raw=True)[::-1].shift(-1)) / \\\n",
    "# (test.dret_p1[::-1].rolling(5, min_periods=1).apply(np.prod, raw=True)[::-1].shift(-1))\n",
    "# (test.ret_p1[::-1].rolling(5, min_periods=1).apply(np.prod, raw=True)[::-1].shift(-1)) - \\\n",
    "# (test.dret_p1[::-1].rolling(5, min_periods=1).apply(np.prod, raw=True)[::-1].shift(-1))"
   ]
  },
  {
   "cell_type": "markdown",
   "metadata": {},
   "source": [
    "验证mv adjust是否正确"
   ]
  },
  {
   "cell_type": "code",
   "execution_count": 7,
   "metadata": {},
   "outputs": [],
   "source": [
    "# cpi = pd.read_excel('data/CPIAUCSL.xlsx', index_col=0)\n",
    "# crsp_fa = crsp_fa.set_index('date')\n",
    "# (crsp_fa['1986-10-31'].query('permno == 10000').mv.iloc[0] / \\\n",
    "# cpi['1986-11'].cpi_adjust.iloc[0]) - \\\n",
    "# (crsp_fa['1986-10-31'].query('permno == 10000').mv_adj.iloc[0])"
   ]
  },
  {
   "cell_type": "markdown",
   "metadata": {},
   "source": [
    "查看firm-years数量\n",
    "\n",
    "ps:因为流通股数的单位默认是1000, 故mv_adj只需要大于50000即可"
   ]
  },
  {
   "cell_type": "code",
   "execution_count": 24,
   "metadata": {},
   "outputs": [],
   "source": [
    "# crsp_fa[crsp_fa.mv_adj >= 5e+4].shape[0]\n",
    "# crsp_fa = crsp_fa.reset_index().set_index('date')[:'2008']\n",
    "# crsp_fa[(crsp_fa.mv_adj.shift(1) * crsp_fa.retx_p1) >= 5e+4].shape[0]"
   ]
  },
  {
   "cell_type": "markdown",
   "metadata": {},
   "source": [
    "假设之一:直接把交易前小市值筛掉的做法是错误的"
   ]
  },
  {
   "cell_type": "code",
   "execution_count": 8,
   "metadata": {},
   "outputs": [],
   "source": [
    "# 这里应该是用到08年的值去筛选出permno,即筛选出在08年pre transaction market capitalization大于50million的公司\n",
    "# crsp_filter = crsp_fa.reset_index().set_index('date')[:'2008']\n",
    "crsp_filter = crsp_fa.set_index('date')[:'2008']\n",
    "\n",
    "filter_permno = crsp_filter[(crsp_filter.mv_adj.shift(1) * crsp_filter.retx_p1) >= 5e+4].\\\n",
    "permno.unique().tolist()\n",
    "\n",
    "crsp_fa_filtered = crsp_fa.set_index('permno').loc[filter_permno].reset_index()\n",
    "\n",
    "# 筛选完公司在筛选一遍市值\n",
    "crsp_fa_filtered = crsp_fa_filtered[(crsp_fa_filtered.mv_adj.shift(1) * crsp_fa_filtered.retx_p1) >= 5e+4]\n",
    "\n",
    "tic = time.perf_counter()\n",
    "crsp_fa_filtered = crsp_fa_filtered.set_index('permno').groupby('permno').apply(calc_exf)\n",
    "toc = time.perf_counter()\n",
    "print(toc-tic)\n",
    "\n",
    "crsp_fa1 = crsp_fa_filtered.copy()\n",
    "crsp_fa1 = crsp_fa1.dropna(subset=['exf_to_mv']) # 只是剔除exf_to_mv中的异常值\n",
    "# crsp_fa1 = crsp_fa1.dropna() # 只要有异常值，就全部剔除，两者差距不是很大\n",
    "crsp_fa1 = crsp_fa1.reset_index().set_index('date')[:'2008'] # 筛选出到08年的数据\n",
    "# crsp_fa1 = crsp_fa1.loc['1973':'2001']\n",
    "# 可以自行调整limits大小\n",
    "crsp_fa1.exf_to_mv = mstats.winsorize(crsp_fa1.exf_to_mv, limits=[0.05, 0.05]) # 这里也可以调整\n",
    "\n",
    "per1 = np.linspace(0,1,11).tolist()\n",
    "bins = crsp_fa1.describe(percentiles=per1).exf_to_mv.iloc[4:-1].tolist()\n",
    "bins = [bins[0]-1] + bins[1:]\n",
    "# bins = bins[:-1] + [bins[-1]-1]\n",
    "crsp_fa1.groupby(pd.cut(crsp_fa1.exf_to_mv,bins, right=True)).mean().drop(['mv', 'retx_p1', 'exf'], axis=1)"
   ]
  },
  {
   "cell_type": "markdown",
   "metadata": {},
   "source": [
    "假设之二，即我不做任何市值筛选，还是会得到和paper中一样的结论"
   ]
  },
  {
   "cell_type": "code",
   "execution_count": null,
   "metadata": {},
   "outputs": [],
   "source": [
    "crsp_fa_filtered = crsp_fa.copy()\n",
    "\n",
    "tic = time.perf_counter()\n",
    "crsp_fa_filtered = crsp_fa_filtered.set_index('permno').groupby('permno').apply(calc_exf)\n",
    "toc = time.perf_counter()\n",
    "print(toc-tic)\n",
    "\n",
    "crsp_fa1 = crsp_fa_filtered.copy()\n",
    "crsp_fa1 = crsp_fa1.dropna(subset=['exf_to_mv']) # 只是剔除exf_to_mv中的异常值\n",
    "# crsp_fa1 = crsp_fa1.dropna() # 只要有异常值，就全部剔除，两者差距不是很大\n",
    "crsp_fa1 = crsp_fa1.reset_index().set_index('date')[:'2008'] # 筛选出到08年的数据\n",
    "# crsp_fa1 = crsp_fa1.loc['1973':'2001']\n",
    "# 可以自行调整limits大小\n",
    "crsp_fa1.exf_to_mv = mstats.winsorize(crsp_fa1.exf_to_mv, limits=[0.05, 0.05]) # 这里也可以调整\n",
    "\n",
    "per1 = np.linspace(0,1,11).tolist()\n",
    "bins = crsp_fa1.describe(percentiles=per1).exf_to_mv.iloc[4:-1].tolist()\n",
    "bins = [bins[0]-1] + bins[1:]\n",
    "# bins = bins[:-1] + [bins[-1]-1]\n",
    "crsp_fa1.groupby(pd.cut(crsp_fa1.exf_to_mv,bins, right=True)).mean().drop(['mv', 'retx_p1', 'exf'], axis=1)\n",
    "\n",
    "\n"
   ]
  },
  {
   "cell_type": "markdown",
   "metadata": {},
   "source": [
    "筛选公司不会改变sample的分布，但是筛选市值会改变其分布\n",
    "\n",
    "筛选市值大于50million和剔除小于50million的公司是两种不同的处理方式"
   ]
  },
  {
   "cell_type": "code",
   "execution_count": null,
   "metadata": {},
   "outputs": [],
   "source": [
    "crsp_filter = crsp_fa.set_index('date')[:'2008']\n",
    "filter_permno = crsp_filter[(crsp_filter.mv_adj.shift(1) * crsp_filter.retx_p1) >= 5e+4].\\\n",
    "permno.unique().tolist()\n",
    "\n",
    "crsp_fa_filtered = crsp_fa.set_index('permno').loc[filter_permno].reset_index()\n",
    "\n",
    "tic = time.perf_counter()\n",
    "crsp_fa_filtered = crsp_fa_filtered.set_index('permno').groupby('permno').apply(calc_exf)\n",
    "toc = time.perf_counter()\n",
    "print(toc-tic)\n",
    "\n",
    "crsp_fa1 = crsp_fa_filtered.copy()\n",
    "crsp_fa1 = crsp_fa1.dropna(subset=['exf_to_mv']) # 只是剔除exf_to_mv中的异常值\n",
    "# crsp_fa1 = crsp_fa1.dropna() # 只要有异常值，就全部剔除，两者差距不是很大\n",
    "crsp_fa1 = crsp_fa1.reset_index().set_index('date')[:'2008'] # 筛选出到08年的数据\n",
    "# crsp_fa1 = crsp_fa1.loc['1973':'2001']\n",
    "# 可以自行调整limits大小\n",
    "crsp_fa1.exf_to_mv = mstats.winsorize(crsp_fa1.exf_to_mv, limits=[0.05, 0.05]) # 这里也可以调整\n",
    "\n",
    "per1 = np.linspace(0,1,11).tolist()\n",
    "bins = crsp_fa1.describe(percentiles=per1).exf_to_mv.iloc[4:-1].tolist()\n",
    "bins = [bins[0]-1] + bins[1:]\n",
    "# bins = bins[:-1] + [bins[-1]-1]\n",
    "crsp_fa1.groupby(pd.cut(crsp_fa1.exf_to_mv,bins, right=True)).mean().drop(['mv', 'retx_p1', 'exf'], axis=1)"
   ]
  },
  {
   "cell_type": "code",
   "execution_count": 20,
   "metadata": {},
   "outputs": [
    {
     "data": {
      "text/plain": [
       "exf_to_mv\n",
       "(-1.066, -0.0261]      17645\n",
       "(-0.0261, -0.00114]    17644\n",
       "(-0.00114, 5.6e-08]    17644\n",
       "(5.6e-08, 0.000466]    17644\n",
       "(0.000466, 0.00379]    17644\n",
       "(0.00379, 0.0102]      17644\n",
       "(0.0102, 0.0236]       17644\n",
       "(0.0236, 0.0625]       17644\n",
       "(0.0625, 0.205]        17644\n",
       "(0.205, 0.453]         17644\n",
       "Name: exf_to_mv, dtype: int64"
      ]
     },
     "execution_count": 20,
     "metadata": {},
     "output_type": "execute_result"
    }
   ],
   "source": [
    "crsp_fa1.groupby(pd.cut(crsp_fa1.exf_to_mv,bins, right=True)).count().exf_to_mv"
   ]
  },
  {
   "cell_type": "code",
   "execution_count": 36,
   "metadata": {},
   "outputs": [],
   "source": [
    "crsp_filter = crsp_fa.set_index('date')[:'2008']\n",
    "filter_permno_reverse = crsp_filter[(crsp_filter.mv_adj.shift(1) * crsp_filter.retx_p1) < 5e+4].\\\n",
    "permno.unique().tolist()\n",
    "\n",
    "filter_permno = list(set(crsp_fa.permno.unique().tolist()) - set(filter_permno_reverse))\n",
    "\n",
    "crsp_fa_filtered = crsp_fa.set_index('permno').loc[filter_permno]#.reset_index()"
   ]
  },
  {
   "cell_type": "markdown",
   "metadata": {},
   "source": [
    "这一段筛选出的小市值会报错，还不知道是什么原因"
   ]
  },
  {
   "cell_type": "code",
   "execution_count": null,
   "metadata": {},
   "outputs": [],
   "source": [
    "tic = time.perf_counter()\n",
    "# crsp_fa_filtered = crsp_fa_filtered.set_index('permno').groupby('permno').apply(calc_exf)\n",
    "crsp_fa_filtered = crsp_fa_filtered.groupby('permno').apply(calc_exf)\n",
    "toc = time.perf_counter()\n",
    "print(toc-tic)\n",
    "\n",
    "crsp_fa1 = crsp_fa_filtered.copy()\n",
    "crsp_fa1 = crsp_fa1.dropna(subset=['exf_to_mv']) # 只是剔除exf_to_mv中的异常值\n",
    "# crsp_fa1 = crsp_fa1.dropna() # 只要有异常值，就全部剔除，两者差距不是很大\n",
    "crsp_fa1 = crsp_fa1.reset_index().set_index('date')[:'2008'] # 筛选出到08年的数据\n",
    "# crsp_fa1 = crsp_fa1.loc['1973':'2001']\n",
    "# 可以自行调整limits大小\n",
    "crsp_fa1.exf_to_mv = mstats.winsorize(crsp_fa1.exf_to_mv, limits=[0.05, 0.05]) # 这里也可以调整\n",
    "\n",
    "per1 = np.linspace(0,1,11).tolist()\n",
    "bins = crsp_fa1.describe(percentiles=per1).exf_to_mv.iloc[4:-1].tolist()\n",
    "bins = [bins[0]-1] + bins[1:]\n",
    "# bins = bins[:-1] + [bins[-1]-1]\n",
    "crsp_fa1.groupby(pd.cut(crsp_fa1.exf_to_mv,bins, right=True)).mean().drop(['mv', 'retx_p1', 'exf'], axis=1)"
   ]
  },
  {
   "cell_type": "markdown",
   "metadata": {},
   "source": [
    "exf_to_mv : $EXF_{t}/MV_{t-1}$"
   ]
  },
  {
   "cell_type": "code",
   "execution_count": 14,
   "metadata": {},
   "outputs": [
    {
     "data": {
      "text/html": [
       "<div>\n",
       "<style scoped>\n",
       "    .dataframe tbody tr th:only-of-type {\n",
       "        vertical-align: middle;\n",
       "    }\n",
       "\n",
       "    .dataframe tbody tr th {\n",
       "        vertical-align: top;\n",
       "    }\n",
       "\n",
       "    .dataframe thead th {\n",
       "        text-align: right;\n",
       "    }\n",
       "</style>\n",
       "<table border=\"1\" class=\"dataframe\">\n",
       "  <thead>\n",
       "    <tr style=\"text-align: right;\">\n",
       "      <th></th>\n",
       "      <th>permno</th>\n",
       "      <th>exf_to_mv</th>\n",
       "      <th>car1</th>\n",
       "      <th>car3</th>\n",
       "      <th>car5</th>\n",
       "      <th>wr5</th>\n",
       "    </tr>\n",
       "    <tr>\n",
       "      <th>exf_to_mv</th>\n",
       "      <th></th>\n",
       "      <th></th>\n",
       "      <th></th>\n",
       "      <th></th>\n",
       "      <th></th>\n",
       "      <th></th>\n",
       "    </tr>\n",
       "  </thead>\n",
       "  <tbody>\n",
       "    <tr>\n",
       "      <th>(-1.066, -0.0261]</th>\n",
       "      <td>56231.114253</td>\n",
       "      <td>-0.054192</td>\n",
       "      <td>0.053575</td>\n",
       "      <td>0.174042</td>\n",
       "      <td>0.261691</td>\n",
       "      <td>1.163329</td>\n",
       "    </tr>\n",
       "    <tr>\n",
       "      <th>(-0.0261, -0.00114]</th>\n",
       "      <td>56067.244276</td>\n",
       "      <td>-0.010753</td>\n",
       "      <td>0.043743</td>\n",
       "      <td>0.125188</td>\n",
       "      <td>0.237322</td>\n",
       "      <td>1.134676</td>\n",
       "    </tr>\n",
       "    <tr>\n",
       "      <th>(-0.00114, 5.6e-08]</th>\n",
       "      <td>53933.997280</td>\n",
       "      <td>-0.000092</td>\n",
       "      <td>0.046179</td>\n",
       "      <td>0.116728</td>\n",
       "      <td>0.191206</td>\n",
       "      <td>1.128983</td>\n",
       "    </tr>\n",
       "    <tr>\n",
       "      <th>(5.6e-08, 0.000466]</th>\n",
       "      <td>54328.340399</td>\n",
       "      <td>0.000060</td>\n",
       "      <td>0.046644</td>\n",
       "      <td>0.099444</td>\n",
       "      <td>0.137528</td>\n",
       "      <td>1.100556</td>\n",
       "    </tr>\n",
       "    <tr>\n",
       "      <th>(0.000466, 0.00379]</th>\n",
       "      <td>55713.870438</td>\n",
       "      <td>0.001938</td>\n",
       "      <td>0.038457</td>\n",
       "      <td>0.072648</td>\n",
       "      <td>0.101784</td>\n",
       "      <td>1.056119</td>\n",
       "    </tr>\n",
       "    <tr>\n",
       "      <th>(0.00379, 0.0102]</th>\n",
       "      <td>56242.428814</td>\n",
       "      <td>0.006644</td>\n",
       "      <td>0.036466</td>\n",
       "      <td>0.069184</td>\n",
       "      <td>0.087717</td>\n",
       "      <td>1.054752</td>\n",
       "    </tr>\n",
       "    <tr>\n",
       "      <th>(0.0102, 0.0236]</th>\n",
       "      <td>57251.515529</td>\n",
       "      <td>0.015937</td>\n",
       "      <td>0.023408</td>\n",
       "      <td>0.045566</td>\n",
       "      <td>0.079703</td>\n",
       "      <td>1.048517</td>\n",
       "    </tr>\n",
       "    <tr>\n",
       "      <th>(0.0236, 0.0625]</th>\n",
       "      <td>58577.015189</td>\n",
       "      <td>0.039091</td>\n",
       "      <td>0.021788</td>\n",
       "      <td>0.043701</td>\n",
       "      <td>0.004793</td>\n",
       "      <td>1.008651</td>\n",
       "    </tr>\n",
       "    <tr>\n",
       "      <th>(0.0625, 0.205]</th>\n",
       "      <td>59350.633530</td>\n",
       "      <td>0.117770</td>\n",
       "      <td>-0.007937</td>\n",
       "      <td>-0.048625</td>\n",
       "      <td>-0.113072</td>\n",
       "      <td>0.945136</td>\n",
       "    </tr>\n",
       "    <tr>\n",
       "      <th>(0.205, 0.453]</th>\n",
       "      <td>61933.978520</td>\n",
       "      <td>0.379414</td>\n",
       "      <td>-0.030501</td>\n",
       "      <td>-0.168517</td>\n",
       "      <td>-0.266185</td>\n",
       "      <td>0.838642</td>\n",
       "    </tr>\n",
       "  </tbody>\n",
       "</table>\n",
       "</div>"
      ],
      "text/plain": [
       "                           permno  exf_to_mv      car1      car3      car5  \\\n",
       "exf_to_mv                                                                    \n",
       "(-1.066, -0.0261]    56231.114253  -0.054192  0.053575  0.174042  0.261691   \n",
       "(-0.0261, -0.00114]  56067.244276  -0.010753  0.043743  0.125188  0.237322   \n",
       "(-0.00114, 5.6e-08]  53933.997280  -0.000092  0.046179  0.116728  0.191206   \n",
       "(5.6e-08, 0.000466]  54328.340399   0.000060  0.046644  0.099444  0.137528   \n",
       "(0.000466, 0.00379]  55713.870438   0.001938  0.038457  0.072648  0.101784   \n",
       "(0.00379, 0.0102]    56242.428814   0.006644  0.036466  0.069184  0.087717   \n",
       "(0.0102, 0.0236]     57251.515529   0.015937  0.023408  0.045566  0.079703   \n",
       "(0.0236, 0.0625]     58577.015189   0.039091  0.021788  0.043701  0.004793   \n",
       "(0.0625, 0.205]      59350.633530   0.117770 -0.007937 -0.048625 -0.113072   \n",
       "(0.205, 0.453]       61933.978520   0.379414 -0.030501 -0.168517 -0.266185   \n",
       "\n",
       "                          wr5  \n",
       "exf_to_mv                      \n",
       "(-1.066, -0.0261]    1.163329  \n",
       "(-0.0261, -0.00114]  1.134676  \n",
       "(-0.00114, 5.6e-08]  1.128983  \n",
       "(5.6e-08, 0.000466]  1.100556  \n",
       "(0.000466, 0.00379]  1.056119  \n",
       "(0.00379, 0.0102]    1.054752  \n",
       "(0.0102, 0.0236]     1.048517  \n",
       "(0.0236, 0.0625]     1.008651  \n",
       "(0.0625, 0.205]      0.945136  \n",
       "(0.205, 0.453]       0.838642  "
      ]
     },
     "execution_count": 14,
     "metadata": {},
     "output_type": "execute_result"
    }
   ],
   "source": [
    "crsp_fa1 = crsp_fa_filtered.copy()\n",
    "crsp_fa1 = crsp_fa1.dropna(subset=['exf_to_mv']) # 只是剔除exf_to_mv中的异常值\n",
    "# crsp_fa1 = crsp_fa1.dropna() # 只要有异常值，就全部剔除，两者差距不是很大\n",
    "crsp_fa1 = crsp_fa1.reset_index().set_index('date')[:'2008'] # 筛选出到08年的数据\n",
    "# crsp_fa1 = crsp_fa1.loc['1973':'2001']\n",
    "# 可以自行调整limits大小\n",
    "crsp_fa1.exf_to_mv = mstats.winsorize(crsp_fa1.exf_to_mv, limits=[0.05, 0.05]) # 这里也可以调整\n",
    "\n",
    "per1 = np.linspace(0,1,11).tolist()\n",
    "bins = crsp_fa1.describe(percentiles=per1).exf_to_mv.iloc[4:-1].tolist()\n",
    "bins = [bins[0]-1] + bins[1:]\n",
    "# bins = bins[:-1] + [bins[-1]-1]\n",
    "crsp_fa1.groupby(pd.cut(crsp_fa1.exf_to_mv,bins, right=True)).mean().drop(['mv', 'retx_p1', 'exf'], axis=1)"
   ]
  },
  {
   "cell_type": "code",
   "execution_count": 35,
   "metadata": {},
   "outputs": [
    {
     "data": {
      "text/plain": [
       "163602"
      ]
     },
     "execution_count": 35,
     "metadata": {},
     "output_type": "execute_result"
    }
   ],
   "source": [
    "crsp_fa1.shape[0]"
   ]
  },
  {
   "cell_type": "markdown",
   "metadata": {},
   "source": [
    "Significant issuance & Significant repurchase\n",
    "\n",
    "EXF is greater than 5% of pre-issuance market capitalization\n",
    "\n",
    "$EXF_t >= 0.05 * (1+rx_t) *MV_{t-1}$\n",
    "\n",
    "equals\n",
    "\n",
    "$EXF_t / MV_{t-1} >= 0.05 * (1+rx_t)$"
   ]
  },
  {
   "cell_type": "code",
   "execution_count": 26,
   "metadata": {},
   "outputs": [
    {
     "data": {
      "text/html": [
       "<div>\n",
       "<style scoped>\n",
       "    .dataframe tbody tr th:only-of-type {\n",
       "        vertical-align: middle;\n",
       "    }\n",
       "\n",
       "    .dataframe tbody tr th {\n",
       "        vertical-align: top;\n",
       "    }\n",
       "\n",
       "    .dataframe thead th {\n",
       "        text-align: right;\n",
       "    }\n",
       "</style>\n",
       "<table border=\"1\" class=\"dataframe\">\n",
       "  <thead>\n",
       "    <tr style=\"text-align: right;\">\n",
       "      <th></th>\n",
       "      <th>permno</th>\n",
       "      <th>mv</th>\n",
       "      <th>retx_p1</th>\n",
       "      <th>exf</th>\n",
       "      <th>exf_to_mv</th>\n",
       "      <th>car1</th>\n",
       "      <th>car3</th>\n",
       "      <th>car5</th>\n",
       "      <th>wr5</th>\n",
       "    </tr>\n",
       "  </thead>\n",
       "  <tbody>\n",
       "    <tr>\n",
       "      <th>count</th>\n",
       "      <td>38481.000000</td>\n",
       "      <td>3.848100e+04</td>\n",
       "      <td>38481.000000</td>\n",
       "      <td>38481.000000</td>\n",
       "      <td>38481.000000</td>\n",
       "      <td>35540.000000</td>\n",
       "      <td>35540.00000</td>\n",
       "      <td>35540.000000</td>\n",
       "      <td>35540.000000</td>\n",
       "    </tr>\n",
       "    <tr>\n",
       "      <th>mean</th>\n",
       "      <td>61160.977469</td>\n",
       "      <td>1.014590e+06</td>\n",
       "      <td>1.266222</td>\n",
       "      <td>196256.077069</td>\n",
       "      <td>0.366409</td>\n",
       "      <td>-0.011391</td>\n",
       "      <td>-0.09871</td>\n",
       "      <td>-0.181667</td>\n",
       "      <td>0.892571</td>\n",
       "    </tr>\n",
       "  </tbody>\n",
       "</table>\n",
       "</div>"
      ],
      "text/plain": [
       "             permno            mv       retx_p1            exf     exf_to_mv  \\\n",
       "count  38481.000000  3.848100e+04  38481.000000   38481.000000  38481.000000   \n",
       "mean   61160.977469  1.014590e+06      1.266222  196256.077069      0.366409   \n",
       "\n",
       "               car1         car3          car5           wr5  \n",
       "count  35540.000000  35540.00000  35540.000000  35540.000000  \n",
       "mean      -0.011391     -0.09871     -0.181667      0.892571  "
      ]
     },
     "execution_count": 26,
     "metadata": {},
     "output_type": "execute_result"
    }
   ],
   "source": [
    "crsp_fa1[crsp_fa1.exf_to_mv > (0.05 * crsp_fa1.retx_p1)].describe().loc[['count', 'mean']]"
   ]
  },
  {
   "cell_type": "code",
   "execution_count": 27,
   "metadata": {},
   "outputs": [
    {
     "data": {
      "text/html": [
       "<div>\n",
       "<style scoped>\n",
       "    .dataframe tbody tr th:only-of-type {\n",
       "        vertical-align: middle;\n",
       "    }\n",
       "\n",
       "    .dataframe tbody tr th {\n",
       "        vertical-align: top;\n",
       "    }\n",
       "\n",
       "    .dataframe thead th {\n",
       "        text-align: right;\n",
       "    }\n",
       "</style>\n",
       "<table border=\"1\" class=\"dataframe\">\n",
       "  <thead>\n",
       "    <tr style=\"text-align: right;\">\n",
       "      <th></th>\n",
       "      <th>permno</th>\n",
       "      <th>mv</th>\n",
       "      <th>retx_p1</th>\n",
       "      <th>exf</th>\n",
       "      <th>exf_to_mv</th>\n",
       "      <th>car1</th>\n",
       "      <th>car3</th>\n",
       "      <th>car5</th>\n",
       "      <th>wr5</th>\n",
       "    </tr>\n",
       "  </thead>\n",
       "  <tbody>\n",
       "    <tr>\n",
       "      <th>count</th>\n",
       "      <td>11216.000000</td>\n",
       "      <td>1.121600e+04</td>\n",
       "      <td>11216.000000</td>\n",
       "      <td>11216.000000</td>\n",
       "      <td>11216.000000</td>\n",
       "      <td>10374.000000</td>\n",
       "      <td>10374.000000</td>\n",
       "      <td>10374.000000</td>\n",
       "      <td>10374.000000</td>\n",
       "    </tr>\n",
       "    <tr>\n",
       "      <th>mean</th>\n",
       "      <td>57225.569633</td>\n",
       "      <td>1.619939e+06</td>\n",
       "      <td>1.107248</td>\n",
       "      <td>-231351.158139</td>\n",
       "      <td>-0.129547</td>\n",
       "      <td>0.063426</td>\n",
       "      <td>0.210477</td>\n",
       "      <td>0.311944</td>\n",
       "      <td>1.184296</td>\n",
       "    </tr>\n",
       "  </tbody>\n",
       "</table>\n",
       "</div>"
      ],
      "text/plain": [
       "             permno            mv       retx_p1            exf     exf_to_mv  \\\n",
       "count  11216.000000  1.121600e+04  11216.000000   11216.000000  11216.000000   \n",
       "mean   57225.569633  1.619939e+06      1.107248 -231351.158139     -0.129547   \n",
       "\n",
       "               car1          car3          car5           wr5  \n",
       "count  10374.000000  10374.000000  10374.000000  10374.000000  \n",
       "mean       0.063426      0.210477      0.311944      1.184296  "
      ]
     },
     "execution_count": 27,
     "metadata": {},
     "output_type": "execute_result"
    }
   ],
   "source": [
    "crsp_fa1[crsp_fa1.exf_to_mv <= (-0.05 * crsp_fa1.retx_p1)].describe().loc[['count', 'mean']]"
   ]
  },
  {
   "cell_type": "code",
   "execution_count": 28,
   "metadata": {},
   "outputs": [
    {
     "data": {
      "text/html": [
       "<div>\n",
       "<style scoped>\n",
       "    .dataframe tbody tr th:only-of-type {\n",
       "        vertical-align: middle;\n",
       "    }\n",
       "\n",
       "    .dataframe tbody tr th {\n",
       "        vertical-align: top;\n",
       "    }\n",
       "\n",
       "    .dataframe thead th {\n",
       "        text-align: right;\n",
       "    }\n",
       "</style>\n",
       "<table border=\"1\" class=\"dataframe\">\n",
       "  <thead>\n",
       "    <tr style=\"text-align: right;\">\n",
       "      <th></th>\n",
       "      <th>permno</th>\n",
       "      <th>mv</th>\n",
       "      <th>retx_p1</th>\n",
       "      <th>exf</th>\n",
       "      <th>exf_to_mv</th>\n",
       "      <th>car1</th>\n",
       "      <th>car3</th>\n",
       "      <th>car5</th>\n",
       "      <th>wr5</th>\n",
       "    </tr>\n",
       "  </thead>\n",
       "  <tbody>\n",
       "    <tr>\n",
       "      <th>count</th>\n",
       "      <td>126744.000000</td>\n",
       "      <td>1.267440e+05</td>\n",
       "      <td>126744.00000</td>\n",
       "      <td>126744.000000</td>\n",
       "      <td>126744.000000</td>\n",
       "      <td>117688.000000</td>\n",
       "      <td>117688.000000</td>\n",
       "      <td>117688.000000</td>\n",
       "      <td>117688.000000</td>\n",
       "    </tr>\n",
       "    <tr>\n",
       "      <th>mean</th>\n",
       "      <td>55665.221446</td>\n",
       "      <td>1.365509e+06</td>\n",
       "      <td>1.11561</td>\n",
       "      <td>-2135.690875</td>\n",
       "      <td>0.005052</td>\n",
       "      <td>0.035517</td>\n",
       "      <td>0.084474</td>\n",
       "      <td>0.127266</td>\n",
       "      <td>1.082469</td>\n",
       "    </tr>\n",
       "  </tbody>\n",
       "</table>\n",
       "</div>"
      ],
      "text/plain": [
       "              permno            mv       retx_p1            exf  \\\n",
       "count  126744.000000  1.267440e+05  126744.00000  126744.000000   \n",
       "mean    55665.221446  1.365509e+06       1.11561   -2135.690875   \n",
       "\n",
       "           exf_to_mv           car1           car3           car5  \\\n",
       "count  126744.000000  117688.000000  117688.000000  117688.000000   \n",
       "mean        0.005052       0.035517       0.084474       0.127266   \n",
       "\n",
       "                 wr5  \n",
       "count  117688.000000  \n",
       "mean        1.082469  "
      ]
     },
     "execution_count": 28,
     "metadata": {},
     "output_type": "execute_result"
    }
   ],
   "source": [
    "crsp_fa1[(crsp_fa1.exf_to_mv >(-0.05 * crsp_fa1.retx_p1)) & \\\n",
    "         (crsp_fa1.exf_to_mv <= (0.05 * crsp_fa1.retx_p1))].describe().loc[['count', 'mean']]"
   ]
  },
  {
   "cell_type": "markdown",
   "metadata": {},
   "source": [
    "long Significant repurchase,  short Significant issuance"
   ]
  },
  {
   "cell_type": "code",
   "execution_count": 29,
   "metadata": {},
   "outputs": [
    {
     "data": {
      "text/html": [
       "<div>\n",
       "<style scoped>\n",
       "    .dataframe tbody tr th:only-of-type {\n",
       "        vertical-align: middle;\n",
       "    }\n",
       "\n",
       "    .dataframe tbody tr th {\n",
       "        vertical-align: top;\n",
       "    }\n",
       "\n",
       "    .dataframe thead th {\n",
       "        text-align: right;\n",
       "    }\n",
       "</style>\n",
       "<table border=\"1\" class=\"dataframe\">\n",
       "  <thead>\n",
       "    <tr style=\"text-align: right;\">\n",
       "      <th></th>\n",
       "      <th>permno</th>\n",
       "      <th>mv</th>\n",
       "      <th>retx_p1</th>\n",
       "      <th>exf</th>\n",
       "      <th>exf_to_mv</th>\n",
       "      <th>car1</th>\n",
       "      <th>car3</th>\n",
       "      <th>car5</th>\n",
       "      <th>wr5</th>\n",
       "    </tr>\n",
       "  </thead>\n",
       "  <tbody>\n",
       "    <tr>\n",
       "      <th>mean</th>\n",
       "      <td>-3935.407837</td>\n",
       "      <td>605348.659812</td>\n",
       "      <td>-0.158974</td>\n",
       "      <td>-427607.235208</td>\n",
       "      <td>-0.495956</td>\n",
       "      <td>0.074817</td>\n",
       "      <td>0.309187</td>\n",
       "      <td>0.493611</td>\n",
       "      <td>0.291725</td>\n",
       "    </tr>\n",
       "  </tbody>\n",
       "</table>\n",
       "</div>"
      ],
      "text/plain": [
       "           permno             mv   retx_p1            exf  exf_to_mv  \\\n",
       "mean -3935.407837  605348.659812 -0.158974 -427607.235208  -0.495956   \n",
       "\n",
       "          car1      car3      car5       wr5  \n",
       "mean  0.074817  0.309187  0.493611  0.291725  "
      ]
     },
     "execution_count": 29,
     "metadata": {},
     "output_type": "execute_result"
    }
   ],
   "source": [
    "crsp_fa1[crsp_fa1.exf_to_mv <= (-0.05 * crsp_fa1.retx_p1)].describe().loc[['mean']] - \\\n",
    "crsp_fa1[crsp_fa1.exf_to_mv > (0.05 * crsp_fa1.retx_p1)].describe().loc[['mean']]"
   ]
  },
  {
   "cell_type": "markdown",
   "metadata": {},
   "source": [
    "查看样本的个数"
   ]
  },
  {
   "cell_type": "code",
   "execution_count": 40,
   "metadata": {
    "collapsed": true
   },
   "outputs": [
    {
     "data": {
      "text/plain": [
       "exf_to_mv\n",
       "(-1.066, -0.0261]      17645\n",
       "(-0.0261, -0.00114]    17644\n",
       "(-0.00114, 5.6e-08]    17644\n",
       "(5.6e-08, 0.000466]    17644\n",
       "(0.000466, 0.00379]    17644\n",
       "(0.00379, 0.0102]      17644\n",
       "(0.0102, 0.0236]       17644\n",
       "(0.0236, 0.0625]       17644\n",
       "(0.0625, 0.205]        17644\n",
       "(0.205, 0.453]         17644\n",
       "Name: exf_to_mv, dtype: int64"
      ]
     },
     "execution_count": 40,
     "metadata": {},
     "output_type": "execute_result"
    }
   ],
   "source": [
    "crsp_fa1.groupby(pd.cut(crsp_fa1.exf_to_mv,bins, right=True)).count().exf_to_mv"
   ]
  },
  {
   "cell_type": "code",
   "execution_count": 41,
   "metadata": {
    "collapsed": true
   },
   "outputs": [
    {
     "data": {
      "text/html": [
       "<div>\n",
       "<style scoped>\n",
       "    .dataframe tbody tr th:only-of-type {\n",
       "        vertical-align: middle;\n",
       "    }\n",
       "\n",
       "    .dataframe tbody tr th {\n",
       "        vertical-align: top;\n",
       "    }\n",
       "\n",
       "    .dataframe thead th {\n",
       "        text-align: right;\n",
       "    }\n",
       "</style>\n",
       "<table border=\"1\" class=\"dataframe\">\n",
       "  <thead>\n",
       "    <tr style=\"text-align: right;\">\n",
       "      <th></th>\n",
       "      <th>date</th>\n",
       "      <th>mv</th>\n",
       "      <th>retx_p1</th>\n",
       "      <th>exf</th>\n",
       "      <th>exf_to_mv</th>\n",
       "      <th>car1</th>\n",
       "      <th>car3</th>\n",
       "      <th>car5</th>\n",
       "      <th>wr5</th>\n",
       "    </tr>\n",
       "    <tr>\n",
       "      <th>permno</th>\n",
       "      <th></th>\n",
       "      <th></th>\n",
       "      <th></th>\n",
       "      <th></th>\n",
       "      <th></th>\n",
       "      <th></th>\n",
       "      <th></th>\n",
       "      <th></th>\n",
       "      <th></th>\n",
       "    </tr>\n",
       "  </thead>\n",
       "  <tbody>\n",
       "    <tr>\n",
       "      <th>10002</th>\n",
       "      <td>1986-12-31</td>\n",
       "      <td>14540.625</td>\n",
       "      <td>1.064515</td>\n",
       "      <td>NaN</td>\n",
       "      <td>NaN</td>\n",
       "      <td>-0.032335</td>\n",
       "      <td>-0.574328</td>\n",
       "      <td>-0.585850</td>\n",
       "      <td>0.452834</td>\n",
       "    </tr>\n",
       "    <tr>\n",
       "      <th>10002</th>\n",
       "      <td>1987-12-31</td>\n",
       "      <td>11750.000</td>\n",
       "      <td>0.808082</td>\n",
       "      <td>-0.013582</td>\n",
       "      <td>-9.341005e-07</td>\n",
       "      <td>-0.335878</td>\n",
       "      <td>-0.376648</td>\n",
       "      <td>-0.885846</td>\n",
       "      <td>0.503963</td>\n",
       "    </tr>\n",
       "    <tr>\n",
       "      <th>10002</th>\n",
       "      <td>1988-12-31</td>\n",
       "      <td>9840.625</td>\n",
       "      <td>0.837500</td>\n",
       "      <td>0.004930</td>\n",
       "      <td>4.195653e-07</td>\n",
       "      <td>-0.352979</td>\n",
       "      <td>-0.369345</td>\n",
       "      <td>-0.494632</td>\n",
       "      <td>0.759094</td>\n",
       "    </tr>\n",
       "    <tr>\n",
       "      <th>10002</th>\n",
       "      <td>1989-12-31</td>\n",
       "      <td>7196.875</td>\n",
       "      <td>0.731343</td>\n",
       "      <td>0.006905</td>\n",
       "      <td>7.017218e-07</td>\n",
       "      <td>0.127311</td>\n",
       "      <td>0.065773</td>\n",
       "      <td>0.458322</td>\n",
       "      <td>1.260865</td>\n",
       "    </tr>\n",
       "    <tr>\n",
       "      <th>10002</th>\n",
       "      <td>1990-12-31</td>\n",
       "      <td>5875.000</td>\n",
       "      <td>0.816327</td>\n",
       "      <td>-0.002175</td>\n",
       "      <td>-3.021710e-07</td>\n",
       "      <td>-0.253274</td>\n",
       "      <td>-0.137564</td>\n",
       "      <td>-0.538593</td>\n",
       "      <td>0.846217</td>\n",
       "    </tr>\n",
       "  </tbody>\n",
       "</table>\n",
       "</div>"
      ],
      "text/plain": [
       "             date         mv   retx_p1       exf     exf_to_mv      car1  \\\n",
       "permno                                                                     \n",
       "10002  1986-12-31  14540.625  1.064515       NaN           NaN -0.032335   \n",
       "10002  1987-12-31  11750.000  0.808082 -0.013582 -9.341005e-07 -0.335878   \n",
       "10002  1988-12-31   9840.625  0.837500  0.004930  4.195653e-07 -0.352979   \n",
       "10002  1989-12-31   7196.875  0.731343  0.006905  7.017218e-07  0.127311   \n",
       "10002  1990-12-31   5875.000  0.816327 -0.002175 -3.021710e-07 -0.253274   \n",
       "\n",
       "            car3      car5       wr5  \n",
       "permno                                \n",
       "10002  -0.574328 -0.585850  0.452834  \n",
       "10002  -0.376648 -0.885846  0.503963  \n",
       "10002  -0.369345 -0.494632  0.759094  \n",
       "10002   0.065773  0.458322  1.260865  \n",
       "10002  -0.137564 -0.538593  0.846217  "
      ]
     },
     "execution_count": 41,
     "metadata": {},
     "output_type": "execute_result"
    }
   ],
   "source": [
    "crsp_fa_filtered.head()"
   ]
  },
  {
   "cell_type": "code",
   "execution_count": 47,
   "metadata": {},
   "outputs": [],
   "source": [
    "sample = crsp_fa_filtered.loc[77418].reset_index().set_index('date')"
   ]
  },
  {
   "cell_type": "code",
   "execution_count": 48,
   "metadata": {},
   "outputs": [],
   "source": [
    "wt1 = sample.exf * (1 - sample.wr5)"
   ]
  },
  {
   "cell_type": "code",
   "execution_count": 52,
   "metadata": {},
   "outputs": [],
   "source": [
    "sample = sample.assign(wt1 = np.where(sample.exf > 0, sample.exf * (1 - sample.wr5), \n",
    "         sample.exf * (1 - sample.wr5) * sample.mv / (sample.mv.shift(1) * sample.retx_p1)))"
   ]
  },
  {
   "cell_type": "code",
   "execution_count": 2,
   "metadata": {
    "scrolled": true
   },
   "outputs": [],
   "source": [
    "sample"
   ]
  },
  {
   "cell_type": "code",
   "execution_count": 1,
   "metadata": {},
   "outputs": [],
   "source": [
    "100 * sample.wt1 / (sample.mv.shift(1) * sample.retx_p1)"
   ]
  },
  {
   "cell_type": "code",
   "execution_count": null,
   "metadata": {},
   "outputs": [],
   "source": []
  },
  {
   "cell_type": "code",
   "execution_count": null,
   "metadata": {},
   "outputs": [],
   "source": []
  }
 ],
 "metadata": {
  "kernelspec": {
   "display_name": "Python 3 tensorflow",
   "language": "python",
   "name": "python3"
  },
  "language_info": {
   "codemirror_mode": {
    "name": "ipython",
    "version": 3
   },
   "file_extension": ".py",
   "mimetype": "text/x-python",
   "name": "python",
   "nbconvert_exporter": "python",
   "pygments_lexer": "ipython3",
   "version": "3.5.5"
  },
  "toc": {
   "base_numbering": 1,
   "nav_menu": {},
   "number_sections": true,
   "sideBar": true,
   "skip_h1_title": false,
   "title_cell": "Table of Contents",
   "title_sidebar": "Contents",
   "toc_cell": false,
   "toc_position": {},
   "toc_section_display": true,
   "toc_window_display": false
  },
  "varInspector": {
   "cols": {
    "lenName": 16,
    "lenType": 16,
    "lenVar": 40
   },
   "kernels_config": {
    "python": {
     "delete_cmd_postfix": "",
     "delete_cmd_prefix": "del ",
     "library": "var_list.py",
     "varRefreshCmd": "print(var_dic_list())"
    },
    "r": {
     "delete_cmd_postfix": ") ",
     "delete_cmd_prefix": "rm(",
     "library": "var_list.r",
     "varRefreshCmd": "cat(var_dic_list()) "
    }
   },
   "position": {
    "height": "567.5px",
    "left": "1130px",
    "right": "20px",
    "top": "120px",
    "width": "350px"
   },
   "types_to_exclude": [
    "module",
    "function",
    "builtin_function_or_method",
    "instance",
    "_Feature"
   ],
   "window_display": false
  }
 },
 "nbformat": 4,
 "nbformat_minor": 2
}
