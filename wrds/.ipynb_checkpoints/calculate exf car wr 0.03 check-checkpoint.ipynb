{
 "cells": [
  {
   "cell_type": "code",
   "execution_count": 1,
   "metadata": {},
   "outputs": [],
   "source": [
    "%load_ext autoreload\n",
    "%autoreload 2"
   ]
  },
  {
   "cell_type": "code",
   "execution_count": 2,
   "metadata": {},
   "outputs": [],
   "source": [
    "import numpy as np\n",
    "import pandas as pd\n",
    "import matplotlib.pyplot as plt\n",
    "import seaborn as sns\n",
    "import statsmodels.api as sm\n",
    "import talib as ta\n",
    "import datetime, time\n",
    "from dateutil.relativedelta import *\n",
    "from pandas.tseries.offsets import *\n",
    "from tqdm import tqdm_notebook"
   ]
  },
  {
   "cell_type": "code",
   "execution_count": 3,
   "metadata": {},
   "outputs": [],
   "source": [
    "plt.rcParams['figure.figsize'] = [12, 8]\n",
    "plt.rcParams['image.interpolation'] = 'nearest'\n",
    "plt.rcParams['image.cmap'] = 'gray'\n",
    "plt.style.use('ggplot')"
   ]
  },
  {
   "cell_type": "markdown",
   "metadata": {},
   "source": [
    "crsp fiscal resample"
   ]
  },
  {
   "cell_type": "code",
   "execution_count": 4,
   "metadata": {},
   "outputs": [],
   "source": [
    "#定义函数，关于car的计算会在后面演示\n",
    "def calc_exf(df):\n",
    "    ret = df.ret_p1\n",
    "    dret = df.dret_p1\n",
    "    exf = df.mv - df.mv.shift(1) * df.retx_p1\n",
    "    exf_to_mv = exf / df.mv.shift(1)\n",
    "    \n",
    "    car1 = ((ret[::-1]).rolling(1, min_periods=1).apply(np.prod, raw=True)[::-1]) - \\\n",
    "        ((dret[::-1]).rolling(1, min_periods=1).apply(np.prod, raw=True)[::-1])\n",
    "    car3 = ((ret[::-1]).rolling(3, min_periods=1).apply(np.prod, raw=True)[::-1]) - \\\n",
    "        ((dret[::-1]).rolling(3, min_periods=1).apply(np.prod, raw=True)[::-1])\n",
    "    car5 = ((ret[::-1]).rolling(5, min_periods=1).apply(np.prod, raw=True)[::-1]) - \\\n",
    "        ((dret[::-1]).rolling(5, min_periods=1).apply(np.prod, raw=True)[::-1])\n",
    "    \n",
    "    wr5 = ((ret[::-1]).rolling(5, min_periods=1).apply(np.prod, raw=True)[::-1]) / \\\n",
    "        ((dret[::-1]).rolling(5, min_periods=1).apply(np.prod, raw=True)[::-1])\n",
    "    \n",
    "\n",
    "    \n",
    "    res = pd.DataFrame({\n",
    "        'date':df.date,\n",
    "        'mv':df.mv,\n",
    "        'retx_p1':df.retx_p1,\n",
    "        'exf':exf,\n",
    "        'exf_to_mv':exf_to_mv,\n",
    "        'car1':car1.shift(-1),\n",
    "        'car3':car3.shift(-1),\n",
    "        'car5':car5.shift(-1),\n",
    "        'wr5':wr5.shift(-1),\n",
    "\n",
    "    })\n",
    "    return res"
   ]
  },
  {
   "cell_type": "code",
   "execution_count": 5,
   "metadata": {},
   "outputs": [],
   "source": [
    "#读取我们再第三步中处理好的数据\n",
    "crsp_fa = pd.read_csv('data/crsp_fa_filtered.zip',\n",
    "                     parse_dates=['date'], infer_datetime_format=True)"
   ]
  },
  {
   "cell_type": "code",
   "execution_count": 6,
   "metadata": {
    "collapsed": true
   },
   "outputs": [
    {
     "data": {
      "text/html": [
       "<div>\n",
       "<style scoped>\n",
       "    .dataframe tbody tr th:only-of-type {\n",
       "        vertical-align: middle;\n",
       "    }\n",
       "\n",
       "    .dataframe tbody tr th {\n",
       "        vertical-align: top;\n",
       "    }\n",
       "\n",
       "    .dataframe thead th {\n",
       "        text-align: right;\n",
       "    }\n",
       "</style>\n",
       "<table border=\"1\" class=\"dataframe\">\n",
       "  <thead>\n",
       "    <tr style=\"text-align: right;\">\n",
       "      <th></th>\n",
       "      <th>date</th>\n",
       "      <th>permno</th>\n",
       "      <th>ret_p1</th>\n",
       "      <th>retx_p1</th>\n",
       "      <th>dret_p1</th>\n",
       "      <th>mv</th>\n",
       "      <th>mv_adj</th>\n",
       "    </tr>\n",
       "  </thead>\n",
       "  <tbody>\n",
       "    <tr>\n",
       "      <th>149844</th>\n",
       "      <td>1992-06-30</td>\n",
       "      <td>77418</td>\n",
       "      <td>0.885246</td>\n",
       "      <td>0.885246</td>\n",
       "      <td>0.902617</td>\n",
       "      <td>7.399350e+04</td>\n",
       "      <td>1.153435e+05</td>\n",
       "    </tr>\n",
       "    <tr>\n",
       "      <th>149845</th>\n",
       "      <td>1993-06-30</td>\n",
       "      <td>77418</td>\n",
       "      <td>2.741783</td>\n",
       "      <td>2.740738</td>\n",
       "      <td>1.256202</td>\n",
       "      <td>2.180040e+05</td>\n",
       "      <td>3.304247e+05</td>\n",
       "    </tr>\n",
       "    <tr>\n",
       "      <th>149846</th>\n",
       "      <td>1994-06-30</td>\n",
       "      <td>77418</td>\n",
       "      <td>1.540542</td>\n",
       "      <td>1.540542</td>\n",
       "      <td>1.046047</td>\n",
       "      <td>4.129650e+05</td>\n",
       "      <td>6.094740e+05</td>\n",
       "    </tr>\n",
       "    <tr>\n",
       "      <th>149847</th>\n",
       "      <td>1995-06-30</td>\n",
       "      <td>77418</td>\n",
       "      <td>3.087717</td>\n",
       "      <td>3.087717</td>\n",
       "      <td>1.174147</td>\n",
       "      <td>1.652420e+06</td>\n",
       "      <td>2.371602e+06</td>\n",
       "    </tr>\n",
       "    <tr>\n",
       "      <th>149848</th>\n",
       "      <td>1996-06-30</td>\n",
       "      <td>77418</td>\n",
       "      <td>1.988631</td>\n",
       "      <td>1.988631</td>\n",
       "      <td>1.220468</td>\n",
       "      <td>3.935138e+06</td>\n",
       "      <td>5.489542e+06</td>\n",
       "    </tr>\n",
       "    <tr>\n",
       "      <th>149849</th>\n",
       "      <td>1997-06-30</td>\n",
       "      <td>77418</td>\n",
       "      <td>1.271430</td>\n",
       "      <td>1.271430</td>\n",
       "      <td>1.321836</td>\n",
       "      <td>5.443073e+06</td>\n",
       "      <td>7.432170e+06</td>\n",
       "    </tr>\n",
       "    <tr>\n",
       "      <th>149850</th>\n",
       "      <td>1998-06-30</td>\n",
       "      <td>77418</td>\n",
       "      <td>3.823007</td>\n",
       "      <td>3.822978</td>\n",
       "      <td>1.302787</td>\n",
       "      <td>2.272824e+07</td>\n",
       "      <td>3.050151e+07</td>\n",
       "    </tr>\n",
       "    <tr>\n",
       "      <th>149851</th>\n",
       "      <td>1999-06-30</td>\n",
       "      <td>77418</td>\n",
       "      <td>4.185493</td>\n",
       "      <td>4.185493</td>\n",
       "      <td>1.216303</td>\n",
       "      <td>1.195158e+08</td>\n",
       "      <td>1.570238e+08</td>\n",
       "    </tr>\n",
       "    <tr>\n",
       "      <th>149852</th>\n",
       "      <td>2000-06-30</td>\n",
       "      <td>77418</td>\n",
       "      <td>0.957955</td>\n",
       "      <td>0.957955</td>\n",
       "      <td>1.091818</td>\n",
       "      <td>1.216507e+08</td>\n",
       "      <td>1.542759e+08</td>\n",
       "    </tr>\n",
       "    <tr>\n",
       "      <th>149853</th>\n",
       "      <td>2001-12-31</td>\n",
       "      <td>77418</td>\n",
       "      <td>0.922413</td>\n",
       "      <td>0.922413</td>\n",
       "      <td>0.863769</td>\n",
       "      <td>1.365999e+08</td>\n",
       "      <td>1.631004e+08</td>\n",
       "    </tr>\n",
       "    <tr>\n",
       "      <th>149854</th>\n",
       "      <td>2002-12-31</td>\n",
       "      <td>77418</td>\n",
       "      <td>0.408099</td>\n",
       "      <td>0.408099</td>\n",
       "      <td>0.784459</td>\n",
       "      <td>5.631639e+07</td>\n",
       "      <td>6.543742e+07</td>\n",
       "    </tr>\n",
       "    <tr>\n",
       "      <th>149855</th>\n",
       "      <td>2003-12-31</td>\n",
       "      <td>77418</td>\n",
       "      <td>1.373283</td>\n",
       "      <td>1.373283</td>\n",
       "      <td>1.299333</td>\n",
       "      <td>7.826657e+07</td>\n",
       "      <td>8.913651e+07</td>\n",
       "    </tr>\n",
       "    <tr>\n",
       "      <th>149856</th>\n",
       "      <td>2004-12-31</td>\n",
       "      <td>77418</td>\n",
       "      <td>1.081156</td>\n",
       "      <td>1.081156</td>\n",
       "      <td>1.116584</td>\n",
       "      <td>8.575871e+07</td>\n",
       "      <td>9.496747e+07</td>\n",
       "    </tr>\n",
       "    <tr>\n",
       "      <th>149857</th>\n",
       "      <td>2005-12-31</td>\n",
       "      <td>77418</td>\n",
       "      <td>0.901661</td>\n",
       "      <td>0.896659</td>\n",
       "      <td>1.072051</td>\n",
       "      <td>7.979437e+07</td>\n",
       "      <td>8.494877e+07</td>\n",
       "    </tr>\n",
       "    <tr>\n",
       "      <th>149858</th>\n",
       "      <td>2006-12-31</td>\n",
       "      <td>77418</td>\n",
       "      <td>1.263697</td>\n",
       "      <td>1.248854</td>\n",
       "      <td>1.160715</td>\n",
       "      <td>8.652264e+07</td>\n",
       "      <td>9.023852e+07</td>\n",
       "    </tr>\n",
       "    <tr>\n",
       "      <th>149859</th>\n",
       "      <td>2007-12-31</td>\n",
       "      <td>77418</td>\n",
       "      <td>0.767318</td>\n",
       "      <td>0.758034</td>\n",
       "      <td>1.083138</td>\n",
       "      <td>5.967698e+07</td>\n",
       "      <td>5.967698e+07</td>\n",
       "    </tr>\n",
       "    <tr>\n",
       "      <th>149860</th>\n",
       "      <td>2008-12-31</td>\n",
       "      <td>77418</td>\n",
       "      <td>0.620778</td>\n",
       "      <td>0.609328</td>\n",
       "      <td>0.618783</td>\n",
       "      <td>3.608984e+07</td>\n",
       "      <td>3.613088e+07</td>\n",
       "    </tr>\n",
       "    <tr>\n",
       "      <th>149861</th>\n",
       "      <td>2009-12-31</td>\n",
       "      <td>77418</td>\n",
       "      <td>1.341498</td>\n",
       "      <td>1.303267</td>\n",
       "      <td>1.283281</td>\n",
       "      <td>3.402322e+07</td>\n",
       "      <td>3.319192e+07</td>\n",
       "    </tr>\n",
       "    <tr>\n",
       "      <th>149862</th>\n",
       "      <td>2010-12-31</td>\n",
       "      <td>77418</td>\n",
       "      <td>1.135748</td>\n",
       "      <td>1.103981</td>\n",
       "      <td>1.157316</td>\n",
       "      <td>3.568608e+07</td>\n",
       "      <td>3.423194e+07</td>\n",
       "    </tr>\n",
       "    <tr>\n",
       "      <th>149863</th>\n",
       "      <td>2011-12-31</td>\n",
       "      <td>77418</td>\n",
       "      <td>1.153788</td>\n",
       "      <td>1.123405</td>\n",
       "      <td>0.996823</td>\n",
       "      <td>3.617195e+07</td>\n",
       "      <td>3.368451e+07</td>\n",
       "    </tr>\n",
       "    <tr>\n",
       "      <th>149864</th>\n",
       "      <td>2012-12-31</td>\n",
       "      <td>77418</td>\n",
       "      <td>1.358594</td>\n",
       "      <td>1.323464</td>\n",
       "      <td>1.158397</td>\n",
       "      <td>4.528822e+07</td>\n",
       "      <td>4.147541e+07</td>\n",
       "    </tr>\n",
       "    <tr>\n",
       "      <th>149865</th>\n",
       "      <td>2013-12-31</td>\n",
       "      <td>77418</td>\n",
       "      <td>1.486231</td>\n",
       "      <td>1.457662</td>\n",
       "      <td>1.304742</td>\n",
       "      <td>6.307722e+07</td>\n",
       "      <td>5.688070e+07</td>\n",
       "    </tr>\n",
       "  </tbody>\n",
       "</table>\n",
       "</div>"
      ],
      "text/plain": [
       "             date  permno    ret_p1   retx_p1   dret_p1            mv  \\\n",
       "149844 1992-06-30   77418  0.885246  0.885246  0.902617  7.399350e+04   \n",
       "149845 1993-06-30   77418  2.741783  2.740738  1.256202  2.180040e+05   \n",
       "149846 1994-06-30   77418  1.540542  1.540542  1.046047  4.129650e+05   \n",
       "149847 1995-06-30   77418  3.087717  3.087717  1.174147  1.652420e+06   \n",
       "149848 1996-06-30   77418  1.988631  1.988631  1.220468  3.935138e+06   \n",
       "149849 1997-06-30   77418  1.271430  1.271430  1.321836  5.443073e+06   \n",
       "149850 1998-06-30   77418  3.823007  3.822978  1.302787  2.272824e+07   \n",
       "149851 1999-06-30   77418  4.185493  4.185493  1.216303  1.195158e+08   \n",
       "149852 2000-06-30   77418  0.957955  0.957955  1.091818  1.216507e+08   \n",
       "149853 2001-12-31   77418  0.922413  0.922413  0.863769  1.365999e+08   \n",
       "149854 2002-12-31   77418  0.408099  0.408099  0.784459  5.631639e+07   \n",
       "149855 2003-12-31   77418  1.373283  1.373283  1.299333  7.826657e+07   \n",
       "149856 2004-12-31   77418  1.081156  1.081156  1.116584  8.575871e+07   \n",
       "149857 2005-12-31   77418  0.901661  0.896659  1.072051  7.979437e+07   \n",
       "149858 2006-12-31   77418  1.263697  1.248854  1.160715  8.652264e+07   \n",
       "149859 2007-12-31   77418  0.767318  0.758034  1.083138  5.967698e+07   \n",
       "149860 2008-12-31   77418  0.620778  0.609328  0.618783  3.608984e+07   \n",
       "149861 2009-12-31   77418  1.341498  1.303267  1.283281  3.402322e+07   \n",
       "149862 2010-12-31   77418  1.135748  1.103981  1.157316  3.568608e+07   \n",
       "149863 2011-12-31   77418  1.153788  1.123405  0.996823  3.617195e+07   \n",
       "149864 2012-12-31   77418  1.358594  1.323464  1.158397  4.528822e+07   \n",
       "149865 2013-12-31   77418  1.486231  1.457662  1.304742  6.307722e+07   \n",
       "\n",
       "              mv_adj  \n",
       "149844  1.153435e+05  \n",
       "149845  3.304247e+05  \n",
       "149846  6.094740e+05  \n",
       "149847  2.371602e+06  \n",
       "149848  5.489542e+06  \n",
       "149849  7.432170e+06  \n",
       "149850  3.050151e+07  \n",
       "149851  1.570238e+08  \n",
       "149852  1.542759e+08  \n",
       "149853  1.631004e+08  \n",
       "149854  6.543742e+07  \n",
       "149855  8.913651e+07  \n",
       "149856  9.496747e+07  \n",
       "149857  8.494877e+07  \n",
       "149858  9.023852e+07  \n",
       "149859  5.967698e+07  \n",
       "149860  3.613088e+07  \n",
       "149861  3.319192e+07  \n",
       "149862  3.423194e+07  \n",
       "149863  3.368451e+07  \n",
       "149864  4.147541e+07  \n",
       "149865  5.688070e+07  "
      ]
     },
     "execution_count": 6,
     "metadata": {},
     "output_type": "execute_result"
    }
   ],
   "source": [
    "#取paper中的例子做一个验证，ret_p1代表buy and hold return+1, retx_p1代表ex-dvd return+1,dret_p1代表decile return+1\n",
    "crsp_fa.query('permno == 77418')"
   ]
  },
  {
   "cell_type": "code",
   "execution_count": 7,
   "metadata": {},
   "outputs": [],
   "source": [
    "test = crsp_fa.query('permno == 77418').set_index('date')"
   ]
  },
  {
   "cell_type": "code",
   "execution_count": 8,
   "metadata": {
    "collapsed": true
   },
   "outputs": [
    {
     "data": {
      "text/html": [
       "<div>\n",
       "<style scoped>\n",
       "    .dataframe tbody tr th:only-of-type {\n",
       "        vertical-align: middle;\n",
       "    }\n",
       "\n",
       "    .dataframe tbody tr th {\n",
       "        vertical-align: top;\n",
       "    }\n",
       "\n",
       "    .dataframe thead th {\n",
       "        text-align: right;\n",
       "    }\n",
       "</style>\n",
       "<table border=\"1\" class=\"dataframe\">\n",
       "  <thead>\n",
       "    <tr style=\"text-align: right;\">\n",
       "      <th></th>\n",
       "      <th>permno</th>\n",
       "      <th>ret_p1</th>\n",
       "      <th>retx_p1</th>\n",
       "      <th>dret_p1</th>\n",
       "      <th>mv</th>\n",
       "      <th>mv_adj</th>\n",
       "    </tr>\n",
       "    <tr>\n",
       "      <th>date</th>\n",
       "      <th></th>\n",
       "      <th></th>\n",
       "      <th></th>\n",
       "      <th></th>\n",
       "      <th></th>\n",
       "      <th></th>\n",
       "    </tr>\n",
       "  </thead>\n",
       "  <tbody>\n",
       "    <tr>\n",
       "      <th>2002-12-31</th>\n",
       "      <td>77418</td>\n",
       "      <td>0.408099</td>\n",
       "      <td>0.408099</td>\n",
       "      <td>0.784459</td>\n",
       "      <td>56316389.10</td>\n",
       "      <td>6.543742e+07</td>\n",
       "    </tr>\n",
       "    <tr>\n",
       "      <th>2003-12-31</th>\n",
       "      <td>77418</td>\n",
       "      <td>1.373283</td>\n",
       "      <td>1.373283</td>\n",
       "      <td>1.299333</td>\n",
       "      <td>78266574.40</td>\n",
       "      <td>8.913651e+07</td>\n",
       "    </tr>\n",
       "    <tr>\n",
       "      <th>2004-12-31</th>\n",
       "      <td>77418</td>\n",
       "      <td>1.081156</td>\n",
       "      <td>1.081156</td>\n",
       "      <td>1.116584</td>\n",
       "      <td>85758706.60</td>\n",
       "      <td>9.496747e+07</td>\n",
       "    </tr>\n",
       "    <tr>\n",
       "      <th>2005-12-31</th>\n",
       "      <td>77418</td>\n",
       "      <td>0.901661</td>\n",
       "      <td>0.896659</td>\n",
       "      <td>1.072051</td>\n",
       "      <td>79794365.60</td>\n",
       "      <td>8.494877e+07</td>\n",
       "    </tr>\n",
       "    <tr>\n",
       "      <th>2006-12-31</th>\n",
       "      <td>77418</td>\n",
       "      <td>1.263697</td>\n",
       "      <td>1.248854</td>\n",
       "      <td>1.160715</td>\n",
       "      <td>86522639.94</td>\n",
       "      <td>9.023852e+07</td>\n",
       "    </tr>\n",
       "  </tbody>\n",
       "</table>\n",
       "</div>"
      ],
      "text/plain": [
       "            permno    ret_p1   retx_p1   dret_p1           mv        mv_adj\n",
       "date                                                                       \n",
       "2002-12-31   77418  0.408099  0.408099  0.784459  56316389.10  6.543742e+07\n",
       "2003-12-31   77418  1.373283  1.373283  1.299333  78266574.40  8.913651e+07\n",
       "2004-12-31   77418  1.081156  1.081156  1.116584  85758706.60  9.496747e+07\n",
       "2005-12-31   77418  0.901661  0.896659  1.072051  79794365.60  8.494877e+07\n",
       "2006-12-31   77418  1.263697  1.248854  1.160715  86522639.94  9.023852e+07"
      ]
     },
     "execution_count": 8,
     "metadata": {},
     "output_type": "execute_result"
    }
   ],
   "source": [
    "test['2002':'2006']"
   ]
  },
  {
   "cell_type": "code",
   "execution_count": 9,
   "metadata": {
    "collapsed": true
   },
   "outputs": [
    {
     "data": {
      "text/plain": [
       "date\n",
       "2002-12-31    0.408099\n",
       "2003-12-31    1.373283\n",
       "2004-12-31    1.081156\n",
       "2005-12-31    0.901661\n",
       "2006-12-31    1.263697\n",
       "Name: ret_p1, dtype: float64"
      ]
     },
     "execution_count": 9,
     "metadata": {},
     "output_type": "execute_result"
    }
   ],
   "source": [
    "test['2002':'2006'].ret_p1"
   ]
  },
  {
   "cell_type": "code",
   "execution_count": 10,
   "metadata": {},
   "outputs": [
    {
     "name": "stdout",
     "output_type": "stream",
     "text": [
      "0.6904002043681601\n"
     ]
    }
   ],
   "source": [
    "p = 1\n",
    "for i in test['2002':'2006'].ret_p1:\n",
    "    p = i * p\n",
    "print(p)"
   ]
  },
  {
   "cell_type": "code",
   "execution_count": 11,
   "metadata": {},
   "outputs": [
    {
     "data": {
      "text/plain": [
       "0.6904002043681601"
      ]
     },
     "execution_count": 11,
     "metadata": {},
     "output_type": "execute_result"
    }
   ],
   "source": [
    "#这里算的是RT\n",
    "test['2002':'2006'].ret_p1.prod()"
   ]
  },
  {
   "cell_type": "code",
   "execution_count": 12,
   "metadata": {},
   "outputs": [
    {
     "data": {
      "text/plain": [
       "1.4161960357477106"
      ]
     },
     "execution_count": 12,
     "metadata": {},
     "output_type": "execute_result"
    }
   ],
   "source": [
    "#接着算MT\n",
    "test['2002':'2006'].dret_p1.prod()"
   ]
  },
  {
   "cell_type": "code",
   "execution_count": 13,
   "metadata": {},
   "outputs": [],
   "source": [
    "wr5_test = test['2002':'2006'].ret_p1.prod() / test['2002':'2006'].dret_p1.prod()"
   ]
  },
  {
   "cell_type": "code",
   "execution_count": 14,
   "metadata": {},
   "outputs": [
    {
     "data": {
      "text/plain": [
       "0.48750327422265993"
      ]
     },
     "execution_count": 14,
     "metadata": {},
     "output_type": "execute_result"
    }
   ],
   "source": [
    "#这里算出来WRT等于0.487, 文中99页等于0.446\n",
    "wr5_test"
   ]
  },
  {
   "cell_type": "code",
   "execution_count": 18,
   "metadata": {
    "collapsed": true
   },
   "outputs": [
    {
     "ename": "NameError",
     "evalue": "name 'ret' is not defined",
     "output_type": "error",
     "traceback": [
      "\u001b[1;31m---------------------------------------------------------------------------\u001b[0m",
      "\u001b[1;31mNameError\u001b[0m                                 Traceback (most recent call last)",
      "\u001b[1;32m<ipython-input-18-ef56a29b76d9>\u001b[0m in \u001b[0;36m<module>\u001b[1;34m()\u001b[0m\n\u001b[1;32m----> 1\u001b[1;33m \u001b[0mwr5\u001b[0m \u001b[1;33m=\u001b[0m \u001b[1;33m(\u001b[0m\u001b[1;33m(\u001b[0m\u001b[0mret\u001b[0m\u001b[1;33m[\u001b[0m\u001b[1;33m:\u001b[0m\u001b[1;33m:\u001b[0m\u001b[1;33m-\u001b[0m\u001b[1;36m1\u001b[0m\u001b[1;33m]\u001b[0m\u001b[1;33m)\u001b[0m\u001b[1;33m.\u001b[0m\u001b[0mrolling\u001b[0m\u001b[1;33m(\u001b[0m\u001b[1;36m5\u001b[0m\u001b[1;33m,\u001b[0m \u001b[0mmin_periods\u001b[0m\u001b[1;33m=\u001b[0m\u001b[1;36m1\u001b[0m\u001b[1;33m)\u001b[0m\u001b[1;33m.\u001b[0m\u001b[0mapply\u001b[0m\u001b[1;33m(\u001b[0m\u001b[0mnp\u001b[0m\u001b[1;33m.\u001b[0m\u001b[0mprod\u001b[0m\u001b[1;33m,\u001b[0m \u001b[0mraw\u001b[0m\u001b[1;33m=\u001b[0m\u001b[1;32mTrue\u001b[0m\u001b[1;33m)\u001b[0m\u001b[1;33m[\u001b[0m\u001b[1;33m:\u001b[0m\u001b[1;33m:\u001b[0m\u001b[1;33m-\u001b[0m\u001b[1;36m1\u001b[0m\u001b[1;33m]\u001b[0m\u001b[1;33m)\u001b[0m \u001b[1;33m/\u001b[0m         \u001b[1;33m(\u001b[0m\u001b[1;33m(\u001b[0m\u001b[0mdret\u001b[0m\u001b[1;33m[\u001b[0m\u001b[1;33m:\u001b[0m\u001b[1;33m:\u001b[0m\u001b[1;33m-\u001b[0m\u001b[1;36m1\u001b[0m\u001b[1;33m]\u001b[0m\u001b[1;33m)\u001b[0m\u001b[1;33m.\u001b[0m\u001b[0mrolling\u001b[0m\u001b[1;33m(\u001b[0m\u001b[1;36m5\u001b[0m\u001b[1;33m,\u001b[0m \u001b[0mmin_periods\u001b[0m\u001b[1;33m=\u001b[0m\u001b[1;36m1\u001b[0m\u001b[1;33m)\u001b[0m\u001b[1;33m.\u001b[0m\u001b[0mapply\u001b[0m\u001b[1;33m(\u001b[0m\u001b[0mnp\u001b[0m\u001b[1;33m.\u001b[0m\u001b[0mprod\u001b[0m\u001b[1;33m,\u001b[0m \u001b[0mraw\u001b[0m\u001b[1;33m=\u001b[0m\u001b[1;32mTrue\u001b[0m\u001b[1;33m)\u001b[0m\u001b[1;33m[\u001b[0m\u001b[1;33m:\u001b[0m\u001b[1;33m:\u001b[0m\u001b[1;33m-\u001b[0m\u001b[1;36m1\u001b[0m\u001b[1;33m]\u001b[0m\u001b[1;33m)\u001b[0m\u001b[1;33m\u001b[0m\u001b[0m\n\u001b[0m",
      "\u001b[1;31mNameError\u001b[0m: name 'ret' is not defined"
     ]
    }
   ],
   "source": [
    "wr5 = ((ret[::-1]).rolling(5, min_periods=1).apply(np.prod, raw=True)[::-1]) / \\\n",
    "        ((dret[::-1]).rolling(5, min_periods=1).apply(np.prod, raw=True)[::-1])"
   ]
  },
  {
   "cell_type": "code",
   "execution_count": 19,
   "metadata": {},
   "outputs": [],
   "source": [
    "#举例说明[::-1]和rolling的用法\n",
    "s = pd.Series(range(1,11))"
   ]
  },
  {
   "cell_type": "code",
   "execution_count": 20,
   "metadata": {
    "collapsed": true
   },
   "outputs": [
    {
     "data": {
      "text/plain": [
       "0     1\n",
       "1     2\n",
       "2     3\n",
       "3     4\n",
       "4     5\n",
       "5     6\n",
       "6     7\n",
       "7     8\n",
       "8     9\n",
       "9    10\n",
       "dtype: int64"
      ]
     },
     "execution_count": 20,
     "metadata": {},
     "output_type": "execute_result"
    }
   ],
   "source": [
    "s"
   ]
  },
  {
   "cell_type": "code",
   "execution_count": 21,
   "metadata": {
    "collapsed": true
   },
   "outputs": [
    {
     "data": {
      "text/plain": [
       "9    10\n",
       "8     9\n",
       "7     8\n",
       "6     7\n",
       "5     6\n",
       "4     5\n",
       "3     4\n",
       "2     3\n",
       "1     2\n",
       "0     1\n",
       "dtype: int64"
      ]
     },
     "execution_count": 21,
     "metadata": {},
     "output_type": "execute_result"
    }
   ],
   "source": [
    "s[::-1]"
   ]
  },
  {
   "cell_type": "code",
   "execution_count": 22,
   "metadata": {
    "collapsed": true
   },
   "outputs": [
    {
     "data": {
      "text/plain": [
       "0     NaN\n",
       "1     NaN\n",
       "2     NaN\n",
       "3     NaN\n",
       "4    15.0\n",
       "5    20.0\n",
       "6    25.0\n",
       "7    30.0\n",
       "8    35.0\n",
       "9    40.0\n",
       "dtype: float64"
      ]
     },
     "execution_count": 22,
     "metadata": {},
     "output_type": "execute_result"
    }
   ],
   "source": [
    "s.rolling(5).sum()"
   ]
  },
  {
   "cell_type": "code",
   "execution_count": 23,
   "metadata": {
    "collapsed": true
   },
   "outputs": [
    {
     "data": {
      "text/plain": [
       "0     1.0\n",
       "1     3.0\n",
       "2     6.0\n",
       "3    10.0\n",
       "4    15.0\n",
       "5    20.0\n",
       "6    25.0\n",
       "7    30.0\n",
       "8    35.0\n",
       "9    40.0\n",
       "dtype: float64"
      ]
     },
     "execution_count": 23,
     "metadata": {},
     "output_type": "execute_result"
    }
   ],
   "source": [
    "#min_periods=1意味着不满5个也会进行sum的计算，只要有1个就会开始求和\n",
    "s.rolling(5,min_periods=1).sum()"
   ]
  },
  {
   "cell_type": "code",
   "execution_count": 24,
   "metadata": {
    "collapsed": true
   },
   "outputs": [
    {
     "data": {
      "text/plain": [
       "9     NaN\n",
       "8     NaN\n",
       "7     NaN\n",
       "6     NaN\n",
       "5    40.0\n",
       "4    35.0\n",
       "3    30.0\n",
       "2    25.0\n",
       "1    20.0\n",
       "0    15.0\n",
       "dtype: float64"
      ]
     },
     "execution_count": 24,
     "metadata": {},
     "output_type": "execute_result"
    }
   ],
   "source": [
    "s[::-1].rolling(5).sum()"
   ]
  },
  {
   "cell_type": "code",
   "execution_count": 25,
   "metadata": {
    "collapsed": true
   },
   "outputs": [
    {
     "data": {
      "text/plain": [
       "0    15.0\n",
       "1    20.0\n",
       "2    25.0\n",
       "3    30.0\n",
       "4    35.0\n",
       "5    40.0\n",
       "6     NaN\n",
       "7     NaN\n",
       "8     NaN\n",
       "9     NaN\n",
       "dtype: float64"
      ]
     },
     "execution_count": 25,
     "metadata": {},
     "output_type": "execute_result"
    }
   ],
   "source": [
    "s[::-1].rolling(5).sum()[::-1]"
   ]
  },
  {
   "cell_type": "code",
   "execution_count": 26,
   "metadata": {
    "collapsed": true
   },
   "outputs": [
    {
     "data": {
      "text/plain": [
       "0    20.0\n",
       "1    25.0\n",
       "2    30.0\n",
       "3    35.0\n",
       "4    40.0\n",
       "5     NaN\n",
       "6     NaN\n",
       "7     NaN\n",
       "8     NaN\n",
       "9     NaN\n",
       "dtype: float64"
      ]
     },
     "execution_count": 26,
     "metadata": {},
     "output_type": "execute_result"
    }
   ],
   "source": [
    "s[::-1].rolling(5).sum()[::-1].shift(-1)"
   ]
  },
  {
   "cell_type": "code",
   "execution_count": 27,
   "metadata": {
    "collapsed": true
   },
   "outputs": [
    {
     "data": {
      "text/plain": [
       "0    20.0\n",
       "1    25.0\n",
       "2    30.0\n",
       "3    35.0\n",
       "4    40.0\n",
       "5    34.0\n",
       "6    27.0\n",
       "7    19.0\n",
       "8    10.0\n",
       "9     NaN\n",
       "dtype: float64"
      ]
     },
     "execution_count": 27,
     "metadata": {},
     "output_type": "execute_result"
    }
   ],
   "source": [
    "#即我们想要的效果，即t=0的时候，算的是t+1,t+5的结果，t=1的时候，算的是t+2,t+6的结果，后面我们再把sum替换成prod函数即可\n",
    "s[::-1].rolling(5, min_periods=1).sum()[::-1].shift(-1)"
   ]
  },
  {
   "cell_type": "code",
   "execution_count": 28,
   "metadata": {
    "collapsed": true
   },
   "outputs": [
    {
     "data": {
      "text/plain": [
       "0     1.0\n",
       "1     3.0\n",
       "2     6.0\n",
       "3    10.0\n",
       "4    15.0\n",
       "5    20.0\n",
       "6    25.0\n",
       "7    30.0\n",
       "8    35.0\n",
       "9    40.0\n",
       "dtype: float64"
      ]
     },
     "execution_count": 28,
     "metadata": {},
     "output_type": "execute_result"
    }
   ],
   "source": [
    "s.rolling(5, min_periods=1).sum()"
   ]
  },
  {
   "cell_type": "code",
   "execution_count": 29,
   "metadata": {
    "collapsed": true
   },
   "outputs": [
    {
     "data": {
      "text/plain": [
       "0        1.0\n",
       "1        2.0\n",
       "2        6.0\n",
       "3       24.0\n",
       "4      120.0\n",
       "5      720.0\n",
       "6     2520.0\n",
       "7     6720.0\n",
       "8    15120.0\n",
       "9    30240.0\n",
       "dtype: float64"
      ]
     },
     "execution_count": 29,
     "metadata": {},
     "output_type": "execute_result"
    }
   ],
   "source": [
    "s.rolling(5, min_periods=1).apply(np.prod, raw=True)"
   ]
  },
  {
   "cell_type": "code",
   "execution_count": 30,
   "metadata": {
    "collapsed": true
   },
   "outputs": [
    {
     "data": {
      "text/plain": [
       "0      720.0\n",
       "1     2520.0\n",
       "2     6720.0\n",
       "3    15120.0\n",
       "4    30240.0\n",
       "5     5040.0\n",
       "6      720.0\n",
       "7       90.0\n",
       "8       10.0\n",
       "9        NaN\n",
       "dtype: float64"
      ]
     },
     "execution_count": 30,
     "metadata": {},
     "output_type": "execute_result"
    }
   ],
   "source": [
    "s[::-1].rolling(5, min_periods=1).apply(np.prod, raw=True)[::-1].shift(-1)"
   ]
  },
  {
   "cell_type": "code",
   "execution_count": 31,
   "metadata": {
    "collapsed": true
   },
   "outputs": [
    {
     "data": {
      "text/plain": [
       "date\n",
       "1992-06-30    0.885246\n",
       "1993-06-30    2.741783\n",
       "1994-06-30    1.540542\n",
       "1995-06-30    3.087717\n",
       "1996-06-30    1.988631\n",
       "1997-06-30    1.271430\n",
       "1998-06-30    3.823007\n",
       "1999-06-30    4.185493\n",
       "2000-06-30    0.957955\n",
       "2001-12-31    0.922413\n",
       "2002-12-31    0.408099\n",
       "2003-12-31    1.373283\n",
       "2004-12-31    1.081156\n",
       "2005-12-31    0.901661\n",
       "2006-12-31    1.263697\n",
       "2007-12-31    0.767318\n",
       "2008-12-31    0.620778\n",
       "2009-12-31    1.341498\n",
       "2010-12-31    1.135748\n",
       "2011-12-31    1.153788\n",
       "2012-12-31    1.358594\n",
       "2013-12-31    1.486231\n",
       "Name: ret_p1, dtype: float64"
      ]
     },
     "execution_count": 31,
     "metadata": {},
     "output_type": "execute_result"
    }
   ],
   "source": [
    "test.ret_p1"
   ]
  },
  {
   "cell_type": "code",
   "execution_count": 32,
   "metadata": {
    "collapsed": true
   },
   "outputs": [
    {
     "data": {
      "text/plain": [
       "date\n",
       "1992-06-30     32.975429\n",
       "1993-06-30     45.979314\n",
       "1994-06-30    124.921070\n",
       "1995-06-30     38.756382\n",
       "1996-06-30     17.976892\n",
       "1997-06-30      5.770165\n",
       "1998-06-30      2.072731\n",
       "1999-06-30      0.535408\n",
       "2000-06-30      0.503945\n",
       "2001-12-31      0.690400\n",
       "2002-12-31      1.298106\n",
       "2003-12-31      0.586795\n",
       "2004-12-31      0.728095\n",
       "2005-12-31      0.917121\n",
       "2006-12-31      0.837355\n",
       "2007-12-31      1.482600\n",
       "2008-12-31      3.549555\n",
       "2009-12-31      2.645964\n",
       "2010-12-31      2.329711\n",
       "2011-12-31      2.019184\n",
       "2012-12-31      1.486231\n",
       "2013-12-31           NaN\n",
       "Name: ret_p1, dtype: float64"
      ]
     },
     "execution_count": 32,
     "metadata": {},
     "output_type": "execute_result"
    }
   ],
   "source": [
    "test.ret_p1[::-1].rolling(5, min_periods=1).apply(np.prod, raw=True)[::-1].shift(-1)\n",
    "# test.ret_p1.rolling(5, min_periods=1).apply(np.prod, raw=True)"
   ]
  },
  {
   "cell_type": "code",
   "execution_count": 33,
   "metadata": {
    "collapsed": true
   },
   "outputs": [
    {
     "data": {
      "text/plain": [
       "date\n",
       "1992-06-30    2.489071\n",
       "1993-06-30    2.581374\n",
       "1994-06-30    3.001522\n",
       "1995-06-30    2.791061\n",
       "1996-06-30    1.975333\n",
       "1997-06-30    1.172284\n",
       "1998-06-30    1.169177\n",
       "1999-06-30    1.073322\n",
       "2000-06-30    1.053890\n",
       "2001-12-31    1.416196\n",
       "2002-12-31    1.955406\n",
       "2003-12-31    0.931225\n",
       "2004-12-31    1.070250\n",
       "2005-12-31    1.155372\n",
       "2006-12-31    0.992235\n",
       "2007-12-31    1.061177\n",
       "2008-12-31    2.237557\n",
       "2009-12-31    1.743622\n",
       "2010-12-31    1.506608\n",
       "2011-12-31    1.511410\n",
       "2012-12-31    1.304742\n",
       "2013-12-31         NaN\n",
       "Name: dret_p1, dtype: float64"
      ]
     },
     "execution_count": 33,
     "metadata": {},
     "output_type": "execute_result"
    }
   ],
   "source": [
    "test.dret_p1[::-1].rolling(5, min_periods=1).apply(np.prod, raw=True)[::-1].shift(-1)"
   ]
  },
  {
   "cell_type": "code",
   "execution_count": 34,
   "metadata": {
    "collapsed": true
   },
   "outputs": [
    {
     "data": {
      "text/plain": [
       "date\n",
       "1992-06-30    13.248084\n",
       "1993-06-30    17.811951\n",
       "1994-06-30    41.619246\n",
       "1995-06-30    13.885897\n",
       "1996-06-30     9.100687\n",
       "1997-06-30     4.922155\n",
       "1998-06-30     1.772812\n",
       "1999-06-30     0.498832\n",
       "2000-06-30     0.478177\n",
       "2001-12-31     0.487503\n",
       "2002-12-31     0.663855\n",
       "2003-12-31     0.630132\n",
       "2004-12-31     0.680304\n",
       "2005-12-31     0.793789\n",
       "2006-12-31     0.843908\n",
       "2007-12-31     1.397127\n",
       "2008-12-31     1.586353\n",
       "2009-12-31     1.517510\n",
       "2010-12-31     1.546328\n",
       "2011-12-31     1.335961\n",
       "2012-12-31     1.139100\n",
       "2013-12-31          NaN\n",
       "dtype: float64"
      ]
     },
     "execution_count": 34,
     "metadata": {},
     "output_type": "execute_result"
    }
   ],
   "source": [
    "(test.ret_p1[::-1].rolling(5, min_periods=1).apply(np.prod, raw=True)[::-1].shift(-1)) / \\\n",
    "(test.dret_p1[::-1].rolling(5, min_periods=1).apply(np.prod, raw=True)[::-1].shift(-1))"
   ]
  },
  {
   "cell_type": "code",
   "execution_count": 35,
   "metadata": {
    "collapsed": true
   },
   "outputs": [
    {
     "data": {
      "text/plain": [
       "date\n",
       "1992-06-30     30.486357\n",
       "1993-06-30     43.397940\n",
       "1994-06-30    121.919548\n",
       "1995-06-30     35.965321\n",
       "1996-06-30     16.001558\n",
       "1997-06-30      4.597881\n",
       "1998-06-30      0.903554\n",
       "1999-06-30     -0.537914\n",
       "2000-06-30     -0.549944\n",
       "2001-12-31     -0.725796\n",
       "2002-12-31     -0.657300\n",
       "2003-12-31     -0.344430\n",
       "2004-12-31     -0.342154\n",
       "2005-12-31     -0.238251\n",
       "2006-12-31     -0.154880\n",
       "2007-12-31      0.421423\n",
       "2008-12-31      1.311998\n",
       "2009-12-31      0.902342\n",
       "2010-12-31      0.823103\n",
       "2011-12-31      0.507775\n",
       "2012-12-31      0.181489\n",
       "2013-12-31           NaN\n",
       "dtype: float64"
      ]
     },
     "execution_count": 35,
     "metadata": {},
     "output_type": "execute_result"
    }
   ],
   "source": [
    "(test.ret_p1[::-1].rolling(5, min_periods=1).apply(np.prod, raw=True)[::-1].shift(-1)) - \\\n",
    "(test.dret_p1[::-1].rolling(5, min_periods=1).apply(np.prod, raw=True)[::-1].shift(-1))"
   ]
  },
  {
   "cell_type": "code",
   "execution_count": null,
   "metadata": {},
   "outputs": [],
   "source": []
  },
  {
   "cell_type": "code",
   "execution_count": 36,
   "metadata": {
    "collapsed": true
   },
   "outputs": [
    {
     "data": {
      "text/html": [
       "<div>\n",
       "<style scoped>\n",
       "    .dataframe tbody tr th:only-of-type {\n",
       "        vertical-align: middle;\n",
       "    }\n",
       "\n",
       "    .dataframe tbody tr th {\n",
       "        vertical-align: top;\n",
       "    }\n",
       "\n",
       "    .dataframe thead th {\n",
       "        text-align: right;\n",
       "    }\n",
       "</style>\n",
       "<table border=\"1\" class=\"dataframe\">\n",
       "  <thead>\n",
       "    <tr style=\"text-align: right;\">\n",
       "      <th></th>\n",
       "      <th>date</th>\n",
       "      <th>permno</th>\n",
       "      <th>ret_p1</th>\n",
       "      <th>retx_p1</th>\n",
       "      <th>dret_p1</th>\n",
       "      <th>mv</th>\n",
       "      <th>mv_adj</th>\n",
       "    </tr>\n",
       "  </thead>\n",
       "  <tbody>\n",
       "    <tr>\n",
       "      <th>0</th>\n",
       "      <td>1986-10-31</td>\n",
       "      <td>10000</td>\n",
       "      <td>0.178571</td>\n",
       "      <td>0.178571</td>\n",
       "      <td>1.059979</td>\n",
       "      <td>3002.34375</td>\n",
       "      <td>5796.726244</td>\n",
       "    </tr>\n",
       "    <tr>\n",
       "      <th>1</th>\n",
       "      <td>1986-06-30</td>\n",
       "      <td>10001</td>\n",
       "      <td>1.032450</td>\n",
       "      <td>1.000000</td>\n",
       "      <td>1.252963</td>\n",
       "      <td>6033.12500</td>\n",
       "      <td>12067.131553</td>\n",
       "    </tr>\n",
       "    <tr>\n",
       "      <th>2</th>\n",
       "      <td>1987-06-30</td>\n",
       "      <td>10001</td>\n",
       "      <td>1.023885</td>\n",
       "      <td>0.959184</td>\n",
       "      <td>1.018842</td>\n",
       "      <td>5822.12500</td>\n",
       "      <td>11205.083735</td>\n",
       "    </tr>\n",
       "    <tr>\n",
       "      <th>3</th>\n",
       "      <td>1988-06-30</td>\n",
       "      <td>10001</td>\n",
       "      <td>1.140535</td>\n",
       "      <td>1.063829</td>\n",
       "      <td>0.827947</td>\n",
       "      <td>6200.00000</td>\n",
       "      <td>11459.064979</td>\n",
       "    </tr>\n",
       "    <tr>\n",
       "      <th>4</th>\n",
       "      <td>1989-06-30</td>\n",
       "      <td>10001</td>\n",
       "      <td>1.199811</td>\n",
       "      <td>1.120000</td>\n",
       "      <td>1.005611</td>\n",
       "      <td>7007.00000</td>\n",
       "      <td>12326.466763</td>\n",
       "    </tr>\n",
       "  </tbody>\n",
       "</table>\n",
       "</div>"
      ],
      "text/plain": [
       "        date  permno    ret_p1   retx_p1   dret_p1          mv        mv_adj\n",
       "0 1986-10-31   10000  0.178571  0.178571  1.059979  3002.34375   5796.726244\n",
       "1 1986-06-30   10001  1.032450  1.000000  1.252963  6033.12500  12067.131553\n",
       "2 1987-06-30   10001  1.023885  0.959184  1.018842  5822.12500  11205.083735\n",
       "3 1988-06-30   10001  1.140535  1.063829  0.827947  6200.00000  11459.064979\n",
       "4 1989-06-30   10001  1.199811  1.120000  1.005611  7007.00000  12326.466763"
      ]
     },
     "execution_count": 36,
     "metadata": {},
     "output_type": "execute_result"
    }
   ],
   "source": [
    "crsp_fa.head()"
   ]
  },
  {
   "cell_type": "markdown",
   "metadata": {},
   "source": [
    "验证mv adjust是否正确 接下来两个步骤可忽略"
   ]
  },
  {
   "cell_type": "code",
   "execution_count": 7,
   "metadata": {},
   "outputs": [],
   "source": [
    "cpi = pd.read_excel('data/CPIAUCSL.xlsx', index_col=0)"
   ]
  },
  {
   "cell_type": "code",
   "execution_count": 11,
   "metadata": {
    "collapsed": true
   },
   "outputs": [
    {
     "data": {
      "text/plain": [
       "9.0949470177292824e-13"
      ]
     },
     "execution_count": 11,
     "metadata": {},
     "output_type": "execute_result"
    }
   ],
   "source": [
    "crsp_fa = crsp_fa.set_index('date')\n",
    "(crsp_fa['1986-10-31'].query('permno == 10000').mv.iloc[0] / \\\n",
    "cpi['1986-11'].cpi_adjust.iloc[0]) - \\\n",
    "(crsp_fa['1986-10-31'].query('permno == 10000').mv_adj.iloc[0])"
   ]
  },
  {
   "cell_type": "code",
   "execution_count": 26,
   "metadata": {},
   "outputs": [],
   "source": [
    "crsp_fa = crsp_fa.reset_index()"
   ]
  },
  {
   "cell_type": "markdown",
   "metadata": {},
   "source": [
    "查看firm-years数量\n",
    "\n",
    "ps:因为流通股数的单位默认是1000, 故mv_adj只需要大于50000即可"
   ]
  },
  {
   "cell_type": "code",
   "execution_count": 20,
   "metadata": {
    "collapsed": true
   },
   "outputs": [
    {
     "data": {
      "text/plain": [
       "140980"
      ]
     },
     "execution_count": 20,
     "metadata": {},
     "output_type": "execute_result"
    }
   ],
   "source": [
    "'''\n",
    "crsp_fa = crsp_fa.reset_index().set_index('date')[:'2008']\n",
    "crsp_fa[(crsp_fa.mv_adj * crsp_fa.retx_p1) >= 5e+4].shape[0]\n",
    "'''"
   ]
  },
  {
   "cell_type": "code",
   "execution_count": 29,
   "metadata": {},
   "outputs": [
    {
     "data": {
      "text/plain": [
       "140149"
      ]
     },
     "execution_count": 29,
     "metadata": {},
     "output_type": "execute_result"
    }
   ],
   "source": [
    "'''\n",
    "crsp_fa = crsp_fa.reset_index().set_index('date')[:'2008']\n",
    "crsp_fa[(crsp_fa.mv_adj.shift(-1) * crsp_fa.retx_p1) >= 5e+4].shape[0]\n",
    "'''"
   ]
  },
  {
   "cell_type": "code",
   "execution_count": 6,
   "metadata": {},
   "outputs": [],
   "source": [
    "crsp_fa = crsp_fa[crsp_fa.mv_adj.shift(1) * crsp_fa.retx_p1 >= 5e+4]"
   ]
  },
  {
   "cell_type": "code",
   "execution_count": 7,
   "metadata": {
    "collapsed": true
   },
   "outputs": [
    {
     "data": {
      "text/html": [
       "<div>\n",
       "<style scoped>\n",
       "    .dataframe tbody tr th:only-of-type {\n",
       "        vertical-align: middle;\n",
       "    }\n",
       "\n",
       "    .dataframe tbody tr th {\n",
       "        vertical-align: top;\n",
       "    }\n",
       "\n",
       "    .dataframe thead th {\n",
       "        text-align: right;\n",
       "    }\n",
       "</style>\n",
       "<table border=\"1\" class=\"dataframe\">\n",
       "  <thead>\n",
       "    <tr style=\"text-align: right;\">\n",
       "      <th></th>\n",
       "      <th>date</th>\n",
       "      <th>permno</th>\n",
       "      <th>ret_p1</th>\n",
       "      <th>retx_p1</th>\n",
       "      <th>dret_p1</th>\n",
       "      <th>mv</th>\n",
       "      <th>mv_adj</th>\n",
       "    </tr>\n",
       "  </thead>\n",
       "  <tbody>\n",
       "    <tr>\n",
       "      <th>26</th>\n",
       "      <td>2011-12-31</td>\n",
       "      <td>10001</td>\n",
       "      <td>1.139163</td>\n",
       "      <td>1.085551</td>\n",
       "      <td>0.855225</td>\n",
       "      <td>9.311868e+04</td>\n",
       "      <td>8.671519e+04</td>\n",
       "    </tr>\n",
       "    <tr>\n",
       "      <th>27</th>\n",
       "      <td>2012-12-31</td>\n",
       "      <td>10001</td>\n",
       "      <td>0.860620</td>\n",
       "      <td>0.816988</td>\n",
       "      <td>1.171750</td>\n",
       "      <td>7.610481e+04</td>\n",
       "      <td>6.969756e+04</td>\n",
       "    </tr>\n",
       "    <tr>\n",
       "      <th>28</th>\n",
       "      <td>2013-12-31</td>\n",
       "      <td>10001</td>\n",
       "      <td>0.909306</td>\n",
       "      <td>0.860665</td>\n",
       "      <td>1.373769</td>\n",
       "      <td>8.392956e+04</td>\n",
       "      <td>7.568457e+04</td>\n",
       "    </tr>\n",
       "    <tr>\n",
       "      <th>29</th>\n",
       "      <td>1986-12-31</td>\n",
       "      <td>10002</td>\n",
       "      <td>1.064515</td>\n",
       "      <td>1.064515</td>\n",
       "      <td>1.005044</td>\n",
       "      <td>1.454062e+04</td>\n",
       "      <td>2.769428e+04</td>\n",
       "    </tr>\n",
       "    <tr>\n",
       "      <th>37</th>\n",
       "      <td>1994-12-31</td>\n",
       "      <td>10002</td>\n",
       "      <td>1.039473</td>\n",
       "      <td>1.019418</td>\n",
       "      <td>0.927850</td>\n",
       "      <td>3.936188e+04</td>\n",
       "      <td>5.549214e+04</td>\n",
       "    </tr>\n",
       "    <tr>\n",
       "      <th>38</th>\n",
       "      <td>1995-12-31</td>\n",
       "      <td>10002</td>\n",
       "      <td>1.092129</td>\n",
       "      <td>1.066668</td>\n",
       "      <td>1.373491</td>\n",
       "      <td>4.202800e+04</td>\n",
       "      <td>5.764220e+04</td>\n",
       "    </tr>\n",
       "    <tr>\n",
       "      <th>39</th>\n",
       "      <td>1996-12-31</td>\n",
       "      <td>10002</td>\n",
       "      <td>0.955922</td>\n",
       "      <td>0.928571</td>\n",
       "      <td>1.116432</td>\n",
       "      <td>3.902600e+04</td>\n",
       "      <td>5.194669e+04</td>\n",
       "    </tr>\n",
       "    <tr>\n",
       "      <th>40</th>\n",
       "      <td>1997-12-31</td>\n",
       "      <td>10002</td>\n",
       "      <td>1.962960</td>\n",
       "      <td>1.884614</td>\n",
       "      <td>1.257241</td>\n",
       "      <td>1.040270e+05</td>\n",
       "      <td>1.362458e+05</td>\n",
       "    </tr>\n",
       "    <tr>\n",
       "      <th>41</th>\n",
       "      <td>1998-12-31</td>\n",
       "      <td>10002</td>\n",
       "      <td>0.951829</td>\n",
       "      <td>0.933673</td>\n",
       "      <td>0.942657</td>\n",
       "      <td>1.178672e+05</td>\n",
       "      <td>1.518419e+05</td>\n",
       "    </tr>\n",
       "    <tr>\n",
       "      <th>42</th>\n",
       "      <td>1999-12-31</td>\n",
       "      <td>10002</td>\n",
       "      <td>0.820407</td>\n",
       "      <td>0.799180</td>\n",
       "      <td>1.374556</td>\n",
       "      <td>9.419719e+04</td>\n",
       "      <td>1.180519e+05</td>\n",
       "    </tr>\n",
       "    <tr>\n",
       "      <th>43</th>\n",
       "      <td>2000-12-31</td>\n",
       "      <td>10002</td>\n",
       "      <td>0.787577</td>\n",
       "      <td>0.753847</td>\n",
       "      <td>0.921717</td>\n",
       "      <td>7.833262e+04</td>\n",
       "      <td>9.464776e+04</td>\n",
       "    </tr>\n",
       "    <tr>\n",
       "      <th>44</th>\n",
       "      <td>2001-12-31</td>\n",
       "      <td>10002</td>\n",
       "      <td>1.119581</td>\n",
       "      <td>1.076463</td>\n",
       "      <td>1.251223</td>\n",
       "      <td>8.436170e+04</td>\n",
       "      <td>1.007280e+05</td>\n",
       "    </tr>\n",
       "    <tr>\n",
       "      <th>45</th>\n",
       "      <td>2002-12-31</td>\n",
       "      <td>10002</td>\n",
       "      <td>1.171632</td>\n",
       "      <td>1.122345</td>\n",
       "      <td>0.896799</td>\n",
       "      <td>9.689190e+04</td>\n",
       "      <td>1.125846e+05</td>\n",
       "    </tr>\n",
       "    <tr>\n",
       "      <th>46</th>\n",
       "      <td>2003-12-31</td>\n",
       "      <td>10002</td>\n",
       "      <td>1.492715</td>\n",
       "      <td>1.443241</td>\n",
       "      <td>1.665564</td>\n",
       "      <td>1.400949e+05</td>\n",
       "      <td>1.595518e+05</td>\n",
       "    </tr>\n",
       "    <tr>\n",
       "      <th>47</th>\n",
       "      <td>2004-12-31</td>\n",
       "      <td>10002</td>\n",
       "      <td>1.578180</td>\n",
       "      <td>1.536205</td>\n",
       "      <td>1.186930</td>\n",
       "      <td>2.712268e+05</td>\n",
       "      <td>3.003511e+05</td>\n",
       "    </tr>\n",
       "    <tr>\n",
       "      <th>48</th>\n",
       "      <td>2005-12-31</td>\n",
       "      <td>10002</td>\n",
       "      <td>0.838426</td>\n",
       "      <td>0.816740</td>\n",
       "      <td>1.041902</td>\n",
       "      <td>2.238537e+05</td>\n",
       "      <td>2.383138e+05</td>\n",
       "    </tr>\n",
       "    <tr>\n",
       "      <th>49</th>\n",
       "      <td>2006-12-31</td>\n",
       "      <td>10002</td>\n",
       "      <td>1.296737</td>\n",
       "      <td>1.269654</td>\n",
       "      <td>1.196748</td>\n",
       "      <td>2.849563e+05</td>\n",
       "      <td>2.971943e+05</td>\n",
       "    </tr>\n",
       "    <tr>\n",
       "      <th>50</th>\n",
       "      <td>2007-12-31</td>\n",
       "      <td>10002</td>\n",
       "      <td>0.489115</td>\n",
       "      <td>0.474138</td>\n",
       "      <td>0.941746</td>\n",
       "      <td>2.117137e+05</td>\n",
       "      <td>2.117137e+05</td>\n",
       "    </tr>\n",
       "    <tr>\n",
       "      <th>51</th>\n",
       "      <td>2008-12-31</td>\n",
       "      <td>10002</td>\n",
       "      <td>1.282612</td>\n",
       "      <td>1.219834</td>\n",
       "      <td>0.581334</td>\n",
       "      <td>2.591118e+05</td>\n",
       "      <td>2.594064e+05</td>\n",
       "    </tr>\n",
       "    <tr>\n",
       "      <th>52</th>\n",
       "      <td>2009-12-31</td>\n",
       "      <td>10002</td>\n",
       "      <td>0.195867</td>\n",
       "      <td>0.194444</td>\n",
       "      <td>1.490591</td>\n",
       "      <td>5.060958e+04</td>\n",
       "      <td>4.937301e+04</td>\n",
       "    </tr>\n",
       "    <tr>\n",
       "      <th>56</th>\n",
       "      <td>1988-05-31</td>\n",
       "      <td>10003</td>\n",
       "      <td>1.071885</td>\n",
       "      <td>1.020548</td>\n",
       "      <td>0.869064</td>\n",
       "      <td>4.086325e+04</td>\n",
       "      <td>7.530716e+04</td>\n",
       "    </tr>\n",
       "    <tr>\n",
       "      <th>57</th>\n",
       "      <td>1989-05-31</td>\n",
       "      <td>10003</td>\n",
       "      <td>1.082525</td>\n",
       "      <td>1.026844</td>\n",
       "      <td>1.129509</td>\n",
       "      <td>4.196025e+04</td>\n",
       "      <td>7.352782e+04</td>\n",
       "    </tr>\n",
       "    <tr>\n",
       "      <th>70</th>\n",
       "      <td>1974-12-31</td>\n",
       "      <td>10006</td>\n",
       "      <td>0.607281</td>\n",
       "      <td>0.570194</td>\n",
       "      <td>0.723338</td>\n",
       "      <td>1.857240e+05</td>\n",
       "      <td>7.534571e+05</td>\n",
       "    </tr>\n",
       "    <tr>\n",
       "      <th>71</th>\n",
       "      <td>1975-12-31</td>\n",
       "      <td>10006</td>\n",
       "      <td>1.241651</td>\n",
       "      <td>1.166668</td>\n",
       "      <td>1.340881</td>\n",
       "      <td>2.194500e+05</td>\n",
       "      <td>8.344370e+05</td>\n",
       "    </tr>\n",
       "    <tr>\n",
       "      <th>72</th>\n",
       "      <td>1976-12-31</td>\n",
       "      <td>10006</td>\n",
       "      <td>1.444700</td>\n",
       "      <td>1.368507</td>\n",
       "      <td>1.408452</td>\n",
       "      <td>3.047094e+05</td>\n",
       "      <td>1.101387e+06</td>\n",
       "    </tr>\n",
       "    <tr>\n",
       "      <th>73</th>\n",
       "      <td>1977-12-31</td>\n",
       "      <td>10006</td>\n",
       "      <td>1.039197</td>\n",
       "      <td>0.982206</td>\n",
       "      <td>1.073809</td>\n",
       "      <td>3.012195e+05</td>\n",
       "      <td>1.019313e+06</td>\n",
       "    </tr>\n",
       "    <tr>\n",
       "      <th>74</th>\n",
       "      <td>1978-12-31</td>\n",
       "      <td>10006</td>\n",
       "      <td>0.949067</td>\n",
       "      <td>0.891305</td>\n",
       "      <td>1.111162</td>\n",
       "      <td>2.693085e+05</td>\n",
       "      <td>8.341644e+05</td>\n",
       "    </tr>\n",
       "    <tr>\n",
       "      <th>75</th>\n",
       "      <td>1979-12-31</td>\n",
       "      <td>10006</td>\n",
       "      <td>1.188959</td>\n",
       "      <td>1.113822</td>\n",
       "      <td>1.331115</td>\n",
       "      <td>3.034208e+05</td>\n",
       "      <td>8.253589e+05</td>\n",
       "    </tr>\n",
       "    <tr>\n",
       "      <th>76</th>\n",
       "      <td>1980-12-31</td>\n",
       "      <td>10006</td>\n",
       "      <td>1.430885</td>\n",
       "      <td>1.343066</td>\n",
       "      <td>1.329421</td>\n",
       "      <td>4.144140e+05</td>\n",
       "      <td>1.008347e+06</td>\n",
       "    </tr>\n",
       "    <tr>\n",
       "      <th>77</th>\n",
       "      <td>1981-12-31</td>\n",
       "      <td>10006</td>\n",
       "      <td>0.944868</td>\n",
       "      <td>0.888586</td>\n",
       "      <td>1.031059</td>\n",
       "      <td>3.742515e+05</td>\n",
       "      <td>8.411699e+05</td>\n",
       "    </tr>\n",
       "    <tr>\n",
       "      <th>...</th>\n",
       "      <td>...</td>\n",
       "      <td>...</td>\n",
       "      <td>...</td>\n",
       "      <td>...</td>\n",
       "      <td>...</td>\n",
       "      <td>...</td>\n",
       "      <td>...</td>\n",
       "    </tr>\n",
       "    <tr>\n",
       "      <th>236706</th>\n",
       "      <td>2012-12-31</td>\n",
       "      <td>93422</td>\n",
       "      <td>1.035952</td>\n",
       "      <td>1.033104</td>\n",
       "      <td>1.158088</td>\n",
       "      <td>5.391602e+06</td>\n",
       "      <td>4.937684e+06</td>\n",
       "    </tr>\n",
       "    <tr>\n",
       "      <th>236707</th>\n",
       "      <td>2013-12-31</td>\n",
       "      <td>93422</td>\n",
       "      <td>1.015309</td>\n",
       "      <td>1.012552</td>\n",
       "      <td>1.372511</td>\n",
       "      <td>5.494963e+06</td>\n",
       "      <td>4.955154e+06</td>\n",
       "    </tr>\n",
       "    <tr>\n",
       "      <th>236708</th>\n",
       "      <td>2010-12-31</td>\n",
       "      <td>93423</td>\n",
       "      <td>1.619386</td>\n",
       "      <td>1.617602</td>\n",
       "      <td>1.198992</td>\n",
       "      <td>1.514931e+06</td>\n",
       "      <td>1.453200e+06</td>\n",
       "    </tr>\n",
       "    <tr>\n",
       "      <th>236709</th>\n",
       "      <td>2011-12-31</td>\n",
       "      <td>93423</td>\n",
       "      <td>1.524280</td>\n",
       "      <td>1.516177</td>\n",
       "      <td>0.963586</td>\n",
       "      <td>2.269107e+06</td>\n",
       "      <td>2.113068e+06</td>\n",
       "    </tr>\n",
       "    <tr>\n",
       "      <th>236710</th>\n",
       "      <td>2012-12-31</td>\n",
       "      <td>93423</td>\n",
       "      <td>1.562538</td>\n",
       "      <td>1.484000</td>\n",
       "      <td>1.158088</td>\n",
       "      <td>3.263735e+06</td>\n",
       "      <td>2.988962e+06</td>\n",
       "    </tr>\n",
       "    <tr>\n",
       "      <th>236711</th>\n",
       "      <td>2013-12-31</td>\n",
       "      <td>93423</td>\n",
       "      <td>1.266822</td>\n",
       "      <td>1.203268</td>\n",
       "      <td>1.372511</td>\n",
       "      <td>3.502760e+06</td>\n",
       "      <td>3.158659e+06</td>\n",
       "    </tr>\n",
       "    <tr>\n",
       "      <th>236712</th>\n",
       "      <td>2010-12-31</td>\n",
       "      <td>93426</td>\n",
       "      <td>1.489329</td>\n",
       "      <td>1.489329</td>\n",
       "      <td>1.264406</td>\n",
       "      <td>2.318639e+05</td>\n",
       "      <td>2.224158e+05</td>\n",
       "    </tr>\n",
       "    <tr>\n",
       "      <th>236713</th>\n",
       "      <td>2011-12-31</td>\n",
       "      <td>93426</td>\n",
       "      <td>0.848193</td>\n",
       "      <td>0.848193</td>\n",
       "      <td>0.917746</td>\n",
       "      <td>1.968896e+05</td>\n",
       "      <td>1.833501e+05</td>\n",
       "    </tr>\n",
       "    <tr>\n",
       "      <th>236714</th>\n",
       "      <td>2012-12-31</td>\n",
       "      <td>93426</td>\n",
       "      <td>0.827284</td>\n",
       "      <td>0.827284</td>\n",
       "      <td>1.154678</td>\n",
       "      <td>1.632141e+05</td>\n",
       "      <td>1.494732e+05</td>\n",
       "    </tr>\n",
       "    <tr>\n",
       "      <th>236715</th>\n",
       "      <td>2013-12-31</td>\n",
       "      <td>93426</td>\n",
       "      <td>1.126324</td>\n",
       "      <td>1.126324</td>\n",
       "      <td>1.331264</td>\n",
       "      <td>1.892370e+05</td>\n",
       "      <td>1.706469e+05</td>\n",
       "    </tr>\n",
       "    <tr>\n",
       "      <th>236716</th>\n",
       "      <td>2010-06-30</td>\n",
       "      <td>93427</td>\n",
       "      <td>1.000000</td>\n",
       "      <td>1.000000</td>\n",
       "      <td>0.945595</td>\n",
       "      <td>3.610608e+05</td>\n",
       "      <td>3.634020e+05</td>\n",
       "    </tr>\n",
       "    <tr>\n",
       "      <th>236717</th>\n",
       "      <td>2011-06-30</td>\n",
       "      <td>93427</td>\n",
       "      <td>2.269161</td>\n",
       "      <td>2.269161</td>\n",
       "      <td>1.324858</td>\n",
       "      <td>8.298661e+05</td>\n",
       "      <td>8.063797e+05</td>\n",
       "    </tr>\n",
       "    <tr>\n",
       "      <th>236718</th>\n",
       "      <td>2012-06-30</td>\n",
       "      <td>93427</td>\n",
       "      <td>0.516886</td>\n",
       "      <td>0.516886</td>\n",
       "      <td>0.969886</td>\n",
       "      <td>4.325734e+05</td>\n",
       "      <td>4.144560e+05</td>\n",
       "    </tr>\n",
       "    <tr>\n",
       "      <th>236719</th>\n",
       "      <td>2013-06-30</td>\n",
       "      <td>93427</td>\n",
       "      <td>1.115539</td>\n",
       "      <td>1.115539</td>\n",
       "      <td>1.222292</td>\n",
       "      <td>4.847640e+05</td>\n",
       "      <td>4.558655e+05</td>\n",
       "    </tr>\n",
       "    <tr>\n",
       "      <th>236720</th>\n",
       "      <td>2010-12-31</td>\n",
       "      <td>93428</td>\n",
       "      <td>2.792981</td>\n",
       "      <td>2.792981</td>\n",
       "      <td>1.189863</td>\n",
       "      <td>6.077938e+05</td>\n",
       "      <td>5.830272e+05</td>\n",
       "    </tr>\n",
       "    <tr>\n",
       "      <th>236721</th>\n",
       "      <td>2011-12-31</td>\n",
       "      <td>93428</td>\n",
       "      <td>1.264654</td>\n",
       "      <td>1.264654</td>\n",
       "      <td>0.922324</td>\n",
       "      <td>8.214400e+05</td>\n",
       "      <td>7.649521e+05</td>\n",
       "    </tr>\n",
       "    <tr>\n",
       "      <th>236722</th>\n",
       "      <td>2012-12-31</td>\n",
       "      <td>93428</td>\n",
       "      <td>1.202980</td>\n",
       "      <td>1.202980</td>\n",
       "      <td>1.147465</td>\n",
       "      <td>1.014079e+06</td>\n",
       "      <td>9.287042e+05</td>\n",
       "    </tr>\n",
       "    <tr>\n",
       "      <th>236723</th>\n",
       "      <td>2013-12-31</td>\n",
       "      <td>93428</td>\n",
       "      <td>0.751994</td>\n",
       "      <td>0.751994</td>\n",
       "      <td>1.377158</td>\n",
       "      <td>7.732926e+05</td>\n",
       "      <td>6.973266e+05</td>\n",
       "    </tr>\n",
       "    <tr>\n",
       "      <th>236724</th>\n",
       "      <td>2010-12-31</td>\n",
       "      <td>93429</td>\n",
       "      <td>0.708867</td>\n",
       "      <td>0.702304</td>\n",
       "      <td>1.187379</td>\n",
       "      <td>1.183759e+06</td>\n",
       "      <td>1.135523e+06</td>\n",
       "    </tr>\n",
       "    <tr>\n",
       "      <th>236725</th>\n",
       "      <td>2011-12-31</td>\n",
       "      <td>93429</td>\n",
       "      <td>1.150273</td>\n",
       "      <td>1.131232</td>\n",
       "      <td>0.963586</td>\n",
       "      <td>2.295566e+06</td>\n",
       "      <td>2.137707e+06</td>\n",
       "    </tr>\n",
       "    <tr>\n",
       "      <th>236726</th>\n",
       "      <td>2012-12-31</td>\n",
       "      <td>93429</td>\n",
       "      <td>1.191022</td>\n",
       "      <td>1.139211</td>\n",
       "      <td>1.158088</td>\n",
       "      <td>2.571033e+06</td>\n",
       "      <td>2.354578e+06</td>\n",
       "    </tr>\n",
       "    <tr>\n",
       "      <th>236727</th>\n",
       "      <td>2013-12-31</td>\n",
       "      <td>93429</td>\n",
       "      <td>1.808082</td>\n",
       "      <td>1.763745</td>\n",
       "      <td>1.372511</td>\n",
       "      <td>4.508621e+06</td>\n",
       "      <td>4.065707e+06</td>\n",
       "    </tr>\n",
       "    <tr>\n",
       "      <th>236728</th>\n",
       "      <td>2010-12-31</td>\n",
       "      <td>93430</td>\n",
       "      <td>0.778645</td>\n",
       "      <td>0.778645</td>\n",
       "      <td>1.167740</td>\n",
       "      <td>8.362368e+04</td>\n",
       "      <td>8.021616e+04</td>\n",
       "    </tr>\n",
       "    <tr>\n",
       "      <th>236729</th>\n",
       "      <td>2010-06-30</td>\n",
       "      <td>93432</td>\n",
       "      <td>1.000000</td>\n",
       "      <td>1.000000</td>\n",
       "      <td>0.923548</td>\n",
       "      <td>1.103499e+05</td>\n",
       "      <td>1.110654e+05</td>\n",
       "    </tr>\n",
       "    <tr>\n",
       "      <th>236730</th>\n",
       "      <td>2010-12-31</td>\n",
       "      <td>93433</td>\n",
       "      <td>2.110229</td>\n",
       "      <td>2.110229</td>\n",
       "      <td>1.187379</td>\n",
       "      <td>8.000699e+05</td>\n",
       "      <td>7.674684e+05</td>\n",
       "    </tr>\n",
       "    <tr>\n",
       "      <th>236737</th>\n",
       "      <td>2013-06-30</td>\n",
       "      <td>93434</td>\n",
       "      <td>1.584120</td>\n",
       "      <td>1.584120</td>\n",
       "      <td>1.146524</td>\n",
       "      <td>9.707392e+04</td>\n",
       "      <td>9.128700e+04</td>\n",
       "    </tr>\n",
       "    <tr>\n",
       "      <th>236738</th>\n",
       "      <td>2010-12-31</td>\n",
       "      <td>93435</td>\n",
       "      <td>1.066129</td>\n",
       "      <td>1.066129</td>\n",
       "      <td>1.167740</td>\n",
       "      <td>1.550177e+05</td>\n",
       "      <td>1.487010e+05</td>\n",
       "    </tr>\n",
       "    <tr>\n",
       "      <th>236741</th>\n",
       "      <td>2011-12-31</td>\n",
       "      <td>93436</td>\n",
       "      <td>1.072474</td>\n",
       "      <td>1.072474</td>\n",
       "      <td>1.000139</td>\n",
       "      <td>2.987490e+06</td>\n",
       "      <td>2.782050e+06</td>\n",
       "    </tr>\n",
       "    <tr>\n",
       "      <th>236742</th>\n",
       "      <td>2012-12-31</td>\n",
       "      <td>93436</td>\n",
       "      <td>1.185924</td>\n",
       "      <td>1.185924</td>\n",
       "      <td>1.158088</td>\n",
       "      <td>3.868428e+06</td>\n",
       "      <td>3.542746e+06</td>\n",
       "    </tr>\n",
       "    <tr>\n",
       "      <th>236743</th>\n",
       "      <td>2013-12-31</td>\n",
       "      <td>93436</td>\n",
       "      <td>4.441361</td>\n",
       "      <td>4.441361</td>\n",
       "      <td>1.372511</td>\n",
       "      <td>1.851646e+07</td>\n",
       "      <td>1.669745e+07</td>\n",
       "    </tr>\n",
       "  </tbody>\n",
       "</table>\n",
       "<p>162389 rows × 7 columns</p>\n",
       "</div>"
      ],
      "text/plain": [
       "             date  permno    ret_p1   retx_p1   dret_p1            mv  \\\n",
       "26     2011-12-31   10001  1.139163  1.085551  0.855225  9.311868e+04   \n",
       "27     2012-12-31   10001  0.860620  0.816988  1.171750  7.610481e+04   \n",
       "28     2013-12-31   10001  0.909306  0.860665  1.373769  8.392956e+04   \n",
       "29     1986-12-31   10002  1.064515  1.064515  1.005044  1.454062e+04   \n",
       "37     1994-12-31   10002  1.039473  1.019418  0.927850  3.936188e+04   \n",
       "38     1995-12-31   10002  1.092129  1.066668  1.373491  4.202800e+04   \n",
       "39     1996-12-31   10002  0.955922  0.928571  1.116432  3.902600e+04   \n",
       "40     1997-12-31   10002  1.962960  1.884614  1.257241  1.040270e+05   \n",
       "41     1998-12-31   10002  0.951829  0.933673  0.942657  1.178672e+05   \n",
       "42     1999-12-31   10002  0.820407  0.799180  1.374556  9.419719e+04   \n",
       "43     2000-12-31   10002  0.787577  0.753847  0.921717  7.833262e+04   \n",
       "44     2001-12-31   10002  1.119581  1.076463  1.251223  8.436170e+04   \n",
       "45     2002-12-31   10002  1.171632  1.122345  0.896799  9.689190e+04   \n",
       "46     2003-12-31   10002  1.492715  1.443241  1.665564  1.400949e+05   \n",
       "47     2004-12-31   10002  1.578180  1.536205  1.186930  2.712268e+05   \n",
       "48     2005-12-31   10002  0.838426  0.816740  1.041902  2.238537e+05   \n",
       "49     2006-12-31   10002  1.296737  1.269654  1.196748  2.849563e+05   \n",
       "50     2007-12-31   10002  0.489115  0.474138  0.941746  2.117137e+05   \n",
       "51     2008-12-31   10002  1.282612  1.219834  0.581334  2.591118e+05   \n",
       "52     2009-12-31   10002  0.195867  0.194444  1.490591  5.060958e+04   \n",
       "56     1988-05-31   10003  1.071885  1.020548  0.869064  4.086325e+04   \n",
       "57     1989-05-31   10003  1.082525  1.026844  1.129509  4.196025e+04   \n",
       "70     1974-12-31   10006  0.607281  0.570194  0.723338  1.857240e+05   \n",
       "71     1975-12-31   10006  1.241651  1.166668  1.340881  2.194500e+05   \n",
       "72     1976-12-31   10006  1.444700  1.368507  1.408452  3.047094e+05   \n",
       "73     1977-12-31   10006  1.039197  0.982206  1.073809  3.012195e+05   \n",
       "74     1978-12-31   10006  0.949067  0.891305  1.111162  2.693085e+05   \n",
       "75     1979-12-31   10006  1.188959  1.113822  1.331115  3.034208e+05   \n",
       "76     1980-12-31   10006  1.430885  1.343066  1.329421  4.144140e+05   \n",
       "77     1981-12-31   10006  0.944868  0.888586  1.031059  3.742515e+05   \n",
       "...           ...     ...       ...       ...       ...           ...   \n",
       "236706 2012-12-31   93422  1.035952  1.033104  1.158088  5.391602e+06   \n",
       "236707 2013-12-31   93422  1.015309  1.012552  1.372511  5.494963e+06   \n",
       "236708 2010-12-31   93423  1.619386  1.617602  1.198992  1.514931e+06   \n",
       "236709 2011-12-31   93423  1.524280  1.516177  0.963586  2.269107e+06   \n",
       "236710 2012-12-31   93423  1.562538  1.484000  1.158088  3.263735e+06   \n",
       "236711 2013-12-31   93423  1.266822  1.203268  1.372511  3.502760e+06   \n",
       "236712 2010-12-31   93426  1.489329  1.489329  1.264406  2.318639e+05   \n",
       "236713 2011-12-31   93426  0.848193  0.848193  0.917746  1.968896e+05   \n",
       "236714 2012-12-31   93426  0.827284  0.827284  1.154678  1.632141e+05   \n",
       "236715 2013-12-31   93426  1.126324  1.126324  1.331264  1.892370e+05   \n",
       "236716 2010-06-30   93427  1.000000  1.000000  0.945595  3.610608e+05   \n",
       "236717 2011-06-30   93427  2.269161  2.269161  1.324858  8.298661e+05   \n",
       "236718 2012-06-30   93427  0.516886  0.516886  0.969886  4.325734e+05   \n",
       "236719 2013-06-30   93427  1.115539  1.115539  1.222292  4.847640e+05   \n",
       "236720 2010-12-31   93428  2.792981  2.792981  1.189863  6.077938e+05   \n",
       "236721 2011-12-31   93428  1.264654  1.264654  0.922324  8.214400e+05   \n",
       "236722 2012-12-31   93428  1.202980  1.202980  1.147465  1.014079e+06   \n",
       "236723 2013-12-31   93428  0.751994  0.751994  1.377158  7.732926e+05   \n",
       "236724 2010-12-31   93429  0.708867  0.702304  1.187379  1.183759e+06   \n",
       "236725 2011-12-31   93429  1.150273  1.131232  0.963586  2.295566e+06   \n",
       "236726 2012-12-31   93429  1.191022  1.139211  1.158088  2.571033e+06   \n",
       "236727 2013-12-31   93429  1.808082  1.763745  1.372511  4.508621e+06   \n",
       "236728 2010-12-31   93430  0.778645  0.778645  1.167740  8.362368e+04   \n",
       "236729 2010-06-30   93432  1.000000  1.000000  0.923548  1.103499e+05   \n",
       "236730 2010-12-31   93433  2.110229  2.110229  1.187379  8.000699e+05   \n",
       "236737 2013-06-30   93434  1.584120  1.584120  1.146524  9.707392e+04   \n",
       "236738 2010-12-31   93435  1.066129  1.066129  1.167740  1.550177e+05   \n",
       "236741 2011-12-31   93436  1.072474  1.072474  1.000139  2.987490e+06   \n",
       "236742 2012-12-31   93436  1.185924  1.185924  1.158088  3.868428e+06   \n",
       "236743 2013-12-31   93436  4.441361  4.441361  1.372511  1.851646e+07   \n",
       "\n",
       "              mv_adj  \n",
       "26      8.671519e+04  \n",
       "27      6.969756e+04  \n",
       "28      7.568457e+04  \n",
       "29      2.769428e+04  \n",
       "37      5.549214e+04  \n",
       "38      5.764220e+04  \n",
       "39      5.194669e+04  \n",
       "40      1.362458e+05  \n",
       "41      1.518419e+05  \n",
       "42      1.180519e+05  \n",
       "43      9.464776e+04  \n",
       "44      1.007280e+05  \n",
       "45      1.125846e+05  \n",
       "46      1.595518e+05  \n",
       "47      3.003511e+05  \n",
       "48      2.383138e+05  \n",
       "49      2.971943e+05  \n",
       "50      2.117137e+05  \n",
       "51      2.594064e+05  \n",
       "52      4.937301e+04  \n",
       "56      7.530716e+04  \n",
       "57      7.352782e+04  \n",
       "70      7.534571e+05  \n",
       "71      8.344370e+05  \n",
       "72      1.101387e+06  \n",
       "73      1.019313e+06  \n",
       "74      8.341644e+05  \n",
       "75      8.253589e+05  \n",
       "76      1.008347e+06  \n",
       "77      8.411699e+05  \n",
       "...              ...  \n",
       "236706  4.937684e+06  \n",
       "236707  4.955154e+06  \n",
       "236708  1.453200e+06  \n",
       "236709  2.113068e+06  \n",
       "236710  2.988962e+06  \n",
       "236711  3.158659e+06  \n",
       "236712  2.224158e+05  \n",
       "236713  1.833501e+05  \n",
       "236714  1.494732e+05  \n",
       "236715  1.706469e+05  \n",
       "236716  3.634020e+05  \n",
       "236717  8.063797e+05  \n",
       "236718  4.144560e+05  \n",
       "236719  4.558655e+05  \n",
       "236720  5.830272e+05  \n",
       "236721  7.649521e+05  \n",
       "236722  9.287042e+05  \n",
       "236723  6.973266e+05  \n",
       "236724  1.135523e+06  \n",
       "236725  2.137707e+06  \n",
       "236726  2.354578e+06  \n",
       "236727  4.065707e+06  \n",
       "236728  8.021616e+04  \n",
       "236729  1.110654e+05  \n",
       "236730  7.674684e+05  \n",
       "236737  9.128700e+04  \n",
       "236738  1.487010e+05  \n",
       "236741  2.782050e+06  \n",
       "236742  3.542746e+06  \n",
       "236743  1.669745e+07  \n",
       "\n",
       "[162389 rows x 7 columns]"
      ]
     },
     "execution_count": 7,
     "metadata": {},
     "output_type": "execute_result"
    }
   ],
   "source": [
    "crsp_fa "
   ]
  },
  {
   "cell_type": "code",
   "execution_count": 13,
   "metadata": {},
   "outputs": [],
   "source": [
    "firm_year=crsp_fa.shape[0]"
   ]
  },
  {
   "cell_type": "code",
   "execution_count": 14,
   "metadata": {},
   "outputs": [
    {
     "data": {
      "text/plain": [
       "162389"
      ]
     },
     "execution_count": 14,
     "metadata": {},
     "output_type": "execute_result"
    }
   ],
   "source": [
    "firm_year"
   ]
  },
  {
   "cell_type": "code",
   "execution_count": 8,
   "metadata": {},
   "outputs": [],
   "source": [
    "filter_permno = crsp_fa.reset_index().permno.unique().tolist()"
   ]
  },
  {
   "cell_type": "code",
   "execution_count": 9,
   "metadata": {},
   "outputs": [],
   "source": [
    "crsp_fa = crsp_fa.reset_index().set_index('permno').loc[filter_permno].reset_index()"
   ]
  },
  {
   "cell_type": "code",
   "execution_count": 10,
   "metadata": {},
   "outputs": [
    {
     "name": "stdout",
     "output_type": "stream",
     "text": [
      "372.3504781690024\n"
     ]
    }
   ],
   "source": [
    "tic = time.perf_counter()\n",
    "crsp_fa1 = crsp_fa.set_index('permno').groupby('permno').apply(calc_exf)\n",
    "toc = time.perf_counter()\n",
    "print(toc-tic)"
   ]
  },
  {
   "cell_type": "markdown",
   "metadata": {},
   "source": [
    "\n",
    "exf_to_mv : $EXF_{t}/MV_{t-1}$\n",
    "\n",
    "ret_n1 : 接下来1年的return\n"
   ]
  },
  {
   "cell_type": "code",
   "execution_count": 11,
   "metadata": {},
   "outputs": [],
   "source": [
    "from scipy.stats import mstats"
   ]
  },
  {
   "cell_type": "code",
   "execution_count": 12,
   "metadata": {},
   "outputs": [
    {
     "data": {
      "text/html": [
       "<div>\n",
       "<style scoped>\n",
       "    .dataframe tbody tr th:only-of-type {\n",
       "        vertical-align: middle;\n",
       "    }\n",
       "\n",
       "    .dataframe tbody tr th {\n",
       "        vertical-align: top;\n",
       "    }\n",
       "\n",
       "    .dataframe thead th {\n",
       "        text-align: right;\n",
       "    }\n",
       "</style>\n",
       "<table border=\"1\" class=\"dataframe\">\n",
       "  <thead>\n",
       "    <tr style=\"text-align: right;\">\n",
       "      <th></th>\n",
       "      <th>permno</th>\n",
       "      <th>index</th>\n",
       "      <th>date</th>\n",
       "      <th>ret_p1</th>\n",
       "      <th>retx_p1</th>\n",
       "      <th>dret_p1</th>\n",
       "      <th>mv</th>\n",
       "      <th>mv_adj</th>\n",
       "    </tr>\n",
       "  </thead>\n",
       "  <tbody>\n",
       "    <tr>\n",
       "      <th>0</th>\n",
       "      <td>10001</td>\n",
       "      <td>26</td>\n",
       "      <td>2011-12-31</td>\n",
       "      <td>1.139163</td>\n",
       "      <td>1.085551</td>\n",
       "      <td>0.855225</td>\n",
       "      <td>93118.680</td>\n",
       "      <td>86715.192152</td>\n",
       "    </tr>\n",
       "    <tr>\n",
       "      <th>1</th>\n",
       "      <td>10001</td>\n",
       "      <td>27</td>\n",
       "      <td>2012-12-31</td>\n",
       "      <td>0.860620</td>\n",
       "      <td>0.816988</td>\n",
       "      <td>1.171750</td>\n",
       "      <td>76104.810</td>\n",
       "      <td>69697.564116</td>\n",
       "    </tr>\n",
       "    <tr>\n",
       "      <th>2</th>\n",
       "      <td>10001</td>\n",
       "      <td>28</td>\n",
       "      <td>2013-12-31</td>\n",
       "      <td>0.909306</td>\n",
       "      <td>0.860665</td>\n",
       "      <td>1.373769</td>\n",
       "      <td>83929.560</td>\n",
       "      <td>75684.567268</td>\n",
       "    </tr>\n",
       "    <tr>\n",
       "      <th>3</th>\n",
       "      <td>10002</td>\n",
       "      <td>29</td>\n",
       "      <td>1986-12-31</td>\n",
       "      <td>1.064515</td>\n",
       "      <td>1.064515</td>\n",
       "      <td>1.005044</td>\n",
       "      <td>14540.625</td>\n",
       "      <td>27694.277996</td>\n",
       "    </tr>\n",
       "    <tr>\n",
       "      <th>4</th>\n",
       "      <td>10002</td>\n",
       "      <td>37</td>\n",
       "      <td>1994-12-31</td>\n",
       "      <td>1.039473</td>\n",
       "      <td>1.019418</td>\n",
       "      <td>0.927850</td>\n",
       "      <td>39361.875</td>\n",
       "      <td>55492.135988</td>\n",
       "    </tr>\n",
       "  </tbody>\n",
       "</table>\n",
       "</div>"
      ],
      "text/plain": [
       "   permno  index       date    ret_p1   retx_p1   dret_p1         mv  \\\n",
       "0   10001     26 2011-12-31  1.139163  1.085551  0.855225  93118.680   \n",
       "1   10001     27 2012-12-31  0.860620  0.816988  1.171750  76104.810   \n",
       "2   10001     28 2013-12-31  0.909306  0.860665  1.373769  83929.560   \n",
       "3   10002     29 1986-12-31  1.064515  1.064515  1.005044  14540.625   \n",
       "4   10002     37 1994-12-31  1.039473  1.019418  0.927850  39361.875   \n",
       "\n",
       "         mv_adj  \n",
       "0  86715.192152  \n",
       "1  69697.564116  \n",
       "2  75684.567268  \n",
       "3  27694.277996  \n",
       "4  55492.135988  "
      ]
     },
     "execution_count": 12,
     "metadata": {},
     "output_type": "execute_result"
    }
   ],
   "source": [
    "crsp_fa.head()"
   ]
  },
  {
   "cell_type": "markdown",
   "metadata": {},
   "source": [
    "winsorize"
   ]
  },
  {
   "cell_type": "code",
   "execution_count": 15,
   "metadata": {},
   "outputs": [
    {
     "data": {
      "text/html": [
       "<div>\n",
       "<style scoped>\n",
       "    .dataframe tbody tr th:only-of-type {\n",
       "        vertical-align: middle;\n",
       "    }\n",
       "\n",
       "    .dataframe tbody tr th {\n",
       "        vertical-align: top;\n",
       "    }\n",
       "\n",
       "    .dataframe thead th {\n",
       "        text-align: right;\n",
       "    }\n",
       "</style>\n",
       "<table border=\"1\" class=\"dataframe\">\n",
       "  <thead>\n",
       "    <tr style=\"text-align: right;\">\n",
       "      <th></th>\n",
       "      <th>date</th>\n",
       "      <th>mv</th>\n",
       "      <th>retx_p1</th>\n",
       "      <th>exf</th>\n",
       "      <th>exf_to_mv</th>\n",
       "      <th>car1</th>\n",
       "      <th>car3</th>\n",
       "      <th>car5</th>\n",
       "      <th>wr5</th>\n",
       "    </tr>\n",
       "    <tr>\n",
       "      <th>permno</th>\n",
       "      <th></th>\n",
       "      <th></th>\n",
       "      <th></th>\n",
       "      <th></th>\n",
       "      <th></th>\n",
       "      <th></th>\n",
       "      <th></th>\n",
       "      <th></th>\n",
       "      <th></th>\n",
       "    </tr>\n",
       "  </thead>\n",
       "  <tbody>\n",
       "    <tr>\n",
       "      <th>10001</th>\n",
       "      <td>2011-12-31</td>\n",
       "      <td>93118.680</td>\n",
       "      <td>1.085551</td>\n",
       "      <td>NaN</td>\n",
       "      <td>NaN</td>\n",
       "      <td>-0.311130</td>\n",
       "      <td>-0.827147</td>\n",
       "      <td>-0.827147</td>\n",
       "      <td>0.486153</td>\n",
       "    </tr>\n",
       "    <tr>\n",
       "      <th>10001</th>\n",
       "      <td>2012-12-31</td>\n",
       "      <td>76104.810</td>\n",
       "      <td>0.816988</td>\n",
       "      <td>27.986179</td>\n",
       "      <td>0.000301</td>\n",
       "      <td>-0.464463</td>\n",
       "      <td>-0.464463</td>\n",
       "      <td>-0.464463</td>\n",
       "      <td>0.661906</td>\n",
       "    </tr>\n",
       "    <tr>\n",
       "      <th>10001</th>\n",
       "      <td>2013-12-31</td>\n",
       "      <td>83929.560</td>\n",
       "      <td>0.860665</td>\n",
       "      <td>18428.830033</td>\n",
       "      <td>0.242151</td>\n",
       "      <td>NaN</td>\n",
       "      <td>NaN</td>\n",
       "      <td>NaN</td>\n",
       "      <td>NaN</td>\n",
       "    </tr>\n",
       "    <tr>\n",
       "      <th>10002</th>\n",
       "      <td>1986-12-31</td>\n",
       "      <td>14540.625</td>\n",
       "      <td>1.064515</td>\n",
       "      <td>NaN</td>\n",
       "      <td>NaN</td>\n",
       "      <td>0.111624</td>\n",
       "      <td>-0.337573</td>\n",
       "      <td>0.341395</td>\n",
       "      <td>1.202465</td>\n",
       "    </tr>\n",
       "    <tr>\n",
       "      <th>10002</th>\n",
       "      <td>1994-12-31</td>\n",
       "      <td>39361.875</td>\n",
       "      <td>1.019418</td>\n",
       "      <td>24538.904537</td>\n",
       "      <td>1.687610</td>\n",
       "      <td>-0.281362</td>\n",
       "      <td>0.121447</td>\n",
       "      <td>-0.897720</td>\n",
       "      <td>0.640625</td>\n",
       "    </tr>\n",
       "  </tbody>\n",
       "</table>\n",
       "</div>"
      ],
      "text/plain": [
       "             date         mv   retx_p1           exf  exf_to_mv      car1  \\\n",
       "permno                                                                      \n",
       "10001  2011-12-31  93118.680  1.085551           NaN        NaN -0.311130   \n",
       "10001  2012-12-31  76104.810  0.816988     27.986179   0.000301 -0.464463   \n",
       "10001  2013-12-31  83929.560  0.860665  18428.830033   0.242151       NaN   \n",
       "10002  1986-12-31  14540.625  1.064515           NaN        NaN  0.111624   \n",
       "10002  1994-12-31  39361.875  1.019418  24538.904537   1.687610 -0.281362   \n",
       "\n",
       "            car3      car5       wr5  \n",
       "permno                                \n",
       "10001  -0.827147 -0.827147  0.486153  \n",
       "10001  -0.464463 -0.464463  0.661906  \n",
       "10001        NaN       NaN       NaN  \n",
       "10002  -0.337573  0.341395  1.202465  \n",
       "10002   0.121447 -0.897720  0.640625  "
      ]
     },
     "execution_count": 15,
     "metadata": {},
     "output_type": "execute_result"
    }
   ],
   "source": [
    "crsp_fa1.head()"
   ]
  },
  {
   "cell_type": "code",
   "execution_count": 16,
   "metadata": {},
   "outputs": [
    {
     "data": {
      "text/html": [
       "<div>\n",
       "<style scoped>\n",
       "    .dataframe tbody tr th:only-of-type {\n",
       "        vertical-align: middle;\n",
       "    }\n",
       "\n",
       "    .dataframe tbody tr th {\n",
       "        vertical-align: top;\n",
       "    }\n",
       "\n",
       "    .dataframe thead th {\n",
       "        text-align: right;\n",
       "    }\n",
       "</style>\n",
       "<table border=\"1\" class=\"dataframe\">\n",
       "  <thead>\n",
       "    <tr style=\"text-align: right;\">\n",
       "      <th></th>\n",
       "      <th>permno</th>\n",
       "      <th>exf_to_mv</th>\n",
       "      <th>car1</th>\n",
       "      <th>car3</th>\n",
       "      <th>car5</th>\n",
       "      <th>wr5</th>\n",
       "    </tr>\n",
       "    <tr>\n",
       "      <th>exf_to_mv</th>\n",
       "      <th></th>\n",
       "      <th></th>\n",
       "      <th></th>\n",
       "      <th></th>\n",
       "      <th></th>\n",
       "      <th></th>\n",
       "    </tr>\n",
       "  </thead>\n",
       "  <tbody>\n",
       "    <tr>\n",
       "      <th>(-1.119, -0.0433]</th>\n",
       "      <td>57393.334394</td>\n",
       "      <td>-0.095137</td>\n",
       "      <td>0.152089</td>\n",
       "      <td>0.376286</td>\n",
       "      <td>0.589025</td>\n",
       "      <td>1.338349</td>\n",
       "    </tr>\n",
       "    <tr>\n",
       "      <th>(-0.0433, -0.00666]</th>\n",
       "      <td>56124.474062</td>\n",
       "      <td>-0.021031</td>\n",
       "      <td>0.051581</td>\n",
       "      <td>0.156811</td>\n",
       "      <td>0.263087</td>\n",
       "      <td>1.165648</td>\n",
       "    </tr>\n",
       "    <tr>\n",
       "      <th>(-0.00666, -1.3e-07]</th>\n",
       "      <td>55822.578711</td>\n",
       "      <td>-0.001453</td>\n",
       "      <td>0.050653</td>\n",
       "      <td>0.155874</td>\n",
       "      <td>0.277234</td>\n",
       "      <td>1.164741</td>\n",
       "    </tr>\n",
       "    <tr>\n",
       "      <th>(-1.3e-07, 0.000947]</th>\n",
       "      <td>54888.424307</td>\n",
       "      <td>0.000193</td>\n",
       "      <td>0.060473</td>\n",
       "      <td>0.168752</td>\n",
       "      <td>0.283290</td>\n",
       "      <td>1.168753</td>\n",
       "    </tr>\n",
       "    <tr>\n",
       "      <th>(0.000947, 0.00466]</th>\n",
       "      <td>54932.229935</td>\n",
       "      <td>0.002651</td>\n",
       "      <td>0.076410</td>\n",
       "      <td>0.183625</td>\n",
       "      <td>0.284996</td>\n",
       "      <td>1.160567</td>\n",
       "    </tr>\n",
       "    <tr>\n",
       "      <th>(0.00466, 0.0111]</th>\n",
       "      <td>55724.872349</td>\n",
       "      <td>0.007571</td>\n",
       "      <td>0.064513</td>\n",
       "      <td>0.167419</td>\n",
       "      <td>0.273838</td>\n",
       "      <td>1.146881</td>\n",
       "    </tr>\n",
       "    <tr>\n",
       "      <th>(0.0111, 0.0243]</th>\n",
       "      <td>56867.215824</td>\n",
       "      <td>0.016809</td>\n",
       "      <td>0.050359</td>\n",
       "      <td>0.161313</td>\n",
       "      <td>0.263652</td>\n",
       "      <td>1.151759</td>\n",
       "    </tr>\n",
       "    <tr>\n",
       "      <th>(0.0243, 0.0617]</th>\n",
       "      <td>58447.561909</td>\n",
       "      <td>0.039171</td>\n",
       "      <td>0.058947</td>\n",
       "      <td>0.161416</td>\n",
       "      <td>0.226490</td>\n",
       "      <td>1.128863</td>\n",
       "    </tr>\n",
       "    <tr>\n",
       "      <th>(0.0617, 0.196]</th>\n",
       "      <td>58930.872431</td>\n",
       "      <td>0.114552</td>\n",
       "      <td>0.031269</td>\n",
       "      <td>0.090787</td>\n",
       "      <td>0.146422</td>\n",
       "      <td>1.081803</td>\n",
       "    </tr>\n",
       "    <tr>\n",
       "      <th>(0.196, 0.428]</th>\n",
       "      <td>61951.177732</td>\n",
       "      <td>0.359781</td>\n",
       "      <td>0.016557</td>\n",
       "      <td>0.014024</td>\n",
       "      <td>0.066080</td>\n",
       "      <td>1.031758</td>\n",
       "    </tr>\n",
       "  </tbody>\n",
       "</table>\n",
       "</div>"
      ],
      "text/plain": [
       "                            permno  exf_to_mv      car1      car3      car5  \\\n",
       "exf_to_mv                                                                     \n",
       "(-1.119, -0.0433]     57393.334394  -0.095137  0.152089  0.376286  0.589025   \n",
       "(-0.0433, -0.00666]   56124.474062  -0.021031  0.051581  0.156811  0.263087   \n",
       "(-0.00666, -1.3e-07]  55822.578711  -0.001453  0.050653  0.155874  0.277234   \n",
       "(-1.3e-07, 0.000947]  54888.424307   0.000193  0.060473  0.168752  0.283290   \n",
       "(0.000947, 0.00466]   54932.229935   0.002651  0.076410  0.183625  0.284996   \n",
       "(0.00466, 0.0111]     55724.872349   0.007571  0.064513  0.167419  0.273838   \n",
       "(0.0111, 0.0243]      56867.215824   0.016809  0.050359  0.161313  0.263652   \n",
       "(0.0243, 0.0617]      58447.561909   0.039171  0.058947  0.161416  0.226490   \n",
       "(0.0617, 0.196]       58930.872431   0.114552  0.031269  0.090787  0.146422   \n",
       "(0.196, 0.428]        61951.177732   0.359781  0.016557  0.014024  0.066080   \n",
       "\n",
       "                           wr5  \n",
       "exf_to_mv                       \n",
       "(-1.119, -0.0433]     1.338349  \n",
       "(-0.0433, -0.00666]   1.165648  \n",
       "(-0.00666, -1.3e-07]  1.164741  \n",
       "(-1.3e-07, 0.000947]  1.168753  \n",
       "(0.000947, 0.00466]   1.160567  \n",
       "(0.00466, 0.0111]     1.146881  \n",
       "(0.0111, 0.0243]      1.151759  \n",
       "(0.0243, 0.0617]      1.128863  \n",
       "(0.0617, 0.196]       1.081803  \n",
       "(0.196, 0.428]        1.031758  "
      ]
     },
     "execution_count": 16,
     "metadata": {},
     "output_type": "execute_result"
    }
   ],
   "source": [
    "crsp_fa1 = crsp_fa1.dropna(subset=['exf_to_mv'])\n",
    "#crsp_fa1 = crsp_fa1.reset_index().set_index('date')\n",
    "crsp_fa1 = crsp_fa1.reset_index().set_index('date')[:'2008'] # 筛选出到08年的数据\n",
    "# crsp_fa1 = crsp_fa1.loc['1973':'2001']\n",
    "# 可以自行调整limits大小\n",
    "crsp_fa1.exf_to_mv = mstats.winsorize(crsp_fa1.exf_to_mv, limits=[0.05, 0.05])\n",
    "#per1表示生成10个decile\n",
    "per1 = np.linspace(0,1,11).tolist()\n",
    "bins = crsp_fa1.describe(percentiles=per1).exf_to_mv.iloc[4:-1].tolist()\n",
    "#由于pd.cut函数切出来的区间左开右闭，这里-1是为了把区间的第一个值包含进去\n",
    "bins = [bins[0]-1] + bins[1:]\n",
    "# bins = bins[:-1] + [bins[-1]-1]\n",
    "crsp_fa1.groupby(pd.cut(crsp_fa1.exf_to_mv,bins, right=True)).mean().drop(['mv', 'retx_p1', 'exf'], axis=1)\n",
    "#由于这里算的是mean值，相当于没有管年份而是直接对整个pool按照exf/mv排序"
   ]
  },
  {
   "cell_type": "code",
   "execution_count": 17,
   "metadata": {},
   "outputs": [
    {
     "data": {
      "text/plain": [
       "count    1.226010e+05\n",
       "mean     4.230968e-02\n",
       "std      1.205742e-01\n",
       "min     -1.190948e-01\n",
       "0%      -1.190948e-01\n",
       "10%     -4.326331e-02\n",
       "20%     -6.662812e-03\n",
       "30.0%   -1.298991e-07\n",
       "40%      9.470411e-04\n",
       "50%      4.663657e-03\n",
       "60.0%    1.109584e-02\n",
       "70%      2.427360e-02\n",
       "80%      6.174505e-02\n",
       "90%      1.964536e-01\n",
       "100%     4.284997e-01\n",
       "max      4.284997e-01\n",
       "Name: exf_to_mv, dtype: float64"
      ]
     },
     "execution_count": 17,
     "metadata": {},
     "output_type": "execute_result"
    }
   ],
   "source": [
    "crsp_fa1.describe(percentiles=per1).exf_to_mv"
   ]
  },
  {
   "cell_type": "code",
   "execution_count": 18,
   "metadata": {},
   "outputs": [
    {
     "data": {
      "text/plain": [
       "0%      -1.190948e-01\n",
       "10%     -4.326331e-02\n",
       "20%     -6.662812e-03\n",
       "30.0%   -1.298991e-07\n",
       "40%      9.470411e-04\n",
       "50%      4.663657e-03\n",
       "60.0%    1.109584e-02\n",
       "70%      2.427360e-02\n",
       "80%      6.174505e-02\n",
       "90%      1.964536e-01\n",
       "100%     4.284997e-01\n",
       "Name: exf_to_mv, dtype: float64"
      ]
     },
     "execution_count": 18,
     "metadata": {},
     "output_type": "execute_result"
    }
   ],
   "source": [
    "#iloc[4:-1]是为了取出分组值\n",
    "crsp_fa1.describe(percentiles=per1).exf_to_mv.iloc[4:-1]"
   ]
  },
  {
   "cell_type": "code",
   "execution_count": 19,
   "metadata": {},
   "outputs": [
    {
     "data": {
      "text/plain": [
       "[-1.1190947736114456,\n",
       " -0.04326331081534079,\n",
       " -0.006662811813072176,\n",
       " -1.298991285894573e-07,\n",
       " 0.0009470410779396914,\n",
       " 0.004663657002246405,\n",
       " 0.011095841843832851,\n",
       " 0.024273596652487215,\n",
       " 0.061745051471131865,\n",
       " 0.19645363846046626,\n",
       " 0.42849973815839376]"
      ]
     },
     "execution_count": 19,
     "metadata": {},
     "output_type": "execute_result"
    }
   ],
   "source": [
    "#查看区间端点值\n",
    "bins"
   ]
  },
  {
   "cell_type": "markdown",
   "metadata": {},
   "source": [
    "Significant issuance & Significant repurchase\n",
    "\n",
    "EXF is greater than 5% of pre-issuance market capitalization\n",
    "\n",
    "$EXF_t >= 0.05 * (1+rx_t) *MV_{t-1}$\n",
    "\n",
    "equals\n",
    "\n",
    "$EXF_t / MV_{t-1} >= 0.05 * (1+rx_t)$"
   ]
  },
  {
   "cell_type": "code",
   "execution_count": 20,
   "metadata": {},
   "outputs": [
    {
     "data": {
      "text/html": [
       "<div>\n",
       "<style scoped>\n",
       "    .dataframe tbody tr th:only-of-type {\n",
       "        vertical-align: middle;\n",
       "    }\n",
       "\n",
       "    .dataframe tbody tr th {\n",
       "        vertical-align: top;\n",
       "    }\n",
       "\n",
       "    .dataframe thead th {\n",
       "        text-align: right;\n",
       "    }\n",
       "</style>\n",
       "<table border=\"1\" class=\"dataframe\">\n",
       "  <thead>\n",
       "    <tr style=\"text-align: right;\">\n",
       "      <th></th>\n",
       "      <th>permno</th>\n",
       "      <th>mv</th>\n",
       "      <th>retx_p1</th>\n",
       "      <th>exf</th>\n",
       "      <th>exf_to_mv</th>\n",
       "      <th>car1</th>\n",
       "      <th>car3</th>\n",
       "      <th>car5</th>\n",
       "      <th>wr5</th>\n",
       "    </tr>\n",
       "  </thead>\n",
       "  <tbody>\n",
       "    <tr>\n",
       "      <th>count</th>\n",
       "      <td>25822.000000</td>\n",
       "      <td>2.582200e+04</td>\n",
       "      <td>25822.000000</td>\n",
       "      <td>25822.000000</td>\n",
       "      <td>25822.000000</td>\n",
       "      <td>23617.000000</td>\n",
       "      <td>23617.000000</td>\n",
       "      <td>23617.000000</td>\n",
       "      <td>23617.000000</td>\n",
       "    </tr>\n",
       "    <tr>\n",
       "      <th>mean</th>\n",
       "      <td>60762.202386</td>\n",
       "      <td>1.468557e+06</td>\n",
       "      <td>1.283267</td>\n",
       "      <td>281877.004216</td>\n",
       "      <td>0.224194</td>\n",
       "      <td>0.034412</td>\n",
       "      <td>0.073962</td>\n",
       "      <td>0.130165</td>\n",
       "      <td>1.068787</td>\n",
       "    </tr>\n",
       "  </tbody>\n",
       "</table>\n",
       "</div>"
      ],
      "text/plain": [
       "             permno            mv       retx_p1            exf     exf_to_mv  \\\n",
       "count  25822.000000  2.582200e+04  25822.000000   25822.000000  25822.000000   \n",
       "mean   60762.202386  1.468557e+06      1.283267  281877.004216      0.224194   \n",
       "\n",
       "               car1          car3          car5           wr5  \n",
       "count  23617.000000  23617.000000  23617.000000  23617.000000  \n",
       "mean       0.034412      0.073962      0.130165      1.068787  "
      ]
     },
     "execution_count": 20,
     "metadata": {},
     "output_type": "execute_result"
    }
   ],
   "source": [
    "crsp_fa1[crsp_fa1.exf_to_mv > (0.05 * crsp_fa1.retx_p1)].describe().loc[['count', 'mean']]"
   ]
  },
  {
   "cell_type": "code",
   "execution_count": 21,
   "metadata": {},
   "outputs": [
    {
     "data": {
      "text/html": [
       "<div>\n",
       "<style scoped>\n",
       "    .dataframe tbody tr th:only-of-type {\n",
       "        vertical-align: middle;\n",
       "    }\n",
       "\n",
       "    .dataframe tbody tr th {\n",
       "        vertical-align: top;\n",
       "    }\n",
       "\n",
       "    .dataframe thead th {\n",
       "        text-align: right;\n",
       "    }\n",
       "</style>\n",
       "<table border=\"1\" class=\"dataframe\">\n",
       "  <thead>\n",
       "    <tr style=\"text-align: right;\">\n",
       "      <th></th>\n",
       "      <th>permno</th>\n",
       "      <th>mv</th>\n",
       "      <th>retx_p1</th>\n",
       "      <th>exf</th>\n",
       "      <th>exf_to_mv</th>\n",
       "      <th>car1</th>\n",
       "      <th>car3</th>\n",
       "      <th>car5</th>\n",
       "      <th>wr5</th>\n",
       "    </tr>\n",
       "  </thead>\n",
       "  <tbody>\n",
       "    <tr>\n",
       "      <th>count</th>\n",
       "      <td>9822.000000</td>\n",
       "      <td>9.822000e+03</td>\n",
       "      <td>9822.000000</td>\n",
       "      <td>9822.000000</td>\n",
       "      <td>9822.000000</td>\n",
       "      <td>8690.000000</td>\n",
       "      <td>8690.000000</td>\n",
       "      <td>8690.000000</td>\n",
       "      <td>8690.000000</td>\n",
       "    </tr>\n",
       "    <tr>\n",
       "      <th>mean</th>\n",
       "      <td>57813.234983</td>\n",
       "      <td>1.827623e+06</td>\n",
       "      <td>1.172883</td>\n",
       "      <td>-263729.804103</td>\n",
       "      <td>-0.095542</td>\n",
       "      <td>0.157717</td>\n",
       "      <td>0.406613</td>\n",
       "      <td>0.642431</td>\n",
       "      <td>1.365481</td>\n",
       "    </tr>\n",
       "  </tbody>\n",
       "</table>\n",
       "</div>"
      ],
      "text/plain": [
       "             permno            mv      retx_p1            exf    exf_to_mv  \\\n",
       "count   9822.000000  9.822000e+03  9822.000000    9822.000000  9822.000000   \n",
       "mean   57813.234983  1.827623e+06     1.172883 -263729.804103    -0.095542   \n",
       "\n",
       "              car1         car3         car5          wr5  \n",
       "count  8690.000000  8690.000000  8690.000000  8690.000000  \n",
       "mean      0.157717     0.406613     0.642431     1.365481  "
      ]
     },
     "execution_count": 21,
     "metadata": {},
     "output_type": "execute_result"
    }
   ],
   "source": [
    "crsp_fa1[crsp_fa1.exf_to_mv < (-0.05 * crsp_fa1.retx_p1)].describe().loc[['count', 'mean']]"
   ]
  },
  {
   "cell_type": "code",
   "execution_count": 22,
   "metadata": {},
   "outputs": [
    {
     "data": {
      "text/html": [
       "<div>\n",
       "<style scoped>\n",
       "    .dataframe tbody tr th:only-of-type {\n",
       "        vertical-align: middle;\n",
       "    }\n",
       "\n",
       "    .dataframe tbody tr th {\n",
       "        vertical-align: top;\n",
       "    }\n",
       "\n",
       "    .dataframe thead th {\n",
       "        text-align: right;\n",
       "    }\n",
       "</style>\n",
       "<table border=\"1\" class=\"dataframe\">\n",
       "  <thead>\n",
       "    <tr style=\"text-align: right;\">\n",
       "      <th></th>\n",
       "      <th>permno</th>\n",
       "      <th>mv</th>\n",
       "      <th>retx_p1</th>\n",
       "      <th>exf</th>\n",
       "      <th>exf_to_mv</th>\n",
       "      <th>car1</th>\n",
       "      <th>car3</th>\n",
       "      <th>car5</th>\n",
       "      <th>wr5</th>\n",
       "    </tr>\n",
       "  </thead>\n",
       "  <tbody>\n",
       "    <tr>\n",
       "      <th>count</th>\n",
       "      <td>86957.000000</td>\n",
       "      <td>8.695700e+04</td>\n",
       "      <td>86957.000000</td>\n",
       "      <td>86957.000000</td>\n",
       "      <td>86957.00000</td>\n",
       "      <td>80253.000000</td>\n",
       "      <td>80253.0000</td>\n",
       "      <td>80253.000000</td>\n",
       "      <td>80253.000000</td>\n",
       "    </tr>\n",
       "    <tr>\n",
       "      <th>mean</th>\n",
       "      <td>55943.611463</td>\n",
       "      <td>1.972397e+06</td>\n",
       "      <td>1.167769</td>\n",
       "      <td>-5917.379894</td>\n",
       "      <td>0.00387</td>\n",
       "      <td>0.058254</td>\n",
       "      <td>0.1626</td>\n",
       "      <td>0.265526</td>\n",
       "      <td>1.155129</td>\n",
       "    </tr>\n",
       "  </tbody>\n",
       "</table>\n",
       "</div>"
      ],
      "text/plain": [
       "             permno            mv       retx_p1           exf    exf_to_mv  \\\n",
       "count  86957.000000  8.695700e+04  86957.000000  86957.000000  86957.00000   \n",
       "mean   55943.611463  1.972397e+06      1.167769  -5917.379894      0.00387   \n",
       "\n",
       "               car1        car3          car5           wr5  \n",
       "count  80253.000000  80253.0000  80253.000000  80253.000000  \n",
       "mean       0.058254      0.1626      0.265526      1.155129  "
      ]
     },
     "execution_count": 22,
     "metadata": {},
     "output_type": "execute_result"
    }
   ],
   "source": [
    "crsp_fa1[(crsp_fa1.exf_to_mv >=(-0.05 * crsp_fa1.retx_p1)) & \\\n",
    "         (crsp_fa1.exf_to_mv <= (0.05 * crsp_fa1.retx_p1))].describe().loc[['count', 'mean']]"
   ]
  },
  {
   "cell_type": "markdown",
   "metadata": {},
   "source": [
    "long Significant repurchase,  short Significant issuance"
   ]
  },
  {
   "cell_type": "code",
   "execution_count": 16,
   "metadata": {},
   "outputs": [
    {
     "data": {
      "text/html": [
       "<div>\n",
       "<style scoped>\n",
       "    .dataframe tbody tr th:only-of-type {\n",
       "        vertical-align: middle;\n",
       "    }\n",
       "\n",
       "    .dataframe tbody tr th {\n",
       "        vertical-align: top;\n",
       "    }\n",
       "\n",
       "    .dataframe thead th {\n",
       "        text-align: right;\n",
       "    }\n",
       "</style>\n",
       "<table border=\"1\" class=\"dataframe\">\n",
       "  <thead>\n",
       "    <tr style=\"text-align: right;\">\n",
       "      <th></th>\n",
       "      <th>permno</th>\n",
       "      <th>mv</th>\n",
       "      <th>retx_p1</th>\n",
       "      <th>exf</th>\n",
       "      <th>exf_to_mv</th>\n",
       "      <th>car1</th>\n",
       "      <th>car3</th>\n",
       "      <th>car5</th>\n",
       "      <th>wr5</th>\n",
       "    </tr>\n",
       "  </thead>\n",
       "  <tbody>\n",
       "    <tr>\n",
       "      <th>mean</th>\n",
       "      <td>-2383.813256</td>\n",
       "      <td>366700.195852</td>\n",
       "      <td>0.170199</td>\n",
       "      <td>-643812.5808</td>\n",
       "      <td>-0.643001</td>\n",
       "      <td>0.132408</td>\n",
       "      <td>0.325322</td>\n",
       "      <td>0.483414</td>\n",
       "      <td>0.280885</td>\n",
       "    </tr>\n",
       "  </tbody>\n",
       "</table>\n",
       "</div>"
      ],
      "text/plain": [
       "           permno             mv   retx_p1          exf  exf_to_mv      car1  \\\n",
       "mean -2383.813256  366700.195852  0.170199 -643812.5808  -0.643001  0.132408   \n",
       "\n",
       "          car3      car5       wr5  \n",
       "mean  0.325322  0.483414  0.280885  "
      ]
     },
     "execution_count": 16,
     "metadata": {},
     "output_type": "execute_result"
    }
   ],
   "source": [
    "crsp_fa1[crsp_fa1.exf_to_mv <= (-0.05 * crsp_fa1.retx_p1)].describe().loc[['mean']] - \\\n",
    "crsp_fa1[crsp_fa1.exf_to_mv > (0.05 * crsp_fa1.retx_p1)].describe().loc[['mean']]"
   ]
  },
  {
   "cell_type": "markdown",
   "metadata": {},
   "source": [
    "查看样本的个数"
   ]
  },
  {
   "cell_type": "code",
   "execution_count": 23,
   "metadata": {},
   "outputs": [
    {
     "data": {
      "text/plain": [
       "exf_to_mv\n",
       "(-1.119, -0.0433]       12261\n",
       "(-0.0433, -0.00666]     12260\n",
       "(-0.00666, -1.3e-07]    12260\n",
       "(-1.3e-07, 0.000947]    12260\n",
       "(0.000947, 0.00466]     12260\n",
       "(0.00466, 0.0111]       12260\n",
       "(0.0111, 0.0243]        12260\n",
       "(0.0243, 0.0617]        12260\n",
       "(0.0617, 0.196]         12260\n",
       "(0.196, 0.428]          12260\n",
       "Name: exf_to_mv, dtype: int64"
      ]
     },
     "execution_count": 23,
     "metadata": {},
     "output_type": "execute_result"
    }
   ],
   "source": [
    "crsp_fa1.groupby(pd.cut(crsp_fa1.exf_to_mv,bins, right=True)).count().exf_to_mv"
   ]
  },
  {
   "cell_type": "markdown",
   "metadata": {},
   "source": [
    "下面的步骤都是测试 还未完成"
   ]
  },
  {
   "cell_type": "code",
   "execution_count": 18,
   "metadata": {},
   "outputs": [
    {
     "data": {
      "text/plain": [
       "date\n",
       "2012-12-31        27.986179\n",
       "1994-12-31     24538.904537\n",
       "1995-12-31        41.937460\n",
       "1996-12-31        -0.001807\n",
       "1997-12-31     30478.045526\n",
       "1998-12-31     20740.033634\n",
       "1999-12-31        -0.007970\n",
       "2000-12-31      7322.381015\n",
       "2001-12-31        39.535446\n",
       "2002-12-31      2209.001037\n",
       "2003-12-31       256.541564\n",
       "2004-12-31     56012.365524\n",
       "2005-12-31      2331.780283\n",
       "2006-12-31       739.634299\n",
       "2007-12-31     76604.994379\n",
       "2008-12-31       856.315469\n",
       "1975-12-31      2771.790147\n",
       "1976-12-31      4390.504558\n",
       "1977-12-31      1932.241538\n",
       "1978-12-31       829.923244\n",
       "1979-12-31      3459.125499\n",
       "1980-12-31      6899.979339\n",
       "1981-12-31      6009.133067\n",
       "1982-12-31    -30752.365666\n",
       "1996-12-31     26266.075432\n",
       "1997-12-31       540.726161\n",
       "1991-10-31      7029.111829\n",
       "1992-10-31       326.727352\n",
       "1993-10-31      -234.616026\n",
       "1995-02-28      5763.736471\n",
       "                  ...      \n",
       "2012-04-30      7705.492498\n",
       "2011-05-31     35586.579336\n",
       "2012-05-31     -3790.882291\n",
       "2011-12-31      2391.648797\n",
       "2012-12-31     -5138.938733\n",
       "2011-06-30     -5619.785679\n",
       "2012-06-30     -2494.745807\n",
       "2011-09-30      2890.080914\n",
       "2012-12-31     29523.738673\n",
       "2011-12-31      9218.573636\n",
       "2012-12-31        -0.373768\n",
       "2011-12-31     11248.946596\n",
       "2012-12-31    -39874.162101\n",
       "2011-12-31    160857.523665\n",
       "2012-12-31    287321.285384\n",
       "2011-12-31      6340.526491\n",
       "2012-12-31     28970.206032\n",
       "2011-12-31     38989.113889\n",
       "2012-12-31     35272.404762\n",
       "2011-12-31    -27796.589478\n",
       "2012-12-31   -103620.751196\n",
       "2011-12-31       224.250279\n",
       "2012-12-31       330.612953\n",
       "2011-06-30     10561.069987\n",
       "2012-06-30      3627.235883\n",
       "2011-12-31     52791.140105\n",
       "2012-12-31     25903.417001\n",
       "2011-12-31    956459.921199\n",
       "2012-12-31    -44102.450140\n",
       "2012-12-31    325491.320971\n",
       "Name: exf, Length: 127531, dtype: float64"
      ]
     },
     "execution_count": 18,
     "metadata": {},
     "output_type": "execute_result"
    }
   ],
   "source": [
    "crsp_fa1['exf']"
   ]
  },
  {
   "cell_type": "code",
   "execution_count": 19,
   "metadata": {},
   "outputs": [
    {
     "data": {
      "text/plain": [
       "date\n",
       "2012-12-31    0.661906\n",
       "1994-12-31    0.640625\n",
       "1995-12-31    0.688416\n",
       "1996-12-31    0.719418\n",
       "1997-12-31    0.601983\n",
       "1998-12-31    0.534312\n",
       "1999-12-31    1.190307\n",
       "2000-12-31    1.120990\n",
       "2001-12-31    1.357469\n",
       "2002-12-31    0.539649\n",
       "2003-12-31    1.328511\n",
       "2004-12-31    0.131291\n",
       "2005-12-31    0.163154\n",
       "2006-12-31    0.150574\n",
       "2007-12-31    0.289916\n",
       "2008-12-31    0.131402\n",
       "1975-12-31    0.815116\n",
       "1976-12-31    0.728235\n",
       "1977-12-31    0.512917\n",
       "1978-12-31    0.772204\n",
       "1979-12-31    0.864532\n",
       "1980-12-31    0.803228\n",
       "1981-12-31    0.876498\n",
       "1982-12-31    1.285893\n",
       "1996-12-31    1.115412\n",
       "1997-12-31    0.911426\n",
       "1991-10-31    0.439401\n",
       "1992-10-31    0.658229\n",
       "1993-10-31    1.102572\n",
       "1995-02-28    0.404516\n",
       "                ...   \n",
       "2012-04-30    0.627064\n",
       "2011-05-31    0.452515\n",
       "2012-05-31    0.787185\n",
       "2011-12-31    1.312012\n",
       "2012-12-31    0.725204\n",
       "2011-06-30    0.248851\n",
       "2012-06-30    0.713675\n",
       "2011-09-30    0.528605\n",
       "2012-12-31    0.935808\n",
       "2011-12-31    0.684401\n",
       "2012-12-31    0.672245\n",
       "2011-12-31    0.328272\n",
       "2012-12-31    0.686062\n",
       "2011-12-31    1.022766\n",
       "2012-12-31    0.772141\n",
       "2011-12-31    1.015824\n",
       "2012-12-31    1.076160\n",
       "2011-12-31    0.661729\n",
       "2012-12-31    0.739745\n",
       "2011-12-31    1.245342\n",
       "2012-12-31    0.922995\n",
       "2011-12-31    0.606167\n",
       "2012-12-31    0.846056\n",
       "2011-06-30    0.486389\n",
       "2012-06-30    0.912661\n",
       "2011-12-31    0.572466\n",
       "2012-12-31    0.546048\n",
       "2011-12-31    1.354816\n",
       "2012-12-31    1.317353\n",
       "2012-12-31    3.235937\n",
       "Name: wr5, Length: 127531, dtype: float64"
      ]
     },
     "execution_count": 19,
     "metadata": {},
     "output_type": "execute_result"
    }
   ],
   "source": [
    "crsp_fa1['wr5']"
   ]
  },
  {
   "cell_type": "code",
   "execution_count": 20,
   "metadata": {},
   "outputs": [],
   "source": [
    "wt1=crsp_fa1['exf']*(1-crsp_fa1['wr5'])"
   ]
  },
  {
   "cell_type": "code",
   "execution_count": 21,
   "metadata": {},
   "outputs": [
    {
     "data": {
      "text/plain": [
       "date\n",
       "2012-12-31         9.461961\n",
       "1994-12-31      8818.672794\n",
       "1995-12-31        13.067032\n",
       "1996-12-31        -0.000507\n",
       "1997-12-31     12130.776416\n",
       "1998-12-31      9658.386662\n",
       "1999-12-31         0.001517\n",
       "2000-12-31      -885.933171\n",
       "2001-12-31       -14.132704\n",
       "2002-12-31      1016.916201\n",
       "2003-12-31       -84.276842\n",
       "2004-12-31     48658.423412\n",
       "2005-12-31      1951.340348\n",
       "2006-12-31       628.264780\n",
       "2007-12-31     54395.984662\n",
       "2008-12-31       743.793802\n",
       "1975-12-31       512.458942\n",
       "1976-12-31      1193.185348\n",
       "1977-12-31       941.162714\n",
       "1978-12-31       189.052829\n",
       "1979-12-31       468.601670\n",
       "1980-12-31      1357.723253\n",
       "1981-12-31       742.137105\n",
       "1982-12-31      8791.895537\n",
       "1996-12-31     -3031.418902\n",
       "1997-12-31        47.894429\n",
       "1991-10-31      3940.512754\n",
       "1992-10-31       111.665866\n",
       "1993-10-31        24.065134\n",
       "1995-02-28      3432.214515\n",
       "                  ...      \n",
       "2012-04-30      2873.657470\n",
       "2011-05-31     19483.111573\n",
       "2012-05-31      -806.755398\n",
       "2011-12-31      -746.221998\n",
       "2012-12-31     -1412.161386\n",
       "2011-06-30     -4221.296665\n",
       "2012-06-30      -714.308653\n",
       "2011-09-30      1362.370166\n",
       "2012-12-31      1895.201948\n",
       "2011-12-31      2909.376889\n",
       "2012-12-31        -0.122505\n",
       "2011-12-31      7556.230218\n",
       "2012-12-31    -12518.026345\n",
       "2011-12-31     -3662.043287\n",
       "2012-12-31     65468.637849\n",
       "2011-12-31      -100.333263\n",
       "2012-12-31     -2206.368951\n",
       "2011-12-31     13188.879585\n",
       "2012-12-31      9179.813582\n",
       "2011-12-31      6819.667642\n",
       "2012-12-31     -7979.271759\n",
       "2011-12-31        88.317069\n",
       "2012-12-31        50.895810\n",
       "2011-06-30      5424.280828\n",
       "2012-06-30       316.798439\n",
       "2011-12-31     22569.984634\n",
       "2012-12-31     11758.901858\n",
       "2011-12-31   -339367.645114\n",
       "2012-12-31     13996.053353\n",
       "2012-12-31   -727778.087701\n",
       "Length: 127531, dtype: float64"
      ]
     },
     "execution_count": 21,
     "metadata": {},
     "output_type": "execute_result"
    }
   ],
   "source": [
    "wt1"
   ]
  },
  {
   "cell_type": "code",
   "execution_count": 26,
   "metadata": {},
   "outputs": [
    {
     "data": {
      "text/plain": [
       "date\n",
       "1974-12-31        0.064393\n",
       "1974-12-31        0.009086\n",
       "1974-12-31       -0.040132\n",
       "1974-12-31        2.874858\n",
       "1974-12-31       -0.338595\n",
       "1974-12-31      -60.715743\n",
       "1974-12-31       -0.071475\n",
       "1974-12-31       -1.013247\n",
       "1974-12-31       -0.148710\n",
       "1974-12-31     2098.889975\n",
       "1974-12-31       -0.037323\n",
       "1974-12-31       -0.098132\n",
       "1974-12-31   -79451.669970\n",
       "1974-12-31        0.487452\n",
       "1974-12-31       56.477664\n",
       "1974-12-31      -11.825274\n",
       "1974-12-31       -3.453532\n",
       "1974-12-31     7378.986533\n",
       "1974-12-31        0.456123\n",
       "1974-12-31        0.095107\n",
       "1974-12-31      313.170637\n",
       "1974-12-31        0.096719\n",
       "1974-12-31        0.004334\n",
       "1974-12-31      178.043970\n",
       "1974-12-31       -0.000462\n",
       "1974-12-31       37.972383\n",
       "1974-12-31      345.536512\n",
       "1974-12-31        0.792228\n",
       "1974-12-31       -0.020729\n",
       "1974-12-31       95.010014\n",
       "                  ...     \n",
       "1974-12-31        0.001098\n",
       "1974-12-31        0.017758\n",
       "1974-12-31        0.012982\n",
       "1974-12-31      -23.514610\n",
       "1974-12-31       -0.008875\n",
       "1974-12-31    -1266.776138\n",
       "1974-12-31       -0.004376\n",
       "1974-12-31        0.022562\n",
       "1974-12-31        0.005388\n",
       "1974-12-31     2058.951654\n",
       "1974-12-31      -61.184314\n",
       "1974-12-31      306.039259\n",
       "1974-12-31       -0.004658\n",
       "1974-12-31        0.016267\n",
       "1974-12-31       -0.012333\n",
       "1974-12-31      395.011711\n",
       "1974-12-31       -0.035177\n",
       "1974-12-31       -0.004229\n",
       "1974-12-31        0.028872\n",
       "1974-12-31       41.824849\n",
       "1974-12-31        0.747771\n",
       "1974-12-31     -253.577417\n",
       "1974-12-31       -0.477698\n",
       "1974-12-31       40.609882\n",
       "1974-12-31      -32.934487\n",
       "1974-12-31      -30.332649\n",
       "1974-12-31       73.599926\n",
       "1974-12-31        9.771494\n",
       "1974-12-31       14.979015\n",
       "1974-12-31     2107.278148\n",
       "Length: 673, dtype: float64"
      ]
     },
     "execution_count": 26,
     "metadata": {},
     "output_type": "execute_result"
    }
   ],
   "source": [
    "wt1['1974-12-31']"
   ]
  },
  {
   "cell_type": "code",
   "execution_count": 27,
   "metadata": {},
   "outputs": [
    {
     "data": {
      "text/plain": [
       "-54821.166157313186"
      ]
     },
     "execution_count": 27,
     "metadata": {},
     "output_type": "execute_result"
    }
   ],
   "source": [
    "wt1['1974-12-31'].sum()"
   ]
  },
  {
   "cell_type": "code",
   "execution_count": 28,
   "metadata": {},
   "outputs": [
    {
     "data": {
      "text/plain": [
       "4613124.201091287"
      ]
     },
     "execution_count": 28,
     "metadata": {},
     "output_type": "execute_result"
    }
   ],
   "source": [
    "wt1['1975-12-31'].sum()"
   ]
  },
  {
   "cell_type": "code",
   "execution_count": 163,
   "metadata": {},
   "outputs": [],
   "source": [
    "result = crsp_fa.copy()"
   ]
  },
  {
   "cell_type": "code",
   "execution_count": 167,
   "metadata": {},
   "outputs": [],
   "source": [
    "writer = pd.ExcelWriter('data/sample_fiscal.xlsx', datetime_format='YYYY-MM-DD')\n",
    "crsp_fa[crsp_fa.permno==77418].to_excel(writer, index=False)\n",
    "writer.save()"
   ]
  }
 ],
 "metadata": {
  "kernelspec": {
   "display_name": "Python 3 tensorflow",
   "language": "python",
   "name": "python3"
  },
  "language_info": {
   "codemirror_mode": {
    "name": "ipython",
    "version": 3
   },
   "file_extension": ".py",
   "mimetype": "text/x-python",
   "name": "python",
   "nbconvert_exporter": "python",
   "pygments_lexer": "ipython3",
   "version": "3.5.5"
  },
  "toc": {
   "base_numbering": 1,
   "nav_menu": {},
   "number_sections": true,
   "sideBar": true,
   "skip_h1_title": false,
   "title_cell": "Table of Contents",
   "title_sidebar": "Contents",
   "toc_cell": false,
   "toc_position": {},
   "toc_section_display": true,
   "toc_window_display": false
  },
  "varInspector": {
   "cols": {
    "lenName": 16,
    "lenType": 16,
    "lenVar": 40
   },
   "kernels_config": {
    "python": {
     "delete_cmd_postfix": "",
     "delete_cmd_prefix": "del ",
     "library": "var_list.py",
     "varRefreshCmd": "print(var_dic_list())"
    },
    "r": {
     "delete_cmd_postfix": ") ",
     "delete_cmd_prefix": "rm(",
     "library": "var_list.r",
     "varRefreshCmd": "cat(var_dic_list()) "
    }
   },
   "position": {
    "height": "567.5px",
    "left": "1130px",
    "right": "20px",
    "top": "120px",
    "width": "350px"
   },
   "types_to_exclude": [
    "module",
    "function",
    "builtin_function_or_method",
    "instance",
    "_Feature"
   ],
   "window_display": false
  }
 },
 "nbformat": 4,
 "nbformat_minor": 2
}
