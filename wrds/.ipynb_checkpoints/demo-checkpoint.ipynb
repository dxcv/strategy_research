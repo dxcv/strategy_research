{
 "cells": [
  {
   "cell_type": "code",
   "execution_count": 1,
   "metadata": {},
   "outputs": [],
   "source": [
    "%load_ext autoreload\n",
    "%autoreload 2"
   ]
  },
  {
   "cell_type": "code",
   "execution_count": 2,
   "metadata": {},
   "outputs": [],
   "source": [
    "import numpy as np\n",
    "import pandas as pd\n",
    "import matplotlib.pyplot as plt\n",
    "import seaborn as sns\n",
    "import statsmodels.api as sm\n",
    "# import tushare as ts\n",
    "# import QUANTAXIS as QA\n",
    "import talib as ta\n",
    "import datetime, time\n",
    "from dateutil.relativedelta import *\n",
    "from pandas.tseries.offsets import *"
   ]
  },
  {
   "cell_type": "code",
   "execution_count": 3,
   "metadata": {},
   "outputs": [],
   "source": [
    "from tqdm import tqdm_notebook"
   ]
  },
  {
   "cell_type": "code",
   "execution_count": 4,
   "metadata": {},
   "outputs": [],
   "source": [
    "plt.rcParams['figure.figsize'] = [12, 8]\n",
    "plt.rcParams['image.interpolation'] = 'nearest'\n",
    "plt.rcParams['image.cmap'] = 'gray'\n",
    "plt.style.use('ggplot')"
   ]
  },
  {
   "cell_type": "markdown",
   "metadata": {},
   "source": [
    "1. 数据年化处理\n",
    "\n",
    "1.1. crsp 没有fiscal end month 数据, 所以我们需要把comp中的相关数据link到ccm中, 然后再和crsp结合起来\n",
    "\n",
    "1.2. 把crsp按照每个permno进行年化处理"
   ]
  },
  {
   "cell_type": "code",
   "execution_count": 5,
   "metadata": {},
   "outputs": [],
   "source": [
    "# 先看看fundamental final数据有何不同\n",
    "comp = pd.read_csv('data/fundamental_final_1.1.zip',\n",
    "                  parse_dates=['datadate'], infer_datetime_format=True)\n",
    "# comp = comp.drop(['indfmt', 'consol', 'popsrc', 'datafmt'], axis=1)\n",
    "comp = comp.drop(['cusip'], axis=1)\n",
    "comp = comp[comp.fyr > 0]"
   ]
  },
  {
   "cell_type": "markdown",
   "metadata": {},
   "source": [
    "要么全本都是按照一个fyr去做计算，然后提取相应年份的值返回\n",
    "要么先按照月份去取数据，然后按照fyr去做年化处理，返回值"
   ]
  },
  {
   "cell_type": "markdown",
   "metadata": {},
   "source": [
    "那我选择第二个方案\n",
    "\n",
    "首先对comp添加fiscal year end month字段，方便后面去做处理\n",
    "然后循环"
   ]
  },
  {
   "cell_type": "code",
   "execution_count": 6,
   "metadata": {},
   "outputs": [],
   "source": [
    "comp = comp.assign(fystr = comp.datadate.apply(lambda x :  'A-' + x.strftime('%b')),\n",
    "                  fysm = comp.datadate - MonthBegin(12))"
   ]
  },
  {
   "cell_type": "code",
   "execution_count": 7,
   "metadata": {},
   "outputs": [],
   "source": [
    "# comp.head()"
   ]
  },
  {
   "cell_type": "code",
   "execution_count": 34,
   "metadata": {},
   "outputs": [],
   "source": [
    "# test = comp[(comp.gvkey==1003) | (comp.gvkey==1001) ]"
   ]
  },
  {
   "cell_type": "code",
   "execution_count": 35,
   "metadata": {},
   "outputs": [],
   "source": [
    "# g = test.groupby('gvkey')"
   ]
  },
  {
   "cell_type": "markdown",
   "metadata": {},
   "source": [
    "引入ccm, 链接上permno"
   ]
  },
  {
   "cell_type": "code",
   "execution_count": null,
   "metadata": {},
   "outputs": [],
   "source": [
    "ccm = pd.read_csv('data/ccm_hist.csv')\n",
    "ccm = ccm.drop('Unnamed: 0', axis=1)\n",
    "ccm = ccm[((ccm.linktype == 'LU') | (ccm.linktype == 'LC')) & \\\n",
    "   ((ccm.linkprim == 'P') | (ccm.linkprim == 'C'))]\n",
    "ccm['linkdt']=pd.to_datetime(ccm['linkdt'])\n",
    "ccm['linkenddt']=pd.to_datetime(ccm['linkenddt'])\n",
    "# if linkenddt is missing then set to today date\n",
    "ccm['linkenddt']=ccm['linkenddt'].fillna(pd.to_datetime('today'))\n",
    "\n",
    "ccm.columns = ['gvkey', 'linkprim', 'liid', 'linktype', 'permno', 'permco', 'linkdt',\n",
    "       'linkenddt']"
   ]
  },
  {
   "cell_type": "code",
   "execution_count": null,
   "metadata": {},
   "outputs": [],
   "source": [
    "ccm1 = ccm[['gvkey', 'permno']]\n",
    "ccm1.permno = ccm1.permno.astype(int)"
   ]
  },
  {
   "cell_type": "code",
   "execution_count": null,
   "metadata": {},
   "outputs": [],
   "source": [
    "comp1 = pd.merge(left=comp, right=ccm1, on=['gvkey'])"
   ]
  },
  {
   "cell_type": "code",
   "execution_count": null,
   "metadata": {},
   "outputs": [],
   "source": [
    "comp1 = comp1[['gvkey', 'datadate', 'fyear', 'fystr', 'fysm', 'permno']]"
   ]
  },
  {
   "cell_type": "markdown",
   "metadata": {},
   "source": [
    "取crsp数据, 我们开始做实验"
   ]
  },
  {
   "cell_type": "code",
   "execution_count": 11,
   "metadata": {},
   "outputs": [
    {
     "name": "stderr",
     "output_type": "stream",
     "text": [
      "E:\\ProgramData\\Anaconda3\\envs\\quant\\lib\\site-packages\\IPython\\core\\interactiveshell.py:2785: DtypeWarning: Columns (5) have mixed types. Specify dtype option on import or set low_memory=False.\n",
      "  interactivity=interactivity, compiler=compiler, result=result)\n"
     ]
    }
   ],
   "source": [
    "crsp = pd.read_csv('data/return.zip', \n",
    "                   parse_dates=['date'], infer_datetime_format=True)\n",
    "crsp[['PERMNO', 'PERMCO']] = crsp[['PERMNO', 'PERMCO']].astype(int)\n",
    "\n",
    "crsp.RET = crsp.RET.replace(['B', 'C'], [np.nan, np.nan]).astype(np.float64)\n",
    "crsp.RETX = crsp.RETX.replace(['B', 'C'], [np.nan, np.nan]).astype(np.float64)\n",
    "\n",
    "crsp.RET = crsp.RET.fillna(0)\n",
    "crsp.RETX = crsp.RETX.fillna(0)\n",
    "\n",
    "crsp = crsp.drop(['PERMCO', 'CUSIP', 'TICKER', 'COMNAM'], axis=1)\n",
    "crsp.columns = [i.lower() for i in crsp.columns]\n",
    "\n",
    "crsp = crsp.assign(mv = crsp.prc.abs() * crsp.shrout,\n",
    "                         ret_p1 = crsp.ret+1,\n",
    "                         retx_p1 = crsp.retx+1)\n",
    "crsp.date = pd.to_datetime(crsp.date) + MonthEnd(0)\n",
    "\n",
    "crsp = crsp.reset_index()\n",
    "\n",
    "\n",
    "cpi = pd.read_excel('data/CPIAUCSL.xlsx')\n",
    "crsp = pd.merge(crsp, cpi[['date', 'cpi_adjust']], on=['date'])\n",
    "crsp = crsp.assign(ret_p1_adj = crsp.ret * crsp.cpi_adjust + 1)\n",
    "crsp = crsp.set_index('date')\n",
    "crsp = crsp[['permno', 'mv', 'ret_p1', 'retx_p1', 'ret_p1_adj']]"
   ]
  },
  {
   "cell_type": "code",
   "execution_count": 13,
   "metadata": {},
   "outputs": [],
   "source": [
    "# crsp.head()"
   ]
  },
  {
   "cell_type": "code",
   "execution_count": 12,
   "metadata": {
    "scrolled": true
   },
   "outputs": [],
   "source": [
    "def fiscal_resample(df, fys, per):\n",
    "#     res = df.apply({'ret_p1':'cumprod', 'retx_p1':'cumprod'})\n",
    "    ret_p1 = df.ret_p1.cumprod().iloc[-1]\n",
    "    retx_p1 = df.retx_p1.cumprod().iloc[-1]\n",
    "    ret_p1_adj = df.ret_p1_adj.cumprod().iloc[-1]\n",
    "#     res = pd.concat([res, df.mv], axis=1).resample(fys).last()\n",
    "    mv = df.mv.resample(fys).last().iloc[-1]\n",
    "#     res.index = res.index.droplevel(0)\n",
    "    res = pd.DataFrame({'ret_p1':ret_p1, 'retx_p1':retx_p1,\n",
    "                        'ret_p1_adj':ret_p1_adj, 'mv':mv}, index=[per])\n",
    "    return res\n",
    "    \n",
    "# def fiscal_resample(df, fys, per):\n",
    "#     res = df.apply({'ret_p1':'cumprod', 'retx_p1':'cumprod'})\n",
    "#     res = pd.concat([res, df.mv], axis=1).resample(fys).last()\n",
    "# #     res = pd.DataFrame({'ret_p1':res.ret_p1, 'retx_p1':res.retx_p1, 'mv':res.mv}, \n",
    "# #                        index=[per])\n",
    "#     return res"
   ]
  },
  {
   "cell_type": "code",
   "execution_count": null,
   "metadata": {},
   "outputs": [
    {
     "data": {
      "application/vnd.jupyter.widget-view+json": {
       "model_id": "e2fff1ebff5c4d2f9183c1b063e65639",
       "version_major": 2,
       "version_minor": 0
      },
      "text/plain": [
       "HBox(children=(IntProgress(value=0, max=300526), HTML(value='')))"
      ]
     },
     "metadata": {},
     "output_type": "display_data"
    }
   ],
   "source": [
    "tic = time.perf_counter()\n",
    "code_list = comp1.gvkey.unique().tolist()[:30]\n",
    "test_comp = comp1.set_index('gvkey').loc[code_list].reset_index()\n",
    "g = test_comp.groupby(['permno', 'fyear'])\n",
    "# g = comp1.groupby(['permno', 'fyear'])\n",
    "\n",
    "# g = comp1[comp1.gvkey==25056].groupby(['permno', 'fyear'])\n",
    "\n",
    "df_list = []\n",
    "    \n",
    "for name, group in tqdm_notebook(g):\n",
    "#     crsp[crsp.permno == name][]\n",
    "#     print(name)\n",
    "#     g.apply(fiscal_resample)\n",
    "#     print(group.fysm.iloc[0], group.datadate.iloc[0])\n",
    "    start = group.fysm.iloc[0].strftime('%Y-%m-%d')\n",
    "    end = group.datadate.iloc[0].strftime('%Y-%m-%d')\n",
    "    fystring = group.fystr.iloc[0]\n",
    "    sample = crsp[crsp.permno==name[0]][start:end]\n",
    "    if len(sample) > 0:\n",
    "#         print(sample.resample(fystring).mean())\n",
    "        r = sample.resample(fystring)\n",
    "        df_list.append(r.apply(fiscal_resample, fys=fystring, per=name[0]))\n",
    "\n",
    "df_test = pd.concat(df_list, axis=0)\n",
    "df_test.index.names = ['date', 'permno']\n",
    "# crsp1 = pd.concat(df_list, axis=0)\n",
    "# crsp1.index.names = ['date', 'permno']\n",
    "# df_test\n",
    "toc= time.perf_counter()\n",
    "print(toc - tic)"
   ]
  },
  {
   "cell_type": "code",
   "execution_count": null,
   "metadata": {},
   "outputs": [
    {
     "data": {
      "application/vnd.jupyter.widget-view+json": {
       "model_id": "01bf15a51d074d74b329bb3de988f912",
       "version_major": 2,
       "version_minor": 0
      },
      "text/plain": [
       "HBox(children=(IntProgress(value=0, max=300526), HTML(value='')))"
      ]
     },
     "metadata": {},
     "output_type": "display_data"
    }
   ],
   "source": [
    "tic = time.perf_counter()\n",
    "# code_list = comp1.gvkey.unique().tolist()[:30]\n",
    "# test_comp = comp1.set_index('gvkey').loc[code_list].reset_index()\n",
    "# g = test_comp.groupby(['permno', 'fyear'])\n",
    "g = comp1.groupby(['permno', 'fyear'])\n",
    "\n",
    "# g = comp1[comp1.gvkey==25056].groupby(['permno', 'fyear'])\n",
    "\n",
    "df_list = []\n",
    "    \n",
    "for name, group in tqdm_notebook(g):\n",
    "#     crsp[crsp.permno == name][]\n",
    "#     print(name)\n",
    "#     g.apply(fiscal_resample)\n",
    "#     print(group.fysm.iloc[0], group.datadate.iloc[0])\n",
    "    start = group.fysm.iloc[0].strftime('%Y-%m-%d')\n",
    "    end = group.datadate.iloc[0].strftime('%Y-%m-%d')\n",
    "    fystring = group.fystr.iloc[0]\n",
    "    sample = crsp[crsp.permno==name[0]][start:end]\n",
    "    if len(sample) > 0:\n",
    "#         print(sample.resample(fystring).mean())\n",
    "        r = sample.resample(fystring)\n",
    "        df_list.append(r.apply(fiscal_resample, fys=fystring, per=name[0]))\n",
    "\n",
    "# df_test = pd.concat(df_list, axis=0)\n",
    "# df_test.index.names = ['date', 'permno']\n",
    "crsp1 = pd.concat(df_list, axis=0)\n",
    "crsp1.index.names = ['date', 'permno']\n",
    "# df_test\n",
    "toc= time.perf_counter()\n",
    "print(toc - tic)"
   ]
  },
  {
   "cell_type": "code",
   "execution_count": 40,
   "metadata": {},
   "outputs": [
    {
     "data": {
      "text/plain": [
       "5.0"
      ]
     },
     "execution_count": 40,
     "metadata": {},
     "output_type": "execute_result"
    }
   ],
   "source": [
    "# 先实验少量的sample, 看需要多少时间，然后再估算整体要的时间\n",
    "3e+5 * 0.001 / 60"
   ]
  },
  {
   "cell_type": "code",
   "execution_count": null,
   "metadata": {},
   "outputs": [],
   "source": [
    "comp1.index.drop()"
   ]
  },
  {
   "cell_type": "code",
   "execution_count": null,
   "metadata": {},
   "outputs": [],
   "source": []
  },
  {
   "cell_type": "code",
   "execution_count": null,
   "metadata": {},
   "outputs": [],
   "source": []
  },
  {
   "cell_type": "code",
   "execution_count": null,
   "metadata": {},
   "outputs": [],
   "source": []
  },
  {
   "cell_type": "markdown",
   "metadata": {},
   "source": [
    "'gvkey', \n",
    "'datadate', \n",
    "'fyear', \n",
    "'indfmt', \n",
    "'consol', \n",
    "'popsrc', \n",
    "'datafmt',\n",
    "'tic', \n",
    "'cusip', \n",
    "'conm', \n",
    "'curcd', \n",
    "'fyr', Fiscal Yearend Month of Data\n",
    "'bkvlps', \n",
    "'dlto', \n",
    "'dltt',\n",
    "'ebit', \n",
    "'ib', \n",
    "'pstk', \n",
    "'revt', \n",
    "'xrd', \n",
    "'costat', \n",
    "'cshtr_f', \n",
    "'fyrc' Fiscal Year-end Month - Current"
   ]
  },
  {
   "cell_type": "code",
   "execution_count": 7,
   "metadata": {},
   "outputs": [
    {
     "data": {
      "text/plain": [
       "Index(['gvkey', 'datadate', 'fyear', 'indfmt', 'consol', 'popsrc', 'datafmt',\n",
       "       'tic', 'cusip', 'conm', 'curcd', 'fyr', 'bkvlps', 'dlto', 'dltt',\n",
       "       'ebit', 'ib', 'pstk', 'revt', 'xrd', 'costat', 'cshtr_f', 'fyrc'],\n",
       "      dtype='object')"
      ]
     },
     "execution_count": 7,
     "metadata": {},
     "output_type": "execute_result"
    }
   ],
   "source": [
    "comp.columns"
   ]
  },
  {
   "cell_type": "code",
   "execution_count": 12,
   "metadata": {},
   "outputs": [],
   "source": [
    "comp.to_csv('data/fundamental_final_1.1.csv', index=False)"
   ]
  },
  {
   "cell_type": "code",
   "execution_count": 40,
   "metadata": {},
   "outputs": [],
   "source": [
    "comp_mon = pd.read_csv('data/fundamental.zip', \n",
    "                   parse_dates=['datadate'], infer_datetime_format=True)\n",
    "comp_mon = comp_mon.drop(['indfmt', 'consol', 'popsrc', 'datafmt'], axis=1)\n",
    "comp_mon = comp_mon.reset_index().drop('index', axis=1)"
   ]
  },
  {
   "cell_type": "code",
   "execution_count": 46,
   "metadata": {
    "scrolled": true
   },
   "outputs": [],
   "source": [
    "def retrieve_year_end_month(df):\n",
    "    res = (df[df.fqtr == 1].datadate + MonthEnd(9)).\\\n",
    "        apply(lambda x : 'A-' + x.strftime('%b'))\n",
    "    return pd.DataFrame({'fsm':res})"
   ]
  },
  {
   "cell_type": "code",
   "execution_count": 41,
   "metadata": {},
   "outputs": [],
   "source": [
    "data_ANTQ = comp_mon[(comp_mon.gvkey==1003)]\n",
    "data_ANTQ_fsm = data_ANTQ.groupby(['gvkey', 'fyearq']).apply(retrieve_year_end_month)\n",
    "pd.merge(data_ANTQ, data_ANTQ_fsm, on=['gvkey', 'fyearq']).shape"
   ]
  },
  {
   "cell_type": "code",
   "execution_count": 55,
   "metadata": {},
   "outputs": [],
   "source": [
    "sample = comp_mon[(comp_mon.gvkey==1003) | (comp_mon.gvkey==1001)]\n",
    "sample_fsm = sample.groupby(['gvkey', 'fyearq']).apply(retrieve_year_end_month)\n",
    "pd.merge(sample, sample_fsm, on=['gvkey', 'fyearq']).shape"
   ]
  },
  {
   "cell_type": "code",
   "execution_count": 61,
   "metadata": {},
   "outputs": [
    {
     "name": "stdout",
     "output_type": "stream",
     "text": [
      "649.5835717\n"
     ]
    }
   ],
   "source": [
    "tic = time.perf_counter()\n",
    "comp_mon_fsm = comp_mon.groupby(['gvkey', 'fyearq']).apply(retrieve_year_end_month)\n",
    "toc= time.perf_counter()\n",
    "print(toc - tic)"
   ]
  },
  {
   "cell_type": "markdown",
   "metadata": {},
   "source": [
    "下一步就是根据year end month去做resample\n",
    "\n",
    "http://pandas.pydata.org/pandas-docs/stable/user_guide/timeseries.html"
   ]
  },
  {
   "cell_type": "code",
   "execution_count": 10,
   "metadata": {},
   "outputs": [],
   "source": [
    "p = pd.Period('2011', freq='A-DEC')"
   ]
  },
  {
   "cell_type": "code",
   "execution_count": 11,
   "metadata": {},
   "outputs": [
    {
     "data": {
      "text/plain": [
       "Period('2011', 'A-DEC')"
      ]
     },
     "execution_count": 11,
     "metadata": {},
     "output_type": "execute_result"
    }
   ],
   "source": [
    "p"
   ]
  },
  {
   "cell_type": "code",
   "execution_count": 12,
   "metadata": {},
   "outputs": [
    {
     "data": {
      "text/plain": [
       "Period('2011-01', 'M')"
      ]
     },
     "execution_count": 12,
     "metadata": {},
     "output_type": "execute_result"
    }
   ],
   "source": [
    "p.asfreq('M', how='start')"
   ]
  },
  {
   "cell_type": "code",
   "execution_count": null,
   "metadata": {},
   "outputs": [],
   "source": []
  }
 ],
 "metadata": {
  "kernelspec": {
   "display_name": "Python (quant)",
   "language": "python",
   "name": "quant"
  },
  "language_info": {
   "codemirror_mode": {
    "name": "ipython",
    "version": 3
   },
   "file_extension": ".py",
   "mimetype": "text/x-python",
   "name": "python",
   "nbconvert_exporter": "python",
   "pygments_lexer": "ipython3",
   "version": "3.6.6"
  },
  "toc": {
   "base_numbering": 1,
   "nav_menu": {},
   "number_sections": true,
   "sideBar": true,
   "skip_h1_title": false,
   "title_cell": "Table of Contents",
   "title_sidebar": "Contents",
   "toc_cell": false,
   "toc_position": {},
   "toc_section_display": true,
   "toc_window_display": false
  },
  "varInspector": {
   "cols": {
    "lenName": 16,
    "lenType": 16,
    "lenVar": 40
   },
   "kernels_config": {
    "python": {
     "delete_cmd_postfix": "",
     "delete_cmd_prefix": "del ",
     "library": "var_list.py",
     "varRefreshCmd": "print(var_dic_list())"
    },
    "r": {
     "delete_cmd_postfix": ") ",
     "delete_cmd_prefix": "rm(",
     "library": "var_list.r",
     "varRefreshCmd": "cat(var_dic_list()) "
    }
   },
   "position": {
    "height": "512px",
    "left": "1463px",
    "right": "20px",
    "top": "152px",
    "width": "350px"
   },
   "types_to_exclude": [
    "module",
    "function",
    "builtin_function_or_method",
    "instance",
    "_Feature"
   ],
   "window_display": true
  }
 },
 "nbformat": 4,
 "nbformat_minor": 2
}
