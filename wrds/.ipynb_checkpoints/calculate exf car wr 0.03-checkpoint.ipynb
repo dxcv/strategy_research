{
 "cells": [
  {
   "cell_type": "code",
   "execution_count": 1,
   "metadata": {},
   "outputs": [],
   "source": [
    "%load_ext autoreload\n",
    "%autoreload 2"
   ]
  },
  {
   "cell_type": "code",
   "execution_count": 2,
   "metadata": {},
   "outputs": [],
   "source": [
    "import numpy as np\n",
    "import pandas as pd\n",
    "import matplotlib.pyplot as plt\n",
    "import seaborn as sns\n",
    "import statsmodels.api as sm\n",
    "# import tushare as ts\n",
    "# import QUANTAXIS as QA\n",
    "import talib as ta\n",
    "import datetime, time\n",
    "from dateutil.relativedelta import *\n",
    "from pandas.tseries.offsets import *\n",
    "from tqdm import tqdm_notebook"
   ]
  },
  {
   "cell_type": "code",
   "execution_count": 3,
   "metadata": {},
   "outputs": [],
   "source": [
    "plt.rcParams['figure.figsize'] = [12, 8]\n",
    "plt.rcParams['image.interpolation'] = 'nearest'\n",
    "plt.rcParams['image.cmap'] = 'gray'\n",
    "plt.style.use('ggplot')"
   ]
  },
  {
   "cell_type": "markdown",
   "metadata": {},
   "source": [
    "crsp fiscal resample"
   ]
  },
  {
   "cell_type": "code",
   "execution_count": 4,
   "metadata": {},
   "outputs": [],
   "source": [
    "def calc_exf(df):\n",
    "    ret = df.ret_p1\n",
    "    dret = df.dret_p1\n",
    "    exf = df.mv - df.mv.shift(1) * df.retx_p1\n",
    "    exf_to_mv = exf / df.mv.shift(1)\n",
    "    \n",
    "    car1 = ((ret[::-1]).rolling(1, min_periods=1).apply(np.prod, raw=True)[::-1]) - \\\n",
    "        ((dret[::-1]).rolling(1, min_periods=1).apply(np.prod, raw=True)[::-1])\n",
    "    car3 = ((ret[::-1]).rolling(3, min_periods=1).apply(np.prod, raw=True)[::-1]) - \\\n",
    "        ((dret[::-1]).rolling(3, min_periods=1).apply(np.prod, raw=True)[::-1])\n",
    "    car5 = ((ret[::-1]).rolling(5, min_periods=1).apply(np.prod, raw=True)[::-1]) - \\\n",
    "        ((dret[::-1]).rolling(5, min_periods=1).apply(np.prod, raw=True)[::-1])\n",
    "    \n",
    "    wr5 = ((ret[::-1]).rolling(5, min_periods=1).apply(np.prod, raw=True)[::-1]) / \\\n",
    "        ((dret[::-1]).rolling(5, min_periods=1).apply(np.prod, raw=True)[::-1])\n",
    "    \n",
    "#     ret_n1 = ((ret[::-1]).rolling(1, min_periods=1).apply(np.prod, raw=True)[::-1])\n",
    "#     ret_n2 = ((ret[::-1]).rolling(2, min_periods=1).apply(np.prod, raw=True)[::-1])\n",
    "#     ret_n3 = ((ret[::-1]).rolling(3, min_periods=1).apply(np.prod, raw=True)[::-1])\n",
    "#     ret_n4 = ((ret[::-1]).rolling(4, min_periods=1).apply(np.prod, raw=True)[::-1])\n",
    "#     ret_n5 = ((ret[::-1]).rolling(5, min_periods=1).apply(np.prod, raw=True)[::-1])\n",
    "#     ret_n6 = ((ret[::-1]).rolling(6, min_periods=1).apply(np.prod, raw=True)[::-1])\n",
    "#     ret_n7 = ((ret[::-1]).rolling(7, min_periods=1).apply(np.prod, raw=True)[::-1])\n",
    "#     ret_n8 = ((ret[::-1]).rolling(8, min_periods=1).apply(np.prod, raw=True)[::-1])\n",
    "    \n",
    "    res = pd.DataFrame({\n",
    "        'date':df.date,\n",
    "        'mv':df.mv,\n",
    "        'retx_p1':df.retx_p1,\n",
    "        'exf':exf,\n",
    "        'exf_to_mv':exf_to_mv,\n",
    "        'car1':car1.shift(-1),\n",
    "        'car3':car3.shift(-1),\n",
    "        'car5':car5.shift(-1),\n",
    "        'wr5':wr5.shift(-1),\n",
    "#         'ret_n1':ret_n1.shift(-1),\n",
    "#         'ret_n2':ret_n2.shift(-1),\n",
    "#         'ret_n3':ret_n3.shift(-1),\n",
    "#         'ret_n4':ret_n4.shift(-1),\n",
    "#         'ret_n5':ret_n5.shift(-1),\n",
    "#         'ret_n6':ret_n6.shift(-1),\n",
    "#         'ret_n7':ret_n7.shift(-1),\n",
    "#         'ret_n8':ret_n8.shift(-1)\n",
    "    })\n",
    "    return res"
   ]
  },
  {
   "cell_type": "code",
   "execution_count": 5,
   "metadata": {},
   "outputs": [],
   "source": [
    "crsp_fa = pd.read_csv('data/crsp_fa_filtered.zip',\n",
    "                     parse_dates=['date'], infer_datetime_format=True)"
   ]
  },
  {
   "cell_type": "code",
   "execution_count": 6,
   "metadata": {},
   "outputs": [
    {
     "data": {
      "text/html": [
       "<div>\n",
       "<style scoped>\n",
       "    .dataframe tbody tr th:only-of-type {\n",
       "        vertical-align: middle;\n",
       "    }\n",
       "\n",
       "    .dataframe tbody tr th {\n",
       "        vertical-align: top;\n",
       "    }\n",
       "\n",
       "    .dataframe thead th {\n",
       "        text-align: right;\n",
       "    }\n",
       "</style>\n",
       "<table border=\"1\" class=\"dataframe\">\n",
       "  <thead>\n",
       "    <tr style=\"text-align: right;\">\n",
       "      <th></th>\n",
       "      <th>date</th>\n",
       "      <th>permno</th>\n",
       "      <th>ret_p1</th>\n",
       "      <th>retx_p1</th>\n",
       "      <th>dret_p1</th>\n",
       "      <th>mv</th>\n",
       "      <th>mv_adj</th>\n",
       "    </tr>\n",
       "  </thead>\n",
       "  <tbody>\n",
       "    <tr>\n",
       "      <th>0</th>\n",
       "      <td>1986-10-31</td>\n",
       "      <td>10000</td>\n",
       "      <td>0.178571</td>\n",
       "      <td>0.178571</td>\n",
       "      <td>1.059979</td>\n",
       "      <td>3002.34375</td>\n",
       "      <td>5796.726244</td>\n",
       "    </tr>\n",
       "    <tr>\n",
       "      <th>1</th>\n",
       "      <td>1986-06-30</td>\n",
       "      <td>10001</td>\n",
       "      <td>1.032450</td>\n",
       "      <td>1.000000</td>\n",
       "      <td>1.252963</td>\n",
       "      <td>6033.12500</td>\n",
       "      <td>12067.131553</td>\n",
       "    </tr>\n",
       "    <tr>\n",
       "      <th>2</th>\n",
       "      <td>1987-06-30</td>\n",
       "      <td>10001</td>\n",
       "      <td>1.023885</td>\n",
       "      <td>0.959184</td>\n",
       "      <td>1.018842</td>\n",
       "      <td>5822.12500</td>\n",
       "      <td>11205.083735</td>\n",
       "    </tr>\n",
       "    <tr>\n",
       "      <th>3</th>\n",
       "      <td>1988-06-30</td>\n",
       "      <td>10001</td>\n",
       "      <td>1.140535</td>\n",
       "      <td>1.063829</td>\n",
       "      <td>0.827947</td>\n",
       "      <td>6200.00000</td>\n",
       "      <td>11459.064979</td>\n",
       "    </tr>\n",
       "    <tr>\n",
       "      <th>4</th>\n",
       "      <td>1989-06-30</td>\n",
       "      <td>10001</td>\n",
       "      <td>1.199811</td>\n",
       "      <td>1.120000</td>\n",
       "      <td>1.005611</td>\n",
       "      <td>7007.00000</td>\n",
       "      <td>12326.466763</td>\n",
       "    </tr>\n",
       "  </tbody>\n",
       "</table>\n",
       "</div>"
      ],
      "text/plain": [
       "        date  permno    ret_p1   retx_p1   dret_p1          mv        mv_adj\n",
       "0 1986-10-31   10000  0.178571  0.178571  1.059979  3002.34375   5796.726244\n",
       "1 1986-06-30   10001  1.032450  1.000000  1.252963  6033.12500  12067.131553\n",
       "2 1987-06-30   10001  1.023885  0.959184  1.018842  5822.12500  11205.083735\n",
       "3 1988-06-30   10001  1.140535  1.063829  0.827947  6200.00000  11459.064979\n",
       "4 1989-06-30   10001  1.199811  1.120000  1.005611  7007.00000  12326.466763"
      ]
     },
     "execution_count": 6,
     "metadata": {},
     "output_type": "execute_result"
    }
   ],
   "source": [
    "crsp_fa.head()"
   ]
  },
  {
   "cell_type": "code",
   "execution_count": 16,
   "metadata": {
    "collapsed": true
   },
   "outputs": [
    {
     "data": {
      "text/html": [
       "<div>\n",
       "<style scoped>\n",
       "    .dataframe tbody tr th:only-of-type {\n",
       "        vertical-align: middle;\n",
       "    }\n",
       "\n",
       "    .dataframe tbody tr th {\n",
       "        vertical-align: top;\n",
       "    }\n",
       "\n",
       "    .dataframe thead th {\n",
       "        text-align: right;\n",
       "    }\n",
       "</style>\n",
       "<table border=\"1\" class=\"dataframe\">\n",
       "  <thead>\n",
       "    <tr style=\"text-align: right;\">\n",
       "      <th></th>\n",
       "      <th>date</th>\n",
       "      <th>permno</th>\n",
       "      <th>ret_p1</th>\n",
       "      <th>retx_p1</th>\n",
       "      <th>dret_p1</th>\n",
       "      <th>mv</th>\n",
       "      <th>mv_adj</th>\n",
       "    </tr>\n",
       "  </thead>\n",
       "  <tbody>\n",
       "    <tr>\n",
       "      <th>149844</th>\n",
       "      <td>1992-06-30</td>\n",
       "      <td>77418</td>\n",
       "      <td>0.885246</td>\n",
       "      <td>0.885246</td>\n",
       "      <td>0.902617</td>\n",
       "      <td>7.399350e+04</td>\n",
       "      <td>1.153435e+05</td>\n",
       "    </tr>\n",
       "    <tr>\n",
       "      <th>149845</th>\n",
       "      <td>1993-06-30</td>\n",
       "      <td>77418</td>\n",
       "      <td>2.741783</td>\n",
       "      <td>2.740738</td>\n",
       "      <td>1.256202</td>\n",
       "      <td>2.180040e+05</td>\n",
       "      <td>3.304247e+05</td>\n",
       "    </tr>\n",
       "    <tr>\n",
       "      <th>149846</th>\n",
       "      <td>1994-06-30</td>\n",
       "      <td>77418</td>\n",
       "      <td>1.540542</td>\n",
       "      <td>1.540542</td>\n",
       "      <td>1.046047</td>\n",
       "      <td>4.129650e+05</td>\n",
       "      <td>6.094740e+05</td>\n",
       "    </tr>\n",
       "    <tr>\n",
       "      <th>149847</th>\n",
       "      <td>1995-06-30</td>\n",
       "      <td>77418</td>\n",
       "      <td>3.087717</td>\n",
       "      <td>3.087717</td>\n",
       "      <td>1.174147</td>\n",
       "      <td>1.652420e+06</td>\n",
       "      <td>2.371602e+06</td>\n",
       "    </tr>\n",
       "    <tr>\n",
       "      <th>149848</th>\n",
       "      <td>1996-06-30</td>\n",
       "      <td>77418</td>\n",
       "      <td>1.988631</td>\n",
       "      <td>1.988631</td>\n",
       "      <td>1.220468</td>\n",
       "      <td>3.935138e+06</td>\n",
       "      <td>5.489542e+06</td>\n",
       "    </tr>\n",
       "    <tr>\n",
       "      <th>149849</th>\n",
       "      <td>1997-06-30</td>\n",
       "      <td>77418</td>\n",
       "      <td>1.271430</td>\n",
       "      <td>1.271430</td>\n",
       "      <td>1.321836</td>\n",
       "      <td>5.443073e+06</td>\n",
       "      <td>7.432170e+06</td>\n",
       "    </tr>\n",
       "    <tr>\n",
       "      <th>149850</th>\n",
       "      <td>1998-06-30</td>\n",
       "      <td>77418</td>\n",
       "      <td>3.823007</td>\n",
       "      <td>3.822978</td>\n",
       "      <td>1.302787</td>\n",
       "      <td>2.272824e+07</td>\n",
       "      <td>3.050151e+07</td>\n",
       "    </tr>\n",
       "    <tr>\n",
       "      <th>149851</th>\n",
       "      <td>1999-06-30</td>\n",
       "      <td>77418</td>\n",
       "      <td>4.185493</td>\n",
       "      <td>4.185493</td>\n",
       "      <td>1.216303</td>\n",
       "      <td>1.195158e+08</td>\n",
       "      <td>1.570238e+08</td>\n",
       "    </tr>\n",
       "    <tr>\n",
       "      <th>149852</th>\n",
       "      <td>2000-06-30</td>\n",
       "      <td>77418</td>\n",
       "      <td>0.957955</td>\n",
       "      <td>0.957955</td>\n",
       "      <td>1.091818</td>\n",
       "      <td>1.216507e+08</td>\n",
       "      <td>1.542759e+08</td>\n",
       "    </tr>\n",
       "    <tr>\n",
       "      <th>149853</th>\n",
       "      <td>2001-12-31</td>\n",
       "      <td>77418</td>\n",
       "      <td>0.922413</td>\n",
       "      <td>0.922413</td>\n",
       "      <td>0.863769</td>\n",
       "      <td>1.365999e+08</td>\n",
       "      <td>1.631004e+08</td>\n",
       "    </tr>\n",
       "    <tr>\n",
       "      <th>149854</th>\n",
       "      <td>2002-12-31</td>\n",
       "      <td>77418</td>\n",
       "      <td>0.408099</td>\n",
       "      <td>0.408099</td>\n",
       "      <td>0.784459</td>\n",
       "      <td>5.631639e+07</td>\n",
       "      <td>6.543742e+07</td>\n",
       "    </tr>\n",
       "    <tr>\n",
       "      <th>149855</th>\n",
       "      <td>2003-12-31</td>\n",
       "      <td>77418</td>\n",
       "      <td>1.373283</td>\n",
       "      <td>1.373283</td>\n",
       "      <td>1.299333</td>\n",
       "      <td>7.826657e+07</td>\n",
       "      <td>8.913651e+07</td>\n",
       "    </tr>\n",
       "    <tr>\n",
       "      <th>149856</th>\n",
       "      <td>2004-12-31</td>\n",
       "      <td>77418</td>\n",
       "      <td>1.081156</td>\n",
       "      <td>1.081156</td>\n",
       "      <td>1.116584</td>\n",
       "      <td>8.575871e+07</td>\n",
       "      <td>9.496747e+07</td>\n",
       "    </tr>\n",
       "    <tr>\n",
       "      <th>149857</th>\n",
       "      <td>2005-12-31</td>\n",
       "      <td>77418</td>\n",
       "      <td>0.901661</td>\n",
       "      <td>0.896659</td>\n",
       "      <td>1.072051</td>\n",
       "      <td>7.979437e+07</td>\n",
       "      <td>8.494877e+07</td>\n",
       "    </tr>\n",
       "    <tr>\n",
       "      <th>149858</th>\n",
       "      <td>2006-12-31</td>\n",
       "      <td>77418</td>\n",
       "      <td>1.263697</td>\n",
       "      <td>1.248854</td>\n",
       "      <td>1.160715</td>\n",
       "      <td>8.652264e+07</td>\n",
       "      <td>9.023852e+07</td>\n",
       "    </tr>\n",
       "    <tr>\n",
       "      <th>149859</th>\n",
       "      <td>2007-12-31</td>\n",
       "      <td>77418</td>\n",
       "      <td>0.767318</td>\n",
       "      <td>0.758034</td>\n",
       "      <td>1.083138</td>\n",
       "      <td>5.967698e+07</td>\n",
       "      <td>5.967698e+07</td>\n",
       "    </tr>\n",
       "    <tr>\n",
       "      <th>149860</th>\n",
       "      <td>2008-12-31</td>\n",
       "      <td>77418</td>\n",
       "      <td>0.620778</td>\n",
       "      <td>0.609328</td>\n",
       "      <td>0.618783</td>\n",
       "      <td>3.608984e+07</td>\n",
       "      <td>3.613088e+07</td>\n",
       "    </tr>\n",
       "    <tr>\n",
       "      <th>149861</th>\n",
       "      <td>2009-12-31</td>\n",
       "      <td>77418</td>\n",
       "      <td>1.341498</td>\n",
       "      <td>1.303267</td>\n",
       "      <td>1.283281</td>\n",
       "      <td>3.402322e+07</td>\n",
       "      <td>3.319192e+07</td>\n",
       "    </tr>\n",
       "    <tr>\n",
       "      <th>149862</th>\n",
       "      <td>2010-12-31</td>\n",
       "      <td>77418</td>\n",
       "      <td>1.135748</td>\n",
       "      <td>1.103981</td>\n",
       "      <td>1.157316</td>\n",
       "      <td>3.568608e+07</td>\n",
       "      <td>3.423194e+07</td>\n",
       "    </tr>\n",
       "    <tr>\n",
       "      <th>149863</th>\n",
       "      <td>2011-12-31</td>\n",
       "      <td>77418</td>\n",
       "      <td>1.153788</td>\n",
       "      <td>1.123405</td>\n",
       "      <td>0.996823</td>\n",
       "      <td>3.617195e+07</td>\n",
       "      <td>3.368451e+07</td>\n",
       "    </tr>\n",
       "    <tr>\n",
       "      <th>149864</th>\n",
       "      <td>2012-12-31</td>\n",
       "      <td>77418</td>\n",
       "      <td>1.358594</td>\n",
       "      <td>1.323464</td>\n",
       "      <td>1.158397</td>\n",
       "      <td>4.528822e+07</td>\n",
       "      <td>4.147541e+07</td>\n",
       "    </tr>\n",
       "    <tr>\n",
       "      <th>149865</th>\n",
       "      <td>2013-12-31</td>\n",
       "      <td>77418</td>\n",
       "      <td>1.486231</td>\n",
       "      <td>1.457662</td>\n",
       "      <td>1.304742</td>\n",
       "      <td>6.307722e+07</td>\n",
       "      <td>5.688070e+07</td>\n",
       "    </tr>\n",
       "  </tbody>\n",
       "</table>\n",
       "</div>"
      ],
      "text/plain": [
       "             date  permno    ret_p1   retx_p1   dret_p1            mv  \\\n",
       "149844 1992-06-30   77418  0.885246  0.885246  0.902617  7.399350e+04   \n",
       "149845 1993-06-30   77418  2.741783  2.740738  1.256202  2.180040e+05   \n",
       "149846 1994-06-30   77418  1.540542  1.540542  1.046047  4.129650e+05   \n",
       "149847 1995-06-30   77418  3.087717  3.087717  1.174147  1.652420e+06   \n",
       "149848 1996-06-30   77418  1.988631  1.988631  1.220468  3.935138e+06   \n",
       "149849 1997-06-30   77418  1.271430  1.271430  1.321836  5.443073e+06   \n",
       "149850 1998-06-30   77418  3.823007  3.822978  1.302787  2.272824e+07   \n",
       "149851 1999-06-30   77418  4.185493  4.185493  1.216303  1.195158e+08   \n",
       "149852 2000-06-30   77418  0.957955  0.957955  1.091818  1.216507e+08   \n",
       "149853 2001-12-31   77418  0.922413  0.922413  0.863769  1.365999e+08   \n",
       "149854 2002-12-31   77418  0.408099  0.408099  0.784459  5.631639e+07   \n",
       "149855 2003-12-31   77418  1.373283  1.373283  1.299333  7.826657e+07   \n",
       "149856 2004-12-31   77418  1.081156  1.081156  1.116584  8.575871e+07   \n",
       "149857 2005-12-31   77418  0.901661  0.896659  1.072051  7.979437e+07   \n",
       "149858 2006-12-31   77418  1.263697  1.248854  1.160715  8.652264e+07   \n",
       "149859 2007-12-31   77418  0.767318  0.758034  1.083138  5.967698e+07   \n",
       "149860 2008-12-31   77418  0.620778  0.609328  0.618783  3.608984e+07   \n",
       "149861 2009-12-31   77418  1.341498  1.303267  1.283281  3.402322e+07   \n",
       "149862 2010-12-31   77418  1.135748  1.103981  1.157316  3.568608e+07   \n",
       "149863 2011-12-31   77418  1.153788  1.123405  0.996823  3.617195e+07   \n",
       "149864 2012-12-31   77418  1.358594  1.323464  1.158397  4.528822e+07   \n",
       "149865 2013-12-31   77418  1.486231  1.457662  1.304742  6.307722e+07   \n",
       "\n",
       "              mv_adj  \n",
       "149844  1.153435e+05  \n",
       "149845  3.304247e+05  \n",
       "149846  6.094740e+05  \n",
       "149847  2.371602e+06  \n",
       "149848  5.489542e+06  \n",
       "149849  7.432170e+06  \n",
       "149850  3.050151e+07  \n",
       "149851  1.570238e+08  \n",
       "149852  1.542759e+08  \n",
       "149853  1.631004e+08  \n",
       "149854  6.543742e+07  \n",
       "149855  8.913651e+07  \n",
       "149856  9.496747e+07  \n",
       "149857  8.494877e+07  \n",
       "149858  9.023852e+07  \n",
       "149859  5.967698e+07  \n",
       "149860  3.613088e+07  \n",
       "149861  3.319192e+07  \n",
       "149862  3.423194e+07  \n",
       "149863  3.368451e+07  \n",
       "149864  4.147541e+07  \n",
       "149865  5.688070e+07  "
      ]
     },
     "execution_count": 16,
     "metadata": {},
     "output_type": "execute_result"
    }
   ],
   "source": [
    "crsp_fa.query('permno == 77418')"
   ]
  },
  {
   "cell_type": "code",
   "execution_count": 20,
   "metadata": {},
   "outputs": [],
   "source": [
    "test = crsp_fa.query('permno == 77418').set_index('date')"
   ]
  },
  {
   "cell_type": "code",
   "execution_count": 24,
   "metadata": {
    "collapsed": true
   },
   "outputs": [
    {
     "data": {
      "text/html": [
       "<div>\n",
       "<style scoped>\n",
       "    .dataframe tbody tr th:only-of-type {\n",
       "        vertical-align: middle;\n",
       "    }\n",
       "\n",
       "    .dataframe tbody tr th {\n",
       "        vertical-align: top;\n",
       "    }\n",
       "\n",
       "    .dataframe thead th {\n",
       "        text-align: right;\n",
       "    }\n",
       "</style>\n",
       "<table border=\"1\" class=\"dataframe\">\n",
       "  <thead>\n",
       "    <tr style=\"text-align: right;\">\n",
       "      <th></th>\n",
       "      <th>permno</th>\n",
       "      <th>ret_p1</th>\n",
       "      <th>retx_p1</th>\n",
       "      <th>dret_p1</th>\n",
       "      <th>mv</th>\n",
       "      <th>mv_adj</th>\n",
       "    </tr>\n",
       "    <tr>\n",
       "      <th>date</th>\n",
       "      <th></th>\n",
       "      <th></th>\n",
       "      <th></th>\n",
       "      <th></th>\n",
       "      <th></th>\n",
       "      <th></th>\n",
       "    </tr>\n",
       "  </thead>\n",
       "  <tbody>\n",
       "    <tr>\n",
       "      <th>2002-12-31</th>\n",
       "      <td>77418</td>\n",
       "      <td>0.408099</td>\n",
       "      <td>0.408099</td>\n",
       "      <td>0.784459</td>\n",
       "      <td>56316389.10</td>\n",
       "      <td>6.543742e+07</td>\n",
       "    </tr>\n",
       "    <tr>\n",
       "      <th>2003-12-31</th>\n",
       "      <td>77418</td>\n",
       "      <td>1.373283</td>\n",
       "      <td>1.373283</td>\n",
       "      <td>1.299333</td>\n",
       "      <td>78266574.40</td>\n",
       "      <td>8.913651e+07</td>\n",
       "    </tr>\n",
       "    <tr>\n",
       "      <th>2004-12-31</th>\n",
       "      <td>77418</td>\n",
       "      <td>1.081156</td>\n",
       "      <td>1.081156</td>\n",
       "      <td>1.116584</td>\n",
       "      <td>85758706.60</td>\n",
       "      <td>9.496747e+07</td>\n",
       "    </tr>\n",
       "    <tr>\n",
       "      <th>2005-12-31</th>\n",
       "      <td>77418</td>\n",
       "      <td>0.901661</td>\n",
       "      <td>0.896659</td>\n",
       "      <td>1.072051</td>\n",
       "      <td>79794365.60</td>\n",
       "      <td>8.494877e+07</td>\n",
       "    </tr>\n",
       "    <tr>\n",
       "      <th>2006-12-31</th>\n",
       "      <td>77418</td>\n",
       "      <td>1.263697</td>\n",
       "      <td>1.248854</td>\n",
       "      <td>1.160715</td>\n",
       "      <td>86522639.94</td>\n",
       "      <td>9.023852e+07</td>\n",
       "    </tr>\n",
       "  </tbody>\n",
       "</table>\n",
       "</div>"
      ],
      "text/plain": [
       "            permno    ret_p1   retx_p1   dret_p1           mv        mv_adj\n",
       "date                                                                       \n",
       "2002-12-31   77418  0.408099  0.408099  0.784459  56316389.10  6.543742e+07\n",
       "2003-12-31   77418  1.373283  1.373283  1.299333  78266574.40  8.913651e+07\n",
       "2004-12-31   77418  1.081156  1.081156  1.116584  85758706.60  9.496747e+07\n",
       "2005-12-31   77418  0.901661  0.896659  1.072051  79794365.60  8.494877e+07\n",
       "2006-12-31   77418  1.263697  1.248854  1.160715  86522639.94  9.023852e+07"
      ]
     },
     "execution_count": 24,
     "metadata": {},
     "output_type": "execute_result"
    }
   ],
   "source": [
    "test['2002':'2006']"
   ]
  },
  {
   "cell_type": "code",
   "execution_count": 26,
   "metadata": {
    "collapsed": true
   },
   "outputs": [
    {
     "data": {
      "text/plain": [
       "date\n",
       "2002-12-31    0.408099\n",
       "2003-12-31    1.373283\n",
       "2004-12-31    1.081156\n",
       "2005-12-31    0.901661\n",
       "2006-12-31    1.263697\n",
       "Name: ret_p1, dtype: float64"
      ]
     },
     "execution_count": 26,
     "metadata": {},
     "output_type": "execute_result"
    }
   ],
   "source": [
    "test['2002':'2006'].ret_p1"
   ]
  },
  {
   "cell_type": "code",
   "execution_count": 28,
   "metadata": {},
   "outputs": [
    {
     "name": "stdout",
     "output_type": "stream",
     "text": [
      "0.6904002043681601\n"
     ]
    }
   ],
   "source": [
    "p = 1\n",
    "for i in test['2002':'2006'].ret_p1:\n",
    "    p = i * p\n",
    "print(p)"
   ]
  },
  {
   "cell_type": "code",
   "execution_count": 27,
   "metadata": {},
   "outputs": [
    {
     "data": {
      "text/plain": [
       "0.69040020436816008"
      ]
     },
     "execution_count": 27,
     "metadata": {},
     "output_type": "execute_result"
    }
   ],
   "source": [
    "test['2002':'2006'].ret_p1.prod()"
   ]
  },
  {
   "cell_type": "code",
   "execution_count": 29,
   "metadata": {},
   "outputs": [
    {
     "data": {
      "text/plain": [
       "1.4161960357477106"
      ]
     },
     "execution_count": 29,
     "metadata": {},
     "output_type": "execute_result"
    }
   ],
   "source": [
    "test['2002':'2006'].dret_p1.prod()"
   ]
  },
  {
   "cell_type": "code",
   "execution_count": 31,
   "metadata": {},
   "outputs": [],
   "source": [
    "wr5_test = test['2002':'2006'].ret_p1.prod() / test['2002':'2006'].dret_p1.prod()"
   ]
  },
  {
   "cell_type": "code",
   "execution_count": 32,
   "metadata": {},
   "outputs": [
    {
     "data": {
      "text/plain": [
       "0.48750327422265993"
      ]
     },
     "execution_count": 32,
     "metadata": {},
     "output_type": "execute_result"
    }
   ],
   "source": [
    "wr5_test"
   ]
  },
  {
   "cell_type": "code",
   "execution_count": null,
   "metadata": {},
   "outputs": [],
   "source": [
    "wr5 = ((ret[::-1]).rolling(5, min_periods=1).apply(np.prod, raw=True)[::-1]) / \\\n",
    "        ((dret[::-1]).rolling(5, min_periods=1).apply(np.prod, raw=True)[::-1])"
   ]
  },
  {
   "cell_type": "code",
   "execution_count": 34,
   "metadata": {},
   "outputs": [],
   "source": [
    "s = pd.Series(range(1,11))"
   ]
  },
  {
   "cell_type": "code",
   "execution_count": 52,
   "metadata": {
    "collapsed": true
   },
   "outputs": [
    {
     "data": {
      "text/plain": [
       "0     1\n",
       "1     2\n",
       "2     3\n",
       "3     4\n",
       "4     5\n",
       "5     6\n",
       "6     7\n",
       "7     8\n",
       "8     9\n",
       "9    10\n",
       "dtype: int64"
      ]
     },
     "execution_count": 52,
     "metadata": {},
     "output_type": "execute_result"
    }
   ],
   "source": [
    "s"
   ]
  },
  {
   "cell_type": "code",
   "execution_count": 53,
   "metadata": {
    "collapsed": true
   },
   "outputs": [
    {
     "data": {
      "text/plain": [
       "9    10\n",
       "8     9\n",
       "7     8\n",
       "6     7\n",
       "5     6\n",
       "4     5\n",
       "3     4\n",
       "2     3\n",
       "1     2\n",
       "0     1\n",
       "dtype: int64"
      ]
     },
     "execution_count": 53,
     "metadata": {},
     "output_type": "execute_result"
    }
   ],
   "source": [
    "s[::-1]"
   ]
  },
  {
   "cell_type": "code",
   "execution_count": 35,
   "metadata": {
    "collapsed": true
   },
   "outputs": [
    {
     "data": {
      "text/plain": [
       "0     NaN\n",
       "1     NaN\n",
       "2     NaN\n",
       "3     NaN\n",
       "4    15.0\n",
       "5    20.0\n",
       "6    25.0\n",
       "7    30.0\n",
       "8    35.0\n",
       "9    40.0\n",
       "dtype: float64"
      ]
     },
     "execution_count": 35,
     "metadata": {},
     "output_type": "execute_result"
    }
   ],
   "source": [
    "s.rolling(5).sum()"
   ]
  },
  {
   "cell_type": "code",
   "execution_count": 54,
   "metadata": {
    "collapsed": true
   },
   "outputs": [
    {
     "data": {
      "text/plain": [
       "9     NaN\n",
       "8     NaN\n",
       "7     NaN\n",
       "6     NaN\n",
       "5    40.0\n",
       "4    35.0\n",
       "3    30.0\n",
       "2    25.0\n",
       "1    20.0\n",
       "0    15.0\n",
       "dtype: float64"
      ]
     },
     "execution_count": 54,
     "metadata": {},
     "output_type": "execute_result"
    }
   ],
   "source": [
    "s[::-1].rolling(5).sum()"
   ]
  },
  {
   "cell_type": "code",
   "execution_count": 55,
   "metadata": {
    "collapsed": true
   },
   "outputs": [
    {
     "data": {
      "text/plain": [
       "0    15.0\n",
       "1    20.0\n",
       "2    25.0\n",
       "3    30.0\n",
       "4    35.0\n",
       "5    40.0\n",
       "6     NaN\n",
       "7     NaN\n",
       "8     NaN\n",
       "9     NaN\n",
       "dtype: float64"
      ]
     },
     "execution_count": 55,
     "metadata": {},
     "output_type": "execute_result"
    }
   ],
   "source": [
    "s[::-1].rolling(5).sum()[::-1]"
   ]
  },
  {
   "cell_type": "code",
   "execution_count": 56,
   "metadata": {
    "collapsed": true
   },
   "outputs": [
    {
     "data": {
      "text/plain": [
       "0    20.0\n",
       "1    25.0\n",
       "2    30.0\n",
       "3    35.0\n",
       "4    40.0\n",
       "5     NaN\n",
       "6     NaN\n",
       "7     NaN\n",
       "8     NaN\n",
       "9     NaN\n",
       "dtype: float64"
      ]
     },
     "execution_count": 56,
     "metadata": {},
     "output_type": "execute_result"
    }
   ],
   "source": [
    "s[::-1].rolling(5).sum()[::-1].shift(-1)"
   ]
  },
  {
   "cell_type": "code",
   "execution_count": 58,
   "metadata": {},
   "outputs": [
    {
     "data": {
      "text/plain": [
       "0    20.0\n",
       "1    25.0\n",
       "2    30.0\n",
       "3    35.0\n",
       "4    40.0\n",
       "5    34.0\n",
       "6    27.0\n",
       "7    19.0\n",
       "8    10.0\n",
       "9     NaN\n",
       "dtype: float64"
      ]
     },
     "execution_count": 58,
     "metadata": {},
     "output_type": "execute_result"
    }
   ],
   "source": [
    "s[::-1].rolling(5, min_periods=1).sum()[::-1].shift(-1)"
   ]
  },
  {
   "cell_type": "code",
   "execution_count": 50,
   "metadata": {
    "collapsed": true
   },
   "outputs": [
    {
     "data": {
      "text/plain": [
       "0     1.0\n",
       "1     3.0\n",
       "2     6.0\n",
       "3    10.0\n",
       "4    15.0\n",
       "5    20.0\n",
       "6    25.0\n",
       "7    30.0\n",
       "8    35.0\n",
       "9    40.0\n",
       "dtype: float64"
      ]
     },
     "execution_count": 50,
     "metadata": {},
     "output_type": "execute_result"
    }
   ],
   "source": [
    "s.rolling(5, min_periods=1).sum()"
   ]
  },
  {
   "cell_type": "code",
   "execution_count": 49,
   "metadata": {
    "collapsed": true
   },
   "outputs": [
    {
     "data": {
      "text/plain": [
       "0        1.0\n",
       "1        2.0\n",
       "2        6.0\n",
       "3       24.0\n",
       "4      120.0\n",
       "5      720.0\n",
       "6     2520.0\n",
       "7     6720.0\n",
       "8    15120.0\n",
       "9    30240.0\n",
       "dtype: float64"
      ]
     },
     "execution_count": 49,
     "metadata": {},
     "output_type": "execute_result"
    }
   ],
   "source": [
    "s.rolling(5, min_periods=1).apply(np.prod, raw=True)"
   ]
  },
  {
   "cell_type": "code",
   "execution_count": 43,
   "metadata": {
    "collapsed": true
   },
   "outputs": [
    {
     "data": {
      "text/plain": [
       "date\n",
       "1992-06-30    0.885246\n",
       "1993-06-30    2.741783\n",
       "1994-06-30    1.540542\n",
       "1995-06-30    3.087717\n",
       "1996-06-30    1.988631\n",
       "1997-06-30    1.271430\n",
       "1998-06-30    3.823007\n",
       "1999-06-30    4.185493\n",
       "2000-06-30    0.957955\n",
       "2001-12-31    0.922413\n",
       "2002-12-31    0.408099\n",
       "2003-12-31    1.373283\n",
       "2004-12-31    1.081156\n",
       "2005-12-31    0.901661\n",
       "2006-12-31    1.263697\n",
       "2007-12-31    0.767318\n",
       "2008-12-31    0.620778\n",
       "2009-12-31    1.341498\n",
       "2010-12-31    1.135748\n",
       "2011-12-31    1.153788\n",
       "2012-12-31    1.358594\n",
       "2013-12-31    1.486231\n",
       "Name: ret_p1, dtype: float64"
      ]
     },
     "execution_count": 43,
     "metadata": {},
     "output_type": "execute_result"
    }
   ],
   "source": [
    "test.ret_p1"
   ]
  },
  {
   "cell_type": "code",
   "execution_count": 59,
   "metadata": {
    "collapsed": true
   },
   "outputs": [
    {
     "data": {
      "text/plain": [
       "date\n",
       "1992-06-30     32.975429\n",
       "1993-06-30     45.979314\n",
       "1994-06-30    124.921070\n",
       "1995-06-30     38.756382\n",
       "1996-06-30     17.976892\n",
       "1997-06-30      5.770165\n",
       "1998-06-30      2.072731\n",
       "1999-06-30      0.535408\n",
       "2000-06-30      0.503945\n",
       "2001-12-31      0.690400\n",
       "2002-12-31      1.298106\n",
       "2003-12-31      0.586795\n",
       "2004-12-31      0.728095\n",
       "2005-12-31      0.917121\n",
       "2006-12-31      0.837355\n",
       "2007-12-31      1.482600\n",
       "2008-12-31      3.549555\n",
       "2009-12-31      2.645964\n",
       "2010-12-31      2.329711\n",
       "2011-12-31      2.019184\n",
       "2012-12-31      1.486231\n",
       "2013-12-31           NaN\n",
       "Name: ret_p1, dtype: float64"
      ]
     },
     "execution_count": 59,
     "metadata": {},
     "output_type": "execute_result"
    }
   ],
   "source": [
    "test.ret_p1[::-1].rolling(5, min_periods=1).apply(np.prod, raw=True)[::-1].shift(-1)\n",
    "# test.ret_p1.rolling(5, min_periods=1).apply(np.prod, raw=True)"
   ]
  },
  {
   "cell_type": "code",
   "execution_count": 60,
   "metadata": {
    "collapsed": true
   },
   "outputs": [
    {
     "data": {
      "text/plain": [
       "date\n",
       "1992-06-30    2.489071\n",
       "1993-06-30    2.581374\n",
       "1994-06-30    3.001522\n",
       "1995-06-30    2.791061\n",
       "1996-06-30    1.975333\n",
       "1997-06-30    1.172284\n",
       "1998-06-30    1.169177\n",
       "1999-06-30    1.073322\n",
       "2000-06-30    1.053890\n",
       "2001-12-31    1.416196\n",
       "2002-12-31    1.955406\n",
       "2003-12-31    0.931225\n",
       "2004-12-31    1.070250\n",
       "2005-12-31    1.155372\n",
       "2006-12-31    0.992235\n",
       "2007-12-31    1.061177\n",
       "2008-12-31    2.237557\n",
       "2009-12-31    1.743622\n",
       "2010-12-31    1.506608\n",
       "2011-12-31    1.511410\n",
       "2012-12-31    1.304742\n",
       "2013-12-31         NaN\n",
       "Name: dret_p1, dtype: float64"
      ]
     },
     "execution_count": 60,
     "metadata": {},
     "output_type": "execute_result"
    }
   ],
   "source": [
    "test.dret_p1[::-1].rolling(5, min_periods=1).apply(np.prod, raw=True)[::-1].shift(-1)"
   ]
  },
  {
   "cell_type": "code",
   "execution_count": 61,
   "metadata": {
    "collapsed": true
   },
   "outputs": [
    {
     "data": {
      "text/plain": [
       "date\n",
       "1992-06-30    13.248084\n",
       "1993-06-30    17.811951\n",
       "1994-06-30    41.619246\n",
       "1995-06-30    13.885897\n",
       "1996-06-30     9.100687\n",
       "1997-06-30     4.922155\n",
       "1998-06-30     1.772812\n",
       "1999-06-30     0.498832\n",
       "2000-06-30     0.478177\n",
       "2001-12-31     0.487503\n",
       "2002-12-31     0.663855\n",
       "2003-12-31     0.630132\n",
       "2004-12-31     0.680304\n",
       "2005-12-31     0.793789\n",
       "2006-12-31     0.843908\n",
       "2007-12-31     1.397127\n",
       "2008-12-31     1.586353\n",
       "2009-12-31     1.517510\n",
       "2010-12-31     1.546328\n",
       "2011-12-31     1.335961\n",
       "2012-12-31     1.139100\n",
       "2013-12-31          NaN\n",
       "dtype: float64"
      ]
     },
     "execution_count": 61,
     "metadata": {},
     "output_type": "execute_result"
    }
   ],
   "source": [
    "(test.ret_p1[::-1].rolling(5, min_periods=1).apply(np.prod, raw=True)[::-1].shift(-1)) / \\\n",
    "(test.dret_p1[::-1].rolling(5, min_periods=1).apply(np.prod, raw=True)[::-1].shift(-1))"
   ]
  },
  {
   "cell_type": "code",
   "execution_count": 62,
   "metadata": {
    "collapsed": true
   },
   "outputs": [
    {
     "data": {
      "text/plain": [
       "date\n",
       "1992-06-30     30.486357\n",
       "1993-06-30     43.397940\n",
       "1994-06-30    121.919548\n",
       "1995-06-30     35.965321\n",
       "1996-06-30     16.001558\n",
       "1997-06-30      4.597881\n",
       "1998-06-30      0.903554\n",
       "1999-06-30     -0.537914\n",
       "2000-06-30     -0.549944\n",
       "2001-12-31     -0.725796\n",
       "2002-12-31     -0.657300\n",
       "2003-12-31     -0.344430\n",
       "2004-12-31     -0.342154\n",
       "2005-12-31     -0.238251\n",
       "2006-12-31     -0.154880\n",
       "2007-12-31      0.421423\n",
       "2008-12-31      1.311998\n",
       "2009-12-31      0.902342\n",
       "2010-12-31      0.823103\n",
       "2011-12-31      0.507775\n",
       "2012-12-31      0.181489\n",
       "2013-12-31           NaN\n",
       "dtype: float64"
      ]
     },
     "execution_count": 62,
     "metadata": {},
     "output_type": "execute_result"
    }
   ],
   "source": [
    "(test.ret_p1[::-1].rolling(5, min_periods=1).apply(np.prod, raw=True)[::-1].shift(-1)) - \\\n",
    "(test.dret_p1[::-1].rolling(5, min_periods=1).apply(np.prod, raw=True)[::-1].shift(-1))"
   ]
  },
  {
   "cell_type": "code",
   "execution_count": null,
   "metadata": {},
   "outputs": [],
   "source": []
  },
  {
   "cell_type": "code",
   "execution_count": null,
   "metadata": {},
   "outputs": [],
   "source": []
  },
  {
   "cell_type": "code",
   "execution_count": null,
   "metadata": {},
   "outputs": [],
   "source": []
  },
  {
   "cell_type": "code",
   "execution_count": null,
   "metadata": {},
   "outputs": [],
   "source": []
  },
  {
   "cell_type": "code",
   "execution_count": null,
   "metadata": {},
   "outputs": [],
   "source": []
  },
  {
   "cell_type": "code",
   "execution_count": 6,
   "metadata": {
    "collapsed": true
   },
   "outputs": [
    {
     "data": {
      "text/html": [
       "<div>\n",
       "<style scoped>\n",
       "    .dataframe tbody tr th:only-of-type {\n",
       "        vertical-align: middle;\n",
       "    }\n",
       "\n",
       "    .dataframe tbody tr th {\n",
       "        vertical-align: top;\n",
       "    }\n",
       "\n",
       "    .dataframe thead th {\n",
       "        text-align: right;\n",
       "    }\n",
       "</style>\n",
       "<table border=\"1\" class=\"dataframe\">\n",
       "  <thead>\n",
       "    <tr style=\"text-align: right;\">\n",
       "      <th></th>\n",
       "      <th>date</th>\n",
       "      <th>permno</th>\n",
       "      <th>ret_p1</th>\n",
       "      <th>retx_p1</th>\n",
       "      <th>dret_p1</th>\n",
       "      <th>mv</th>\n",
       "      <th>mv_adj</th>\n",
       "    </tr>\n",
       "  </thead>\n",
       "  <tbody>\n",
       "    <tr>\n",
       "      <th>0</th>\n",
       "      <td>1986-10-31</td>\n",
       "      <td>10000</td>\n",
       "      <td>0.178571</td>\n",
       "      <td>0.178571</td>\n",
       "      <td>1.059979</td>\n",
       "      <td>3002.34375</td>\n",
       "      <td>5796.726244</td>\n",
       "    </tr>\n",
       "    <tr>\n",
       "      <th>1</th>\n",
       "      <td>1986-06-30</td>\n",
       "      <td>10001</td>\n",
       "      <td>1.032450</td>\n",
       "      <td>1.000000</td>\n",
       "      <td>1.252963</td>\n",
       "      <td>6033.12500</td>\n",
       "      <td>12067.131553</td>\n",
       "    </tr>\n",
       "    <tr>\n",
       "      <th>2</th>\n",
       "      <td>1987-06-30</td>\n",
       "      <td>10001</td>\n",
       "      <td>1.023885</td>\n",
       "      <td>0.959184</td>\n",
       "      <td>1.018842</td>\n",
       "      <td>5822.12500</td>\n",
       "      <td>11205.083735</td>\n",
       "    </tr>\n",
       "    <tr>\n",
       "      <th>3</th>\n",
       "      <td>1988-06-30</td>\n",
       "      <td>10001</td>\n",
       "      <td>1.140535</td>\n",
       "      <td>1.063829</td>\n",
       "      <td>0.827947</td>\n",
       "      <td>6200.00000</td>\n",
       "      <td>11459.064979</td>\n",
       "    </tr>\n",
       "    <tr>\n",
       "      <th>4</th>\n",
       "      <td>1989-06-30</td>\n",
       "      <td>10001</td>\n",
       "      <td>1.199811</td>\n",
       "      <td>1.120000</td>\n",
       "      <td>1.005611</td>\n",
       "      <td>7007.00000</td>\n",
       "      <td>12326.466763</td>\n",
       "    </tr>\n",
       "  </tbody>\n",
       "</table>\n",
       "</div>"
      ],
      "text/plain": [
       "        date  permno    ret_p1   retx_p1   dret_p1          mv        mv_adj\n",
       "0 1986-10-31   10000  0.178571  0.178571  1.059979  3002.34375   5796.726244\n",
       "1 1986-06-30   10001  1.032450  1.000000  1.252963  6033.12500  12067.131553\n",
       "2 1987-06-30   10001  1.023885  0.959184  1.018842  5822.12500  11205.083735\n",
       "3 1988-06-30   10001  1.140535  1.063829  0.827947  6200.00000  11459.064979\n",
       "4 1989-06-30   10001  1.199811  1.120000  1.005611  7007.00000  12326.466763"
      ]
     },
     "execution_count": 6,
     "metadata": {},
     "output_type": "execute_result"
    }
   ],
   "source": [
    "crsp_fa.head()"
   ]
  },
  {
   "cell_type": "markdown",
   "metadata": {},
   "source": [
    "验证mv adjust是否正确"
   ]
  },
  {
   "cell_type": "code",
   "execution_count": 7,
   "metadata": {},
   "outputs": [],
   "source": [
    "cpi = pd.read_excel('data/CPIAUCSL.xlsx', index_col=0)"
   ]
  },
  {
   "cell_type": "code",
   "execution_count": 11,
   "metadata": {},
   "outputs": [
    {
     "data": {
      "text/plain": [
       "9.0949470177292824e-13"
      ]
     },
     "execution_count": 11,
     "metadata": {},
     "output_type": "execute_result"
    }
   ],
   "source": [
    "crsp_fa = crsp_fa.set_index('date')\n",
    "(crsp_fa['1986-10-31'].query('permno == 10000').mv.iloc[0] / \\\n",
    "cpi['1986-11'].cpi_adjust.iloc[0]) - \\\n",
    "(crsp_fa['1986-10-31'].query('permno == 10000').mv_adj.iloc[0])"
   ]
  },
  {
   "cell_type": "code",
   "execution_count": 12,
   "metadata": {},
   "outputs": [],
   "source": [
    "crsp_fa = crsp_fa.reset_index()"
   ]
  },
  {
   "cell_type": "markdown",
   "metadata": {},
   "source": [
    "查看firm-years数量\n",
    "\n",
    "ps:因为流通股数的单位默认是1000, 故mv_adj只需要大于50000即可"
   ]
  },
  {
   "cell_type": "code",
   "execution_count": 8,
   "metadata": {},
   "outputs": [
    {
     "data": {
      "text/plain": [
       "145087"
      ]
     },
     "execution_count": 8,
     "metadata": {},
     "output_type": "execute_result"
    }
   ],
   "source": [
    "# crsp_fa[crsp_fa.mv_adj >= 5e+4].shape[0]"
   ]
  },
  {
   "cell_type": "code",
   "execution_count": 7,
   "metadata": {},
   "outputs": [
    {
     "data": {
      "text/plain": [
       "140820"
      ]
     },
     "execution_count": 7,
     "metadata": {},
     "output_type": "execute_result"
    }
   ],
   "source": [
    "crsp_fa = crsp_fa.reset_index().set_index('date')[:'2008']\n",
    "crsp_fa[(crsp_fa.mv_adj.shift(1) * crsp_fa.retx_p1) >= 5e+4].shape[0]"
   ]
  },
  {
   "cell_type": "code",
   "execution_count": 8,
   "metadata": {},
   "outputs": [],
   "source": [
    "# crsp_fa = crsp_fa[crsp_fa.mv_adj >= 5e+4]\n",
    "crsp_fa = crsp_fa[crsp_fa.mv_adj.shift(1) * crsp_fa.retx_p1 >= 5e+4]"
   ]
  },
  {
   "cell_type": "code",
   "execution_count": 9,
   "metadata": {},
   "outputs": [],
   "source": [
    "crsp_fa = crsp_fa.reset_index()"
   ]
  },
  {
   "cell_type": "code",
   "execution_count": 10,
   "metadata": {},
   "outputs": [
    {
     "data": {
      "text/html": [
       "<div>\n",
       "<style scoped>\n",
       "    .dataframe tbody tr th:only-of-type {\n",
       "        vertical-align: middle;\n",
       "    }\n",
       "\n",
       "    .dataframe tbody tr th {\n",
       "        vertical-align: top;\n",
       "    }\n",
       "\n",
       "    .dataframe thead th {\n",
       "        text-align: right;\n",
       "    }\n",
       "</style>\n",
       "<table border=\"1\" class=\"dataframe\">\n",
       "  <thead>\n",
       "    <tr style=\"text-align: right;\">\n",
       "      <th></th>\n",
       "      <th>date</th>\n",
       "      <th>index</th>\n",
       "      <th>permno</th>\n",
       "      <th>ret_p1</th>\n",
       "      <th>retx_p1</th>\n",
       "      <th>dret_p1</th>\n",
       "      <th>mv</th>\n",
       "      <th>mv_adj</th>\n",
       "    </tr>\n",
       "  </thead>\n",
       "  <tbody>\n",
       "    <tr>\n",
       "      <th>0</th>\n",
       "      <td>1994-12-31</td>\n",
       "      <td>37</td>\n",
       "      <td>10002</td>\n",
       "      <td>1.039473</td>\n",
       "      <td>1.019418</td>\n",
       "      <td>0.927850</td>\n",
       "      <td>39361.875</td>\n",
       "      <td>55492.135988</td>\n",
       "    </tr>\n",
       "    <tr>\n",
       "      <th>1</th>\n",
       "      <td>1995-12-31</td>\n",
       "      <td>38</td>\n",
       "      <td>10002</td>\n",
       "      <td>1.092129</td>\n",
       "      <td>1.066668</td>\n",
       "      <td>1.373491</td>\n",
       "      <td>42028.000</td>\n",
       "      <td>57642.203439</td>\n",
       "    </tr>\n",
       "    <tr>\n",
       "      <th>2</th>\n",
       "      <td>1996-12-31</td>\n",
       "      <td>39</td>\n",
       "      <td>10002</td>\n",
       "      <td>0.955922</td>\n",
       "      <td>0.928571</td>\n",
       "      <td>1.116432</td>\n",
       "      <td>39026.000</td>\n",
       "      <td>51946.690866</td>\n",
       "    </tr>\n",
       "    <tr>\n",
       "      <th>3</th>\n",
       "      <td>1997-12-31</td>\n",
       "      <td>40</td>\n",
       "      <td>10002</td>\n",
       "      <td>1.962960</td>\n",
       "      <td>1.884614</td>\n",
       "      <td>1.257241</td>\n",
       "      <td>104027.000</td>\n",
       "      <td>136245.831469</td>\n",
       "    </tr>\n",
       "    <tr>\n",
       "      <th>4</th>\n",
       "      <td>1998-12-31</td>\n",
       "      <td>41</td>\n",
       "      <td>10002</td>\n",
       "      <td>0.951829</td>\n",
       "      <td>0.933673</td>\n",
       "      <td>0.942657</td>\n",
       "      <td>117867.250</td>\n",
       "      <td>151841.930185</td>\n",
       "    </tr>\n",
       "  </tbody>\n",
       "</table>\n",
       "</div>"
      ],
      "text/plain": [
       "        date  index  permno    ret_p1   retx_p1   dret_p1          mv  \\\n",
       "0 1994-12-31     37   10002  1.039473  1.019418  0.927850   39361.875   \n",
       "1 1995-12-31     38   10002  1.092129  1.066668  1.373491   42028.000   \n",
       "2 1996-12-31     39   10002  0.955922  0.928571  1.116432   39026.000   \n",
       "3 1997-12-31     40   10002  1.962960  1.884614  1.257241  104027.000   \n",
       "4 1998-12-31     41   10002  0.951829  0.933673  0.942657  117867.250   \n",
       "\n",
       "          mv_adj  \n",
       "0   55492.135988  \n",
       "1   57642.203439  \n",
       "2   51946.690866  \n",
       "3  136245.831469  \n",
       "4  151841.930185  "
      ]
     },
     "execution_count": 10,
     "metadata": {},
     "output_type": "execute_result"
    }
   ],
   "source": [
    "crsp_fa.head()"
   ]
  },
  {
   "cell_type": "code",
   "execution_count": 11,
   "metadata": {},
   "outputs": [
    {
     "name": "stdout",
     "output_type": "stream",
     "text": [
      "157.3110456\n"
     ]
    }
   ],
   "source": [
    "tic = time.perf_counter()\n",
    "crsp_fa = crsp_fa.set_index('permno').groupby('permno').apply(calc_exf)\n",
    "toc = time.perf_counter()\n",
    "print(toc-tic)"
   ]
  },
  {
   "cell_type": "markdown",
   "metadata": {},
   "source": [
    "\n",
    "exf_to_mv : $EXF_{t}/MV_{t-1}$\n",
    "\n",
    "ret_n1 : 接下来1年的return\n"
   ]
  },
  {
   "cell_type": "code",
   "execution_count": 14,
   "metadata": {},
   "outputs": [],
   "source": [
    "from scipy.stats import mstats"
   ]
  },
  {
   "cell_type": "code",
   "execution_count": 12,
   "metadata": {},
   "outputs": [
    {
     "data": {
      "text/html": [
       "<div>\n",
       "<style scoped>\n",
       "    .dataframe tbody tr th:only-of-type {\n",
       "        vertical-align: middle;\n",
       "    }\n",
       "\n",
       "    .dataframe tbody tr th {\n",
       "        vertical-align: top;\n",
       "    }\n",
       "\n",
       "    .dataframe thead th {\n",
       "        text-align: right;\n",
       "    }\n",
       "</style>\n",
       "<table border=\"1\" class=\"dataframe\">\n",
       "  <thead>\n",
       "    <tr style=\"text-align: right;\">\n",
       "      <th></th>\n",
       "      <th>date</th>\n",
       "      <th>mv</th>\n",
       "      <th>retx_p1</th>\n",
       "      <th>exf</th>\n",
       "      <th>exf_to_mv</th>\n",
       "      <th>car1</th>\n",
       "      <th>car3</th>\n",
       "      <th>car5</th>\n",
       "      <th>wr5</th>\n",
       "    </tr>\n",
       "    <tr>\n",
       "      <th>permno</th>\n",
       "      <th></th>\n",
       "      <th></th>\n",
       "      <th></th>\n",
       "      <th></th>\n",
       "      <th></th>\n",
       "      <th></th>\n",
       "      <th></th>\n",
       "      <th></th>\n",
       "      <th></th>\n",
       "    </tr>\n",
       "  </thead>\n",
       "  <tbody>\n",
       "    <tr>\n",
       "      <th>10002</th>\n",
       "      <td>1994-12-31</td>\n",
       "      <td>39361.875</td>\n",
       "      <td>1.019418</td>\n",
       "      <td>NaN</td>\n",
       "      <td>NaN</td>\n",
       "      <td>-0.281362</td>\n",
       "      <td>0.121447</td>\n",
       "      <td>-0.897720</td>\n",
       "      <td>0.640625</td>\n",
       "    </tr>\n",
       "    <tr>\n",
       "      <th>10002</th>\n",
       "      <td>1995-12-31</td>\n",
       "      <td>42028.000</td>\n",
       "      <td>1.066668</td>\n",
       "      <td>41.937460</td>\n",
       "      <td>1.065433e-03</td>\n",
       "      <td>-0.160509</td>\n",
       "      <td>0.462912</td>\n",
       "      <td>-0.522323</td>\n",
       "      <td>0.688416</td>\n",
       "    </tr>\n",
       "    <tr>\n",
       "      <th>10002</th>\n",
       "      <td>1996-12-31</td>\n",
       "      <td>39026.000</td>\n",
       "      <td>0.928571</td>\n",
       "      <td>-0.001807</td>\n",
       "      <td>-4.298500e-08</td>\n",
       "      <td>0.705720</td>\n",
       "      <td>-0.096200</td>\n",
       "      <td>-0.527141</td>\n",
       "      <td>0.719418</td>\n",
       "    </tr>\n",
       "    <tr>\n",
       "      <th>10002</th>\n",
       "      <td>1997-12-31</td>\n",
       "      <td>104027.000</td>\n",
       "      <td>1.884614</td>\n",
       "      <td>30478.045526</td>\n",
       "      <td>7.809677e-01</td>\n",
       "      <td>0.009172</td>\n",
       "      <td>-0.579293</td>\n",
       "      <td>-0.533391</td>\n",
       "      <td>0.601983</td>\n",
       "    </tr>\n",
       "    <tr>\n",
       "      <th>10002</th>\n",
       "      <td>1998-12-31</td>\n",
       "      <td>117867.250</td>\n",
       "      <td>0.933673</td>\n",
       "      <td>20740.033634</td>\n",
       "      <td>1.993716e-01</td>\n",
       "      <td>-0.554149</td>\n",
       "      <td>-0.861840</td>\n",
       "      <td>-1.102672</td>\n",
       "      <td>0.534312</td>\n",
       "    </tr>\n",
       "  </tbody>\n",
       "</table>\n",
       "</div>"
      ],
      "text/plain": [
       "             date          mv   retx_p1           exf     exf_to_mv      car1  \\\n",
       "permno                                                                          \n",
       "10002  1994-12-31   39361.875  1.019418           NaN           NaN -0.281362   \n",
       "10002  1995-12-31   42028.000  1.066668     41.937460  1.065433e-03 -0.160509   \n",
       "10002  1996-12-31   39026.000  0.928571     -0.001807 -4.298500e-08  0.705720   \n",
       "10002  1997-12-31  104027.000  1.884614  30478.045526  7.809677e-01  0.009172   \n",
       "10002  1998-12-31  117867.250  0.933673  20740.033634  1.993716e-01 -0.554149   \n",
       "\n",
       "            car3      car5       wr5  \n",
       "permno                                \n",
       "10002   0.121447 -0.897720  0.640625  \n",
       "10002   0.462912 -0.522323  0.688416  \n",
       "10002  -0.096200 -0.527141  0.719418  \n",
       "10002  -0.579293 -0.533391  0.601983  \n",
       "10002  -0.861840 -1.102672  0.534312  "
      ]
     },
     "execution_count": 12,
     "metadata": {},
     "output_type": "execute_result"
    }
   ],
   "source": [
    "crsp_fa.head()"
   ]
  },
  {
   "cell_type": "markdown",
   "metadata": {},
   "source": [
    "winsorize"
   ]
  },
  {
   "cell_type": "code",
   "execution_count": 26,
   "metadata": {
    "scrolled": true
   },
   "outputs": [
    {
     "data": {
      "text/html": [
       "<div>\n",
       "<style scoped>\n",
       "    .dataframe tbody tr th:only-of-type {\n",
       "        vertical-align: middle;\n",
       "    }\n",
       "\n",
       "    .dataframe tbody tr th {\n",
       "        vertical-align: top;\n",
       "    }\n",
       "\n",
       "    .dataframe thead th {\n",
       "        text-align: right;\n",
       "    }\n",
       "</style>\n",
       "<table border=\"1\" class=\"dataframe\">\n",
       "  <thead>\n",
       "    <tr style=\"text-align: right;\">\n",
       "      <th></th>\n",
       "      <th>permno</th>\n",
       "      <th>exf_to_mv</th>\n",
       "      <th>car1</th>\n",
       "      <th>car3</th>\n",
       "      <th>car5</th>\n",
       "      <th>wr5</th>\n",
       "    </tr>\n",
       "    <tr>\n",
       "      <th>exf_to_mv</th>\n",
       "      <th></th>\n",
       "      <th></th>\n",
       "      <th></th>\n",
       "      <th></th>\n",
       "      <th></th>\n",
       "      <th></th>\n",
       "    </tr>\n",
       "  </thead>\n",
       "  <tbody>\n",
       "    <tr>\n",
       "      <th>(-2.008, -0.0433]</th>\n",
       "      <td>57375.578350</td>\n",
       "      <td>-0.280491</td>\n",
       "      <td>0.153113</td>\n",
       "      <td>0.359148</td>\n",
       "      <td>0.549825</td>\n",
       "      <td>1.329062</td>\n",
       "    </tr>\n",
       "    <tr>\n",
       "      <th>(-0.0433, -0.00669]</th>\n",
       "      <td>56128.387450</td>\n",
       "      <td>-0.021075</td>\n",
       "      <td>0.049655</td>\n",
       "      <td>0.157581</td>\n",
       "      <td>0.253104</td>\n",
       "      <td>1.170257</td>\n",
       "    </tr>\n",
       "    <tr>\n",
       "      <th>(-0.00669, -1.33e-07]</th>\n",
       "      <td>55818.941662</td>\n",
       "      <td>-0.001465</td>\n",
       "      <td>0.045738</td>\n",
       "      <td>0.148779</td>\n",
       "      <td>0.250850</td>\n",
       "      <td>1.160143</td>\n",
       "    </tr>\n",
       "    <tr>\n",
       "      <th>(-1.33e-07, 0.000943]</th>\n",
       "      <td>54902.980472</td>\n",
       "      <td>0.000192</td>\n",
       "      <td>0.056655</td>\n",
       "      <td>0.161470</td>\n",
       "      <td>0.272402</td>\n",
       "      <td>1.169021</td>\n",
       "    </tr>\n",
       "    <tr>\n",
       "      <th>(0.000943, 0.00465]</th>\n",
       "      <td>54940.159817</td>\n",
       "      <td>0.002642</td>\n",
       "      <td>0.066227</td>\n",
       "      <td>0.155971</td>\n",
       "      <td>0.246640</td>\n",
       "      <td>1.150438</td>\n",
       "    </tr>\n",
       "    <tr>\n",
       "      <th>(0.00465, 0.0111]</th>\n",
       "      <td>55714.778985</td>\n",
       "      <td>0.007550</td>\n",
       "      <td>0.060459</td>\n",
       "      <td>0.142160</td>\n",
       "      <td>0.224420</td>\n",
       "      <td>1.135947</td>\n",
       "    </tr>\n",
       "    <tr>\n",
       "      <th>(0.0111, 0.0242]</th>\n",
       "      <td>56807.320042</td>\n",
       "      <td>0.016756</td>\n",
       "      <td>0.048486</td>\n",
       "      <td>0.150280</td>\n",
       "      <td>0.241860</td>\n",
       "      <td>1.147183</td>\n",
       "    </tr>\n",
       "    <tr>\n",
       "      <th>(0.0242, 0.0615]</th>\n",
       "      <td>58420.502982</td>\n",
       "      <td>0.039006</td>\n",
       "      <td>0.053467</td>\n",
       "      <td>0.147126</td>\n",
       "      <td>0.194807</td>\n",
       "      <td>1.118683</td>\n",
       "    </tr>\n",
       "    <tr>\n",
       "      <th>(0.0615, 0.195]</th>\n",
       "      <td>58847.675954</td>\n",
       "      <td>0.114021</td>\n",
       "      <td>0.021106</td>\n",
       "      <td>0.074663</td>\n",
       "      <td>0.105116</td>\n",
       "      <td>1.069604</td>\n",
       "    </tr>\n",
       "    <tr>\n",
       "      <th>(0.195, 1.841]</th>\n",
       "      <td>61953.325817</td>\n",
       "      <td>0.648131</td>\n",
       "      <td>0.011820</td>\n",
       "      <td>-0.003897</td>\n",
       "      <td>0.047956</td>\n",
       "      <td>1.024350</td>\n",
       "    </tr>\n",
       "  </tbody>\n",
       "</table>\n",
       "</div>"
      ],
      "text/plain": [
       "                             permno  exf_to_mv      car1      car3      car5  \\\n",
       "exf_to_mv                                                                      \n",
       "(-2.008, -0.0433]      57375.578350  -0.280491  0.153113  0.359148  0.549825   \n",
       "(-0.0433, -0.00669]    56128.387450  -0.021075  0.049655  0.157581  0.253104   \n",
       "(-0.00669, -1.33e-07]  55818.941662  -0.001465  0.045738  0.148779  0.250850   \n",
       "(-1.33e-07, 0.000943]  54902.980472   0.000192  0.056655  0.161470  0.272402   \n",
       "(0.000943, 0.00465]    54940.159817   0.002642  0.066227  0.155971  0.246640   \n",
       "(0.00465, 0.0111]      55714.778985   0.007550  0.060459  0.142160  0.224420   \n",
       "(0.0111, 0.0242]       56807.320042   0.016756  0.048486  0.150280  0.241860   \n",
       "(0.0242, 0.0615]       58420.502982   0.039006  0.053467  0.147126  0.194807   \n",
       "(0.0615, 0.195]        58847.675954   0.114021  0.021106  0.074663  0.105116   \n",
       "(0.195, 1.841]         61953.325817   0.648131  0.011820 -0.003897  0.047956   \n",
       "\n",
       "                            wr5  \n",
       "exf_to_mv                        \n",
       "(-2.008, -0.0433]      1.329062  \n",
       "(-0.0433, -0.00669]    1.170257  \n",
       "(-0.00669, -1.33e-07]  1.160143  \n",
       "(-1.33e-07, 0.000943]  1.169021  \n",
       "(0.000943, 0.00465]    1.150438  \n",
       "(0.00465, 0.0111]      1.135947  \n",
       "(0.0111, 0.0242]       1.147183  \n",
       "(0.0242, 0.0615]       1.118683  \n",
       "(0.0615, 0.195]        1.069604  \n",
       "(0.195, 1.841]         1.024350  "
      ]
     },
     "execution_count": 26,
     "metadata": {},
     "output_type": "execute_result"
    }
   ],
   "source": [
    "crsp_fa1 = crsp_fa.copy()\n",
    "crsp_fa1 = crsp_fa1.dropna(subset=['exf_to_mv'])\n",
    "crsp_fa1 = crsp_fa1.reset_index().set_index('date')\n",
    "# crsp_fa1 = crsp_fa1.loc['1973':'2001']\n",
    "# 可以自行调整limits大小\n",
    "crsp_fa1.exf_to_mv = mstats.winsorize(crsp_fa1.exf_to_mv, limits=[0.01, 0.01])\n",
    "\n",
    "per1 = np.linspace(0,1,11).tolist()\n",
    "bins = crsp_fa1.describe(percentiles=per1).exf_to_mv.iloc[4:-1].tolist()\n",
    "bins = [bins[0]-1] + bins[1:]\n",
    "# bins = bins[:-1] + [bins[-1]-1]\n",
    "crsp_fa1.groupby(pd.cut(crsp_fa1.exf_to_mv,bins, right=True)).mean().drop(['mv', 'retx_p1', 'exf'], axis=1)"
   ]
  },
  {
   "cell_type": "code",
   "execution_count": 23,
   "metadata": {},
   "outputs": [
    {
     "data": {
      "text/plain": [
       "140820"
      ]
     },
     "execution_count": 23,
     "metadata": {},
     "output_type": "execute_result"
    }
   ],
   "source": [
    "crsp_fa.exf_to_mv.shape[0]"
   ]
  },
  {
   "cell_type": "code",
   "execution_count": 24,
   "metadata": {},
   "outputs": [
    {
     "data": {
      "text/plain": [
       "122392"
      ]
     },
     "execution_count": 24,
     "metadata": {},
     "output_type": "execute_result"
    }
   ],
   "source": [
    "crsp_fa.exf_to_mv.dropna().shape[0]"
   ]
  },
  {
   "cell_type": "markdown",
   "metadata": {},
   "source": [
    "Significant issuance & Significant repurchase\n",
    "\n",
    "EXF is greater than 5% of pre-issuance market capitalization\n",
    "\n",
    "$EXF_t >= 0.05 * (1+rx_t) *MV_{t-1}$\n",
    "\n",
    "equals\n",
    "\n",
    "$EXF_t / MV_{t-1} >= 0.05 * (1+rx_t)$"
   ]
  },
  {
   "cell_type": "code",
   "execution_count": 28,
   "metadata": {},
   "outputs": [
    {
     "data": {
      "text/html": [
       "<div>\n",
       "<style scoped>\n",
       "    .dataframe tbody tr th:only-of-type {\n",
       "        vertical-align: middle;\n",
       "    }\n",
       "\n",
       "    .dataframe tbody tr th {\n",
       "        vertical-align: top;\n",
       "    }\n",
       "\n",
       "    .dataframe thead th {\n",
       "        text-align: right;\n",
       "    }\n",
       "</style>\n",
       "<table border=\"1\" class=\"dataframe\">\n",
       "  <thead>\n",
       "    <tr style=\"text-align: right;\">\n",
       "      <th></th>\n",
       "      <th>permno</th>\n",
       "      <th>mv</th>\n",
       "      <th>retx_p1</th>\n",
       "      <th>exf</th>\n",
       "      <th>exf_to_mv</th>\n",
       "      <th>car1</th>\n",
       "      <th>car3</th>\n",
       "      <th>car5</th>\n",
       "      <th>wr5</th>\n",
       "    </tr>\n",
       "  </thead>\n",
       "  <tbody>\n",
       "    <tr>\n",
       "      <th>count</th>\n",
       "      <td>25774.000000</td>\n",
       "      <td>2.577400e+04</td>\n",
       "      <td>25774.000000</td>\n",
       "      <td>25774.000000</td>\n",
       "      <td>25774.000000</td>\n",
       "      <td>22915.000000</td>\n",
       "      <td>22915.000000</td>\n",
       "      <td>22915.000000</td>\n",
       "      <td>22915.000000</td>\n",
       "    </tr>\n",
       "    <tr>\n",
       "      <th>mean</th>\n",
       "      <td>60756.553154</td>\n",
       "      <td>1.474336e+06</td>\n",
       "      <td>1.304114</td>\n",
       "      <td>282855.944404</td>\n",
       "      <td>0.361538</td>\n",
       "      <td>0.022519</td>\n",
       "      <td>0.051094</td>\n",
       "      <td>0.095825</td>\n",
       "      <td>1.056491</td>\n",
       "    </tr>\n",
       "  </tbody>\n",
       "</table>\n",
       "</div>"
      ],
      "text/plain": [
       "             permno            mv       retx_p1            exf     exf_to_mv  \\\n",
       "count  25774.000000  2.577400e+04  25774.000000   25774.000000  25774.000000   \n",
       "mean   60756.553154  1.474336e+06      1.304114  282855.944404      0.361538   \n",
       "\n",
       "               car1          car3          car5           wr5  \n",
       "count  22915.000000  22915.000000  22915.000000  22915.000000  \n",
       "mean       0.022519      0.051094      0.095825      1.056491  "
      ]
     },
     "execution_count": 28,
     "metadata": {},
     "output_type": "execute_result"
    }
   ],
   "source": [
    "crsp_fa1[crsp_fa1.exf_to_mv > (0.05 * crsp_fa1.retx_p1)].describe().loc[['count', 'mean']]"
   ]
  },
  {
   "cell_type": "code",
   "execution_count": 29,
   "metadata": {},
   "outputs": [
    {
     "data": {
      "text/html": [
       "<div>\n",
       "<style scoped>\n",
       "    .dataframe tbody tr th:only-of-type {\n",
       "        vertical-align: middle;\n",
       "    }\n",
       "\n",
       "    .dataframe tbody tr th {\n",
       "        vertical-align: top;\n",
       "    }\n",
       "\n",
       "    .dataframe thead th {\n",
       "        text-align: right;\n",
       "    }\n",
       "</style>\n",
       "<table border=\"1\" class=\"dataframe\">\n",
       "  <thead>\n",
       "    <tr style=\"text-align: right;\">\n",
       "      <th></th>\n",
       "      <th>permno</th>\n",
       "      <th>mv</th>\n",
       "      <th>retx_p1</th>\n",
       "      <th>exf</th>\n",
       "      <th>exf_to_mv</th>\n",
       "      <th>car1</th>\n",
       "      <th>car3</th>\n",
       "      <th>car5</th>\n",
       "      <th>wr5</th>\n",
       "    </tr>\n",
       "  </thead>\n",
       "  <tbody>\n",
       "    <tr>\n",
       "      <th>count</th>\n",
       "      <td>10988.000000</td>\n",
       "      <td>1.098800e+04</td>\n",
       "      <td>10988.000000</td>\n",
       "      <td>10988.000000</td>\n",
       "      <td>10988.000000</td>\n",
       "      <td>9113.000000</td>\n",
       "      <td>9113.000000</td>\n",
       "      <td>9113.000000</td>\n",
       "      <td>9113.000000</td>\n",
       "    </tr>\n",
       "    <tr>\n",
       "      <th>mean</th>\n",
       "      <td>58098.366127</td>\n",
       "      <td>1.656792e+06</td>\n",
       "      <td>1.477054</td>\n",
       "      <td>-258574.958229</td>\n",
       "      <td>-0.303696</td>\n",
       "      <td>0.169161</td>\n",
       "      <td>0.399301</td>\n",
       "      <td>0.600632</td>\n",
       "      <td>1.355417</td>\n",
       "    </tr>\n",
       "  </tbody>\n",
       "</table>\n",
       "</div>"
      ],
      "text/plain": [
       "             permno            mv       retx_p1            exf     exf_to_mv  \\\n",
       "count  10988.000000  1.098800e+04  10988.000000   10988.000000  10988.000000   \n",
       "mean   58098.366127  1.656792e+06      1.477054 -258574.958229     -0.303696   \n",
       "\n",
       "              car1         car3         car5          wr5  \n",
       "count  9113.000000  9113.000000  9113.000000  9113.000000  \n",
       "mean      0.169161     0.399301     0.600632     1.355417  "
      ]
     },
     "execution_count": 29,
     "metadata": {},
     "output_type": "execute_result"
    }
   ],
   "source": [
    "crsp_fa1[crsp_fa1.exf_to_mv <= (-0.05 * crsp_fa1.retx_p1)].describe().loc[['count', 'mean']]"
   ]
  },
  {
   "cell_type": "code",
   "execution_count": 30,
   "metadata": {},
   "outputs": [
    {
     "data": {
      "text/html": [
       "<div>\n",
       "<style scoped>\n",
       "    .dataframe tbody tr th:only-of-type {\n",
       "        vertical-align: middle;\n",
       "    }\n",
       "\n",
       "    .dataframe tbody tr th {\n",
       "        vertical-align: top;\n",
       "    }\n",
       "\n",
       "    .dataframe thead th {\n",
       "        text-align: right;\n",
       "    }\n",
       "</style>\n",
       "<table border=\"1\" class=\"dataframe\">\n",
       "  <thead>\n",
       "    <tr style=\"text-align: right;\">\n",
       "      <th></th>\n",
       "      <th>permno</th>\n",
       "      <th>mv</th>\n",
       "      <th>retx_p1</th>\n",
       "      <th>exf</th>\n",
       "      <th>exf_to_mv</th>\n",
       "      <th>car1</th>\n",
       "      <th>car3</th>\n",
       "      <th>car5</th>\n",
       "      <th>wr5</th>\n",
       "    </tr>\n",
       "  </thead>\n",
       "  <tbody>\n",
       "    <tr>\n",
       "      <th>count</th>\n",
       "      <td>85630.000000</td>\n",
       "      <td>8.563000e+04</td>\n",
       "      <td>85630.000000</td>\n",
       "      <td>85630.00000</td>\n",
       "      <td>85630.00000</td>\n",
       "      <td>76169.000000</td>\n",
       "      <td>76169.000000</td>\n",
       "      <td>76169.000000</td>\n",
       "      <td>76169.000000</td>\n",
       "    </tr>\n",
       "    <tr>\n",
       "      <th>mean</th>\n",
       "      <td>55858.441037</td>\n",
       "      <td>1.997534e+06</td>\n",
       "      <td>1.122395</td>\n",
       "      <td>-3343.08724</td>\n",
       "      <td>0.00523</td>\n",
       "      <td>0.052773</td>\n",
       "      <td>0.147237</td>\n",
       "      <td>0.235811</td>\n",
       "      <td>1.148383</td>\n",
       "    </tr>\n",
       "  </tbody>\n",
       "</table>\n",
       "</div>"
      ],
      "text/plain": [
       "             permno            mv       retx_p1          exf    exf_to_mv  \\\n",
       "count  85630.000000  8.563000e+04  85630.000000  85630.00000  85630.00000   \n",
       "mean   55858.441037  1.997534e+06      1.122395  -3343.08724      0.00523   \n",
       "\n",
       "               car1          car3          car5           wr5  \n",
       "count  76169.000000  76169.000000  76169.000000  76169.000000  \n",
       "mean       0.052773      0.147237      0.235811      1.148383  "
      ]
     },
     "execution_count": 30,
     "metadata": {},
     "output_type": "execute_result"
    }
   ],
   "source": [
    "crsp_fa1[(crsp_fa1.exf_to_mv >(-0.05 * crsp_fa1.retx_p1)) & \\\n",
    "         (crsp_fa1.exf_to_mv <= (0.05 * crsp_fa1.retx_p1))].describe().loc[['count', 'mean']]"
   ]
  },
  {
   "cell_type": "markdown",
   "metadata": {},
   "source": [
    "long Significant repurchase,  short Significant issuance"
   ]
  },
  {
   "cell_type": "code",
   "execution_count": 32,
   "metadata": {},
   "outputs": [
    {
     "data": {
      "text/html": [
       "<div>\n",
       "<style scoped>\n",
       "    .dataframe tbody tr th:only-of-type {\n",
       "        vertical-align: middle;\n",
       "    }\n",
       "\n",
       "    .dataframe tbody tr th {\n",
       "        vertical-align: top;\n",
       "    }\n",
       "\n",
       "    .dataframe thead th {\n",
       "        text-align: right;\n",
       "    }\n",
       "</style>\n",
       "<table border=\"1\" class=\"dataframe\">\n",
       "  <thead>\n",
       "    <tr style=\"text-align: right;\">\n",
       "      <th></th>\n",
       "      <th>mv</th>\n",
       "      <th>retx_p1</th>\n",
       "      <th>exf</th>\n",
       "      <th>exf_to_mv</th>\n",
       "      <th>car1</th>\n",
       "      <th>car3</th>\n",
       "      <th>car5</th>\n",
       "      <th>wr5</th>\n",
       "      <th>ret_n1</th>\n",
       "      <th>ret_n2</th>\n",
       "      <th>ret_n3</th>\n",
       "      <th>ret_n4</th>\n",
       "      <th>ret_n5</th>\n",
       "      <th>ret_n6</th>\n",
       "      <th>ret_n7</th>\n",
       "      <th>ret_n8</th>\n",
       "    </tr>\n",
       "  </thead>\n",
       "  <tbody>\n",
       "    <tr>\n",
       "      <th>mean</th>\n",
       "      <td>-367175.786559</td>\n",
       "      <td>0.32726</td>\n",
       "      <td>-578064.095035</td>\n",
       "      <td>-0.844436</td>\n",
       "      <td>0.234454</td>\n",
       "      <td>0.611467</td>\n",
       "      <td>1.180597</td>\n",
       "      <td>0.574668</td>\n",
       "      <td>0.264126</td>\n",
       "      <td>0.444009</td>\n",
       "      <td>0.671183</td>\n",
       "      <td>0.936371</td>\n",
       "      <td>1.26131</td>\n",
       "      <td>1.549077</td>\n",
       "      <td>1.670117</td>\n",
       "      <td>1.760836</td>\n",
       "    </tr>\n",
       "  </tbody>\n",
       "</table>\n",
       "</div>"
      ],
      "text/plain": [
       "                 mv  retx_p1            exf  exf_to_mv      car1      car3  \\\n",
       "mean -367175.786559  0.32726 -578064.095035  -0.844436  0.234454  0.611467   \n",
       "\n",
       "          car5       wr5    ret_n1    ret_n2    ret_n3    ret_n4   ret_n5  \\\n",
       "mean  1.180597  0.574668  0.264126  0.444009  0.671183  0.936371  1.26131   \n",
       "\n",
       "        ret_n6    ret_n7    ret_n8  \n",
       "mean  1.549077  1.670117  1.760836  "
      ]
     },
     "execution_count": 32,
     "metadata": {},
     "output_type": "execute_result"
    }
   ],
   "source": [
    "crsp_fa1[crsp_fa1.exf_to_mv <= (-0.05 * crsp_fa1.retx_p1)].describe().loc[['mean']] - \\\n",
    "crsp_fa1[crsp_fa1.exf_to_mv > (0.05 * crsp_fa1.retx_p1)].describe().loc[['mean']]"
   ]
  },
  {
   "cell_type": "markdown",
   "metadata": {},
   "source": [
    "查看样本的个数"
   ]
  },
  {
   "cell_type": "code",
   "execution_count": 27,
   "metadata": {},
   "outputs": [
    {
     "data": {
      "text/plain": [
       "exf_to_mv\n",
       "(-2.008, -0.0433]        12240\n",
       "(-0.0433, -0.00669]      12239\n",
       "(-0.00669, -1.33e-07]    12239\n",
       "(-1.33e-07, 0.000943]    12239\n",
       "(0.000943, 0.00465]      12239\n",
       "(0.00465, 0.0111]        12239\n",
       "(0.0111, 0.0242]         12239\n",
       "(0.0242, 0.0615]         12239\n",
       "(0.0615, 0.195]          12239\n",
       "(0.195, 1.841]           12240\n",
       "Name: exf_to_mv, dtype: int64"
      ]
     },
     "execution_count": 27,
     "metadata": {},
     "output_type": "execute_result"
    }
   ],
   "source": [
    "crsp_fa1.groupby(pd.cut(crsp_fa1.exf_to_mv,bins, right=True)).count().exf_to_mv"
   ]
  },
  {
   "cell_type": "code",
   "execution_count": 163,
   "metadata": {},
   "outputs": [],
   "source": [
    "result = crsp_fa.copy()"
   ]
  },
  {
   "cell_type": "code",
   "execution_count": 167,
   "metadata": {},
   "outputs": [],
   "source": [
    "writer = pd.ExcelWriter('data/sample_fiscal.xlsx', datetime_format='YYYY-MM-DD')\n",
    "crsp_fa[crsp_fa.permno==77418].to_excel(writer, index=False)\n",
    "writer.save()"
   ]
  },
  {
   "cell_type": "markdown",
   "metadata": {},
   "source": [
    "annual sorts"
   ]
  },
  {
   "cell_type": "code",
   "execution_count": null,
   "metadata": {},
   "outputs": [],
   "source": [
    "crsp_fa1 = crsp_fa.copy()\n",
    "crsp_fa1 = crsp_fa1.dropna(subset=['exf_to_mv'])\n",
    "crsp_fa1 = crsp_fa1.reset_index().set_index('date')\n",
    "# crsp_fa1 = crsp_fa1.loc['1973':'2001']\n",
    "# 可以自行调整limits大小\n",
    "crsp_fa1.exf_to_mv = mstats.winsorize(crsp_fa1.exf_to_mv, limits=[0.01, 0.01])\n",
    "\n",
    "per1 = np.linspace(0,1,11).tolist()\n",
    "bins = crsp_fa1.describe(percentiles=per1).exf_to_mv.iloc[4:-1].tolist()\n",
    "bins = [bins[0]-1] + bins[1:]\n",
    "# bins = bins[:-1] + [bins[-1]-1]\n",
    "crsp_fa1.groupby(pd.cut(crsp_fa1.exf_to_mv,bins, right=True)).mean().drop(['mv', 'retx_p1', 'exf'], axis=1)"
   ]
  },
  {
   "cell_type": "code",
   "execution_count": 31,
   "metadata": {},
   "outputs": [],
   "source": [
    "crsp_fa2 = crsp_fa.copy()\n",
    "crsp_fa2 = crsp_fa2.dropna(subset=['exf_to_mv'])\n",
    "crsp_fa2 = crsp_fa2.reset_index().set_index('date')"
   ]
  },
  {
   "cell_type": "code",
   "execution_count": 39,
   "metadata": {},
   "outputs": [],
   "source": [
    "def group_decile(df):\n",
    "#     df.exf_to_mv = mstats.winsorize(df.exf_to_mv, limits=[0.01, 0.01])\n",
    "#     per1 = np.linspace(0,1,11).tolist()\n",
    "#     bins = df.describe(percentiles=per1).exf_to_mv.iloc[4:-1].tolist()\n",
    "#     print(bins)\n",
    "#     bins = [bins[0]-1] + bins[1:]\n",
    "    res = df.groupby(pd.cut(df.exf_to_mv,10, right=True)).mean().drop(['mv', 'retx_p1', 'exf'], axis=1)\n",
    "    return res"
   ]
  },
  {
   "cell_type": "code",
   "execution_count": 40,
   "metadata": {},
   "outputs": [
    {
     "ename": "TypeError",
     "evalue": "categories must match existing categories when appending",
     "output_type": "error",
     "traceback": [
      "\u001b[1;31m---------------------------------------------------------------------------\u001b[0m",
      "\u001b[1;31mTypeError\u001b[0m                                 Traceback (most recent call last)",
      "\u001b[1;32mE:\\ProgramData\\Anaconda3\\envs\\quant\\lib\\site-packages\\pandas\\core\\groupby\\groupby.py\u001b[0m in \u001b[0;36mapply\u001b[1;34m(self, func, *args, **kwargs)\u001b[0m\n\u001b[0;32m    917\u001b[0m             \u001b[1;32mtry\u001b[0m\u001b[1;33m:\u001b[0m\u001b[1;33m\u001b[0m\u001b[0m\n\u001b[1;32m--> 918\u001b[1;33m                 \u001b[0mresult\u001b[0m \u001b[1;33m=\u001b[0m \u001b[0mself\u001b[0m\u001b[1;33m.\u001b[0m\u001b[0m_python_apply_general\u001b[0m\u001b[1;33m(\u001b[0m\u001b[0mf\u001b[0m\u001b[1;33m)\u001b[0m\u001b[1;33m\u001b[0m\u001b[0m\n\u001b[0m\u001b[0;32m    919\u001b[0m             \u001b[1;32mexcept\u001b[0m \u001b[0mException\u001b[0m\u001b[1;33m:\u001b[0m\u001b[1;33m\u001b[0m\u001b[0m\n",
      "\u001b[1;32mE:\\ProgramData\\Anaconda3\\envs\\quant\\lib\\site-packages\\pandas\\core\\groupby\\groupby.py\u001b[0m in \u001b[0;36m_python_apply_general\u001b[1;34m(self, f)\u001b[0m\n\u001b[0;32m    940\u001b[0m             \u001b[0mvalues\u001b[0m\u001b[1;33m,\u001b[0m\u001b[1;33m\u001b[0m\u001b[0m\n\u001b[1;32m--> 941\u001b[1;33m             not_indexed_same=mutated or self.mutated)\n\u001b[0m\u001b[0;32m    942\u001b[0m \u001b[1;33m\u001b[0m\u001b[0m\n",
      "\u001b[1;32mE:\\ProgramData\\Anaconda3\\envs\\quant\\lib\\site-packages\\pandas\\core\\groupby\\groupby.py\u001b[0m in \u001b[0;36m_wrap_applied_output\u001b[1;34m(self, keys, values, not_indexed_same)\u001b[0m\n\u001b[0;32m   4218\u001b[0m             return self._concat_objects(keys, values,\n\u001b[1;32m-> 4219\u001b[1;33m                                         not_indexed_same=not_indexed_same)\n\u001b[0m\u001b[0;32m   4220\u001b[0m         \u001b[1;32melif\u001b[0m \u001b[0mself\u001b[0m\u001b[1;33m.\u001b[0m\u001b[0mgrouper\u001b[0m\u001b[1;33m.\u001b[0m\u001b[0mgroupings\u001b[0m \u001b[1;32mis\u001b[0m \u001b[1;32mnot\u001b[0m \u001b[1;32mNone\u001b[0m\u001b[1;33m:\u001b[0m\u001b[1;33m\u001b[0m\u001b[0m\n",
      "\u001b[1;32mE:\\ProgramData\\Anaconda3\\envs\\quant\\lib\\site-packages\\pandas\\core\\groupby\\groupby.py\u001b[0m in \u001b[0;36m_concat_objects\u001b[1;34m(self, keys, values, not_indexed_same)\u001b[0m\n\u001b[0;32m   1135\u001b[0m                                 \u001b[0mlevels\u001b[0m\u001b[1;33m=\u001b[0m\u001b[0mgroup_levels\u001b[0m\u001b[1;33m,\u001b[0m \u001b[0mnames\u001b[0m\u001b[1;33m=\u001b[0m\u001b[0mgroup_names\u001b[0m\u001b[1;33m,\u001b[0m\u001b[1;33m\u001b[0m\u001b[0m\n\u001b[1;32m-> 1136\u001b[1;33m                                 sort=False)\n\u001b[0m\u001b[0;32m   1137\u001b[0m             \u001b[1;32melse\u001b[0m\u001b[1;33m:\u001b[0m\u001b[1;33m\u001b[0m\u001b[0m\n",
      "\u001b[1;32mE:\\ProgramData\\Anaconda3\\envs\\quant\\lib\\site-packages\\pandas\\core\\reshape\\concat.py\u001b[0m in \u001b[0;36mconcat\u001b[1;34m(objs, axis, join, join_axes, ignore_index, keys, levels, names, verify_integrity, sort, copy)\u001b[0m\n\u001b[0;32m    224\u001b[0m                        \u001b[0mverify_integrity\u001b[0m\u001b[1;33m=\u001b[0m\u001b[0mverify_integrity\u001b[0m\u001b[1;33m,\u001b[0m\u001b[1;33m\u001b[0m\u001b[0m\n\u001b[1;32m--> 225\u001b[1;33m                        copy=copy, sort=sort)\n\u001b[0m\u001b[0;32m    226\u001b[0m     \u001b[1;32mreturn\u001b[0m \u001b[0mop\u001b[0m\u001b[1;33m.\u001b[0m\u001b[0mget_result\u001b[0m\u001b[1;33m(\u001b[0m\u001b[1;33m)\u001b[0m\u001b[1;33m\u001b[0m\u001b[0m\n",
      "\u001b[1;32mE:\\ProgramData\\Anaconda3\\envs\\quant\\lib\\site-packages\\pandas\\core\\reshape\\concat.py\u001b[0m in \u001b[0;36m__init__\u001b[1;34m(self, objs, axis, join, join_axes, keys, levels, names, ignore_index, verify_integrity, copy, sort)\u001b[0m\n\u001b[0;32m    377\u001b[0m \u001b[1;33m\u001b[0m\u001b[0m\n\u001b[1;32m--> 378\u001b[1;33m         \u001b[0mself\u001b[0m\u001b[1;33m.\u001b[0m\u001b[0mnew_axes\u001b[0m \u001b[1;33m=\u001b[0m \u001b[0mself\u001b[0m\u001b[1;33m.\u001b[0m\u001b[0m_get_new_axes\u001b[0m\u001b[1;33m(\u001b[0m\u001b[1;33m)\u001b[0m\u001b[1;33m\u001b[0m\u001b[0m\n\u001b[0m\u001b[0;32m    379\u001b[0m \u001b[1;33m\u001b[0m\u001b[0m\n",
      "\u001b[1;32mE:\\ProgramData\\Anaconda3\\envs\\quant\\lib\\site-packages\\pandas\\core\\reshape\\concat.py\u001b[0m in \u001b[0;36m_get_new_axes\u001b[1;34m(self)\u001b[0m\n\u001b[0;32m    457\u001b[0m \u001b[1;33m\u001b[0m\u001b[0m\n\u001b[1;32m--> 458\u001b[1;33m         \u001b[0mnew_axes\u001b[0m\u001b[1;33m[\u001b[0m\u001b[0mself\u001b[0m\u001b[1;33m.\u001b[0m\u001b[0maxis\u001b[0m\u001b[1;33m]\u001b[0m \u001b[1;33m=\u001b[0m \u001b[0mself\u001b[0m\u001b[1;33m.\u001b[0m\u001b[0m_get_concat_axis\u001b[0m\u001b[1;33m(\u001b[0m\u001b[1;33m)\u001b[0m\u001b[1;33m\u001b[0m\u001b[0m\n\u001b[0m\u001b[0;32m    459\u001b[0m         \u001b[1;32mreturn\u001b[0m \u001b[0mnew_axes\u001b[0m\u001b[1;33m\u001b[0m\u001b[0m\n",
      "\u001b[1;32mE:\\ProgramData\\Anaconda3\\envs\\quant\\lib\\site-packages\\pandas\\core\\reshape\\concat.py\u001b[0m in \u001b[0;36m_get_concat_axis\u001b[1;34m(self)\u001b[0m\n\u001b[0;32m    513\u001b[0m             concat_axis = _make_concat_multiindex(indexes, self.keys,\n\u001b[1;32m--> 514\u001b[1;33m                                                   self.levels, self.names)\n\u001b[0m\u001b[0;32m    515\u001b[0m \u001b[1;33m\u001b[0m\u001b[0m\n",
      "\u001b[1;32mE:\\ProgramData\\Anaconda3\\envs\\quant\\lib\\site-packages\\pandas\\core\\reshape\\concat.py\u001b[0m in \u001b[0;36m_make_concat_multiindex\u001b[1;34m(indexes, keys, levels, names)\u001b[0m\n\u001b[0;32m    571\u001b[0m \u001b[1;33m\u001b[0m\u001b[0m\n\u001b[1;32m--> 572\u001b[1;33m         \u001b[0mconcat_index\u001b[0m \u001b[1;33m=\u001b[0m \u001b[0m_concat_indexes\u001b[0m\u001b[1;33m(\u001b[0m\u001b[0mindexes\u001b[0m\u001b[1;33m)\u001b[0m\u001b[1;33m\u001b[0m\u001b[0m\n\u001b[0m\u001b[0;32m    573\u001b[0m \u001b[1;33m\u001b[0m\u001b[0m\n",
      "\u001b[1;32mE:\\ProgramData\\Anaconda3\\envs\\quant\\lib\\site-packages\\pandas\\core\\reshape\\concat.py\u001b[0m in \u001b[0;36m_concat_indexes\u001b[1;34m(indexes)\u001b[0m\n\u001b[0;32m    528\u001b[0m \u001b[1;32mdef\u001b[0m \u001b[0m_concat_indexes\u001b[0m\u001b[1;33m(\u001b[0m\u001b[0mindexes\u001b[0m\u001b[1;33m)\u001b[0m\u001b[1;33m:\u001b[0m\u001b[1;33m\u001b[0m\u001b[0m\n\u001b[1;32m--> 529\u001b[1;33m     \u001b[1;32mreturn\u001b[0m \u001b[0mindexes\u001b[0m\u001b[1;33m[\u001b[0m\u001b[1;36m0\u001b[0m\u001b[1;33m]\u001b[0m\u001b[1;33m.\u001b[0m\u001b[0mappend\u001b[0m\u001b[1;33m(\u001b[0m\u001b[0mindexes\u001b[0m\u001b[1;33m[\u001b[0m\u001b[1;36m1\u001b[0m\u001b[1;33m:\u001b[0m\u001b[1;33m]\u001b[0m\u001b[1;33m)\u001b[0m\u001b[1;33m\u001b[0m\u001b[0m\n\u001b[0m\u001b[0;32m    530\u001b[0m \u001b[1;33m\u001b[0m\u001b[0m\n",
      "\u001b[1;32mE:\\ProgramData\\Anaconda3\\envs\\quant\\lib\\site-packages\\pandas\\core\\indexes\\base.py\u001b[0m in \u001b[0;36mappend\u001b[1;34m(self, other)\u001b[0m\n\u001b[0;32m   2140\u001b[0m \u001b[1;33m\u001b[0m\u001b[0m\n\u001b[1;32m-> 2141\u001b[1;33m         \u001b[1;32mreturn\u001b[0m \u001b[0mself\u001b[0m\u001b[1;33m.\u001b[0m\u001b[0m_concat\u001b[0m\u001b[1;33m(\u001b[0m\u001b[0mto_concat\u001b[0m\u001b[1;33m,\u001b[0m \u001b[0mname\u001b[0m\u001b[1;33m)\u001b[0m\u001b[1;33m\u001b[0m\u001b[0m\n\u001b[0m\u001b[0;32m   2142\u001b[0m \u001b[1;33m\u001b[0m\u001b[0m\n",
      "\u001b[1;32mE:\\ProgramData\\Anaconda3\\envs\\quant\\lib\\site-packages\\pandas\\core\\indexes\\category.py\u001b[0m in \u001b[0;36m_concat\u001b[1;34m(self, to_concat, name)\u001b[0m\n\u001b[0;32m    775\u001b[0m         \u001b[1;31m# if calling index is category, don't check dtype of others\u001b[0m\u001b[1;33m\u001b[0m\u001b[1;33m\u001b[0m\u001b[0m\n\u001b[1;32m--> 776\u001b[1;33m         \u001b[1;32mreturn\u001b[0m \u001b[0mCategoricalIndex\u001b[0m\u001b[1;33m.\u001b[0m\u001b[0m_concat_same_dtype\u001b[0m\u001b[1;33m(\u001b[0m\u001b[0mself\u001b[0m\u001b[1;33m,\u001b[0m \u001b[0mto_concat\u001b[0m\u001b[1;33m,\u001b[0m \u001b[0mname\u001b[0m\u001b[1;33m)\u001b[0m\u001b[1;33m\u001b[0m\u001b[0m\n\u001b[0m\u001b[0;32m    777\u001b[0m \u001b[1;33m\u001b[0m\u001b[0m\n",
      "\u001b[1;32mE:\\ProgramData\\Anaconda3\\envs\\quant\\lib\\site-packages\\pandas\\core\\indexes\\category.py\u001b[0m in \u001b[0;36m_concat_same_dtype\u001b[1;34m(self, to_concat, name)\u001b[0m\n\u001b[0;32m    782\u001b[0m         \"\"\"\n\u001b[1;32m--> 783\u001b[1;33m         \u001b[0mto_concat\u001b[0m \u001b[1;33m=\u001b[0m \u001b[1;33m[\u001b[0m\u001b[0mself\u001b[0m\u001b[1;33m.\u001b[0m\u001b[0m_is_dtype_compat\u001b[0m\u001b[1;33m(\u001b[0m\u001b[0mc\u001b[0m\u001b[1;33m)\u001b[0m \u001b[1;32mfor\u001b[0m \u001b[0mc\u001b[0m \u001b[1;32min\u001b[0m \u001b[0mto_concat\u001b[0m\u001b[1;33m]\u001b[0m\u001b[1;33m\u001b[0m\u001b[0m\n\u001b[0m\u001b[0;32m    784\u001b[0m         \u001b[0mcodes\u001b[0m \u001b[1;33m=\u001b[0m \u001b[0mnp\u001b[0m\u001b[1;33m.\u001b[0m\u001b[0mconcatenate\u001b[0m\u001b[1;33m(\u001b[0m\u001b[1;33m[\u001b[0m\u001b[0mc\u001b[0m\u001b[1;33m.\u001b[0m\u001b[0mcodes\u001b[0m \u001b[1;32mfor\u001b[0m \u001b[0mc\u001b[0m \u001b[1;32min\u001b[0m \u001b[0mto_concat\u001b[0m\u001b[1;33m]\u001b[0m\u001b[1;33m)\u001b[0m\u001b[1;33m\u001b[0m\u001b[0m\n",
      "\u001b[1;32mE:\\ProgramData\\Anaconda3\\envs\\quant\\lib\\site-packages\\pandas\\core\\indexes\\category.py\u001b[0m in \u001b[0;36m<listcomp>\u001b[1;34m(.0)\u001b[0m\n\u001b[0;32m    782\u001b[0m         \"\"\"\n\u001b[1;32m--> 783\u001b[1;33m         \u001b[0mto_concat\u001b[0m \u001b[1;33m=\u001b[0m \u001b[1;33m[\u001b[0m\u001b[0mself\u001b[0m\u001b[1;33m.\u001b[0m\u001b[0m_is_dtype_compat\u001b[0m\u001b[1;33m(\u001b[0m\u001b[0mc\u001b[0m\u001b[1;33m)\u001b[0m \u001b[1;32mfor\u001b[0m \u001b[0mc\u001b[0m \u001b[1;32min\u001b[0m \u001b[0mto_concat\u001b[0m\u001b[1;33m]\u001b[0m\u001b[1;33m\u001b[0m\u001b[0m\n\u001b[0m\u001b[0;32m    784\u001b[0m         \u001b[0mcodes\u001b[0m \u001b[1;33m=\u001b[0m \u001b[0mnp\u001b[0m\u001b[1;33m.\u001b[0m\u001b[0mconcatenate\u001b[0m\u001b[1;33m(\u001b[0m\u001b[1;33m[\u001b[0m\u001b[0mc\u001b[0m\u001b[1;33m.\u001b[0m\u001b[0mcodes\u001b[0m \u001b[1;32mfor\u001b[0m \u001b[0mc\u001b[0m \u001b[1;32min\u001b[0m \u001b[0mto_concat\u001b[0m\u001b[1;33m]\u001b[0m\u001b[1;33m)\u001b[0m\u001b[1;33m\u001b[0m\u001b[0m\n",
      "\u001b[1;32mE:\\ProgramData\\Anaconda3\\envs\\quant\\lib\\site-packages\\pandas\\core\\indexes\\category.py\u001b[0m in \u001b[0;36m_is_dtype_compat\u001b[1;34m(self, other)\u001b[0m\n\u001b[0;32m    232\u001b[0m             \u001b[1;32mif\u001b[0m \u001b[1;32mnot\u001b[0m \u001b[0mother\u001b[0m\u001b[1;33m.\u001b[0m\u001b[0mis_dtype_equal\u001b[0m\u001b[1;33m(\u001b[0m\u001b[0mself\u001b[0m\u001b[1;33m)\u001b[0m\u001b[1;33m:\u001b[0m\u001b[1;33m\u001b[0m\u001b[0m\n\u001b[1;32m--> 233\u001b[1;33m                 raise TypeError(\"categories must match existing categories \"\n\u001b[0m\u001b[0;32m    234\u001b[0m                                 \"when appending\")\n",
      "\u001b[1;31mTypeError\u001b[0m: categories must match existing categories when appending",
      "\nDuring handling of the above exception, another exception occurred:\n",
      "\u001b[1;31mTypeError\u001b[0m                                 Traceback (most recent call last)",
      "\u001b[1;32m<ipython-input-40-923557e5df1d>\u001b[0m in \u001b[0;36m<module>\u001b[1;34m()\u001b[0m\n\u001b[1;32m----> 1\u001b[1;33m \u001b[0mtest\u001b[0m \u001b[1;33m=\u001b[0m \u001b[0mcrsp_fa2\u001b[0m\u001b[1;33m.\u001b[0m\u001b[0mgroupby\u001b[0m\u001b[1;33m(\u001b[0m\u001b[1;34m'date'\u001b[0m\u001b[1;33m)\u001b[0m\u001b[1;33m.\u001b[0m\u001b[0mapply\u001b[0m\u001b[1;33m(\u001b[0m\u001b[0mgroup_decile\u001b[0m\u001b[1;33m)\u001b[0m\u001b[1;33m\u001b[0m\u001b[0m\n\u001b[0m",
      "\u001b[1;32mE:\\ProgramData\\Anaconda3\\envs\\quant\\lib\\site-packages\\pandas\\core\\groupby\\groupby.py\u001b[0m in \u001b[0;36mapply\u001b[1;34m(self, func, *args, **kwargs)\u001b[0m\n\u001b[0;32m    928\u001b[0m \u001b[1;33m\u001b[0m\u001b[0m\n\u001b[0;32m    929\u001b[0m                 \u001b[1;32mwith\u001b[0m \u001b[0m_group_selection_context\u001b[0m\u001b[1;33m(\u001b[0m\u001b[0mself\u001b[0m\u001b[1;33m)\u001b[0m\u001b[1;33m:\u001b[0m\u001b[1;33m\u001b[0m\u001b[0m\n\u001b[1;32m--> 930\u001b[1;33m                     \u001b[1;32mreturn\u001b[0m \u001b[0mself\u001b[0m\u001b[1;33m.\u001b[0m\u001b[0m_python_apply_general\u001b[0m\u001b[1;33m(\u001b[0m\u001b[0mf\u001b[0m\u001b[1;33m)\u001b[0m\u001b[1;33m\u001b[0m\u001b[0m\n\u001b[0m\u001b[0;32m    931\u001b[0m \u001b[1;33m\u001b[0m\u001b[0m\n\u001b[0;32m    932\u001b[0m         \u001b[1;32mreturn\u001b[0m \u001b[0mresult\u001b[0m\u001b[1;33m\u001b[0m\u001b[0m\n",
      "\u001b[1;32mE:\\ProgramData\\Anaconda3\\envs\\quant\\lib\\site-packages\\pandas\\core\\groupby\\groupby.py\u001b[0m in \u001b[0;36m_python_apply_general\u001b[1;34m(self, f)\u001b[0m\n\u001b[0;32m    939\u001b[0m             \u001b[0mkeys\u001b[0m\u001b[1;33m,\u001b[0m\u001b[1;33m\u001b[0m\u001b[0m\n\u001b[0;32m    940\u001b[0m             \u001b[0mvalues\u001b[0m\u001b[1;33m,\u001b[0m\u001b[1;33m\u001b[0m\u001b[0m\n\u001b[1;32m--> 941\u001b[1;33m             not_indexed_same=mutated or self.mutated)\n\u001b[0m\u001b[0;32m    942\u001b[0m \u001b[1;33m\u001b[0m\u001b[0m\n\u001b[0;32m    943\u001b[0m     \u001b[1;32mdef\u001b[0m \u001b[0m_iterate_slices\u001b[0m\u001b[1;33m(\u001b[0m\u001b[0mself\u001b[0m\u001b[1;33m)\u001b[0m\u001b[1;33m:\u001b[0m\u001b[1;33m\u001b[0m\u001b[0m\n",
      "\u001b[1;32mE:\\ProgramData\\Anaconda3\\envs\\quant\\lib\\site-packages\\pandas\\core\\groupby\\groupby.py\u001b[0m in \u001b[0;36m_wrap_applied_output\u001b[1;34m(self, keys, values, not_indexed_same)\u001b[0m\n\u001b[0;32m   4217\u001b[0m         \u001b[1;32melif\u001b[0m \u001b[0misinstance\u001b[0m\u001b[1;33m(\u001b[0m\u001b[0mv\u001b[0m\u001b[1;33m,\u001b[0m \u001b[0mDataFrame\u001b[0m\u001b[1;33m)\u001b[0m\u001b[1;33m:\u001b[0m\u001b[1;33m\u001b[0m\u001b[0m\n\u001b[0;32m   4218\u001b[0m             return self._concat_objects(keys, values,\n\u001b[1;32m-> 4219\u001b[1;33m                                         not_indexed_same=not_indexed_same)\n\u001b[0m\u001b[0;32m   4220\u001b[0m         \u001b[1;32melif\u001b[0m \u001b[0mself\u001b[0m\u001b[1;33m.\u001b[0m\u001b[0mgrouper\u001b[0m\u001b[1;33m.\u001b[0m\u001b[0mgroupings\u001b[0m \u001b[1;32mis\u001b[0m \u001b[1;32mnot\u001b[0m \u001b[1;32mNone\u001b[0m\u001b[1;33m:\u001b[0m\u001b[1;33m\u001b[0m\u001b[0m\n\u001b[0;32m   4221\u001b[0m             \u001b[1;32mif\u001b[0m \u001b[0mlen\u001b[0m\u001b[1;33m(\u001b[0m\u001b[0mself\u001b[0m\u001b[1;33m.\u001b[0m\u001b[0mgrouper\u001b[0m\u001b[1;33m.\u001b[0m\u001b[0mgroupings\u001b[0m\u001b[1;33m)\u001b[0m \u001b[1;33m>\u001b[0m \u001b[1;36m1\u001b[0m\u001b[1;33m:\u001b[0m\u001b[1;33m\u001b[0m\u001b[0m\n",
      "\u001b[1;32mE:\\ProgramData\\Anaconda3\\envs\\quant\\lib\\site-packages\\pandas\\core\\groupby\\groupby.py\u001b[0m in \u001b[0;36m_concat_objects\u001b[1;34m(self, keys, values, not_indexed_same)\u001b[0m\n\u001b[0;32m   1134\u001b[0m                 result = concat(values, axis=self.axis, keys=group_keys,\n\u001b[0;32m   1135\u001b[0m                                 \u001b[0mlevels\u001b[0m\u001b[1;33m=\u001b[0m\u001b[0mgroup_levels\u001b[0m\u001b[1;33m,\u001b[0m \u001b[0mnames\u001b[0m\u001b[1;33m=\u001b[0m\u001b[0mgroup_names\u001b[0m\u001b[1;33m,\u001b[0m\u001b[1;33m\u001b[0m\u001b[0m\n\u001b[1;32m-> 1136\u001b[1;33m                                 sort=False)\n\u001b[0m\u001b[0;32m   1137\u001b[0m             \u001b[1;32melse\u001b[0m\u001b[1;33m:\u001b[0m\u001b[1;33m\u001b[0m\u001b[0m\n\u001b[0;32m   1138\u001b[0m \u001b[1;33m\u001b[0m\u001b[0m\n",
      "\u001b[1;32mE:\\ProgramData\\Anaconda3\\envs\\quant\\lib\\site-packages\\pandas\\core\\reshape\\concat.py\u001b[0m in \u001b[0;36mconcat\u001b[1;34m(objs, axis, join, join_axes, ignore_index, keys, levels, names, verify_integrity, sort, copy)\u001b[0m\n\u001b[0;32m    223\u001b[0m                        \u001b[0mkeys\u001b[0m\u001b[1;33m=\u001b[0m\u001b[0mkeys\u001b[0m\u001b[1;33m,\u001b[0m \u001b[0mlevels\u001b[0m\u001b[1;33m=\u001b[0m\u001b[0mlevels\u001b[0m\u001b[1;33m,\u001b[0m \u001b[0mnames\u001b[0m\u001b[1;33m=\u001b[0m\u001b[0mnames\u001b[0m\u001b[1;33m,\u001b[0m\u001b[1;33m\u001b[0m\u001b[0m\n\u001b[0;32m    224\u001b[0m                        \u001b[0mverify_integrity\u001b[0m\u001b[1;33m=\u001b[0m\u001b[0mverify_integrity\u001b[0m\u001b[1;33m,\u001b[0m\u001b[1;33m\u001b[0m\u001b[0m\n\u001b[1;32m--> 225\u001b[1;33m                        copy=copy, sort=sort)\n\u001b[0m\u001b[0;32m    226\u001b[0m     \u001b[1;32mreturn\u001b[0m \u001b[0mop\u001b[0m\u001b[1;33m.\u001b[0m\u001b[0mget_result\u001b[0m\u001b[1;33m(\u001b[0m\u001b[1;33m)\u001b[0m\u001b[1;33m\u001b[0m\u001b[0m\n\u001b[0;32m    227\u001b[0m \u001b[1;33m\u001b[0m\u001b[0m\n",
      "\u001b[1;32mE:\\ProgramData\\Anaconda3\\envs\\quant\\lib\\site-packages\\pandas\\core\\reshape\\concat.py\u001b[0m in \u001b[0;36m__init__\u001b[1;34m(self, objs, axis, join, join_axes, keys, levels, names, ignore_index, verify_integrity, copy, sort)\u001b[0m\n\u001b[0;32m    376\u001b[0m         \u001b[0mself\u001b[0m\u001b[1;33m.\u001b[0m\u001b[0mcopy\u001b[0m \u001b[1;33m=\u001b[0m \u001b[0mcopy\u001b[0m\u001b[1;33m\u001b[0m\u001b[0m\n\u001b[0;32m    377\u001b[0m \u001b[1;33m\u001b[0m\u001b[0m\n\u001b[1;32m--> 378\u001b[1;33m         \u001b[0mself\u001b[0m\u001b[1;33m.\u001b[0m\u001b[0mnew_axes\u001b[0m \u001b[1;33m=\u001b[0m \u001b[0mself\u001b[0m\u001b[1;33m.\u001b[0m\u001b[0m_get_new_axes\u001b[0m\u001b[1;33m(\u001b[0m\u001b[1;33m)\u001b[0m\u001b[1;33m\u001b[0m\u001b[0m\n\u001b[0m\u001b[0;32m    379\u001b[0m \u001b[1;33m\u001b[0m\u001b[0m\n\u001b[0;32m    380\u001b[0m     \u001b[1;32mdef\u001b[0m \u001b[0mget_result\u001b[0m\u001b[1;33m(\u001b[0m\u001b[0mself\u001b[0m\u001b[1;33m)\u001b[0m\u001b[1;33m:\u001b[0m\u001b[1;33m\u001b[0m\u001b[0m\n",
      "\u001b[1;32mE:\\ProgramData\\Anaconda3\\envs\\quant\\lib\\site-packages\\pandas\\core\\reshape\\concat.py\u001b[0m in \u001b[0;36m_get_new_axes\u001b[1;34m(self)\u001b[0m\n\u001b[0;32m    456\u001b[0m                 \u001b[0mnew_axes\u001b[0m\u001b[1;33m[\u001b[0m\u001b[0mi\u001b[0m\u001b[1;33m]\u001b[0m \u001b[1;33m=\u001b[0m \u001b[0max\u001b[0m\u001b[1;33m\u001b[0m\u001b[0m\n\u001b[0;32m    457\u001b[0m \u001b[1;33m\u001b[0m\u001b[0m\n\u001b[1;32m--> 458\u001b[1;33m         \u001b[0mnew_axes\u001b[0m\u001b[1;33m[\u001b[0m\u001b[0mself\u001b[0m\u001b[1;33m.\u001b[0m\u001b[0maxis\u001b[0m\u001b[1;33m]\u001b[0m \u001b[1;33m=\u001b[0m \u001b[0mself\u001b[0m\u001b[1;33m.\u001b[0m\u001b[0m_get_concat_axis\u001b[0m\u001b[1;33m(\u001b[0m\u001b[1;33m)\u001b[0m\u001b[1;33m\u001b[0m\u001b[0m\n\u001b[0m\u001b[0;32m    459\u001b[0m         \u001b[1;32mreturn\u001b[0m \u001b[0mnew_axes\u001b[0m\u001b[1;33m\u001b[0m\u001b[0m\n\u001b[0;32m    460\u001b[0m \u001b[1;33m\u001b[0m\u001b[0m\n",
      "\u001b[1;32mE:\\ProgramData\\Anaconda3\\envs\\quant\\lib\\site-packages\\pandas\\core\\reshape\\concat.py\u001b[0m in \u001b[0;36m_get_concat_axis\u001b[1;34m(self)\u001b[0m\n\u001b[0;32m    512\u001b[0m         \u001b[1;32melse\u001b[0m\u001b[1;33m:\u001b[0m\u001b[1;33m\u001b[0m\u001b[0m\n\u001b[0;32m    513\u001b[0m             concat_axis = _make_concat_multiindex(indexes, self.keys,\n\u001b[1;32m--> 514\u001b[1;33m                                                   self.levels, self.names)\n\u001b[0m\u001b[0;32m    515\u001b[0m \u001b[1;33m\u001b[0m\u001b[0m\n\u001b[0;32m    516\u001b[0m         \u001b[0mself\u001b[0m\u001b[1;33m.\u001b[0m\u001b[0m_maybe_check_integrity\u001b[0m\u001b[1;33m(\u001b[0m\u001b[0mconcat_axis\u001b[0m\u001b[1;33m)\u001b[0m\u001b[1;33m\u001b[0m\u001b[0m\n",
      "\u001b[1;32mE:\\ProgramData\\Anaconda3\\envs\\quant\\lib\\site-packages\\pandas\\core\\reshape\\concat.py\u001b[0m in \u001b[0;36m_make_concat_multiindex\u001b[1;34m(indexes, keys, levels, names)\u001b[0m\n\u001b[0;32m    570\u001b[0m             \u001b[0mlabel_list\u001b[0m\u001b[1;33m.\u001b[0m\u001b[0mappend\u001b[0m\u001b[1;33m(\u001b[0m\u001b[0mnp\u001b[0m\u001b[1;33m.\u001b[0m\u001b[0mconcatenate\u001b[0m\u001b[1;33m(\u001b[0m\u001b[0mto_concat\u001b[0m\u001b[1;33m)\u001b[0m\u001b[1;33m)\u001b[0m\u001b[1;33m\u001b[0m\u001b[0m\n\u001b[0;32m    571\u001b[0m \u001b[1;33m\u001b[0m\u001b[0m\n\u001b[1;32m--> 572\u001b[1;33m         \u001b[0mconcat_index\u001b[0m \u001b[1;33m=\u001b[0m \u001b[0m_concat_indexes\u001b[0m\u001b[1;33m(\u001b[0m\u001b[0mindexes\u001b[0m\u001b[1;33m)\u001b[0m\u001b[1;33m\u001b[0m\u001b[0m\n\u001b[0m\u001b[0;32m    573\u001b[0m \u001b[1;33m\u001b[0m\u001b[0m\n\u001b[0;32m    574\u001b[0m         \u001b[1;31m# these go at the end\u001b[0m\u001b[1;33m\u001b[0m\u001b[1;33m\u001b[0m\u001b[0m\n",
      "\u001b[1;32mE:\\ProgramData\\Anaconda3\\envs\\quant\\lib\\site-packages\\pandas\\core\\reshape\\concat.py\u001b[0m in \u001b[0;36m_concat_indexes\u001b[1;34m(indexes)\u001b[0m\n\u001b[0;32m    527\u001b[0m \u001b[1;33m\u001b[0m\u001b[0m\n\u001b[0;32m    528\u001b[0m \u001b[1;32mdef\u001b[0m \u001b[0m_concat_indexes\u001b[0m\u001b[1;33m(\u001b[0m\u001b[0mindexes\u001b[0m\u001b[1;33m)\u001b[0m\u001b[1;33m:\u001b[0m\u001b[1;33m\u001b[0m\u001b[0m\n\u001b[1;32m--> 529\u001b[1;33m     \u001b[1;32mreturn\u001b[0m \u001b[0mindexes\u001b[0m\u001b[1;33m[\u001b[0m\u001b[1;36m0\u001b[0m\u001b[1;33m]\u001b[0m\u001b[1;33m.\u001b[0m\u001b[0mappend\u001b[0m\u001b[1;33m(\u001b[0m\u001b[0mindexes\u001b[0m\u001b[1;33m[\u001b[0m\u001b[1;36m1\u001b[0m\u001b[1;33m:\u001b[0m\u001b[1;33m]\u001b[0m\u001b[1;33m)\u001b[0m\u001b[1;33m\u001b[0m\u001b[0m\n\u001b[0m\u001b[0;32m    530\u001b[0m \u001b[1;33m\u001b[0m\u001b[0m\n\u001b[0;32m    531\u001b[0m \u001b[1;33m\u001b[0m\u001b[0m\n",
      "\u001b[1;32mE:\\ProgramData\\Anaconda3\\envs\\quant\\lib\\site-packages\\pandas\\core\\indexes\\base.py\u001b[0m in \u001b[0;36mappend\u001b[1;34m(self, other)\u001b[0m\n\u001b[0;32m   2139\u001b[0m         \u001b[0mname\u001b[0m \u001b[1;33m=\u001b[0m \u001b[1;32mNone\u001b[0m \u001b[1;32mif\u001b[0m \u001b[0mlen\u001b[0m\u001b[1;33m(\u001b[0m\u001b[0mnames\u001b[0m\u001b[1;33m)\u001b[0m \u001b[1;33m>\u001b[0m \u001b[1;36m1\u001b[0m \u001b[1;32melse\u001b[0m \u001b[0mself\u001b[0m\u001b[1;33m.\u001b[0m\u001b[0mname\u001b[0m\u001b[1;33m\u001b[0m\u001b[0m\n\u001b[0;32m   2140\u001b[0m \u001b[1;33m\u001b[0m\u001b[0m\n\u001b[1;32m-> 2141\u001b[1;33m         \u001b[1;32mreturn\u001b[0m \u001b[0mself\u001b[0m\u001b[1;33m.\u001b[0m\u001b[0m_concat\u001b[0m\u001b[1;33m(\u001b[0m\u001b[0mto_concat\u001b[0m\u001b[1;33m,\u001b[0m \u001b[0mname\u001b[0m\u001b[1;33m)\u001b[0m\u001b[1;33m\u001b[0m\u001b[0m\n\u001b[0m\u001b[0;32m   2142\u001b[0m \u001b[1;33m\u001b[0m\u001b[0m\n\u001b[0;32m   2143\u001b[0m     \u001b[1;32mdef\u001b[0m \u001b[0m_concat\u001b[0m\u001b[1;33m(\u001b[0m\u001b[0mself\u001b[0m\u001b[1;33m,\u001b[0m \u001b[0mto_concat\u001b[0m\u001b[1;33m,\u001b[0m \u001b[0mname\u001b[0m\u001b[1;33m)\u001b[0m\u001b[1;33m:\u001b[0m\u001b[1;33m\u001b[0m\u001b[0m\n",
      "\u001b[1;32mE:\\ProgramData\\Anaconda3\\envs\\quant\\lib\\site-packages\\pandas\\core\\indexes\\category.py\u001b[0m in \u001b[0;36m_concat\u001b[1;34m(self, to_concat, name)\u001b[0m\n\u001b[0;32m    774\u001b[0m     \u001b[1;32mdef\u001b[0m \u001b[0m_concat\u001b[0m\u001b[1;33m(\u001b[0m\u001b[0mself\u001b[0m\u001b[1;33m,\u001b[0m \u001b[0mto_concat\u001b[0m\u001b[1;33m,\u001b[0m \u001b[0mname\u001b[0m\u001b[1;33m)\u001b[0m\u001b[1;33m:\u001b[0m\u001b[1;33m\u001b[0m\u001b[0m\n\u001b[0;32m    775\u001b[0m         \u001b[1;31m# if calling index is category, don't check dtype of others\u001b[0m\u001b[1;33m\u001b[0m\u001b[1;33m\u001b[0m\u001b[0m\n\u001b[1;32m--> 776\u001b[1;33m         \u001b[1;32mreturn\u001b[0m \u001b[0mCategoricalIndex\u001b[0m\u001b[1;33m.\u001b[0m\u001b[0m_concat_same_dtype\u001b[0m\u001b[1;33m(\u001b[0m\u001b[0mself\u001b[0m\u001b[1;33m,\u001b[0m \u001b[0mto_concat\u001b[0m\u001b[1;33m,\u001b[0m \u001b[0mname\u001b[0m\u001b[1;33m)\u001b[0m\u001b[1;33m\u001b[0m\u001b[0m\n\u001b[0m\u001b[0;32m    777\u001b[0m \u001b[1;33m\u001b[0m\u001b[0m\n\u001b[0;32m    778\u001b[0m     \u001b[1;32mdef\u001b[0m \u001b[0m_concat_same_dtype\u001b[0m\u001b[1;33m(\u001b[0m\u001b[0mself\u001b[0m\u001b[1;33m,\u001b[0m \u001b[0mto_concat\u001b[0m\u001b[1;33m,\u001b[0m \u001b[0mname\u001b[0m\u001b[1;33m)\u001b[0m\u001b[1;33m:\u001b[0m\u001b[1;33m\u001b[0m\u001b[0m\n",
      "\u001b[1;32mE:\\ProgramData\\Anaconda3\\envs\\quant\\lib\\site-packages\\pandas\\core\\indexes\\category.py\u001b[0m in \u001b[0;36m_concat_same_dtype\u001b[1;34m(self, to_concat, name)\u001b[0m\n\u001b[0;32m    781\u001b[0m         \u001b[0mValueError\u001b[0m \u001b[1;32mif\u001b[0m \u001b[0mother\u001b[0m \u001b[1;32mis\u001b[0m \u001b[1;32mnot\u001b[0m \u001b[1;32min\u001b[0m \u001b[0mthe\u001b[0m \u001b[0mcategories\u001b[0m\u001b[1;33m\u001b[0m\u001b[0m\n\u001b[0;32m    782\u001b[0m         \"\"\"\n\u001b[1;32m--> 783\u001b[1;33m         \u001b[0mto_concat\u001b[0m \u001b[1;33m=\u001b[0m \u001b[1;33m[\u001b[0m\u001b[0mself\u001b[0m\u001b[1;33m.\u001b[0m\u001b[0m_is_dtype_compat\u001b[0m\u001b[1;33m(\u001b[0m\u001b[0mc\u001b[0m\u001b[1;33m)\u001b[0m \u001b[1;32mfor\u001b[0m \u001b[0mc\u001b[0m \u001b[1;32min\u001b[0m \u001b[0mto_concat\u001b[0m\u001b[1;33m]\u001b[0m\u001b[1;33m\u001b[0m\u001b[0m\n\u001b[0m\u001b[0;32m    784\u001b[0m         \u001b[0mcodes\u001b[0m \u001b[1;33m=\u001b[0m \u001b[0mnp\u001b[0m\u001b[1;33m.\u001b[0m\u001b[0mconcatenate\u001b[0m\u001b[1;33m(\u001b[0m\u001b[1;33m[\u001b[0m\u001b[0mc\u001b[0m\u001b[1;33m.\u001b[0m\u001b[0mcodes\u001b[0m \u001b[1;32mfor\u001b[0m \u001b[0mc\u001b[0m \u001b[1;32min\u001b[0m \u001b[0mto_concat\u001b[0m\u001b[1;33m]\u001b[0m\u001b[1;33m)\u001b[0m\u001b[1;33m\u001b[0m\u001b[0m\n\u001b[0;32m    785\u001b[0m         \u001b[0mresult\u001b[0m \u001b[1;33m=\u001b[0m \u001b[0mself\u001b[0m\u001b[1;33m.\u001b[0m\u001b[0m_create_from_codes\u001b[0m\u001b[1;33m(\u001b[0m\u001b[0mcodes\u001b[0m\u001b[1;33m,\u001b[0m \u001b[0mname\u001b[0m\u001b[1;33m=\u001b[0m\u001b[0mname\u001b[0m\u001b[1;33m)\u001b[0m\u001b[1;33m\u001b[0m\u001b[0m\n",
      "\u001b[1;32mE:\\ProgramData\\Anaconda3\\envs\\quant\\lib\\site-packages\\pandas\\core\\indexes\\category.py\u001b[0m in \u001b[0;36m<listcomp>\u001b[1;34m(.0)\u001b[0m\n\u001b[0;32m    781\u001b[0m         \u001b[0mValueError\u001b[0m \u001b[1;32mif\u001b[0m \u001b[0mother\u001b[0m \u001b[1;32mis\u001b[0m \u001b[1;32mnot\u001b[0m \u001b[1;32min\u001b[0m \u001b[0mthe\u001b[0m \u001b[0mcategories\u001b[0m\u001b[1;33m\u001b[0m\u001b[0m\n\u001b[0;32m    782\u001b[0m         \"\"\"\n\u001b[1;32m--> 783\u001b[1;33m         \u001b[0mto_concat\u001b[0m \u001b[1;33m=\u001b[0m \u001b[1;33m[\u001b[0m\u001b[0mself\u001b[0m\u001b[1;33m.\u001b[0m\u001b[0m_is_dtype_compat\u001b[0m\u001b[1;33m(\u001b[0m\u001b[0mc\u001b[0m\u001b[1;33m)\u001b[0m \u001b[1;32mfor\u001b[0m \u001b[0mc\u001b[0m \u001b[1;32min\u001b[0m \u001b[0mto_concat\u001b[0m\u001b[1;33m]\u001b[0m\u001b[1;33m\u001b[0m\u001b[0m\n\u001b[0m\u001b[0;32m    784\u001b[0m         \u001b[0mcodes\u001b[0m \u001b[1;33m=\u001b[0m \u001b[0mnp\u001b[0m\u001b[1;33m.\u001b[0m\u001b[0mconcatenate\u001b[0m\u001b[1;33m(\u001b[0m\u001b[1;33m[\u001b[0m\u001b[0mc\u001b[0m\u001b[1;33m.\u001b[0m\u001b[0mcodes\u001b[0m \u001b[1;32mfor\u001b[0m \u001b[0mc\u001b[0m \u001b[1;32min\u001b[0m \u001b[0mto_concat\u001b[0m\u001b[1;33m]\u001b[0m\u001b[1;33m)\u001b[0m\u001b[1;33m\u001b[0m\u001b[0m\n\u001b[0;32m    785\u001b[0m         \u001b[0mresult\u001b[0m \u001b[1;33m=\u001b[0m \u001b[0mself\u001b[0m\u001b[1;33m.\u001b[0m\u001b[0m_create_from_codes\u001b[0m\u001b[1;33m(\u001b[0m\u001b[0mcodes\u001b[0m\u001b[1;33m,\u001b[0m \u001b[0mname\u001b[0m\u001b[1;33m=\u001b[0m\u001b[0mname\u001b[0m\u001b[1;33m)\u001b[0m\u001b[1;33m\u001b[0m\u001b[0m\n",
      "\u001b[1;32mE:\\ProgramData\\Anaconda3\\envs\\quant\\lib\\site-packages\\pandas\\core\\indexes\\category.py\u001b[0m in \u001b[0;36m_is_dtype_compat\u001b[1;34m(self, other)\u001b[0m\n\u001b[0;32m    231\u001b[0m                 \u001b[0mother\u001b[0m \u001b[1;33m=\u001b[0m \u001b[0mother\u001b[0m\u001b[1;33m.\u001b[0m\u001b[0m_values\u001b[0m\u001b[1;33m\u001b[0m\u001b[0m\n\u001b[0;32m    232\u001b[0m             \u001b[1;32mif\u001b[0m \u001b[1;32mnot\u001b[0m \u001b[0mother\u001b[0m\u001b[1;33m.\u001b[0m\u001b[0mis_dtype_equal\u001b[0m\u001b[1;33m(\u001b[0m\u001b[0mself\u001b[0m\u001b[1;33m)\u001b[0m\u001b[1;33m:\u001b[0m\u001b[1;33m\u001b[0m\u001b[0m\n\u001b[1;32m--> 233\u001b[1;33m                 raise TypeError(\"categories must match existing categories \"\n\u001b[0m\u001b[0;32m    234\u001b[0m                                 \"when appending\")\n\u001b[0;32m    235\u001b[0m         \u001b[1;32melse\u001b[0m\u001b[1;33m:\u001b[0m\u001b[1;33m\u001b[0m\u001b[0m\n",
      "\u001b[1;31mTypeError\u001b[0m: categories must match existing categories when appending"
     ]
    }
   ],
   "source": [
    "test = crsp_fa2.groupby('date').apply(group_decile)"
   ]
  }
 ],
 "metadata": {
  "kernelspec": {
   "display_name": "Python (quant)",
   "language": "python",
   "name": "quant"
  },
  "language_info": {
   "codemirror_mode": {
    "name": "ipython",
    "version": 3
   },
   "file_extension": ".py",
   "mimetype": "text/x-python",
   "name": "python",
   "nbconvert_exporter": "python",
   "pygments_lexer": "ipython3",
   "version": "3.6.6"
  },
  "toc": {
   "base_numbering": 1,
   "nav_menu": {},
   "number_sections": true,
   "sideBar": true,
   "skip_h1_title": false,
   "title_cell": "Table of Contents",
   "title_sidebar": "Contents",
   "toc_cell": false,
   "toc_position": {},
   "toc_section_display": true,
   "toc_window_display": false
  },
  "varInspector": {
   "cols": {
    "lenName": 16,
    "lenType": 16,
    "lenVar": 40
   },
   "kernels_config": {
    "python": {
     "delete_cmd_postfix": "",
     "delete_cmd_prefix": "del ",
     "library": "var_list.py",
     "varRefreshCmd": "print(var_dic_list())"
    },
    "r": {
     "delete_cmd_postfix": ") ",
     "delete_cmd_prefix": "rm(",
     "library": "var_list.r",
     "varRefreshCmd": "cat(var_dic_list()) "
    }
   },
   "position": {
    "height": "567.5px",
    "left": "1130px",
    "right": "20px",
    "top": "120px",
    "width": "350px"
   },
   "types_to_exclude": [
    "module",
    "function",
    "builtin_function_or_method",
    "instance",
    "_Feature"
   ],
   "window_display": false
  }
 },
 "nbformat": 4,
 "nbformat_minor": 2
}
