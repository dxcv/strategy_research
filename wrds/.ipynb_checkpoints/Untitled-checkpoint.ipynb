{
 "cells": [
  {
   "cell_type": "code",
   "execution_count": null,
   "metadata": {},
   "outputs": [],
   "source": [
    "# Get a comp demo data\n",
    "comp_demo = db.get_table(library='comp', table='funda', columns=['gvkey', 'datadate',\n",
    "                                                                'fyear'])\n",
    "comp_demo.drop_duplicates(inplace=True)\n",
    "\n",
    "# Get a CRSP demo data\n",
    "crsp_demo = db.get_table(library='crsp', table='msf', columns=['permno', 'ncusip', 'date'])\n",
    "crsp_demo.drop_duplicates(inplace=True)\n",
    "\n",
    "# Get Compustat-CRSP linktable\n",
    "link = db.get_table(library='crsp', table='ccmxpf_lnkhist', columns=['gvkey', 'lpermno', 'lpermco', 'linktype', 'linkprim']) # 'linkdt', 'linkenddt'\n",
    "link = link[link['linktype'].isin(['LC', 'LU'])]\n",
    "link = link[link['linkprim'].isin(['C', 'P'])]\n",
    "link.drop(['linktype', 'linkprim'], axis=1, inplace=True)\n",
    "\n",
    "crsp_add_gvkey = crsp_demo.merge(link, left_on='permno', right_on='lpermno')\n",
    "crsp_add_gvkey.drop_duplicates(inplace=True)\n",
    "\n",
    "out = crsp_add_gvkey.merge(comp_demo, left_on='gvkey', right_on='gvkey')\n",
    "out.drop_duplicates(inplace=True)"
   ]
  },
  {
   "cell_type": "code",
   "execution_count": 1,
   "metadata": {},
   "outputs": [],
   "source": [
    "import wrds"
   ]
  },
  {
   "cell_type": "code",
   "execution_count": 2,
   "metadata": {},
   "outputs": [
    {
     "name": "stdout",
     "output_type": "stream",
     "text": [
      "Loading library list...\n",
      "Done\n"
     ]
    }
   ],
   "source": [
    "db = wrds.Connection(wrds_username='kpu2019')"
   ]
  },
  {
   "cell_type": "code",
   "execution_count": 7,
   "metadata": {
    "scrolled": true
   },
   "outputs": [
    {
     "name": "stdout",
     "output_type": "stream",
     "text": [
      "Approximately 793935 rows in comp.funda.\n"
     ]
    }
   ],
   "source": [
    "comp_funda_describle = db.describe_table('comp', 'funda')"
   ]
  },
  {
   "cell_type": "code",
   "execution_count": 8,
   "metadata": {
    "scrolled": true
   },
   "outputs": [
    {
     "name": "stdout",
     "output_type": "stream",
     "text": [
      "Approximately 4509850 rows in crsp.msf.\n"
     ]
    }
   ],
   "source": [
    "crsp_msf_describle = db.describe_table('crsp', 'msf')"
   ]
  }
 ],
 "metadata": {
  "kernelspec": {
   "display_name": "Python (quant)",
   "language": "python",
   "name": "quant"
  },
  "language_info": {
   "codemirror_mode": {
    "name": "ipython",
    "version": 3
   },
   "file_extension": ".py",
   "mimetype": "text/x-python",
   "name": "python",
   "nbconvert_exporter": "python",
   "pygments_lexer": "ipython3",
   "version": "3.6.6"
  },
  "toc": {
   "base_numbering": 1,
   "nav_menu": {},
   "number_sections": true,
   "sideBar": true,
   "skip_h1_title": false,
   "title_cell": "Table of Contents",
   "title_sidebar": "Contents",
   "toc_cell": false,
   "toc_position": {},
   "toc_section_display": true,
   "toc_window_display": false
  },
  "varInspector": {
   "cols": {
    "lenName": 16,
    "lenType": 16,
    "lenVar": 40
   },
   "kernels_config": {
    "python": {
     "delete_cmd_postfix": "",
     "delete_cmd_prefix": "del ",
     "library": "var_list.py",
     "varRefreshCmd": "print(var_dic_list())"
    },
    "r": {
     "delete_cmd_postfix": ") ",
     "delete_cmd_prefix": "rm(",
     "library": "var_list.r",
     "varRefreshCmd": "cat(var_dic_list()) "
    }
   },
   "types_to_exclude": [
    "module",
    "function",
    "builtin_function_or_method",
    "instance",
    "_Feature"
   ],
   "window_display": false
  }
 },
 "nbformat": 4,
 "nbformat_minor": 2
}
