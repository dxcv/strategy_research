{
 "cells": [
  {
   "cell_type": "code",
   "execution_count": 1,
   "metadata": {},
   "outputs": [],
   "source": [
    "%load_ext autoreload\n",
    "%autoreload 2"
   ]
  },
  {
   "cell_type": "code",
   "execution_count": 2,
   "metadata": {},
   "outputs": [],
   "source": [
    "import numpy as np\n",
    "import pandas as pd\n",
    "import matplotlib.pyplot as plt\n",
    "import seaborn as sns\n",
    "import statsmodels.api as sm\n",
    "# import tushare as ts\n",
    "# import QUANTAXIS as QA\n",
    "import talib as ta\n",
    "import datetime, time\n",
    "from dateutil.relativedelta import *\n",
    "from pandas.tseries.offsets import *\n",
    "from tqdm import tqdm_notebook"
   ]
  },
  {
   "cell_type": "code",
   "execution_count": 3,
   "metadata": {},
   "outputs": [],
   "source": [
    "plt.rcParams['figure.figsize'] = [12, 8]\n",
    "plt.rcParams['image.interpolation'] = 'nearest'\n",
    "plt.rcParams['image.cmap'] = 'gray'\n",
    "plt.style.use('ggplot')"
   ]
  },
  {
   "cell_type": "markdown",
   "metadata": {},
   "source": [
    "crsp fiscal resample"
   ]
  },
  {
   "cell_type": "code",
   "execution_count": 13,
   "metadata": {},
   "outputs": [],
   "source": [
    "def calc_exf(df):\n",
    "    ret = df.ret_p1\n",
    "    dret = df.dret_p1\n",
    "    exf = df.mv - df.mv.shift(1) * df.retx_p1\n",
    "    exf_to_mv = exf / df.mv.shift(1)\n",
    "    \n",
    "    car1 = ret[::-1].rolling(1, min_periods=0).apply(np.prod, raw=True)[::-1] - \\\n",
    "        dret[::-1].rolling(1, min_periods=0).apply(np.prod, raw=True)[::-1]\n",
    "    car3 = ret[::-1].rolling(3, min_periods=0).apply(np.prod, raw=True)[::-1] - \\\n",
    "        dret[::-1].rolling(3, min_periods=0).apply(np.prod, raw=True)[::-1]\n",
    "    car5 = ret[::-1].rolling(5, min_periods=0).apply(np.prod, raw=True)[::-1] - \\\n",
    "        dret[::-1].rolling(5, min_periods=0).apply(np.prod, raw=True)[::-1]\n",
    "    \n",
    "    wr5 = ret[::-1].rolling(5, min_periods=0).apply(np.prod, raw=True)[::-1] / \\\n",
    "        dret[::-1].rolling(5, min_periods=0).apply(np.prod, raw=True)[::-1]\n",
    "    \n",
    "    ret_n1 = ret[::-1].rolling(1, min_periods=0).apply(np.prod, raw=True)[::-1]\n",
    "    ret_n2 = ret[::-1].rolling(2, min_periods=0).apply(np.prod, raw=True)[::-1]\n",
    "    ret_n3 = ret[::-1].rolling(3, min_periods=0).apply(np.prod, raw=True)[::-1]\n",
    "    ret_n4 = ret[::-1].rolling(4, min_periods=0).apply(np.prod, raw=True)[::-1]\n",
    "    ret_n5 = ret[::-1].rolling(5, min_periods=0).apply(np.prod, raw=True)[::-1]\n",
    "    ret_n6 = ret[::-1].rolling(6, min_periods=0).apply(np.prod, raw=True)[::-1]\n",
    "    ret_n7 = ret[::-1].rolling(7, min_periods=0).apply(np.prod, raw=True)[::-1]\n",
    "    ret_n8 = ret[::-1].rolling(8, min_periods=0).apply(np.prod, raw=True)[::-1]\n",
    "    \n",
    "    res = pd.DataFrame({\n",
    "        'date':df.date,\n",
    "        'mv':df.mv,\n",
    "#         'mv_adj':df.mv_adj,\n",
    "#         'ret_p1':df.ret_p1,\n",
    "        'retx_p1':df.retx_p1,\n",
    "#         'dret_p1':df.dret_p1,\n",
    "        'exf':exf,\n",
    "        'exf_to_mv':exf_to_mv,\n",
    "        'car1':car1,\n",
    "        'car3':car3,\n",
    "        'car5':car5,\n",
    "        'wr5':wr5,\n",
    "        'ret_n1':ret_n1,\n",
    "        'ret_n2':ret_n2,\n",
    "        'ret_n3':ret_n3,\n",
    "        'ret_n4':ret_n4,\n",
    "        'ret_n5':ret_n5,\n",
    "        'ret_n6':ret_n6,\n",
    "        'ret_n7':ret_n7,\n",
    "        'ret_n8':ret_n8\n",
    "    })\n",
    "    return res"
   ]
  },
  {
   "cell_type": "code",
   "execution_count": 20,
   "metadata": {},
   "outputs": [],
   "source": [
    "crsp_fa = pd.read_csv('data/crsp_fa.zip',\n",
    "                     parse_dates=['date'], infer_datetime_format=True)"
   ]
  },
  {
   "cell_type": "markdown",
   "metadata": {},
   "source": [
    "查看firm-years数量\n",
    "\n",
    "ps:因为流通股数的单位默认是1000, 故mv_adj只需要大于50000即可"
   ]
  },
  {
   "cell_type": "code",
   "execution_count": 9,
   "metadata": {},
   "outputs": [
    {
     "data": {
      "text/plain": [
       "145087"
      ]
     },
     "execution_count": 9,
     "metadata": {},
     "output_type": "execute_result"
    }
   ],
   "source": [
    "crsp_fa[crsp_fa.mv_adj >= 5e+4].shape[0]"
   ]
  },
  {
   "cell_type": "code",
   "execution_count": 11,
   "metadata": {},
   "outputs": [],
   "source": [
    "crsp_fa = crsp_fa[crsp_fa.mv_adj >= 5e+4]"
   ]
  },
  {
   "cell_type": "code",
   "execution_count": 14,
   "metadata": {},
   "outputs": [
    {
     "name": "stdout",
     "output_type": "stream",
     "text": [
      "200.02533375683896\n"
     ]
    }
   ],
   "source": [
    "tic = time.perf_counter()\n",
    "crsp_fa = crsp_fa.set_index('permno').groupby('permno').apply(calc_exf)\n",
    "toc = time.perf_counter()\n",
    "print(toc-tic)"
   ]
  },
  {
   "cell_type": "markdown",
   "metadata": {},
   "source": [
    "\n",
    "exf_to_mv : $EXF_{t}/MV_{t-1}$\n",
    "\n",
    "ret_n1 : 接下来1年的return\n"
   ]
  },
  {
   "cell_type": "code",
   "execution_count": 159,
   "metadata": {},
   "outputs": [
    {
     "data": {
      "text/html": [
       "<div>\n",
       "<style scoped>\n",
       "    .dataframe tbody tr th:only-of-type {\n",
       "        vertical-align: middle;\n",
       "    }\n",
       "\n",
       "    .dataframe tbody tr th {\n",
       "        vertical-align: top;\n",
       "    }\n",
       "\n",
       "    .dataframe thead th {\n",
       "        text-align: right;\n",
       "    }\n",
       "</style>\n",
       "<table border=\"1\" class=\"dataframe\">\n",
       "  <thead>\n",
       "    <tr style=\"text-align: right;\">\n",
       "      <th></th>\n",
       "      <th>exf_to_mv</th>\n",
       "      <th>car1</th>\n",
       "      <th>car3</th>\n",
       "      <th>car5</th>\n",
       "      <th>wr5</th>\n",
       "      <th>ret_n1</th>\n",
       "      <th>ret_n2</th>\n",
       "      <th>ret_n3</th>\n",
       "      <th>ret_n4</th>\n",
       "      <th>ret_n5</th>\n",
       "      <th>ret_n6</th>\n",
       "      <th>ret_n7</th>\n",
       "      <th>ret_n8</th>\n",
       "    </tr>\n",
       "    <tr>\n",
       "      <th>exf_to_mv</th>\n",
       "      <th></th>\n",
       "      <th></th>\n",
       "      <th></th>\n",
       "      <th></th>\n",
       "      <th></th>\n",
       "      <th></th>\n",
       "      <th></th>\n",
       "      <th></th>\n",
       "      <th></th>\n",
       "      <th></th>\n",
       "      <th></th>\n",
       "      <th></th>\n",
       "      <th></th>\n",
       "    </tr>\n",
       "  </thead>\n",
       "  <tbody>\n",
       "    <tr>\n",
       "      <th>(-128.103, -0.0437]</th>\n",
       "      <td>-0.463229</td>\n",
       "      <td>0.420885</td>\n",
       "      <td>0.853516</td>\n",
       "      <td>1.237017</td>\n",
       "      <td>1.649963</td>\n",
       "      <td>1.614379</td>\n",
       "      <td>2.013811</td>\n",
       "      <td>2.319073</td>\n",
       "      <td>2.663845</td>\n",
       "      <td>2.991943</td>\n",
       "      <td>3.255671</td>\n",
       "      <td>3.530375</td>\n",
       "      <td>3.752631</td>\n",
       "    </tr>\n",
       "    <tr>\n",
       "      <th>(-0.0437, -0.00639]</th>\n",
       "      <td>-0.020932</td>\n",
       "      <td>-0.044345</td>\n",
       "      <td>0.040397</td>\n",
       "      <td>0.102847</td>\n",
       "      <td>1.083133</td>\n",
       "      <td>1.059233</td>\n",
       "      <td>1.228644</td>\n",
       "      <td>1.378262</td>\n",
       "      <td>1.533860</td>\n",
       "      <td>1.684114</td>\n",
       "      <td>1.847171</td>\n",
       "      <td>2.015358</td>\n",
       "      <td>2.179618</td>\n",
       "    </tr>\n",
       "    <tr>\n",
       "      <th>(-0.00639, -1.41e-07]</th>\n",
       "      <td>-0.001351</td>\n",
       "      <td>-0.043359</td>\n",
       "      <td>0.022182</td>\n",
       "      <td>0.074331</td>\n",
       "      <td>1.063962</td>\n",
       "      <td>1.085631</td>\n",
       "      <td>1.277435</td>\n",
       "      <td>1.463978</td>\n",
       "      <td>1.653877</td>\n",
       "      <td>1.853525</td>\n",
       "      <td>2.064491</td>\n",
       "      <td>2.257689</td>\n",
       "      <td>2.469176</td>\n",
       "    </tr>\n",
       "    <tr>\n",
       "      <th>(-1.41e-07, 0.00083]</th>\n",
       "      <td>0.000153</td>\n",
       "      <td>-0.061229</td>\n",
       "      <td>-0.009407</td>\n",
       "      <td>0.048201</td>\n",
       "      <td>1.046977</td>\n",
       "      <td>1.066538</td>\n",
       "      <td>1.261545</td>\n",
       "      <td>1.454640</td>\n",
       "      <td>1.656027</td>\n",
       "      <td>1.887582</td>\n",
       "      <td>2.112502</td>\n",
       "      <td>2.324740</td>\n",
       "      <td>2.574084</td>\n",
       "    </tr>\n",
       "    <tr>\n",
       "      <th>(0.00083, 0.0045]</th>\n",
       "      <td>0.002508</td>\n",
       "      <td>-0.113564</td>\n",
       "      <td>-0.051440</td>\n",
       "      <td>-0.026650</td>\n",
       "      <td>0.987071</td>\n",
       "      <td>1.000898</td>\n",
       "      <td>1.183091</td>\n",
       "      <td>1.355366</td>\n",
       "      <td>1.516677</td>\n",
       "      <td>1.682266</td>\n",
       "      <td>1.874614</td>\n",
       "      <td>2.051986</td>\n",
       "      <td>2.233535</td>\n",
       "    </tr>\n",
       "    <tr>\n",
       "      <th>(0.0045, 0.0109]</th>\n",
       "      <td>0.007398</td>\n",
       "      <td>-0.062482</td>\n",
       "      <td>0.009627</td>\n",
       "      <td>0.066456</td>\n",
       "      <td>1.040766</td>\n",
       "      <td>1.060333</td>\n",
       "      <td>1.241405</td>\n",
       "      <td>1.415956</td>\n",
       "      <td>1.572668</td>\n",
       "      <td>1.750219</td>\n",
       "      <td>1.936085</td>\n",
       "      <td>2.092611</td>\n",
       "      <td>2.235727</td>\n",
       "    </tr>\n",
       "    <tr>\n",
       "      <th>(0.0109, 0.024]</th>\n",
       "      <td>0.016600</td>\n",
       "      <td>0.001479</td>\n",
       "      <td>0.088822</td>\n",
       "      <td>0.161320</td>\n",
       "      <td>1.103166</td>\n",
       "      <td>1.137256</td>\n",
       "      <td>1.321359</td>\n",
       "      <td>1.498360</td>\n",
       "      <td>1.668335</td>\n",
       "      <td>1.831654</td>\n",
       "      <td>1.999068</td>\n",
       "      <td>2.165357</td>\n",
       "      <td>2.312047</td>\n",
       "    </tr>\n",
       "    <tr>\n",
       "      <th>(0.024, 0.0609]</th>\n",
       "      <td>0.038750</td>\n",
       "      <td>0.072258</td>\n",
       "      <td>0.202729</td>\n",
       "      <td>0.270283</td>\n",
       "      <td>1.163774</td>\n",
       "      <td>1.218350</td>\n",
       "      <td>1.412224</td>\n",
       "      <td>1.618263</td>\n",
       "      <td>1.782969</td>\n",
       "      <td>1.937117</td>\n",
       "      <td>2.076336</td>\n",
       "      <td>2.256662</td>\n",
       "      <td>2.417309</td>\n",
       "    </tr>\n",
       "    <tr>\n",
       "      <th>(0.0609, 0.186]</th>\n",
       "      <td>0.110957</td>\n",
       "      <td>0.098067</td>\n",
       "      <td>0.158000</td>\n",
       "      <td>0.223784</td>\n",
       "      <td>1.134987</td>\n",
       "      <td>1.240088</td>\n",
       "      <td>1.404905</td>\n",
       "      <td>1.577089</td>\n",
       "      <td>1.746623</td>\n",
       "      <td>1.905317</td>\n",
       "      <td>2.067133</td>\n",
       "      <td>2.208761</td>\n",
       "      <td>2.398599</td>\n",
       "    </tr>\n",
       "    <tr>\n",
       "      <th>(0.186, 67.592]</th>\n",
       "      <td>0.662144</td>\n",
       "      <td>0.398521</td>\n",
       "      <td>0.387303</td>\n",
       "      <td>0.465027</td>\n",
       "      <td>1.275150</td>\n",
       "      <td>1.575415</td>\n",
       "      <td>1.699836</td>\n",
       "      <td>1.824324</td>\n",
       "      <td>1.945469</td>\n",
       "      <td>2.160754</td>\n",
       "      <td>2.292312</td>\n",
       "      <td>2.449775</td>\n",
       "      <td>2.578612</td>\n",
       "    </tr>\n",
       "  </tbody>\n",
       "</table>\n",
       "</div>"
      ],
      "text/plain": [
       "                       exf_to_mv      car1      car3      car5       wr5  \\\n",
       "exf_to_mv                                                                  \n",
       "(-128.103, -0.0437]    -0.463229  0.420885  0.853516  1.237017  1.649963   \n",
       "(-0.0437, -0.00639]    -0.020932 -0.044345  0.040397  0.102847  1.083133   \n",
       "(-0.00639, -1.41e-07]  -0.001351 -0.043359  0.022182  0.074331  1.063962   \n",
       "(-1.41e-07, 0.00083]    0.000153 -0.061229 -0.009407  0.048201  1.046977   \n",
       "(0.00083, 0.0045]       0.002508 -0.113564 -0.051440 -0.026650  0.987071   \n",
       "(0.0045, 0.0109]        0.007398 -0.062482  0.009627  0.066456  1.040766   \n",
       "(0.0109, 0.024]         0.016600  0.001479  0.088822  0.161320  1.103166   \n",
       "(0.024, 0.0609]         0.038750  0.072258  0.202729  0.270283  1.163774   \n",
       "(0.0609, 0.186]         0.110957  0.098067  0.158000  0.223784  1.134987   \n",
       "(0.186, 67.592]         0.662144  0.398521  0.387303  0.465027  1.275150   \n",
       "\n",
       "                         ret_n1    ret_n2    ret_n3    ret_n4    ret_n5  \\\n",
       "exf_to_mv                                                                 \n",
       "(-128.103, -0.0437]    1.614379  2.013811  2.319073  2.663845  2.991943   \n",
       "(-0.0437, -0.00639]    1.059233  1.228644  1.378262  1.533860  1.684114   \n",
       "(-0.00639, -1.41e-07]  1.085631  1.277435  1.463978  1.653877  1.853525   \n",
       "(-1.41e-07, 0.00083]   1.066538  1.261545  1.454640  1.656027  1.887582   \n",
       "(0.00083, 0.0045]      1.000898  1.183091  1.355366  1.516677  1.682266   \n",
       "(0.0045, 0.0109]       1.060333  1.241405  1.415956  1.572668  1.750219   \n",
       "(0.0109, 0.024]        1.137256  1.321359  1.498360  1.668335  1.831654   \n",
       "(0.024, 0.0609]        1.218350  1.412224  1.618263  1.782969  1.937117   \n",
       "(0.0609, 0.186]        1.240088  1.404905  1.577089  1.746623  1.905317   \n",
       "(0.186, 67.592]        1.575415  1.699836  1.824324  1.945469  2.160754   \n",
       "\n",
       "                         ret_n6    ret_n7    ret_n8  \n",
       "exf_to_mv                                            \n",
       "(-128.103, -0.0437]    3.255671  3.530375  3.752631  \n",
       "(-0.0437, -0.00639]    1.847171  2.015358  2.179618  \n",
       "(-0.00639, -1.41e-07]  2.064491  2.257689  2.469176  \n",
       "(-1.41e-07, 0.00083]   2.112502  2.324740  2.574084  \n",
       "(0.00083, 0.0045]      1.874614  2.051986  2.233535  \n",
       "(0.0045, 0.0109]       1.936085  2.092611  2.235727  \n",
       "(0.0109, 0.024]        1.999068  2.165357  2.312047  \n",
       "(0.024, 0.0609]        2.076336  2.256662  2.417309  \n",
       "(0.0609, 0.186]        2.067133  2.208761  2.398599  \n",
       "(0.186, 67.592]        2.292312  2.449775  2.578612  "
      ]
     },
     "execution_count": 159,
     "metadata": {},
     "output_type": "execute_result"
    }
   ],
   "source": [
    "per1 = np.linspace(0,1,11).tolist()\n",
    "bins = crsp_fa.describe(percentiles=per1).exf_to_mv.iloc[4:-1].tolist()\n",
    "bins = [bins[0]-1] + bins[1:]\n",
    "# bins = bins[:-1] + [bins[-1]-1]\n",
    "crsp_fa.groupby(pd.cut(crsp_fa.exf_to_mv,bins, right=True)).mean().drop(['mv', 'retx_p1', 'exf'], axis=1)"
   ]
  },
  {
   "cell_type": "markdown",
   "metadata": {},
   "source": [
    "查看样本的个数"
   ]
  },
  {
   "cell_type": "code",
   "execution_count": 161,
   "metadata": {},
   "outputs": [
    {
     "data": {
      "text/plain": [
       "exf_to_mv\n",
       "(-128.103, -0.0437]      12817\n",
       "(-0.0437, -0.00639]      12816\n",
       "(-0.00639, -1.41e-07]    12816\n",
       "(-1.41e-07, 0.00083]     12816\n",
       "(0.00083, 0.0045]        12817\n",
       "(0.0045, 0.0109]         12816\n",
       "(0.0109, 0.024]          12816\n",
       "(0.024, 0.0609]          12816\n",
       "(0.0609, 0.186]          12816\n",
       "(0.186, 67.592]          12817\n",
       "Name: exf_to_mv, dtype: int64"
      ]
     },
     "execution_count": 161,
     "metadata": {},
     "output_type": "execute_result"
    }
   ],
   "source": [
    "crsp_fa.groupby(pd.cut(crsp_fa.exf_to_mv,bins, right=True)).count().exf_to_mv"
   ]
  }
 ],
 "metadata": {
  "kernelspec": {
   "display_name": "Python 3",
   "language": "python",
   "name": "python3"
  },
  "language_info": {
   "codemirror_mode": {
    "name": "ipython",
    "version": 3
   },
   "file_extension": ".py",
   "mimetype": "text/x-python",
   "name": "python",
   "nbconvert_exporter": "python",
   "pygments_lexer": "ipython3",
   "version": "3.6.5"
  },
  "toc": {
   "base_numbering": 1,
   "nav_menu": {},
   "number_sections": true,
   "sideBar": true,
   "skip_h1_title": false,
   "title_cell": "Table of Contents",
   "title_sidebar": "Contents",
   "toc_cell": false,
   "toc_position": {},
   "toc_section_display": true,
   "toc_window_display": false
  },
  "varInspector": {
   "cols": {
    "lenName": 16,
    "lenType": 16,
    "lenVar": 40
   },
   "kernels_config": {
    "python": {
     "delete_cmd_postfix": "",
     "delete_cmd_prefix": "del ",
     "library": "var_list.py",
     "varRefreshCmd": "print(var_dic_list())"
    },
    "r": {
     "delete_cmd_postfix": ") ",
     "delete_cmd_prefix": "rm(",
     "library": "var_list.r",
     "varRefreshCmd": "cat(var_dic_list()) "
    }
   },
   "position": {
    "height": "567.5px",
    "left": "1130px",
    "right": "20px",
    "top": "120px",
    "width": "350px"
   },
   "types_to_exclude": [
    "module",
    "function",
    "builtin_function_or_method",
    "instance",
    "_Feature"
   ],
   "window_display": false
  }
 },
 "nbformat": 4,
 "nbformat_minor": 2
}
