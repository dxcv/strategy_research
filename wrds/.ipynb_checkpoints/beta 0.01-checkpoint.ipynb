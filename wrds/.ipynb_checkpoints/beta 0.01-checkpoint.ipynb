{
 "cells": [
  {
   "cell_type": "code",
   "execution_count": 1,
   "metadata": {},
   "outputs": [],
   "source": [
    "%load_ext autoreload\n",
    "%autoreload 2"
   ]
  },
  {
   "cell_type": "code",
   "execution_count": 2,
   "metadata": {},
   "outputs": [],
   "source": [
    "import numpy as np\n",
    "import pandas as pd\n",
    "import matplotlib.pyplot as plt\n",
    "import seaborn as sns\n",
    "import statsmodels.api as sm\n",
    "# import scipy\n",
    "# import tushare as ts\n",
    "import wrds\n",
    "import talib as ta\n",
    "import datetime, time\n"
   ]
  },
  {
   "cell_type": "code",
   "execution_count": 3,
   "metadata": {},
   "outputs": [],
   "source": [
    "plt.rcParams['figure.figsize'] = [12, 8]\n",
    "plt.rcParams['image.interpolation'] = 'nearest'\n",
    "plt.rcParams['image.cmap'] = 'gray'\n",
    "plt.style.use('ggplot')"
   ]
  },
  {
   "cell_type": "markdown",
   "metadata": {},
   "source": [
    "retrieve data from csv"
   ]
  },
  {
   "cell_type": "code",
   "execution_count": 30,
   "metadata": {},
   "outputs": [],
   "source": [
    "data_return = pd.read_csv('data/return.zip',\n",
    "                         parse_dates=['date'], infer_datetime_format=True)"
   ]
  },
  {
   "cell_type": "code",
   "execution_count": 29,
   "metadata": {},
   "outputs": [],
   "source": [
    "data_query7 = pd.read_csv('data/query7-replace some data in query6.zip',\n",
    "                         parse_dates=['datadate'], infer_datetime_format=True)"
   ]
  },
  {
   "cell_type": "code",
   "execution_count": 37,
   "metadata": {},
   "outputs": [
    {
     "data": {
      "text/html": [
       "<div>\n",
       "<style scoped>\n",
       "    .dataframe tbody tr th:only-of-type {\n",
       "        vertical-align: middle;\n",
       "    }\n",
       "\n",
       "    .dataframe tbody tr th {\n",
       "        vertical-align: top;\n",
       "    }\n",
       "\n",
       "    .dataframe thead th {\n",
       "        text-align: right;\n",
       "    }\n",
       "</style>\n",
       "<table border=\"1\" class=\"dataframe\">\n",
       "  <thead>\n",
       "    <tr style=\"text-align: right;\">\n",
       "      <th></th>\n",
       "      <th>PERMNO</th>\n",
       "      <th>TICKER</th>\n",
       "      <th>COMNAM</th>\n",
       "      <th>PERMCO</th>\n",
       "      <th>CUSIP</th>\n",
       "      <th>PRC</th>\n",
       "      <th>SHROUT</th>\n",
       "      <th>RETX</th>\n",
       "      <th>MV</th>\n",
       "      <th>RETPLUS</th>\n",
       "    </tr>\n",
       "    <tr>\n",
       "      <th>date</th>\n",
       "      <th></th>\n",
       "      <th></th>\n",
       "      <th></th>\n",
       "      <th></th>\n",
       "      <th></th>\n",
       "      <th></th>\n",
       "      <th></th>\n",
       "      <th></th>\n",
       "      <th></th>\n",
       "      <th></th>\n",
       "    </tr>\n",
       "  </thead>\n",
       "  <tbody>\n",
       "    <tr>\n",
       "      <th>1985-12-31</th>\n",
       "      <td>10000</td>\n",
       "      <td>NaN</td>\n",
       "      <td>NaN</td>\n",
       "      <td>7952</td>\n",
       "      <td>68391610</td>\n",
       "      <td>NaN</td>\n",
       "      <td>NaN</td>\n",
       "      <td>NaN</td>\n",
       "      <td>NaN</td>\n",
       "      <td>NaN</td>\n",
       "    </tr>\n",
       "    <tr>\n",
       "      <th>1986-01-31</th>\n",
       "      <td>10000</td>\n",
       "      <td>OMFGA</td>\n",
       "      <td>OPTIMUM MANUFACTURING INC</td>\n",
       "      <td>7952</td>\n",
       "      <td>68391610</td>\n",
       "      <td>-4.3750</td>\n",
       "      <td>3680.0</td>\n",
       "      <td>NaN</td>\n",
       "      <td>16100.0</td>\n",
       "      <td>NaN</td>\n",
       "    </tr>\n",
       "    <tr>\n",
       "      <th>1986-02-28</th>\n",
       "      <td>10000</td>\n",
       "      <td>OMFGA</td>\n",
       "      <td>OPTIMUM MANUFACTURING INC</td>\n",
       "      <td>7952</td>\n",
       "      <td>68391610</td>\n",
       "      <td>-3.2500</td>\n",
       "      <td>3680.0</td>\n",
       "      <td>-0.257143</td>\n",
       "      <td>11960.0</td>\n",
       "      <td>0.742857</td>\n",
       "    </tr>\n",
       "    <tr>\n",
       "      <th>1986-03-31</th>\n",
       "      <td>10000</td>\n",
       "      <td>OMFGA</td>\n",
       "      <td>OPTIMUM MANUFACTURING INC</td>\n",
       "      <td>7952</td>\n",
       "      <td>68391610</td>\n",
       "      <td>-4.4375</td>\n",
       "      <td>3680.0</td>\n",
       "      <td>0.365385</td>\n",
       "      <td>16330.0</td>\n",
       "      <td>1.365385</td>\n",
       "    </tr>\n",
       "    <tr>\n",
       "      <th>1986-04-30</th>\n",
       "      <td>10000</td>\n",
       "      <td>OMFGA</td>\n",
       "      <td>OPTIMUM MANUFACTURING INC</td>\n",
       "      <td>7952</td>\n",
       "      <td>68391610</td>\n",
       "      <td>-4.0000</td>\n",
       "      <td>3793.0</td>\n",
       "      <td>-0.098592</td>\n",
       "      <td>15172.0</td>\n",
       "      <td>0.901408</td>\n",
       "    </tr>\n",
       "  </tbody>\n",
       "</table>\n",
       "</div>"
      ],
      "text/plain": [
       "            PERMNO TICKER                     COMNAM PERMCO     CUSIP     PRC  \\\n",
       "date                                                                            \n",
       "1985-12-31   10000    NaN                        NaN   7952  68391610     NaN   \n",
       "1986-01-31   10000  OMFGA  OPTIMUM MANUFACTURING INC   7952  68391610 -4.3750   \n",
       "1986-02-28   10000  OMFGA  OPTIMUM MANUFACTURING INC   7952  68391610 -3.2500   \n",
       "1986-03-31   10000  OMFGA  OPTIMUM MANUFACTURING INC   7952  68391610 -4.4375   \n",
       "1986-04-30   10000  OMFGA  OPTIMUM MANUFACTURING INC   7952  68391610 -4.0000   \n",
       "\n",
       "            SHROUT      RETX       MV   RETPLUS  \n",
       "date                                             \n",
       "1985-12-31     NaN       NaN      NaN       NaN  \n",
       "1986-01-31  3680.0       NaN  16100.0       NaN  \n",
       "1986-02-28  3680.0 -0.257143  11960.0  0.742857  \n",
       "1986-03-31  3680.0  0.365385  16330.0  1.365385  \n",
       "1986-04-30  3793.0 -0.098592  15172.0  0.901408  "
      ]
     },
     "execution_count": 37,
     "metadata": {},
     "output_type": "execute_result"
    }
   ],
   "source": [
    "data.head()"
   ]
  },
  {
   "cell_type": "code",
   "execution_count": 1,
   "metadata": {},
   "outputs": [],
   "source": [
    "# data_query7.head()"
   ]
  },
  {
   "cell_type": "markdown",
   "metadata": {},
   "source": [
    "calc MV & CUM RETURNX"
   ]
  },
  {
   "cell_type": "code",
   "execution_count": 4,
   "metadata": {},
   "outputs": [],
   "source": [
    "data = pd.read_csv('data/query3.zip', parse_dates=['date'], infer_datetime_format=True,\n",
    "                  dtype={'PERMCO':str})\n",
    "# data = pd.read_csv('query3.csv', parse_dates=['date'], infer_datetime_format=True,)\n",
    "                   #dtype={'PRC':np.float64, 'SHROUT':np.float64})\n",
    "data = data.set_index('date')\n",
    "data.RET = data.RET.replace(['B', 'C'], [np.nan, np.nan]).astype(np.float64)\n",
    "data.RETX = data.RETX.replace(['B', 'C'], [np.nan, np.nan]).astype(np.float64)\n",
    "data = data.assign(MV=data.PRC.abs() * data.SHROUT,\n",
    "                  RETPLUS=data.RETX+1)"
   ]
  },
  {
   "cell_type": "code",
   "execution_count": 5,
   "metadata": {},
   "outputs": [
    {
     "data": {
      "text/html": [
       "<div>\n",
       "<style scoped>\n",
       "    .dataframe tbody tr th:only-of-type {\n",
       "        vertical-align: middle;\n",
       "    }\n",
       "\n",
       "    .dataframe tbody tr th {\n",
       "        vertical-align: top;\n",
       "    }\n",
       "\n",
       "    .dataframe thead th {\n",
       "        text-align: right;\n",
       "    }\n",
       "</style>\n",
       "<table border=\"1\" class=\"dataframe\">\n",
       "  <thead>\n",
       "    <tr style=\"text-align: right;\">\n",
       "      <th></th>\n",
       "      <th>PERMCO</th>\n",
       "      <th>date</th>\n",
       "      <th>CUMRETX</th>\n",
       "    </tr>\n",
       "  </thead>\n",
       "  <tbody>\n",
       "    <tr>\n",
       "      <th>0</th>\n",
       "      <td>100</td>\n",
       "      <td>1973-01-31</td>\n",
       "      <td>0.763819</td>\n",
       "    </tr>\n",
       "    <tr>\n",
       "      <th>1</th>\n",
       "      <td>100</td>\n",
       "      <td>1973-02-28</td>\n",
       "      <td>0.733668</td>\n",
       "    </tr>\n",
       "    <tr>\n",
       "      <th>2</th>\n",
       "      <td>100</td>\n",
       "      <td>1973-03-30</td>\n",
       "      <td>0.713568</td>\n",
       "    </tr>\n",
       "    <tr>\n",
       "      <th>3</th>\n",
       "      <td>100</td>\n",
       "      <td>1973-04-30</td>\n",
       "      <td>0.693467</td>\n",
       "    </tr>\n",
       "    <tr>\n",
       "      <th>4</th>\n",
       "      <td>100</td>\n",
       "      <td>1973-05-31</td>\n",
       "      <td>0.542714</td>\n",
       "    </tr>\n",
       "  </tbody>\n",
       "</table>\n",
       "</div>"
      ],
      "text/plain": [
       "  PERMCO       date   CUMRETX\n",
       "0    100 1973-01-31  0.763819\n",
       "1    100 1973-02-28  0.733668\n",
       "2    100 1973-03-30  0.713568\n",
       "3    100 1973-04-30  0.693467\n",
       "4    100 1973-05-31  0.542714"
      ]
     },
     "execution_count": 5,
     "metadata": {},
     "output_type": "execute_result"
    }
   ],
   "source": [
    "cum_ret = data.groupby(['PERMCO', pd.Grouper(freq=\"Y\")]).apply(lambda x : x.RETPLUS.cumprod())\n",
    "cum_ret.index = cum_ret.index.droplevel(1)\n",
    "cum_ret = cum_ret.reset_index()\n",
    "cum_ret.columns = ['PERMCO', 'date', 'CUMRETX']\n",
    "cum_ret = cum_ret.set_index('date')\n",
    "cum_ret.head()"
   ]
  },
  {
   "cell_type": "code",
   "execution_count": null,
   "metadata": {},
   "outputs": [],
   "source": []
  },
  {
   "cell_type": "code",
   "execution_count": null,
   "metadata": {},
   "outputs": [],
   "source": []
  }
 ],
 "metadata": {
  "kernelspec": {
   "display_name": "Python (quant)",
   "language": "python",
   "name": "quant"
  },
  "language_info": {
   "codemirror_mode": {
    "name": "ipython",
    "version": 3
   },
   "file_extension": ".py",
   "mimetype": "text/x-python",
   "name": "python",
   "nbconvert_exporter": "python",
   "pygments_lexer": "ipython3",
   "version": "3.6.6"
  },
  "toc": {
   "base_numbering": 1,
   "nav_menu": {},
   "number_sections": true,
   "sideBar": true,
   "skip_h1_title": false,
   "title_cell": "Table of Contents",
   "title_sidebar": "Contents",
   "toc_cell": false,
   "toc_position": {},
   "toc_section_display": true,
   "toc_window_display": false
  },
  "varInspector": {
   "cols": {
    "lenName": 16,
    "lenType": 16,
    "lenVar": 40
   },
   "kernels_config": {
    "python": {
     "delete_cmd_postfix": "",
     "delete_cmd_prefix": "del ",
     "library": "var_list.py",
     "varRefreshCmd": "print(var_dic_list())"
    },
    "r": {
     "delete_cmd_postfix": ") ",
     "delete_cmd_prefix": "rm(",
     "library": "var_list.r",
     "varRefreshCmd": "cat(var_dic_list()) "
    }
   },
   "types_to_exclude": [
    "module",
    "function",
    "builtin_function_or_method",
    "instance",
    "_Feature"
   ],
   "window_display": false
  }
 },
 "nbformat": 4,
 "nbformat_minor": 2
}
