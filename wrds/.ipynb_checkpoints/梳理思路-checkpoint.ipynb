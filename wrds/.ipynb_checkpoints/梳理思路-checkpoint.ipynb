{
 "cells": [
  {
   "cell_type": "markdown",
   "metadata": {},
   "source": [
    "数据基本上可以说是处理完毕\n",
    "\n",
    "然后分别按照calendar和fiscal两种方式分别处理下去, 因为fiscal所需要的时间较长, 所以在等待fiscal的时候,优先做calendar方面的事情"
   ]
  },
  {
   "cell_type": "code",
   "execution_count": 1,
   "metadata": {},
   "outputs": [],
   "source": [
    "%load_ext autoreload\n",
    "%autoreload 2"
   ]
  },
  {
   "cell_type": "code",
   "execution_count": 2,
   "metadata": {},
   "outputs": [],
   "source": [
    "import numpy as np\n",
    "import pandas as pd\n",
    "import matplotlib.pyplot as plt\n",
    "import seaborn as sns\n",
    "import statsmodels.api as sm\n",
    "# import tushare as ts\n",
    "# import QUANTAXIS as QA\n",
    "import talib as ta\n",
    "import datetime, time\n",
    "from dateutil.relativedelta import *\n",
    "from pandas.tseries.offsets import *"
   ]
  },
  {
   "cell_type": "code",
   "execution_count": 3,
   "metadata": {},
   "outputs": [],
   "source": [
    "from tqdm import tqdm_notebook"
   ]
  },
  {
   "cell_type": "code",
   "execution_count": 4,
   "metadata": {},
   "outputs": [],
   "source": [
    "plt.rcParams['figure.figsize'] = [12, 8]\n",
    "plt.rcParams['image.interpolation'] = 'nearest'\n",
    "plt.rcParams['image.cmap'] = 'gray'\n",
    "plt.style.use('ggplot')"
   ]
  },
  {
   "cell_type": "markdown",
   "metadata": {},
   "source": [
    "1. 数据年化处理\n",
    "\n",
    "1.1. crsp 没有fiscal end month 数据, 所以我们需要把comp中的相关数据link到ccm中, 然后再和crsp结合起来\n",
    "\n",
    "1.2. 把crsp按照每个permno进行年化处理"
   ]
  },
  {
   "cell_type": "code",
   "execution_count": 29,
   "metadata": {},
   "outputs": [],
   "source": [
    "# 先看看fundamental final数据有何不同\n",
    "comp = pd.read_csv('data/fundamental_final_1.1.zip',\n",
    "                  parse_dates=['datadate'], infer_datetime_format=True)\n",
    "# comp = comp.drop(['indfmt', 'consol', 'popsrc', 'datafmt'], axis=1)\n",
    "comp = comp.drop(['cusip'], axis=1)\n",
    "comp = comp[comp.fyr > 0]"
   ]
  },
  {
   "cell_type": "markdown",
   "metadata": {},
   "source": [
    "要么全本都是按照一个fyr去做计算，然后提取相应年份的值返回\n",
    "要么先按照月份去取数据，然后按照fyr去做年化处理，返回值"
   ]
  },
  {
   "cell_type": "markdown",
   "metadata": {},
   "source": [
    "那我选择第二个方案\n",
    "\n",
    "首先对comp添加fiscal year end month字段，方便后面去做处理\n",
    "然后循环"
   ]
  },
  {
   "cell_type": "code",
   "execution_count": 30,
   "metadata": {},
   "outputs": [],
   "source": [
    "comp = comp.assign(fystr = comp.datadate.apply(lambda x :  'A-' + x.strftime('%b')),\n",
    "                  fysm = comp.datadate - MonthBegin(12))"
   ]
  },
  {
   "cell_type": "code",
   "execution_count": 7,
   "metadata": {},
   "outputs": [],
   "source": [
    "# comp.head()"
   ]
  },
  {
   "cell_type": "code",
   "execution_count": 34,
   "metadata": {},
   "outputs": [],
   "source": [
    "# test = comp[(comp.gvkey==1003) | (comp.gvkey==1001) ]"
   ]
  },
  {
   "cell_type": "code",
   "execution_count": 35,
   "metadata": {},
   "outputs": [],
   "source": [
    "# g = test.groupby('gvkey')"
   ]
  },
  {
   "cell_type": "markdown",
   "metadata": {},
   "source": [
    "引入ccm, 链接上permno"
   ]
  },
  {
   "cell_type": "code",
   "execution_count": 31,
   "metadata": {},
   "outputs": [],
   "source": [
    "ccm = pd.read_csv('data/ccm_hist.csv')\n",
    "ccm = ccm.drop('Unnamed: 0', axis=1)\n",
    "ccm = ccm[((ccm.linktype == 'LU') | (ccm.linktype == 'LC')) & \\\n",
    "   ((ccm.linkprim == 'P') | (ccm.linkprim == 'C'))]\n",
    "ccm['linkdt']=pd.to_datetime(ccm['linkdt'])\n",
    "ccm['linkenddt']=pd.to_datetime(ccm['linkenddt'])\n",
    "# if linkenddt is missing then set to today date\n",
    "ccm['linkenddt']=ccm['linkenddt'].fillna(pd.to_datetime('today'))\n",
    "\n",
    "ccm.columns = ['gvkey', 'linkprim', 'liid', 'linktype', 'permno', 'permco', 'linkdt',\n",
    "       'linkenddt']"
   ]
  },
  {
   "cell_type": "code",
   "execution_count": 32,
   "metadata": {},
   "outputs": [
    {
     "name": "stderr",
     "output_type": "stream",
     "text": [
      "E:\\ProgramData\\Anaconda3\\envs\\quant\\lib\\site-packages\\pandas\\core\\generic.py:4405: SettingWithCopyWarning: \n",
      "A value is trying to be set on a copy of a slice from a DataFrame.\n",
      "Try using .loc[row_indexer,col_indexer] = value instead\n",
      "\n",
      "See the caveats in the documentation: http://pandas.pydata.org/pandas-docs/stable/indexing.html#indexing-view-versus-copy\n",
      "  self[name] = value\n"
     ]
    }
   ],
   "source": [
    "ccm1 = ccm[['gvkey', 'permno']]\n",
    "ccm1.permno = ccm1.permno.astype(int)"
   ]
  },
  {
   "cell_type": "code",
   "execution_count": 33,
   "metadata": {},
   "outputs": [],
   "source": [
    "comp1 = pd.merge(left=comp, right=ccm1, on=['gvkey'])"
   ]
  },
  {
   "cell_type": "code",
   "execution_count": 34,
   "metadata": {},
   "outputs": [],
   "source": [
    "comp1 = comp1[['gvkey', 'datadate', 'fyear', 'fystr', 'fysm', 'permno']]"
   ]
  },
  {
   "cell_type": "markdown",
   "metadata": {},
   "source": [
    "取crsp数据, 我们开始做实验"
   ]
  },
  {
   "cell_type": "code",
   "execution_count": 5,
   "metadata": {},
   "outputs": [
    {
     "name": "stderr",
     "output_type": "stream",
     "text": [
      "E:\\ProgramData\\Anaconda3\\envs\\quant\\lib\\site-packages\\IPython\\core\\interactiveshell.py:2785: DtypeWarning: Columns (5) have mixed types. Specify dtype option on import or set low_memory=False.\n",
      "  interactivity=interactivity, compiler=compiler, result=result)\n"
     ]
    }
   ],
   "source": [
    "crsp = pd.read_csv('data/return.zip', \n",
    "                   parse_dates=['date'], infer_datetime_format=True)\n",
    "crsp[['PERMNO', 'PERMCO']] = crsp[['PERMNO', 'PERMCO']].astype(int)\n",
    "\n",
    "crsp.RET = crsp.RET.replace(['B', 'C'], [np.nan, np.nan]).astype(np.float64)\n",
    "crsp.RETX = crsp.RETX.replace(['B', 'C'], [np.nan, np.nan]).astype(np.float64)\n",
    "\n",
    "crsp.RET = crsp.RET.fillna(0)\n",
    "crsp.RETX = crsp.RETX.fillna(0)\n",
    "\n",
    "crsp = crsp.drop(['PERMCO', 'CUSIP', 'TICKER', 'COMNAM'], axis=1)\n",
    "crsp.columns = [i.lower() for i in crsp.columns]\n",
    "\n",
    "crsp = crsp.assign(mv = crsp.prc.abs() * crsp.shrout,\n",
    "                         ret_p1 = crsp.ret+1,\n",
    "                         retx_p1 = crsp.retx+1)\n",
    "crsp.date = pd.to_datetime(crsp.date) + MonthEnd(0)\n",
    "\n",
    "crsp = crsp.reset_index()\n",
    "\n",
    "\n",
    "cpi = pd.read_excel('data/CPIAUCSL.xlsx')\n",
    "crsp = pd.merge(crsp, cpi[['date', 'cpi_adjust']], on=['date'])\n",
    "# crsp = crsp.assign(ret_p1_adj = crsp.ret * crsp.cpi_adjust + 1)\n",
    "crsp = crsp.assign(mv_adj=crsp.mv / crsp.cpi_adjust)\n",
    "crsp = crsp.set_index('date')\n",
    "crsp = crsp[['permno', 'mv', 'mv_adj', 'ret_p1', 'retx_p1']]"
   ]
  },
  {
   "cell_type": "code",
   "execution_count": 6,
   "metadata": {},
   "outputs": [
    {
     "data": {
      "text/html": [
       "<div>\n",
       "<style scoped>\n",
       "    .dataframe tbody tr th:only-of-type {\n",
       "        vertical-align: middle;\n",
       "    }\n",
       "\n",
       "    .dataframe tbody tr th {\n",
       "        vertical-align: top;\n",
       "    }\n",
       "\n",
       "    .dataframe thead th {\n",
       "        text-align: right;\n",
       "    }\n",
       "</style>\n",
       "<table border=\"1\" class=\"dataframe\">\n",
       "  <thead>\n",
       "    <tr style=\"text-align: right;\">\n",
       "      <th></th>\n",
       "      <th>permno</th>\n",
       "      <th>mv</th>\n",
       "      <th>mv_adj</th>\n",
       "      <th>ret_p1</th>\n",
       "      <th>retx_p1</th>\n",
       "    </tr>\n",
       "    <tr>\n",
       "      <th>date</th>\n",
       "      <th></th>\n",
       "      <th></th>\n",
       "      <th></th>\n",
       "      <th></th>\n",
       "      <th></th>\n",
       "    </tr>\n",
       "  </thead>\n",
       "  <tbody>\n",
       "    <tr>\n",
       "      <th>1973-01-31</th>\n",
       "      <td>14403</td>\n",
       "      <td>595448.000</td>\n",
       "      <td>2.958749e+06</td>\n",
       "      <td>1.179348</td>\n",
       "      <td>1.179348</td>\n",
       "    </tr>\n",
       "    <tr>\n",
       "      <th>1973-01-31</th>\n",
       "      <td>63845</td>\n",
       "      <td>106005.375</td>\n",
       "      <td>5.267350e+05</td>\n",
       "      <td>0.724138</td>\n",
       "      <td>0.724138</td>\n",
       "    </tr>\n",
       "    <tr>\n",
       "      <th>1973-01-31</th>\n",
       "      <td>15580</td>\n",
       "      <td>4425.000</td>\n",
       "      <td>2.198759e+04</td>\n",
       "      <td>1.043478</td>\n",
       "      <td>1.043478</td>\n",
       "    </tr>\n",
       "    <tr>\n",
       "      <th>1973-01-31</th>\n",
       "      <td>28820</td>\n",
       "      <td>6768.750</td>\n",
       "      <td>3.363355e+04</td>\n",
       "      <td>1.187500</td>\n",
       "      <td>1.187500</td>\n",
       "    </tr>\n",
       "    <tr>\n",
       "      <th>1973-01-31</th>\n",
       "      <td>11253</td>\n",
       "      <td>3038.000</td>\n",
       "      <td>1.509566e+04</td>\n",
       "      <td>0.942308</td>\n",
       "      <td>0.942308</td>\n",
       "    </tr>\n",
       "  </tbody>\n",
       "</table>\n",
       "</div>"
      ],
      "text/plain": [
       "            permno          mv        mv_adj    ret_p1   retx_p1\n",
       "date                                                            \n",
       "1973-01-31   14403  595448.000  2.958749e+06  1.179348  1.179348\n",
       "1973-01-31   63845  106005.375  5.267350e+05  0.724138  0.724138\n",
       "1973-01-31   15580    4425.000  2.198759e+04  1.043478  1.043478\n",
       "1973-01-31   28820    6768.750  3.363355e+04  1.187500  1.187500\n",
       "1973-01-31   11253    3038.000  1.509566e+04  0.942308  0.942308"
      ]
     },
     "execution_count": 6,
     "metadata": {},
     "output_type": "execute_result"
    }
   ],
   "source": [
    "crsp.head()"
   ]
  },
  {
   "cell_type": "code",
   "execution_count": 20,
   "metadata": {},
   "outputs": [],
   "source": [
    "def calendar_resample(df):\n",
    "    res = df.resample('Y').apply({'ret_p1':'cumprod', 'retx_p1':'cumprod'})\n",
    "    res = pd.concat([df.mv, df.mv_adj, res], axis=1)\n",
    "    res = res.resample('Y').last()\n",
    "    \n",
    "#     ret_p1 = df.ret_p1.cumprod().iloc[-1]\n",
    "#     retx_p1 = df.retx_p1.cumprod().iloc[-1]\n",
    "#     mv = df.mv.resample('Y').last().iloc[-1]\n",
    "#     mv_adj = df.mv_adj.resample('Y').last().iloc[-1]\n",
    "#     res = pd.DataFrame({'ret_p1':ret_p1, 'retx_p1':retx_p1,\n",
    "#                         'mv':mv, 'mv_adj':mv_adj}, index=[df.index[-1]])\n",
    "    return res"
   ]
  },
  {
   "cell_type": "code",
   "execution_count": 23,
   "metadata": {
    "scrolled": true
   },
   "outputs": [],
   "source": [
    "crsp_ca = crsp.groupby('permno').apply(calendar_resample)"
   ]
  },
  {
   "cell_type": "code",
   "execution_count": 24,
   "metadata": {},
   "outputs": [
    {
     "data": {
      "text/html": [
       "<div>\n",
       "<style scoped>\n",
       "    .dataframe tbody tr th:only-of-type {\n",
       "        vertical-align: middle;\n",
       "    }\n",
       "\n",
       "    .dataframe tbody tr th {\n",
       "        vertical-align: top;\n",
       "    }\n",
       "\n",
       "    .dataframe thead th {\n",
       "        text-align: right;\n",
       "    }\n",
       "</style>\n",
       "<table border=\"1\" class=\"dataframe\">\n",
       "  <thead>\n",
       "    <tr style=\"text-align: right;\">\n",
       "      <th></th>\n",
       "      <th></th>\n",
       "      <th>mv</th>\n",
       "      <th>mv_adj</th>\n",
       "      <th>ret_p1</th>\n",
       "      <th>retx_p1</th>\n",
       "    </tr>\n",
       "    <tr>\n",
       "      <th>permno</th>\n",
       "      <th>date</th>\n",
       "      <th></th>\n",
       "      <th></th>\n",
       "      <th></th>\n",
       "      <th></th>\n",
       "    </tr>\n",
       "  </thead>\n",
       "  <tbody>\n",
       "    <tr>\n",
       "      <th rowspan=\"3\" valign=\"top\">10000</th>\n",
       "      <th>1985-12-31</th>\n",
       "      <td>NaN</td>\n",
       "      <td>NaN</td>\n",
       "      <td>1.000000</td>\n",
       "      <td>1.000000</td>\n",
       "    </tr>\n",
       "    <tr>\n",
       "      <th>1986-12-31</th>\n",
       "      <td>1981.56609</td>\n",
       "      <td>3780.677873</td>\n",
       "      <td>0.117857</td>\n",
       "      <td>0.117857</td>\n",
       "    </tr>\n",
       "    <tr>\n",
       "      <th>1987-12-31</th>\n",
       "      <td>851.59375</td>\n",
       "      <td>1621.856529</td>\n",
       "      <td>0.424243</td>\n",
       "      <td>0.424243</td>\n",
       "    </tr>\n",
       "    <tr>\n",
       "      <th rowspan=\"2\" valign=\"top\">10001</th>\n",
       "      <th>1985-12-31</th>\n",
       "      <td>NaN</td>\n",
       "      <td>NaN</td>\n",
       "      <td>1.000000</td>\n",
       "      <td>1.000000</td>\n",
       "    </tr>\n",
       "    <tr>\n",
       "      <th>1986-12-31</th>\n",
       "      <td>6937.00000</td>\n",
       "      <td>13235.270090</td>\n",
       "      <td>1.217369</td>\n",
       "      <td>1.142857</td>\n",
       "    </tr>\n",
       "  </tbody>\n",
       "</table>\n",
       "</div>"
      ],
      "text/plain": [
       "                           mv        mv_adj    ret_p1   retx_p1\n",
       "permno date                                                    \n",
       "10000  1985-12-31         NaN           NaN  1.000000  1.000000\n",
       "       1986-12-31  1981.56609   3780.677873  0.117857  0.117857\n",
       "       1987-12-31   851.59375   1621.856529  0.424243  0.424243\n",
       "10001  1985-12-31         NaN           NaN  1.000000  1.000000\n",
       "       1986-12-31  6937.00000  13235.270090  1.217369  1.142857"
      ]
     },
     "execution_count": 24,
     "metadata": {},
     "output_type": "execute_result"
    }
   ],
   "source": [
    "crsp_ca.head()"
   ]
  },
  {
   "cell_type": "code",
   "execution_count": 25,
   "metadata": {},
   "outputs": [],
   "source": [
    "crsp_ca = crsp_ca.reset_index()"
   ]
  },
  {
   "cell_type": "code",
   "execution_count": 75,
   "metadata": {},
   "outputs": [
    {
     "data": {
      "text/plain": [
       "(259645, 6)"
      ]
     },
     "execution_count": 75,
     "metadata": {},
     "output_type": "execute_result"
    }
   ],
   "source": [
    "crsp_ca1 = crsp_ca.dropna()\n",
    "crsp_ca1 = crsp_ca1[crsp_ca1.mv_adj>=50]\n",
    "crsp_ca1.shape"
   ]
  },
  {
   "cell_type": "code",
   "execution_count": 28,
   "metadata": {
    "scrolled": true
   },
   "outputs": [],
   "source": [
    "def fiscal_resample(df, fys, per):\n",
    "#     res = df.apply({'ret_p1':'cumprod', 'retx_p1':'cumprod'})\n",
    "    ret_p1 = df.ret_p1.cumprod().iloc[-1]\n",
    "    retx_p1 = df.retx_p1.cumprod().iloc[-1]\n",
    "#     ret_p1_adj = df.ret_p1_adj.cumprod().iloc[-1]\n",
    "#     res = pd.concat([res, df.mv], axis=1).resample(fys).last()\n",
    "    mv = df.mv.resample(fys).last().iloc[-1]\n",
    "    mv_adj = df.mv_adj.resample(fys).last().iloc[-1]\n",
    "#     res.index = res.index.droplevel(0)\n",
    "    res = pd.DataFrame({'ret_p1':ret_p1, 'retx_p1':retx_p1,\n",
    "                        'mv':mv, 'mv_adj':mv_adj}, index=[per])\n",
    "    return res\n",
    "    \n",
    "# def fiscal_resample(df, fys, per):\n",
    "#     res = df.apply({'ret_p1':'cumprod', 'retx_p1':'cumprod'})\n",
    "#     res = pd.concat([res, df.mv], axis=1).resample(fys).last()\n",
    "# #     res = pd.DataFrame({'ret_p1':res.ret_p1, 'retx_p1':res.retx_p1, 'mv':res.mv}, \n",
    "# #                        index=[per])\n",
    "#     return res"
   ]
  },
  {
   "cell_type": "code",
   "execution_count": 35,
   "metadata": {},
   "outputs": [
    {
     "data": {
      "application/vnd.jupyter.widget-view+json": {
       "model_id": "5db467b455974ae89e43aedcd8bbe7a4",
       "version_major": 2,
       "version_minor": 0
      },
      "text/plain": [
       "HBox(children=(IntProgress(value=0, max=18), HTML(value='')))"
      ]
     },
     "metadata": {},
     "output_type": "display_data"
    },
    {
     "name": "stdout",
     "output_type": "stream",
     "text": [
      "\n",
      "0.5177818\n"
     ]
    }
   ],
   "source": [
    "tic = time.perf_counter()\n",
    "# code_list = comp1.gvkey.unique().tolist()[:30]\n",
    "# test_comp = comp1.set_index('gvkey').loc[code_list].reset_index()\n",
    "# g = test_comp.groupby(['permno', 'fyear'])\n",
    "# g = comp1.groupby(['permno', 'fyear'])\n",
    "\n",
    "g = comp1[comp1.gvkey==25056].groupby(['permno', 'fyear'])\n",
    "\n",
    "df_list = []\n",
    "    \n",
    "for name, group in tqdm_notebook(g):\n",
    "#     crsp[crsp.permno == name][]\n",
    "#     print(name)\n",
    "#     g.apply(fiscal_resample)\n",
    "#     print(group.fysm.iloc[0], group.datadate.iloc[0])\n",
    "    start = group.fysm.iloc[0].strftime('%Y-%m-%d')\n",
    "    end = group.datadate.iloc[0].strftime('%Y-%m-%d')\n",
    "    fystring = group.fystr.iloc[0]\n",
    "    sample = crsp[crsp.permno==name[0]][start:end]\n",
    "    if len(sample) > 0:\n",
    "#         print(sample.resample(fystring).mean())\n",
    "        r = sample.resample(fystring)\n",
    "        df_list.append(r.apply(fiscal_resample, fys=fystring, per=name[0]))\n",
    "\n",
    "df_test = pd.concat(df_list, axis=0)\n",
    "df_test.index.names = ['date', 'permno']\n",
    "# crsp1 = pd.concat(df_list, axis=0)\n",
    "# crsp1.index.names = ['date', 'permno']\n",
    "# df_test\n",
    "toc= time.perf_counter()\n",
    "print(toc - tic)"
   ]
  },
  {
   "cell_type": "code",
   "execution_count": 36,
   "metadata": {},
   "outputs": [
    {
     "data": {
      "text/html": [
       "<div>\n",
       "<style scoped>\n",
       "    .dataframe tbody tr th:only-of-type {\n",
       "        vertical-align: middle;\n",
       "    }\n",
       "\n",
       "    .dataframe tbody tr th {\n",
       "        vertical-align: top;\n",
       "    }\n",
       "\n",
       "    .dataframe thead th {\n",
       "        text-align: right;\n",
       "    }\n",
       "</style>\n",
       "<table border=\"1\" class=\"dataframe\">\n",
       "  <thead>\n",
       "    <tr style=\"text-align: right;\">\n",
       "      <th></th>\n",
       "      <th></th>\n",
       "      <th>ret_p1</th>\n",
       "      <th>retx_p1</th>\n",
       "      <th>mv</th>\n",
       "      <th>mv_adj</th>\n",
       "    </tr>\n",
       "    <tr>\n",
       "      <th>date</th>\n",
       "      <th>permno</th>\n",
       "      <th></th>\n",
       "      <th></th>\n",
       "      <th></th>\n",
       "      <th></th>\n",
       "    </tr>\n",
       "  </thead>\n",
       "  <tbody>\n",
       "    <tr>\n",
       "      <th>1992-06-30</th>\n",
       "      <th>77418</th>\n",
       "      <td>0.885246</td>\n",
       "      <td>0.885246</td>\n",
       "      <td>73993.5</td>\n",
       "      <td>1.148526e+05</td>\n",
       "    </tr>\n",
       "    <tr>\n",
       "      <th>1993-06-30</th>\n",
       "      <th>77418</th>\n",
       "      <td>2.741783</td>\n",
       "      <td>2.740738</td>\n",
       "      <td>218004.0</td>\n",
       "      <td>3.285364e+05</td>\n",
       "    </tr>\n",
       "    <tr>\n",
       "      <th>1994-06-30</th>\n",
       "      <th>77418</th>\n",
       "      <td>1.540542</td>\n",
       "      <td>1.540542</td>\n",
       "      <td>412965.0</td>\n",
       "      <td>6.071982e+05</td>\n",
       "    </tr>\n",
       "    <tr>\n",
       "      <th>1995-06-30</th>\n",
       "      <th>77418</th>\n",
       "      <td>3.087717</td>\n",
       "      <td>3.087717</td>\n",
       "      <td>1652420.0</td>\n",
       "      <td>2.357875e+06</td>\n",
       "    </tr>\n",
       "    <tr>\n",
       "      <th>1996-06-30</th>\n",
       "      <th>77418</th>\n",
       "      <td>1.988631</td>\n",
       "      <td>1.988631</td>\n",
       "      <td>3935137.5</td>\n",
       "      <td>5.461052e+06</td>\n",
       "    </tr>\n",
       "  </tbody>\n",
       "</table>\n",
       "</div>"
      ],
      "text/plain": [
       "                     ret_p1   retx_p1         mv        mv_adj\n",
       "date       permno                                             \n",
       "1992-06-30 77418   0.885246  0.885246    73993.5  1.148526e+05\n",
       "1993-06-30 77418   2.741783  2.740738   218004.0  3.285364e+05\n",
       "1994-06-30 77418   1.540542  1.540542   412965.0  6.071982e+05\n",
       "1995-06-30 77418   3.087717  3.087717  1652420.0  2.357875e+06\n",
       "1996-06-30 77418   1.988631  1.988631  3935137.5  5.461052e+06"
      ]
     },
     "execution_count": 36,
     "metadata": {},
     "output_type": "execute_result"
    }
   ],
   "source": [
    "df_test.head()"
   ]
  },
  {
   "cell_type": "code",
   "execution_count": 13,
   "metadata": {},
   "outputs": [
    {
     "data": {
      "application/vnd.jupyter.widget-view+json": {
       "model_id": "c705d76cecaf493a98f139e8609ed725",
       "version_major": 2,
       "version_minor": 0
      },
      "text/plain": [
       "HBox(children=(IntProgress(value=0, max=300526), HTML(value='')))"
      ]
     },
     "metadata": {},
     "output_type": "display_data"
    },
    {
     "name": "stdout",
     "output_type": "stream",
     "text": [
      "\n",
      "5696.7107923\n"
     ]
    }
   ],
   "source": [
    "tic = time.perf_counter()\n",
    "# code_list = comp1.gvkey.unique().tolist()[:30]\n",
    "# test_comp = comp1.set_index('gvkey').loc[code_list].reset_index()\n",
    "# g = test_comp.groupby(['permno', 'fyear'])\n",
    "g = comp1.groupby(['permno', 'fyear'])\n",
    "\n",
    "# g = comp1[comp1.gvkey==25056].groupby(['permno', 'fyear'])\n",
    "\n",
    "df_list = []\n",
    "    \n",
    "for name, group in tqdm_notebook(g):\n",
    "#     crsp[crsp.permno == name][]\n",
    "#     print(name)\n",
    "#     g.apply(fiscal_resample)\n",
    "#     print(group.fysm.iloc[0], group.datadate.iloc[0])\n",
    "    start = group.fysm.iloc[0].strftime('%Y-%m-%d')\n",
    "    end = group.datadate.iloc[0].strftime('%Y-%m-%d')\n",
    "    fystring = group.fystr.iloc[0]\n",
    "    sample = crsp[crsp.permno==name[0]][start:end]\n",
    "    if len(sample) > 0:\n",
    "#         print(sample.resample(fystring).mean())\n",
    "        r = sample.resample(fystring)\n",
    "        df_list.append(r.apply(fiscal_resample, fys=fystring, per=name[0]))\n",
    "\n",
    "# df_test = pd.concat(df_list, axis=0)\n",
    "# df_test.index.names = ['date', 'permno']\n",
    "crsp1 = pd.concat(df_list, axis=0)\n",
    "crsp1.index.names = ['date', 'permno']\n",
    "# df_test\n",
    "crsp1.to_csv('data/crsp_fa.csv')\n",
    "toc= time.perf_counter()\n",
    "print(toc - tic)"
   ]
  },
  {
   "cell_type": "code",
   "execution_count": 42,
   "metadata": {},
   "outputs": [],
   "source": [
    "crsp_fa = pd.read_csv('data/crsp_fa.csv', \n",
    "                    parse_dates=['date'], infer_datetime_format=True)"
   ]
  },
  {
   "cell_type": "code",
   "execution_count": 43,
   "metadata": {},
   "outputs": [],
   "source": [
    "def exf_calc(df):\n",
    "    exf = df.mv - df.mv.shift(1) * df.retx_p1\n",
    "    return pd.DataFrame({'date':df.date, 'permno':df.permno, \n",
    "                         'ret_p1':df.ret_p1,\n",
    "                         'retx_p1':df.retx_p1, 'ret_p1_adj':df.ret_p1_adj,\n",
    "                         'mv':df.mv, 'exf':exf})"
   ]
  },
  {
   "cell_type": "code",
   "execution_count": 69,
   "metadata": {},
   "outputs": [
    {
     "data": {
      "text/plain": [
       "(20, 6)"
      ]
     },
     "execution_count": 69,
     "metadata": {},
     "output_type": "execute_result"
    }
   ],
   "source": [
    "crsp_fa[crsp_fa.mv <= 50].shape"
   ]
  },
  {
   "cell_type": "code",
   "execution_count": 53,
   "metadata": {},
   "outputs": [],
   "source": [
    "crsp_fa1 = pd.merge(crsp_fa, cpi[['date', 'cpi_adjust']], on=['date'])"
   ]
  },
  {
   "cell_type": "code",
   "execution_count": 55,
   "metadata": {},
   "outputs": [],
   "source": [
    "crsp_fa1 = crsp_fa1.assign(mv_adj = crsp_fa1.mv / crsp_fa1.cpi_adjust)"
   ]
  },
  {
   "cell_type": "code",
   "execution_count": 61,
   "metadata": {},
   "outputs": [
    {
     "data": {
      "text/plain": [
       "(230330, 8)"
      ]
     },
     "execution_count": 61,
     "metadata": {},
     "output_type": "execute_result"
    }
   ],
   "source": [
    "crsp_fa1.shape"
   ]
  },
  {
   "cell_type": "code",
   "execution_count": 78,
   "metadata": {},
   "outputs": [
    {
     "data": {
      "text/plain": [
       "(20, 8)"
      ]
     },
     "execution_count": 78,
     "metadata": {},
     "output_type": "execute_result"
    }
   ],
   "source": [
    "crsp_fa1[crsp_fa1.mv <= 50].shape"
   ]
  },
  {
   "cell_type": "code",
   "execution_count": 14,
   "metadata": {},
   "outputs": [],
   "source": [
    "crsp1 = crsp_a.groupby('permno').apply(exf_calc)"
   ]
  },
  {
   "cell_type": "code",
   "execution_count": 17,
   "metadata": {
    "collapsed": true
   },
   "outputs": [
    {
     "data": {
      "text/html": [
       "<div>\n",
       "<style scoped>\n",
       "    .dataframe tbody tr th:only-of-type {\n",
       "        vertical-align: middle;\n",
       "    }\n",
       "\n",
       "    .dataframe tbody tr th {\n",
       "        vertical-align: top;\n",
       "    }\n",
       "\n",
       "    .dataframe thead th {\n",
       "        text-align: right;\n",
       "    }\n",
       "</style>\n",
       "<table border=\"1\" class=\"dataframe\">\n",
       "  <thead>\n",
       "    <tr style=\"text-align: right;\">\n",
       "      <th></th>\n",
       "      <th>permno</th>\n",
       "      <th>ret_p1</th>\n",
       "      <th>retx_p1</th>\n",
       "      <th>ret_p1_adj</th>\n",
       "      <th>mv</th>\n",
       "      <th>exf</th>\n",
       "    </tr>\n",
       "    <tr>\n",
       "      <th>date</th>\n",
       "      <th></th>\n",
       "      <th></th>\n",
       "      <th></th>\n",
       "      <th></th>\n",
       "      <th></th>\n",
       "      <th></th>\n",
       "    </tr>\n",
       "  </thead>\n",
       "  <tbody>\n",
       "    <tr>\n",
       "      <th>1992-06-30</th>\n",
       "      <td>77418</td>\n",
       "      <td>0.885246</td>\n",
       "      <td>0.885246</td>\n",
       "      <td>0.931344</td>\n",
       "      <td>7.399350e+04</td>\n",
       "      <td>NaN</td>\n",
       "    </tr>\n",
       "    <tr>\n",
       "      <th>1993-06-30</th>\n",
       "      <td>77418</td>\n",
       "      <td>2.741783</td>\n",
       "      <td>2.740738</td>\n",
       "      <td>2.023185</td>\n",
       "      <td>2.180040e+05</td>\n",
       "      <td>1.520721e+04</td>\n",
       "    </tr>\n",
       "    <tr>\n",
       "      <th>1994-06-30</th>\n",
       "      <td>77418</td>\n",
       "      <td>1.540542</td>\n",
       "      <td>1.540542</td>\n",
       "      <td>1.367059</td>\n",
       "      <td>4.129650e+05</td>\n",
       "      <td>7.712078e+04</td>\n",
       "    </tr>\n",
       "    <tr>\n",
       "      <th>1995-06-30</th>\n",
       "      <td>77418</td>\n",
       "      <td>3.087717</td>\n",
       "      <td>3.087717</td>\n",
       "      <td>2.310243</td>\n",
       "      <td>1.652420e+06</td>\n",
       "      <td>3.773010e+05</td>\n",
       "    </tr>\n",
       "    <tr>\n",
       "      <th>1996-06-30</th>\n",
       "      <td>77418</td>\n",
       "      <td>1.988631</td>\n",
       "      <td>1.988631</td>\n",
       "      <td>1.671622</td>\n",
       "      <td>3.935138e+06</td>\n",
       "      <td>6.490840e+05</td>\n",
       "    </tr>\n",
       "    <tr>\n",
       "      <th>1997-06-30</th>\n",
       "      <td>77418</td>\n",
       "      <td>1.271430</td>\n",
       "      <td>1.271430</td>\n",
       "      <td>1.254700</td>\n",
       "      <td>5.443073e+06</td>\n",
       "      <td>4.398232e+05</td>\n",
       "    </tr>\n",
       "    <tr>\n",
       "      <th>1998-06-30</th>\n",
       "      <td>77418</td>\n",
       "      <td>3.823007</td>\n",
       "      <td>3.822978</td>\n",
       "      <td>2.808580</td>\n",
       "      <td>2.272824e+07</td>\n",
       "      <td>1.919487e+06</td>\n",
       "    </tr>\n",
       "    <tr>\n",
       "      <th>1999-06-30</th>\n",
       "      <td>77418</td>\n",
       "      <td>4.185493</td>\n",
       "      <td>4.185493</td>\n",
       "      <td>3.286097</td>\n",
       "      <td>1.195158e+08</td>\n",
       "      <td>2.438690e+07</td>\n",
       "    </tr>\n",
       "    <tr>\n",
       "      <th>2000-06-30</th>\n",
       "      <td>77418</td>\n",
       "      <td>0.957955</td>\n",
       "      <td>0.957955</td>\n",
       "      <td>0.982503</td>\n",
       "      <td>1.216507e+08</td>\n",
       "      <td>7.159994e+06</td>\n",
       "    </tr>\n",
       "    <tr>\n",
       "      <th>2001-12-31</th>\n",
       "      <td>77418</td>\n",
       "      <td>0.922413</td>\n",
       "      <td>0.922413</td>\n",
       "      <td>0.966305</td>\n",
       "      <td>1.365999e+08</td>\n",
       "      <td>2.438766e+07</td>\n",
       "    </tr>\n",
       "    <tr>\n",
       "      <th>2002-12-31</th>\n",
       "      <td>77418</td>\n",
       "      <td>0.408099</td>\n",
       "      <td>0.408099</td>\n",
       "      <td>0.484680</td>\n",
       "      <td>5.631639e+07</td>\n",
       "      <td>5.700648e+05</td>\n",
       "    </tr>\n",
       "    <tr>\n",
       "      <th>2003-12-31</th>\n",
       "      <td>77418</td>\n",
       "      <td>1.373283</td>\n",
       "      <td>1.373283</td>\n",
       "      <td>1.322301</td>\n",
       "      <td>7.826657e+07</td>\n",
       "      <td>9.282606e+05</td>\n",
       "    </tr>\n",
       "    <tr>\n",
       "      <th>2004-12-31</th>\n",
       "      <td>77418</td>\n",
       "      <td>1.081156</td>\n",
       "      <td>1.081156</td>\n",
       "      <td>1.077219</td>\n",
       "      <td>8.575871e+07</td>\n",
       "      <td>1.140300e+06</td>\n",
       "    </tr>\n",
       "    <tr>\n",
       "      <th>2005-12-31</th>\n",
       "      <td>77418</td>\n",
       "      <td>0.901661</td>\n",
       "      <td>0.896659</td>\n",
       "      <td>0.910316</td>\n",
       "      <td>7.979437e+07</td>\n",
       "      <td>2.898036e+06</td>\n",
       "    </tr>\n",
       "    <tr>\n",
       "      <th>2006-12-31</th>\n",
       "      <td>77418</td>\n",
       "      <td>1.263697</td>\n",
       "      <td>1.248854</td>\n",
       "      <td>1.247328</td>\n",
       "      <td>8.652264e+07</td>\n",
       "      <td>-1.312886e+07</td>\n",
       "    </tr>\n",
       "    <tr>\n",
       "      <th>2007-12-31</th>\n",
       "      <td>77418</td>\n",
       "      <td>0.767318</td>\n",
       "      <td>0.758034</td>\n",
       "      <td>0.774466</td>\n",
       "      <td>5.967698e+07</td>\n",
       "      <td>-5.910087e+06</td>\n",
       "    </tr>\n",
       "    <tr>\n",
       "      <th>2008-12-31</th>\n",
       "      <td>77418</td>\n",
       "      <td>0.620778</td>\n",
       "      <td>0.609328</td>\n",
       "      <td>0.620778</td>\n",
       "      <td>3.608984e+07</td>\n",
       "      <td>-2.730212e+05</td>\n",
       "    </tr>\n",
       "  </tbody>\n",
       "</table>\n",
       "</div>"
      ],
      "text/plain": [
       "            permno    ret_p1   retx_p1  ret_p1_adj            mv           exf\n",
       "date                                                                          \n",
       "1992-06-30   77418  0.885246  0.885246    0.931344  7.399350e+04           NaN\n",
       "1993-06-30   77418  2.741783  2.740738    2.023185  2.180040e+05  1.520721e+04\n",
       "1994-06-30   77418  1.540542  1.540542    1.367059  4.129650e+05  7.712078e+04\n",
       "1995-06-30   77418  3.087717  3.087717    2.310243  1.652420e+06  3.773010e+05\n",
       "1996-06-30   77418  1.988631  1.988631    1.671622  3.935138e+06  6.490840e+05\n",
       "1997-06-30   77418  1.271430  1.271430    1.254700  5.443073e+06  4.398232e+05\n",
       "1998-06-30   77418  3.823007  3.822978    2.808580  2.272824e+07  1.919487e+06\n",
       "1999-06-30   77418  4.185493  4.185493    3.286097  1.195158e+08  2.438690e+07\n",
       "2000-06-30   77418  0.957955  0.957955    0.982503  1.216507e+08  7.159994e+06\n",
       "2001-12-31   77418  0.922413  0.922413    0.966305  1.365999e+08  2.438766e+07\n",
       "2002-12-31   77418  0.408099  0.408099    0.484680  5.631639e+07  5.700648e+05\n",
       "2003-12-31   77418  1.373283  1.373283    1.322301  7.826657e+07  9.282606e+05\n",
       "2004-12-31   77418  1.081156  1.081156    1.077219  8.575871e+07  1.140300e+06\n",
       "2005-12-31   77418  0.901661  0.896659    0.910316  7.979437e+07  2.898036e+06\n",
       "2006-12-31   77418  1.263697  1.248854    1.247328  8.652264e+07 -1.312886e+07\n",
       "2007-12-31   77418  0.767318  0.758034    0.774466  5.967698e+07 -5.910087e+06\n",
       "2008-12-31   77418  0.620778  0.609328    0.620778  3.608984e+07 -2.730212e+05"
      ]
     },
     "execution_count": 17,
     "metadata": {},
     "output_type": "execute_result"
    }
   ],
   "source": [
    "crsp1.query('permno == 77418').set_index('date')"
   ]
  },
  {
   "cell_type": "code",
   "execution_count": null,
   "metadata": {},
   "outputs": [],
   "source": []
  },
  {
   "cell_type": "code",
   "execution_count": null,
   "metadata": {},
   "outputs": [],
   "source": [
    "# 先实验少量的sample, 看需要多少时间，然后再估算整体要的时间\n",
    "3e+5 * 0.001 / 60"
   ]
  },
  {
   "cell_type": "code",
   "execution_count": null,
   "metadata": {},
   "outputs": [],
   "source": [
    "comp1.index.drop()"
   ]
  },
  {
   "cell_type": "code",
   "execution_count": null,
   "metadata": {},
   "outputs": [],
   "source": []
  },
  {
   "cell_type": "code",
   "execution_count": null,
   "metadata": {},
   "outputs": [],
   "source": []
  },
  {
   "cell_type": "code",
   "execution_count": null,
   "metadata": {},
   "outputs": [],
   "source": []
  },
  {
   "cell_type": "markdown",
   "metadata": {},
   "source": [
    "'gvkey', \n",
    "'datadate', \n",
    "'fyear', \n",
    "'indfmt', \n",
    "'consol', \n",
    "'popsrc', \n",
    "'datafmt',\n",
    "'tic', \n",
    "'cusip', \n",
    "'conm', \n",
    "'curcd', \n",
    "'fyr', Fiscal Yearend Month of Data\n",
    "'bkvlps', \n",
    "'dlto', \n",
    "'dltt',\n",
    "'ebit', \n",
    "'ib', \n",
    "'pstk', \n",
    "'revt', \n",
    "'xrd', \n",
    "'costat', \n",
    "'cshtr_f', \n",
    "'fyrc' Fiscal Year-end Month - Current"
   ]
  },
  {
   "cell_type": "code",
   "execution_count": 7,
   "metadata": {},
   "outputs": [
    {
     "data": {
      "text/plain": [
       "Index(['gvkey', 'datadate', 'fyear', 'indfmt', 'consol', 'popsrc', 'datafmt',\n",
       "       'tic', 'cusip', 'conm', 'curcd', 'fyr', 'bkvlps', 'dlto', 'dltt',\n",
       "       'ebit', 'ib', 'pstk', 'revt', 'xrd', 'costat', 'cshtr_f', 'fyrc'],\n",
       "      dtype='object')"
      ]
     },
     "execution_count": 7,
     "metadata": {},
     "output_type": "execute_result"
    }
   ],
   "source": [
    "comp.columns"
   ]
  },
  {
   "cell_type": "code",
   "execution_count": 12,
   "metadata": {},
   "outputs": [],
   "source": [
    "comp.to_csv('data/fundamental_final_1.1.csv', index=False)"
   ]
  },
  {
   "cell_type": "code",
   "execution_count": 40,
   "metadata": {},
   "outputs": [],
   "source": [
    "comp_mon = pd.read_csv('data/fundamental.zip', \n",
    "                   parse_dates=['datadate'], infer_datetime_format=True)\n",
    "comp_mon = comp_mon.drop(['indfmt', 'consol', 'popsrc', 'datafmt'], axis=1)\n",
    "comp_mon = comp_mon.reset_index().drop('index', axis=1)"
   ]
  },
  {
   "cell_type": "code",
   "execution_count": 46,
   "metadata": {
    "scrolled": true
   },
   "outputs": [],
   "source": [
    "def retrieve_year_end_month(df):\n",
    "    res = (df[df.fqtr == 1].datadate + MonthEnd(9)).\\\n",
    "        apply(lambda x : 'A-' + x.strftime('%b'))\n",
    "    return pd.DataFrame({'fsm':res})"
   ]
  },
  {
   "cell_type": "code",
   "execution_count": 41,
   "metadata": {},
   "outputs": [],
   "source": [
    "data_ANTQ = comp_mon[(comp_mon.gvkey==1003)]\n",
    "data_ANTQ_fsm = data_ANTQ.groupby(['gvkey', 'fyearq']).apply(retrieve_year_end_month)\n",
    "pd.merge(data_ANTQ, data_ANTQ_fsm, on=['gvkey', 'fyearq']).shape"
   ]
  },
  {
   "cell_type": "code",
   "execution_count": 55,
   "metadata": {},
   "outputs": [],
   "source": [
    "sample = comp_mon[(comp_mon.gvkey==1003) | (comp_mon.gvkey==1001)]\n",
    "sample_fsm = sample.groupby(['gvkey', 'fyearq']).apply(retrieve_year_end_month)\n",
    "pd.merge(sample, sample_fsm, on=['gvkey', 'fyearq']).shape"
   ]
  },
  {
   "cell_type": "code",
   "execution_count": 61,
   "metadata": {},
   "outputs": [
    {
     "name": "stdout",
     "output_type": "stream",
     "text": [
      "649.5835717\n"
     ]
    }
   ],
   "source": [
    "tic = time.perf_counter()\n",
    "comp_mon_fsm = comp_mon.groupby(['gvkey', 'fyearq']).apply(retrieve_year_end_month)\n",
    "toc= time.perf_counter()\n",
    "print(toc - tic)"
   ]
  },
  {
   "cell_type": "markdown",
   "metadata": {},
   "source": [
    "下一步就是根据year end month去做resample\n",
    "\n",
    "http://pandas.pydata.org/pandas-docs/stable/user_guide/timeseries.html"
   ]
  },
  {
   "cell_type": "code",
   "execution_count": 10,
   "metadata": {},
   "outputs": [],
   "source": [
    "p = pd.Period('2011', freq='A-DEC')"
   ]
  },
  {
   "cell_type": "code",
   "execution_count": 11,
   "metadata": {},
   "outputs": [
    {
     "data": {
      "text/plain": [
       "Period('2011', 'A-DEC')"
      ]
     },
     "execution_count": 11,
     "metadata": {},
     "output_type": "execute_result"
    }
   ],
   "source": [
    "p"
   ]
  },
  {
   "cell_type": "code",
   "execution_count": 12,
   "metadata": {},
   "outputs": [
    {
     "data": {
      "text/plain": [
       "Period('2011-01', 'M')"
      ]
     },
     "execution_count": 12,
     "metadata": {},
     "output_type": "execute_result"
    }
   ],
   "source": [
    "p.asfreq('M', how='start')"
   ]
  },
  {
   "cell_type": "code",
   "execution_count": null,
   "metadata": {},
   "outputs": [],
   "source": []
  }
 ],
 "metadata": {
  "kernelspec": {
   "display_name": "Python (quant)",
   "language": "python",
   "name": "quant"
  },
  "language_info": {
   "codemirror_mode": {
    "name": "ipython",
    "version": 3
   },
   "file_extension": ".py",
   "mimetype": "text/x-python",
   "name": "python",
   "nbconvert_exporter": "python",
   "pygments_lexer": "ipython3",
   "version": "3.6.6"
  },
  "toc": {
   "base_numbering": 1,
   "nav_menu": {},
   "number_sections": true,
   "sideBar": true,
   "skip_h1_title": false,
   "title_cell": "Table of Contents",
   "title_sidebar": "Contents",
   "toc_cell": false,
   "toc_position": {},
   "toc_section_display": true,
   "toc_window_display": false
  },
  "varInspector": {
   "cols": {
    "lenName": 16,
    "lenType": 16,
    "lenVar": 40
   },
   "kernels_config": {
    "python": {
     "delete_cmd_postfix": "",
     "delete_cmd_prefix": "del ",
     "library": "var_list.py",
     "varRefreshCmd": "print(var_dic_list())"
    },
    "r": {
     "delete_cmd_postfix": ") ",
     "delete_cmd_prefix": "rm(",
     "library": "var_list.r",
     "varRefreshCmd": "cat(var_dic_list()) "
    }
   },
   "position": {
    "height": "512px",
    "left": "1464px",
    "right": "20px",
    "top": "152px",
    "width": "350px"
   },
   "types_to_exclude": [
    "module",
    "function",
    "builtin_function_or_method",
    "instance",
    "_Feature"
   ],
   "window_display": false
  }
 },
 "nbformat": 4,
 "nbformat_minor": 2
}
