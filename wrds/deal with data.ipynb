{
 "cells": [
  {
   "cell_type": "code",
   "execution_count": 1,
   "metadata": {},
   "outputs": [],
   "source": [
    "%load_ext autoreload\n",
    "%autoreload 2"
   ]
  },
  {
   "cell_type": "code",
   "execution_count": 2,
   "metadata": {},
   "outputs": [],
   "source": [
    "import numpy as np\n",
    "import pandas as pd\n",
    "import matplotlib.pyplot as plt\n",
    "import seaborn as sns\n",
    "import statsmodels.api as sm\n",
    "# import tushare as ts\n",
    "import wrds\n",
    "import talib as ta\n",
    "import datetime, time\n",
    "from dateutil.relativedelta import *\n",
    "from pandas.tseries.offsets import *\n",
    "from tqdm import tqdm_notebook"
   ]
  },
  {
   "cell_type": "code",
   "execution_count": 4,
   "metadata": {},
   "outputs": [],
   "source": [
    "plt.rcParams['figure.figsize'] = [12, 8]\n",
    "plt.rcParams['image.interpolation'] = 'nearest'\n",
    "plt.rcParams['image.cmap'] = 'gray'\n",
    "plt.style.use('ggplot')"
   ]
  },
  {
   "cell_type": "markdown",
   "metadata": {},
   "source": [
    "### deal with crsp return & decile return"
   ]
  },
  {
   "cell_type": "code",
   "execution_count": 5,
   "metadata": {},
   "outputs": [
    {
     "name": "stderr",
     "output_type": "stream",
     "text": [
      "E:\\ProgramData\\Anaconda3\\envs\\quant\\lib\\site-packages\\IPython\\core\\interactiveshell.py:2785: DtypeWarning: Columns (5) have mixed types. Specify dtype option on import or set low_memory=False.\n",
      "  interactivity=interactivity, compiler=compiler, result=result)\n"
     ]
    }
   ],
   "source": [
    "crsp = pd.read_csv('data/return.zip', \n",
    "                   parse_dates=['date'], infer_datetime_format=True)\n",
    "crsp[['PERMNO', 'PERMCO']] = crsp[['PERMNO', 'PERMCO']].astype(int)\n",
    "\n",
    "crsp.RET = crsp.RET.replace(['B', 'C'], [np.nan, np.nan]).astype(np.float64)\n",
    "crsp.RETX = crsp.RETX.replace(['B', 'C'], [np.nan, np.nan]).astype(np.float64)\n",
    "\n",
    "crsp.RET = crsp.RET.fillna(0)\n",
    "crsp.RETX = crsp.RETX.fillna(0)\n",
    "\n",
    "crsp = crsp.drop(['PERMCO', 'CUSIP', 'TICKER', 'COMNAM'], axis=1)\n",
    "crsp.columns = [i.lower() for i in crsp.columns]\n",
    "\n",
    "crsp = crsp.assign(mv = crsp.prc.abs() * crsp.shrout,\n",
    "                         ret_p1 = crsp.ret+1,\n",
    "                         retx_p1 = crsp.retx+1)\n",
    "crsp.date = pd.to_datetime(crsp.date) + MonthEnd(0)"
   ]
  },
  {
   "cell_type": "code",
   "execution_count": 7,
   "metadata": {},
   "outputs": [],
   "source": [
    "# crsp cpi decile return date 统一\n",
    "# crsp = crsp.reset_index()\n",
    "\n",
    "cpi = pd.read_excel('data/CPIAUCSL.xlsx')\n",
    "cpi.date = pd.to_datetime(cpi.date) + MonthEnd(0)\n",
    "crsp = pd.merge(crsp, cpi[['date', 'cpi_adjust']], on=['date'])\n",
    "# crsp = crsp.assign(ret_p1_adj = crsp.ret * crsp.cpi_adjust + 1)\n",
    "crsp = crsp.assign(mv_adj=crsp.mv / crsp.cpi_adjust)\n",
    "# crsp = crsp.set_index('date')\n",
    "crsp = crsp[['date', 'permno', 'mv', 'mv_adj', 'ret_p1', 'retx_p1']]"
   ]
  },
  {
   "cell_type": "code",
   "execution_count": 18,
   "metadata": {},
   "outputs": [],
   "source": [
    "decile_return = pd.read_csv('data/decile_return.zip',\n",
    "                           parse_dates=['date'], infer_datetime_format=True)\n",
    "decile_return.date = pd.to_datetime(decile_return.date) + MonthEnd(0)"
   ]
  },
  {
   "cell_type": "code",
   "execution_count": 17,
   "metadata": {},
   "outputs": [],
   "source": [
    "decile_return.to_csv('data/decile_data.csv', index=False)"
   ]
  },
  {
   "cell_type": "code",
   "execution_count": 28,
   "metadata": {},
   "outputs": [],
   "source": [
    "crsp1 = pd.merge(crsp, decile_return[['date', 'permno', 'decret']], \n",
    "                 on=['date', 'permno'])"
   ]
  },
  {
   "cell_type": "code",
   "execution_count": null,
   "metadata": {},
   "outputs": [],
   "source": [
    "crsp1.decret = crsp1.decret.fillna(0)\n",
    "crsp1 = crsp1.assign(dret_p1 = crsp1.decret + 1)\n",
    "crsp1 = crsp1.drop('decret', axis=1)"
   ]
  },
  {
   "cell_type": "code",
   "execution_count": 32,
   "metadata": {},
   "outputs": [],
   "source": [
    "crsp1.to_csv('data/return_ensembled.csv', index=False)"
   ]
  },
  {
   "cell_type": "markdown",
   "metadata": {},
   "source": [
    "### deal with the comp & ccm link"
   ]
  },
  {
   "cell_type": "code",
   "execution_count": null,
   "metadata": {},
   "outputs": [],
   "source": [
    "comp = pd.read_csv('data/fundamental_final_1.1.zip',\n",
    "                  parse_dates=['datadate'], infer_datetime_format=True)\n",
    "comp.datadate = pd.to_datetime(comp.datadate) + MonthEnd(0)\n",
    "\n",
    "comp = comp.drop(['cusip'], axis=1)\n",
    "comp = comp[comp.fyr > 0]\n",
    "comp = comp.assign(fystr = comp.datadate.apply(lambda x :  'A-' + x.strftime('%b')),\n",
    "                  fysm = comp.datadate - MonthBegin(12))\n",
    "\n",
    "ccm = pd.read_csv('data/ccm_hist.csv')\n",
    "ccm = ccm.drop('Unnamed: 0', axis=1)\n",
    "ccm = ccm[((ccm.linktype == 'LU') | (ccm.linktype == 'LC')) & \\\n",
    "   ((ccm.linkprim == 'P') | (ccm.linkprim == 'C'))]\n",
    "ccm['linkdt']=pd.to_datetime(ccm['linkdt'])\n",
    "ccm['linkenddt']=pd.to_datetime(ccm['linkenddt'])\n",
    "# if linkenddt is missing then set to today date\n",
    "ccm['linkenddt']=ccm['linkenddt'].fillna(pd.to_datetime('today'))\n",
    "\n",
    "ccm.columns = ['gvkey', 'linkprim', 'liid', 'linktype', 'permno', 'permco', 'linkdt',\n",
    "       'linkenddt']\n",
    "ccm1 = ccm[['gvkey', 'permno']]\n",
    "ccm1.permno = ccm1.permno.astype(int)\n",
    "\n",
    "comp = pd.merge(left=comp, right=ccm1, on=['gvkey'])\n",
    "comp = comp[['gvkey', 'datadate', 'fyear', 'fystr', 'fysm', 'permno']]\n",
    "\n",
    "comp.to_csv('data/fundamental_final_1.2.csv', index=False)"
   ]
  },
  {
   "cell_type": "markdown",
   "metadata": {},
   "source": [
    "### get decile data"
   ]
  },
  {
   "cell_type": "code",
   "execution_count": null,
   "metadata": {},
   "outputs": [],
   "source": [
    "data_list = []\n",
    "db = wrds.Connection(wrds_username='kpu2019')\n",
    "for i in tqdm_notebook(range(1973, 2009)):\n",
    "    sql_str = \"\"\"\n",
    "                select *\n",
    "                from crsp.ermport1\n",
    "                where date>='%s-01-01'\n",
    "                and date<='%s-12-31'\n",
    "              \"\"\" % (i,i)\n",
    "    \n",
    "    data_list.append(db.raw_sql(sql_str))\n",
    "    \n",
    "db.close()\n",
    "\n",
    "df = pd.concat(data_list, axis=0)\n",
    "# save data\n",
    "# df.to_csv('data/decile_data.csv')"
   ]
  }
 ],
 "metadata": {
  "kernelspec": {
   "display_name": "Python (quant)",
   "language": "python",
   "name": "quant"
  },
  "language_info": {
   "codemirror_mode": {
    "name": "ipython",
    "version": 3
   },
   "file_extension": ".py",
   "mimetype": "text/x-python",
   "name": "python",
   "nbconvert_exporter": "python",
   "pygments_lexer": "ipython3",
   "version": "3.6.6"
  },
  "toc": {
   "base_numbering": 1,
   "nav_menu": {},
   "number_sections": true,
   "sideBar": true,
   "skip_h1_title": false,
   "title_cell": "Table of Contents",
   "title_sidebar": "Contents",
   "toc_cell": false,
   "toc_position": {},
   "toc_section_display": true,
   "toc_window_display": false
  },
  "varInspector": {
   "cols": {
    "lenName": 16,
    "lenType": 16,
    "lenVar": 40
   },
   "kernels_config": {
    "python": {
     "delete_cmd_postfix": "",
     "delete_cmd_prefix": "del ",
     "library": "var_list.py",
     "varRefreshCmd": "print(var_dic_list())"
    },
    "r": {
     "delete_cmd_postfix": ") ",
     "delete_cmd_prefix": "rm(",
     "library": "var_list.r",
     "varRefreshCmd": "cat(var_dic_list()) "
    }
   },
   "types_to_exclude": [
    "module",
    "function",
    "builtin_function_or_method",
    "instance",
    "_Feature"
   ],
   "window_display": false
  }
 },
 "nbformat": 4,
 "nbformat_minor": 2
}
