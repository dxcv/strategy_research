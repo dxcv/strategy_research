{
 "cells": [
  {
   "cell_type": "code",
   "execution_count": 1,
   "metadata": {},
   "outputs": [],
   "source": [
    "%load_ext autoreload\n",
    "%autoreload 2"
   ]
  },
  {
   "cell_type": "code",
   "execution_count": 2,
   "metadata": {},
   "outputs": [],
   "source": [
    "import numpy as np\n",
    "import pandas as pd\n",
    "import matplotlib.pyplot as plt\n",
    "import seaborn as sns\n",
    "import statsmodels.api as sm\n",
    "import talib as ta\n",
    "import datetime, time\n",
    "from dateutil.relativedelta import *\n",
    "from pandas.tseries.offsets import *\n",
    "from tqdm import tqdm_notebook\n",
    "from scipy.stats import mstats"
   ]
  },
  {
   "cell_type": "code",
   "execution_count": 3,
   "metadata": {},
   "outputs": [],
   "source": [
    "plt.rcParams['figure.figsize'] = [12, 8]\n",
    "plt.rcParams['image.interpolation'] = 'nearest'\n",
    "plt.rcParams['image.cmap'] = 'gray'\n",
    "plt.style.use('ggplot')"
   ]
  },
  {
   "cell_type": "code",
   "execution_count": 4,
   "metadata": {},
   "outputs": [],
   "source": [
    "def calc_exf(df):\n",
    "    ret = df.ret_p1\n",
    "    dret = df.dret_p1\n",
    "    pre_mv = df.mv.shift(1) * df.retx_p1\n",
    "    exf = df.mv - pre_mv\n",
    "    exf_to_mv = exf / df.mv.shift(1)\n",
    "    \n",
    "    ret_roll_1 = ((ret[::-1]).rolling(1, min_periods=1).apply(np.prod, raw=True)[::-1])\n",
    "    ret_roll_2 = ((ret[::-1]).rolling(2, min_periods=1).apply(np.prod, raw=True)[::-1])\n",
    "    ret_roll_3 = ((ret[::-1]).rolling(3, min_periods=1).apply(np.prod, raw=True)[::-1])\n",
    "    ret_roll_4 = ((ret[::-1]).rolling(4, min_periods=1).apply(np.prod, raw=True)[::-1])\n",
    "    ret_roll_5 = ((ret[::-1]).rolling(5, min_periods=1).apply(np.prod, raw=True)[::-1])\n",
    "    ret_roll_6 = ((ret[::-1]).rolling(6, min_periods=1).apply(np.prod, raw=True)[::-1])\n",
    "    ret_roll_7 = ((ret[::-1]).rolling(7, min_periods=1).apply(np.prod, raw=True)[::-1])\n",
    "    ret_roll_8 = ((ret[::-1]).rolling(8, min_periods=1).apply(np.prod, raw=True)[::-1])\n",
    "    \n",
    "    dret_roll_1 = ((dret[::-1]).rolling(1, min_periods=1).apply(np.prod, raw=True)[::-1])\n",
    "    dret_roll_2 = ((dret[::-1]).rolling(2, min_periods=1).apply(np.prod, raw=True)[::-1])\n",
    "    dret_roll_3 = ((dret[::-1]).rolling(3, min_periods=1).apply(np.prod, raw=True)[::-1])\n",
    "    dret_roll_4 = ((dret[::-1]).rolling(4, min_periods=1).apply(np.prod, raw=True)[::-1])\n",
    "    dret_roll_5 = ((dret[::-1]).rolling(5, min_periods=1).apply(np.prod, raw=True)[::-1])\n",
    "    dret_roll_6 = ((dret[::-1]).rolling(6, min_periods=1).apply(np.prod, raw=True)[::-1])\n",
    "    dret_roll_7 = ((dret[::-1]).rolling(7, min_periods=1).apply(np.prod, raw=True)[::-1])\n",
    "    dret_roll_8 = ((dret[::-1]).rolling(8, min_periods=1).apply(np.prod, raw=True)[::-1])\n",
    "    \n",
    "    # 参考99页，引用7，这里要求的是从1974开始\n",
    "    dret_roll_1_bar = dret_roll_1.shift(-1).mean()\n",
    "    dret_roll_2_bar = dret_roll_2.shift(-1).mean()\n",
    "    dret_roll_3_bar = dret_roll_3.shift(-1).mean()\n",
    "    dret_roll_4_bar = dret_roll_4.shift(-1).mean()\n",
    "    dret_roll_5_bar = dret_roll_5.shift(-1).mean()\n",
    "    \n",
    "    car1 = ret_roll_1 - dret_roll_1\n",
    "    car2 = ret_roll_2 - dret_roll_2\n",
    "    car3 = ret_roll_3 - dret_roll_3\n",
    "    car4 = ret_roll_4 - dret_roll_4\n",
    "    car5 = ret_roll_5 - dret_roll_5\n",
    "    car6 = ret_roll_6 - dret_roll_6\n",
    "    car7 = ret_roll_7 - dret_roll_7\n",
    "    car8 = ret_roll_8 - dret_roll_8\n",
    "    \n",
    "    wr1 = ret_roll_1 / dret_roll_1\n",
    "    wr2 = ret_roll_2 / dret_roll_2\n",
    "    wr3 = ret_roll_3 / dret_roll_3\n",
    "    wr4 = ret_roll_4 / dret_roll_4\n",
    "    wr5 = ret_roll_5 / dret_roll_5\n",
    "    \n",
    "    wr1_bar = ret_roll_1 / dret_roll_1_bar\n",
    "    wr2_bar = ret_roll_2 / dret_roll_2_bar\n",
    "    wr3_bar = ret_roll_3 / dret_roll_3_bar\n",
    "    wr4_bar = ret_roll_4 / dret_roll_4_bar\n",
    "    wr5_bar = ret_roll_5 / dret_roll_5_bar\n",
    "    \n",
    "    res = pd.DataFrame({\n",
    "        'date':df.date,\n",
    "        'mv':df.mv,\n",
    "        'pre_mv':pre_mv,\n",
    "        'retx_p1':df.retx_p1,\n",
    "        'exf':exf,\n",
    "        'exf_to_mv':exf_to_mv,\n",
    "        \n",
    "        'car1':car1.shift(-1),\n",
    "        'car3':car3.shift(-1),\n",
    "        'car5':car5.shift(-1),\n",
    "        \n",
    "        'wr1':wr1.shift(-1),\n",
    "        'wr2':wr2.shift(-1),\n",
    "        'wr3':wr3.shift(-1),\n",
    "        'wr4':wr4.shift(-1),\n",
    "        'wr5':wr5.shift(-1),\n",
    "        \n",
    "        'wr1_bar':wr1_bar.shift(-1),\n",
    "        'wr2_bar':wr2_bar.shift(-1),\n",
    "        'wr3_bar':wr3_bar.shift(-1),\n",
    "        'wr4_bar':wr4_bar.shift(-1),\n",
    "        'wr5_bar':wr5_bar.shift(-1),\n",
    "        \n",
    "        'ret_n1':ret.shift(-1)-1,\n",
    "        'ret_n2':ret.shift(-2)-1,\n",
    "        'ret_n3':ret.shift(-3)-1,\n",
    "        'ret_n4':ret.shift(-4)-1,\n",
    "        'ret_n5':ret.shift(-5)-1,\n",
    "        'ret_n6':ret.shift(-6)-1,\n",
    "        'ret_n7':ret.shift(-7)-1,\n",
    "        'ret_n8':ret.shift(-8)-1\n",
    "        \n",
    "    })\n",
    "    return res"
   ]
  },
  {
   "cell_type": "markdown",
   "metadata": {},
   "source": [
    "load data"
   ]
  },
  {
   "cell_type": "code",
   "execution_count": 5,
   "metadata": {},
   "outputs": [],
   "source": [
    "crsp_fa = pd.read_csv('data/crsp_fa_filtered.zip',\n",
    "                     parse_dates=['date'], infer_datetime_format=True)"
   ]
  },
  {
   "cell_type": "code",
   "execution_count": 6,
   "metadata": {},
   "outputs": [],
   "source": [
    "# 运行此代码后，市值将被替换成调整后的市值\n",
    "crsp_fa.mv = crsp_fa.mv_adj"
   ]
  },
  {
   "cell_type": "code",
   "execution_count": 7,
   "metadata": {},
   "outputs": [],
   "source": [
    "crsp_filter = crsp_fa.set_index('date')[:'2008']\n",
    "filter_permno = crsp_filter[(crsp_filter.mv_adj.shift(1) * crsp_filter.retx_p1) >= 5e+4].\\\n",
    "permno.unique().tolist()\n",
    "crsp_fa_filtered = crsp_fa.set_index('permno').loc[filter_permno].reset_index()"
   ]
  },
  {
   "cell_type": "code",
   "execution_count": 8,
   "metadata": {},
   "outputs": [
    {
     "name": "stdout",
     "output_type": "stream",
     "text": [
      "382.1149283\n"
     ]
    }
   ],
   "source": [
    "tic = time.perf_counter()\n",
    "result_exf = crsp_fa_filtered.set_index('permno').groupby('permno').apply(calc_exf)\n",
    "toc = time.perf_counter()\n",
    "print(toc-tic)"
   ]
  },
  {
   "cell_type": "code",
   "execution_count": 9,
   "metadata": {},
   "outputs": [],
   "source": [
    "res1 = result_exf.copy()\n",
    "res1 = res1.dropna(subset=['exf_to_mv']) # 只是剔除exf_to_mv中的异常值\n",
    "res1 = res1.reset_index().set_index('date')[:'2008'] # 筛选出到08年的数据\n",
    "res1.exf_to_mv = mstats.winsorize(res1.exf_to_mv, limits=[0.01, 0.01]) # 这里也可以调整\n",
    "\n",
    "per = np.linspace(0,1,11).tolist()\n",
    "bins = res1.describe(percentiles=per).exf_to_mv.iloc[4:-1].tolist()\n",
    "bins = [bins[0]-1] + bins[1:]"
   ]
  },
  {
   "cell_type": "markdown",
   "metadata": {},
   "source": [
    "我先用pre_mv将就一下"
   ]
  },
  {
   "cell_type": "code",
   "execution_count": 13,
   "metadata": {},
   "outputs": [
    {
     "data": {
      "text/plain": [
       "303757857865.07098"
      ]
     },
     "execution_count": 13,
     "metadata": {},
     "output_type": "execute_result"
    }
   ],
   "source": [
    "res1.pre_mv.sum()"
   ]
  },
  {
   "cell_type": "code",
   "execution_count": 19,
   "metadata": {},
   "outputs": [
    {
     "data": {
      "text/plain": [
       "31037.916115863354"
      ]
     },
     "execution_count": 19,
     "metadata": {},
     "output_type": "execute_result"
    }
   ],
   "source": [
    "res1['ret_n%d' % 1].sum()"
   ]
  },
  {
   "cell_type": "code",
   "execution_count": 17,
   "metadata": {},
   "outputs": [],
   "source": [
    "def factor_analysis(df):\n",
    "    total_mv = df.mv.sum()\n",
    "    ret_dict = {}\n",
    "    for i in range(1, 9):\n",
    "        ret_dict['ret_n%d' % i] = (df['ret_n%d' % i] * df.mv / total_mv).sum()\n",
    "    return pd.DataFrame(ret_dict, index=[df.exf_to_mv.mean()])"
   ]
  },
  {
   "cell_type": "code",
   "execution_count": 18,
   "metadata": {},
   "outputs": [],
   "source": [
    "res1_grouped = res1.groupby(pd.cut(res1.exf_to_mv,bins, right=True)).\\\n",
    "apply(factor_analysis)\n",
    "res1_grouped.index = list(range(1,11))\n",
    "res1_grouped.index.name = 'decile'"
   ]
  },
  {
   "cell_type": "code",
   "execution_count": 19,
   "metadata": {},
   "outputs": [],
   "source": [
    "bar_cols = ['ret_n1', 'ret_n2', 'ret_n3', 'ret_n4', 'ret_n5', 'ret_n6',\n",
    "       'ret_n7', 'ret_n8']"
   ]
  },
  {
   "cell_type": "code",
   "execution_count": 21,
   "metadata": {},
   "outputs": [],
   "source": [
    "res1_grouped_transfer = res1_grouped[bar_cols].T\n",
    "res1_grouped_transfer = res1_grouped_transfer.assign(decile_diff = \\\n",
    "                        res1_grouped_transfer[1]-res1_grouped_transfer[10])"
   ]
  },
  {
   "cell_type": "code",
   "execution_count": 22,
   "metadata": {},
   "outputs": [
    {
     "data": {
      "image/png": "[encoded data removed]",
      "text/plain": [
       "<Figure size 864x576 with 1 Axes>"
      ]
     },
     "metadata": {},
     "output_type": "display_data"
    }
   ],
   "source": [
    "res1_grouped_transfer[[1, 10, 'decile_diff']].plot.bar();"
   ]
  },
  {
   "cell_type": "markdown",
   "metadata": {},
   "source": [
    "为了按照每年进行分组计算，先添加year字段"
   ]
  },
  {
   "cell_type": "code",
   "execution_count": 25,
   "metadata": {},
   "outputs": [],
   "source": [
    "# 进行复制操作，避免破坏数据\n",
    "res1 = result_exf.copy()\n",
    "res1 = res1.reset_index().set_index('date')[:'2008'] # 筛选出到08年的数据\n",
    "res1.exf_to_mv = mstats.winsorize(res1.exf_to_mv, limits=[0.01, 0.01]) \n",
    "res1 = res1.dropna(subset=['exf_to_mv'])\n",
    "res1 = res1.reset_index()\n",
    "res1 = res1.assign(year = res1.date.dt.year)\n",
    "def group_calc(g):\n",
    "#     g.exf_to_mv = mstats.winsorize(g.exf_to_mv, limits=[0.05, 0.05])\n",
    "    per = np.linspace(0,1,11).tolist()\n",
    "    bins = g.describe(percentiles=per).exf_to_mv.iloc[4:-1].tolist()\n",
    "    bins = [bins[0]-1] + bins[1:]\n",
    "    res = g.groupby(pd.cut(g.exf_to_mv,bins, right=True)).apply(factor_analysis)\n",
    "    res.index = list(range(1,11))\n",
    "    res.index.name = 'decile'\n",
    "    return res"
   ]
  },
  {
   "cell_type": "code",
   "execution_count": 26,
   "metadata": {},
   "outputs": [],
   "source": [
    "res2 = res1.groupby('year').apply(group_calc)"
   ]
  },
  {
   "cell_type": "code",
   "execution_count": 27,
   "metadata": {},
   "outputs": [],
   "source": [
    "res2_grouped = res2.groupby('decile').mean()\n",
    "res2_grouped.index.name = 'decile'"
   ]
  },
  {
   "cell_type": "code",
   "execution_count": 28,
   "metadata": {},
   "outputs": [],
   "source": [
    "res2_grouped_transfer = res2_grouped[bar_cols].T\n",
    "res2_grouped_transfer = res2_grouped_transfer.assign(decile_diff = \\\n",
    "                        res2_grouped_transfer[1]-res2_grouped_transfer[10])"
   ]
  },
  {
   "cell_type": "code",
   "execution_count": 29,
   "metadata": {},
   "outputs": [
    {
     "data": {
      "image/png": "[encoded data removed]",
      "text/plain": [
       "<Figure size 864x576 with 1 Axes>"
      ]
     },
     "metadata": {},
     "output_type": "display_data"
    }
   ],
   "source": [
    "res1_grouped_transfer[[1, 10, 'decile_diff']].plot.bar();"
   ]
  },
  {
   "cell_type": "code",
   "execution_count": null,
   "metadata": {},
   "outputs": [],
   "source": []
  }
 ],
 "metadata": {
  "kernelspec": {
   "display_name": "Python (quant)",
   "language": "python",
   "name": "quant"
  },
  "language_info": {
   "codemirror_mode": {
    "name": "ipython",
    "version": 3
   },
   "file_extension": ".py",
   "mimetype": "text/x-python",
   "name": "python",
   "nbconvert_exporter": "python",
   "pygments_lexer": "ipython3",
   "version": "3.6.6"
  },
  "toc": {
   "base_numbering": 1,
   "nav_menu": {},
   "number_sections": true,
   "sideBar": true,
   "skip_h1_title": false,
   "title_cell": "Table of Contents",
   "title_sidebar": "Contents",
   "toc_cell": false,
   "toc_position": {},
   "toc_section_display": true,
   "toc_window_display": false
  },
  "varInspector": {
   "cols": {
    "lenName": 16,
    "lenType": 16,
    "lenVar": 40
   },
   "kernels_config": {
    "python": {
     "delete_cmd_postfix": "",
     "delete_cmd_prefix": "del ",
     "library": "var_list.py",
     "varRefreshCmd": "print(var_dic_list())"
    },
    "r": {
     "delete_cmd_postfix": ") ",
     "delete_cmd_prefix": "rm(",
     "library": "var_list.r",
     "varRefreshCmd": "cat(var_dic_list()) "
    }
   },
   "types_to_exclude": [
    "module",
    "function",
    "builtin_function_or_method",
    "instance",
    "_Feature"
   ],
   "window_display": false
  }
 },
 "nbformat": 4,
 "nbformat_minor": 2
}
