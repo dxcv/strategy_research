{
 "cells": [
  {
   "cell_type": "code",
   "execution_count": 5,
   "metadata": {},
   "outputs": [
    {
     "name": "stdout",
     "output_type": "stream",
     "text": [
      "Enter your WRDS username [kpu55]:kpu2019\n",
      "Enter your password:········\n",
      "WRDS recommends setting up a .pgpass file.\n",
      "You can find more info here:\n",
      "https://www.postgresql.org/docs/9.5/static/libpq-pgpass.html.\n",
      "Loading library list...\n",
      "Done\n"
     ]
    }
   ],
   "source": [
    "import pandas as pd\n",
    "from pandas.tseries.offsets import MonthEnd\n",
    "import time\n",
    "from tqdm import tqdm_notebook\n",
    "import wrds\n",
    "db = wrds.Connection()"
   ]
  },
  {
   "cell_type": "code",
   "execution_count": 8,
   "metadata": {},
   "outputs": [
    {
     "data": {
      "application/vnd.jupyter.widget-view+json": {
       "model_id": "2408adf7dde04d2db29a4c549aff8efb",
       "version_major": 2,
       "version_minor": 0
      },
      "text/plain": [
       "HBox(children=(IntProgress(value=0, max=41), HTML(value='')))"
      ]
     },
     "metadata": {},
     "output_type": "display_data"
    },
    {
     "name": "stdout",
     "output_type": "stream",
     "text": [
      "\n",
      "924.1002784284763\n"
     ]
    }
   ],
   "source": [
    "#提取CRSP数据并存为csv文件\n",
    "tic = time.perf_counter()\n",
    "data_list = []\n",
    "for i in tqdm_notebook(range(1973, 2014)):\n",
    "    sql_str = \"\"\"\n",
    "                select a.permno, a.date, a.ticker, a.comnam,\n",
    "                      a.prc, a.ret, a.shrout, a.retx \n",
    "                from crsp.msf as a\n",
    "                where date>='%s-01-01'\n",
    "                and date<='%s-12-31'\n",
    "              \"\"\" % (i,i)\n",
    "    \n",
    "    data_list.append(db.raw_sql(sql_str))\n",
    "    \n",
    "db.close()\n",
    "\n",
    "df = pd.concat(data_list, axis=0)\n",
    "df.date = pd.to_datetime(df.date) + MonthEnd(0)\n",
    "# save data\n",
    "df.to_csv('data/query1 updated 1973-2013.csv', index=False)\n",
    "toc = time.perf_counter()\n",
    "print(toc-tic)"
   ]
  },
  {
   "cell_type": "code",
   "execution_count": 17,
   "metadata": {},
   "outputs": [
    {
     "name": "stdout",
     "output_type": "stream",
     "text": [
      "Enter your WRDS username [kpu55]:kpu2019\n",
      "Enter your password:········\n",
      "WRDS recommends setting up a .pgpass file.\n",
      "You can find more info here:\n",
      "https://www.postgresql.org/docs/9.5/static/libpq-pgpass.html.\n",
      "Loading library list...\n",
      "Done\n"
     ]
    }
   ],
   "source": [
    "db = wrds.Connection()"
   ]
  },
  {
   "cell_type": "code",
   "execution_count": 18,
   "metadata": {},
   "outputs": [
    {
     "data": {
      "application/vnd.jupyter.widget-view+json": {
       "model_id": "e563b7d8ead343238e33eb9ac2791ae4",
       "version_major": 2,
       "version_minor": 0
      },
      "text/plain": [
       "HBox(children=(IntProgress(value=0, max=41), HTML(value='')))"
      ]
     },
     "metadata": {},
     "output_type": "display_data"
    },
    {
     "name": "stdout",
     "output_type": "stream",
     "text": [
      "\n",
      "423.3588397076619\n"
     ]
    }
   ],
   "source": [
    "#提取fundamental数据并存为csv文件\n",
    "tic = time.perf_counter()\n",
    "data_list = []\n",
    "for i in tqdm_notebook(range(1973, 2014)):\n",
    "    sql_str = \"\"\"\n",
    "                select gvkey,datadate,fyear,\n",
    "                tic, conm, curcd, fyr, bkvlps, dlto, dltt, \n",
    "                ebit, ib, pstk, revt, xrd, costat, cshtr_f\n",
    "                from comp.funda\n",
    "                where datadate>='%s-01-01'\n",
    "                and datadate<='%s-12-31'\n",
    "                and datafmt = 'STD'\n",
    "                and consol = 'C' \n",
    "                and indfmt = 'INDL'\n",
    "              \"\"\" % (i,i)\n",
    "    \n",
    "    data_list.append(db.raw_sql(sql_str))\n",
    "    \n",
    "db.close()\n",
    "\n",
    "df = pd.concat(data_list, axis=0)\n",
    "df.datadate = pd.to_datetime(df.datadate) + MonthEnd(0)\n",
    "# save data\n",
    "df.to_csv('data/fundamental 1973-2013.csv', index=False)\n",
    "toc = time.perf_counter()\n",
    "print(toc-tic)"
   ]
  },
  {
   "cell_type": "code",
   "execution_count": null,
   "metadata": {},
   "outputs": [],
   "source": [
    "db = wrds.Connection()"
   ]
  },
  {
   "cell_type": "code",
   "execution_count": null,
   "metadata": {},
   "outputs": [],
   "source": [
    "#提取decile return的数据并存为csv文件\n",
    "tic = time.perf_counter()\n",
    "data_list = []\n",
    "db = wrds.Connection(wrds_username='kpu2019')\n",
    "for i in tqdm_notebook(range(1973, 2014)):\n",
    "    sql_str = \"\"\"\n",
    "                select *\n",
    "                from crsp.ermport1\n",
    "                where date>='%s-01-01'\n",
    "                and date<='%s-12-31'\n",
    "              \"\"\" % (i,i)\n",
    "    \n",
    "    data_list.append(db.raw_sql(sql_str))\n",
    "    \n",
    "db.close()\n",
    "\n",
    "df = pd.concat(data_list, axis=0)\n",
    "df.date = pd.to_datetime(df.date) + MonthEnd(0)\n",
    "# save data\n",
    "df.to_csv('data/decile_data.csv', index=False)\n",
    "toc = time.perf_counter()\n",
    "print(toc-tic)"
   ]
  },
  {
   "cell_type": "markdown",
   "metadata": {},
   "source": [
    "ccm link"
   ]
  },
  {
   "cell_type": "code",
   "execution_count": null,
   "metadata": {},
   "outputs": [],
   "source": [
    "db = wrds.Connection(wrds_username='kpu2019')\n",
    "ccm = db.get_table('crsp', 'ccmxpf_lnkhist', date_cols=['linkdt', 'linkenddt'])\n",
    "db.close()\n",
    "ccm.to_csv('data/ccm_hist.csv', index=False)"
   ]
  }
 ],
 "metadata": {
  "kernelspec": {
   "display_name": "Python 3 tensorflow",
   "language": "python",
   "name": "python3"
  },
  "language_info": {
   "codemirror_mode": {
    "name": "ipython",
    "version": 3
   },
   "file_extension": ".py",
   "mimetype": "text/x-python",
   "name": "python",
   "nbconvert_exporter": "python",
   "pygments_lexer": "ipython3",
   "version": "3.5.5"
  },
  "toc": {
   "base_numbering": 1,
   "nav_menu": {},
   "number_sections": true,
   "sideBar": true,
   "skip_h1_title": false,
   "title_cell": "Table of Contents",
   "title_sidebar": "Contents",
   "toc_cell": false,
   "toc_position": {},
   "toc_section_display": true,
   "toc_window_display": false
  },
  "varInspector": {
   "cols": {
    "lenName": 16,
    "lenType": 16,
    "lenVar": 40
   },
   "kernels_config": {
    "python": {
     "delete_cmd_postfix": "",
     "delete_cmd_prefix": "del ",
     "library": "var_list.py",
     "varRefreshCmd": "print(var_dic_list())"
    },
    "r": {
     "delete_cmd_postfix": ") ",
     "delete_cmd_prefix": "rm(",
     "library": "var_list.r",
     "varRefreshCmd": "cat(var_dic_list()) "
    }
   },
   "types_to_exclude": [
    "module",
    "function",
    "builtin_function_or_method",
    "instance",
    "_Feature"
   ],
   "window_display": false
  }
 },
 "nbformat": 4,
 "nbformat_minor": 2
}
