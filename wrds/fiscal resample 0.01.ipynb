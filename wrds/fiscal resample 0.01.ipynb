{
 "cells": [
  {
   "cell_type": "code",
   "execution_count": 1,
   "metadata": {},
   "outputs": [],
   "source": [
    "%load_ext autoreload\n",
    "%autoreload 2"
   ]
  },
  {
   "cell_type": "code",
   "execution_count": 2,
   "metadata": {},
   "outputs": [],
   "source": [
    "import numpy as np\n",
    "import pandas as pd\n",
    "import matplotlib.pyplot as plt\n",
    "import seaborn as sns\n",
    "import statsmodels.api as sm\n",
    "# import tushare as ts\n",
    "# import QUANTAXIS as QA\n",
    "import talib as ta\n",
    "import datetime, time\n",
    "from dateutil.relativedelta import *\n",
    "from pandas.tseries.offsets import *\n",
    "from tqdm import tqdm_notebook"
   ]
  },
  {
   "cell_type": "code",
   "execution_count": 3,
   "metadata": {},
   "outputs": [],
   "source": [
    "plt.rcParams['figure.figsize'] = [12, 8]\n",
    "plt.rcParams['image.interpolation'] = 'nearest'\n",
    "plt.rcParams['image.cmap'] = 'gray'\n",
    "plt.style.use('ggplot')"
   ]
  },
  {
   "cell_type": "markdown",
   "metadata": {},
   "source": [
    "### load comp with permno data"
   ]
  },
  {
   "cell_type": "code",
   "execution_count": 24,
   "metadata": {},
   "outputs": [],
   "source": [
    "comp = pd.read_csv('data/fundamental_final_1.2.zip',\n",
    "                  parse_dates=['datadate', 'fysm'], infer_datetime_format=True)\n",
    "comp.datadate = pd.to_datetime(comp.datadate)\n",
    "comp.fysm = pd.to_datetime(comp.fysm)"
   ]
  },
  {
   "cell_type": "code",
   "execution_count": 21,
   "metadata": {},
   "outputs": [
    {
     "data": {
      "text/html": [
       "<div>\n",
       "<style scoped>\n",
       "    .dataframe tbody tr th:only-of-type {\n",
       "        vertical-align: middle;\n",
       "    }\n",
       "\n",
       "    .dataframe tbody tr th {\n",
       "        vertical-align: top;\n",
       "    }\n",
       "\n",
       "    .dataframe thead th {\n",
       "        text-align: right;\n",
       "    }\n",
       "</style>\n",
       "<table border=\"1\" class=\"dataframe\">\n",
       "  <thead>\n",
       "    <tr style=\"text-align: right;\">\n",
       "      <th></th>\n",
       "      <th>gvkey</th>\n",
       "      <th>datadate</th>\n",
       "      <th>fyear</th>\n",
       "      <th>fystr</th>\n",
       "      <th>fysm</th>\n",
       "      <th>permno</th>\n",
       "    </tr>\n",
       "  </thead>\n",
       "  <tbody>\n",
       "    <tr>\n",
       "      <th>0</th>\n",
       "      <td>1000</td>\n",
       "      <td>1973-12-31</td>\n",
       "      <td>1973.0</td>\n",
       "      <td>A-Dec</td>\n",
       "      <td>1973-01-01</td>\n",
       "      <td>25881</td>\n",
       "    </tr>\n",
       "    <tr>\n",
       "      <th>1</th>\n",
       "      <td>1000</td>\n",
       "      <td>1974-12-31</td>\n",
       "      <td>1974.0</td>\n",
       "      <td>A-Dec</td>\n",
       "      <td>1974-01-01</td>\n",
       "      <td>25881</td>\n",
       "    </tr>\n",
       "    <tr>\n",
       "      <th>2</th>\n",
       "      <td>1000</td>\n",
       "      <td>1975-12-31</td>\n",
       "      <td>1975.0</td>\n",
       "      <td>A-Dec</td>\n",
       "      <td>1975-01-01</td>\n",
       "      <td>25881</td>\n",
       "    </tr>\n",
       "    <tr>\n",
       "      <th>3</th>\n",
       "      <td>1000</td>\n",
       "      <td>1976-12-31</td>\n",
       "      <td>1976.0</td>\n",
       "      <td>A-Dec</td>\n",
       "      <td>1976-01-01</td>\n",
       "      <td>25881</td>\n",
       "    </tr>\n",
       "    <tr>\n",
       "      <th>4</th>\n",
       "      <td>1000</td>\n",
       "      <td>1977-12-31</td>\n",
       "      <td>1977.0</td>\n",
       "      <td>A-Dec</td>\n",
       "      <td>1977-01-01</td>\n",
       "      <td>25881</td>\n",
       "    </tr>\n",
       "  </tbody>\n",
       "</table>\n",
       "</div>"
      ],
      "text/plain": [
       "   gvkey   datadate   fyear  fystr        fysm  permno\n",
       "0   1000 1973-12-31  1973.0  A-Dec  1973-01-01   25881\n",
       "1   1000 1974-12-31  1974.0  A-Dec  1974-01-01   25881\n",
       "2   1000 1975-12-31  1975.0  A-Dec  1975-01-01   25881\n",
       "3   1000 1976-12-31  1976.0  A-Dec  1976-01-01   25881\n",
       "4   1000 1977-12-31  1977.0  A-Dec  1977-01-01   25881"
      ]
     },
     "execution_count": 21,
     "metadata": {},
     "output_type": "execute_result"
    }
   ],
   "source": [
    "comp.head()"
   ]
  },
  {
   "cell_type": "code",
   "execution_count": 18,
   "metadata": {},
   "outputs": [],
   "source": [
    "crsp = pd.read_csv('data/return_ensembled.zip',\n",
    "                   parse_dates=['date'], infer_datetime_format=True)\n",
    "crsp.date = pd.to_datetime(crsp.date)\n",
    "crsp = crsp.set_index('date')"
   ]
  },
  {
   "cell_type": "code",
   "execution_count": 29,
   "metadata": {},
   "outputs": [
    {
     "data": {
      "text/html": [
       "<div>\n",
       "<style scoped>\n",
       "    .dataframe tbody tr th:only-of-type {\n",
       "        vertical-align: middle;\n",
       "    }\n",
       "\n",
       "    .dataframe tbody tr th {\n",
       "        vertical-align: top;\n",
       "    }\n",
       "\n",
       "    .dataframe thead th {\n",
       "        text-align: right;\n",
       "    }\n",
       "</style>\n",
       "<table border=\"1\" class=\"dataframe\">\n",
       "  <thead>\n",
       "    <tr style=\"text-align: right;\">\n",
       "      <th></th>\n",
       "      <th>permno</th>\n",
       "      <th>mv</th>\n",
       "      <th>mv_adj</th>\n",
       "      <th>ret_p1</th>\n",
       "      <th>retx_p1</th>\n",
       "      <th>dret_p1</th>\n",
       "    </tr>\n",
       "    <tr>\n",
       "      <th>date</th>\n",
       "      <th></th>\n",
       "      <th></th>\n",
       "      <th></th>\n",
       "      <th></th>\n",
       "      <th></th>\n",
       "      <th></th>\n",
       "    </tr>\n",
       "  </thead>\n",
       "  <tbody>\n",
       "    <tr>\n",
       "      <th>1973-01-31</th>\n",
       "      <td>63845</td>\n",
       "      <td>106005.375</td>\n",
       "      <td>526734.998484</td>\n",
       "      <td>0.724138</td>\n",
       "      <td>0.724138</td>\n",
       "      <td>0.945299</td>\n",
       "    </tr>\n",
       "    <tr>\n",
       "      <th>1973-01-31</th>\n",
       "      <td>15580</td>\n",
       "      <td>4425.000</td>\n",
       "      <td>21987.586651</td>\n",
       "      <td>1.043478</td>\n",
       "      <td>1.043478</td>\n",
       "      <td>0.999527</td>\n",
       "    </tr>\n",
       "    <tr>\n",
       "      <th>1973-01-31</th>\n",
       "      <td>28820</td>\n",
       "      <td>6768.750</td>\n",
       "      <td>33633.554157</td>\n",
       "      <td>1.187500</td>\n",
       "      <td>1.187500</td>\n",
       "      <td>0.988575</td>\n",
       "    </tr>\n",
       "    <tr>\n",
       "      <th>1973-01-31</th>\n",
       "      <td>11253</td>\n",
       "      <td>3038.000</td>\n",
       "      <td>15095.658361</td>\n",
       "      <td>0.942308</td>\n",
       "      <td>0.942308</td>\n",
       "      <td>0.999527</td>\n",
       "    </tr>\n",
       "    <tr>\n",
       "      <th>1973-01-31</th>\n",
       "      <td>61903</td>\n",
       "      <td>766.500</td>\n",
       "      <td>3808.697213</td>\n",
       "      <td>0.954545</td>\n",
       "      <td>0.954545</td>\n",
       "      <td>1.015606</td>\n",
       "    </tr>\n",
       "  </tbody>\n",
       "</table>\n",
       "</div>"
      ],
      "text/plain": [
       "            permno          mv         mv_adj    ret_p1   retx_p1   dret_p1\n",
       "date                                                                       \n",
       "1973-01-31   63845  106005.375  526734.998484  0.724138  0.724138  0.945299\n",
       "1973-01-31   15580    4425.000   21987.586651  1.043478  1.043478  0.999527\n",
       "1973-01-31   28820    6768.750   33633.554157  1.187500  1.187500  0.988575\n",
       "1973-01-31   11253    3038.000   15095.658361  0.942308  0.942308  0.999527\n",
       "1973-01-31   61903     766.500    3808.697213  0.954545  0.954545  1.015606"
      ]
     },
     "execution_count": 29,
     "metadata": {},
     "output_type": "execute_result"
    }
   ],
   "source": [
    "crsp.head()"
   ]
  },
  {
   "cell_type": "code",
   "execution_count": 20,
   "metadata": {},
   "outputs": [],
   "source": [
    "def fiscal_resample(df, fys, per):\n",
    "    \n",
    "#     ret_p1 = df.ret_p1.cumprod().iloc[-1]\n",
    "#     retx_p1 = df.retx_p1.cumprod().iloc[-1]\n",
    "#     dret_p1 = df.dret_p1.cumprod().iloc[-1]\n",
    "    \n",
    "    ret_p1 = df.ret_p1.prod().iloc[-1]\n",
    "    retx_p1 = df.retx_p1.prod().iloc[-1]\n",
    "    dret_p1 = df.dret_p1.prod().iloc[-1]\n",
    "    \n",
    "    mv = df.mv.resample(fys).last().iloc[-1]\n",
    "    mv_adj = df.mv_adj.resample(fys).last().iloc[-1]\n",
    "    \n",
    "    res = pd.DataFrame({'ret_p1':ret_p1, 'retx_p1':retx_p1, 'dret_p1':dret_p1,\n",
    "                        'mv':mv, 'mv_adj':mv_adj}, index=[per])\n",
    "    return res"
   ]
  },
  {
   "cell_type": "code",
   "execution_count": 31,
   "metadata": {
    "scrolled": true
   },
   "outputs": [
    {
     "data": {
      "application/vnd.jupyter.widget-view+json": {
       "model_id": "a068f745a15446c0b3f22f0ec1ce76bd",
       "version_major": 2,
       "version_minor": 0
      },
      "text/plain": [
       "HBox(children=(IntProgress(value=0, max=452), HTML(value='')))"
      ]
     },
     "metadata": {},
     "output_type": "display_data"
    },
    {
     "name": "stdout",
     "output_type": "stream",
     "text": [
      "\n",
      "10.460685000000012\n"
     ]
    }
   ],
   "source": [
    "# test some data\n",
    "tic = time.perf_counter()\n",
    "# g = comp[comp.gvkey==25056].groupby(['permno', 'fyear'])\n",
    "code_list = comp.gvkey.unique().tolist()[:30]\n",
    "test_comp = comp.set_index('gvkey').loc[code_list].reset_index()\n",
    "g = test_comp.groupby(['permno', 'fyear'])\n",
    "\n",
    "df_list = []\n",
    "for name, group in tqdm_notebook(g):\n",
    "    start = group.fysm.iloc[0].strftime('%Y-%m-%d')\n",
    "    end = group.datadate.iloc[0].strftime('%Y-%m-%d')\n",
    "    fystring = group.fystr.iloc[0]\n",
    "    sample = crsp[crsp.permno==name[0]][start:end]\n",
    "    if len(sample) > 0:\n",
    "        r = sample.resample(fystring)\n",
    "        df_list.append(r.apply(fiscal_resample, fys=fystring, per=name[0]))\n",
    "\n",
    "df_test = pd.concat(df_list, axis=0)\n",
    "df_test.index.names = ['date', 'permno']\n",
    "toc= time.perf_counter()\n",
    "print(toc - tic)"
   ]
  },
  {
   "cell_type": "code",
   "execution_count": 37,
   "metadata": {},
   "outputs": [
    {
     "data": {
      "application/vnd.jupyter.widget-view+json": {
       "model_id": "9a29e60eba8f43efb15fc7d444b2ec44",
       "version_major": 2,
       "version_minor": 0
      },
      "text/plain": [
       "HBox(children=(IntProgress(value=0, max=300526), HTML(value='')))"
      ]
     },
     "metadata": {},
     "output_type": "display_data"
    },
    {
     "name": "stdout",
     "output_type": "stream",
     "text": [
      "\n",
      "6685.1432568\n"
     ]
    }
   ],
   "source": [
    "tic = time.perf_counter()\n",
    "g = comp.groupby(['permno', 'fyear'])\n",
    "\n",
    "df_list = []\n",
    "    \n",
    "for name, group in tqdm_notebook(g):\n",
    "\n",
    "    start = group.fysm.iloc[0].strftime('%Y-%m-%d')\n",
    "    end = group.datadate.iloc[0].strftime('%Y-%m-%d')\n",
    "    fystring = group.fystr.iloc[0]\n",
    "    sample = crsp[crsp.permno==name[0]][start:end]\n",
    "    if len(sample) > 0:\n",
    "        r = sample.resample(fystring)\n",
    "        df_list.append(r.apply(fiscal_resample, fys=fystring, per=name[0]))\n",
    "\n",
    "crsp1 = pd.concat(df_list, axis=0)\n",
    "crsp1.index.names = ['date', 'permno']\n",
    "# df_test\n",
    "crsp1.to_csv('data/crsp_fa.csv')\n",
    "toc= time.perf_counter()\n",
    "print(toc - tic)"
   ]
  },
  {
   "cell_type": "code",
   "execution_count": null,
   "metadata": {},
   "outputs": [],
   "source": []
  }
 ],
 "metadata": {
  "kernelspec": {
   "display_name": "Python (quant)",
   "language": "python",
   "name": "quant"
  },
  "language_info": {
   "codemirror_mode": {
    "name": "ipython",
    "version": 3
   },
   "file_extension": ".py",
   "mimetype": "text/x-python",
   "name": "python",
   "nbconvert_exporter": "python",
   "pygments_lexer": "ipython3",
   "version": "3.6.6"
  },
  "toc": {
   "base_numbering": 1,
   "nav_menu": {},
   "number_sections": true,
   "sideBar": true,
   "skip_h1_title": false,
   "title_cell": "Table of Contents",
   "title_sidebar": "Contents",
   "toc_cell": false,
   "toc_position": {},
   "toc_section_display": true,
   "toc_window_display": false
  },
  "varInspector": {
   "cols": {
    "lenName": 16,
    "lenType": 16,
    "lenVar": 40
   },
   "kernels_config": {
    "python": {
     "delete_cmd_postfix": "",
     "delete_cmd_prefix": "del ",
     "library": "var_list.py",
     "varRefreshCmd": "print(var_dic_list())"
    },
    "r": {
     "delete_cmd_postfix": ") ",
     "delete_cmd_prefix": "rm(",
     "library": "var_list.r",
     "varRefreshCmd": "cat(var_dic_list()) "
    }
   },
   "types_to_exclude": [
    "module",
    "function",
    "builtin_function_or_method",
    "instance",
    "_Feature"
   ],
   "window_display": false
  }
 },
 "nbformat": 4,
 "nbformat_minor": 2
}
