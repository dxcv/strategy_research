{
 "cells": [
  {
   "cell_type": "code",
   "execution_count": 1,
   "metadata": {},
   "outputs": [],
   "source": [
    "%load_ext autoreload\n",
    "%autoreload 2"
   ]
  },
  {
   "cell_type": "code",
   "execution_count": 2,
   "metadata": {},
   "outputs": [],
   "source": [
    "import numpy as np\n",
    "import pandas as pd\n",
    "import matplotlib.pyplot as plt\n",
    "import seaborn as sns\n",
    "import statsmodels.api as sm\n",
    "# import tushare as ts\n",
    "# import QUANTAXIS as QA\n",
    "import talib as ta\n",
    "import datetime, time\n",
    "from dateutil.relativedelta import *\n",
    "from pandas.tseries.offsets import *\n",
    "from tqdm import tqdm_notebook"
   ]
  },
  {
   "cell_type": "code",
   "execution_count": 3,
   "metadata": {},
   "outputs": [],
   "source": [
    "plt.rcParams['figure.figsize'] = [12, 8]\n",
    "plt.rcParams['image.interpolation'] = 'nearest'\n",
    "plt.rcParams['image.cmap'] = 'gray'\n",
    "plt.style.use('ggplot')"
   ]
  },
  {
   "cell_type": "markdown",
   "metadata": {},
   "source": [
    "### load the crsp data"
   ]
  },
  {
   "cell_type": "code",
   "execution_count": 4,
   "metadata": {},
   "outputs": [],
   "source": [
    "crsp = pd.read_csv('data/return_ensembled.zip',\n",
    "                   parse_dates=['date'], infer_datetime_format=True)\n",
    "crsp.date = pd.to_datetime(crsp.date)\n",
    "crsp = crsp.set_index('date')"
   ]
  },
  {
   "cell_type": "code",
   "execution_count": 5,
   "metadata": {},
   "outputs": [
    {
     "data": {
      "text/html": [
       "<div>\n",
       "<style scoped>\n",
       "    .dataframe tbody tr th:only-of-type {\n",
       "        vertical-align: middle;\n",
       "    }\n",
       "\n",
       "    .dataframe tbody tr th {\n",
       "        vertical-align: top;\n",
       "    }\n",
       "\n",
       "    .dataframe thead th {\n",
       "        text-align: right;\n",
       "    }\n",
       "</style>\n",
       "<table border=\"1\" class=\"dataframe\">\n",
       "  <thead>\n",
       "    <tr style=\"text-align: right;\">\n",
       "      <th></th>\n",
       "      <th>permno</th>\n",
       "      <th>mv</th>\n",
       "      <th>mv_adj</th>\n",
       "      <th>ret_p1</th>\n",
       "      <th>retx_p1</th>\n",
       "      <th>dret_p1</th>\n",
       "    </tr>\n",
       "    <tr>\n",
       "      <th>date</th>\n",
       "      <th></th>\n",
       "      <th></th>\n",
       "      <th></th>\n",
       "      <th></th>\n",
       "      <th></th>\n",
       "      <th></th>\n",
       "    </tr>\n",
       "  </thead>\n",
       "  <tbody>\n",
       "    <tr>\n",
       "      <th>1973-01-31</th>\n",
       "      <td>63845</td>\n",
       "      <td>106005.375</td>\n",
       "      <td>526734.998484</td>\n",
       "      <td>0.724138</td>\n",
       "      <td>0.724138</td>\n",
       "      <td>0.945299</td>\n",
       "    </tr>\n",
       "    <tr>\n",
       "      <th>1973-01-31</th>\n",
       "      <td>15580</td>\n",
       "      <td>4425.000</td>\n",
       "      <td>21987.586651</td>\n",
       "      <td>1.043478</td>\n",
       "      <td>1.043478</td>\n",
       "      <td>0.999527</td>\n",
       "    </tr>\n",
       "    <tr>\n",
       "      <th>1973-01-31</th>\n",
       "      <td>28820</td>\n",
       "      <td>6768.750</td>\n",
       "      <td>33633.554157</td>\n",
       "      <td>1.187500</td>\n",
       "      <td>1.187500</td>\n",
       "      <td>0.988575</td>\n",
       "    </tr>\n",
       "    <tr>\n",
       "      <th>1973-01-31</th>\n",
       "      <td>11253</td>\n",
       "      <td>3038.000</td>\n",
       "      <td>15095.658361</td>\n",
       "      <td>0.942308</td>\n",
       "      <td>0.942308</td>\n",
       "      <td>0.999527</td>\n",
       "    </tr>\n",
       "    <tr>\n",
       "      <th>1973-01-31</th>\n",
       "      <td>61903</td>\n",
       "      <td>766.500</td>\n",
       "      <td>3808.697213</td>\n",
       "      <td>0.954545</td>\n",
       "      <td>0.954545</td>\n",
       "      <td>1.015606</td>\n",
       "    </tr>\n",
       "  </tbody>\n",
       "</table>\n",
       "</div>"
      ],
      "text/plain": [
       "            permno          mv         mv_adj    ret_p1   retx_p1   dret_p1\n",
       "date                                                                       \n",
       "1973-01-31   63845  106005.375  526734.998484  0.724138  0.724138  0.945299\n",
       "1973-01-31   15580    4425.000   21987.586651  1.043478  1.043478  0.999527\n",
       "1973-01-31   28820    6768.750   33633.554157  1.187500  1.187500  0.988575\n",
       "1973-01-31   11253    3038.000   15095.658361  0.942308  0.942308  0.999527\n",
       "1973-01-31   61903     766.500    3808.697213  0.954545  0.954545  1.015606"
      ]
     },
     "execution_count": 5,
     "metadata": {},
     "output_type": "execute_result"
    }
   ],
   "source": [
    "crsp.head()"
   ]
  },
  {
   "cell_type": "code",
   "execution_count": 6,
   "metadata": {},
   "outputs": [],
   "source": [
    "def calendar_resample(df):\n",
    "    res = df.resample('Y').apply({'ret_p1':'cumprod', 'retx_p1':'cumprod',\n",
    "                                 'dret_p1':'cumprod'})\n",
    "    res = pd.concat([df.mv, df.mv_adj, res], axis=1)\n",
    "    res = res.resample('Y').last()\n",
    "    \n",
    "#     ret_p1 = df.ret_p1.cumprod().iloc[-1]\n",
    "#     retx_p1 = df.retx_p1.cumprod().iloc[-1]\n",
    "#     mv = df.mv.resample('Y').last().iloc[-1]\n",
    "#     mv_adj = df.mv_adj.resample('Y').last().iloc[-1]\n",
    "#     res = pd.DataFrame({'ret_p1':ret_p1, 'retx_p1':retx_p1,\n",
    "#                         'mv':mv, 'mv_adj':mv_adj}, index=[df.index[-1]])\n",
    "    return res"
   ]
  },
  {
   "cell_type": "code",
   "execution_count": 13,
   "metadata": {},
   "outputs": [],
   "source": [
    "# crsp[crsp.permno==77418].groupby('permno').apply(calendar_resample)"
   ]
  },
  {
   "cell_type": "code",
   "execution_count": 9,
   "metadata": {},
   "outputs": [
    {
     "name": "stdout",
     "output_type": "stream",
     "text": [
      "215.8994486\n"
     ]
    }
   ],
   "source": [
    "tic = time.perf_counter()\n",
    "crsp_ca = crsp.groupby('permno').apply(calendar_resample)\n",
    "toc = time.perf_counter()\n",
    "print(toc-tic)\n",
    "crsp_ca.reset_index().to_csv('data/crsp_ca.csv', index=False)"
   ]
  },
  {
   "cell_type": "code",
   "execution_count": 15,
   "metadata": {},
   "outputs": [],
   "source": [
    "crsp_ca = crsp_ca.reset_index()"
   ]
  },
  {
   "cell_type": "code",
   "execution_count": 90,
   "metadata": {},
   "outputs": [
    {
     "data": {
      "text/plain": [
       "(160224, 7)"
      ]
     },
     "execution_count": 90,
     "metadata": {},
     "output_type": "execute_result"
    }
   ],
   "source": [
    "crsp_ca[crsp_ca.mv_adj > 5e+4].shape"
   ]
  },
  {
   "cell_type": "code",
   "execution_count": 22,
   "metadata": {},
   "outputs": [],
   "source": [
    "def calc_exf(df):\n",
    "    exf = df.mv - df.mv.shift(1) * df.retx_p1\n",
    "    res = pd.DataFrame({\n",
    "        'date':df.date,\n",
    "        'mv':df.mv,\n",
    "        'mv_adj':df.mv_adj,\n",
    "        'ret_p1':df.ret_p1,\n",
    "        'retx_p1':df.retx_p1,\n",
    "        'dret_p1':df.dret_p1,\n",
    "        'exf':exf\n",
    "    })\n",
    "    return res"
   ]
  },
  {
   "cell_type": "code",
   "execution_count": 24,
   "metadata": {},
   "outputs": [],
   "source": [
    "sample = crsp_ca.query('permno == 77418').groupby('permno').apply(calc_exf)"
   ]
  },
  {
   "cell_type": "code",
   "execution_count": 25,
   "metadata": {
    "collapsed": true
   },
   "outputs": [
    {
     "data": {
      "text/html": [
       "<div>\n",
       "<style scoped>\n",
       "    .dataframe tbody tr th:only-of-type {\n",
       "        vertical-align: middle;\n",
       "    }\n",
       "\n",
       "    .dataframe tbody tr th {\n",
       "        vertical-align: top;\n",
       "    }\n",
       "\n",
       "    .dataframe thead th {\n",
       "        text-align: right;\n",
       "    }\n",
       "</style>\n",
       "<table border=\"1\" class=\"dataframe\">\n",
       "  <thead>\n",
       "    <tr style=\"text-align: right;\">\n",
       "      <th></th>\n",
       "      <th>date</th>\n",
       "      <th>mv</th>\n",
       "      <th>mv_adj</th>\n",
       "      <th>ret_p1</th>\n",
       "      <th>retx_p1</th>\n",
       "      <th>dret_p1</th>\n",
       "      <th>exf</th>\n",
       "    </tr>\n",
       "  </thead>\n",
       "  <tbody>\n",
       "    <tr>\n",
       "      <th>168264</th>\n",
       "      <td>1992-12-31</td>\n",
       "      <td>1.678072e+05</td>\n",
       "      <td>2.492911e+05</td>\n",
       "      <td>1.918033</td>\n",
       "      <td>1.918033</td>\n",
       "      <td>1.080662</td>\n",
       "      <td>NaN</td>\n",
       "    </tr>\n",
       "    <tr>\n",
       "      <th>168265</th>\n",
       "      <td>1993-12-31</td>\n",
       "      <td>4.111965e+05</td>\n",
       "      <td>5.941635e+05</td>\n",
       "      <td>2.000764</td>\n",
       "      <td>2.000001</td>\n",
       "      <td>1.170278</td>\n",
       "      <td>7.558184e+04</td>\n",
       "    </tr>\n",
       "    <tr>\n",
       "      <th>168266</th>\n",
       "      <td>1994-12-31</td>\n",
       "      <td>9.291520e+05</td>\n",
       "      <td>1.308600e+06</td>\n",
       "      <td>1.914528</td>\n",
       "      <td>1.914528</td>\n",
       "      <td>0.970260</td>\n",
       "      <td>1.419047e+05</td>\n",
       "    </tr>\n",
       "    <tr>\n",
       "      <th>168267</th>\n",
       "      <td>1995-12-31</td>\n",
       "      <td>3.246112e+06</td>\n",
       "      <td>4.458880e+06</td>\n",
       "      <td>2.678568</td>\n",
       "      <td>2.678568</td>\n",
       "      <td>1.260227</td>\n",
       "      <td>7.573156e+05</td>\n",
       "    </tr>\n",
       "    <tr>\n",
       "      <th>168268</th>\n",
       "      <td>1996-12-31</td>\n",
       "      <td>3.104486e+06</td>\n",
       "      <td>4.124966e+06</td>\n",
       "      <td>0.886665</td>\n",
       "      <td>0.886665</td>\n",
       "      <td>1.222912</td>\n",
       "      <td>2.262706e+05</td>\n",
       "    </tr>\n",
       "    <tr>\n",
       "      <th>168269</th>\n",
       "      <td>1997-12-31</td>\n",
       "      <td>9.313355e+06</td>\n",
       "      <td>1.216826e+07</td>\n",
       "      <td>2.721810</td>\n",
       "      <td>2.721810</td>\n",
       "      <td>1.322655</td>\n",
       "      <td>8.635347e+05</td>\n",
       "    </tr>\n",
       "    <tr>\n",
       "      <th>168270</th>\n",
       "      <td>1998-12-31</td>\n",
       "      <td>7.106990e+07</td>\n",
       "      <td>9.138707e+07</td>\n",
       "      <td>6.934765</td>\n",
       "      <td>6.934712</td>\n",
       "      <td>1.271768</td>\n",
       "      <td>6.484468e+06</td>\n",
       "    </tr>\n",
       "    <tr>\n",
       "      <th>168271</th>\n",
       "      <td>1999-12-31</td>\n",
       "      <td>1.696175e+08</td>\n",
       "      <td>2.124218e+08</td>\n",
       "      <td>1.956485</td>\n",
       "      <td>1.956485</td>\n",
       "      <td>1.232681</td>\n",
       "      <td>3.057033e+07</td>\n",
       "    </tr>\n",
       "    <tr>\n",
       "      <th>168272</th>\n",
       "      <td>2000-12-31</td>\n",
       "      <td>8.087910e+07</td>\n",
       "      <td>9.792485e+07</td>\n",
       "      <td>0.458649</td>\n",
       "      <td>0.458649</td>\n",
       "      <td>0.886900</td>\n",
       "      <td>3.084190e+06</td>\n",
       "    </tr>\n",
       "    <tr>\n",
       "      <th>168273</th>\n",
       "      <td>2001-12-31</td>\n",
       "      <td>1.365999e+08</td>\n",
       "      <td>1.627787e+08</td>\n",
       "      <td>0.922413</td>\n",
       "      <td>0.922413</td>\n",
       "      <td>0.863769</td>\n",
       "      <td>6.199592e+07</td>\n",
       "    </tr>\n",
       "    <tr>\n",
       "      <th>168274</th>\n",
       "      <td>2002-12-31</td>\n",
       "      <td>5.631639e+07</td>\n",
       "      <td>6.548499e+07</td>\n",
       "      <td>0.408099</td>\n",
       "      <td>0.408099</td>\n",
       "      <td>0.784459</td>\n",
       "      <td>5.700648e+05</td>\n",
       "    </tr>\n",
       "    <tr>\n",
       "      <th>168275</th>\n",
       "      <td>2003-12-31</td>\n",
       "      <td>7.826657e+07</td>\n",
       "      <td>8.919352e+07</td>\n",
       "      <td>1.373283</td>\n",
       "      <td>1.373283</td>\n",
       "      <td>1.299333</td>\n",
       "      <td>9.282606e+05</td>\n",
       "    </tr>\n",
       "    <tr>\n",
       "      <th>168276</th>\n",
       "      <td>2004-12-31</td>\n",
       "      <td>8.575871e+07</td>\n",
       "      <td>9.457078e+07</td>\n",
       "      <td>1.081156</td>\n",
       "      <td>1.081156</td>\n",
       "      <td>1.116584</td>\n",
       "      <td>1.140300e+06</td>\n",
       "    </tr>\n",
       "    <tr>\n",
       "      <th>168277</th>\n",
       "      <td>2005-12-31</td>\n",
       "      <td>7.979437e+07</td>\n",
       "      <td>8.515078e+07</td>\n",
       "      <td>0.901661</td>\n",
       "      <td>0.896659</td>\n",
       "      <td>1.072051</td>\n",
       "      <td>2.898036e+06</td>\n",
       "    </tr>\n",
       "    <tr>\n",
       "      <th>168278</th>\n",
       "      <td>2006-12-31</td>\n",
       "      <td>8.652264e+07</td>\n",
       "      <td>9.005767e+07</td>\n",
       "      <td>1.263697</td>\n",
       "      <td>1.248854</td>\n",
       "      <td>1.160715</td>\n",
       "      <td>-1.312886e+07</td>\n",
       "    </tr>\n",
       "    <tr>\n",
       "      <th>168279</th>\n",
       "      <td>2007-12-31</td>\n",
       "      <td>5.967698e+07</td>\n",
       "      <td>5.966371e+07</td>\n",
       "      <td>0.767318</td>\n",
       "      <td>0.758034</td>\n",
       "      <td>1.083138</td>\n",
       "      <td>-5.910087e+06</td>\n",
       "    </tr>\n",
       "    <tr>\n",
       "      <th>168280</th>\n",
       "      <td>2008-12-31</td>\n",
       "      <td>3.608984e+07</td>\n",
       "      <td>3.608984e+07</td>\n",
       "      <td>0.620778</td>\n",
       "      <td>0.609328</td>\n",
       "      <td>0.618783</td>\n",
       "      <td>-2.730212e+05</td>\n",
       "    </tr>\n",
       "  </tbody>\n",
       "</table>\n",
       "</div>"
      ],
      "text/plain": [
       "             date            mv        mv_adj    ret_p1   retx_p1   dret_p1  \\\n",
       "168264 1992-12-31  1.678072e+05  2.492911e+05  1.918033  1.918033  1.080662   \n",
       "168265 1993-12-31  4.111965e+05  5.941635e+05  2.000764  2.000001  1.170278   \n",
       "168266 1994-12-31  9.291520e+05  1.308600e+06  1.914528  1.914528  0.970260   \n",
       "168267 1995-12-31  3.246112e+06  4.458880e+06  2.678568  2.678568  1.260227   \n",
       "168268 1996-12-31  3.104486e+06  4.124966e+06  0.886665  0.886665  1.222912   \n",
       "168269 1997-12-31  9.313355e+06  1.216826e+07  2.721810  2.721810  1.322655   \n",
       "168270 1998-12-31  7.106990e+07  9.138707e+07  6.934765  6.934712  1.271768   \n",
       "168271 1999-12-31  1.696175e+08  2.124218e+08  1.956485  1.956485  1.232681   \n",
       "168272 2000-12-31  8.087910e+07  9.792485e+07  0.458649  0.458649  0.886900   \n",
       "168273 2001-12-31  1.365999e+08  1.627787e+08  0.922413  0.922413  0.863769   \n",
       "168274 2002-12-31  5.631639e+07  6.548499e+07  0.408099  0.408099  0.784459   \n",
       "168275 2003-12-31  7.826657e+07  8.919352e+07  1.373283  1.373283  1.299333   \n",
       "168276 2004-12-31  8.575871e+07  9.457078e+07  1.081156  1.081156  1.116584   \n",
       "168277 2005-12-31  7.979437e+07  8.515078e+07  0.901661  0.896659  1.072051   \n",
       "168278 2006-12-31  8.652264e+07  9.005767e+07  1.263697  1.248854  1.160715   \n",
       "168279 2007-12-31  5.967698e+07  5.966371e+07  0.767318  0.758034  1.083138   \n",
       "168280 2008-12-31  3.608984e+07  3.608984e+07  0.620778  0.609328  0.618783   \n",
       "\n",
       "                 exf  \n",
       "168264           NaN  \n",
       "168265  7.558184e+04  \n",
       "168266  1.419047e+05  \n",
       "168267  7.573156e+05  \n",
       "168268  2.262706e+05  \n",
       "168269  8.635347e+05  \n",
       "168270  6.484468e+06  \n",
       "168271  3.057033e+07  \n",
       "168272  3.084190e+06  \n",
       "168273  6.199592e+07  \n",
       "168274  5.700648e+05  \n",
       "168275  9.282606e+05  \n",
       "168276  1.140300e+06  \n",
       "168277  2.898036e+06  \n",
       "168278 -1.312886e+07  \n",
       "168279 -5.910087e+06  \n",
       "168280 -2.730212e+05  "
      ]
     },
     "execution_count": 25,
     "metadata": {},
     "output_type": "execute_result"
    }
   ],
   "source": []
  },
  {
   "cell_type": "code",
   "execution_count": 77,
   "metadata": {},
   "outputs": [],
   "source": [
    "writer = pd.ExcelWriter('data/example.xlsx', datetime_format='YYYY-MM-DD')\n",
    "sample.to_excel(writer, sheet_name='sample', index=False)\n",
    "writer.save()"
   ]
  },
  {
   "cell_type": "code",
   "execution_count": 76,
   "metadata": {},
   "outputs": [],
   "source": []
  },
  {
   "cell_type": "code",
   "execution_count": 73,
   "metadata": {},
   "outputs": [
    {
     "data": {
      "text/plain": [
       "date\n",
       "2002-12-31    0.520230\n",
       "2003-12-31    0.549838\n",
       "2004-12-31    0.532392\n",
       "2005-12-31    0.447775\n",
       "2006-12-31    0.487503\n",
       "dtype: float64"
      ]
     },
     "execution_count": 73,
     "metadata": {},
     "output_type": "execute_result"
    }
   ],
   "source": [
    "sample.set_index('date')['2002':'2006'].ret_p1.cumprod() / \\\n",
    "sample.set_index('date')['2002':'2006'].dret_p1.cumprod()"
   ]
  },
  {
   "cell_type": "code",
   "execution_count": 37,
   "metadata": {},
   "outputs": [],
   "source": [
    "def calc_wrt(df):\n",
    "    ret_p1_t = df.ret_p1.prod()\n",
    "#     retx_p1_t = df.retx_p1.prod()\n",
    "    dret_p1_t = df.dret_p1_t.prod()\n",
    "    return pd.DataFrame({\n",
    "        'ret_p1_t':ret_p1_t,\n",
    "        'dret_p1_t':dret_p1_t\n",
    "    })"
   ]
  },
  {
   "cell_type": "code",
   "execution_count": 52,
   "metadata": {
    "collapsed": true
   },
   "outputs": [
    {
     "data": {
      "text/plain": [
       "168264     9.227099\n",
       "168265    10.698182\n",
       "168266    34.121402\n",
       "168267    27.445991\n",
       "168268     6.677762\n",
       "168269     9.835455\n",
       "168270     2.486446\n",
       "168271     0.481942\n",
       "168272     0.294013\n",
       "168273     0.478177\n",
       "168274     0.487503\n",
       "168275     0.663855\n",
       "168276     0.630132\n",
       "168277     0.650781\n",
       "168278     0.773761\n",
       "168279     0.710705\n",
       "168280     1.003224\n",
       "dtype: float64"
      ]
     },
     "execution_count": 52,
     "metadata": {},
     "output_type": "execute_result"
    }
   ],
   "source": [
    "sample.ret_p1[::-1].rolling(5, min_periods=0).apply(np.prod, raw=True)[::-1] / \\\n",
    "sample.dret_p1[::-1].rolling(5, min_periods=0).apply(np.prod, raw=True)[::-1]"
   ]
  },
  {
   "cell_type": "code",
   "execution_count": null,
   "metadata": {},
   "outputs": [],
   "source": [
    "sample.cumprod()"
   ]
  },
  {
   "cell_type": "code",
   "execution_count": 79,
   "metadata": {},
   "outputs": [],
   "source": [
    "crsp_fa = pd.read_csv('data/crsp_fa.csv', \n",
    "                     parse_dates=['date'], infer_datetime_format=True)"
   ]
  },
  {
   "cell_type": "code",
   "execution_count": 80,
   "metadata": {
    "collapsed": true
   },
   "outputs": [
    {
     "data": {
      "text/html": [
       "<div>\n",
       "<style scoped>\n",
       "    .dataframe tbody tr th:only-of-type {\n",
       "        vertical-align: middle;\n",
       "    }\n",
       "\n",
       "    .dataframe tbody tr th {\n",
       "        vertical-align: top;\n",
       "    }\n",
       "\n",
       "    .dataframe thead th {\n",
       "        text-align: right;\n",
       "    }\n",
       "</style>\n",
       "<table border=\"1\" class=\"dataframe\">\n",
       "  <thead>\n",
       "    <tr style=\"text-align: right;\">\n",
       "      <th></th>\n",
       "      <th>date</th>\n",
       "      <th>permno</th>\n",
       "      <th>ret_p1</th>\n",
       "      <th>retx_p1</th>\n",
       "      <th>dret_p1</th>\n",
       "      <th>mv</th>\n",
       "      <th>mv_adj</th>\n",
       "    </tr>\n",
       "  </thead>\n",
       "  <tbody>\n",
       "    <tr>\n",
       "      <th>0</th>\n",
       "      <td>1986-10-31</td>\n",
       "      <td>10000</td>\n",
       "      <td>0.178571</td>\n",
       "      <td>0.178571</td>\n",
       "      <td>1.059979</td>\n",
       "      <td>3002.34375</td>\n",
       "      <td>5911.919982</td>\n",
       "    </tr>\n",
       "    <tr>\n",
       "      <th>1</th>\n",
       "      <td>1986-06-30</td>\n",
       "      <td>10001</td>\n",
       "      <td>1.032450</td>\n",
       "      <td>1.000000</td>\n",
       "      <td>1.252963</td>\n",
       "      <td>6033.12500</td>\n",
       "      <td>11992.517933</td>\n",
       "    </tr>\n",
       "    <tr>\n",
       "      <th>2</th>\n",
       "      <td>1987-06-30</td>\n",
       "      <td>10001</td>\n",
       "      <td>1.023885</td>\n",
       "      <td>0.959184</td>\n",
       "      <td>1.018842</td>\n",
       "      <td>5822.12500</td>\n",
       "      <td>11155.037611</td>\n",
       "    </tr>\n",
       "    <tr>\n",
       "      <th>3</th>\n",
       "      <td>1988-06-30</td>\n",
       "      <td>10001</td>\n",
       "      <td>1.140535</td>\n",
       "      <td>1.063829</td>\n",
       "      <td>0.827947</td>\n",
       "      <td>6200.00000</td>\n",
       "      <td>11426.022034</td>\n",
       "    </tr>\n",
       "    <tr>\n",
       "      <th>4</th>\n",
       "      <td>1989-06-30</td>\n",
       "      <td>10001</td>\n",
       "      <td>1.199811</td>\n",
       "      <td>1.120000</td>\n",
       "      <td>1.005611</td>\n",
       "      <td>7007.00000</td>\n",
       "      <td>12278.511209</td>\n",
       "    </tr>\n",
       "  </tbody>\n",
       "</table>\n",
       "</div>"
      ],
      "text/plain": [
       "        date  permno    ret_p1   retx_p1   dret_p1          mv        mv_adj\n",
       "0 1986-10-31   10000  0.178571  0.178571  1.059979  3002.34375   5911.919982\n",
       "1 1986-06-30   10001  1.032450  1.000000  1.252963  6033.12500  11992.517933\n",
       "2 1987-06-30   10001  1.023885  0.959184  1.018842  5822.12500  11155.037611\n",
       "3 1988-06-30   10001  1.140535  1.063829  0.827947  6200.00000  11426.022034\n",
       "4 1989-06-30   10001  1.199811  1.120000  1.005611  7007.00000  12278.511209"
      ]
     },
     "execution_count": 80,
     "metadata": {},
     "output_type": "execute_result"
    }
   ],
   "source": [
    "crsp_fa.head()"
   ]
  },
  {
   "cell_type": "code",
   "execution_count": 92,
   "metadata": {},
   "outputs": [
    {
     "data": {
      "text/plain": [
       "(145087, 7)"
      ]
     },
     "execution_count": 92,
     "metadata": {},
     "output_type": "execute_result"
    }
   ],
   "source": [
    "crsp_fa[crsp_fa.mv_adj > 5e+4].shape"
   ]
  },
  {
   "cell_type": "code",
   "execution_count": 84,
   "metadata": {},
   "outputs": [
    {
     "data": {
      "text/plain": [
       "5000000.0"
      ]
     },
     "execution_count": 84,
     "metadata": {},
     "output_type": "execute_result"
    }
   ],
   "source": [
    "5e+6"
   ]
  },
  {
   "cell_type": "code",
   "execution_count": 45,
   "metadata": {},
   "outputs": [],
   "source": [
    "sample_fa = crsp_fa.query('permno == 77418').groupby('permno').apply(calc_exf)"
   ]
  },
  {
   "cell_type": "code",
   "execution_count": 47,
   "metadata": {
    "collapsed": true
   },
   "outputs": [
    {
     "data": {
      "text/html": [
       "<div>\n",
       "<style scoped>\n",
       "    .dataframe tbody tr th:only-of-type {\n",
       "        vertical-align: middle;\n",
       "    }\n",
       "\n",
       "    .dataframe tbody tr th {\n",
       "        vertical-align: top;\n",
       "    }\n",
       "\n",
       "    .dataframe thead th {\n",
       "        text-align: right;\n",
       "    }\n",
       "</style>\n",
       "<table border=\"1\" class=\"dataframe\">\n",
       "  <thead>\n",
       "    <tr style=\"text-align: right;\">\n",
       "      <th></th>\n",
       "      <th>date</th>\n",
       "      <th>mv</th>\n",
       "      <th>mv_adj</th>\n",
       "      <th>ret_p1</th>\n",
       "      <th>retx_p1</th>\n",
       "      <th>dret_p1</th>\n",
       "      <th>exf</th>\n",
       "    </tr>\n",
       "  </thead>\n",
       "  <tbody>\n",
       "    <tr>\n",
       "      <th>147787</th>\n",
       "      <td>1992-06-30</td>\n",
       "      <td>7.399350e+04</td>\n",
       "      <td>1.148526e+05</td>\n",
       "      <td>0.885246</td>\n",
       "      <td>0.885246</td>\n",
       "      <td>0.902617</td>\n",
       "      <td>NaN</td>\n",
       "    </tr>\n",
       "    <tr>\n",
       "      <th>147788</th>\n",
       "      <td>1993-06-30</td>\n",
       "      <td>2.180040e+05</td>\n",
       "      <td>3.285364e+05</td>\n",
       "      <td>2.741783</td>\n",
       "      <td>2.740738</td>\n",
       "      <td>1.256202</td>\n",
       "      <td>1.520721e+04</td>\n",
       "    </tr>\n",
       "    <tr>\n",
       "      <th>147789</th>\n",
       "      <td>1994-06-30</td>\n",
       "      <td>4.129650e+05</td>\n",
       "      <td>6.071982e+05</td>\n",
       "      <td>1.540542</td>\n",
       "      <td>1.540542</td>\n",
       "      <td>1.046047</td>\n",
       "      <td>7.712078e+04</td>\n",
       "    </tr>\n",
       "    <tr>\n",
       "      <th>147790</th>\n",
       "      <td>1995-06-30</td>\n",
       "      <td>1.652420e+06</td>\n",
       "      <td>2.357875e+06</td>\n",
       "      <td>3.087717</td>\n",
       "      <td>3.087717</td>\n",
       "      <td>1.174147</td>\n",
       "      <td>3.773010e+05</td>\n",
       "    </tr>\n",
       "    <tr>\n",
       "      <th>147791</th>\n",
       "      <td>1996-06-30</td>\n",
       "      <td>3.935138e+06</td>\n",
       "      <td>5.461052e+06</td>\n",
       "      <td>1.988631</td>\n",
       "      <td>1.988631</td>\n",
       "      <td>1.220468</td>\n",
       "      <td>6.490840e+05</td>\n",
       "    </tr>\n",
       "    <tr>\n",
       "      <th>147792</th>\n",
       "      <td>1997-06-30</td>\n",
       "      <td>5.443073e+06</td>\n",
       "      <td>7.388683e+06</td>\n",
       "      <td>1.271430</td>\n",
       "      <td>1.271430</td>\n",
       "      <td>1.321836</td>\n",
       "      <td>4.398232e+05</td>\n",
       "    </tr>\n",
       "    <tr>\n",
       "      <th>147793</th>\n",
       "      <td>1998-06-30</td>\n",
       "      <td>2.272824e+07</td>\n",
       "      <td>3.035965e+07</td>\n",
       "      <td>3.823007</td>\n",
       "      <td>3.822978</td>\n",
       "      <td>1.302787</td>\n",
       "      <td>1.919487e+06</td>\n",
       "    </tr>\n",
       "    <tr>\n",
       "      <th>147794</th>\n",
       "      <td>1999-06-30</td>\n",
       "      <td>1.195158e+08</td>\n",
       "      <td>1.565678e+08</td>\n",
       "      <td>4.185493</td>\n",
       "      <td>4.185493</td>\n",
       "      <td>1.216303</td>\n",
       "      <td>2.438690e+07</td>\n",
       "    </tr>\n",
       "    <tr>\n",
       "      <th>147795</th>\n",
       "      <td>2000-06-30</td>\n",
       "      <td>1.216507e+08</td>\n",
       "      <td>1.536267e+08</td>\n",
       "      <td>0.957955</td>\n",
       "      <td>0.957955</td>\n",
       "      <td>1.091818</td>\n",
       "      <td>7.159994e+06</td>\n",
       "    </tr>\n",
       "    <tr>\n",
       "      <th>147796</th>\n",
       "      <td>2001-12-31</td>\n",
       "      <td>1.365999e+08</td>\n",
       "      <td>1.627787e+08</td>\n",
       "      <td>0.922413</td>\n",
       "      <td>0.922413</td>\n",
       "      <td>0.863769</td>\n",
       "      <td>2.438766e+07</td>\n",
       "    </tr>\n",
       "    <tr>\n",
       "      <th>147797</th>\n",
       "      <td>2002-12-31</td>\n",
       "      <td>5.631639e+07</td>\n",
       "      <td>6.548499e+07</td>\n",
       "      <td>0.408099</td>\n",
       "      <td>0.408099</td>\n",
       "      <td>0.784459</td>\n",
       "      <td>5.700648e+05</td>\n",
       "    </tr>\n",
       "    <tr>\n",
       "      <th>147798</th>\n",
       "      <td>2003-12-31</td>\n",
       "      <td>7.826657e+07</td>\n",
       "      <td>8.919352e+07</td>\n",
       "      <td>1.373283</td>\n",
       "      <td>1.373283</td>\n",
       "      <td>1.299333</td>\n",
       "      <td>9.282606e+05</td>\n",
       "    </tr>\n",
       "    <tr>\n",
       "      <th>147799</th>\n",
       "      <td>2004-12-31</td>\n",
       "      <td>8.575871e+07</td>\n",
       "      <td>9.457078e+07</td>\n",
       "      <td>1.081156</td>\n",
       "      <td>1.081156</td>\n",
       "      <td>1.116584</td>\n",
       "      <td>1.140300e+06</td>\n",
       "    </tr>\n",
       "    <tr>\n",
       "      <th>147800</th>\n",
       "      <td>2005-12-31</td>\n",
       "      <td>7.979437e+07</td>\n",
       "      <td>8.515078e+07</td>\n",
       "      <td>0.901661</td>\n",
       "      <td>0.896659</td>\n",
       "      <td>1.072051</td>\n",
       "      <td>2.898036e+06</td>\n",
       "    </tr>\n",
       "    <tr>\n",
       "      <th>147801</th>\n",
       "      <td>2006-12-31</td>\n",
       "      <td>8.652264e+07</td>\n",
       "      <td>9.005767e+07</td>\n",
       "      <td>1.263697</td>\n",
       "      <td>1.248854</td>\n",
       "      <td>1.160715</td>\n",
       "      <td>-1.312886e+07</td>\n",
       "    </tr>\n",
       "    <tr>\n",
       "      <th>147802</th>\n",
       "      <td>2007-12-31</td>\n",
       "      <td>5.967698e+07</td>\n",
       "      <td>5.966371e+07</td>\n",
       "      <td>0.767318</td>\n",
       "      <td>0.758034</td>\n",
       "      <td>1.083138</td>\n",
       "      <td>-5.910087e+06</td>\n",
       "    </tr>\n",
       "    <tr>\n",
       "      <th>147803</th>\n",
       "      <td>2008-12-31</td>\n",
       "      <td>3.608984e+07</td>\n",
       "      <td>3.608984e+07</td>\n",
       "      <td>0.620778</td>\n",
       "      <td>0.609328</td>\n",
       "      <td>0.618783</td>\n",
       "      <td>-2.730212e+05</td>\n",
       "    </tr>\n",
       "  </tbody>\n",
       "</table>\n",
       "</div>"
      ],
      "text/plain": [
       "             date            mv        mv_adj    ret_p1   retx_p1   dret_p1  \\\n",
       "147787 1992-06-30  7.399350e+04  1.148526e+05  0.885246  0.885246  0.902617   \n",
       "147788 1993-06-30  2.180040e+05  3.285364e+05  2.741783  2.740738  1.256202   \n",
       "147789 1994-06-30  4.129650e+05  6.071982e+05  1.540542  1.540542  1.046047   \n",
       "147790 1995-06-30  1.652420e+06  2.357875e+06  3.087717  3.087717  1.174147   \n",
       "147791 1996-06-30  3.935138e+06  5.461052e+06  1.988631  1.988631  1.220468   \n",
       "147792 1997-06-30  5.443073e+06  7.388683e+06  1.271430  1.271430  1.321836   \n",
       "147793 1998-06-30  2.272824e+07  3.035965e+07  3.823007  3.822978  1.302787   \n",
       "147794 1999-06-30  1.195158e+08  1.565678e+08  4.185493  4.185493  1.216303   \n",
       "147795 2000-06-30  1.216507e+08  1.536267e+08  0.957955  0.957955  1.091818   \n",
       "147796 2001-12-31  1.365999e+08  1.627787e+08  0.922413  0.922413  0.863769   \n",
       "147797 2002-12-31  5.631639e+07  6.548499e+07  0.408099  0.408099  0.784459   \n",
       "147798 2003-12-31  7.826657e+07  8.919352e+07  1.373283  1.373283  1.299333   \n",
       "147799 2004-12-31  8.575871e+07  9.457078e+07  1.081156  1.081156  1.116584   \n",
       "147800 2005-12-31  7.979437e+07  8.515078e+07  0.901661  0.896659  1.072051   \n",
       "147801 2006-12-31  8.652264e+07  9.005767e+07  1.263697  1.248854  1.160715   \n",
       "147802 2007-12-31  5.967698e+07  5.966371e+07  0.767318  0.758034  1.083138   \n",
       "147803 2008-12-31  3.608984e+07  3.608984e+07  0.620778  0.609328  0.618783   \n",
       "\n",
       "                 exf  \n",
       "147787           NaN  \n",
       "147788  1.520721e+04  \n",
       "147789  7.712078e+04  \n",
       "147790  3.773010e+05  \n",
       "147791  6.490840e+05  \n",
       "147792  4.398232e+05  \n",
       "147793  1.919487e+06  \n",
       "147794  2.438690e+07  \n",
       "147795  7.159994e+06  \n",
       "147796  2.438766e+07  \n",
       "147797  5.700648e+05  \n",
       "147798  9.282606e+05  \n",
       "147799  1.140300e+06  \n",
       "147800  2.898036e+06  \n",
       "147801 -1.312886e+07  \n",
       "147802 -5.910087e+06  \n",
       "147803 -2.730212e+05  "
      ]
     },
     "execution_count": 47,
     "metadata": {},
     "output_type": "execute_result"
    }
   ],
   "source": [
    "sample_fa"
   ]
  },
  {
   "cell_type": "code",
   "execution_count": 48,
   "metadata": {
    "collapsed": true
   },
   "outputs": [
    {
     "data": {
      "text/plain": [
       "147787    13.508259\n",
       "147788    13.248084\n",
       "147789    17.811951\n",
       "147790    41.619246\n",
       "147791    13.885897\n",
       "147792     9.100687\n",
       "147793     4.922155\n",
       "147794     1.772812\n",
       "147795     0.498832\n",
       "147796     0.478177\n",
       "147797     0.487503\n",
       "147798     0.663855\n",
       "147799     0.630132\n",
       "147800     0.650781\n",
       "147801     0.773761\n",
       "147802     0.710705\n",
       "147803     1.003224\n",
       "dtype: float64"
      ]
     },
     "execution_count": 48,
     "metadata": {},
     "output_type": "execute_result"
    }
   ],
   "source": [
    "sample_fa.ret_p1[::-1].rolling(5, min_periods=0).apply(np.prod, raw=True)[::-1] / \\\n",
    "sample_fa.dret_p1[::-1].rolling(5, min_periods=0).apply(np.prod, raw=True)[::-1]"
   ]
  },
  {
   "cell_type": "code",
   "execution_count": 58,
   "metadata": {},
   "outputs": [],
   "source": [
    "sample_ret = sample.ret_p1.round(4)"
   ]
  },
  {
   "cell_type": "code",
   "execution_count": 59,
   "metadata": {},
   "outputs": [],
   "source": [
    "sample_dret = sample.dret_p1.round(4)"
   ]
  },
  {
   "cell_type": "code",
   "execution_count": 60,
   "metadata": {},
   "outputs": [
    {
     "data": {
      "text/plain": [
       "168264     9.226849\n",
       "168265    10.698055\n",
       "168266    34.120349\n",
       "168267    27.446476\n",
       "168268     6.676942\n",
       "168269     9.833269\n",
       "168270     2.485860\n",
       "168271     0.481856\n",
       "168272     0.293970\n",
       "168273     0.478157\n",
       "168274     0.487516\n",
       "168275     0.663914\n",
       "168276     0.630169\n",
       "168277     0.650802\n",
       "168278     0.773788\n",
       "168279     0.710719\n",
       "168280     1.003232\n",
       "dtype: float64"
      ]
     },
     "execution_count": 60,
     "metadata": {},
     "output_type": "execute_result"
    }
   ],
   "source": [
    "sample_ret[::-1].rolling(5, min_periods=0).apply(np.prod, raw=True)[::-1] / \\\n",
    "sample_dret[::-1].rolling(5, min_periods=0).apply(np.prod, raw=True)[::-1]"
   ]
  },
  {
   "cell_type": "code",
   "execution_count": 61,
   "metadata": {},
   "outputs": [],
   "source": [
    "decile_return = pd.read_csv('data/decile_return.zip')"
   ]
  },
  {
   "cell_type": "code",
   "execution_count": 69,
   "metadata": {},
   "outputs": [
    {
     "data": {
      "text/plain": [
       "date\n",
       "2000-01-31    0.955385\n",
       "2000-02-29    0.973068\n",
       "2000-03-31    1.039210\n",
       "2000-04-28    0.983929\n",
       "2000-05-31    0.948141\n",
       "2000-06-30    0.991265\n",
       "2000-07-31    0.976189\n",
       "2000-08-31    1.049117\n",
       "2000-09-29    0.993515\n",
       "2000-10-31    0.974344\n",
       "2000-11-30    0.876169\n",
       "2000-12-29    0.886900\n",
       "Name: decret, dtype: float64"
      ]
     },
     "execution_count": 69,
     "metadata": {},
     "output_type": "execute_result"
    }
   ],
   "source": [
    "(decile_return[decile_return.permno==77418].set_index('date')['2000':'2001'].decret + 1).\\\n",
    "cumprod()"
   ]
  }
 ],
 "metadata": {
  "kernelspec": {
   "display_name": "Python (quant)",
   "language": "python",
   "name": "quant"
  },
  "language_info": {
   "codemirror_mode": {
    "name": "ipython",
    "version": 3
   },
   "file_extension": ".py",
   "mimetype": "text/x-python",
   "name": "python",
   "nbconvert_exporter": "python",
   "pygments_lexer": "ipython3",
   "version": "3.6.6"
  },
  "toc": {
   "base_numbering": 1,
   "nav_menu": {},
   "number_sections": true,
   "sideBar": true,
   "skip_h1_title": false,
   "title_cell": "Table of Contents",
   "title_sidebar": "Contents",
   "toc_cell": false,
   "toc_position": {},
   "toc_section_display": true,
   "toc_window_display": false
  },
  "varInspector": {
   "cols": {
    "lenName": 16,
    "lenType": 16,
    "lenVar": 40
   },
   "kernels_config": {
    "python": {
     "delete_cmd_postfix": "",
     "delete_cmd_prefix": "del ",
     "library": "var_list.py",
     "varRefreshCmd": "print(var_dic_list())"
    },
    "r": {
     "delete_cmd_postfix": ") ",
     "delete_cmd_prefix": "rm(",
     "library": "var_list.r",
     "varRefreshCmd": "cat(var_dic_list()) "
    }
   },
   "position": {
    "height": "558px",
    "left": "900px",
    "right": "20px",
    "top": "120px",
    "width": "350px"
   },
   "types_to_exclude": [
    "module",
    "function",
    "builtin_function_or_method",
    "instance",
    "_Feature"
   ],
   "window_display": false
  }
 },
 "nbformat": 4,
 "nbformat_minor": 2
}
