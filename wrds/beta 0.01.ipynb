{
 "cells": [
  {
   "cell_type": "markdown",
   "metadata": {},
   "source": [
    "现在的问题是可以做的办法太麻烦\n",
    "\n",
    "不好做的部分又不可行"
   ]
  },
  {
   "cell_type": "code",
   "execution_count": 1,
   "metadata": {},
   "outputs": [
    {
     "data": {
      "text/plain": [
       "7500000"
      ]
     },
     "execution_count": 1,
     "metadata": {},
     "output_type": "execute_result"
    }
   ],
   "source": [
    "3000 * 2500"
   ]
  },
  {
   "cell_type": "code",
   "execution_count": 21,
   "metadata": {},
   "outputs": [
    {
     "name": "stdout",
     "output_type": "stream",
     "text": [
      "Loading library list...\n",
      "Done\n"
     ]
    }
   ],
   "source": [
    "import wrds\n",
    "db = wrds.Connection(wrds_username='kpu2019')"
   ]
  },
  {
   "cell_type": "code",
   "execution_count": 28,
   "metadata": {},
   "outputs": [
    {
     "data": {
      "text/plain": [
       "['aha_sample',\n",
       " 'ahasamp',\n",
       " 'audit',\n",
       " 'audit_audit_comp',\n",
       " 'audit_corp_legal',\n",
       " 'block',\n",
       " 'boardex_trial',\n",
       " 'calcbench_trial',\n",
       " 'calcbnch',\n",
       " 'cboe',\n",
       " 'centris',\n",
       " 'ciq',\n",
       " 'ciq_common',\n",
       " 'clrvt',\n",
       " 'clrvtsmp',\n",
       " 'comp',\n",
       " 'comp_bank',\n",
       " 'comp_bank_daily',\n",
       " 'comp_execucomp',\n",
       " 'comp_global',\n",
       " 'comp_global_daily',\n",
       " 'comp_segments_hist',\n",
       " 'comp_segments_hist_daily',\n",
       " 'compa',\n",
       " 'compb',\n",
       " 'compbd',\n",
       " 'compd',\n",
       " 'compdcur',\n",
       " 'compg',\n",
       " 'compgd',\n",
       " 'compm',\n",
       " 'compnad',\n",
       " 'compsamp_snapshot',\n",
       " 'compseg',\n",
       " 'compsegd',\n",
       " 'contrib',\n",
       " 'contrib_char_returns',\n",
       " 'crsp',\n",
       " 'crsp_a_ccm',\n",
       " 'crsp_a_indexes',\n",
       " 'crsp_a_stock',\n",
       " 'crsp_a_treasuries',\n",
       " 'crsp_q_indexhist',\n",
       " 'crsp_q_mutualfunds',\n",
       " 'crspa',\n",
       " 'crspm',\n",
       " 'crspq',\n",
       " 'csmar',\n",
       " 'csmar_cg',\n",
       " 'dealscan',\n",
       " 'djones',\n",
       " 'dmef',\n",
       " 'doe',\n",
       " 'etfg_samp',\n",
       " 'etfgsamp',\n",
       " 'eureka',\n",
       " 'eurekahedge_sample',\n",
       " 'execcomp',\n",
       " 'factsamp_revere',\n",
       " 'ff',\n",
       " 'ff_all_new',\n",
       " 'frb',\n",
       " 'frb_all_new',\n",
       " 'ftse',\n",
       " 'ginsight',\n",
       " 'gmi',\n",
       " 'gmi_all_new',\n",
       " 'gsi',\n",
       " 'hfr',\n",
       " 'hfrsamp_hfrdb',\n",
       " 'ibes',\n",
       " 'ibeskpi',\n",
       " 'ifgr',\n",
       " 'ims',\n",
       " 'ims_obp_trial',\n",
       " 'infogroupsamp_business',\n",
       " 'infogroupsamp_residential',\n",
       " 'ktmine',\n",
       " 'ktmine_patents_samp',\n",
       " 'levin',\n",
       " 'macrofin',\n",
       " 'macrofin_comm_trade',\n",
       " 'markit',\n",
       " 'mrktsamp_cds',\n",
       " 'mrktsamp_cdx',\n",
       " 'mrktsamp_msf',\n",
       " 'msfinst',\n",
       " 'msrb',\n",
       " 'optionm',\n",
       " 'optionmsamp_europe',\n",
       " 'optionmsamp_us',\n",
       " 'otc',\n",
       " 'otc_endofday',\n",
       " 'phlx',\n",
       " 'ppubsamp_d4d',\n",
       " 'public',\n",
       " 'pwt',\n",
       " 'ravenpack_trial',\n",
       " 'rent',\n",
       " 'reprisk_sample',\n",
       " 'revere',\n",
       " 'sdc',\n",
       " 'secsamp',\n",
       " 'secsamp_all_new',\n",
       " 'snlsamp_fig',\n",
       " 'tass',\n",
       " 'tfn',\n",
       " 'totalq',\n",
       " 'tr_13f',\n",
       " 'tr_dealscan',\n",
       " 'tr_ibes',\n",
       " 'tr_ibes_guidance',\n",
       " 'tr_ibeskpi',\n",
       " 'tr_insiders',\n",
       " 'tr_ownership',\n",
       " 'tr_sdc',\n",
       " 'tr_sdc_ma',\n",
       " 'tr_sdc_ni',\n",
       " 'tr_tass',\n",
       " 'tr_worldscope',\n",
       " 'trace',\n",
       " 'trace_enhanced',\n",
       " 'trace_standard',\n",
       " 'trown',\n",
       " 'trsdcgs',\n",
       " 'trws',\n",
       " 'twoiq_samp',\n",
       " 'wrds_lib_internal',\n",
       " 'wrdsapps',\n",
       " 'wrdsapps_evtravtaq',\n",
       " 'wrdsapps_finratios',\n",
       " 'wrdsrpts',\n",
       " 'wrdsrpts_rep_usage',\n",
       " 'wrdssec',\n",
       " 'zacks']"
      ]
     },
     "execution_count": 28,
     "metadata": {},
     "output_type": "execute_result"
    }
   ],
   "source": [
    "db."
   ]
  },
  {
   "cell_type": "code",
   "execution_count": 2,
   "metadata": {},
   "outputs": [],
   "source": [
    "%load_ext autoreload\n",
    "%autoreload 2"
   ]
  },
  {
   "cell_type": "code",
   "execution_count": 3,
   "metadata": {},
   "outputs": [],
   "source": [
    "import numpy as np\n",
    "import pandas as pd\n",
    "import matplotlib.pyplot as plt\n",
    "import seaborn as sns\n",
    "import statsmodels.api as sm\n",
    "# import scipy\n",
    "# import tushare as ts\n",
    "import wrds\n",
    "import talib as ta\n",
    "import datetime, time\n"
   ]
  },
  {
   "cell_type": "code",
   "execution_count": 4,
   "metadata": {},
   "outputs": [],
   "source": [
    "plt.rcParams['figure.figsize'] = [12, 8]\n",
    "plt.rcParams['image.interpolation'] = 'nearest'\n",
    "plt.rcParams['image.cmap'] = 'gray'\n",
    "plt.style.use('ggplot')"
   ]
  },
  {
   "cell_type": "markdown",
   "metadata": {},
   "source": [
    "retrieve data from csv"
   ]
  },
  {
   "cell_type": "code",
   "execution_count": 16,
   "metadata": {},
   "outputs": [],
   "source": [
    "data_fund = pd.read_csv('data/query7-replace some data in query6.zip',\n",
    "                         parse_dates=['datadate'], infer_datetime_format=True,\n",
    "                         dtype={'cusip':str, 'gvkey':str})"
   ]
  },
  {
   "cell_type": "code",
   "execution_count": 6,
   "metadata": {},
   "outputs": [],
   "source": [
    "data_return = pd.read_csv('data/return.zip', parse_dates=['date'], infer_datetime_format=True,\n",
    "                  dtype={'PERMCO':str, 'CUSIP':str, 'PERMNO':str})\n",
    "# data = pd.read_csv('query3.csv', parse_dates=['date'], infer_datetime_format=True,)\n",
    "                   #dtype={'PRC':np.float64, 'SHROUT':np.float64})\n",
    "data_return = data_return.set_index('date')\n",
    "data_return.RET = data_return.RET.replace(['B', 'C'], [np.nan, np.nan]).astype(np.float64)\n",
    "data_return.RETX = data_return.RETX.replace(['B', 'C'], [np.nan, np.nan]).astype(np.float64)\n",
    "# data_return = data_return.assign(MV=data_return.PRC.abs() * data_return.SHROUT,\n",
    "#                           RET_PLUS=data_return.RET+1,\n",
    "#                           RETX_PLUS=data_return.RETX+1)\n",
    "# data_return = data_return.set_index(['date', 'PERMCO'])"
   ]
  },
  {
   "cell_type": "markdown",
   "metadata": {},
   "source": [
    "看一下两个表各有多少个标的"
   ]
  },
  {
   "cell_type": "code",
   "execution_count": 29,
   "metadata": {},
   "outputs": [
    {
     "data": {
      "text/html": [
       "<div>\n",
       "<style scoped>\n",
       "    .dataframe tbody tr th:only-of-type {\n",
       "        vertical-align: middle;\n",
       "    }\n",
       "\n",
       "    .dataframe tbody tr th {\n",
       "        vertical-align: top;\n",
       "    }\n",
       "\n",
       "    .dataframe thead th {\n",
       "        text-align: right;\n",
       "    }\n",
       "</style>\n",
       "<table border=\"1\" class=\"dataframe\">\n",
       "  <thead>\n",
       "    <tr style=\"text-align: right;\">\n",
       "      <th></th>\n",
       "      <th>gvkey</th>\n",
       "      <th>datadate</th>\n",
       "      <th>fyearq</th>\n",
       "      <th>fqtr</th>\n",
       "      <th>indfmt</th>\n",
       "      <th>consol</th>\n",
       "      <th>popsrc</th>\n",
       "      <th>datafmt</th>\n",
       "      <th>tic</th>\n",
       "      <th>cusip</th>\n",
       "      <th>conm</th>\n",
       "      <th>curcdq</th>\n",
       "      <th>datacqtr</th>\n",
       "      <th>datafqtr</th>\n",
       "      <th>dlttq</th>\n",
       "      <th>oiadpq</th>\n",
       "      <th>pstkq</th>\n",
       "      <th>exchg</th>\n",
       "      <th>costat</th>\n",
       "      <th>mkvaltq</th>\n",
       "    </tr>\n",
       "  </thead>\n",
       "  <tbody>\n",
       "    <tr>\n",
       "      <th>0</th>\n",
       "      <td>001000</td>\n",
       "      <td>1973-03-31</td>\n",
       "      <td>1973</td>\n",
       "      <td>1</td>\n",
       "      <td>INDL</td>\n",
       "      <td>C</td>\n",
       "      <td>D</td>\n",
       "      <td>STD</td>\n",
       "      <td>AE.2</td>\n",
       "      <td>000032102</td>\n",
       "      <td>A &amp; E PLASTIK PAK INC</td>\n",
       "      <td>USD</td>\n",
       "      <td>1973Q1</td>\n",
       "      <td>1973Q1</td>\n",
       "      <td>7.0</td>\n",
       "      <td>NaN</td>\n",
       "      <td>0.0</td>\n",
       "      <td>12.0</td>\n",
       "      <td>I</td>\n",
       "      <td>NaN</td>\n",
       "    </tr>\n",
       "    <tr>\n",
       "      <th>1</th>\n",
       "      <td>001000</td>\n",
       "      <td>1973-06-30</td>\n",
       "      <td>1973</td>\n",
       "      <td>2</td>\n",
       "      <td>INDL</td>\n",
       "      <td>C</td>\n",
       "      <td>D</td>\n",
       "      <td>STD</td>\n",
       "      <td>AE.2</td>\n",
       "      <td>000032102</td>\n",
       "      <td>A &amp; E PLASTIK PAK INC</td>\n",
       "      <td>USD</td>\n",
       "      <td>1973Q2</td>\n",
       "      <td>1973Q2</td>\n",
       "      <td>7.0</td>\n",
       "      <td>NaN</td>\n",
       "      <td>0.0</td>\n",
       "      <td>12.0</td>\n",
       "      <td>I</td>\n",
       "      <td>NaN</td>\n",
       "    </tr>\n",
       "    <tr>\n",
       "      <th>2</th>\n",
       "      <td>001000</td>\n",
       "      <td>1973-09-30</td>\n",
       "      <td>1973</td>\n",
       "      <td>3</td>\n",
       "      <td>INDL</td>\n",
       "      <td>C</td>\n",
       "      <td>D</td>\n",
       "      <td>STD</td>\n",
       "      <td>AE.2</td>\n",
       "      <td>000032102</td>\n",
       "      <td>A &amp; E PLASTIK PAK INC</td>\n",
       "      <td>USD</td>\n",
       "      <td>1973Q3</td>\n",
       "      <td>1973Q3</td>\n",
       "      <td>7.0</td>\n",
       "      <td>NaN</td>\n",
       "      <td>0.0</td>\n",
       "      <td>12.0</td>\n",
       "      <td>I</td>\n",
       "      <td>NaN</td>\n",
       "    </tr>\n",
       "    <tr>\n",
       "      <th>3</th>\n",
       "      <td>001000</td>\n",
       "      <td>1973-12-31</td>\n",
       "      <td>1973</td>\n",
       "      <td>4</td>\n",
       "      <td>INDL</td>\n",
       "      <td>C</td>\n",
       "      <td>D</td>\n",
       "      <td>STD</td>\n",
       "      <td>AE.2</td>\n",
       "      <td>000032102</td>\n",
       "      <td>A &amp; E PLASTIK PAK INC</td>\n",
       "      <td>USD</td>\n",
       "      <td>1973Q4</td>\n",
       "      <td>1973Q4</td>\n",
       "      <td>7.0</td>\n",
       "      <td>3.837</td>\n",
       "      <td>0.0</td>\n",
       "      <td>12.0</td>\n",
       "      <td>I</td>\n",
       "      <td>NaN</td>\n",
       "    </tr>\n",
       "    <tr>\n",
       "      <th>4</th>\n",
       "      <td>001000</td>\n",
       "      <td>1974-03-31</td>\n",
       "      <td>1974</td>\n",
       "      <td>1</td>\n",
       "      <td>INDL</td>\n",
       "      <td>C</td>\n",
       "      <td>D</td>\n",
       "      <td>STD</td>\n",
       "      <td>AE.2</td>\n",
       "      <td>000032102</td>\n",
       "      <td>A &amp; E PLASTIK PAK INC</td>\n",
       "      <td>USD</td>\n",
       "      <td>1974Q1</td>\n",
       "      <td>1974Q1</td>\n",
       "      <td>7.0</td>\n",
       "      <td>NaN</td>\n",
       "      <td>0.0</td>\n",
       "      <td>12.0</td>\n",
       "      <td>I</td>\n",
       "      <td>NaN</td>\n",
       "    </tr>\n",
       "  </tbody>\n",
       "</table>\n",
       "</div>"
      ],
      "text/plain": [
       "    gvkey   datadate  fyearq  fqtr indfmt consol popsrc datafmt   tic  \\\n",
       "0  001000 1973-03-31    1973     1   INDL      C      D     STD  AE.2   \n",
       "1  001000 1973-06-30    1973     2   INDL      C      D     STD  AE.2   \n",
       "2  001000 1973-09-30    1973     3   INDL      C      D     STD  AE.2   \n",
       "3  001000 1973-12-31    1973     4   INDL      C      D     STD  AE.2   \n",
       "4  001000 1974-03-31    1974     1   INDL      C      D     STD  AE.2   \n",
       "\n",
       "       cusip                   conm curcdq datacqtr datafqtr  dlttq  oiadpq  \\\n",
       "0  000032102  A & E PLASTIK PAK INC    USD   1973Q1   1973Q1    7.0     NaN   \n",
       "1  000032102  A & E PLASTIK PAK INC    USD   1973Q2   1973Q2    7.0     NaN   \n",
       "2  000032102  A & E PLASTIK PAK INC    USD   1973Q3   1973Q3    7.0     NaN   \n",
       "3  000032102  A & E PLASTIK PAK INC    USD   1973Q4   1973Q4    7.0   3.837   \n",
       "4  000032102  A & E PLASTIK PAK INC    USD   1974Q1   1974Q1    7.0     NaN   \n",
       "\n",
       "   pstkq  exchg costat  mkvaltq  \n",
       "0    0.0   12.0      I      NaN  \n",
       "1    0.0   12.0      I      NaN  \n",
       "2    0.0   12.0      I      NaN  \n",
       "3    0.0   12.0      I      NaN  \n",
       "4    0.0   12.0      I      NaN  "
      ]
     },
     "execution_count": 29,
     "metadata": {},
     "output_type": "execute_result"
    }
   ],
   "source": [
    "data_fund.head()"
   ]
  },
  {
   "cell_type": "code",
   "execution_count": 17,
   "metadata": {
    "collapsed": true
   },
   "outputs": [
    {
     "data": {
      "text/plain": [
       "010787    147\n",
       "009538    146\n",
       "003969    146\n",
       "002538    146\n",
       "001327    146\n",
       "009611    146\n",
       "003708    146\n",
       "011669    146\n",
       "006534    146\n",
       "008387    146\n",
       "007750    146\n",
       "002061    146\n",
       "002497    146\n",
       "008240    146\n",
       "002791    146\n",
       "011537    146\n",
       "008633    145\n",
       "006506    145\n",
       "002916    145\n",
       "003639    145\n",
       "008219    145\n",
       "011220    145\n",
       "002271    145\n",
       "010862    145\n",
       "011296    145\n",
       "007733    145\n",
       "010801    145\n",
       "006268    145\n",
       "007152    145\n",
       "005639    145\n",
       "         ... \n",
       "165230      1\n",
       "177942      1\n",
       "181875      1\n",
       "181876      1\n",
       "178207      1\n",
       "174365      1\n",
       "009286      1\n",
       "142603      1\n",
       "180506      1\n",
       "181733      1\n",
       "181651      1\n",
       "181873      1\n",
       "181701      1\n",
       "177565      1\n",
       "010074      1\n",
       "001175      1\n",
       "181653      1\n",
       "181654      1\n",
       "183731      1\n",
       "181272      1\n",
       "178209      1\n",
       "142501      1\n",
       "184689      1\n",
       "144103      1\n",
       "181729      1\n",
       "181912      1\n",
       "178303      1\n",
       "181728      1\n",
       "186725      1\n",
       "181703      1\n",
       "Name: gvkey, Length: 29489, dtype: int64"
      ]
     },
     "execution_count": 17,
     "metadata": {},
     "output_type": "execute_result"
    }
   ],
   "source": [
    "data_fund.gvkey.value_counts()"
   ]
  },
  {
   "cell_type": "code",
   "execution_count": 32,
   "metadata": {
    "scrolled": true
   },
   "outputs": [
    {
     "data": {
      "text/plain": [
       "Index(['G91442106', '95058W100', '817565104', '502470107', '254543101',\n",
       "       '988858106', '068798107', '811543107', '576323109', '88033G407',\n",
       "       ...\n",
       "       '652507104', '20824F108', '008086100', '71646R309', '25459Y694',\n",
       "       '46429K101', '760113100', '464288166', '74623K107', '74347W353'],\n",
       "      dtype='object', length=29476)"
      ]
     },
     "execution_count": 32,
     "metadata": {},
     "output_type": "execute_result"
    }
   ],
   "source": [
    "data_fund.cusip.value_counts().index"
   ]
  },
  {
   "cell_type": "code",
   "execution_count": 14,
   "metadata": {
    "collapsed": true
   },
   "outputs": [
    {
     "data": {
      "text/plain": [
       "(2986697, 9)"
      ]
     },
     "execution_count": 14,
     "metadata": {},
     "output_type": "execute_result"
    }
   ],
   "source": [
    "data_return.shape"
   ]
  },
  {
   "cell_type": "code",
   "execution_count": 12,
   "metadata": {
    "collapsed": true
   },
   "outputs": [
    {
     "data": {
      "text/plain": [
       "03976210    432\n",
       "14912310    432\n",
       "12770310    432\n",
       "29605610    432\n",
       "16808810    432\n",
       "25454310    432\n",
       "17123210    432\n",
       "05534B76    432\n",
       "40423210    432\n",
       "84790A10    432\n",
       "82654610    432\n",
       "85206110    432\n",
       "43147510    432\n",
       "78463510    432\n",
       "26414710    432\n",
       "50069210    432\n",
       "60855410    432\n",
       "55277P10    432\n",
       "04418610    432\n",
       "G5150210    432\n",
       "63754610    432\n",
       "90467720    432\n",
       "45920010    432\n",
       "46981410    432\n",
       "87655330    432\n",
       "35351410    432\n",
       "15670010    432\n",
       "29101110    432\n",
       "29482160    432\n",
       "96214910    432\n",
       "           ... \n",
       "60872720      1\n",
       "37038810      1\n",
       "85356410      1\n",
       "25490K81      1\n",
       "97239110      1\n",
       "58133410      1\n",
       "25459W73      1\n",
       "32529710      1\n",
       "78464A33      1\n",
       "92828Q10      1\n",
       "92211910      1\n",
       "69347810      1\n",
       "19650410      1\n",
       "00923010      1\n",
       "13680710      1\n",
       "55171510      1\n",
       "46428811      1\n",
       "25720110      1\n",
       "29642510      1\n",
       "29383920      1\n",
       "67984210      1\n",
       "83172F20      1\n",
       "92189F83      1\n",
       "97209910      1\n",
       "37989210      1\n",
       "23323710      1\n",
       "90253910      1\n",
       "68386C60      1\n",
       "59425310      1\n",
       "89099090      1\n",
       "Name: CUSIP, Length: 26501, dtype: int64"
      ]
     },
     "execution_count": 12,
     "metadata": {},
     "output_type": "execute_result"
    }
   ],
   "source": [
    "data_return.CUSIP.value_counts()"
   ]
  },
  {
   "cell_type": "code",
   "execution_count": 37,
   "metadata": {},
   "outputs": [
    {
     "data": {
      "text/plain": [
       "29476"
      ]
     },
     "execution_count": 37,
     "metadata": {},
     "output_type": "execute_result"
    }
   ],
   "source": [
    "len(set(data_fund.cusip.value_counts().index))"
   ]
  },
  {
   "cell_type": "code",
   "execution_count": null,
   "metadata": {},
   "outputs": [],
   "source": []
  },
  {
   "cell_type": "code",
   "execution_count": 36,
   "metadata": {},
   "outputs": [
    {
     "data": {
      "text/plain": [
       "29476"
      ]
     },
     "execution_count": 36,
     "metadata": {},
     "output_type": "execute_result"
    }
   ],
   "source": [
    "len(set(data_fund.cusip.value_counts().index) - set(data_return.CUSIP.value_counts()))"
   ]
  },
  {
   "cell_type": "code",
   "execution_count": 18,
   "metadata": {
    "collapsed": true
   },
   "outputs": [
    {
     "data": {
      "text/plain": [
       "37493    7953\n",
       "31600    3287\n",
       "44072    2615\n",
       "34961    2284\n",
       "39147    1764\n",
       "50846    1494\n",
       "50852    1210\n",
       "34957    1098\n",
       "21438     864\n",
       "20340     864\n",
       "20945     864\n",
       "20799     791\n",
       "21219     776\n",
       "21422     770\n",
       "655       760\n",
       "4922      751\n",
       "20751     735\n",
       "925       728\n",
       "21893     728\n",
       "2519      726\n",
       "44040     721\n",
       "4428      712\n",
       "41593     710\n",
       "714       705\n",
       "1015      702\n",
       "2881      690\n",
       "4388      682\n",
       "21597     674\n",
       "3548      663\n",
       "21625     660\n",
       "         ... \n",
       "23371       2\n",
       "24925       1\n",
       "25248       1\n",
       "25200       1\n",
       "23768       1\n",
       "25624       1\n",
       "25972       1\n",
       "24743       1\n",
       "24706       1\n",
       "23987       1\n",
       "25948       1\n",
       "53114       1\n",
       "24126       1\n",
       "23977       1\n",
       "24227       1\n",
       "129         1\n",
       "23281       1\n",
       "24334       1\n",
       "24342       1\n",
       "23983       1\n",
       "53113       1\n",
       "53116       1\n",
       "25604       1\n",
       "25124       1\n",
       "25365       1\n",
       "23692       1\n",
       "24464       1\n",
       "25647       1\n",
       "25250       1\n",
       "53115       1\n",
       "Name: PERMCO, Length: 25097, dtype: int64"
      ]
     },
     "execution_count": 18,
     "metadata": {},
     "output_type": "execute_result"
    }
   ],
   "source": [
    "data_return.PERMCO.value_counts()"
   ]
  },
  {
   "cell_type": "code",
   "execution_count": 30,
   "metadata": {
    "collapsed": true
   },
   "outputs": [
    {
     "data": {
      "text/plain": [
       "39220    432\n",
       "12060    432\n",
       "59459    432\n",
       "47888    432\n",
       "59619    432\n",
       "57330    432\n",
       "13856    432\n",
       "29209    432\n",
       "40416    432\n",
       "80857    432\n",
       "44513    432\n",
       "14277    432\n",
       "12052    432\n",
       "26657    432\n",
       "48523    432\n",
       "38156    432\n",
       "61209    432\n",
       "14868    432\n",
       "60097    432\n",
       "33188    432\n",
       "58683    432\n",
       "17478    432\n",
       "59328    432\n",
       "21726    432\n",
       "36397    432\n",
       "14795    432\n",
       "52476    432\n",
       "42796    432\n",
       "11674    432\n",
       "49488    432\n",
       "        ... \n",
       "47212      1\n",
       "60469      1\n",
       "92871      1\n",
       "52409      1\n",
       "59353      1\n",
       "52417      1\n",
       "58326      1\n",
       "24598      1\n",
       "40491      1\n",
       "92886      1\n",
       "43756      1\n",
       "50316      1\n",
       "34120      1\n",
       "36055      1\n",
       "80291      1\n",
       "54316      1\n",
       "34243      1\n",
       "92880      1\n",
       "92876      1\n",
       "92881      1\n",
       "92885      1\n",
       "34200      1\n",
       "15094      1\n",
       "92884      1\n",
       "51705      1\n",
       "92883      1\n",
       "92875      1\n",
       "44249      1\n",
       "92878      1\n",
       "77738      1\n",
       "Name: PERMNO, Length: 26501, dtype: int64"
      ]
     },
     "execution_count": 30,
     "metadata": {},
     "output_type": "execute_result"
    }
   ],
   "source": [
    "data_return.PERMNO.value_counts()"
   ]
  },
  {
   "cell_type": "code",
   "execution_count": 5,
   "metadata": {},
   "outputs": [],
   "source": [
    "def calc_basis(dataframe):\n",
    "    PRC = dataframe.PRC\n",
    "    SHROUT = dataframe.SHROUT\n",
    "    CUSIP = dataframe.CUSIP\n",
    "    MV = PRC.abs() * SHROUT\n",
    "    RET_CUM = (dataframe.RET + 1).cumprod()\n",
    "    RETX_CUM = (dataframe.RETX + 1).cumprod()\n",
    "    \n",
    "    return pd.DataFrame(\n",
    "        {\n",
    "            'CUSIP':CUSIP,\n",
    "            'PRC':PRC,\n",
    "            'SHROUT':SHROUT,\n",
    "            'MV':MV,\n",
    "            'RET_CUM':RET_CUM,\n",
    "            'RETX_CUM':RETX_CUM\n",
    "        }\n",
    "    )"
   ]
  },
  {
   "cell_type": "code",
   "execution_count": null,
   "metadata": {},
   "outputs": [],
   "source": [
    "data_ret_cum = data_return.groupby(['PERMCO', pd.Grouper(freq=\"Y\")]).\\\n",
    "apply(lambda x : calc_basis(x))"
   ]
  },
  {
   "cell_type": "code",
   "execution_count": 25,
   "metadata": {},
   "outputs": [
    {
     "data": {
      "text/html": [
       "<div>\n",
       "<style scoped>\n",
       "    .dataframe tbody tr th:only-of-type {\n",
       "        vertical-align: middle;\n",
       "    }\n",
       "\n",
       "    .dataframe tbody tr th {\n",
       "        vertical-align: top;\n",
       "    }\n",
       "\n",
       "    .dataframe thead th {\n",
       "        text-align: right;\n",
       "    }\n",
       "</style>\n",
       "<table border=\"1\" class=\"dataframe\">\n",
       "  <thead>\n",
       "    <tr style=\"text-align: right;\">\n",
       "      <th></th>\n",
       "      <th></th>\n",
       "      <th>PERMNO</th>\n",
       "      <th>TICKER</th>\n",
       "      <th>COMNAM</th>\n",
       "      <th>CUSIP</th>\n",
       "      <th>PRC</th>\n",
       "      <th>RET</th>\n",
       "      <th>SHROUT</th>\n",
       "      <th>RETX</th>\n",
       "      <th>MV</th>\n",
       "      <th>RET_PLUS</th>\n",
       "      <th>RETX_PLUS</th>\n",
       "    </tr>\n",
       "    <tr>\n",
       "      <th>date</th>\n",
       "      <th>PERMCO</th>\n",
       "      <th></th>\n",
       "      <th></th>\n",
       "      <th></th>\n",
       "      <th></th>\n",
       "      <th></th>\n",
       "      <th></th>\n",
       "      <th></th>\n",
       "      <th></th>\n",
       "      <th></th>\n",
       "      <th></th>\n",
       "      <th></th>\n",
       "    </tr>\n",
       "  </thead>\n",
       "  <tbody>\n",
       "    <tr>\n",
       "      <th>1973-01-31</th>\n",
       "      <th>2</th>\n",
       "      <td>14403</td>\n",
       "      <td>AAGIY</td>\n",
       "      <td>ANGLO AMERICAN GOLD INVT LTD</td>\n",
       "      <td>03487050</td>\n",
       "      <td>-27.125</td>\n",
       "      <td>0.179348</td>\n",
       "      <td>21952.0</td>\n",
       "      <td>0.179348</td>\n",
       "      <td>595448.0</td>\n",
       "      <td>1.179348</td>\n",
       "      <td>1.179348</td>\n",
       "    </tr>\n",
       "  </tbody>\n",
       "</table>\n",
       "</div>"
      ],
      "text/plain": [
       "                  PERMNO TICKER                        COMNAM     CUSIP  \\\n",
       "date       PERMCO                                                         \n",
       "1973-01-31 2       14403  AAGIY  ANGLO AMERICAN GOLD INVT LTD  03487050   \n",
       "\n",
       "                      PRC       RET   SHROUT      RETX        MV  RET_PLUS  \\\n",
       "date       PERMCO                                                            \n",
       "1973-01-31 2      -27.125  0.179348  21952.0  0.179348  595448.0  1.179348   \n",
       "\n",
       "                   RETX_PLUS  \n",
       "date       PERMCO             \n",
       "1973-01-31 2        1.179348  "
      ]
     },
     "execution_count": 25,
     "metadata": {},
     "output_type": "execute_result"
    }
   ],
   "source": [
    "data_return.head(1)"
   ]
  },
  {
   "cell_type": "code",
   "execution_count": null,
   "metadata": {},
   "outputs": [],
   "source": [
    "data_return_year = data_return.groupby(level=1, sort=False).resample('Y', level=0).apply(\n",
    "                    {\n",
    "                        'PERMNO':'last', \n",
    "                        'TICKER':'last', \n",
    "                        'COMNAM':'last', \n",
    "                        'CUSIP':'last', \n",
    "                        'PRC':'last', \n",
    "                        'RET':'last', \n",
    "                        'SHROUT':'last', \n",
    "                        'RETX':'last',\n",
    "                        'MV':'last', \n",
    "                        'RET_PLUS':'cumprod', \n",
    "                        'RETX_PLUS':'cumprod'\n",
    "                    })"
   ]
  },
  {
   "cell_type": "code",
   "execution_count": 1,
   "metadata": {},
   "outputs": [],
   "source": [
    "# data_query7.head()"
   ]
  },
  {
   "cell_type": "markdown",
   "metadata": {},
   "source": [
    "calc MV & CUM RETURNX"
   ]
  },
  {
   "cell_type": "code",
   "execution_count": 5,
   "metadata": {},
   "outputs": [
    {
     "data": {
      "text/html": [
       "<div>\n",
       "<style scoped>\n",
       "    .dataframe tbody tr th:only-of-type {\n",
       "        vertical-align: middle;\n",
       "    }\n",
       "\n",
       "    .dataframe tbody tr th {\n",
       "        vertical-align: top;\n",
       "    }\n",
       "\n",
       "    .dataframe thead th {\n",
       "        text-align: right;\n",
       "    }\n",
       "</style>\n",
       "<table border=\"1\" class=\"dataframe\">\n",
       "  <thead>\n",
       "    <tr style=\"text-align: right;\">\n",
       "      <th></th>\n",
       "      <th>PERMCO</th>\n",
       "      <th>date</th>\n",
       "      <th>CUMRETX</th>\n",
       "    </tr>\n",
       "  </thead>\n",
       "  <tbody>\n",
       "    <tr>\n",
       "      <th>0</th>\n",
       "      <td>100</td>\n",
       "      <td>1973-01-31</td>\n",
       "      <td>0.763819</td>\n",
       "    </tr>\n",
       "    <tr>\n",
       "      <th>1</th>\n",
       "      <td>100</td>\n",
       "      <td>1973-02-28</td>\n",
       "      <td>0.733668</td>\n",
       "    </tr>\n",
       "    <tr>\n",
       "      <th>2</th>\n",
       "      <td>100</td>\n",
       "      <td>1973-03-30</td>\n",
       "      <td>0.713568</td>\n",
       "    </tr>\n",
       "    <tr>\n",
       "      <th>3</th>\n",
       "      <td>100</td>\n",
       "      <td>1973-04-30</td>\n",
       "      <td>0.693467</td>\n",
       "    </tr>\n",
       "    <tr>\n",
       "      <th>4</th>\n",
       "      <td>100</td>\n",
       "      <td>1973-05-31</td>\n",
       "      <td>0.542714</td>\n",
       "    </tr>\n",
       "  </tbody>\n",
       "</table>\n",
       "</div>"
      ],
      "text/plain": [
       "  PERMCO       date   CUMRETX\n",
       "0    100 1973-01-31  0.763819\n",
       "1    100 1973-02-28  0.733668\n",
       "2    100 1973-03-30  0.713568\n",
       "3    100 1973-04-30  0.693467\n",
       "4    100 1973-05-31  0.542714"
      ]
     },
     "execution_count": 5,
     "metadata": {},
     "output_type": "execute_result"
    }
   ],
   "source": [
    "cum_ret = data.groupby(['PERMCO', pd.Grouper(freq=\"Y\")]).apply(lambda x : x.RETPLUS.cumprod())\n",
    "cum_ret.index = cum_ret.index.droplevel(1)\n",
    "cum_ret = cum_ret.reset_index()\n",
    "cum_ret.columns = ['PERMCO', 'date', 'CUMRETX']\n",
    "cum_ret = cum_ret.set_index('date')\n",
    "cum_ret.head()"
   ]
  },
  {
   "cell_type": "code",
   "execution_count": null,
   "metadata": {},
   "outputs": [],
   "source": []
  },
  {
   "cell_type": "code",
   "execution_count": null,
   "metadata": {},
   "outputs": [],
   "source": []
  }
 ],
 "metadata": {
  "kernelspec": {
   "display_name": "Python 3 tensorflow",
   "language": "python",
   "name": "python3"
  },
  "language_info": {
   "codemirror_mode": {
    "name": "ipython",
    "version": 3
   },
   "file_extension": ".py",
   "mimetype": "text/x-python",
   "name": "python",
   "nbconvert_exporter": "python",
   "pygments_lexer": "ipython3",
   "version": "3.5.5"
  },
  "toc": {
   "base_numbering": 1,
   "nav_menu": {},
   "number_sections": true,
   "sideBar": true,
   "skip_h1_title": false,
   "title_cell": "Table of Contents",
   "title_sidebar": "Contents",
   "toc_cell": false,
   "toc_position": {},
   "toc_section_display": true,
   "toc_window_display": false
  },
  "varInspector": {
   "cols": {
    "lenName": 16,
    "lenType": 16,
    "lenVar": 40
   },
   "kernels_config": {
    "python": {
     "delete_cmd_postfix": "",
     "delete_cmd_prefix": "del ",
     "library": "var_list.py",
     "varRefreshCmd": "print(var_dic_list())"
    },
    "r": {
     "delete_cmd_postfix": ") ",
     "delete_cmd_prefix": "rm(",
     "library": "var_list.r",
     "varRefreshCmd": "cat(var_dic_list()) "
    }
   },
   "position": {
    "height": "265px",
    "left": "947px",
    "right": "20px",
    "top": "148px",
    "width": "350px"
   },
   "types_to_exclude": [
    "module",
    "function",
    "builtin_function_or_method",
    "instance",
    "_Feature"
   ],
   "window_display": false
  }
 },
 "nbformat": 4,
 "nbformat_minor": 2
}
