{
 "cells": [
  {
   "cell_type": "code",
   "execution_count": 1,
   "metadata": {},
   "outputs": [],
   "source": [
    "%load_ext autoreload\n",
    "%autoreload 2"
   ]
  },
  {
   "cell_type": "code",
   "execution_count": 2,
   "metadata": {},
   "outputs": [],
   "source": [
    "import numpy as np\n",
    "import pandas as pd\n",
    "import matplotlib.pyplot as plt\n",
    "import seaborn as sns\n",
    "import statsmodels.api as sm\n",
    "# import scipy\n",
    "# import tushare as ts\n",
    "import wrds\n",
    "import talib as ta\n",
    "import datetime, time\n"
   ]
  },
  {
   "cell_type": "code",
   "execution_count": 3,
   "metadata": {},
   "outputs": [],
   "source": [
    "plt.rcParams['figure.figsize'] = [12, 8]\n",
    "plt.rcParams['image.interpolation'] = 'nearest'\n",
    "plt.rcParams['image.cmap'] = 'gray'\n",
    "plt.style.use('ggplot')"
   ]
  },
  {
   "cell_type": "markdown",
   "metadata": {},
   "source": [
    "retrieve data from csv"
   ]
  },
  {
   "cell_type": "code",
   "execution_count": 29,
   "metadata": {},
   "outputs": [],
   "source": [
    "# data_query7 = pd.read_csv('data/query7-replace some data in query6.zip',\n",
    "#                          parse_dates=['datadate'], infer_datetime_format=True)"
   ]
  },
  {
   "cell_type": "code",
   "execution_count": 4,
   "metadata": {},
   "outputs": [],
   "source": [
    "data_return = pd.read_csv('data/return.zip', parse_dates=['date'], infer_datetime_format=True,\n",
    "                  dtype={'PERMCO':str, 'CUSIP':str, 'PERMNO':str})\n",
    "# data = pd.read_csv('query3.csv', parse_dates=['date'], infer_datetime_format=True,)\n",
    "                   #dtype={'PRC':np.float64, 'SHROUT':np.float64})\n",
    "data_return = data_return.set_index('date')\n",
    "data_return.RET = data_return.RET.replace(['B', 'C'], [np.nan, np.nan]).astype(np.float64)\n",
    "data_return.RETX = data_return.RETX.replace(['B', 'C'], [np.nan, np.nan]).astype(np.float64)\n",
    "# data_return = data_return.assign(MV=data_return.PRC.abs() * data_return.SHROUT,\n",
    "#                           RET_PLUS=data_return.RET+1,\n",
    "#                           RETX_PLUS=data_return.RETX+1)\n",
    "# data_return = data_return.set_index(['date', 'PERMCO'])"
   ]
  },
  {
   "cell_type": "code",
   "execution_count": 5,
   "metadata": {},
   "outputs": [],
   "source": [
    "def calc_basis(dataframe):\n",
    "    PRC = dataframe.PRC\n",
    "    SHROUT = dataframe.SHROUT\n",
    "    CUSIP = dataframe.CUSIP\n",
    "    MV = PRC.abs() * SHROUT\n",
    "    RET_CUM = (dataframe.RET + 1).cumprod()\n",
    "    RETX_CUM = (dataframe.RETX + 1).cumprod()\n",
    "    \n",
    "    return pd.DataFrame(\n",
    "        {\n",
    "            'CUSIP':CUSIP,\n",
    "            'PRC':PRC,\n",
    "            'SHROUT':SHROUT,\n",
    "            'MV':MV,\n",
    "            'RET_CUM':RET_CUM,\n",
    "            'RETX_CUM':RETX_CUM\n",
    "        }\n",
    "    )"
   ]
  },
  {
   "cell_type": "code",
   "execution_count": null,
   "metadata": {},
   "outputs": [],
   "source": [
    "data_ret_cum = data_return.groupby(['PERMCO', pd.Grouper(freq=\"Y\")]).\\\n",
    "apply(lambda x : calc_basis(x))"
   ]
  },
  {
   "cell_type": "code",
   "execution_count": 25,
   "metadata": {},
   "outputs": [
    {
     "data": {
      "text/html": [
       "<div>\n",
       "<style scoped>\n",
       "    .dataframe tbody tr th:only-of-type {\n",
       "        vertical-align: middle;\n",
       "    }\n",
       "\n",
       "    .dataframe tbody tr th {\n",
       "        vertical-align: top;\n",
       "    }\n",
       "\n",
       "    .dataframe thead th {\n",
       "        text-align: right;\n",
       "    }\n",
       "</style>\n",
       "<table border=\"1\" class=\"dataframe\">\n",
       "  <thead>\n",
       "    <tr style=\"text-align: right;\">\n",
       "      <th></th>\n",
       "      <th></th>\n",
       "      <th>PERMNO</th>\n",
       "      <th>TICKER</th>\n",
       "      <th>COMNAM</th>\n",
       "      <th>CUSIP</th>\n",
       "      <th>PRC</th>\n",
       "      <th>RET</th>\n",
       "      <th>SHROUT</th>\n",
       "      <th>RETX</th>\n",
       "      <th>MV</th>\n",
       "      <th>RET_PLUS</th>\n",
       "      <th>RETX_PLUS</th>\n",
       "    </tr>\n",
       "    <tr>\n",
       "      <th>date</th>\n",
       "      <th>PERMCO</th>\n",
       "      <th></th>\n",
       "      <th></th>\n",
       "      <th></th>\n",
       "      <th></th>\n",
       "      <th></th>\n",
       "      <th></th>\n",
       "      <th></th>\n",
       "      <th></th>\n",
       "      <th></th>\n",
       "      <th></th>\n",
       "      <th></th>\n",
       "    </tr>\n",
       "  </thead>\n",
       "  <tbody>\n",
       "    <tr>\n",
       "      <th>1973-01-31</th>\n",
       "      <th>2</th>\n",
       "      <td>14403</td>\n",
       "      <td>AAGIY</td>\n",
       "      <td>ANGLO AMERICAN GOLD INVT LTD</td>\n",
       "      <td>03487050</td>\n",
       "      <td>-27.125</td>\n",
       "      <td>0.179348</td>\n",
       "      <td>21952.0</td>\n",
       "      <td>0.179348</td>\n",
       "      <td>595448.0</td>\n",
       "      <td>1.179348</td>\n",
       "      <td>1.179348</td>\n",
       "    </tr>\n",
       "  </tbody>\n",
       "</table>\n",
       "</div>"
      ],
      "text/plain": [
       "                  PERMNO TICKER                        COMNAM     CUSIP  \\\n",
       "date       PERMCO                                                         \n",
       "1973-01-31 2       14403  AAGIY  ANGLO AMERICAN GOLD INVT LTD  03487050   \n",
       "\n",
       "                      PRC       RET   SHROUT      RETX        MV  RET_PLUS  \\\n",
       "date       PERMCO                                                            \n",
       "1973-01-31 2      -27.125  0.179348  21952.0  0.179348  595448.0  1.179348   \n",
       "\n",
       "                   RETX_PLUS  \n",
       "date       PERMCO             \n",
       "1973-01-31 2        1.179348  "
      ]
     },
     "execution_count": 25,
     "metadata": {},
     "output_type": "execute_result"
    }
   ],
   "source": [
    "data_return.head(1)"
   ]
  },
  {
   "cell_type": "code",
   "execution_count": null,
   "metadata": {},
   "outputs": [],
   "source": [
    "data_return_year = data_return.groupby(level=1, sort=False).resample('Y', level=0).apply(\n",
    "                    {\n",
    "                        'PERMNO':'last', \n",
    "                        'TICKER':'last', \n",
    "                        'COMNAM':'last', \n",
    "                        'CUSIP':'last', \n",
    "                        'PRC':'last', \n",
    "                        'RET':'last', \n",
    "                        'SHROUT':'last', \n",
    "                        'RETX':'last',\n",
    "                        'MV':'last', \n",
    "                        'RET_PLUS':'cumprod', \n",
    "                        'RETX_PLUS':'cumprod'\n",
    "                    })"
   ]
  },
  {
   "cell_type": "code",
   "execution_count": 1,
   "metadata": {},
   "outputs": [],
   "source": [
    "# data_query7.head()"
   ]
  },
  {
   "cell_type": "markdown",
   "metadata": {},
   "source": [
    "calc MV & CUM RETURNX"
   ]
  },
  {
   "cell_type": "code",
   "execution_count": 5,
   "metadata": {},
   "outputs": [
    {
     "data": {
      "text/html": [
       "<div>\n",
       "<style scoped>\n",
       "    .dataframe tbody tr th:only-of-type {\n",
       "        vertical-align: middle;\n",
       "    }\n",
       "\n",
       "    .dataframe tbody tr th {\n",
       "        vertical-align: top;\n",
       "    }\n",
       "\n",
       "    .dataframe thead th {\n",
       "        text-align: right;\n",
       "    }\n",
       "</style>\n",
       "<table border=\"1\" class=\"dataframe\">\n",
       "  <thead>\n",
       "    <tr style=\"text-align: right;\">\n",
       "      <th></th>\n",
       "      <th>PERMCO</th>\n",
       "      <th>date</th>\n",
       "      <th>CUMRETX</th>\n",
       "    </tr>\n",
       "  </thead>\n",
       "  <tbody>\n",
       "    <tr>\n",
       "      <th>0</th>\n",
       "      <td>100</td>\n",
       "      <td>1973-01-31</td>\n",
       "      <td>0.763819</td>\n",
       "    </tr>\n",
       "    <tr>\n",
       "      <th>1</th>\n",
       "      <td>100</td>\n",
       "      <td>1973-02-28</td>\n",
       "      <td>0.733668</td>\n",
       "    </tr>\n",
       "    <tr>\n",
       "      <th>2</th>\n",
       "      <td>100</td>\n",
       "      <td>1973-03-30</td>\n",
       "      <td>0.713568</td>\n",
       "    </tr>\n",
       "    <tr>\n",
       "      <th>3</th>\n",
       "      <td>100</td>\n",
       "      <td>1973-04-30</td>\n",
       "      <td>0.693467</td>\n",
       "    </tr>\n",
       "    <tr>\n",
       "      <th>4</th>\n",
       "      <td>100</td>\n",
       "      <td>1973-05-31</td>\n",
       "      <td>0.542714</td>\n",
       "    </tr>\n",
       "  </tbody>\n",
       "</table>\n",
       "</div>"
      ],
      "text/plain": [
       "  PERMCO       date   CUMRETX\n",
       "0    100 1973-01-31  0.763819\n",
       "1    100 1973-02-28  0.733668\n",
       "2    100 1973-03-30  0.713568\n",
       "3    100 1973-04-30  0.693467\n",
       "4    100 1973-05-31  0.542714"
      ]
     },
     "execution_count": 5,
     "metadata": {},
     "output_type": "execute_result"
    }
   ],
   "source": [
    "cum_ret = data.groupby(['PERMCO', pd.Grouper(freq=\"Y\")]).apply(lambda x : x.RETPLUS.cumprod())\n",
    "cum_ret.index = cum_ret.index.droplevel(1)\n",
    "cum_ret = cum_ret.reset_index()\n",
    "cum_ret.columns = ['PERMCO', 'date', 'CUMRETX']\n",
    "cum_ret = cum_ret.set_index('date')\n",
    "cum_ret.head()"
   ]
  },
  {
   "cell_type": "code",
   "execution_count": null,
   "metadata": {},
   "outputs": [],
   "source": []
  },
  {
   "cell_type": "code",
   "execution_count": null,
   "metadata": {},
   "outputs": [],
   "source": []
  }
 ],
 "metadata": {
  "kernelspec": {
   "display_name": "Python (quant)",
   "language": "python",
   "name": "quant"
  },
  "language_info": {
   "codemirror_mode": {
    "name": "ipython",
    "version": 3
   },
   "file_extension": ".py",
   "mimetype": "text/x-python",
   "name": "python",
   "nbconvert_exporter": "python",
   "pygments_lexer": "ipython3",
   "version": "3.6.6"
  },
  "toc": {
   "base_numbering": 1,
   "nav_menu": {},
   "number_sections": true,
   "sideBar": true,
   "skip_h1_title": false,
   "title_cell": "Table of Contents",
   "title_sidebar": "Contents",
   "toc_cell": false,
   "toc_position": {},
   "toc_section_display": true,
   "toc_window_display": false
  },
  "varInspector": {
   "cols": {
    "lenName": 16,
    "lenType": 16,
    "lenVar": 40
   },
   "kernels_config": {
    "python": {
     "delete_cmd_postfix": "",
     "delete_cmd_prefix": "del ",
     "library": "var_list.py",
     "varRefreshCmd": "print(var_dic_list())"
    },
    "r": {
     "delete_cmd_postfix": ") ",
     "delete_cmd_prefix": "rm(",
     "library": "var_list.r",
     "varRefreshCmd": "cat(var_dic_list()) "
    }
   },
   "position": {
    "height": "265px",
    "left": "947px",
    "right": "20px",
    "top": "148px",
    "width": "350px"
   },
   "types_to_exclude": [
    "module",
    "function",
    "builtin_function_or_method",
    "instance",
    "_Feature"
   ],
   "window_display": false
  }
 },
 "nbformat": 4,
 "nbformat_minor": 2
}
