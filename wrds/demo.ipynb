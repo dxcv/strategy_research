{
 "cells": [
  {
   "cell_type": "code",
   "execution_count": 1,
   "metadata": {},
   "outputs": [],
   "source": [
    "%load_ext autoreload\n",
    "%autoreload 2"
   ]
  },
  {
   "cell_type": "code",
   "execution_count": 2,
   "metadata": {},
   "outputs": [],
   "source": [
    "import numpy as np\n",
    "import pandas as pd\n",
    "import time\n",
    "from tqdm import tqdm_notebook"
   ]
  },
  {
   "cell_type": "code",
   "execution_count": 3,
   "metadata": {
    "scrolled": true
   },
   "outputs": [],
   "source": [
    "def fiscal_resample(df, fys, per):\n",
    "    ret_p1 = df.ret_p1.cumprod().iloc[-1]\n",
    "    retx_p1 = df.retx_p1.cumprod().iloc[-1]\n",
    "    ret_p1_adj = df.ret_p1_adj.cumprod().iloc[-1]\n",
    "    mv = df.mv.resample(fys).last().iloc[-1]\n",
    "    res = pd.DataFrame({'ret_p1':ret_p1, 'retx_p1':retx_p1,\n",
    "                        'ret_p1_adj':ret_p1_adj, 'mv':mv}, index=[per])\n",
    "    return res"
   ]
  },
  {
   "cell_type": "code",
   "execution_count": 4,
   "metadata": {},
   "outputs": [],
   "source": [
    "comp = pd.read_excel('demo.xlsx', sheet_name=0)\n",
    "crsp = pd.read_excel('demo.xlsx', sheet_name=1, index_col=0)"
   ]
  },
  {
   "cell_type": "code",
   "execution_count": 20,
   "metadata": {},
   "outputs": [],
   "source": [
    "# code_list = comp1.permno.unique().tolist()[:30]\n",
    "# test_comp = comp1.set_index('permno').loc[code_list].reset_index()\n",
    "# test_crsp = crsp.reset_index().set_index('permno').loc[code_list].reset_index().\\\n",
    "# set_index('date')\n",
    "# test_comp.to_excel(writer, 'comp', index=False)\n",
    "# test_crsp.to_excel(writer, 'crsp')\n",
    "# writer = pd.ExcelWriter('demo.xlsx')\n",
    "# writer.save()"
   ]
  },
  {
   "cell_type": "code",
   "execution_count": 5,
   "metadata": {},
   "outputs": [
    {
     "data": {
      "application/vnd.jupyter.widget-view+json": {
       "model_id": "4a09cd03739f4f33aa2c489e0a0058db",
       "version_major": 2,
       "version_minor": 0
      },
      "text/plain": [
       "HBox(children=(IntProgress(value=0, max=474), HTML(value='')))"
      ]
     },
     "metadata": {},
     "output_type": "display_data"
    },
    {
     "name": "stdout",
     "output_type": "stream",
     "text": [
      "\n",
      "6.8883288\n"
     ]
    }
   ],
   "source": [
    "tic = time.perf_counter()\n",
    "g = comp.groupby(['permno', 'fyear'])\n",
    "df_list = []\n",
    "for name, group in tqdm_notebook(g):\n",
    "    start = group.fysm.iloc[0].strftime('%Y-%m-%d')\n",
    "    end = group.datadate.iloc[0].strftime('%Y-%m-%d')\n",
    "    fystring = group.fystr.iloc[0]\n",
    "#     print(name)\n",
    "    sample = crsp[crsp.permno==name[0]][start:end]\n",
    "    if len(sample) > 0:\n",
    "        r = sample.resample(fystring)\n",
    "        df_list.append(r.apply(fiscal_resample, fys=fystring, per=name[0]))\n",
    "\n",
    "df = pd.concat(df_list, axis=0)\n",
    "df.index.names = ['date', 'permno']\n",
    "\n",
    "toc= time.perf_counter()\n",
    "print(toc - tic)"
   ]
  }
 ],
 "metadata": {
  "kernelspec": {
   "display_name": "Python (quant)",
   "language": "python",
   "name": "quant"
  },
  "language_info": {
   "codemirror_mode": {
    "name": "ipython",
    "version": 3
   },
   "file_extension": ".py",
   "mimetype": "text/x-python",
   "name": "python",
   "nbconvert_exporter": "python",
   "pygments_lexer": "ipython3",
   "version": "3.6.6"
  },
  "toc": {
   "base_numbering": 1,
   "nav_menu": {},
   "number_sections": true,
   "sideBar": true,
   "skip_h1_title": false,
   "title_cell": "Table of Contents",
   "title_sidebar": "Contents",
   "toc_cell": false,
   "toc_position": {},
   "toc_section_display": true,
   "toc_window_display": false
  },
  "varInspector": {
   "cols": {
    "lenName": 16,
    "lenType": 16,
    "lenVar": 40
   },
   "kernels_config": {
    "python": {
     "delete_cmd_postfix": "",
     "delete_cmd_prefix": "del ",
     "library": "var_list.py",
     "varRefreshCmd": "print(var_dic_list())"
    },
    "r": {
     "delete_cmd_postfix": ") ",
     "delete_cmd_prefix": "rm(",
     "library": "var_list.r",
     "varRefreshCmd": "cat(var_dic_list()) "
    }
   },
   "position": {
    "height": "512px",
    "left": "1463px",
    "right": "20px",
    "top": "152px",
    "width": "350px"
   },
   "types_to_exclude": [
    "module",
    "function",
    "builtin_function_or_method",
    "instance",
    "_Feature"
   ],
   "window_display": true
  }
 },
 "nbformat": 4,
 "nbformat_minor": 2
}
