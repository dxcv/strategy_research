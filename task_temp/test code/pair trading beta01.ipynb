{
 "cells": [
  {
   "cell_type": "markdown",
   "metadata": {},
   "source": [
    "### prepare modules"
   ]
  },
  {
   "cell_type": "code",
   "execution_count": 1,
   "metadata": {},
   "outputs": [],
   "source": [
    "%load_ext autoreload\n",
    "%autoreload 2\n",
    "\n",
    "import numpy as np\n",
    "import pandas as pd\n",
    "import matplotlib.pyplot as plt\n",
    "import seaborn as sns\n",
    "# import statsmodels.api as sm\n",
    "import QUANTAXIS as QA\n",
    "import talib as ta\n",
    "import datetime, time\n",
    "# import pandas_datareader.data as web\n",
    "\n",
    "from utils import get_data, get_code_list_by_sector\n",
    "from utils import select_code, position_side\n",
    "from utils import single_pair_trading, batch_pair_trading\n",
    "from utils import calc_pair_trading\n",
    "\n",
    "try:\n",
    "    from tqdm import tqdm_notebook\n",
    "except:\n",
    "    pass"
   ]
  },
  {
   "cell_type": "code",
   "execution_count": 2,
   "metadata": {},
   "outputs": [],
   "source": [
    "plt.rcParams['figure.figsize'] = [12, 8]\n",
    "plt.rcParams['image.interpolation'] = 'nearest'\n",
    "plt.rcParams['image.cmap'] = 'gray'\n",
    "plt.style.use('ggplot')"
   ]
  },
  {
   "cell_type": "markdown",
   "metadata": {},
   "source": [
    "### prepare data"
   ]
  },
  {
   "cell_type": "code",
   "execution_count": 3,
   "metadata": {},
   "outputs": [],
   "source": [
    "code_list_by_sector = pd.read_excel('data/etf_pair_code.xlsx', dtype={'symbol':str})\n",
    "sector_list = code_list_by_sector.sector.unique().tolist()\n",
    "etf_list = code_list_by_sector.etf_symbol.unique().tolist()\n",
    "region_list = code_list_by_sector.region.unique().tolist()\n",
    "\n",
    "us_data = get_data('data/us_data.csv')\n",
    "hk_data = get_data('data/hk_data.csv')"
   ]
  },
  {
   "cell_type": "code",
   "execution_count": 5,
   "metadata": {
    "collapsed": true
   },
   "outputs": [
    {
     "data": {
      "text/html": [
       "<div>\n",
       "<style scoped>\n",
       "    .dataframe tbody tr th:only-of-type {\n",
       "        vertical-align: middle;\n",
       "    }\n",
       "\n",
       "    .dataframe tbody tr th {\n",
       "        vertical-align: top;\n",
       "    }\n",
       "\n",
       "    .dataframe thead th {\n",
       "        text-align: right;\n",
       "    }\n",
       "</style>\n",
       "<table border=\"1\" class=\"dataframe\">\n",
       "  <thead>\n",
       "    <tr style=\"text-align: right;\">\n",
       "      <th></th>\n",
       "      <th></th>\n",
       "      <th>high</th>\n",
       "      <th>low</th>\n",
       "      <th>open</th>\n",
       "      <th>close</th>\n",
       "      <th>volume</th>\n",
       "      <th>Adj Close</th>\n",
       "    </tr>\n",
       "    <tr>\n",
       "      <th>date</th>\n",
       "      <th>code</th>\n",
       "      <th></th>\n",
       "      <th></th>\n",
       "      <th></th>\n",
       "      <th></th>\n",
       "      <th></th>\n",
       "      <th></th>\n",
       "    </tr>\n",
       "  </thead>\n",
       "  <tbody>\n",
       "    <tr>\n",
       "      <th>2015-06-29</th>\n",
       "      <th>3396.hk</th>\n",
       "      <td>43.549999</td>\n",
       "      <td>42.849998</td>\n",
       "      <td>43.150002</td>\n",
       "      <td>42.950001</td>\n",
       "      <td>62651090.0</td>\n",
       "      <td>41.258984</td>\n",
       "    </tr>\n",
       "    <tr>\n",
       "      <th>2015-06-30</th>\n",
       "      <th>3396.hk</th>\n",
       "      <td>43.450001</td>\n",
       "      <td>43.000000</td>\n",
       "      <td>43.000000</td>\n",
       "      <td>43.349998</td>\n",
       "      <td>8230600.0</td>\n",
       "      <td>41.643234</td>\n",
       "    </tr>\n",
       "    <tr>\n",
       "      <th>2015-07-02</th>\n",
       "      <th>3396.hk</th>\n",
       "      <td>43.950001</td>\n",
       "      <td>42.950001</td>\n",
       "      <td>43.349998</td>\n",
       "      <td>43.849998</td>\n",
       "      <td>7664889.0</td>\n",
       "      <td>42.123547</td>\n",
       "    </tr>\n",
       "    <tr>\n",
       "      <th>2015-07-03</th>\n",
       "      <th>3396.hk</th>\n",
       "      <td>43.900002</td>\n",
       "      <td>42.950001</td>\n",
       "      <td>43.849998</td>\n",
       "      <td>43.000000</td>\n",
       "      <td>5044400.0</td>\n",
       "      <td>41.307014</td>\n",
       "    </tr>\n",
       "    <tr>\n",
       "      <th>2015-07-06</th>\n",
       "      <th>3396.hk</th>\n",
       "      <td>43.500000</td>\n",
       "      <td>40.900002</td>\n",
       "      <td>43.049999</td>\n",
       "      <td>42.549999</td>\n",
       "      <td>29058194.0</td>\n",
       "      <td>40.874729</td>\n",
       "    </tr>\n",
       "  </tbody>\n",
       "</table>\n",
       "</div>"
      ],
      "text/plain": [
       "                         high        low       open      close      volume  \\\n",
       "date       code                                                              \n",
       "2015-06-29 3396.hk  43.549999  42.849998  43.150002  42.950001  62651090.0   \n",
       "2015-06-30 3396.hk  43.450001  43.000000  43.000000  43.349998   8230600.0   \n",
       "2015-07-02 3396.hk  43.950001  42.950001  43.349998  43.849998   7664889.0   \n",
       "2015-07-03 3396.hk  43.900002  42.950001  43.849998  43.000000   5044400.0   \n",
       "2015-07-06 3396.hk  43.500000  40.900002  43.049999  42.549999  29058194.0   \n",
       "\n",
       "                    Adj Close  \n",
       "date       code                \n",
       "2015-06-29 3396.hk  41.258984  \n",
       "2015-06-30 3396.hk  41.643234  \n",
       "2015-07-02 3396.hk  42.123547  \n",
       "2015-07-03 3396.hk  41.307014  \n",
       "2015-07-06 3396.hk  40.874729  "
      ]
     },
     "execution_count": 5,
     "metadata": {},
     "output_type": "execute_result"
    }
   ],
   "source": [
    "hk_data.head()"
   ]
  },
  {
   "cell_type": "markdown",
   "metadata": {},
   "source": [
    "1. 遍历得到ratio的图，还包括ratio的上下轨，rsi等等\n",
    "2. 这个还是写到表里面去吧，免得麻烦\n",
    "3. 但也不行，因为这个是板块的\n",
    "4. 总之先把单个的先做了"
   ]
  },
  {
   "cell_type": "code",
   "execution_count": 14,
   "metadata": {
    "collapsed": true
   },
   "outputs": [
    {
     "data": {
      "text/plain": [
       "['3396.hk',\n",
       " '3969.hk',\n",
       " '0968.hk',\n",
       " '1347.hk',\n",
       " '6088.hk',\n",
       " '6869.hk',\n",
       " '1357.hk',\n",
       " '1089.hk',\n",
       " '0327.hk',\n",
       " '1980.hk',\n",
       " '0877.hk',\n",
       " '0434.hk',\n",
       " '0799.hk',\n",
       " '1337.hk']"
      ]
     },
     "execution_count": 14,
     "metadata": {},
     "output_type": "execute_result"
    }
   ],
   "source": [
    "hk_data.index.get_level_values(1).unique().tolist()"
   ]
  },
  {
   "cell_type": "code",
   "execution_count": 4,
   "metadata": {},
   "outputs": [],
   "source": [
    "result = single_pair_trading(hk_data, '3396.hk', '3969.hk')"
   ]
  },
  {
   "cell_type": "code",
   "execution_count": 5,
   "metadata": {},
   "outputs": [
    {
     "data": {
      "text/plain": [
       "-0.0006266263037303483"
      ]
     },
     "execution_count": 5,
     "metadata": {},
     "output_type": "execute_result"
    }
   ],
   "source": [
    "result['long_return']"
   ]
  },
  {
   "cell_type": "code",
   "execution_count": 6,
   "metadata": {},
   "outputs": [
    {
     "data": {
      "text/plain": [
       "-0.0008917708617966346"
      ]
     },
     "execution_count": 6,
     "metadata": {},
     "output_type": "execute_result"
    }
   ],
   "source": [
    "result['long_short_return']"
   ]
  },
  {
   "cell_type": "code",
   "execution_count": 7,
   "metadata": {
    "collapsed": true
   },
   "outputs": [
    {
     "data": {
      "image/png": "[encoded data removed]",
      "text/plain": [
       "<Figure size 864x576 with 1 Axes>"
      ]
     },
     "metadata": {},
     "output_type": "display_data"
    }
   ],
   "source": [
    "plt.plot(result['ratio'].index, result['ratio'].values);"
   ]
  },
  {
   "cell_type": "markdown",
   "metadata": {},
   "source": [
    "1. 先选定sector\n",
    "2. 再取出sector里的code\n",
    "3. "
   ]
  },
  {
   "cell_type": "code",
   "execution_count": 5,
   "metadata": {},
   "outputs": [],
   "source": [
    "hk_data_code_list = hk_data.index.get_level_values(1).unique().tolist()"
   ]
  },
  {
   "cell_type": "code",
   "execution_count": 40,
   "metadata": {},
   "outputs": [],
   "source": [
    "df_ratio = pd.DataFrame()\n",
    "df_long_asset = pd.DataFrame()\n",
    "lens = len(hk_data_code_list)\n",
    "long_return_mat = np.zeros((lens,lens))\n",
    "long_short_return_mat = np.zeros((lens,lens))\n",
    "for i in range(lens):\n",
    "    for j in range(i+1, lens):\n",
    "        code1 = hk_data_code_list[i]\n",
    "        code2 = hk_data_code_list[j]\n",
    "        temp_result = single_pair_trading(hk_data, code1, code2)\n",
    "        temp_result['ratio'].name = \"%s-%s\" % (code1,code2)\n",
    "        temp_result['long_asset_series'].name = \"%s-%s\" % (code1,code2)\n",
    "        \n",
    "        df_ratio = pd.concat([df_ratio, temp_result['ratio']], axis=1)\n",
    "        df_long_asset = pd.concat([df_long_asset, temp_result['long_asset_series']],\n",
    "                                 axis=1)\n",
    "        long_return_mat[i, j] = temp_result['long_return']\n",
    "        long_short_return_mat[i, j] = temp_result['long_short_return']\n",
    "        \n",
    "df_long_return = pd.DataFrame(long_return_mat)\n",
    "df_long_return.index = hk_data_code_list\n",
    "df_long_return.columns = hk_data_code_list\n",
    "df_long_return\n",
    "\n",
    "df_long_short_return = pd.DataFrame(long_short_return_mat)\n",
    "df_long_short_return.index = hk_data_code_list\n",
    "df_long_short_return.columns = hk_data_code_list\n",
    "df_long_short_return"
   ]
  },
  {
   "cell_type": "code",
   "execution_count": 53,
   "metadata": {},
   "outputs": [
    {
     "data": {
      "text/plain": [
       "dict_keys(['ratio', 'real_signal', 'long_asset_series', 'long_return', 'long_short_return'])"
      ]
     },
     "execution_count": 53,
     "metadata": {},
     "output_type": "execute_result"
    }
   ],
   "source": [
    "temp_result.keys()"
   ]
  },
  {
   "cell_type": "code",
   "execution_count": 59,
   "metadata": {
    "code_folding": [
     0
    ]
   },
   "outputs": [],
   "source": [
    "def batch_pair_trading(code_list, data):\n",
    "\n",
    "    df_ratio = pd.DataFrame()\n",
    "    df_long_asset = pd.DataFrame()\n",
    "    lens = len(code_list)\n",
    "    long_return_mat = np.zeros((lens,lens))\n",
    "    long_short_return_mat = np.zeros((lens,lens))\n",
    "    for i in range(lens):\n",
    "        for j in range(i+1, lens):\n",
    "            code1 = code_list[i]\n",
    "            code2 = code_list[j]\n",
    "            temp_result = single_pair_trading(data, code1, code2)\n",
    "            temp_result['ratio'].name = \"%s-%s\" % (code1,code2)\n",
    "            temp_result['long_asset_series'].name = \"%s-%s\" % (code1,code2)\n",
    "\n",
    "            df_ratio = pd.concat([df_ratio, temp_result['ratio']], axis=1)\n",
    "            df_long_asset = pd.concat([df_long_asset, temp_result['long_asset_series']],\n",
    "                                     axis=1)\n",
    "            long_return_mat[i, j] = temp_result['long_return']\n",
    "            long_short_return_mat[i, j] = temp_result['long_short_return']\n",
    "\n",
    "    df_long_return = pd.DataFrame(long_return_mat)\n",
    "    df_long_return.index = code_list\n",
    "    df_long_return.columns = code_list\n",
    "    df_long_return\n",
    "\n",
    "    df_long_short_return = pd.DataFrame(long_short_return_mat)\n",
    "    df_long_short_return.index = code_list\n",
    "    df_long_short_return.columns = code_list\n",
    "    df_long_short_return\n",
    "    \n",
    "    result = {}\n",
    "    \n",
    "    result['ratio'] = df_ratio\n",
    "    result['long_asset'] = df_long_asset\n",
    "    result['long_return'] = df_long_return\n",
    "    result['long_short_return'] = df_long_short_return\n",
    "    \n",
    "    return result"
   ]
  },
  {
   "cell_type": "code",
   "execution_count": 60,
   "metadata": {
    "code_folding": [
     0
    ]
   },
   "outputs": [],
   "source": [
    "def batch_pair_trading(code_list, data):\n",
    "\n",
    "    df_ratio = pd.DataFrame()\n",
    "    df_long_asset = pd.DataFrame()\n",
    "    lens = len(code_list)\n",
    "    long_return_mat = np.zeros((lens,lens))\n",
    "    long_short_return_mat = np.zeros((lens,lens))\n",
    "    for i in tqdm_notebook(range(lens)):\n",
    "        for j in tqdm_notebook(range(i+1, lens)):\n",
    "            code1 = code_list[i]\n",
    "            code2 = code_list[j]\n",
    "            temp_result = single_pair_trading(data, code1, code2)\n",
    "            temp_result['ratio'].name = \"%s-%s\" % (code1,code2)\n",
    "            temp_result['long_asset_series'].name = \"%s-%s\" % (code1,code2)\n",
    "\n",
    "            df_ratio = pd.concat([df_ratio, temp_result['ratio']], axis=1)\n",
    "            df_long_asset = pd.concat([df_long_asset, temp_result['long_asset_series']],\n",
    "                                     axis=1)\n",
    "            long_return_mat[i, j] = temp_result['long_return']\n",
    "            long_short_return_mat[i, j] = temp_result['long_short_return']\n",
    "\n",
    "    df_long_return = pd.DataFrame(long_return_mat)\n",
    "    df_long_return.index = code_list\n",
    "    df_long_return.columns = code_list\n",
    "    df_long_return\n",
    "\n",
    "    df_long_short_return = pd.DataFrame(long_short_return_mat)\n",
    "    df_long_short_return.index = code_list\n",
    "    df_long_short_return.columns = code_list\n",
    "    df_long_short_return\n",
    "    \n",
    "    result = {}\n",
    "    \n",
    "    result['ratio'] = df_ratio\n",
    "    result['long_asset'] = df_long_asset\n",
    "    result['long_return'] = df_long_return\n",
    "    result['long_short_return'] = df_long_short_return\n",
    "    \n",
    "    return result"
   ]
  },
  {
   "cell_type": "code",
   "execution_count": null,
   "metadata": {},
   "outputs": [],
   "source": [
    "result = batch_pair_trading(hk_data_code_list, hk_data)"
   ]
  },
  {
   "cell_type": "code",
   "execution_count": 56,
   "metadata": {},
   "outputs": [
    {
     "data": {
      "text/plain": [
       "0.075217086119152649"
      ]
     },
     "execution_count": 56,
     "metadata": {},
     "output_type": "execute_result"
    }
   ],
   "source": [
    "result['long_short_return'].sum().sum()"
   ]
  },
  {
   "cell_type": "code",
   "execution_count": 51,
   "metadata": {},
   "outputs": [
    {
     "data": {
      "text/plain": [
       "0.075217086119152649"
      ]
     },
     "execution_count": 51,
     "metadata": {},
     "output_type": "execute_result"
    }
   ],
   "source": [
    "df_long_short_return.sum().sum()"
   ]
  },
  {
   "cell_type": "code",
   "execution_count": 52,
   "metadata": {},
   "outputs": [
    {
     "data": {
      "text/plain": [
       "0.023874766979341568"
      ]
     },
     "execution_count": 52,
     "metadata": {},
     "output_type": "execute_result"
    }
   ],
   "source": [
    "df_long_return.sum().sum()"
   ]
  },
  {
   "cell_type": "code",
   "execution_count": 37,
   "metadata": {},
   "outputs": [],
   "source": [
    "temp_result['long_asset_series'].name"
   ]
  },
  {
   "cell_type": "code",
   "execution_count": null,
   "metadata": {},
   "outputs": [],
   "source": [
    "df_ratio.tail()"
   ]
  },
  {
   "cell_type": "code",
   "execution_count": null,
   "metadata": {},
   "outputs": [],
   "source": [
    "pd.DataFrame(long_return_mat)"
   ]
  },
  {
   "cell_type": "code",
   "execution_count": null,
   "metadata": {},
   "outputs": [],
   "source": [
    "df_ratio.applymap(lambda x: np.log(x)).plot();"
   ]
  },
  {
   "cell_type": "markdown",
   "metadata": {},
   "source": [
    "### visualization"
   ]
  },
  {
   "cell_type": "markdown",
   "metadata": {},
   "source": [
    "- input : sector or etf code\n",
    "- output : \n",
    "    - ratio plotting\n",
    "    - long return matrix\n",
    "    - long short return matrix\n",
    "    \n",
    "- input : two code\n",
    "- output :\n",
    "    - ratio plotting with upper & lower bond\n",
    "    - long return & long short return"
   ]
  },
  {
   "cell_type": "markdown",
   "metadata": {},
   "source": [
    "sector or etf symbol list"
   ]
  },
  {
   "cell_type": "code",
   "execution_count": null,
   "metadata": {},
   "outputs": [],
   "source": [
    "code_list_by_sector.head()"
   ]
  },
  {
   "cell_type": "code",
   "execution_count": null,
   "metadata": {},
   "outputs": [],
   "source": [
    "code_list_by_sector.etf_symbol.value_counts().index"
   ]
  },
  {
   "cell_type": "code",
   "execution_count": null,
   "metadata": {},
   "outputs": [],
   "source": [
    "code_list_by_sector.sector.value_counts()"
   ]
  },
  {
   "cell_type": "code",
   "execution_count": 49,
   "metadata": {},
   "outputs": [
    {
     "data": {
      "text/plain": [
       "True"
      ]
     },
     "execution_count": 49,
     "metadata": {},
     "output_type": "execute_result"
    }
   ],
   "source": [
    "type(code_list_by_sector.query('sector == \"%s\"' % 'Biotech/ Pharma').symbol.tolist()) == list"
   ]
  },
  {
   "cell_type": "markdown",
   "metadata": {},
   "source": [
    "test"
   ]
  },
  {
   "cell_type": "code",
   "execution_count": null,
   "metadata": {},
   "outputs": [],
   "source": [
    "us_data"
   ]
  },
  {
   "cell_type": "code",
   "execution_count": null,
   "metadata": {},
   "outputs": [],
   "source": [
    "result = calc_pair_trading('SMH')"
   ]
  },
  {
   "cell_type": "code",
   "execution_count": null,
   "metadata": {},
   "outputs": [],
   "source": [
    "result['ratio'].head()"
   ]
  },
  {
   "cell_type": "code",
   "execution_count": null,
   "metadata": {},
   "outputs": [],
   "source": [
    "plt.plot(result['ratio'].index, result['ratio'].apply(lambda x : np.log(x)).values);"
   ]
  },
  {
   "cell_type": "code",
   "execution_count": null,
   "metadata": {},
   "outputs": [],
   "source": [
    "result['ratio'].apply(lambda x : np.log(x)).plot();"
   ]
  },
  {
   "cell_type": "code",
   "execution_count": null,
   "metadata": {},
   "outputs": [],
   "source": [
    "rolling_mean_result = calc_pair_trading('SMH', method='rolling')"
   ]
  },
  {
   "cell_type": "code",
   "execution_count": null,
   "metadata": {},
   "outputs": [],
   "source": [
    "plt.plot(rolling_mean_result['ratio'].index, \n",
    "         rolling_mean_result['ratio'].apply(lambda x : np.log(x)).values);"
   ]
  },
  {
   "cell_type": "code",
   "execution_count": 11,
   "metadata": {},
   "outputs": [
    {
     "data": {
      "text/plain": [
       "0.22396310741538117"
      ]
     },
     "execution_count": 11,
     "metadata": {},
     "output_type": "execute_result"
    }
   ],
   "source": [
    "result['long_return'].sum().sum()"
   ]
  },
  {
   "cell_type": "code",
   "execution_count": null,
   "metadata": {},
   "outputs": [],
   "source": [
    "result['long_short_return'].sum().sum()"
   ]
  },
  {
   "cell_type": "markdown",
   "metadata": {},
   "source": [
    "rolling mean, period : 14"
   ]
  },
  {
   "cell_type": "code",
   "execution_count": 13,
   "metadata": {},
   "outputs": [
    {
     "data": {
      "text/plain": [
       "0.2027546976497436"
      ]
     },
     "execution_count": 13,
     "metadata": {},
     "output_type": "execute_result"
    }
   ],
   "source": [
    "rolling_mean_result['long_return'].sum().sum()"
   ]
  },
  {
   "cell_type": "code",
   "execution_count": 14,
   "metadata": {},
   "outputs": [
    {
     "data": {
      "text/plain": [
       "-0.06371614485490215"
      ]
     },
     "execution_count": 14,
     "metadata": {},
     "output_type": "execute_result"
    }
   ],
   "source": [
    "rolling_mean_result['long_short_return'].sum().sum()"
   ]
  },
  {
   "cell_type": "markdown",
   "metadata": {},
   "source": [
    "rolling mean, period : 20"
   ]
  },
  {
   "cell_type": "code",
   "execution_count": null,
   "metadata": {},
   "outputs": [],
   "source": [
    "rolling_mean_result = calc_pair_trading('SMH', method='rolling', period=20)"
   ]
  },
  {
   "cell_type": "code",
   "execution_count": 16,
   "metadata": {},
   "outputs": [
    {
     "data": {
      "text/plain": [
       "0.21449473561696744"
      ]
     },
     "execution_count": 16,
     "metadata": {},
     "output_type": "execute_result"
    }
   ],
   "source": [
    "rolling_mean_result['long_return'].sum().sum()"
   ]
  },
  {
   "cell_type": "code",
   "execution_count": null,
   "metadata": {},
   "outputs": [],
   "source": [
    "rolling_mean_result['long_short_return'].sum().sum()"
   ]
  },
  {
   "cell_type": "markdown",
   "metadata": {},
   "source": [
    "rolling mean, period : 60"
   ]
  },
  {
   "cell_type": "code",
   "execution_count": null,
   "metadata": {},
   "outputs": [],
   "source": [
    "rolling_mean_result = calc_pair_trading('SMH', method='rolling', period=60)"
   ]
  },
  {
   "cell_type": "code",
   "execution_count": 19,
   "metadata": {},
   "outputs": [
    {
     "data": {
      "text/plain": [
       "0.2327909784437065"
      ]
     },
     "execution_count": 19,
     "metadata": {},
     "output_type": "execute_result"
    }
   ],
   "source": [
    "rolling_mean_result['long_return'].sum().sum()"
   ]
  },
  {
   "cell_type": "code",
   "execution_count": 20,
   "metadata": {},
   "outputs": [
    {
     "data": {
      "text/plain": [
       "-0.003643583266976275"
      ]
     },
     "execution_count": 20,
     "metadata": {},
     "output_type": "execute_result"
    }
   ],
   "source": [
    "rolling_mean_result['long_short_return'].sum().sum()"
   ]
  },
  {
   "cell_type": "markdown",
   "metadata": {},
   "source": [
    "find the best period"
   ]
  },
  {
   "cell_type": "code",
   "execution_count": 9,
   "metadata": {},
   "outputs": [
    {
     "data": {
      "application/vnd.jupyter.widget-view+json": {
       "model_id": "089bc6947d1b45d3b3b2b5192eb30d70",
       "version_major": 2,
       "version_minor": 0
      },
      "text/plain": [
       "HBox(children=(IntProgress(value=0, max=15), HTML(value='')))"
      ]
     },
     "metadata": {},
     "output_type": "display_data"
    },
    {
     "name": "stdout",
     "output_type": "stream",
     "text": [
      "\n"
     ]
    }
   ],
   "source": [
    "long_return_list = []\n",
    "long_short_return_list = []\n",
    "for i in tqdm_notebook(range(16,31)):\n",
    "    temp_result = calc_pair_trading('SMH', method='rolling', period=int(i*10),\n",
    "                                   show_bar=False)\n",
    "    long_return_list.append(temp_result['long_return'].sum().sum())\n",
    "    long_short_return_list.append(temp_result['long_short_return'].sum().sum())"
   ]
  },
  {
   "cell_type": "code",
   "execution_count": 7,
   "metadata": {},
   "outputs": [],
   "source": [
    "long_list_1 = long_return_list.copy()"
   ]
  },
  {
   "cell_type": "code",
   "execution_count": 8,
   "metadata": {},
   "outputs": [],
   "source": [
    "long_short_list_2 = long_short_return_list.copy()"
   ]
  },
  {
   "cell_type": "code",
   "execution_count": 10,
   "metadata": {},
   "outputs": [],
   "source": [
    "long_list = long_list_1 + long_return_list\n",
    "long_short_list = long_short_list_2 + long_short_return_list"
   ]
  },
  {
   "cell_type": "code",
   "execution_count": 16,
   "metadata": {
    "scrolled": true
   },
   "outputs": [
    {
     "data": {
      "text/plain": [
       "0.2512215653060894"
      ]
     },
     "execution_count": 16,
     "metadata": {},
     "output_type": "execute_result"
    }
   ],
   "source": [
    "long_list[16]"
   ]
  },
  {
   "cell_type": "code",
   "execution_count": null,
   "metadata": {},
   "outputs": [],
   "source": [
    "long_short_list[:18]"
   ]
  },
  {
   "cell_type": "code",
   "execution_count": 18,
   "metadata": {},
   "outputs": [
    {
     "data": {
      "text/plain": [
       "8.360655737704917"
      ]
     },
     "execution_count": 18,
     "metadata": {},
     "output_type": "execute_result"
    }
   ],
   "source": [
    "170/244 *12"
   ]
  },
  {
   "cell_type": "code",
   "execution_count": 3,
   "metadata": {},
   "outputs": [
    {
     "data": {
      "application/vnd.jupyter.widget-view+json": {
       "model_id": "0ab733e79c5b4937b4e0ba1e44236e52",
       "version_major": 2,
       "version_minor": 0
      },
      "text/plain": [
       "HBox(children=(IntProgress(value=0, max=25), HTML(value='')))"
      ]
     },
     "metadata": {},
     "output_type": "display_data"
    },
    {
     "name": "stdout",
     "output_type": "stream",
     "text": [
      "\n"
     ]
    }
   ],
   "source": [
    "ewm_mean_result = calc_pair_trading('SMH', method='ewm', period=170, show_bar=True)"
   ]
  },
  {
   "cell_type": "code",
   "execution_count": null,
   "metadata": {},
   "outputs": [],
   "source": [
    "ewm_mean_result['long_asset']['INTC-TSM']"
   ]
  },
  {
   "cell_type": "code",
   "execution_count": 4,
   "metadata": {},
   "outputs": [
    {
     "data": {
      "text/plain": [
       "0.01583926106445173"
      ]
     },
     "execution_count": 4,
     "metadata": {},
     "output_type": "execute_result"
    }
   ],
   "source": [
    "ewm_mean_result['long_short_return'].sum().sum()"
   ]
  },
  {
   "cell_type": "code",
   "execution_count": 7,
   "metadata": {},
   "outputs": [
    {
     "data": {
      "text/plain": [
       "0.015839261064451726"
      ]
     },
     "execution_count": 7,
     "metadata": {},
     "output_type": "execute_result"
    }
   ],
   "source": [
    "ewm_mean_result['long_short_return'].sum().sum()"
   ]
  },
  {
   "cell_type": "code",
   "execution_count": 5,
   "metadata": {},
   "outputs": [
    {
     "data": {
      "text/plain": [
       "0.2425324006094205"
      ]
     },
     "execution_count": 5,
     "metadata": {},
     "output_type": "execute_result"
    }
   ],
   "source": [
    "ewm_mean_result['long_return'].sum().sum()"
   ]
  },
  {
   "cell_type": "code",
   "execution_count": 8,
   "metadata": {},
   "outputs": [
    {
     "data": {
      "text/plain": [
       "0.24253240060942058"
      ]
     },
     "execution_count": 8,
     "metadata": {},
     "output_type": "execute_result"
    }
   ],
   "source": [
    "ewm_mean_result['long_return'].sum().sum()"
   ]
  },
  {
   "cell_type": "code",
   "execution_count": 28,
   "metadata": {},
   "outputs": [],
   "source": [
    "from string import ascii_letters"
   ]
  },
  {
   "cell_type": "code",
   "execution_count": 31,
   "metadata": {},
   "outputs": [],
   "source": [
    "save_name = ''.join(np.random.choice(list(ascii_letters), 8))"
   ]
  },
  {
   "cell_type": "code",
   "execution_count": 32,
   "metadata": {},
   "outputs": [
    {
     "data": {
      "text/plain": [
       "'noeLrTHv'"
      ]
     },
     "execution_count": 32,
     "metadata": {},
     "output_type": "execute_result"
    }
   ],
   "source": [
    "save_name"
   ]
  },
  {
   "cell_type": "code",
   "execution_count": 33,
   "metadata": {},
   "outputs": [],
   "source": [
    "is_saving = True"
   ]
  },
  {
   "cell_type": "code",
   "execution_count": 34,
   "metadata": {},
   "outputs": [],
   "source": [
    "result = ewm_mean_result.copy()"
   ]
  },
  {
   "cell_type": "code",
   "execution_count": 58,
   "metadata": {},
   "outputs": [],
   "source": [
    "keys = result.keys()"
   ]
  },
  {
   "cell_type": "code",
   "execution_count": 61,
   "metadata": {},
   "outputs": [
    {
     "name": "stdout",
     "output_type": "stream",
     "text": [
      "ratio <class 'str'>\n",
      "long_asset <class 'str'>\n",
      "long_return <class 'str'>\n",
      "long_short_return <class 'str'>\n"
     ]
    }
   ],
   "source": [
    "for i in result.keys():\n",
    "    print(i, type(i))"
   ]
  },
  {
   "cell_type": "code",
   "execution_count": 36,
   "metadata": {},
   "outputs": [],
   "source": [
    "ratio = result['ratio']\n",
    "long_asset = result['long_asset']\n",
    "long_return = result['long_return']\n",
    "long_short_return = result['long_short_return']"
   ]
  },
  {
   "cell_type": "code",
   "execution_count": null,
   "metadata": {},
   "outputs": [],
   "source": [
    "ratio.to_excel(writer, sheet_name='ratio')"
   ]
  },
  {
   "cell_type": "code",
   "execution_count": 56,
   "metadata": {},
   "outputs": [],
   "source": [
    "save_name = 'SMH_data'\n",
    "if save_name is None:\n",
    "    save_name = ''.join(np.random.choice(list(ascii_letters), 8))\n",
    "    \n",
    "result_path = os.getcwd()+'/result'\n",
    "if os.path.exists(result_path) is False:\n",
    "    os.makedirs(result_path)\n",
    "\n",
    "writer = pd.ExcelWriter('result/'+save_name+'.xlsx', datetime_format='YYYY-MM-DD')\n",
    "\n",
    "result['ratio'].to_excel(writer, sheet_name='ratio')\n",
    "result['long_asset'].to_excel(writer, sheet_name='long_asset')\n",
    "result['long_return'].to_excel(writer, sheet_name='long_return')\n",
    "result['long_short_return'].to_excel(writer, sheet_name='long_short_return')\n",
    "\n",
    "writer.save()"
   ]
  },
  {
   "cell_type": "code",
   "execution_count": 65,
   "metadata": {},
   "outputs": [],
   "source": [
    "def store_in_excel(result, is_saving, save_name):\n",
    "    \n",
    "    if save_name is None:\n",
    "        save_name = ''.join(np.random.choice(list(ascii_letters), 8))\n",
    "    \n",
    "    result_path = os.getcwd()+'/result'\n",
    "    if os.path.exists(result_path) is False:\n",
    "        os.makedirs(result_path)\n",
    "    \n",
    "    writer = pd.ExcelWriter('result/'+save_name+'.xlsx', datetime_format='YYYY-MM-DD')\n",
    "    keys = list(result.keys())\n",
    "    \n",
    "    if (is_saving is True) or (is_saving.lower() == 'all'):\n",
    "        for i in result.keys():\n",
    "            result[i].to_excel(writer, sheet_name=i)\n",
    "    elif is_saving.lower() == 'ratio':\n",
    "        result['ratio'].to_excel(writer, sheet_name='ratio')\n",
    "    elif is_saving.lower() == 'long_asset':\n",
    "        result['long_asset'].to_excel(writer, sheet_name='long_asset')\n",
    "    elif is_saving.lower() == 'long_return':\n",
    "        result['long_return'].to_excel(writer, sheet_name='long_return')\n",
    "    elif is_saving.lower() == 'long_short_return':\n",
    "        result['long_return'].to_excel(writer, sheet_name='long_short_return')\n",
    "    else:\n",
    "        for i in is_saving:\n",
    "            result[keys[i]].to_excel(writer, sheet_name=keys[i])\n",
    "            \n",
    "    writer.save()"
   ]
  },
  {
   "cell_type": "code",
   "execution_count": 67,
   "metadata": {},
   "outputs": [],
   "source": [
    "store_in_excel(result, 'raTio', 'ratio')"
   ]
  },
  {
   "cell_type": "code",
   "execution_count": 40,
   "metadata": {},
   "outputs": [
    {
     "data": {
      "text/plain": [
       "'E:\\\\Python\\\\tensorflow\\\\strategy_research\\\\task_temp'"
      ]
     },
     "execution_count": 40,
     "metadata": {},
     "output_type": "execute_result"
    }
   ],
   "source": [
    "import os\n",
    "os.getcwd()"
   ]
  },
  {
   "cell_type": "code",
   "execution_count": 51,
   "metadata": {},
   "outputs": [],
   "source": [
    "result_path = os.getcwd()+'/result'\n",
    "if os.path.exists(result_path) is False:\n",
    "    os.makedirs(result_path)"
   ]
  },
  {
   "cell_type": "code",
   "execution_count": 46,
   "metadata": {},
   "outputs": [
    {
     "data": {
      "text/plain": [
       "True"
      ]
     },
     "execution_count": 46,
     "metadata": {},
     "output_type": "execute_result"
    }
   ],
   "source": [
    "os.path.exists(result_path)"
   ]
  },
  {
   "cell_type": "code",
   "execution_count": 55,
   "metadata": {},
   "outputs": [
    {
     "data": {
      "text/plain": [
       "True"
      ]
     },
     "execution_count": 55,
     "metadata": {},
     "output_type": "execute_result"
    }
   ],
   "source": [
    "'all' is 'all'"
   ]
  },
  {
   "cell_type": "code",
   "execution_count": 4,
   "metadata": {},
   "outputs": [],
   "source": [
    "%load_ext autoreload\n",
    "%autoreload 2"
   ]
  },
  {
   "cell_type": "code",
   "execution_count": null,
   "metadata": {},
   "outputs": [],
   "source": []
  },
  {
   "cell_type": "code",
   "execution_count": 6,
   "metadata": {},
   "outputs": [
    {
     "data": {
      "application/vnd.jupyter.widget-view+json": {
       "model_id": "7091342cb9584d119e1e9e0b41e80af0",
       "version_major": 2,
       "version_minor": 0
      },
      "text/plain": [
       "HBox(children=(IntProgress(value=0, max=25), HTML(value='')))"
      ]
     },
     "metadata": {},
     "output_type": "display_data"
    },
    {
     "name": "stdout",
     "output_type": "stream",
     "text": [
      "\n",
      "finish, see youhold on...\n"
     ]
    }
   ],
   "source": [
    "result = calc_pair_trading('SMH', method='ewm', is_saving='ratio', save_name='ratio_data',\n",
    "                  period=170, show_bar=True)"
   ]
  },
  {
   "cell_type": "code",
   "execution_count": null,
   "metadata": {},
   "outputs": [],
   "source": [
    "result = calc_pair_trading('SMH', method='ewm', is_saving='true', save_name='ratio_data',\n",
    "                  period=170, show_bar=True)"
   ]
  },
  {
   "cell_type": "code",
   "execution_count": 8,
   "metadata": {},
   "outputs": [],
   "source": [
    "from utils import *"
   ]
  },
  {
   "cell_type": "code",
   "execution_count": 14,
   "metadata": {},
   "outputs": [
    {
     "name": "stdout",
     "output_type": "stream",
     "text": [
      "finish, see you          \n"
     ]
    }
   ],
   "source": [
    "store_in_excel(result, '23', 'return')"
   ]
  },
  {
   "cell_type": "code",
   "execution_count": 4,
   "metadata": {},
   "outputs": [],
   "source": [
    "from time import sleep"
   ]
  },
  {
   "cell_type": "code",
   "execution_count": 7,
   "metadata": {},
   "outputs": [
    {
     "name": "stdout",
     "output_type": "stream",
     "text": [
      "123\n",
      "12300000\n"
     ]
    }
   ],
   "source": [
    "print('123')\n",
    "print('32100000', end='')\n",
    "sleep(0.5)\n",
    "print('\\r123')"
   ]
  },
  {
   "cell_type": "code",
   "execution_count": null,
   "metadata": {},
   "outputs": [],
   "source": [
    "# from tqdm import trange\n",
    "# from time import sleep\n",
    "for i in trange(10, desc='1st loop', leave=False):\n",
    "    for j in trange(5, desc='\\r2nd loop', leave=False):\n",
    "#         for k in trange(100, desc='3nd loop'):\n",
    "        sleep(0.01)"
   ]
  },
  {
   "cell_type": "code",
   "execution_count": null,
   "metadata": {},
   "outputs": [
    {
     "name": "stderr",
     "output_type": "stream",
     "text": [
      "\n",
      "\n",
      "  0%|                                                                                          | 0/100 [00:00<?, ?it/s]"
     ]
    }
   ],
   "source": [
    "from multiprocessing import Pool\n",
    "from tqdm import tqdm\n",
    "\n",
    "\n",
    "def myfunc(a):\n",
    "    return a ** 2\n",
    "\n",
    "\n",
    "N = 100\n",
    "pbar = tqdm(total=N)\n",
    "res = [None] * N  # result list of correct size\n",
    "\n",
    "def wrapMyFunc(arg):\n",
    "    return arg, myfunc(arg)\n",
    "\n",
    "def update(i, ans):\n",
    "    # note: input comes from async `wrapMyFunc`\n",
    "    res[i] = ans  # put answer into correct index of result list\n",
    "    pbar.update()\n",
    "\n",
    "pool = Pool(2)\n",
    "for i in range(N):\n",
    "    pool.apply_async(wrapMyFunc, args=(i,), callback=update)\n",
    "pool.close()\n",
    "pool.join()\n",
    "pbar.close()"
   ]
  }
 ],
 "metadata": {
  "kernelspec": {
   "display_name": "Python 3",
   "language": "python",
   "name": "python3"
  },
  "language_info": {
   "codemirror_mode": {
    "name": "ipython",
    "version": 3
   },
   "file_extension": ".py",
   "mimetype": "text/x-python",
   "name": "python",
   "nbconvert_exporter": "python",
   "pygments_lexer": "ipython3",
   "version": "3.6.5"
  },
  "toc": {
   "base_numbering": 1,
   "nav_menu": {},
   "number_sections": true,
   "sideBar": true,
   "skip_h1_title": false,
   "title_cell": "Table of Contents",
   "title_sidebar": "Contents",
   "toc_cell": false,
   "toc_position": {},
   "toc_section_display": true,
   "toc_window_display": false
  },
  "varInspector": {
   "cols": {
    "lenName": 16,
    "lenType": 16,
    "lenVar": 40
   },
   "kernels_config": {
    "python": {
     "delete_cmd_postfix": "",
     "delete_cmd_prefix": "del ",
     "library": "var_list.py",
     "varRefreshCmd": "print(var_dic_list())"
    },
    "r": {
     "delete_cmd_postfix": ") ",
     "delete_cmd_prefix": "rm(",
     "library": "var_list.r",
     "varRefreshCmd": "cat(var_dic_list()) "
    }
   },
   "position": {
    "height": "436px",
    "left": "1550px",
    "right": "20px",
    "top": "120px",
    "width": "350px"
   },
   "types_to_exclude": [
    "module",
    "function",
    "builtin_function_or_method",
    "instance",
    "_Feature"
   ],
   "window_display": false
  }
 },
 "nbformat": 4,
 "nbformat_minor": 2
}
