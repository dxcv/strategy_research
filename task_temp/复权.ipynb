{
 "cells": [
  {
   "cell_type": "code",
   "execution_count": 1,
   "metadata": {},
   "outputs": [],
   "source": [
    "%load_ext autoreload\n",
    "%autoreload 2\n",
    "\n",
    "import numpy as np\n",
    "import pandas as pd\n",
    "import matplotlib.pyplot as plt\n",
    "import seaborn as sns\n",
    "# import statsmodels.api as sm\n",
    "# import tushare as ts\n",
    "import QUANTAXIS as QA\n",
    "import talib as ta\n",
    "import datetime, time"
   ]
  },
  {
   "cell_type": "markdown",
   "metadata": {},
   "source": [
    "先拿不复权, 前复权, 后复权数据做对比\n",
    "\n",
    "然后怎么在几个之间进行转换\n",
    "\n",
    "最后是怎么做到更新数据"
   ]
  },
  {
   "cell_type": "code",
   "execution_count": 2,
   "metadata": {},
   "outputs": [],
   "source": [
    "code = '000001'\n",
    "start = '2000-01-01'\n",
    "end = '2018-12-31'"
   ]
  },
  {
   "cell_type": "code",
   "execution_count": 3,
   "metadata": {
    "scrolled": true
   },
   "outputs": [],
   "source": [
    "data = QA.QA_fetch_stock_day_adv(code, start, end)\n",
    "data_qfq = data.to_qfq()\n",
    "data_hfq = data.to_hfq()"
   ]
  },
  {
   "cell_type": "code",
   "execution_count": 4,
   "metadata": {},
   "outputs": [
    {
     "data": {
      "text/html": [
       "<div>\n",
       "<style scoped>\n",
       "    .dataframe tbody tr th:only-of-type {\n",
       "        vertical-align: middle;\n",
       "    }\n",
       "\n",
       "    .dataframe tbody tr th {\n",
       "        vertical-align: top;\n",
       "    }\n",
       "\n",
       "    .dataframe thead th {\n",
       "        text-align: right;\n",
       "    }\n",
       "</style>\n",
       "<table border=\"1\" class=\"dataframe\">\n",
       "  <thead>\n",
       "    <tr style=\"text-align: right;\">\n",
       "      <th></th>\n",
       "      <th></th>\n",
       "      <th>open</th>\n",
       "      <th>high</th>\n",
       "      <th>low</th>\n",
       "      <th>close</th>\n",
       "      <th>volume</th>\n",
       "      <th>amount</th>\n",
       "    </tr>\n",
       "    <tr>\n",
       "      <th>date</th>\n",
       "      <th>code</th>\n",
       "      <th></th>\n",
       "      <th></th>\n",
       "      <th></th>\n",
       "      <th></th>\n",
       "      <th></th>\n",
       "      <th></th>\n",
       "    </tr>\n",
       "  </thead>\n",
       "  <tbody>\n",
       "    <tr>\n",
       "      <th>2000-01-04</th>\n",
       "      <th>000001</th>\n",
       "      <td>17.50</td>\n",
       "      <td>18.55</td>\n",
       "      <td>17.20</td>\n",
       "      <td>18.29</td>\n",
       "      <td>82160.0</td>\n",
       "      <td>147325360.0</td>\n",
       "    </tr>\n",
       "    <tr>\n",
       "      <th>2000-01-05</th>\n",
       "      <th>000001</th>\n",
       "      <td>18.35</td>\n",
       "      <td>18.85</td>\n",
       "      <td>18.00</td>\n",
       "      <td>18.06</td>\n",
       "      <td>93993.0</td>\n",
       "      <td>173475152.0</td>\n",
       "    </tr>\n",
       "    <tr>\n",
       "      <th>2000-01-06</th>\n",
       "      <th>000001</th>\n",
       "      <td>18.02</td>\n",
       "      <td>19.05</td>\n",
       "      <td>17.75</td>\n",
       "      <td>18.78</td>\n",
       "      <td>120222.0</td>\n",
       "      <td>221192512.0</td>\n",
       "    </tr>\n",
       "    <tr>\n",
       "      <th>2000-01-07</th>\n",
       "      <th>000001</th>\n",
       "      <td>19.00</td>\n",
       "      <td>19.77</td>\n",
       "      <td>18.90</td>\n",
       "      <td>19.54</td>\n",
       "      <td>229346.0</td>\n",
       "      <td>443592448.0</td>\n",
       "    </tr>\n",
       "    <tr>\n",
       "      <th>2000-01-10</th>\n",
       "      <th>000001</th>\n",
       "      <td>19.79</td>\n",
       "      <td>20.48</td>\n",
       "      <td>19.77</td>\n",
       "      <td>20.14</td>\n",
       "      <td>185210.0</td>\n",
       "      <td>372294496.0</td>\n",
       "    </tr>\n",
       "  </tbody>\n",
       "</table>\n",
       "</div>"
      ],
      "text/plain": [
       "                    open   high    low  close    volume       amount\n",
       "date       code                                                     \n",
       "2000-01-04 000001  17.50  18.55  17.20  18.29   82160.0  147325360.0\n",
       "2000-01-05 000001  18.35  18.85  18.00  18.06   93993.0  173475152.0\n",
       "2000-01-06 000001  18.02  19.05  17.75  18.78  120222.0  221192512.0\n",
       "2000-01-07 000001  19.00  19.77  18.90  19.54  229346.0  443592448.0\n",
       "2000-01-10 000001  19.79  20.48  19.77  20.14  185210.0  372294496.0"
      ]
     },
     "execution_count": 4,
     "metadata": {},
     "output_type": "execute_result"
    }
   ],
   "source": [
    "data.data.head()"
   ]
  },
  {
   "cell_type": "code",
   "execution_count": 5,
   "metadata": {},
   "outputs": [
    {
     "data": {
      "text/html": [
       "<div>\n",
       "<style scoped>\n",
       "    .dataframe tbody tr th:only-of-type {\n",
       "        vertical-align: middle;\n",
       "    }\n",
       "\n",
       "    .dataframe tbody tr th {\n",
       "        vertical-align: top;\n",
       "    }\n",
       "\n",
       "    .dataframe thead th {\n",
       "        text-align: right;\n",
       "    }\n",
       "</style>\n",
       "<table border=\"1\" class=\"dataframe\">\n",
       "  <thead>\n",
       "    <tr style=\"text-align: right;\">\n",
       "      <th></th>\n",
       "      <th></th>\n",
       "      <th>open</th>\n",
       "      <th>high</th>\n",
       "      <th>low</th>\n",
       "      <th>close</th>\n",
       "      <th>volume</th>\n",
       "      <th>amount</th>\n",
       "    </tr>\n",
       "    <tr>\n",
       "      <th>date</th>\n",
       "      <th>code</th>\n",
       "      <th></th>\n",
       "      <th></th>\n",
       "      <th></th>\n",
       "      <th></th>\n",
       "      <th></th>\n",
       "      <th></th>\n",
       "    </tr>\n",
       "  </thead>\n",
       "  <tbody>\n",
       "    <tr>\n",
       "      <th>2018-12-24</th>\n",
       "      <th>000001</th>\n",
       "      <td>9.40</td>\n",
       "      <td>9.45</td>\n",
       "      <td>9.31</td>\n",
       "      <td>9.42</td>\n",
       "      <td>509117.0</td>\n",
       "      <td>477186912.0</td>\n",
       "    </tr>\n",
       "    <tr>\n",
       "      <th>2018-12-25</th>\n",
       "      <th>000001</th>\n",
       "      <td>9.29</td>\n",
       "      <td>9.43</td>\n",
       "      <td>9.21</td>\n",
       "      <td>9.34</td>\n",
       "      <td>586615.0</td>\n",
       "      <td>545235584.0</td>\n",
       "    </tr>\n",
       "    <tr>\n",
       "      <th>2018-12-26</th>\n",
       "      <th>000001</th>\n",
       "      <td>9.35</td>\n",
       "      <td>9.42</td>\n",
       "      <td>9.27</td>\n",
       "      <td>9.30</td>\n",
       "      <td>421140.0</td>\n",
       "      <td>393215136.0</td>\n",
       "    </tr>\n",
       "    <tr>\n",
       "      <th>2018-12-27</th>\n",
       "      <th>000001</th>\n",
       "      <td>9.45</td>\n",
       "      <td>9.49</td>\n",
       "      <td>9.28</td>\n",
       "      <td>9.28</td>\n",
       "      <td>624593.0</td>\n",
       "      <td>586343744.0</td>\n",
       "    </tr>\n",
       "    <tr>\n",
       "      <th>2018-12-28</th>\n",
       "      <th>000001</th>\n",
       "      <td>9.31</td>\n",
       "      <td>9.46</td>\n",
       "      <td>9.31</td>\n",
       "      <td>9.38</td>\n",
       "      <td>576604.0</td>\n",
       "      <td>541571008.0</td>\n",
       "    </tr>\n",
       "  </tbody>\n",
       "</table>\n",
       "</div>"
      ],
      "text/plain": [
       "                   open  high   low  close    volume       amount\n",
       "date       code                                                  \n",
       "2018-12-24 000001  9.40  9.45  9.31   9.42  509117.0  477186912.0\n",
       "2018-12-25 000001  9.29  9.43  9.21   9.34  586615.0  545235584.0\n",
       "2018-12-26 000001  9.35  9.42  9.27   9.30  421140.0  393215136.0\n",
       "2018-12-27 000001  9.45  9.49  9.28   9.28  624593.0  586343744.0\n",
       "2018-12-28 000001  9.31  9.46  9.31   9.38  576604.0  541571008.0"
      ]
     },
     "execution_count": 5,
     "metadata": {},
     "output_type": "execute_result"
    }
   ],
   "source": [
    "data.data.tail()"
   ]
  },
  {
   "cell_type": "code",
   "execution_count": 21,
   "metadata": {},
   "outputs": [],
   "source": [
    "# data_qfq.data.head()"
   ]
  },
  {
   "cell_type": "code",
   "execution_count": 23,
   "metadata": {},
   "outputs": [],
   "source": [
    "# data_qfq.data.tail()"
   ]
  },
  {
   "cell_type": "code",
   "execution_count": 24,
   "metadata": {},
   "outputs": [],
   "source": [
    "# data_hfq.data.head()"
   ]
  },
  {
   "cell_type": "code",
   "execution_count": 25,
   "metadata": {},
   "outputs": [],
   "source": [
    "# data_hfq.data.tail()"
   ]
  },
  {
   "cell_type": "code",
   "execution_count": 17,
   "metadata": {},
   "outputs": [],
   "source": [
    "qfq_adj = data_qfq.close / data.close"
   ]
  },
  {
   "cell_type": "code",
   "execution_count": 28,
   "metadata": {
    "scrolled": true
   },
   "outputs": [],
   "source": [
    "hfq_close = data_qfq.close * (qfq_adj[-1] / qfq_adj[0])"
   ]
  },
  {
   "cell_type": "code",
   "execution_count": 26,
   "metadata": {},
   "outputs": [],
   "source": [
    "hfq_adj = data_hfq.close / data.close"
   ]
  },
  {
   "cell_type": "code",
   "execution_count": 29,
   "metadata": {
    "scrolled": true
   },
   "outputs": [],
   "source": [
    "qfq_close = data_hfq.close * (hfq_adj[0] / hfq_adj[-1])"
   ]
  }
 ],
 "metadata": {
  "kernelspec": {
   "display_name": "Python (quant)",
   "language": "python",
   "name": "quant"
  },
  "language_info": {
   "codemirror_mode": {
    "name": "ipython",
    "version": 3
   },
   "file_extension": ".py",
   "mimetype": "text/x-python",
   "name": "python",
   "nbconvert_exporter": "python",
   "pygments_lexer": "ipython3",
   "version": "3.6.6"
  },
  "toc": {
   "base_numbering": 1,
   "nav_menu": {},
   "number_sections": true,
   "sideBar": true,
   "skip_h1_title": false,
   "title_cell": "Table of Contents",
   "title_sidebar": "Contents",
   "toc_cell": false,
   "toc_position": {},
   "toc_section_display": true,
   "toc_window_display": false
  },
  "varInspector": {
   "cols": {
    "lenName": 16,
    "lenType": 16,
    "lenVar": 40
   },
   "kernels_config": {
    "python": {
     "delete_cmd_postfix": "",
     "delete_cmd_prefix": "del ",
     "library": "var_list.py",
     "varRefreshCmd": "print(var_dic_list())"
    },
    "r": {
     "delete_cmd_postfix": ") ",
     "delete_cmd_prefix": "rm(",
     "library": "var_list.r",
     "varRefreshCmd": "cat(var_dic_list()) "
    }
   },
   "types_to_exclude": [
    "module",
    "function",
    "builtin_function_or_method",
    "instance",
    "_Feature"
   ],
   "window_display": false
  }
 },
 "nbformat": 4,
 "nbformat_minor": 2
}
