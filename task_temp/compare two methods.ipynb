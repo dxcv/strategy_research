{
 "cells": [
  {
   "cell_type": "code",
   "execution_count": 1,
   "metadata": {},
   "outputs": [],
   "source": [
    "import numpy as np\n",
    "import pandas as pd\n",
    "import matplotlib.pyplot as plt\n",
    "import seaborn as sns\n",
    "# import statsmodels.api as sm\n",
    "import QUANTAXIS as QA\n",
    "import talib as ta\n",
    "import datetime #, time"
   ]
  },
  {
   "cell_type": "code",
   "execution_count": 2,
   "metadata": {},
   "outputs": [],
   "source": [
    "plt.rcParams['figure.figsize'] = [12, 8]\n",
    "plt.rcParams['image.interpolation'] = 'nearest'\n",
    "plt.rcParams['image.cmap'] = 'gray'\n",
    "plt.style.use('ggplot')"
   ]
  },
  {
   "cell_type": "markdown",
   "metadata": {},
   "source": [
    "挑两只股票进行对比\n",
    "\n",
    "比如AMZN和MSFT\n",
    "\n",
    "获取两只股票的价格\n",
    "\n",
    "正序，不要搞逆序了，233\n",
    "\n",
    "想到了再说\n",
    "\n",
    "算ratio\n",
    "\n",
    "循环算side"
   ]
  },
  {
   "cell_type": "code",
   "execution_count": 3,
   "metadata": {},
   "outputs": [],
   "source": [
    "code = ['AMZN', 'MSFT']\n",
    "start = '2010-01-01'\n",
    "end = '2018-12-19'"
   ]
  },
  {
   "cell_type": "code",
   "execution_count": 9,
   "metadata": {},
   "outputs": [],
   "source": [
    "AMZN_data = QA.QA_fetch_get_usstock_day('tdx', code[0], start, end)\n",
    "MSFT_data = QA.QA_fetch_get_usstock_day('tdx', code[1], start, end)"
   ]
  },
  {
   "cell_type": "code",
   "execution_count": 13,
   "metadata": {
    "collapsed": true
   },
   "outputs": [
    {
     "data": {
      "text/html": [
       "<div>\n",
       "<style scoped>\n",
       "    .dataframe tbody tr th:only-of-type {\n",
       "        vertical-align: middle;\n",
       "    }\n",
       "\n",
       "    .dataframe tbody tr th {\n",
       "        vertical-align: top;\n",
       "    }\n",
       "\n",
       "    .dataframe thead th {\n",
       "        text-align: right;\n",
       "    }\n",
       "</style>\n",
       "<table border=\"1\" class=\"dataframe\">\n",
       "  <thead>\n",
       "    <tr style=\"text-align: right;\">\n",
       "      <th></th>\n",
       "      <th>open</th>\n",
       "      <th>high</th>\n",
       "      <th>low</th>\n",
       "      <th>close</th>\n",
       "      <th>position</th>\n",
       "      <th>trade</th>\n",
       "      <th>price</th>\n",
       "      <th>amount</th>\n",
       "      <th>date</th>\n",
       "      <th>code</th>\n",
       "      <th>date_stamp</th>\n",
       "    </tr>\n",
       "    <tr>\n",
       "      <th>date</th>\n",
       "      <th></th>\n",
       "      <th></th>\n",
       "      <th></th>\n",
       "      <th></th>\n",
       "      <th></th>\n",
       "      <th></th>\n",
       "      <th></th>\n",
       "      <th></th>\n",
       "      <th></th>\n",
       "      <th></th>\n",
       "      <th></th>\n",
       "    </tr>\n",
       "  </thead>\n",
       "  <tbody>\n",
       "    <tr>\n",
       "      <th>2010-01-04</th>\n",
       "      <td>30.620001</td>\n",
       "      <td>31.100000</td>\n",
       "      <td>30.590000</td>\n",
       "      <td>30.950001</td>\n",
       "      <td>0</td>\n",
       "      <td>384091</td>\n",
       "      <td>0.0</td>\n",
       "      <td>0.0</td>\n",
       "      <td>2010-01-04</td>\n",
       "      <td>MSFT</td>\n",
       "      <td>1.262534e+09</td>\n",
       "    </tr>\n",
       "    <tr>\n",
       "      <th>2010-01-05</th>\n",
       "      <td>30.850000</td>\n",
       "      <td>31.100000</td>\n",
       "      <td>30.639999</td>\n",
       "      <td>30.959999</td>\n",
       "      <td>0</td>\n",
       "      <td>497496</td>\n",
       "      <td>0.0</td>\n",
       "      <td>0.0</td>\n",
       "      <td>2010-01-05</td>\n",
       "      <td>MSFT</td>\n",
       "      <td>1.262621e+09</td>\n",
       "    </tr>\n",
       "    <tr>\n",
       "      <th>2010-01-06</th>\n",
       "      <td>30.879999</td>\n",
       "      <td>31.080000</td>\n",
       "      <td>30.520000</td>\n",
       "      <td>30.770000</td>\n",
       "      <td>0</td>\n",
       "      <td>581824</td>\n",
       "      <td>0.0</td>\n",
       "      <td>0.0</td>\n",
       "      <td>2010-01-06</td>\n",
       "      <td>MSFT</td>\n",
       "      <td>1.262707e+09</td>\n",
       "    </tr>\n",
       "    <tr>\n",
       "      <th>2010-01-07</th>\n",
       "      <td>30.629999</td>\n",
       "      <td>30.700001</td>\n",
       "      <td>30.190001</td>\n",
       "      <td>30.450001</td>\n",
       "      <td>0</td>\n",
       "      <td>505597</td>\n",
       "      <td>0.0</td>\n",
       "      <td>0.0</td>\n",
       "      <td>2010-01-07</td>\n",
       "      <td>MSFT</td>\n",
       "      <td>1.262794e+09</td>\n",
       "    </tr>\n",
       "    <tr>\n",
       "      <th>2010-01-08</th>\n",
       "      <td>30.280001</td>\n",
       "      <td>30.879999</td>\n",
       "      <td>30.240000</td>\n",
       "      <td>30.660000</td>\n",
       "      <td>0</td>\n",
       "      <td>511974</td>\n",
       "      <td>0.0</td>\n",
       "      <td>0.0</td>\n",
       "      <td>2010-01-08</td>\n",
       "      <td>MSFT</td>\n",
       "      <td>1.262880e+09</td>\n",
       "    </tr>\n",
       "  </tbody>\n",
       "</table>\n",
       "</div>"
      ],
      "text/plain": [
       "                 open       high        low      close  position   trade  \\\n",
       "date                                                                       \n",
       "2010-01-04  30.620001  31.100000  30.590000  30.950001         0  384091   \n",
       "2010-01-05  30.850000  31.100000  30.639999  30.959999         0  497496   \n",
       "2010-01-06  30.879999  31.080000  30.520000  30.770000         0  581824   \n",
       "2010-01-07  30.629999  30.700001  30.190001  30.450001         0  505597   \n",
       "2010-01-08  30.280001  30.879999  30.240000  30.660000         0  511974   \n",
       "\n",
       "            price  amount        date  code    date_stamp  \n",
       "date                                                       \n",
       "2010-01-04    0.0     0.0  2010-01-04  MSFT  1.262534e+09  \n",
       "2010-01-05    0.0     0.0  2010-01-05  MSFT  1.262621e+09  \n",
       "2010-01-06    0.0     0.0  2010-01-06  MSFT  1.262707e+09  \n",
       "2010-01-07    0.0     0.0  2010-01-07  MSFT  1.262794e+09  \n",
       "2010-01-08    0.0     0.0  2010-01-08  MSFT  1.262880e+09  "
      ]
     },
     "execution_count": 13,
     "metadata": {},
     "output_type": "execute_result"
    }
   ],
   "source": [
    "MSFT_data.head()"
   ]
  },
  {
   "cell_type": "code",
   "execution_count": 12,
   "metadata": {},
   "outputs": [],
   "source": [
    "AMZN_close = AMZN_data.close\n",
    "MSFT_close = MSFT_data.close"
   ]
  },
  {
   "cell_type": "code",
   "execution_count": 15,
   "metadata": {},
   "outputs": [],
   "source": [
    "ratio = AMZN_close / MSFT_close"
   ]
  },
  {
   "cell_type": "code",
   "execution_count": 38,
   "metadata": {},
   "outputs": [],
   "source": [
    "position_side_list = []\n",
    "for i in range(ratio.shape[0]):\n",
    "    if i > 1:\n",
    "        if ratio[i] > np.mean(ratio[:i-1]):\n",
    "            position_side_list.append(1)\n",
    "        elif ratio[i] < np.mean(ratio[:i-1]):\n",
    "            position_side_list.append(-1)\n",
    "        else:\n",
    "            position_side_list.append(np.nan)\n",
    "    elif i == 1:\n",
    "        if ratio[1] > ratio[0]:\n",
    "            position_side_list.append(1)\n",
    "        elif ratio[1] < ratio[0]:\n",
    "            position_side_list.append(-1)\n",
    "        else:\n",
    "            position_side_list.append(np.nan)\n",
    "    elif i == 0:\n",
    "        position_side_list.append(np.nan)\n",
    "position_side_series = pd.Series(position_side_list, ratio.index)"
   ]
  },
  {
   "cell_type": "code",
   "execution_count": 37,
   "metadata": {},
   "outputs": [
    {
     "data": {
      "text/plain": [
       "True"
      ]
     },
     "execution_count": 37,
     "metadata": {},
     "output_type": "execute_result"
    }
   ],
   "source": [
    "ratio[2255]"
   ]
  },
  {
   "cell_type": "code",
   "execution_count": 26,
   "metadata": {},
   "outputs": [
    {
     "data": {
      "text/plain": [
       "date\n",
       "2010-01-04    NaN\n",
       "2010-01-05    1.0\n",
       "2010-01-06   -1.0\n",
       "2010-01-07   -1.0\n",
       "2010-01-08    1.0\n",
       "dtype: float64"
      ]
     },
     "execution_count": 26,
     "metadata": {},
     "output_type": "execute_result"
    }
   ],
   "source": [
    "position_side_series.head()"
   ]
  },
  {
   "cell_type": "code",
   "execution_count": 39,
   "metadata": {},
   "outputs": [
    {
     "data": {
      "text/plain": [
       "1799.0"
      ]
     },
     "execution_count": 39,
     "metadata": {},
     "output_type": "execute_result"
    }
   ],
   "source": [
    "position_side_series.sum()"
   ]
  },
  {
   "cell_type": "code",
   "execution_count": 40,
   "metadata": {},
   "outputs": [
    {
     "data": {
      "text/plain": [
       "22457.885555324698"
      ]
     },
     "execution_count": 40,
     "metadata": {},
     "output_type": "execute_result"
    }
   ],
   "source": [
    "ratio.sum()"
   ]
  },
  {
   "cell_type": "code",
   "execution_count": 28,
   "metadata": {},
   "outputs": [
    {
     "data": {
      "text/plain": [
       "date\n",
       "2010-01-04    NaN\n",
       "2010-01-05    NaN\n",
       "2010-01-06    1.0\n",
       "2010-01-07   -1.0\n",
       "2010-01-08   -1.0\n",
       "dtype: float64"
      ]
     },
     "execution_count": 28,
     "metadata": {},
     "output_type": "execute_result"
    }
   ],
   "source": [
    "position_side_series.shift(1).head()"
   ]
  },
  {
   "cell_type": "code",
   "execution_count": 29,
   "metadata": {},
   "outputs": [],
   "source": [
    "backtest_position_side = position_side_series.shift(1)"
   ]
  },
  {
   "cell_type": "code",
   "execution_count": 19,
   "metadata": {},
   "outputs": [
    {
     "data": {
      "text/plain": [
       "date\n",
       "2010-01-04    4.326332\n",
       "2010-01-05    4.350452\n",
       "2010-01-06    4.298017\n",
       "2010-01-07    4.269294\n",
       "2010-01-08    4.354860\n",
       "Name: close, dtype: float64"
      ]
     },
     "execution_count": 19,
     "metadata": {},
     "output_type": "execute_result"
    }
   ],
   "source": [
    "ratio.head()"
   ]
  },
  {
   "cell_type": "code",
   "execution_count": 27,
   "metadata": {},
   "outputs": [
    {
     "data": {
      "text/plain": [
       "date\n",
       "2010-01-04         NaN\n",
       "2010-01-05    0.005900\n",
       "2010-01-06   -0.018116\n",
       "2010-01-07   -0.017013\n",
       "2010-01-08    0.027077\n",
       "Name: close, dtype: float64"
      ]
     },
     "execution_count": 27,
     "metadata": {},
     "output_type": "execute_result"
    }
   ],
   "source": [
    "AMZN_close.pct_change().head()"
   ]
  },
  {
   "cell_type": "code",
   "execution_count": 30,
   "metadata": {},
   "outputs": [],
   "source": [
    "AMZN_pct = AMZN_close.pct_change()\n",
    "MSFT_pct = MSFT_close.pct_change()"
   ]
  },
  {
   "cell_type": "code",
   "execution_count": 33,
   "metadata": {},
   "outputs": [
    {
     "data": {
      "text/plain": [
       "0.0009430844400986199"
      ]
     },
     "execution_count": 33,
     "metadata": {},
     "output_type": "execute_result"
    }
   ],
   "source": [
    "((1+backtest_position_side)/2 * AMZN_pct + \\\n",
    " (1-backtest_position_side)/2 * MSFT_pct).mean()"
   ]
  },
  {
   "cell_type": "code",
   "execution_count": 64,
   "metadata": {},
   "outputs": [
    {
     "data": {
      "text/plain": [
       "-1.977600631827883e-05"
      ]
     },
     "execution_count": 64,
     "metadata": {},
     "output_type": "execute_result"
    }
   ],
   "source": [
    "(backtest_position_side * (AMZN_pct - MSFT_pct)).mean()"
   ]
  },
  {
   "cell_type": "code",
   "execution_count": 46,
   "metadata": {
    "collapsed": true
   },
   "outputs": [
    {
     "data": {
      "text/plain": [
       "date\n",
       "2010-01-04         NaN\n",
       "2010-01-05         NaN\n",
       "2010-01-06         NaN\n",
       "2010-01-07         NaN\n",
       "2010-01-08         NaN\n",
       "2010-01-11         NaN\n",
       "2010-01-12         NaN\n",
       "2010-01-13         NaN\n",
       "2010-01-14         NaN\n",
       "2010-01-15         NaN\n",
       "2010-01-19         NaN\n",
       "2010-01-20         NaN\n",
       "2010-01-21         NaN\n",
       "2010-01-22    4.232400\n",
       "2010-01-25    4.216472\n",
       "2010-01-26    4.195024\n",
       "2010-01-27    4.183535\n",
       "2010-01-28    4.187301\n",
       "2010-01-29    4.194119\n",
       "2010-02-01    4.185488\n",
       "Name: close, dtype: float64"
      ]
     },
     "execution_count": 46,
     "metadata": {},
     "output_type": "execute_result"
    }
   ],
   "source": [
    "ratio > ratio.rolling(14).mean()"
   ]
  },
  {
   "cell_type": "code",
   "execution_count": 68,
   "metadata": {},
   "outputs": [],
   "source": [
    "backtest_position_side_rolling = pd.Series(np.where(ratio>ratio.\\\n",
    "            rolling(14).mean(), 1, -1).tolist(), ratio.index).shift(1)"
   ]
  },
  {
   "cell_type": "code",
   "execution_count": 54,
   "metadata": {},
   "outputs": [
    {
     "data": {
      "text/plain": [
       "date\n",
       "2010-01-04   -1\n",
       "2010-01-05   -1\n",
       "2010-01-06   -1\n",
       "2010-01-07   -1\n",
       "2010-01-08   -1\n",
       "dtype: int64"
      ]
     },
     "execution_count": 54,
     "metadata": {},
     "output_type": "execute_result"
    }
   ],
   "source": [
    "backtest_position_side_rolling.head()"
   ]
  },
  {
   "cell_type": "code",
   "execution_count": 62,
   "metadata": {},
   "outputs": [
    {
     "data": {
      "text/plain": [
       "0.0007901934840344638"
      ]
     },
     "execution_count": 62,
     "metadata": {},
     "output_type": "execute_result"
    }
   ],
   "source": [
    "((1+backtest_position_side_rolling)/2 * AMZN_pct + \\\n",
    " (1-backtest_position_side_rolling)/2 * MSFT_pct).mean()"
   ]
  },
  {
   "cell_type": "code",
   "execution_count": 69,
   "metadata": {},
   "outputs": [
    {
     "data": {
      "text/plain": [
       "-0.00032747237168519866"
      ]
     },
     "execution_count": 69,
     "metadata": {},
     "output_type": "execute_result"
    }
   ],
   "source": [
    "(backtest_position_side_rolling * (AMZN_pct - MSFT_pct)).mean()"
   ]
  },
  {
   "cell_type": "markdown",
   "metadata": {},
   "source": [
    "我们来试下港股的效果"
   ]
  },
  {
   "cell_type": "code",
   "execution_count": 19,
   "metadata": {},
   "outputs": [],
   "source": [
    "code = ['00939', '01398'] # 建设银行 & 工商银行\n",
    "start = '2016-01-10'\n",
    "end = '2018-12-04'"
   ]
  },
  {
   "cell_type": "code",
   "execution_count": 20,
   "metadata": {},
   "outputs": [],
   "source": [
    "JS_data = QA.QA_fetch_get_hkstock_day('tdx', code[0], start, end)\n",
    "GS_data = QA.QA_fetch_get_hkstock_day('tdx', code[1], start, end)"
   ]
  },
  {
   "cell_type": "code",
   "execution_count": 26,
   "metadata": {},
   "outputs": [
    {
     "data": {
      "text/html": [
       "<div>\n",
       "<style scoped>\n",
       "    .dataframe tbody tr th:only-of-type {\n",
       "        vertical-align: middle;\n",
       "    }\n",
       "\n",
       "    .dataframe tbody tr th {\n",
       "        vertical-align: top;\n",
       "    }\n",
       "\n",
       "    .dataframe thead th {\n",
       "        text-align: right;\n",
       "    }\n",
       "</style>\n",
       "<table border=\"1\" class=\"dataframe\">\n",
       "  <thead>\n",
       "    <tr style=\"text-align: right;\">\n",
       "      <th></th>\n",
       "      <th>open</th>\n",
       "      <th>high</th>\n",
       "      <th>low</th>\n",
       "      <th>close</th>\n",
       "      <th>position</th>\n",
       "      <th>trade</th>\n",
       "      <th>price</th>\n",
       "      <th>amount</th>\n",
       "      <th>date</th>\n",
       "      <th>code</th>\n",
       "      <th>date_stamp</th>\n",
       "    </tr>\n",
       "    <tr>\n",
       "      <th>date</th>\n",
       "      <th></th>\n",
       "      <th></th>\n",
       "      <th></th>\n",
       "      <th></th>\n",
       "      <th></th>\n",
       "      <th></th>\n",
       "      <th></th>\n",
       "      <th></th>\n",
       "      <th></th>\n",
       "      <th></th>\n",
       "      <th></th>\n",
       "    </tr>\n",
       "  </thead>\n",
       "  <tbody>\n",
       "    <tr>\n",
       "      <th>2016-01-11</th>\n",
       "      <td>4.94</td>\n",
       "      <td>4.96</td>\n",
       "      <td>4.90</td>\n",
       "      <td>4.92</td>\n",
       "      <td>1320919419</td>\n",
       "      <td>31917</td>\n",
       "      <td>27151000.0</td>\n",
       "      <td>1.573961e+09</td>\n",
       "      <td>2016-01-11</td>\n",
       "      <td>00939</td>\n",
       "      <td>1.452442e+09</td>\n",
       "    </tr>\n",
       "    <tr>\n",
       "      <th>2016-01-12</th>\n",
       "      <td>4.97</td>\n",
       "      <td>4.98</td>\n",
       "      <td>4.88</td>\n",
       "      <td>4.89</td>\n",
       "      <td>1318456089</td>\n",
       "      <td>25601</td>\n",
       "      <td>30595000.0</td>\n",
       "      <td>1.258655e+09</td>\n",
       "      <td>2016-01-12</td>\n",
       "      <td>00939</td>\n",
       "      <td>1.452528e+09</td>\n",
       "    </tr>\n",
       "    <tr>\n",
       "      <th>2016-01-13</th>\n",
       "      <td>4.94</td>\n",
       "      <td>5.01</td>\n",
       "      <td>4.88</td>\n",
       "      <td>4.89</td>\n",
       "      <td>1318730031</td>\n",
       "      <td>26155</td>\n",
       "      <td>24641000.0</td>\n",
       "      <td>1.293719e+09</td>\n",
       "      <td>2016-01-13</td>\n",
       "      <td>00939</td>\n",
       "      <td>1.452614e+09</td>\n",
       "    </tr>\n",
       "    <tr>\n",
       "      <th>2016-01-14</th>\n",
       "      <td>4.82</td>\n",
       "      <td>4.87</td>\n",
       "      <td>4.79</td>\n",
       "      <td>4.82</td>\n",
       "      <td>1321579691</td>\n",
       "      <td>34342</td>\n",
       "      <td>28318000.0</td>\n",
       "      <td>1.658476e+09</td>\n",
       "      <td>2016-01-14</td>\n",
       "      <td>00939</td>\n",
       "      <td>1.452701e+09</td>\n",
       "    </tr>\n",
       "    <tr>\n",
       "      <th>2016-01-15</th>\n",
       "      <td>4.80</td>\n",
       "      <td>4.84</td>\n",
       "      <td>4.72</td>\n",
       "      <td>4.73</td>\n",
       "      <td>1322327211</td>\n",
       "      <td>36841</td>\n",
       "      <td>22516000.0</td>\n",
       "      <td>1.754158e+09</td>\n",
       "      <td>2016-01-15</td>\n",
       "      <td>00939</td>\n",
       "      <td>1.452787e+09</td>\n",
       "    </tr>\n",
       "  </tbody>\n",
       "</table>\n",
       "</div>"
      ],
      "text/plain": [
       "            open  high   low  close    position  trade       price  \\\n",
       "date                                                                 \n",
       "2016-01-11  4.94  4.96  4.90   4.92  1320919419  31917  27151000.0   \n",
       "2016-01-12  4.97  4.98  4.88   4.89  1318456089  25601  30595000.0   \n",
       "2016-01-13  4.94  5.01  4.88   4.89  1318730031  26155  24641000.0   \n",
       "2016-01-14  4.82  4.87  4.79   4.82  1321579691  34342  28318000.0   \n",
       "2016-01-15  4.80  4.84  4.72   4.73  1322327211  36841  22516000.0   \n",
       "\n",
       "                  amount        date   code    date_stamp  \n",
       "date                                                       \n",
       "2016-01-11  1.573961e+09  2016-01-11  00939  1.452442e+09  \n",
       "2016-01-12  1.258655e+09  2016-01-12  00939  1.452528e+09  \n",
       "2016-01-13  1.293719e+09  2016-01-13  00939  1.452614e+09  \n",
       "2016-01-14  1.658476e+09  2016-01-14  00939  1.452701e+09  \n",
       "2016-01-15  1.754158e+09  2016-01-15  00939  1.452787e+09  "
      ]
     },
     "execution_count": 26,
     "metadata": {},
     "output_type": "execute_result"
    }
   ],
   "source": [
    "JS_data.head()"
   ]
  },
  {
   "cell_type": "code",
   "execution_count": 27,
   "metadata": {},
   "outputs": [
    {
     "data": {
      "text/html": [
       "<div>\n",
       "<style scoped>\n",
       "    .dataframe tbody tr th:only-of-type {\n",
       "        vertical-align: middle;\n",
       "    }\n",
       "\n",
       "    .dataframe tbody tr th {\n",
       "        vertical-align: top;\n",
       "    }\n",
       "\n",
       "    .dataframe thead th {\n",
       "        text-align: right;\n",
       "    }\n",
       "</style>\n",
       "<table border=\"1\" class=\"dataframe\">\n",
       "  <thead>\n",
       "    <tr style=\"text-align: right;\">\n",
       "      <th></th>\n",
       "      <th>open</th>\n",
       "      <th>high</th>\n",
       "      <th>low</th>\n",
       "      <th>close</th>\n",
       "      <th>position</th>\n",
       "      <th>trade</th>\n",
       "      <th>price</th>\n",
       "      <th>amount</th>\n",
       "      <th>date</th>\n",
       "      <th>code</th>\n",
       "      <th>date_stamp</th>\n",
       "    </tr>\n",
       "    <tr>\n",
       "      <th>date</th>\n",
       "      <th></th>\n",
       "      <th></th>\n",
       "      <th></th>\n",
       "      <th></th>\n",
       "      <th></th>\n",
       "      <th></th>\n",
       "      <th></th>\n",
       "      <th></th>\n",
       "      <th></th>\n",
       "      <th></th>\n",
       "      <th></th>\n",
       "    </tr>\n",
       "  </thead>\n",
       "  <tbody>\n",
       "    <tr>\n",
       "      <th>2016-01-11</th>\n",
       "      <td>4.22</td>\n",
       "      <td>4.25</td>\n",
       "      <td>4.20</td>\n",
       "      <td>4.22</td>\n",
       "      <td>1317920017</td>\n",
       "      <td>28169</td>\n",
       "      <td>18863000.0</td>\n",
       "      <td>1.190038e+09</td>\n",
       "      <td>2016-01-11</td>\n",
       "      <td>01398</td>\n",
       "      <td>1.452442e+09</td>\n",
       "    </tr>\n",
       "    <tr>\n",
       "      <th>2016-01-12</th>\n",
       "      <td>4.25</td>\n",
       "      <td>4.28</td>\n",
       "      <td>4.13</td>\n",
       "      <td>4.16</td>\n",
       "      <td>1319675885</td>\n",
       "      <td>33728</td>\n",
       "      <td>22086000.0</td>\n",
       "      <td>1.414789e+09</td>\n",
       "      <td>2016-01-12</td>\n",
       "      <td>01398</td>\n",
       "      <td>1.452528e+09</td>\n",
       "    </tr>\n",
       "    <tr>\n",
       "      <th>2016-01-13</th>\n",
       "      <td>4.22</td>\n",
       "      <td>4.28</td>\n",
       "      <td>4.15</td>\n",
       "      <td>4.17</td>\n",
       "      <td>1315884116</td>\n",
       "      <td>23793</td>\n",
       "      <td>16959000.0</td>\n",
       "      <td>1.001592e+09</td>\n",
       "      <td>2016-01-13</td>\n",
       "      <td>01398</td>\n",
       "      <td>1.452614e+09</td>\n",
       "    </tr>\n",
       "    <tr>\n",
       "      <th>2016-01-14</th>\n",
       "      <td>4.10</td>\n",
       "      <td>4.20</td>\n",
       "      <td>4.08</td>\n",
       "      <td>4.15</td>\n",
       "      <td>1314281672</td>\n",
       "      <td>21754</td>\n",
       "      <td>15575000.0</td>\n",
       "      <td>8.990356e+08</td>\n",
       "      <td>2016-01-14</td>\n",
       "      <td>01398</td>\n",
       "      <td>1.452701e+09</td>\n",
       "    </tr>\n",
       "    <tr>\n",
       "      <th>2016-01-15</th>\n",
       "      <td>4.15</td>\n",
       "      <td>4.16</td>\n",
       "      <td>4.05</td>\n",
       "      <td>4.05</td>\n",
       "      <td>1315759489</td>\n",
       "      <td>24318</td>\n",
       "      <td>13315000.0</td>\n",
       "      <td>9.936159e+08</td>\n",
       "      <td>2016-01-15</td>\n",
       "      <td>01398</td>\n",
       "      <td>1.452787e+09</td>\n",
       "    </tr>\n",
       "  </tbody>\n",
       "</table>\n",
       "</div>"
      ],
      "text/plain": [
       "            open  high   low  close    position  trade       price  \\\n",
       "date                                                                 \n",
       "2016-01-11  4.22  4.25  4.20   4.22  1317920017  28169  18863000.0   \n",
       "2016-01-12  4.25  4.28  4.13   4.16  1319675885  33728  22086000.0   \n",
       "2016-01-13  4.22  4.28  4.15   4.17  1315884116  23793  16959000.0   \n",
       "2016-01-14  4.10  4.20  4.08   4.15  1314281672  21754  15575000.0   \n",
       "2016-01-15  4.15  4.16  4.05   4.05  1315759489  24318  13315000.0   \n",
       "\n",
       "                  amount        date   code    date_stamp  \n",
       "date                                                       \n",
       "2016-01-11  1.190038e+09  2016-01-11  01398  1.452442e+09  \n",
       "2016-01-12  1.414789e+09  2016-01-12  01398  1.452528e+09  \n",
       "2016-01-13  1.001592e+09  2016-01-13  01398  1.452614e+09  \n",
       "2016-01-14  8.990356e+08  2016-01-14  01398  1.452701e+09  \n",
       "2016-01-15  9.936159e+08  2016-01-15  01398  1.452787e+09  "
      ]
     },
     "execution_count": 27,
     "metadata": {},
     "output_type": "execute_result"
    }
   ],
   "source": [
    "GS_data.head()"
   ]
  },
  {
   "cell_type": "markdown",
   "metadata": {},
   "source": [
    "through pandas_reader"
   ]
  },
  {
   "cell_type": "code",
   "execution_count": 10,
   "metadata": {},
   "outputs": [],
   "source": [
    "import pandas_datareader as web\n",
    "import datetime"
   ]
  },
  {
   "cell_type": "code",
   "execution_count": 23,
   "metadata": {},
   "outputs": [],
   "source": [
    "start_date = datetime.datetime.strptime(start, '%Y-%m-%d')\n",
    "end_date = datetime.datetime.strptime(end, '%Y-%m-%d')\n",
    "js_data_from_yahoo = web.DataReader(code[0][1:]+'.hk', 'yahoo', start_date, end_date)\n",
    "gs_data_from_yahoo = web.DataReader(code[1][1:]+'.hk', 'yahoo', start_date, end_date)"
   ]
  },
  {
   "cell_type": "code",
   "execution_count": 24,
   "metadata": {},
   "outputs": [
    {
     "data": {
      "text/html": [
       "<div>\n",
       "<style scoped>\n",
       "    .dataframe tbody tr th:only-of-type {\n",
       "        vertical-align: middle;\n",
       "    }\n",
       "\n",
       "    .dataframe tbody tr th {\n",
       "        vertical-align: top;\n",
       "    }\n",
       "\n",
       "    .dataframe thead th {\n",
       "        text-align: right;\n",
       "    }\n",
       "</style>\n",
       "<table border=\"1\" class=\"dataframe\">\n",
       "  <thead>\n",
       "    <tr style=\"text-align: right;\">\n",
       "      <th></th>\n",
       "      <th>High</th>\n",
       "      <th>Low</th>\n",
       "      <th>Open</th>\n",
       "      <th>Close</th>\n",
       "      <th>Volume</th>\n",
       "      <th>Adj Close</th>\n",
       "    </tr>\n",
       "    <tr>\n",
       "      <th>Date</th>\n",
       "      <th></th>\n",
       "      <th></th>\n",
       "      <th></th>\n",
       "      <th></th>\n",
       "      <th></th>\n",
       "      <th></th>\n",
       "    </tr>\n",
       "  </thead>\n",
       "  <tbody>\n",
       "    <tr>\n",
       "      <th>2016-01-11</th>\n",
       "      <td>4.96</td>\n",
       "      <td>4.90</td>\n",
       "      <td>4.94</td>\n",
       "      <td>4.92</td>\n",
       "      <td>319178128.0</td>\n",
       "      <td>4.215010</td>\n",
       "    </tr>\n",
       "    <tr>\n",
       "      <th>2016-01-12</th>\n",
       "      <td>4.98</td>\n",
       "      <td>4.88</td>\n",
       "      <td>4.97</td>\n",
       "      <td>4.89</td>\n",
       "      <td>256018843.0</td>\n",
       "      <td>4.189308</td>\n",
       "    </tr>\n",
       "    <tr>\n",
       "      <th>2016-01-13</th>\n",
       "      <td>5.01</td>\n",
       "      <td>4.88</td>\n",
       "      <td>4.94</td>\n",
       "      <td>4.89</td>\n",
       "      <td>261559608.0</td>\n",
       "      <td>4.189308</td>\n",
       "    </tr>\n",
       "    <tr>\n",
       "      <th>2016-01-14</th>\n",
       "      <td>4.87</td>\n",
       "      <td>4.79</td>\n",
       "      <td>4.82</td>\n",
       "      <td>4.82</td>\n",
       "      <td>343420062.0</td>\n",
       "      <td>4.129339</td>\n",
       "    </tr>\n",
       "    <tr>\n",
       "      <th>2016-01-15</th>\n",
       "      <td>4.84</td>\n",
       "      <td>4.72</td>\n",
       "      <td>4.80</td>\n",
       "      <td>4.73</td>\n",
       "      <td>368419941.0</td>\n",
       "      <td>4.052235</td>\n",
       "    </tr>\n",
       "  </tbody>\n",
       "</table>\n",
       "</div>"
      ],
      "text/plain": [
       "            High   Low  Open  Close       Volume  Adj Close\n",
       "Date                                                       \n",
       "2016-01-11  4.96  4.90  4.94   4.92  319178128.0   4.215010\n",
       "2016-01-12  4.98  4.88  4.97   4.89  256018843.0   4.189308\n",
       "2016-01-13  5.01  4.88  4.94   4.89  261559608.0   4.189308\n",
       "2016-01-14  4.87  4.79  4.82   4.82  343420062.0   4.129339\n",
       "2016-01-15  4.84  4.72  4.80   4.73  368419941.0   4.052235"
      ]
     },
     "execution_count": 24,
     "metadata": {},
     "output_type": "execute_result"
    }
   ],
   "source": [
    "js_data_from_yahoo.head()"
   ]
  },
  {
   "cell_type": "code",
   "execution_count": 25,
   "metadata": {},
   "outputs": [
    {
     "data": {
      "text/html": [
       "<div>\n",
       "<style scoped>\n",
       "    .dataframe tbody tr th:only-of-type {\n",
       "        vertical-align: middle;\n",
       "    }\n",
       "\n",
       "    .dataframe tbody tr th {\n",
       "        vertical-align: top;\n",
       "    }\n",
       "\n",
       "    .dataframe thead th {\n",
       "        text-align: right;\n",
       "    }\n",
       "</style>\n",
       "<table border=\"1\" class=\"dataframe\">\n",
       "  <thead>\n",
       "    <tr style=\"text-align: right;\">\n",
       "      <th></th>\n",
       "      <th>High</th>\n",
       "      <th>Low</th>\n",
       "      <th>Open</th>\n",
       "      <th>Close</th>\n",
       "      <th>Volume</th>\n",
       "      <th>Adj Close</th>\n",
       "    </tr>\n",
       "    <tr>\n",
       "      <th>Date</th>\n",
       "      <th></th>\n",
       "      <th></th>\n",
       "      <th></th>\n",
       "      <th></th>\n",
       "      <th></th>\n",
       "      <th></th>\n",
       "    </tr>\n",
       "  </thead>\n",
       "  <tbody>\n",
       "    <tr>\n",
       "      <th>2016-01-11</th>\n",
       "      <td>4.25</td>\n",
       "      <td>4.20</td>\n",
       "      <td>4.22</td>\n",
       "      <td>4.22</td>\n",
       "      <td>281691602.0</td>\n",
       "      <td>3.566770</td>\n",
       "    </tr>\n",
       "    <tr>\n",
       "      <th>2016-01-12</th>\n",
       "      <td>4.28</td>\n",
       "      <td>4.13</td>\n",
       "      <td>4.25</td>\n",
       "      <td>4.16</td>\n",
       "      <td>337288458.0</td>\n",
       "      <td>3.516058</td>\n",
       "    </tr>\n",
       "    <tr>\n",
       "      <th>2016-01-13</th>\n",
       "      <td>4.28</td>\n",
       "      <td>4.15</td>\n",
       "      <td>4.22</td>\n",
       "      <td>4.17</td>\n",
       "      <td>237935728.0</td>\n",
       "      <td>3.524510</td>\n",
       "    </tr>\n",
       "    <tr>\n",
       "      <th>2016-01-14</th>\n",
       "      <td>4.20</td>\n",
       "      <td>4.08</td>\n",
       "      <td>4.10</td>\n",
       "      <td>4.15</td>\n",
       "      <td>217544037.0</td>\n",
       "      <td>3.507606</td>\n",
       "    </tr>\n",
       "    <tr>\n",
       "      <th>2016-01-15</th>\n",
       "      <td>4.16</td>\n",
       "      <td>4.05</td>\n",
       "      <td>4.15</td>\n",
       "      <td>4.05</td>\n",
       "      <td>243188163.0</td>\n",
       "      <td>3.423086</td>\n",
       "    </tr>\n",
       "  </tbody>\n",
       "</table>\n",
       "</div>"
      ],
      "text/plain": [
       "            High   Low  Open  Close       Volume  Adj Close\n",
       "Date                                                       \n",
       "2016-01-11  4.25  4.20  4.22   4.22  281691602.0   3.566770\n",
       "2016-01-12  4.28  4.13  4.25   4.16  337288458.0   3.516058\n",
       "2016-01-13  4.28  4.15  4.22   4.17  237935728.0   3.524510\n",
       "2016-01-14  4.20  4.08  4.10   4.15  217544037.0   3.507606\n",
       "2016-01-15  4.16  4.05  4.15   4.05  243188163.0   3.423086"
      ]
     },
     "execution_count": 25,
     "metadata": {},
     "output_type": "execute_result"
    }
   ],
   "source": [
    "gs_data_from_yahoo.head()"
   ]
  }
 ],
 "metadata": {
  "kernelspec": {
   "display_name": "Python 3 tensorflow",
   "language": "python",
   "name": "python3"
  },
  "language_info": {
   "codemirror_mode": {
    "name": "ipython",
    "version": 3
   },
   "file_extension": ".py",
   "mimetype": "text/x-python",
   "name": "python",
   "nbconvert_exporter": "python",
   "pygments_lexer": "ipython3",
   "version": "3.5.5"
  },
  "toc": {
   "base_numbering": 1,
   "nav_menu": {},
   "number_sections": true,
   "sideBar": true,
   "skip_h1_title": false,
   "title_cell": "Table of Contents",
   "title_sidebar": "Contents",
   "toc_cell": false,
   "toc_position": {},
   "toc_section_display": true,
   "toc_window_display": false
  },
  "varInspector": {
   "cols": {
    "lenName": 16,
    "lenType": 16,
    "lenVar": 40
   },
   "kernels_config": {
    "python": {
     "delete_cmd_postfix": "",
     "delete_cmd_prefix": "del ",
     "library": "var_list.py",
     "varRefreshCmd": "print(var_dic_list())"
    },
    "r": {
     "delete_cmd_postfix": ") ",
     "delete_cmd_prefix": "rm(",
     "library": "var_list.r",
     "varRefreshCmd": "cat(var_dic_list()) "
    }
   },
   "types_to_exclude": [
    "module",
    "function",
    "builtin_function_or_method",
    "instance",
    "_Feature"
   ],
   "window_display": false
  }
 },
 "nbformat": 4,
 "nbformat_minor": 2
}
