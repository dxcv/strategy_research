{
 "cells": [
  {
   "cell_type": "code",
   "execution_count": 1,
   "metadata": {},
   "outputs": [],
   "source": [
    "%load_ext autoreload\n",
    "%autoreload 2\n",
    "\n",
    "import numpy as np\n",
    "import pandas as pd\n",
    "import matplotlib.pyplot as plt\n",
    "import talib as ta\n",
    "import datetime, time\n",
    "import pickle\n",
    "from tqdm import tqdm_notebook\n",
    "\n",
    "import pdblp as pb\n",
    "import blpapi "
   ]
  },
  {
   "cell_type": "code",
   "execution_count": 2,
   "metadata": {},
   "outputs": [],
   "source": [
    "plt.rcParams['figure.figsize'] = [12, 8]\n",
    "plt.rcParams['image.interpolation'] = 'nearest'\n",
    "plt.rcParams['image.cmap'] = 'gray'\n",
    "plt.style.use('ggplot')"
   ]
  },
  {
   "cell_type": "code",
   "execution_count": 4,
   "metadata": {},
   "outputs": [
    {
     "data": {
      "text/plain": [
       "<pdblp.pdblp.BCon at 0x1ed1a3133c8>"
      ]
     },
     "execution_count": 4,
     "metadata": {},
     "output_type": "execute_result"
    }
   ],
   "source": [
    "con = pb.BCon(port=8194, timeout=5000)\n",
    "con.start()"
   ]
  },
  {
   "cell_type": "code",
   "execution_count": 45,
   "metadata": {},
   "outputs": [],
   "source": [
    "df_code = pd.read_excel('data/etf_pair_code.xlsx', dtype={'symbol':str})\n",
    "code_list = df_code.symbol.unique().tolist()\n",
    "ticker_list = (df_code.symbol + ' ' + df_code.region).fillna('ita').unique().tolist()"
   ]
  },
  {
   "cell_type": "markdown",
   "metadata": {},
   "source": [
    "### test 1"
   ]
  },
  {
   "cell_type": "code",
   "execution_count": null,
   "metadata": {},
   "outputs": [],
   "source": [
    "df = pd.DataFrame()\n",
    "err_code = []\n",
    "tic = time.perf_counter()\n",
    "fields = ['HIGH', 'OPEN', 'LOW', 'VOLUME', 'PX_LAST']\n",
    "cols = ['High', 'Open', 'Low', 'Volume', 'Adj Close']\n",
    "start = '20100101'\n",
    "end = '20190115'\n",
    "\n",
    "\n",
    "\n",
    "for num,i in tqdm_notebook(enumerate(ticker_list)):\n",
    "    if (num % 100 == 0) & (num != 0):\n",
    "        time.sleep(5)\n",
    "    try:\n",
    "        temp_df = con.bdh(i, fields, start, end)\n",
    "        temp_df = temp_df.loc[:, i]\n",
    "        temp_df.columns = cols\n",
    "        temp_df = temp_df.assign(code=i.split(' ')[0])\n",
    "\n",
    "        try:\n",
    "            df = pd.concat([df, temp_df], axis=0)\n",
    "        except:\n",
    "            print('concat data has problem, ticker code : %s' % i)\n",
    "\n",
    "    except:\n",
    "        print('retrieve %s data, have something wrong, index:%s' % (i, ticker_list.index(i)))\n",
    "        err_code.append(i)\n",
    "toc = time.perf_counter()\n",
    "\n",
    "print('retrieve data cost time: %s' % (toc-tic))"
   ]
  },
  {
   "cell_type": "code",
   "execution_count": 79,
   "metadata": {},
   "outputs": [],
   "source": [
    "df.head()"
   ]
  },
  {
   "cell_type": "code",
   "execution_count": 80,
   "metadata": {},
   "outputs": [],
   "source": [
    "df.tail()"
   ]
  },
  {
   "cell_type": "code",
   "execution_count": 11,
   "metadata": {},
   "outputs": [],
   "source": [
    "df.to_csv('data/data.csv')"
   ]
  },
  {
   "cell_type": "code",
   "execution_count": 43,
   "metadata": {
    "scrolled": true
   },
   "outputs": [
    {
     "name": "stdout",
     "output_type": "stream",
     "text": [
      "The autoreload extension is already loaded. To reload it, use:\n",
      "  %reload_ext autoreload\n"
     ]
    }
   ],
   "source": [
    "%load_ext autoreload\n",
    "%autoreload 2\n",
    "\n",
    "from utils import *"
   ]
  },
  {
   "cell_type": "code",
   "execution_count": 44,
   "metadata": {},
   "outputs": [
    {
     "data": {
      "application/vnd.jupyter.widget-view+json": {
       "model_id": "4391e158e0924212b912fdeb3f80dfbd",
       "version_major": 2,
       "version_minor": 0
      },
      "text/plain": [
       "HBox(children=(IntProgress(value=0, max=25), HTML(value='')))"
      ]
     },
     "metadata": {},
     "output_type": "display_data"
    },
    {
     "name": "stdout",
     "output_type": "stream",
     "text": [
      "\n",
      "finish, see you          \n"
     ]
    }
   ],
   "source": [
    "result = calc_pair_trading('SMH', \n",
    "                           data_source='ol',\n",
    "                           region='all',\n",
    "                           method='rolling', \n",
    "                           period=245, \n",
    "                           is_saving=True, \n",
    "                           save_name='rsi_sample')"
   ]
  },
  {
   "cell_type": "markdown",
   "metadata": {},
   "source": [
    "如果上述代码没有问题，可以尝试以下代码"
   ]
  },
  {
   "cell_type": "markdown",
   "metadata": {},
   "source": [
    "### test 2"
   ]
  },
  {
   "cell_type": "markdown",
   "metadata": {},
   "source": [
    "暂剔先除HKD Curncy 和 ita"
   ]
  },
  {
   "cell_type": "code",
   "execution_count": 78,
   "metadata": {},
   "outputs": [
    {
     "data": {
      "text/plain": [
       "620"
      ]
     },
     "execution_count": 78,
     "metadata": {},
     "output_type": "execute_result"
    }
   ],
   "source": [
    "ticker_list.remove('HKD Curncy')\n",
    "ticker_list.remove('ita')"
   ]
  },
  {
   "cell_type": "code",
   "execution_count": 17,
   "metadata": {},
   "outputs": [],
   "source": [
    "intervals = np.linspace(0, len(ticker_list), 10, dtype=int)"
   ]
  },
  {
   "cell_type": "code",
   "execution_count": null,
   "metadata": {},
   "outputs": [],
   "source": [
    "tic = time.perf_counter()\n",
    "\n",
    "df = pd.DataFrame()\n",
    "\n",
    "for i in tqdm_notebook(range(len(intervals)-1)):\n",
    "    \n",
    "    time.sleep(5)\n",
    "    \n",
    "    temp_list = ticker_list[intervals[i]:intervals[i+1]]\n",
    "    \n",
    "    temp_df = con.bdh(temp_list, fields, start, end)\n",
    "\n",
    "    temp_df = pd.concat([temp_df[x].assign(code=x.split(' ')[0]).groupby(level=0, axis=1).first() for x in temp_df.columns.levels[0]], \n",
    "              axis=0,sort=False).reset_index().set_index(['date', 'code'])\n",
    "    temp_df.columns = cols\n",
    "    \n",
    "    df = pd.concat([df, temp_df], axis=0)\n",
    "\n",
    "toc = time.perf_counter()\n",
    "\n",
    "print('retrieve data cost time: %s' % (toc-tic))"
   ]
  },
  {
   "cell_type": "code",
   "execution_count": null,
   "metadata": {},
   "outputs": [],
   "source": [
    "# tic = time.perf_counter()\n",
    "\n",
    "# df = con.bdh(ticker_list, fields, start, end)\n",
    "\n",
    "# df = pd.concat([df[x].assign(code=x.split(' ')[0]).groupby(level=0, axis=1).first() for x in df.columns.levels[0]], \n",
    "#           axis=0,sort=False).reset_index().set_index(['date', 'code'])\n",
    "# df.columns = cols\n",
    "\n",
    "# toc = time.perf_counter()\n",
    "\n",
    "# print('retrieve data cost time: %s' % (toc-tic))"
   ]
  },
  {
   "cell_type": "code",
   "execution_count": 1,
   "metadata": {},
   "outputs": [],
   "source": [
    "df.to_csv('data/data.csv')"
   ]
  },
  {
   "cell_type": "code",
   "execution_count": null,
   "metadata": {},
   "outputs": [],
   "source": [
    "result = calc_pair_trading('SMH', \n",
    "                           data_source='ol',\n",
    "                           region='all',\n",
    "                           method='rolling', \n",
    "                           period=245, \n",
    "                           is_saving=True, \n",
    "                           save_name='rsi_sample')"
   ]
  },
  {
   "cell_type": "code",
   "execution_count": null,
   "metadata": {},
   "outputs": [],
   "source": []
  },
  {
   "cell_type": "code",
   "execution_count": null,
   "metadata": {},
   "outputs": [],
   "source": []
  }
 ],
 "metadata": {
  "kernelspec": {
   "display_name": "Python 3",
   "language": "python",
   "name": "python3"
  },
  "language_info": {
   "codemirror_mode": {
    "name": "ipython",
    "version": 3
   },
   "file_extension": ".py",
   "mimetype": "text/x-python",
   "name": "python",
   "nbconvert_exporter": "python",
   "pygments_lexer": "ipython3",
   "version": "3.6.5"
  },
  "toc": {
   "base_numbering": 1,
   "nav_menu": {},
   "number_sections": true,
   "sideBar": true,
   "skip_h1_title": false,
   "title_cell": "Table of Contents",
   "title_sidebar": "Contents",
   "toc_cell": false,
   "toc_position": {},
   "toc_section_display": true,
   "toc_window_display": false
  },
  "varInspector": {
   "cols": {
    "lenName": 16,
    "lenType": 16,
    "lenVar": 40
   },
   "kernels_config": {
    "python": {
     "delete_cmd_postfix": "",
     "delete_cmd_prefix": "del ",
     "library": "var_list.py",
     "varRefreshCmd": "print(var_dic_list())"
    },
    "r": {
     "delete_cmd_postfix": ") ",
     "delete_cmd_prefix": "rm(",
     "library": "var_list.r",
     "varRefreshCmd": "cat(var_dic_list()) "
    }
   },
   "position": {
    "height": "471.5px",
    "left": "1157px",
    "right": "20px",
    "top": "120px",
    "width": "350px"
   },
   "types_to_exclude": [
    "module",
    "function",
    "builtin_function_or_method",
    "instance",
    "_Feature"
   ],
   "window_display": false
  }
 },
 "nbformat": 4,
 "nbformat_minor": 2
}
