{
 "cells": [
  {
   "cell_type": "markdown",
   "metadata": {},
   "source": [
    "1. ratio rsi数据已经整合到代码中， 并会进行保存;\n",
    "\n",
    "    请查看下保存结果的表, rsi和rsi_mask是否是你想要的形式;\n",
    "    \n",
    "    比如rsi_mask中, 我将30~70之间的rsi值设为0, 其余的值保留原值;\n",
    "    \n",
    "    我之前设想过, 低于30用一个值代替，比如数字-1或者文字之类的, 这里就是看你的需要了;\n",
    "\n",
    "2. 关于PX_HIGH, PX_LAST这里的`PX`是否是前复权的意思, 但这里的数据，只能是以后复权的形式去进行计算; 所以我需要知道后复权的字段是怎么样的;\n",
    "\n",
    "3. 请运行以下代码并将保存的二进制的结果文件发给我"
   ]
  },
  {
   "cell_type": "code",
   "execution_count": 1,
   "metadata": {},
   "outputs": [],
   "source": [
    "%load_ext autoreload\n",
    "%autoreload 2\n",
    "\n",
    "import numpy as np\n",
    "import pandas as pd\n",
    "import matplotlib.pyplot as plt\n",
    "import talib as ta\n",
    "import datetime, time\n",
    "import pickle\n",
    "\n",
    "import pdblp as pb\n",
    "import blpapi "
   ]
  },
  {
   "cell_type": "code",
   "execution_count": 2,
   "metadata": {},
   "outputs": [],
   "source": [
    "plt.rcParams['figure.figsize'] = [12, 8]\n",
    "plt.rcParams['image.interpolation'] = 'nearest'\n",
    "plt.rcParams['image.cmap'] = 'gray'\n",
    "plt.style.use('ggplot')"
   ]
  },
  {
   "cell_type": "code",
   "execution_count": 20,
   "metadata": {},
   "outputs": [],
   "source": [
    "def save_file(dataframe, name):\n",
    "    \n",
    "    with open(name, 'wb') as f:\n",
    "        pickle.dump(dataframe, f)"
   ]
  },
  {
   "cell_type": "code",
   "execution_count": 3,
   "metadata": {},
   "outputs": [],
   "source": [
    "con = pb.BCon(port=8194, timeout=5000)\n",
    "con.start()"
   ]
  },
  {
   "cell_type": "code",
   "execution_count": 4,
   "metadata": {},
   "outputs": [],
   "source": [
    "df_code = pd.read_excel('data/etf_pair_code.xlsx', dtype={'symbol':str})"
   ]
  },
  {
   "cell_type": "code",
   "execution_count": 11,
   "metadata": {},
   "outputs": [],
   "source": [
    "ticker_list = (df_code.symbol + ' ' + df_code.region).tolist()"
   ]
  },
  {
   "cell_type": "markdown",
   "metadata": {},
   "source": [
    "### test 1"
   ]
  },
  {
   "cell_type": "code",
   "execution_count": null,
   "metadata": {},
   "outputs": [],
   "source": [
    "df_1 = pd.DataFrame()\n",
    "err_code = []\n",
    "tic = time.perf_counter()\n",
    "for i in ticker_list:\n",
    "    try:\n",
    "        temp_df = con.bdh(i, ['PX_LAST', 'VOLUME'], '20181222', '20190109')\n",
    "        \n",
    "        try:\n",
    "            df_1 = pd.concat([df_1, temp_df], axis=1)\n",
    "        except:\n",
    "            print('concat data has problem, ticker code : %s' % i)\n",
    "        \n",
    "    except:\n",
    "        print('retrieve %s data, have something wrong' % i)\n",
    "        err_code.append(i)\n",
    "toc = time.perf_counter()\n",
    "\n",
    "print('retrieve data cost time: %s' % (toc-tic))"
   ]
  },
  {
   "cell_type": "markdown",
   "metadata": {},
   "source": [
    "如果test 1没有任何retrieve data报错，则只运行test 2, 否则就直接运行test 3"
   ]
  },
  {
   "cell_type": "markdown",
   "metadata": {},
   "source": [
    "### test 2"
   ]
  },
  {
   "cell_type": "code",
   "execution_count": null,
   "metadata": {},
   "outputs": [],
   "source": [
    "tic = time.perf_counter()\n",
    "\n",
    "df_2 = con.bdh(ticker_list, ['PX_LAST', 'VOLUME'], '20181222', '20190109')\n",
    "\n",
    "toc = time.perf_counter()\n",
    "\n",
    "print('retrieve data cost time: %s' % (toc-tic))"
   ]
  },
  {
   "cell_type": "markdown",
   "metadata": {},
   "source": [
    "### test 3"
   ]
  },
  {
   "cell_type": "code",
   "execution_count": null,
   "metadata": {},
   "outputs": [],
   "source": [
    "df_3 = con.bdh(['AAPL US Equity', 'SPY US Equity'], ['PX_LAST', 'VOLUME'],\n",
    "        '20181222', '20190109')"
   ]
  },
  {
   "cell_type": "markdown",
   "metadata": {},
   "source": [
    "### save file"
   ]
  },
  {
   "cell_type": "markdown",
   "metadata": {},
   "source": [
    "请将保存的文件传给我, 文件名是以file_01 or file_02 or file_03"
   ]
  },
  {
   "cell_type": "code",
   "execution_count": null,
   "metadata": {},
   "outputs": [],
   "source": [
    "try:\n",
    "    save_file(df_1, 'file_01')\n",
    "    print(\"df_1 save finish.\")\n",
    "except:\n",
    "    print(\"df_1 doesn't exist.\")\n",
    "    \n",
    "try:\n",
    "    save_file(df_2, 'file_02')\n",
    "    print(\"df_2 save finish.\")\n",
    "except:\n",
    "    print(\"df_2 doesn't exist.\")\n",
    "\n",
    "try:\n",
    "    save_file(df_3, 'file_03')\n",
    "    print(\"df_3 save finish.\")\n",
    "except:\n",
    "    print(\"df_3 doesn't exist.\")"
   ]
  }
 ],
 "metadata": {
  "kernelspec": {
   "display_name": "Python (quant)",
   "language": "python",
   "name": "quant"
  },
  "language_info": {
   "codemirror_mode": {
    "name": "ipython",
    "version": 3
   },
   "file_extension": ".py",
   "mimetype": "text/x-python",
   "name": "python",
   "nbconvert_exporter": "python",
   "pygments_lexer": "ipython3",
   "version": "3.6.6"
  },
  "toc": {
   "base_numbering": 1,
   "nav_menu": {},
   "number_sections": true,
   "sideBar": true,
   "skip_h1_title": false,
   "title_cell": "Table of Contents",
   "title_sidebar": "Contents",
   "toc_cell": false,
   "toc_position": {},
   "toc_section_display": true,
   "toc_window_display": false
  },
  "varInspector": {
   "cols": {
    "lenName": 16,
    "lenType": 16,
    "lenVar": 40
   },
   "kernels_config": {
    "python": {
     "delete_cmd_postfix": "",
     "delete_cmd_prefix": "del ",
     "library": "var_list.py",
     "varRefreshCmd": "print(var_dic_list())"
    },
    "r": {
     "delete_cmd_postfix": ") ",
     "delete_cmd_prefix": "rm(",
     "library": "var_list.r",
     "varRefreshCmd": "cat(var_dic_list()) "
    }
   },
   "types_to_exclude": [
    "module",
    "function",
    "builtin_function_or_method",
    "instance",
    "_Feature"
   ],
   "window_display": false
  }
 },
 "nbformat": 4,
 "nbformat_minor": 2
}
