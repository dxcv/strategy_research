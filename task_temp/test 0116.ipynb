{
 "cells": [
  {
   "cell_type": "code",
   "execution_count": 4,
   "metadata": {},
   "outputs": [],
   "source": [
    "%load_ext autoreload\n",
    "%autoreload 2\n",
    "\n",
    "import numpy as np\n",
    "import pandas as pd\n",
    "import matplotlib.pyplot as plt\n",
    "import talib as ta\n",
    "import datetime, time\n",
    "import pickle\n",
    "from tqdm import tqdm_notebook\n",
    "\n",
    "import pdblp as pb\n",
    "import blpapi "
   ]
  },
  {
   "cell_type": "code",
   "execution_count": 5,
   "metadata": {},
   "outputs": [],
   "source": [
    "plt.rcParams['figure.figsize'] = [12, 8]\n",
    "plt.rcParams['image.interpolation'] = 'nearest'\n",
    "plt.rcParams['image.cmap'] = 'gray'\n",
    "plt.style.use('ggplot')\n",
    "\n",
    "con = pb.BCon(port=8194, timeout=5000)\n",
    "con.start()"
   ]
  },
  {
   "cell_type": "code",
   "execution_count": 6,
   "metadata": {},
   "outputs": [],
   "source": [
    "df_code = pd.read_excel('data/etf_pair_code.xlsx', dtype={'symbol':str})\n",
    "code_list = df_code.symbol.unique().tolist()\n",
    "ticker_list = (df_code.symbol + ' ' + df_code.region).fillna('ita').unique().tolist()"
   ]
  },
  {
   "cell_type": "code",
   "execution_count": 7,
   "metadata": {},
   "outputs": [],
   "source": [
    "df = pd.DataFrame()\n",
    "err_code = []\n",
    "tic = time.perf_counter()\n",
    "fields = ['HIGH', 'OPEN', 'LOW', 'VOLUME', 'PX_LAST']\n",
    "cols = ['High', 'Open', 'Low', 'Volume', 'Adj Close']\n",
    "start = '20100101'\n",
    "end = datetime.datetime.today().strftime('%Y%m%d')"
   ]
  },
  {
   "cell_type": "markdown",
   "metadata": {},
   "source": [
    "本次需要测试的代码"
   ]
  },
  {
   "cell_type": "code",
   "execution_count": null,
   "metadata": {},
   "outputs": [],
   "source": [
    "ticker_list.remove('HKD Curncy')\n",
    "ticker_list.remove('ita')\n",
    "temp_list = ticker_list[:20]\n",
    "temp_df = con.bdh(temp_list, fields, start, end)"
   ]
  },
  {
   "cell_type": "code",
   "execution_count": null,
   "metadata": {},
   "outputs": [],
   "source": [
    "def save_file(dataframe, name):\n",
    "    with open(name, 'wb') as f:\n",
    "        pickle.dump(dataframe, f)\n",
    "\n",
    "save_file(temp_df, 'temp_dataframe')"
   ]
  },
  {
   "cell_type": "markdown",
   "metadata": {},
   "source": [
    "请把上面测试得到temp_dataframe文件发给我"
   ]
  },
  {
   "cell_type": "markdown",
   "metadata": {},
   "source": [
    "由于之前的test 2测试，已经把data数据破坏了；\n",
    "\n",
    "所以还是需要重新跑一次，保存到csv中，需要说明的是，后续的更新代码不会采取下列方法"
   ]
  },
  {
   "cell_type": "code",
   "execution_count": null,
   "metadata": {},
   "outputs": [],
   "source": [
    "for num,i in tqdm_notebook(enumerate(ticker_list)):\n",
    "    if (num % 100 == 0) & (num != 0):\n",
    "        time.sleep(5)\n",
    "    try:\n",
    "        temp_df = con.bdh(i, fields, start, end)\n",
    "        temp_df = temp_df.loc[:, i]\n",
    "        temp_df.columns = cols\n",
    "        temp_df = temp_df.assign(code=i.split(' ')[0])\n",
    "\n",
    "        try:\n",
    "            df = pd.concat([df, temp_df], axis=0)\n",
    "        except:\n",
    "            print('concat data has problem, ticker code : %s' % i)\n",
    "\n",
    "    except:\n",
    "        print('retrieve %s data, have something wrong, index:%s' % (i, ticker_list.index(i)))\n",
    "        err_code.append(i)\n",
    "toc = time.perf_counter()\n",
    "\n",
    "df.to_csv('data/data.csv')\n",
    "print('save finish')\n",
    "print('retrieve data cost time: %s' % (toc-tic))\n"
   ]
  }
 ],
 "metadata": {
  "kernelspec": {
   "display_name": "Python 3 tensorflow",
   "language": "python",
   "name": "python3"
  },
  "language_info": {
   "codemirror_mode": {
    "name": "ipython",
    "version": 3
   },
   "file_extension": ".py",
   "mimetype": "text/x-python",
   "name": "python",
   "nbconvert_exporter": "python",
   "pygments_lexer": "ipython3",
   "version": "3.5.5"
  },
  "toc": {
   "base_numbering": 1,
   "nav_menu": {},
   "number_sections": true,
   "sideBar": true,
   "skip_h1_title": false,
   "title_cell": "Table of Contents",
   "title_sidebar": "Contents",
   "toc_cell": false,
   "toc_position": {},
   "toc_section_display": true,
   "toc_window_display": false
  },
  "varInspector": {
   "cols": {
    "lenName": 16,
    "lenType": 16,
    "lenVar": 40
   },
   "kernels_config": {
    "python": {
     "delete_cmd_postfix": "",
     "delete_cmd_prefix": "del ",
     "library": "var_list.py",
     "varRefreshCmd": "print(var_dic_list())"
    },
    "r": {
     "delete_cmd_postfix": ") ",
     "delete_cmd_prefix": "rm(",
     "library": "var_list.r",
     "varRefreshCmd": "cat(var_dic_list()) "
    }
   },
   "types_to_exclude": [
    "module",
    "function",
    "builtin_function_or_method",
    "instance",
    "_Feature"
   ],
   "window_display": false
  }
 },
 "nbformat": 4,
 "nbformat_minor": 2
}
