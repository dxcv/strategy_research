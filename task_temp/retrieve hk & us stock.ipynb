{
 "cells": [
  {
   "cell_type": "code",
   "execution_count": 1,
   "metadata": {},
   "outputs": [],
   "source": [
    "import numpy as np\n",
    "import pandas as pd\n",
    "import matplotlib.pyplot as plt\n",
    "import seaborn as sns\n",
    "# import statsmodels.api as sm\n",
    "import QUANTAXIS as QA\n",
    "import talib as ta\n",
    "import datetime #, time"
   ]
  },
  {
   "cell_type": "code",
   "execution_count": 2,
   "metadata": {},
   "outputs": [],
   "source": [
    "plt.rcParams['figure.figsize'] = [12, 8]\n",
    "plt.rcParams['image.interpolation'] = 'nearest'\n",
    "plt.rcParams['image.cmap'] = 'gray'\n",
    "plt.style.use('ggplot')"
   ]
  },
  {
   "cell_type": "code",
   "execution_count": 3,
   "metadata": {
    "collapsed": true
   },
   "outputs": [
    {
     "name": "stderr",
     "output_type": "stream",
     "text": [
      "QUANTAXIS>> Selecting the Best Server IP of TDX\n"
     ]
    },
    {
     "name": "stdout",
     "output_type": "stream",
     "text": [
      "USING DEFAULT STOCK IP\n",
      "USING DEFAULT FUTURE IP\n"
     ]
    },
    {
     "name": "stderr",
     "output_type": "stream",
     "text": [
      "QUANTAXIS>> === The BEST SERVER ===\n",
      " stock_ip 60.191.117.167 future_ip 59.175.238.38\n"
     ]
    },
    {
     "data": {
      "text/html": [
       "<div>\n",
       "<style scoped>\n",
       "    .dataframe tbody tr th:only-of-type {\n",
       "        vertical-align: middle;\n",
       "    }\n",
       "\n",
       "    .dataframe tbody tr th {\n",
       "        vertical-align: top;\n",
       "    }\n",
       "\n",
       "    .dataframe thead th {\n",
       "        text-align: right;\n",
       "    }\n",
       "</style>\n",
       "<table border=\"1\" class=\"dataframe\">\n",
       "  <thead>\n",
       "    <tr style=\"text-align: right;\">\n",
       "      <th></th>\n",
       "      <th>category</th>\n",
       "      <th>market</th>\n",
       "      <th>code</th>\n",
       "      <th>name</th>\n",
       "      <th>desc</th>\n",
       "    </tr>\n",
       "    <tr>\n",
       "      <th>code</th>\n",
       "      <th></th>\n",
       "      <th></th>\n",
       "      <th></th>\n",
       "      <th></th>\n",
       "      <th></th>\n",
       "    </tr>\n",
       "  </thead>\n",
       "  <tbody>\n",
       "    <tr>\n",
       "      <th>WCN</th>\n",
       "      <td>13</td>\n",
       "      <td>74</td>\n",
       "      <td>WCN</td>\n",
       "      <td>Waste连接</td>\n",
       "      <td>WCN</td>\n",
       "    </tr>\n",
       "    <tr>\n",
       "      <th>WCO.CL</th>\n",
       "      <td>13</td>\n",
       "      <td>74</td>\n",
       "      <td>WCO.CL</td>\n",
       "      <td>WCO.CL</td>\n",
       "      <td>WCO.CL</td>\n",
       "    </tr>\n",
       "    <tr>\n",
       "      <th>WCST</th>\n",
       "      <td>13</td>\n",
       "      <td>74</td>\n",
       "      <td>WCST</td>\n",
       "      <td>WCST</td>\n",
       "      <td>WCST</td>\n",
       "    </tr>\n",
       "    <tr>\n",
       "      <th>WD</th>\n",
       "      <td>13</td>\n",
       "      <td>74</td>\n",
       "      <td>WD</td>\n",
       "      <td>Walker &amp; Dunlop</td>\n",
       "      <td>WD</td>\n",
       "    </tr>\n",
       "    <tr>\n",
       "      <th>WDAY</th>\n",
       "      <td>13</td>\n",
       "      <td>74</td>\n",
       "      <td>WDAY</td>\n",
       "      <td>工作日公司</td>\n",
       "      <td>WDAY</td>\n",
       "    </tr>\n",
       "  </tbody>\n",
       "</table>\n",
       "</div>"
      ],
      "text/plain": [
       "        category  market    code             name    desc\n",
       "code                                                     \n",
       "WCN           13      74     WCN          Waste连接     WCN\n",
       "WCO.CL        13      74  WCO.CL           WCO.CL  WCO.CL\n",
       "WCST          13      74    WCST             WCST    WCST\n",
       "WD            13      74      WD  Walker & Dunlop      WD\n",
       "WDAY          13      74    WDAY            工作日公司    WDAY"
      ]
     },
     "execution_count": 3,
     "metadata": {},
     "output_type": "execute_result"
    }
   ],
   "source": [
    "# usstock_list = QA.QA_fetch_get_usstock_list('tdx')\n",
    "# usstock_list.head()"
   ]
  },
  {
   "cell_type": "code",
   "execution_count": 7,
   "metadata": {},
   "outputs": [],
   "source": [
    "# hkstock_list = QA.QA_fetch_get_hkstock_list('tdx')\n",
    "# hkstock_list.head()"
   ]
  },
  {
   "cell_type": "code",
   "execution_count": 2,
   "metadata": {},
   "outputs": [],
   "source": [
    "# writer = pd.ExcelWriter(\"data/code_list.xlsx\")\n",
    "# usstock_list.to_excel(writer, 'us_stock_list', index=False)\n",
    "# hkstock_list.to_excel(writer, 'hk_stock_list', index=False)\n",
    "# writer.save()"
   ]
  },
  {
   "cell_type": "code",
   "execution_count": 6,
   "metadata": {
    "collapsed": true
   },
   "outputs": [
    {
     "data": {
      "text/html": [
       "<div>\n",
       "<style scoped>\n",
       "    .dataframe tbody tr th:only-of-type {\n",
       "        vertical-align: middle;\n",
       "    }\n",
       "\n",
       "    .dataframe tbody tr th {\n",
       "        vertical-align: top;\n",
       "    }\n",
       "\n",
       "    .dataframe thead th {\n",
       "        text-align: right;\n",
       "    }\n",
       "</style>\n",
       "<table border=\"1\" class=\"dataframe\">\n",
       "  <thead>\n",
       "    <tr style=\"text-align: right;\">\n",
       "      <th></th>\n",
       "      <th>category</th>\n",
       "      <th>market</th>\n",
       "      <th>name</th>\n",
       "      <th>desc</th>\n",
       "    </tr>\n",
       "    <tr>\n",
       "      <th>code</th>\n",
       "      <th></th>\n",
       "      <th></th>\n",
       "      <th></th>\n",
       "      <th></th>\n",
       "    </tr>\n",
       "  </thead>\n",
       "  <tbody>\n",
       "    <tr>\n",
       "      <th>WEAR</th>\n",
       "      <td>13</td>\n",
       "      <td>74</td>\n",
       "      <td>WEAR</td>\n",
       "      <td>WEAR</td>\n",
       "    </tr>\n",
       "    <tr>\n",
       "      <th>WEAT</th>\n",
       "      <td>13</td>\n",
       "      <td>74</td>\n",
       "      <td>WEAT信托</td>\n",
       "      <td>WEAT</td>\n",
       "    </tr>\n",
       "    <tr>\n",
       "      <th>WEB</th>\n",
       "      <td>13</td>\n",
       "      <td>74</td>\n",
       "      <td>WEB</td>\n",
       "      <td>WEB</td>\n",
       "    </tr>\n",
       "    <tr>\n",
       "      <th>WEBK</th>\n",
       "      <td>13</td>\n",
       "      <td>74</td>\n",
       "      <td>韦尔斯利银行</td>\n",
       "      <td>WEBK</td>\n",
       "    </tr>\n",
       "    <tr>\n",
       "      <th>WEC</th>\n",
       "      <td>13</td>\n",
       "      <td>74</td>\n",
       "      <td>威斯康辛能源</td>\n",
       "      <td>WEC</td>\n",
       "    </tr>\n",
       "  </tbody>\n",
       "</table>\n",
       "</div>"
      ],
      "text/plain": [
       "      category  market    name  desc\n",
       "code                                \n",
       "WEAR        13      74    WEAR  WEAR\n",
       "WEAT        13      74  WEAT信托  WEAT\n",
       "WEB         13      74     WEB   WEB\n",
       "WEBK        13      74  韦尔斯利银行  WEBK\n",
       "WEC         13      74  威斯康辛能源   WEC"
      ]
     },
     "execution_count": 6,
     "metadata": {},
     "output_type": "execute_result"
    }
   ],
   "source": [
    "usstock_list_from_file = pd.read_excel(\"data/code_list.xlsx\", 0, \n",
    "                                       dtype={'code':str, 'desc':str})\n",
    "usstock_list_from_file = usstock_list_from_file.set_index('code')\n",
    "usstock_list_from_file.head()"
   ]
  },
  {
   "cell_type": "code",
   "execution_count": 7,
   "metadata": {
    "collapsed": true
   },
   "outputs": [
    {
     "data": {
      "text/html": [
       "<div>\n",
       "<style scoped>\n",
       "    .dataframe tbody tr th:only-of-type {\n",
       "        vertical-align: middle;\n",
       "    }\n",
       "\n",
       "    .dataframe tbody tr th {\n",
       "        vertical-align: top;\n",
       "    }\n",
       "\n",
       "    .dataframe thead th {\n",
       "        text-align: right;\n",
       "    }\n",
       "</style>\n",
       "<table border=\"1\" class=\"dataframe\">\n",
       "  <thead>\n",
       "    <tr style=\"text-align: right;\">\n",
       "      <th></th>\n",
       "      <th>category</th>\n",
       "      <th>market</th>\n",
       "      <th>name</th>\n",
       "      <th>desc</th>\n",
       "    </tr>\n",
       "    <tr>\n",
       "      <th>code</th>\n",
       "      <th></th>\n",
       "      <th></th>\n",
       "      <th></th>\n",
       "      <th></th>\n",
       "    </tr>\n",
       "  </thead>\n",
       "  <tbody>\n",
       "    <tr>\n",
       "      <th>08048</th>\n",
       "      <td>2</td>\n",
       "      <td>48</td>\n",
       "      <td>御德国际控股</td>\n",
       "      <td>08048</td>\n",
       "    </tr>\n",
       "    <tr>\n",
       "      <th>08049</th>\n",
       "      <td>2</td>\n",
       "      <td>48</td>\n",
       "      <td>吉林长龙药业</td>\n",
       "      <td>08049</td>\n",
       "    </tr>\n",
       "    <tr>\n",
       "      <th>08050</th>\n",
       "      <td>2</td>\n",
       "      <td>48</td>\n",
       "      <td>量子思维</td>\n",
       "      <td>08050</td>\n",
       "    </tr>\n",
       "    <tr>\n",
       "      <th>08051</th>\n",
       "      <td>2</td>\n",
       "      <td>48</td>\n",
       "      <td>讯智海</td>\n",
       "      <td>08051</td>\n",
       "    </tr>\n",
       "    <tr>\n",
       "      <th>08052</th>\n",
       "      <td>2</td>\n",
       "      <td>48</td>\n",
       "      <td>陆庆娱乐</td>\n",
       "      <td>08052</td>\n",
       "    </tr>\n",
       "  </tbody>\n",
       "</table>\n",
       "</div>"
      ],
      "text/plain": [
       "       category  market    name   desc\n",
       "code                                  \n",
       "08048         2      48  御德国际控股  08048\n",
       "08049         2      48  吉林长龙药业  08049\n",
       "08050         2      48    量子思维  08050\n",
       "08051         2      48     讯智海  08051\n",
       "08052         2      48    陆庆娱乐  08052"
      ]
     },
     "execution_count": 7,
     "metadata": {},
     "output_type": "execute_result"
    }
   ],
   "source": [
    "hkstock_list_from_file = pd.read_excel(\"data/code_list.xlsx\", 1, \n",
    "                                       dtype={'code':str, 'desc':str})\n",
    "hkstock_list_from_file = hkstock_list_from_file.set_index('code')\n",
    "hkstock_list_from_file.head()"
   ]
  },
  {
   "cell_type": "code",
   "execution_count": 22,
   "metadata": {},
   "outputs": [
    {
     "name": "stdout",
     "output_type": "stream",
     "text": [
      "0.191010100000085\n"
     ]
    }
   ],
   "source": [
    "code = 'AMZN'\n",
    "start = '2010-01-01'\n",
    "end = '2018-12-18'\n",
    "# web.\n",
    "\n",
    "\n",
    "tic = time.perf_counter()\n",
    "data = QA.QA_fetch_get_usstock_day('tdx', code, start, end)\n",
    "toc = time.perf_counter()\n",
    "print(toc-tic)"
   ]
  },
  {
   "cell_type": "code",
   "execution_count": 19,
   "metadata": {},
   "outputs": [
    {
     "data": {
      "text/html": [
       "<div>\n",
       "<style scoped>\n",
       "    .dataframe tbody tr th:only-of-type {\n",
       "        vertical-align: middle;\n",
       "    }\n",
       "\n",
       "    .dataframe tbody tr th {\n",
       "        vertical-align: top;\n",
       "    }\n",
       "\n",
       "    .dataframe thead th {\n",
       "        text-align: right;\n",
       "    }\n",
       "</style>\n",
       "<table border=\"1\" class=\"dataframe\">\n",
       "  <thead>\n",
       "    <tr style=\"text-align: right;\">\n",
       "      <th></th>\n",
       "      <th>open</th>\n",
       "      <th>high</th>\n",
       "      <th>low</th>\n",
       "      <th>close</th>\n",
       "      <th>position</th>\n",
       "      <th>trade</th>\n",
       "      <th>price</th>\n",
       "      <th>amount</th>\n",
       "      <th>date</th>\n",
       "      <th>code</th>\n",
       "      <th>date_stamp</th>\n",
       "    </tr>\n",
       "    <tr>\n",
       "      <th>date</th>\n",
       "      <th></th>\n",
       "      <th></th>\n",
       "      <th></th>\n",
       "      <th></th>\n",
       "      <th></th>\n",
       "      <th></th>\n",
       "      <th></th>\n",
       "      <th></th>\n",
       "      <th></th>\n",
       "      <th></th>\n",
       "      <th></th>\n",
       "    </tr>\n",
       "  </thead>\n",
       "  <tbody>\n",
       "    <tr>\n",
       "      <th>2018-12-12</th>\n",
       "      <td>110.889999</td>\n",
       "      <td>111.269997</td>\n",
       "      <td>109.040001</td>\n",
       "      <td>109.080002</td>\n",
       "      <td>1332504149</td>\n",
       "      <td>357891</td>\n",
       "      <td>0.0</td>\n",
       "      <td>3.966129e+09</td>\n",
       "      <td>2018-12-12</td>\n",
       "      <td>MSFT</td>\n",
       "      <td>1.544544e+09</td>\n",
       "    </tr>\n",
       "    <tr>\n",
       "      <th>2018-12-13</th>\n",
       "      <td>109.580002</td>\n",
       "      <td>110.870003</td>\n",
       "      <td>108.629997</td>\n",
       "      <td>109.449997</td>\n",
       "      <td>1330399640</td>\n",
       "      <td>313333</td>\n",
       "      <td>0.0</td>\n",
       "      <td>3.427375e+09</td>\n",
       "      <td>2018-12-13</td>\n",
       "      <td>MSFT</td>\n",
       "      <td>1.544630e+09</td>\n",
       "    </tr>\n",
       "    <tr>\n",
       "      <th>2018-12-14</th>\n",
       "      <td>108.250000</td>\n",
       "      <td>109.260002</td>\n",
       "      <td>105.500000</td>\n",
       "      <td>106.029999</td>\n",
       "      <td>1335240426</td>\n",
       "      <td>470431</td>\n",
       "      <td>0.0</td>\n",
       "      <td>5.038265e+09</td>\n",
       "      <td>2018-12-14</td>\n",
       "      <td>MSFT</td>\n",
       "      <td>1.544717e+09</td>\n",
       "    </tr>\n",
       "    <tr>\n",
       "      <th>2018-12-17</th>\n",
       "      <td>105.410004</td>\n",
       "      <td>105.800003</td>\n",
       "      <td>101.709999</td>\n",
       "      <td>102.889999</td>\n",
       "      <td>1336906512</td>\n",
       "      <td>569573</td>\n",
       "      <td>0.0</td>\n",
       "      <td>5.891301e+09</td>\n",
       "      <td>2018-12-17</td>\n",
       "      <td>MSFT</td>\n",
       "      <td>1.544976e+09</td>\n",
       "    </tr>\n",
       "    <tr>\n",
       "      <th>2018-12-18</th>\n",
       "      <td>103.750000</td>\n",
       "      <td>104.510002</td>\n",
       "      <td>102.519997</td>\n",
       "      <td>103.970001</td>\n",
       "      <td>1335400255</td>\n",
       "      <td>493191</td>\n",
       "      <td>0.0</td>\n",
       "      <td>5.120098e+09</td>\n",
       "      <td>2018-12-18</td>\n",
       "      <td>MSFT</td>\n",
       "      <td>1.545062e+09</td>\n",
       "    </tr>\n",
       "  </tbody>\n",
       "</table>\n",
       "</div>"
      ],
      "text/plain": [
       "                  open        high         low       close    position  \\\n",
       "date                                                                     \n",
       "2018-12-12  110.889999  111.269997  109.040001  109.080002  1332504149   \n",
       "2018-12-13  109.580002  110.870003  108.629997  109.449997  1330399640   \n",
       "2018-12-14  108.250000  109.260002  105.500000  106.029999  1335240426   \n",
       "2018-12-17  105.410004  105.800003  101.709999  102.889999  1336906512   \n",
       "2018-12-18  103.750000  104.510002  102.519997  103.970001  1335400255   \n",
       "\n",
       "             trade  price        amount        date  code    date_stamp  \n",
       "date                                                                     \n",
       "2018-12-12  357891    0.0  3.966129e+09  2018-12-12  MSFT  1.544544e+09  \n",
       "2018-12-13  313333    0.0  3.427375e+09  2018-12-13  MSFT  1.544630e+09  \n",
       "2018-12-14  470431    0.0  5.038265e+09  2018-12-14  MSFT  1.544717e+09  \n",
       "2018-12-17  569573    0.0  5.891301e+09  2018-12-17  MSFT  1.544976e+09  \n",
       "2018-12-18  493191    0.0  5.120098e+09  2018-12-18  MSFT  1.545062e+09  "
      ]
     },
     "execution_count": 19,
     "metadata": {},
     "output_type": "execute_result"
    }
   ],
   "source": [
    "data.tail()"
   ]
  },
  {
   "cell_type": "code",
   "execution_count": 23,
   "metadata": {},
   "outputs": [
    {
     "name": "stdout",
     "output_type": "stream",
     "text": [
      "1.8865379999999732\n"
     ]
    }
   ],
   "source": [
    "# import pandas_datareader.data as web\n",
    "# import datetime\n",
    "# import time\n",
    "# start_time = datetime.datetime.strptime(start, '%Y-%m-%d')\n",
    "# end_time = datetime.datetime.today()\n",
    "tic = time.perf_counter()\n",
    "data_from_web = web.DataReader(code, 'yahoo', start_time, end_time)\n",
    "toc = time.perf_counter()\n",
    "print(toc-tic)"
   ]
  },
  {
   "cell_type": "code",
   "execution_count": 21,
   "metadata": {},
   "outputs": [
    {
     "data": {
      "text/html": [
       "<div>\n",
       "<style scoped>\n",
       "    .dataframe tbody tr th:only-of-type {\n",
       "        vertical-align: middle;\n",
       "    }\n",
       "\n",
       "    .dataframe tbody tr th {\n",
       "        vertical-align: top;\n",
       "    }\n",
       "\n",
       "    .dataframe thead th {\n",
       "        text-align: right;\n",
       "    }\n",
       "</style>\n",
       "<table border=\"1\" class=\"dataframe\">\n",
       "  <thead>\n",
       "    <tr style=\"text-align: right;\">\n",
       "      <th></th>\n",
       "      <th>High</th>\n",
       "      <th>Low</th>\n",
       "      <th>Open</th>\n",
       "      <th>Close</th>\n",
       "      <th>Volume</th>\n",
       "      <th>Adj Close</th>\n",
       "    </tr>\n",
       "    <tr>\n",
       "      <th>Date</th>\n",
       "      <th></th>\n",
       "      <th></th>\n",
       "      <th></th>\n",
       "      <th></th>\n",
       "      <th></th>\n",
       "      <th></th>\n",
       "    </tr>\n",
       "  </thead>\n",
       "  <tbody>\n",
       "    <tr>\n",
       "      <th>2018-12-12</th>\n",
       "      <td>111.269997</td>\n",
       "      <td>109.040001</td>\n",
       "      <td>110.889999</td>\n",
       "      <td>109.080002</td>\n",
       "      <td>36183000.0</td>\n",
       "      <td>109.080002</td>\n",
       "    </tr>\n",
       "    <tr>\n",
       "      <th>2018-12-13</th>\n",
       "      <td>110.870003</td>\n",
       "      <td>108.629997</td>\n",
       "      <td>109.580002</td>\n",
       "      <td>109.449997</td>\n",
       "      <td>31333400.0</td>\n",
       "      <td>109.449997</td>\n",
       "    </tr>\n",
       "    <tr>\n",
       "      <th>2018-12-14</th>\n",
       "      <td>109.260002</td>\n",
       "      <td>105.500000</td>\n",
       "      <td>108.250000</td>\n",
       "      <td>106.029999</td>\n",
       "      <td>47043100.0</td>\n",
       "      <td>106.029999</td>\n",
       "    </tr>\n",
       "    <tr>\n",
       "      <th>2018-12-17</th>\n",
       "      <td>105.800003</td>\n",
       "      <td>101.709999</td>\n",
       "      <td>105.410004</td>\n",
       "      <td>102.889999</td>\n",
       "      <td>56957300.0</td>\n",
       "      <td>102.889999</td>\n",
       "    </tr>\n",
       "    <tr>\n",
       "      <th>2018-12-18</th>\n",
       "      <td>104.510002</td>\n",
       "      <td>102.519997</td>\n",
       "      <td>103.750000</td>\n",
       "      <td>103.970001</td>\n",
       "      <td>48231200.0</td>\n",
       "      <td>103.970001</td>\n",
       "    </tr>\n",
       "  </tbody>\n",
       "</table>\n",
       "</div>"
      ],
      "text/plain": [
       "                  High         Low        Open       Close      Volume  \\\n",
       "Date                                                                     \n",
       "2018-12-12  111.269997  109.040001  110.889999  109.080002  36183000.0   \n",
       "2018-12-13  110.870003  108.629997  109.580002  109.449997  31333400.0   \n",
       "2018-12-14  109.260002  105.500000  108.250000  106.029999  47043100.0   \n",
       "2018-12-17  105.800003  101.709999  105.410004  102.889999  56957300.0   \n",
       "2018-12-18  104.510002  102.519997  103.750000  103.970001  48231200.0   \n",
       "\n",
       "             Adj Close  \n",
       "Date                    \n",
       "2018-12-12  109.080002  \n",
       "2018-12-13  109.449997  \n",
       "2018-12-14  106.029999  \n",
       "2018-12-17  102.889999  \n",
       "2018-12-18  103.970001  "
      ]
     },
     "execution_count": 21,
     "metadata": {},
     "output_type": "execute_result"
    }
   ],
   "source": [
    "data_from_web.tail()"
   ]
  },
  {
   "cell_type": "code",
   "execution_count": 24,
   "metadata": {
    "scrolled": true
   },
   "outputs": [],
   "source": [
    "AMZN_close = data_from_web.loc[:, 'Adj Close'][1:]"
   ]
  },
  {
   "cell_type": "code",
   "execution_count": 25,
   "metadata": {},
   "outputs": [],
   "source": [
    "MSFT_data = web.DataReader('MSFT', 'yahoo', start_time, end_time)"
   ]
  },
  {
   "cell_type": "code",
   "execution_count": 26,
   "metadata": {},
   "outputs": [],
   "source": [
    "MSFT_close = MSFT_data.loc[:, 'Adj Close'][1:]"
   ]
  },
  {
   "cell_type": "code",
   "execution_count": 27,
   "metadata": {},
   "outputs": [],
   "source": [
    "ratio = (AMZN_close / MSFT_close).sort_index(ascending=False)"
   ]
  },
  {
   "cell_type": "code",
   "execution_count": 28,
   "metadata": {},
   "outputs": [
    {
     "data": {
      "text/plain": [
       "Date\n",
       "2018-12-18    14.922381\n",
       "2018-12-17    14.781903\n",
       "2018-12-14    15.013770\n",
       "2018-12-13    15.151942\n",
       "2018-12-12    15.250642\n",
       "Name: Adj Close, dtype: float64"
      ]
     },
     "execution_count": 28,
     "metadata": {},
     "output_type": "execute_result"
    }
   ],
   "source": [
    "ratio.head()"
   ]
  },
  {
   "cell_type": "code",
   "execution_count": 34,
   "metadata": {},
   "outputs": [
    {
     "data": {
      "text/plain": [
       "2256"
      ]
     },
     "execution_count": 34,
     "metadata": {},
     "output_type": "execute_result"
    }
   ],
   "source": [
    "ratio.size"
   ]
  },
  {
   "cell_type": "code",
   "execution_count": 29,
   "metadata": {},
   "outputs": [
    {
     "name": "stdout",
     "output_type": "stream",
     "text": [
      "3.442617499999983\n"
     ]
    }
   ],
   "source": [
    "tic = time.perf_counter()\n",
    "\n",
    "position_side = pd.Series()\n",
    "long_return = pd.Series()\n",
    "long_short_return = pd.Series()\n",
    "for i in range(ratio.size):\n",
    "    if i < ratio.size - 1:\n",
    "        if ratio[i] > np.mean(ratio[i+1:]):\n",
    "            position_side[ratio.index[i]] = 1\n",
    "        elif ratio[i] < np.mean(ratio[i+1:]):\n",
    "            position_side[ratio.index[i]] = -1\n",
    "        else:\n",
    "            position_side[ratio.index[i]] = 0\n",
    "    else:\n",
    "        position_side[ratio.index[i]] = np.nan\n",
    "toc = time.perf_counter()\n",
    "print(toc - tic)"
   ]
  },
  {
   "cell_type": "code",
   "execution_count": 45,
   "metadata": {},
   "outputs": [
    {
     "name": "stdout",
     "output_type": "stream",
     "text": [
      "0.609303600000203\n"
     ]
    }
   ],
   "source": [
    "tic = time.perf_counter()\n",
    "\n",
    "position_side_list = []\n",
    "for i in range(ratio.size):\n",
    "    if i < ratio.size - 1:\n",
    "        if ratio[i] > np.mean(ratio[i+1:]):\n",
    "            position_side_list.append(1)\n",
    "        elif ratio[i] < np.mean(ratio[i+1:]):\n",
    "            position_side_list.append(-1)\n",
    "        else:\n",
    "            position_side_list.append(0)\n",
    "    else:\n",
    "        position_side_list.append(np.nan)\n",
    "position_side = pd.Series(position_side_list, index=ratio.index)\n",
    "toc = time.perf_counter()\n",
    "print(toc - tic)"
   ]
  },
  {
   "cell_type": "code",
   "execution_count": 46,
   "metadata": {
    "scrolled": true
   },
   "outputs": [
    {
     "data": {
      "text/plain": [
       "Date\n",
       "2018-12-18    1.0\n",
       "2018-12-17    1.0\n",
       "2018-12-14    1.0\n",
       "2018-12-13    1.0\n",
       "2018-12-12    1.0\n",
       "2018-12-11    1.0\n",
       "2018-12-10    1.0\n",
       "2018-12-07    1.0\n",
       "2018-12-06    1.0\n",
       "2018-12-04    1.0\n",
       "2018-12-03    1.0\n",
       "2018-11-30    1.0\n",
       "2018-11-29    1.0\n",
       "2018-11-28    1.0\n",
       "2018-11-27    1.0\n",
       "2018-11-26    1.0\n",
       "2018-11-23    1.0\n",
       "2018-11-21    1.0\n",
       "2018-11-20    1.0\n",
       "2018-11-19    1.0\n",
       "2018-11-16    1.0\n",
       "2018-11-15    1.0\n",
       "2018-11-14    1.0\n",
       "2018-11-13    1.0\n",
       "2018-11-12    1.0\n",
       "2018-11-09    1.0\n",
       "2018-11-08    1.0\n",
       "2018-11-07    1.0\n",
       "2018-11-06    1.0\n",
       "2018-11-05    1.0\n",
       "             ... \n",
       "2010-02-16   -1.0\n",
       "2010-02-12    1.0\n",
       "2010-02-11    1.0\n",
       "2010-02-10   -1.0\n",
       "2010-02-09   -1.0\n",
       "2010-02-08   -1.0\n",
       "2010-02-05   -1.0\n",
       "2010-02-04   -1.0\n",
       "2010-02-03   -1.0\n",
       "2010-02-02   -1.0\n",
       "2010-02-01   -1.0\n",
       "2010-01-29    1.0\n",
       "2010-01-28    1.0\n",
       "2010-01-27   -1.0\n",
       "2010-01-26   -1.0\n",
       "2010-01-25   -1.0\n",
       "2010-01-22   -1.0\n",
       "2010-01-21   -1.0\n",
       "2010-01-20   -1.0\n",
       "2010-01-19   -1.0\n",
       "2010-01-15   -1.0\n",
       "2010-01-14   -1.0\n",
       "2010-01-13   -1.0\n",
       "2010-01-12   -1.0\n",
       "2010-01-11   -1.0\n",
       "2010-01-08    1.0\n",
       "2010-01-07   -1.0\n",
       "2010-01-06   -1.0\n",
       "2010-01-05    1.0\n",
       "2010-01-04    NaN\n",
       "Length: 2256, dtype: float64"
      ]
     },
     "execution_count": 46,
     "metadata": {},
     "output_type": "execute_result"
    }
   ],
   "source": [
    "position_side"
   ]
  },
  {
   "cell_type": "code",
   "execution_count": 47,
   "metadata": {
    "collapsed": true
   },
   "outputs": [
    {
     "data": {
      "text/plain": [
       "Date\n",
       "2018-12-18    14.922381\n",
       "2018-12-17    14.781903\n",
       "2018-12-14    15.013770\n",
       "2018-12-13    15.151942\n",
       "2018-12-12    15.250642\n",
       "2018-12-11    15.132517\n",
       "2018-12-10    15.252627\n",
       "2018-12-07    15.542168\n",
       "2018-12-06    15.561772\n",
       "2018-12-04    15.374125\n",
       "2018-12-03    15.811937\n",
       "2018-11-30    15.241862\n",
       "2018-11-29    15.188038\n",
       "2018-11-28    15.098542\n",
       "2018-11-27    14.760314\n",
       "2018-11-26    14.852352\n",
       "2018-11-23    14.573203\n",
       "2018-11-21    14.709824\n",
       "2018-11-20    14.703175\n",
       "2018-11-19    14.455076\n",
       "2018-11-16    14.714286\n",
       "2018-11-15    15.095451\n",
       "2018-11-14    15.233019\n",
       "2018-11-13    15.319027\n",
       "2018-11-12    15.382439\n",
       "2018-11-09    15.696157\n",
       "2018-11-08    15.771735\n",
       "2018-11-07    15.747355\n",
       "2018-11-06    15.316627\n",
       "2018-11-05    15.206328\n",
       "                ...    \n",
       "2010-02-16     5.166131\n",
       "2010-02-12     5.363817\n",
       "2010-02-11     5.346718\n",
       "2010-02-10     5.249443\n",
       "2010-02-09     5.275640\n",
       "2010-02-08     5.276636\n",
       "2010-02-05     5.245161\n",
       "2010-02-04     5.213867\n",
       "2010-02-03     5.208184\n",
       "2010-02-02     5.196184\n",
       "2010-02-01     5.238380\n",
       "2010-01-29     5.571693\n",
       "2010-01-28     5.411061\n",
       "2010-01-27     5.179642\n",
       "2010-01-26     5.070714\n",
       "2010-01-25     5.137285\n",
       "2010-01-22     5.249566\n",
       "2010-01-21     5.282412\n",
       "2010-01-20     5.147876\n",
       "2010-01-19     5.137126\n",
       "2010-01-15     5.158011\n",
       "2010-01-14     5.149842\n",
       "2010-01-13     5.325950\n",
       "2010-01-12     5.302266\n",
       "2010-01-11     5.389658\n",
       "2010-01-08     5.452180\n",
       "2010-01-07     5.345054\n",
       "2010-01-06     5.381014\n",
       "2010-01-05     5.446661\n",
       "2010-01-04     5.416463\n",
       "Name: Adj Close, Length: 2256, dtype: float64"
      ]
     },
     "execution_count": 47,
     "metadata": {},
     "output_type": "execute_result"
    }
   ],
   "source": [
    "ratio"
   ]
  },
  {
   "cell_type": "code",
   "execution_count": 68,
   "metadata": {},
   "outputs": [
    {
     "data": {
      "text/plain": [
       "Date\n",
       "2018-12-18   -0.044601\n",
       "2018-12-17   -0.040081\n",
       "2018-12-14   -0.003102\n",
       "2018-12-13    0.012354\n",
       "2018-12-12    0.001347\n",
       "Name: Adj Close, dtype: float64"
      ]
     },
     "execution_count": 68,
     "metadata": {},
     "output_type": "execute_result"
    }
   ],
   "source": [
    "AMZN_pct.head()"
   ]
  },
  {
   "cell_type": "code",
   "execution_count": 71,
   "metadata": {},
   "outputs": [],
   "source": [
    "AMZN_pct = AMZN_close.pct_change().sort_index(ascending=False).shift(-1)\n",
    "MSFT_pct = MSFT_close.pct_change().sort_index(ascending=False).shift(-1)"
   ]
  },
  {
   "cell_type": "code",
   "execution_count": 74,
   "metadata": {},
   "outputs": [
    {
     "data": {
      "text/plain": [
       "0.0024362820758406416"
      ]
     },
     "execution_count": 74,
     "metadata": {},
     "output_type": "execute_result"
    }
   ],
   "source": [
    "(AMZN_pct * (1+position_side)/2 + MSFT_pct * (1-position_side)/2).mean()"
   ]
  },
  {
   "cell_type": "code",
   "execution_count": 65,
   "metadata": {},
   "outputs": [],
   "source": [
    "rolling_ratio = ratio.sort_index(ascending=True).\\\n",
    "rolling(14).mean().shift(1).sort_index(ascending=False)"
   ]
  },
  {
   "cell_type": "code",
   "execution_count": 73,
   "metadata": {},
   "outputs": [],
   "source": [
    "position_side = (ratio > rolling_ratio).apply(int)"
   ]
  },
  {
   "cell_type": "code",
   "execution_count": null,
   "metadata": {},
   "outputs": [],
   "source": []
  },
  {
   "cell_type": "code",
   "execution_count": 43,
   "metadata": {},
   "outputs": [
    {
     "data": {
      "text/plain": [
       "Date\n",
       "2018-12-18    1551.479980\n",
       "2018-12-17    1520.910034\n",
       "2018-12-14    1591.910034\n",
       "2018-12-13    1658.380005\n",
       "2018-12-12    1663.540039\n",
       "Name: Adj Close, dtype: float64"
      ]
     },
     "execution_count": 43,
     "metadata": {},
     "output_type": "execute_result"
    }
   ],
   "source": [
    "AMZN_close.sort_index(ascending=False).head()"
   ]
  },
  {
   "cell_type": "code",
   "execution_count": 36,
   "metadata": {},
   "outputs": [
    {
     "data": {
      "text/plain": [
       "long     1963\n",
       "short     292\n",
       "0           1\n",
       "dtype: int64"
      ]
     },
     "execution_count": 36,
     "metadata": {},
     "output_type": "execute_result"
    }
   ],
   "source": [
    "position_side.value_counts()"
   ]
  },
  {
   "cell_type": "code",
   "execution_count": 37,
   "metadata": {},
   "outputs": [
    {
     "data": {
      "image/png": "[encoded data removed]",
      "text/plain": [
       "<Figure size 864x576 with 1 Axes>"
      ]
     },
     "metadata": {},
     "output_type": "display_data"
    }
   ],
   "source": [
    "ratio.plot();"
   ]
  },
  {
   "cell_type": "code",
   "execution_count": 38,
   "metadata": {},
   "outputs": [
    {
     "data": {
      "image/png": "[encoded data removed]",
      "text/plain": [
       "<Figure size 864x576 with 1 Axes>"
      ]
     },
     "metadata": {},
     "output_type": "display_data"
    }
   ],
   "source": [
    "ratio_rolling_mean = ratio.rolling(14).mean()\n",
    "ratio_rolling_std = ratio.rolling(14).std()\n",
    "upper_line = ratio_rolling_mean + ratio_rolling_std\n",
    "lower_line = ratio_rolling_mean - ratio_rolling_std\n",
    "\n",
    "ratio[-100:].plot();\n",
    "upper_line[-100:].plot();\n",
    "lower_line[-100:].plot();"
   ]
  },
  {
   "cell_type": "code",
   "execution_count": 39,
   "metadata": {},
   "outputs": [
    {
     "data": {
      "image/png": "[encoded data removed]",
      "text/plain": [
       "<Figure size 864x576 with 1 Axes>"
      ]
     },
     "metadata": {},
     "output_type": "display_data"
    }
   ],
   "source": [
    "ratio[-100:].plot();\n",
    "upper_line[-100:].plot();\n",
    "lower_line[-100:].plot();"
   ]
  },
  {
   "cell_type": "code",
   "execution_count": null,
   "metadata": {},
   "outputs": [],
   "source": []
  }
 ],
 "metadata": {
  "kernelspec": {
   "display_name": "Python (quant)",
   "language": "python",
   "name": "quant"
  },
  "language_info": {
   "codemirror_mode": {
    "name": "ipython",
    "version": 3
   },
   "file_extension": ".py",
   "mimetype": "text/x-python",
   "name": "python",
   "nbconvert_exporter": "python",
   "pygments_lexer": "ipython3",
   "version": "3.6.6"
  },
  "toc": {
   "base_numbering": 1,
   "nav_menu": {},
   "number_sections": true,
   "sideBar": true,
   "skip_h1_title": false,
   "title_cell": "Table of Contents",
   "title_sidebar": "Contents",
   "toc_cell": false,
   "toc_position": {},
   "toc_section_display": true,
   "toc_window_display": false
  },
  "varInspector": {
   "cols": {
    "lenName": 16,
    "lenType": 16,
    "lenVar": 40
   },
   "kernels_config": {
    "python": {
     "delete_cmd_postfix": "",
     "delete_cmd_prefix": "del ",
     "library": "var_list.py",
     "varRefreshCmd": "print(var_dic_list())"
    },
    "r": {
     "delete_cmd_postfix": ") ",
     "delete_cmd_prefix": "rm(",
     "library": "var_list.r",
     "varRefreshCmd": "cat(var_dic_list()) "
    }
   },
   "position": {
    "height": "772px",
    "left": "1550px",
    "right": "20px",
    "top": "119px",
    "width": "350px"
   },
   "types_to_exclude": [
    "module",
    "function",
    "builtin_function_or_method",
    "instance",
    "_Feature"
   ],
   "window_display": false
  }
 },
 "nbformat": 4,
 "nbformat_minor": 2
}
