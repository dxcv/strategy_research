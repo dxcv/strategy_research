{
 "cells": [
  {
   "cell_type": "markdown",
   "metadata": {},
   "source": [
    "### import libraries "
   ]
  },
  {
   "cell_type": "code",
   "execution_count": 1,
   "metadata": {},
   "outputs": [],
   "source": [
    "%load_ext autoreload\n",
    "%autoreload 2\n",
    "\n",
    "import numpy as np\n",
    "import pandas as pd\n",
    "import matplotlib.pyplot as plt\n",
    "try:\n",
    "    import seaborn as sns\n",
    "except:\n",
    "    pass\n",
    "try:\n",
    "    import talib as ta\n",
    "except:\n",
    "    pass\n",
    "import datetime, time\n",
    "import QUANTAXIS as QA\n",
    "from utils import *\n",
    "# import statsmodels.api as sm\n",
    "# import pandas_datareader.data as web\n",
    "\n"
   ]
  },
  {
   "cell_type": "code",
   "execution_count": 49,
   "metadata": {},
   "outputs": [],
   "source": [
    "plt.rcParams['figure.figsize'] = [12, 8]\n",
    "plt.rcParams['image.interpolation'] = 'nearest'\n",
    "plt.rcParams['image.cmap'] = 'gray'\n",
    "plt.style.use('ggplot')"
   ]
  },
  {
   "cell_type": "code",
   "execution_count": 2,
   "metadata": {},
   "outputs": [],
   "source": [
    "# prepare some data\n",
    "code_list_by_sector = pd.read_excel('data/etf_pair_code.xlsx', dtype={'symbol':str})\n",
    "sector_list = code_list_by_sector.sector.unique().tolist()\n",
    "etf_list = code_list_by_sector.etf_symbol.unique().tolist()\n",
    "region_list = code_list_by_sector.region.unique().tolist()"
   ]
  },
  {
   "cell_type": "markdown",
   "metadata": {},
   "source": [
    "### calculate pair trading"
   ]
  },
  {
   "cell_type": "markdown",
   "metadata": {},
   "source": [
    "#### 计算一组assets的pair trading"
   ]
  },
  {
   "cell_type": "markdown",
   "metadata": {},
   "source": [
    "`Signature: `\n",
    "```python\n",
    "calc_pair_trading(symbol, data_source='us', is_saving=False, save_name=None, method='all', period=170, show_bar=False)\n",
    "```\n",
    "```\n",
    "Docstring:\n",
    "Implements:\n",
    "    计算一组assets的pair trading, 并且可以选择是否存入到excel表中\n",
    "\n",
    "Arguments:\n",
    "    symbol -- 字符串数据类型 or pythonlist数据类型, \n",
    "              可以是etf 代码 或者 sector name; \n",
    "              也可以是一组Equity symbol构成的list\n",
    "    data_source -- 字符串数据类型,\n",
    "                -- 'us', 本地美股数据,\n",
    "                -- 'hk', 本地港股数据,\n",
    "                -- 'ol', 在线获取数据. (该功能暂未整合进去)\n",
    "    is_saving -- 是否保存/保存哪些表 \n",
    "              -- True, bool type, 保存所有的表进excel\n",
    "              -- 'all', str type, 保存所有的表进excel\n",
    "              -- \"ratio\",\"long_asset\",\"long_return\",\"long_short_return\"中任意一个进行保存\n",
    "              -- '0123', str type, 以数字代表4个key, 任意组合即为保存指定表\n",
    "    save_name -- excel的文件名\n",
    "              -- 若为None, 则随机生成一个8位英文字符的文件名\n",
    "              -- str type, excel的文件名\n",
    "    method -- 字符串数据类型, 表示采取何种求平均值的方法\n",
    "                -- all, 表示用当前bar之前所有的ratio值求平均\n",
    "                -- rolling, 表示用最近一段时间的ratio值做算术移动平均值\n",
    "                -- ewm, 表示用最近一段时间的ratio值做指数移动平均值\n",
    "    period -- integer, 当avg_method为rolling或者ewm时, 需要计算最近多少根bar的平均值\n",
    "    show_bar -- 是否显示计算过程中的进度条\n",
    "```"
   ]
  },
  {
   "cell_type": "markdown",
   "metadata": {},
   "source": [
    "因为`calc_pair_trading()`需要知道etf代码和sector name,为了避免歧义,我做了限定,可以通过上面得到的list查看etf代码和sector name"
   ]
  },
  {
   "cell_type": "code",
   "execution_count": null,
   "metadata": {},
   "outputs": [],
   "source": [
    "# 可以直接直接使用以下代码查看etf的symbol\n",
    "etf_list"
   ]
  },
  {
   "cell_type": "code",
   "execution_count": 5,
   "metadata": {
    "scrolled": true
   },
   "outputs": [
    {
     "data": {
      "text/plain": [
       "array(['XLK', 'PNQI', 'CQQQ', 'GAMR', 'PSJ', 'SKYY', 'HACK', 'SOXX', 'SMH',\n",
       "       'XLV', 'IBB', 'ITA', 'XLP', 'XLY', 'IAI', 'VDE', 'XLB'],\n",
       "      dtype='<U4')"
      ]
     },
     "execution_count": 5,
     "metadata": {},
     "output_type": "execute_result"
    }
   ],
   "source": [
    "# 不过转成np.array的格式时, 会显示的更紧凑\n",
    "np.array(etf_list) # "
   ]
  },
  {
   "cell_type": "code",
   "execution_count": 6,
   "metadata": {},
   "outputs": [
    {
     "data": {
      "text/plain": [
       "array(['Hardware', 'Internet', 'China Internet', 'Online Gaming',\n",
       "       'Software/ Cloud Computing', 'Cloud Computing', 'Network/Security',\n",
       "       'ePayment', 'Semiconductor', 'Medical', 'Biotech/ Pharma',\n",
       "       'Health Care Services', 'Defense', 'Consumer', 'Financials',\n",
       "       'Energy', 'Others'],\n",
       "      dtype='<U25')"
      ]
     },
     "execution_count": 6,
     "metadata": {},
     "output_type": "execute_result"
    }
   ],
   "source": [
    "np.array(sector_list)"
   ]
  },
  {
   "cell_type": "markdown",
   "metadata": {},
   "source": [
    "看看各个etf有多少个成分股"
   ]
  },
  {
   "cell_type": "code",
   "execution_count": 8,
   "metadata": {
    "scrolled": true
   },
   "outputs": [
    {
     "data": {
      "text/plain": [
       "IBB     191\n",
       "VDE     143\n",
       "PNQI     95\n",
       "CQQQ     78\n",
       "GAMR     72\n",
       "XLK      68\n",
       "XLY      66\n",
       "XLV      63\n",
       "HACK     53\n",
       "ITA      36\n",
       "XLP      32\n",
       "PSJ      31\n",
       "SOXX     30\n",
       "SKYY     29\n",
       "IAI      27\n",
       "SMH      25\n",
       "XLB      24\n",
       "Name: etf_symbol, dtype: int64"
      ]
     },
     "execution_count": 8,
     "metadata": {},
     "output_type": "execute_result"
    }
   ],
   "source": [
    "code_list_by_sector.etf_symbol.value_counts()"
   ]
  },
  {
   "cell_type": "markdown",
   "metadata": {},
   "source": [
    "#### 我们现在以SMH来做演示\n",
    "\n",
    "现在默认使用进度条, 如果我们现在我们不保存文件, 并且默认使用全部ratio计算平均值"
   ]
  },
  {
   "cell_type": "code",
   "execution_count": 20,
   "metadata": {},
   "outputs": [
    {
     "data": {
      "application/vnd.jupyter.widget-view+json": {
       "model_id": "2b092ca3cbf647af97c6ab997304399a",
       "version_major": 2,
       "version_minor": 0
      },
      "text/plain": [
       "HBox(children=(IntProgress(value=0, max=25), HTML(value='')))"
      ]
     },
     "metadata": {},
     "output_type": "display_data"
    },
    {
     "name": "stdout",
     "output_type": "stream",
     "text": [
      "\n"
     ]
    }
   ],
   "source": [
    "result = calc_pair_trading('SMH')"
   ]
  },
  {
   "cell_type": "markdown",
   "metadata": {},
   "source": [
    "可以看到，如果使用所有的ratio来计算平均值时, 速度会非常慢\n",
    "\n",
    "所以这个时候我们选用移动算术平均来计算, 移动窗口设为245"
   ]
  },
  {
   "cell_type": "code",
   "execution_count": 21,
   "metadata": {},
   "outputs": [
    {
     "data": {
      "application/vnd.jupyter.widget-view+json": {
       "model_id": "1dc7888262cd41fd8565dea02ec97697",
       "version_major": 2,
       "version_minor": 0
      },
      "text/plain": [
       "HBox(children=(IntProgress(value=0, max=25), HTML(value='')))"
      ]
     },
     "metadata": {},
     "output_type": "display_data"
    },
    {
     "name": "stdout",
     "output_type": "stream",
     "text": [
      "\n"
     ]
    }
   ],
   "source": [
    "arith_result_245 = calc_pair_trading('SMH', method='rolling', period=245)"
   ]
  },
  {
   "cell_type": "markdown",
   "metadata": {},
   "source": [
    "使用移动平均的方式可以看到运行速度非常快(28秒), 而默认的方式需要10分钟"
   ]
  },
  {
   "cell_type": "markdown",
   "metadata": {},
   "source": [
    "默认方式下return的表现"
   ]
  },
  {
   "cell_type": "code",
   "execution_count": 38,
   "metadata": {},
   "outputs": [
    {
     "name": "stdout",
     "output_type": "stream",
     "text": [
      "default method long/short return : -0.0215810547\n",
      "default method long return : 0.2239631074\n"
     ]
    }
   ],
   "source": [
    "print('default method long/short return : %.10f' % result['long_short_return'].sum().sum())\n",
    "print('default method long return : %.10f' % result['long_return'].sum().sum())"
   ]
  },
  {
   "cell_type": "markdown",
   "metadata": {},
   "source": [
    "移动算术平均return表现"
   ]
  },
  {
   "cell_type": "code",
   "execution_count": 39,
   "metadata": {},
   "outputs": [
    {
     "name": "stdout",
     "output_type": "stream",
     "text": [
      "arithmetic method long/short return : 0.0247123504\n",
      "arithmetic method long return : 0.2469689453\n"
     ]
    }
   ],
   "source": [
    "print('arithmetic method long/short return : %.10f' % arith_result_245['long_short_return'].sum().sum())\n",
    "print('arithmetic method long return : %.10f' % arith_result_245['long_return'].sum().sum())"
   ]
  },
  {
   "cell_type": "markdown",
   "metadata": {},
   "source": [
    "不同周期下的表现"
   ]
  },
  {
   "cell_type": "code",
   "execution_count": 27,
   "metadata": {},
   "outputs": [
    {
     "data": {
      "application/vnd.jupyter.widget-view+json": {
       "model_id": "f7eead2809904eb59553a5aab601d151",
       "version_major": 2,
       "version_minor": 0
      },
      "text/plain": [
       "HBox(children=(IntProgress(value=0, max=25), HTML(value='')))"
      ]
     },
     "metadata": {},
     "output_type": "display_data"
    },
    {
     "name": "stdout",
     "output_type": "stream",
     "text": [
      "\n"
     ]
    }
   ],
   "source": [
    "result_170 = calc_pair_trading('SMH', method='rolling', period=170)"
   ]
  },
  {
   "cell_type": "code",
   "execution_count": 40,
   "metadata": {},
   "outputs": [
    {
     "name": "stdout",
     "output_type": "stream",
     "text": [
      "arithmetic method long/short return : 0.0332175905\n",
      "arithmetic method long return : 0.2512215653\n"
     ]
    }
   ],
   "source": [
    "print('method:arith, period:170, long/short return : %.10f' % result_170['long_short_return'].sum().sum())\n",
    "print('method:arith, period:170, long return : %.10f' % result_170['long_return'].sum().sum())"
   ]
  },
  {
   "cell_type": "markdown",
   "metadata": {},
   "source": [
    "采用指数平均方式"
   ]
  },
  {
   "cell_type": "code",
   "execution_count": 41,
   "metadata": {},
   "outputs": [
    {
     "data": {
      "application/vnd.jupyter.widget-view+json": {
       "model_id": "1e8b2f07a7dd43ad98a6111067d27565",
       "version_major": 2,
       "version_minor": 0
      },
      "text/plain": [
       "HBox(children=(IntProgress(value=0, max=25), HTML(value='')))"
      ]
     },
     "metadata": {},
     "output_type": "display_data"
    },
    {
     "name": "stdout",
     "output_type": "stream",
     "text": [
      "\n"
     ]
    },
    {
     "data": {
      "application/vnd.jupyter.widget-view+json": {
       "model_id": "4875da6e9a864d639e6b3fa5700ccea6",
       "version_major": 2,
       "version_minor": 0
      },
      "text/plain": [
       "HBox(children=(IntProgress(value=0, max=25), HTML(value='')))"
      ]
     },
     "metadata": {},
     "output_type": "display_data"
    },
    {
     "name": "stdout",
     "output_type": "stream",
     "text": [
      "\n",
      "method:exp, period:245, long/short return : 0.0089871440\n",
      "method:exp, period:245, long return : 0.2391063421\n",
      "method:exp, period:122, long/short return : 0.0142768102\n",
      "method:exp, period:122, long return : 0.2417511752\n"
     ]
    }
   ],
   "source": [
    "exp_result_245 = calc_pair_trading('SMH', method='ewm', period=245)\n",
    "exp_result_122 = calc_pair_trading('SMH', method='ewm', period=122)\n",
    "\n",
    "print('method:exp, period:245, long/short return : %.10f' % exp_result_245['long_short_return'].sum().sum())\n",
    "print('method:exp, period:245, long return : %.10f' % exp_result_245['long_return'].sum().sum())\n",
    "\n",
    "print('method:exp, period:122, long/short return : %.10f' % exp_result_122['long_short_return'].sum().sum())\n",
    "print('method:exp, period:122, long return : %.10f' % exp_result_122['long_return'].sum().sum())"
   ]
  },
  {
   "cell_type": "markdown",
   "metadata": {},
   "source": [
    "需要说明的是, period需要选取多少, 这个没有明显的标准，上述170这个数值，是我根据计算得到，仅限SMH这个ETF"
   ]
  },
  {
   "cell_type": "code",
   "execution_count": 43,
   "metadata": {},
   "outputs": [
    {
     "data": {
      "application/vnd.jupyter.widget-view+json": {
       "model_id": "7bfb5757245b449abde4ee9723575bc8",
       "version_major": 2,
       "version_minor": 0
      },
      "text/plain": [
       "HBox(children=(IntProgress(value=0, max=30), HTML(value='')))"
      ]
     },
     "metadata": {},
     "output_type": "display_data"
    }
   ],
   "source": [
    "long_return_dict = {}\n",
    "long_short_return_dict = {}\n",
    "for i in tqdm_notebook(range(1,31)):\n",
    "    temp_result = calc_pair_trading('SMH', method='rolling', period=int(i*10),\n",
    "                                   show_bar=False)\n",
    "    long_return_dict[i] = temp_result['long_return'].sum().sum()\n",
    "    long_short_return_dict[i] = temp_result['long_short_return'].sum().sum()"
   ]
  },
  {
   "cell_type": "code",
   "execution_count": 45,
   "metadata": {
    "scrolled": true
   },
   "outputs": [
    {
     "name": "stdout",
     "output_type": "stream",
     "text": [
      "period: 1, long return: 0.19420, long/short return: -0.08083\n",
      "period: 2, long return: 0.21449, long/short return: -0.04024\n",
      "period: 3, long return: 0.22289, long/short return: -0.02344\n",
      "period: 4, long return: 0.22561, long/short return: -0.01801\n",
      "period: 5, long return: 0.22903, long/short return: -0.01116\n",
      "period: 6, long return: 0.23279, long/short return: -0.00364\n",
      "period: 7, long return: 0.23798, long/short return: 0.00673\n",
      "period: 8, long return: 0.24056, long/short return: 0.01189\n",
      "period: 9, long return: 0.24368, long/short return: 0.01813\n",
      "period: 10, long return: 0.24595, long/short return: 0.02268\n",
      "period: 11, long return: 0.24445, long/short return: 0.01967\n",
      "period: 12, long return: 0.24499, long/short return: 0.02076\n",
      "period: 13, long return: 0.24650, long/short return: 0.02378\n",
      "period: 14, long return: 0.25012, long/short return: 0.03102\n",
      "period: 15, long return: 0.24801, long/short return: 0.02680\n",
      "period: 16, long return: 0.24994, long/short return: 0.03065\n",
      "period: 17, long return: 0.25122, long/short return: 0.03322\n",
      "period: 18, long return: 0.24744, long/short return: 0.02566\n",
      "period: 19, long return: 0.24713, long/short return: 0.02504\n",
      "period: 20, long return: 0.24542, long/short return: 0.02161\n",
      "period: 21, long return: 0.24382, long/short return: 0.01841\n",
      "period: 22, long return: 0.24744, long/short return: 0.02566\n",
      "period: 23, long return: 0.24541, long/short return: 0.02159\n",
      "period: 24, long return: 0.24710, long/short return: 0.02497\n",
      "period: 25, long return: 0.24651, long/short return: 0.02379\n",
      "period: 26, long return: 0.24457, long/short return: 0.01992\n",
      "period: 27, long return: 0.24041, long/short return: 0.01160\n",
      "period: 28, long return: 0.24100, long/short return: 0.01277\n",
      "period: 29, long return: 0.24299, long/short return: 0.01675\n",
      "period: 30, long return: 0.24536, long/short return: 0.02150\n"
     ]
    }
   ],
   "source": [
    "for i in range(1, 31):\n",
    "    print('period: %d, long return: %.5f, long/short return: %.5f' %\n",
    "         (i, long_return_dict[i], long_short_return_dict[i]))"
   ]
  },
  {
   "cell_type": "code",
   "execution_count": 57,
   "metadata": {},
   "outputs": [
    {
     "data": {
      "image/png": "[encoded data removed]",
      "text/plain": [
       "<Figure size 864x576 with 1 Axes>"
      ]
     },
     "metadata": {},
     "output_type": "display_data"
    }
   ],
   "source": [
    "plt.plot(range(1,31), long_return_dict.values(), label='long return');\n",
    "plt.plot(range(1,31), long_short_return_dict.values(), label='long short return');\n",
    "plt.legend(loc='best');"
   ]
  },
  {
   "cell_type": "markdown",
   "metadata": {},
   "source": [
    "#### 保存结果"
   ]
  },
  {
   "cell_type": "markdown",
   "metadata": {},
   "source": [
    "#####  将已经计算得到的结果存入到excel表格中"
   ]
  },
  {
   "cell_type": "markdown",
   "metadata": {},
   "source": [
    "`Signature: `\n",
    "```python\n",
    "store_in_excel(result, is_saving, save_name)\n",
    "```\n",
    "```\n",
    "Docstring:\n",
    "Implements:\n",
    "    将result保存进excel中\n",
    "    \n",
    "Arguments:\n",
    "    result -- python字典数据类型, 由single_pair_trading or batch_pair_trading计算得到\n",
    "        keys分别是以下4个:\"ratio\",\"long_asset\",\"long_return\",\"long_short_return\"\n",
    "    is_saving -- 是否保存/保存哪些表 \n",
    "              -- True, bool type, 保存所有的表进excel\n",
    "              -- 'all', str type, 保存所有的表进excel\n",
    "              -- \"ratio\",\"long_asset\",\"long_return\",\"long_short_return\"中任意一个进行保存\n",
    "              -- '0123', str type, 以数字代表4个key, 任意组合即为保存指定表\n",
    "    save_name -- excel的文件名\n",
    "              -- 若为None, 则随机生成一个8位英文字符的文件名\n",
    "              -- str type, excel的文件名\n",
    "\n",
    "Returns:\n",
    "    None\n",
    "```"
   ]
  },
  {
   "cell_type": "markdown",
   "metadata": {},
   "source": [
    "将"
   ]
  },
  {
   "cell_type": "code",
   "execution_count": null,
   "metadata": {},
   "outputs": [],
   "source": [
    "store_in_excel()"
   ]
  },
  {
   "cell_type": "markdown",
   "metadata": {},
   "source": [
    "save file / single pair trading & plotting / online data module"
   ]
  }
 ],
 "metadata": {
  "kernelspec": {
   "display_name": "Python (quant)",
   "language": "python",
   "name": "quant"
  },
  "language_info": {
   "codemirror_mode": {
    "name": "ipython",
    "version": 3
   },
   "file_extension": ".py",
   "mimetype": "text/x-python",
   "name": "python",
   "nbconvert_exporter": "python",
   "pygments_lexer": "ipython3",
   "version": "3.6.6"
  },
  "toc": {
   "base_numbering": 1,
   "nav_menu": {},
   "number_sections": true,
   "sideBar": true,
   "skip_h1_title": false,
   "title_cell": "Table of Contents",
   "title_sidebar": "Contents",
   "toc_cell": false,
   "toc_position": {},
   "toc_section_display": true,
   "toc_window_display": false
  },
  "varInspector": {
   "cols": {
    "lenName": 16,
    "lenType": 16,
    "lenVar": 40
   },
   "kernels_config": {
    "python": {
     "delete_cmd_postfix": "",
     "delete_cmd_prefix": "del ",
     "library": "var_list.py",
     "varRefreshCmd": "print(var_dic_list())"
    },
    "r": {
     "delete_cmd_postfix": ") ",
     "delete_cmd_prefix": "rm(",
     "library": "var_list.r",
     "varRefreshCmd": "cat(var_dic_list()) "
    }
   },
   "types_to_exclude": [
    "module",
    "function",
    "builtin_function_or_method",
    "instance",
    "_Feature"
   ],
   "window_display": false
  }
 },
 "nbformat": 4,
 "nbformat_minor": 2
}
