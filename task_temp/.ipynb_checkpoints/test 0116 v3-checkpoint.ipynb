{
 "cells": [
  {
   "cell_type": "code",
   "execution_count": 4,
   "metadata": {},
   "outputs": [],
   "source": [
    "%load_ext autoreload\n",
    "%autoreload 2\n",
    "\n",
    "import numpy as np\n",
    "import pandas as pd\n",
    "import matplotlib.pyplot as plt\n",
    "import talib as ta\n",
    "import datetime, time\n",
    "import pickle\n",
    "from tqdm import tqdm_notebook\n",
    "\n",
    "import pdblp as pb\n",
    "import blpapi "
   ]
  },
  {
   "cell_type": "code",
   "execution_count": 5,
   "metadata": {},
   "outputs": [],
   "source": [
    "plt.rcParams['figure.figsize'] = [12, 8]\n",
    "plt.rcParams['image.interpolation'] = 'nearest'\n",
    "plt.rcParams['image.cmap'] = 'gray'\n",
    "plt.style.use('ggplot')\n",
    "\n",
    "con = pb.BCon(port=8194, timeout=5000)\n",
    "con.start()"
   ]
  },
  {
   "cell_type": "code",
   "execution_count": 6,
   "metadata": {},
   "outputs": [],
   "source": [
    "df_code = pd.read_excel('data/etf_pair_code.xlsx', dtype={'symbol':str})\n",
    "code_list = df_code.symbol.unique().tolist()\n",
    "ticker_list = (df_code.symbol + ' ' + df_code.region).fillna('ita').unique().tolist()\n",
    "\n",
    "fields = ['HIGH', 'OPEN', 'LOW', 'VOLUME', 'PX_LAST']\n",
    "# cols = ['High', 'Open', 'Low', 'Volume', 'Adj Close']\n",
    "# cols = ['High', 'Low', 'Open', 'Adj Close', 'Volume']\n",
    "\n",
    "start = '20100101'\n",
    "end = datetime.datetime.today().strftime('%Y%m%d')\n",
    "\n",
    "ticker_list.remove('HKD Curncy')\n",
    "ticker_list.remove('ita')\n",
    "intervals = np.linspace(0, len(ticker_list), 10, dtype=int)"
   ]
  },
  {
   "cell_type": "code",
   "execution_count": 7,
   "metadata": {},
   "outputs": [],
   "source": [
    "tic = time.perf_counter()\n",
    "\n",
    "df = pd.DataFrame()\n",
    "\n",
    "for i in tqdm_notebook(range(len(intervals)-1)):\n",
    "    \n",
    "    time.sleep(5)\n",
    "    \n",
    "    temp_list = ticker_list[intervals[i]:intervals[i+1]]\n",
    "    \n",
    "    temp_df = con.bdh(temp_list, fields, start, end)\n",
    "\n",
    "    temp_df = pd.concat([temp_df[x].assign(code=x.split(' ')[0]).groupby(level=0, axis=1).first() for x in temp_df.columns.levels[0]], \n",
    "              axis=0,sort=False)#.reset_index().set_index(['date', 'code'])\n",
    "#     temp_df.columns = cols\n",
    "    \n",
    "    df = pd.concat([df, temp_df], axis=0)\n",
    "\n",
    "df = df[['HIGH', 'OPEN', 'LOW', 'VOLUME', 'PX_LAST', 'code']]\n",
    "df.columns = ['High', 'Open', 'Low', 'Volume', 'Adj Close', 'code']\n",
    "    \n",
    "toc = time.perf_counter()\n",
    "\n",
    "print('retrieve data cost time: %s' % (toc-tic))"
   ]
  },
  {
   "cell_type": "markdown",
   "metadata": {},
   "source": [
    "请把以下代码运行后的截图发给我即可"
   ]
  },
  {
   "cell_type": "code",
   "execution_count": null,
   "metadata": {},
   "outputs": [],
   "source": [
    "df.head()"
   ]
  },
  {
   "cell_type": "code",
   "execution_count": null,
   "metadata": {},
   "outputs": [],
   "source": [
    "df.to_csv('data/data.csv')\n",
    "from utils import *\n",
    "result = calc_pair_trading('SMH', \n",
    "                           data_source='ol',\n",
    "                           region='all',\n",
    "                           method='rolling', \n",
    "                           period=245, \n",
    "                           is_saving=False, \n",
    "                           save_name='rsi_sample')\n",
    "print(result['long_return'].sum().sum(), \n",
    "     result['long_short_return'].sum().sum())"
   ]
  }
 ],
 "metadata": {
  "kernelspec": {
   "display_name": "Python 3",
   "language": "python",
   "name": "python3"
  },
  "language_info": {
   "codemirror_mode": {
    "name": "ipython",
    "version": 3
   },
   "file_extension": ".py",
   "mimetype": "text/x-python",
   "name": "python",
   "nbconvert_exporter": "python",
   "pygments_lexer": "ipython3",
   "version": "3.6.5"
  },
  "toc": {
   "base_numbering": 1,
   "nav_menu": {},
   "number_sections": true,
   "sideBar": true,
   "skip_h1_title": false,
   "title_cell": "Table of Contents",
   "title_sidebar": "Contents",
   "toc_cell": false,
   "toc_position": {},
   "toc_section_display": true,
   "toc_window_display": false
  },
  "varInspector": {
   "cols": {
    "lenName": 16,
    "lenType": 16,
    "lenVar": 40
   },
   "kernels_config": {
    "python": {
     "delete_cmd_postfix": "",
     "delete_cmd_prefix": "del ",
     "library": "var_list.py",
     "varRefreshCmd": "print(var_dic_list())"
    },
    "r": {
     "delete_cmd_postfix": ") ",
     "delete_cmd_prefix": "rm(",
     "library": "var_list.r",
     "varRefreshCmd": "cat(var_dic_list()) "
    }
   },
   "types_to_exclude": [
    "module",
    "function",
    "builtin_function_or_method",
    "instance",
    "_Feature"
   ],
   "window_display": false
  }
 },
 "nbformat": 4,
 "nbformat_minor": 2
}
