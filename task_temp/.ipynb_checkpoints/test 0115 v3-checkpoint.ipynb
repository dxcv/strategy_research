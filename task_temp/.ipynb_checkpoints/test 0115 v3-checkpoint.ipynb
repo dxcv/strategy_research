{
 "cells": [
  {
   "cell_type": "code",
   "execution_count": 1,
   "metadata": {},
   "outputs": [],
   "source": [
    "%load_ext autoreload\n",
    "%autoreload 2\n",
    "\n",
    "import numpy as np\n",
    "import pandas as pd\n",
    "import matplotlib.pyplot as plt\n",
    "import talib as ta\n",
    "import datetime, time\n",
    "import pickle\n",
    "from tqdm import tqdm_notebook\n",
    "\n",
    "import pdblp as pb\n",
    "import blpapi "
   ]
  },
  {
   "cell_type": "code",
   "execution_count": 2,
   "metadata": {},
   "outputs": [],
   "source": [
    "plt.rcParams['figure.figsize'] = [12, 8]\n",
    "plt.rcParams['image.interpolation'] = 'nearest'\n",
    "plt.rcParams['image.cmap'] = 'gray'\n",
    "plt.style.use('ggplot')"
   ]
  },
  {
   "cell_type": "code",
   "execution_count": 3,
   "metadata": {},
   "outputs": [
    {
     "data": {
      "text/plain": [
       "<pdblp.pdblp.BCon at 0x20d959a2828>"
      ]
     },
     "execution_count": 3,
     "metadata": {},
     "output_type": "execute_result"
    }
   ],
   "source": [
    "con = pb.BCon(port=8194, timeout=5000)\n",
    "con.start()"
   ]
  },
  {
   "cell_type": "code",
   "execution_count": 4,
   "metadata": {},
   "outputs": [],
   "source": [
    "df_code = pd.read_excel('data/etf_pair_code.xlsx', dtype={'symbol':str})\n",
    "code_list = df_code.symbol.unique().tolist()\n",
    "ticker_list = (df_code.symbol + ' ' + df_code.region).fillna('ita').unique().tolist()"
   ]
  },
  {
   "cell_type": "markdown",
   "metadata": {},
   "source": [
    "### test 1"
   ]
  },
  {
   "cell_type": "code",
   "execution_count": 5,
   "metadata": {},
   "outputs": [
    {
     "data": {
      "application/vnd.jupyter.widget-view+json": {
       "model_id": "087d03c90a9d43c8acb7d24ba8296232",
       "version_major": 2,
       "version_minor": 0
      },
      "text/plain": [
       "HBox(children=(IntProgress(value=1, bar_style='info', max=1), HTML(value='')))"
      ]
     },
     "metadata": {},
     "output_type": "display_data"
    },
    {
     "name": "stdout",
     "output_type": "stream",
     "text": [
      "retrieve IUGXX US Equity data, have something wrong, index:145\n",
      "retrieve HKD Curncy data, have something wrong, index:210\n",
      "retrieve TRPXX US Equity data, have something wrong, index:275\n",
      "retrieve GVMXX US Equity data, have something wrong, index:413\n",
      "retrieve BRIXX US Equity data, have something wrong, index:511\n",
      "retrieve ita data, have something wrong, index:620\n",
      "retrieve KORS US Equity data, have something wrong, index:718\n",
      "\n",
      "retrieve data cost time: 1024.268109704\n"
     ]
    }
   ],
   "source": [
    "df = pd.DataFrame()\n",
    "err_code = []\n",
    "tic = time.perf_counter()\n",
    "fields = ['HIGH', 'OPEN', 'LOW', 'VOLUME', 'PX_LAST']\n",
    "cols = ['High', 'Open', 'Low', 'Volume', 'Adj Close']\n",
    "start = '20100101'\n",
    "end = '20190115'\n",
    "\n",
    "\n",
    "\n",
    "for num,i in tqdm_notebook(enumerate(ticker_list)):\n",
    "    if (num % 100 == 0) & (num != 0):\n",
    "        time.sleep(5)\n",
    "    try:\n",
    "        temp_df = con.bdh(i, fields, start, end)\n",
    "        temp_df = temp_df.loc[:, i]\n",
    "        temp_df.columns = cols\n",
    "        temp_df = temp_df.assign(code=i.split(' ')[0])\n",
    "\n",
    "        try:\n",
    "            df = pd.concat([df, temp_df], axis=0)\n",
    "        except:\n",
    "            print('concat data has problem, ticker code : %s' % i)\n",
    "\n",
    "    except:\n",
    "        print('retrieve %s data, have something wrong, index:%s' % (i, ticker_list.index(i)))\n",
    "        err_code.append(i)\n",
    "toc = time.perf_counter()\n",
    "\n",
    "print('retrieve data cost time: %s' % (toc-tic))"
   ]
  },
  {
   "cell_type": "code",
   "execution_count": 6,
   "metadata": {},
   "outputs": [
    {
     "data": {
      "text/html": [
       "<div>\n",
       "<style scoped>\n",
       "    .dataframe tbody tr th:only-of-type {\n",
       "        vertical-align: middle;\n",
       "    }\n",
       "\n",
       "    .dataframe tbody tr th {\n",
       "        vertical-align: top;\n",
       "    }\n",
       "\n",
       "    .dataframe thead th {\n",
       "        text-align: right;\n",
       "    }\n",
       "</style>\n",
       "<table border=\"1\" class=\"dataframe\">\n",
       "  <thead>\n",
       "    <tr style=\"text-align: right;\">\n",
       "      <th></th>\n",
       "      <th>High</th>\n",
       "      <th>Open</th>\n",
       "      <th>Low</th>\n",
       "      <th>Volume</th>\n",
       "      <th>Adj Close</th>\n",
       "      <th>code</th>\n",
       "    </tr>\n",
       "    <tr>\n",
       "      <th>date</th>\n",
       "      <th></th>\n",
       "      <th></th>\n",
       "      <th></th>\n",
       "      <th></th>\n",
       "      <th></th>\n",
       "      <th></th>\n",
       "    </tr>\n",
       "  </thead>\n",
       "  <tbody>\n",
       "    <tr>\n",
       "      <th>2010-01-04</th>\n",
       "      <td>24.8407</td>\n",
       "      <td>24.4573</td>\n",
       "      <td>24.4334</td>\n",
       "      <td>38414185.0</td>\n",
       "      <td>24.7209</td>\n",
       "      <td>MSFT</td>\n",
       "    </tr>\n",
       "    <tr>\n",
       "      <th>2010-01-05</th>\n",
       "      <td>24.8407</td>\n",
       "      <td>24.6410</td>\n",
       "      <td>24.4733</td>\n",
       "      <td>49758862.0</td>\n",
       "      <td>24.7289</td>\n",
       "      <td>MSFT</td>\n",
       "    </tr>\n",
       "    <tr>\n",
       "      <th>2010-01-06</th>\n",
       "      <td>24.8247</td>\n",
       "      <td>24.6650</td>\n",
       "      <td>24.3775</td>\n",
       "      <td>58182332.0</td>\n",
       "      <td>24.5771</td>\n",
       "      <td>MSFT</td>\n",
       "    </tr>\n",
       "    <tr>\n",
       "      <th>2010-01-07</th>\n",
       "      <td>24.5212</td>\n",
       "      <td>24.4653</td>\n",
       "      <td>24.1139</td>\n",
       "      <td>50564285.0</td>\n",
       "      <td>24.3231</td>\n",
       "      <td>MSFT</td>\n",
       "    </tr>\n",
       "    <tr>\n",
       "      <th>2010-01-08</th>\n",
       "      <td>24.6650</td>\n",
       "      <td>24.1858</td>\n",
       "      <td>24.1538</td>\n",
       "      <td>51201289.0</td>\n",
       "      <td>24.4893</td>\n",
       "      <td>MSFT</td>\n",
       "    </tr>\n",
       "  </tbody>\n",
       "</table>\n",
       "</div>"
      ],
      "text/plain": [
       "               High     Open      Low      Volume  Adj Close  code\n",
       "date                                                              \n",
       "2010-01-04  24.8407  24.4573  24.4334  38414185.0    24.7209  MSFT\n",
       "2010-01-05  24.8407  24.6410  24.4733  49758862.0    24.7289  MSFT\n",
       "2010-01-06  24.8247  24.6650  24.3775  58182332.0    24.5771  MSFT\n",
       "2010-01-07  24.5212  24.4653  24.1139  50564285.0    24.3231  MSFT\n",
       "2010-01-08  24.6650  24.1858  24.1538  51201289.0    24.4893  MSFT"
      ]
     },
     "execution_count": 6,
     "metadata": {},
     "output_type": "execute_result"
    }
   ],
   "source": [
    "df.head()"
   ]
  },
  {
   "cell_type": "code",
   "execution_count": 7,
   "metadata": {},
   "outputs": [
    {
     "data": {
      "text/html": [
       "<div>\n",
       "<style scoped>\n",
       "    .dataframe tbody tr th:only-of-type {\n",
       "        vertical-align: middle;\n",
       "    }\n",
       "\n",
       "    .dataframe tbody tr th {\n",
       "        vertical-align: top;\n",
       "    }\n",
       "\n",
       "    .dataframe thead th {\n",
       "        text-align: right;\n",
       "    }\n",
       "</style>\n",
       "<table border=\"1\" class=\"dataframe\">\n",
       "  <thead>\n",
       "    <tr style=\"text-align: right;\">\n",
       "      <th></th>\n",
       "      <th>High</th>\n",
       "      <th>Open</th>\n",
       "      <th>Low</th>\n",
       "      <th>Volume</th>\n",
       "      <th>Adj Close</th>\n",
       "      <th>code</th>\n",
       "    </tr>\n",
       "    <tr>\n",
       "      <th>date</th>\n",
       "      <th></th>\n",
       "      <th></th>\n",
       "      <th></th>\n",
       "      <th></th>\n",
       "      <th></th>\n",
       "      <th></th>\n",
       "    </tr>\n",
       "  </thead>\n",
       "  <tbody>\n",
       "    <tr>\n",
       "      <th>2019-01-09</th>\n",
       "      <td>36.1600</td>\n",
       "      <td>35.92</td>\n",
       "      <td>35.24</td>\n",
       "      <td>1582666.0</td>\n",
       "      <td>35.27</td>\n",
       "      <td>SEE</td>\n",
       "    </tr>\n",
       "    <tr>\n",
       "      <th>2019-01-10</th>\n",
       "      <td>36.3200</td>\n",
       "      <td>35.21</td>\n",
       "      <td>35.20</td>\n",
       "      <td>1141760.0</td>\n",
       "      <td>36.09</td>\n",
       "      <td>SEE</td>\n",
       "    </tr>\n",
       "    <tr>\n",
       "      <th>2019-01-11</th>\n",
       "      <td>36.7281</td>\n",
       "      <td>36.01</td>\n",
       "      <td>35.81</td>\n",
       "      <td>1425600.0</td>\n",
       "      <td>36.57</td>\n",
       "      <td>SEE</td>\n",
       "    </tr>\n",
       "    <tr>\n",
       "      <th>2019-01-14</th>\n",
       "      <td>36.6500</td>\n",
       "      <td>36.38</td>\n",
       "      <td>36.09</td>\n",
       "      <td>1130188.0</td>\n",
       "      <td>36.48</td>\n",
       "      <td>SEE</td>\n",
       "    </tr>\n",
       "    <tr>\n",
       "      <th>2019-01-15</th>\n",
       "      <td>36.7000</td>\n",
       "      <td>36.38</td>\n",
       "      <td>36.20</td>\n",
       "      <td>781775.0</td>\n",
       "      <td>36.67</td>\n",
       "      <td>SEE</td>\n",
       "    </tr>\n",
       "  </tbody>\n",
       "</table>\n",
       "</div>"
      ],
      "text/plain": [
       "               High   Open    Low     Volume  Adj Close code\n",
       "date                                                        \n",
       "2019-01-09  36.1600  35.92  35.24  1582666.0      35.27  SEE\n",
       "2019-01-10  36.3200  35.21  35.20  1141760.0      36.09  SEE\n",
       "2019-01-11  36.7281  36.01  35.81  1425600.0      36.57  SEE\n",
       "2019-01-14  36.6500  36.38  36.09  1130188.0      36.48  SEE\n",
       "2019-01-15  36.7000  36.38  36.20   781775.0      36.67  SEE"
      ]
     },
     "execution_count": 7,
     "metadata": {},
     "output_type": "execute_result"
    }
   ],
   "source": [
    "df.tail()"
   ]
  },
  {
   "cell_type": "code",
   "execution_count": 8,
   "metadata": {},
   "outputs": [],
   "source": [
    "df.to_csv('data/data.csv')"
   ]
  },
  {
   "cell_type": "code",
   "execution_count": 9,
   "metadata": {
    "scrolled": true
   },
   "outputs": [
    {
     "name": "stdout",
     "output_type": "stream",
     "text": [
      "The autoreload extension is already loaded. To reload it, use:\n",
      "  %reload_ext autoreload\n"
     ]
    }
   ],
   "source": [
    "%load_ext autoreload\n",
    "%autoreload 2\n",
    "\n",
    "from utils import *"
   ]
  },
  {
   "cell_type": "code",
   "execution_count": 10,
   "metadata": {},
   "outputs": [
    {
     "data": {
      "application/vnd.jupyter.widget-view+json": {
       "model_id": "96217ddbd56c46ca8153e1141ccbde6c",
       "version_major": 2,
       "version_minor": 0
      },
      "text/plain": [
       "HBox(children=(IntProgress(value=0, max=25), HTML(value='')))"
      ]
     },
     "metadata": {},
     "output_type": "display_data"
    },
    {
     "name": "stdout",
     "output_type": "stream",
     "text": [
      "\n",
      "finish, see you          \n"
     ]
    }
   ],
   "source": [
    "result = calc_pair_trading('SMH', \n",
    "                           data_source='ol',\n",
    "                           region='all',\n",
    "                           method='rolling', \n",
    "                           period=245, \n",
    "                           is_saving=True, \n",
    "                           save_name='rsi_sample')"
   ]
  },
  {
   "cell_type": "markdown",
   "metadata": {},
   "source": [
    "如果上述代码没有问题，可以尝试以下代码"
   ]
  },
  {
   "cell_type": "markdown",
   "metadata": {},
   "source": [
    "### test 2"
   ]
  },
  {
   "cell_type": "markdown",
   "metadata": {},
   "source": [
    "暂先剔除HKD Curncy 和 ita"
   ]
  },
  {
   "cell_type": "code",
   "execution_count": 11,
   "metadata": {},
   "outputs": [],
   "source": [
    "ticker_list.remove('HKD Curncy')\n",
    "ticker_list.remove('ita')"
   ]
  },
  {
   "cell_type": "code",
   "execution_count": 12,
   "metadata": {},
   "outputs": [],
   "source": [
    "intervals = np.linspace(0, len(ticker_list), 10, dtype=int)"
   ]
  },
  {
   "cell_type": "code",
   "execution_count": 13,
   "metadata": {},
   "outputs": [
    {
     "data": {
      "application/vnd.jupyter.widget-view+json": {
       "model_id": "b9755ca32d604242bd7d0c0dbbeef2ce",
       "version_major": 2,
       "version_minor": 0
      },
      "text/plain": [
       "HBox(children=(IntProgress(value=0, max=9), HTML(value='')))"
      ]
     },
     "metadata": {},
     "output_type": "display_data"
    },
    {
     "name": "stdout",
     "output_type": "stream",
     "text": [
      "\n",
      "retrieve data cost time: 184.01159243400002\n"
     ]
    }
   ],
   "source": [
    "tic = time.perf_counter()\n",
    "\n",
    "df = pd.DataFrame()\n",
    "\n",
    "for i in tqdm_notebook(range(len(intervals)-1)):\n",
    "    \n",
    "    time.sleep(5)\n",
    "    \n",
    "    temp_list = ticker_list[intervals[i]:intervals[i+1]]\n",
    "    \n",
    "    temp_df = con.bdh(temp_list, fields, start, end)\n",
    "\n",
    "    temp_df = pd.concat([temp_df[x].assign(code=x.split(' ')[0]).groupby(level=0, axis=1).first() for x in temp_df.columns.levels[0]], \n",
    "              axis=0,sort=False).reset_index().set_index(['date', 'code'])\n",
    "    temp_df.columns = cols\n",
    "    \n",
    "    df = pd.concat([df, temp_df], axis=0)\n",
    "\n",
    "toc = time.perf_counter()\n",
    "\n",
    "print('retrieve data cost time: %s' % (toc-tic))"
   ]
  },
  {
   "cell_type": "code",
   "execution_count": 14,
   "metadata": {},
   "outputs": [],
   "source": [
    "# tic = time.perf_counter()\n",
    "\n",
    "# df = con.bdh(ticker_list, fields, start, end)\n",
    "\n",
    "# df = pd.concat([df[x].assign(code=x.split(' ')[0]).groupby(level=0, axis=1).first() for x in df.columns.levels[0]], \n",
    "#           axis=0,sort=False).reset_index().set_index(['date', 'code'])\n",
    "# df.columns = cols\n",
    "\n",
    "# toc = time.perf_counter()\n",
    "\n",
    "# print('retrieve data cost time: %s' % (toc-tic))"
   ]
  },
  {
   "cell_type": "code",
   "execution_count": 15,
   "metadata": {},
   "outputs": [],
   "source": [
    "df.to_csv('data/data.csv')"
   ]
  },
  {
   "cell_type": "code",
   "execution_count": 16,
   "metadata": {},
   "outputs": [
    {
     "data": {
      "application/vnd.jupyter.widget-view+json": {
       "model_id": "403a15ade6a94d29b837a62681e0ee21",
       "version_major": 2,
       "version_minor": 0
      },
      "text/plain": [
       "HBox(children=(IntProgress(value=0, max=25), HTML(value='')))"
      ]
     },
     "metadata": {},
     "output_type": "display_data"
    },
    {
     "name": "stdout",
     "output_type": "stream",
     "text": [
      "\n",
      "finish, see you          \n"
     ]
    }
   ],
   "source": [
    "result = calc_pair_trading('SMH', \n",
    "                           data_source='ol',\n",
    "                           region='all',\n",
    "                           method='rolling', \n",
    "                           period=245, \n",
    "                           is_saving=True, \n",
    "                           save_name='rsi_sample')"
   ]
  },
  {
   "cell_type": "code",
   "execution_count": null,
   "metadata": {},
   "outputs": [],
   "source": []
  },
  {
   "cell_type": "code",
   "execution_count": null,
   "metadata": {},
   "outputs": [],
   "source": []
  }
 ],
 "metadata": {
  "kernelspec": {
   "display_name": "Python (quant)",
   "language": "python",
   "name": "quant"
  },
  "language_info": {
   "codemirror_mode": {
    "name": "ipython",
    "version": 3
   },
   "file_extension": ".py",
   "mimetype": "text/x-python",
   "name": "python",
   "nbconvert_exporter": "python",
   "pygments_lexer": "ipython3",
   "version": "3.6.6"
  },
  "toc": {
   "base_numbering": 1,
   "nav_menu": {},
   "number_sections": true,
   "sideBar": true,
   "skip_h1_title": false,
   "title_cell": "Table of Contents",
   "title_sidebar": "Contents",
   "toc_cell": false,
   "toc_position": {},
   "toc_section_display": true,
   "toc_window_display": false
  },
  "varInspector": {
   "cols": {
    "lenName": 16,
    "lenType": 16,
    "lenVar": 40
   },
   "kernels_config": {
    "python": {
     "delete_cmd_postfix": "",
     "delete_cmd_prefix": "del ",
     "library": "var_list.py",
     "varRefreshCmd": "print(var_dic_list())"
    },
    "r": {
     "delete_cmd_postfix": ") ",
     "delete_cmd_prefix": "rm(",
     "library": "var_list.r",
     "varRefreshCmd": "cat(var_dic_list()) "
    }
   },
   "position": {
    "height": "471.5px",
    "left": "1157px",
    "right": "20px",
    "top": "120px",
    "width": "350px"
   },
   "types_to_exclude": [
    "module",
    "function",
    "builtin_function_or_method",
    "instance",
    "_Feature"
   ],
   "window_display": false
  }
 },
 "nbformat": 4,
 "nbformat_minor": 2
}
