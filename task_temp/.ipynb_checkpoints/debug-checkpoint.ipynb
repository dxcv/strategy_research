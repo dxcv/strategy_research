{
 "cells": [
  {
   "cell_type": "code",
   "execution_count": 1,
   "metadata": {},
   "outputs": [],
   "source": [
    "%load_ext autoreload\n",
    "%autoreload 2\n",
    "import numpy as np\n",
    "import pandas as pd\n",
    "import matplotlib.pyplot as plt\n",
    "import seaborn as sns\n",
    "# import statsmodels.api as sm\n",
    "# import tushare as ts\n",
    "import QUANTAXIS as QA\n",
    "import talib as ta\n",
    "import datetime\n",
    "from utils import *"
   ]
  },
  {
   "cell_type": "code",
   "execution_count": 2,
   "metadata": {},
   "outputs": [],
   "source": [
    "plt.rcParams['figure.figsize'] = [12, 8]\n",
    "plt.rcParams['image.interpolation'] = 'nearest'\n",
    "plt.rcParams['image.cmap'] = 'gray'\n",
    "plt.style.use('ggplot')"
   ]
  },
  {
   "cell_type": "code",
   "execution_count": null,
   "metadata": {},
   "outputs": [],
   "source": [
    "np.nanmean()"
   ]
  },
  {
   "cell_type": "code",
   "execution_count": null,
   "metadata": {},
   "outputs": [],
   "source": []
  },
  {
   "cell_type": "code",
   "execution_count": null,
   "metadata": {},
   "outputs": [],
   "source": [
    "def position_side(ratio, avg_method='all', period=14):\n",
    "    \"\"\"\n",
    "    Implements:\n",
    "        按照不同的平均方法, 计算出要做多和做空的标的;\n",
    "    \n",
    "    Arguments:\n",
    "        ratio -- Series数据类型, 两个标的Adj Close之比算出的值;\n",
    "        avg_method -- 字符串数据类型, 表示采取何种求平均值的方法\n",
    "                    -- all, 表示用当前bar之前所有的ratio值求平均\n",
    "                    -- rolling, 表示用最近一段时间的ratio值做算术移动平均值\n",
    "                    -- ewm, 表示用最近一段时间的ratio值做指数移动平均值\n",
    "        period -- integer, 当avg_method为rolling或者ewm时, 需要计算最近多少根bar的平均值\n",
    "    \n",
    "    Returns:\n",
    "        position_side_series -- Series数据类型, 用于指示做多还是做空\n",
    "    \"\"\"\n",
    "    if avg_method == 'all':\n",
    "        position_side_list = []\n",
    "        for i in range(ratio.shape[0]):\n",
    "            if i > 1:\n",
    "                temp_mean = np.nanmean(ratio[:i-1])\n",
    "                if ratio[i] > temp_mean:\n",
    "                    position_side_list.append(1)\n",
    "                elif ratio[i] < temp_mean:\n",
    "                    position_side_list.append(-1)\n",
    "                else:\n",
    "                    position_side_list.append(np.nan)\n",
    "            elif i == 1:\n",
    "                if ratio[1] > ratio[0]:\n",
    "                    position_side_list.append(1)\n",
    "                elif ratio[1] < ratio[0]:\n",
    "                    position_side_list.append(-1)\n",
    "                else:\n",
    "                    position_side_list.append(np.nan)\n",
    "            elif i == 0:\n",
    "                position_side_list.append(np.nan)\n",
    "        position_side_series = pd.Series(position_side_list, ratio.index)\n",
    "    elif avg_method == 'rolling':\n",
    "        position_side_series = pd.Series(np.where(ratio>ratio.rolling(period).apply(lambda x : np.nanmean(x)), 1, -1).tolist(), ratio.index)\n",
    "    elif avg_method == 'ewm':\n",
    "        position_side_series = pd.Series(np.where(ratio>ratio.ewm(span=period).apply(lambda x : np.nanmean(x)), 1, -1).tolist(), ratio.index)\n",
    "    return position_side_series"
   ]
  },
  {
   "cell_type": "code",
   "execution_count": null,
   "metadata": {},
   "outputs": [],
   "source": []
  },
  {
   "cell_type": "code",
   "execution_count": 5,
   "metadata": {
    "scrolled": true
   },
   "outputs": [
    {
     "data": {
      "text/plain": [
       "array(['XLK', 'PNQI', 'CQQQ', 'GAMR', 'PSJ', 'SKYY', 'HACK', 'SOXX', 'SMH',\n",
       "       'XLV', 'IBB', 'ITA', 'XLP', 'XLY', 'IAI', 'VDE', 'XLB'],\n",
       "      dtype='<U4')"
      ]
     },
     "execution_count": 5,
     "metadata": {},
     "output_type": "execute_result"
    }
   ],
   "source": [
    "np.array(etf_list)"
   ]
  },
  {
   "cell_type": "code",
   "execution_count": 20,
   "metadata": {},
   "outputs": [],
   "source": [
    "from utils import *"
   ]
  },
  {
   "cell_type": "code",
   "execution_count": 21,
   "metadata": {
    "collapsed": true
   },
   "outputs": [
    {
     "data": {
      "application/vnd.jupyter.widget-view+json": {
       "model_id": "f067cd547eda4e32a141e21629ae7fda",
       "version_major": 2,
       "version_minor": 0
      },
      "text/plain": [
       "HBox(children=(IntProgress(value=0, max=25), HTML(value='')))"
      ]
     },
     "metadata": {},
     "output_type": "display_data"
    },
    {
     "name": "stdout",
     "output_type": "stream",
     "text": [
      "\n"
     ]
    }
   ],
   "source": [
    "result =  calc_pair_trading('CQQQ', data_source='us', method='rolling', period=170)"
   ]
  },
  {
   "cell_type": "code",
   "execution_count": 22,
   "metadata": {},
   "outputs": [
    {
     "data": {
      "text/plain": [
       "-0.24343934377263493"
      ]
     },
     "execution_count": 22,
     "metadata": {},
     "output_type": "execute_result"
    }
   ],
   "source": [
    "result['long_short_return'].sum().sum()"
   ]
  },
  {
   "cell_type": "code",
   "execution_count": 19,
   "metadata": {},
   "outputs": [],
   "source": [
    "calc_pair_trading??"
   ]
  },
  {
   "cell_type": "code",
   "execution_count": 10,
   "metadata": {
    "collapsed": true
   },
   "outputs": [
    {
     "data": {
      "text/plain": [
       "Index(['MSFT', 'AAPL', 'V', 'INTC', 'CSCO', 'MA', 'ORCL', 'AVGO', 'ADBE',\n",
       "       'IBM',\n",
       "       ...\n",
       "       'MLM', 'MOS', 'FMC', 'WRK', 'EMN', 'CF', 'ALB', 'PKG', 'AVY', 'SEE'],\n",
       "      dtype='object', name='code', length=810)"
      ]
     },
     "execution_count": 10,
     "metadata": {},
     "output_type": "execute_result"
    }
   ],
   "source": [
    "us_data.index.get_level_values(1).unique()"
   ]
  },
  {
   "cell_type": "code",
   "execution_count": 23,
   "metadata": {},
   "outputs": [
    {
     "data": {
      "application/vnd.jupyter.widget-view+json": {
       "model_id": "ecd161ffb9a949e18e0c07673fc9a289",
       "version_major": 2,
       "version_minor": 0
      },
      "text/plain": [
       "HBox(children=(IntProgress(value=0, max=25), HTML(value='')))"
      ]
     },
     "metadata": {},
     "output_type": "display_data"
    },
    {
     "name": "stdout",
     "output_type": "stream",
     "text": [
      "\n"
     ]
    }
   ],
   "source": [
    "result_smh =  calc_pair_trading('SMH', method='rolling', period=170)"
   ]
  },
  {
   "cell_type": "code",
   "execution_count": 24,
   "metadata": {},
   "outputs": [
    {
     "data": {
      "text/plain": [
       "0.033217590457789506"
      ]
     },
     "execution_count": 24,
     "metadata": {},
     "output_type": "execute_result"
    }
   ],
   "source": [
    "result_smh['long_short_return'].sum().sum()"
   ]
  },
  {
   "cell_type": "markdown",
   "metadata": {},
   "source": [
    "把PJT的数据导出来, 整体数据;\n",
    "和人家做ratio的数据, 应该能看出端倪"
   ]
  },
  {
   "cell_type": "code",
   "execution_count": 4,
   "metadata": {},
   "outputs": [],
   "source": [
    "data_pjt = select_code(us_data, 'PJT')"
   ]
  },
  {
   "cell_type": "code",
   "execution_count": 13,
   "metadata": {},
   "outputs": [
    {
     "data": {
      "text/html": [
       "<div>\n",
       "<style scoped>\n",
       "    .dataframe tbody tr th:only-of-type {\n",
       "        vertical-align: middle;\n",
       "    }\n",
       "\n",
       "    .dataframe tbody tr th {\n",
       "        vertical-align: top;\n",
       "    }\n",
       "\n",
       "    .dataframe thead th {\n",
       "        text-align: right;\n",
       "    }\n",
       "</style>\n",
       "<table border=\"1\" class=\"dataframe\">\n",
       "  <thead>\n",
       "    <tr style=\"text-align: right;\">\n",
       "      <th></th>\n",
       "      <th>high</th>\n",
       "      <th>low</th>\n",
       "      <th>open</th>\n",
       "      <th>close</th>\n",
       "      <th>volume</th>\n",
       "      <th>Adj Close</th>\n",
       "    </tr>\n",
       "    <tr>\n",
       "      <th>date</th>\n",
       "      <th></th>\n",
       "      <th></th>\n",
       "      <th></th>\n",
       "      <th></th>\n",
       "      <th></th>\n",
       "      <th></th>\n",
       "    </tr>\n",
       "  </thead>\n",
       "  <tbody>\n",
       "    <tr>\n",
       "      <th>2018-12-17</th>\n",
       "      <td>40.150002</td>\n",
       "      <td>38.340000</td>\n",
       "      <td>39.990002</td>\n",
       "      <td>38.700001</td>\n",
       "      <td>195400.0</td>\n",
       "      <td>38.700001</td>\n",
       "    </tr>\n",
       "    <tr>\n",
       "      <th>2018-12-18</th>\n",
       "      <td>39.279999</td>\n",
       "      <td>38.430000</td>\n",
       "      <td>38.980000</td>\n",
       "      <td>39.230000</td>\n",
       "      <td>154900.0</td>\n",
       "      <td>39.230000</td>\n",
       "    </tr>\n",
       "    <tr>\n",
       "      <th>2018-12-19</th>\n",
       "      <td>39.810001</td>\n",
       "      <td>38.040001</td>\n",
       "      <td>39.000000</td>\n",
       "      <td>38.529999</td>\n",
       "      <td>147800.0</td>\n",
       "      <td>38.529999</td>\n",
       "    </tr>\n",
       "    <tr>\n",
       "      <th>2018-12-20</th>\n",
       "      <td>38.509998</td>\n",
       "      <td>37.009998</td>\n",
       "      <td>38.240002</td>\n",
       "      <td>37.380001</td>\n",
       "      <td>187700.0</td>\n",
       "      <td>37.380001</td>\n",
       "    </tr>\n",
       "    <tr>\n",
       "      <th>2018-12-21</th>\n",
       "      <td>37.803001</td>\n",
       "      <td>35.919998</td>\n",
       "      <td>37.389999</td>\n",
       "      <td>36.139999</td>\n",
       "      <td>272200.0</td>\n",
       "      <td>36.139999</td>\n",
       "    </tr>\n",
       "  </tbody>\n",
       "</table>\n",
       "</div>"
      ],
      "text/plain": [
       "                 high        low       open      close    volume  Adj Close\n",
       "date                                                                       \n",
       "2018-12-17  40.150002  38.340000  39.990002  38.700001  195400.0  38.700001\n",
       "2018-12-18  39.279999  38.430000  38.980000  39.230000  154900.0  39.230000\n",
       "2018-12-19  39.810001  38.040001  39.000000  38.529999  147800.0  38.529999\n",
       "2018-12-20  38.509998  37.009998  38.240002  37.380001  187700.0  37.380001\n",
       "2018-12-21  37.803001  35.919998  37.389999  36.139999  272200.0  36.139999"
      ]
     },
     "execution_count": 13,
     "metadata": {},
     "output_type": "execute_result"
    }
   ],
   "source": [
    "data_pjt.tail()"
   ]
  },
  {
   "cell_type": "code",
   "execution_count": 6,
   "metadata": {
    "collapsed": true
   },
   "outputs": [
    {
     "data": {
      "text/html": [
       "<div>\n",
       "<style scoped>\n",
       "    .dataframe tbody tr th:only-of-type {\n",
       "        vertical-align: middle;\n",
       "    }\n",
       "\n",
       "    .dataframe tbody tr th {\n",
       "        vertical-align: top;\n",
       "    }\n",
       "\n",
       "    .dataframe thead th {\n",
       "        text-align: right;\n",
       "    }\n",
       "</style>\n",
       "<table border=\"1\" class=\"dataframe\">\n",
       "  <thead>\n",
       "    <tr style=\"text-align: right;\">\n",
       "      <th></th>\n",
       "      <th>symbol</th>\n",
       "      <th>region</th>\n",
       "      <th>etf_symbol</th>\n",
       "      <th>sector</th>\n",
       "    </tr>\n",
       "  </thead>\n",
       "  <tbody>\n",
       "    <tr>\n",
       "      <th>869</th>\n",
       "      <td>CME</td>\n",
       "      <td>US Equity</td>\n",
       "      <td>IAI</td>\n",
       "      <td>Financials</td>\n",
       "    </tr>\n",
       "    <tr>\n",
       "      <th>870</th>\n",
       "      <td>ICE</td>\n",
       "      <td>US Equity</td>\n",
       "      <td>IAI</td>\n",
       "      <td>Financials</td>\n",
       "    </tr>\n",
       "    <tr>\n",
       "      <th>871</th>\n",
       "      <td>GS</td>\n",
       "      <td>US Equity</td>\n",
       "      <td>IAI</td>\n",
       "      <td>Financials</td>\n",
       "    </tr>\n",
       "    <tr>\n",
       "      <th>872</th>\n",
       "      <td>MS</td>\n",
       "      <td>US Equity</td>\n",
       "      <td>IAI</td>\n",
       "      <td>Financials</td>\n",
       "    </tr>\n",
       "    <tr>\n",
       "      <th>873</th>\n",
       "      <td>SCHW</td>\n",
       "      <td>US Equity</td>\n",
       "      <td>IAI</td>\n",
       "      <td>Financials</td>\n",
       "    </tr>\n",
       "    <tr>\n",
       "      <th>874</th>\n",
       "      <td>AMTD</td>\n",
       "      <td>US Equity</td>\n",
       "      <td>IAI</td>\n",
       "      <td>Financials</td>\n",
       "    </tr>\n",
       "    <tr>\n",
       "      <th>875</th>\n",
       "      <td>MKTX</td>\n",
       "      <td>US Equity</td>\n",
       "      <td>IAI</td>\n",
       "      <td>Financials</td>\n",
       "    </tr>\n",
       "    <tr>\n",
       "      <th>876</th>\n",
       "      <td>CBOE</td>\n",
       "      <td>US Equity</td>\n",
       "      <td>IAI</td>\n",
       "      <td>Financials</td>\n",
       "    </tr>\n",
       "    <tr>\n",
       "      <th>877</th>\n",
       "      <td>NDAQ</td>\n",
       "      <td>US Equity</td>\n",
       "      <td>IAI</td>\n",
       "      <td>Financials</td>\n",
       "    </tr>\n",
       "    <tr>\n",
       "      <th>878</th>\n",
       "      <td>ETFC</td>\n",
       "      <td>US Equity</td>\n",
       "      <td>IAI</td>\n",
       "      <td>Financials</td>\n",
       "    </tr>\n",
       "    <tr>\n",
       "      <th>879</th>\n",
       "      <td>RJF</td>\n",
       "      <td>US Equity</td>\n",
       "      <td>IAI</td>\n",
       "      <td>Financials</td>\n",
       "    </tr>\n",
       "    <tr>\n",
       "      <th>880</th>\n",
       "      <td>LPLA</td>\n",
       "      <td>US Equity</td>\n",
       "      <td>IAI</td>\n",
       "      <td>Financials</td>\n",
       "    </tr>\n",
       "    <tr>\n",
       "      <th>881</th>\n",
       "      <td>IBKR</td>\n",
       "      <td>US Equity</td>\n",
       "      <td>IAI</td>\n",
       "      <td>Financials</td>\n",
       "    </tr>\n",
       "    <tr>\n",
       "      <th>882</th>\n",
       "      <td>LAZ</td>\n",
       "      <td>US Equity</td>\n",
       "      <td>IAI</td>\n",
       "      <td>Financials</td>\n",
       "    </tr>\n",
       "    <tr>\n",
       "      <th>883</th>\n",
       "      <td>SF</td>\n",
       "      <td>US Equity</td>\n",
       "      <td>IAI</td>\n",
       "      <td>Financials</td>\n",
       "    </tr>\n",
       "    <tr>\n",
       "      <th>884</th>\n",
       "      <td>VIRT</td>\n",
       "      <td>US Equity</td>\n",
       "      <td>IAI</td>\n",
       "      <td>Financials</td>\n",
       "    </tr>\n",
       "    <tr>\n",
       "      <th>885</th>\n",
       "      <td>EVR</td>\n",
       "      <td>US Equity</td>\n",
       "      <td>IAI</td>\n",
       "      <td>Financials</td>\n",
       "    </tr>\n",
       "    <tr>\n",
       "      <th>886</th>\n",
       "      <td>ITG</td>\n",
       "      <td>US Equity</td>\n",
       "      <td>IAI</td>\n",
       "      <td>Financials</td>\n",
       "    </tr>\n",
       "    <tr>\n",
       "      <th>887</th>\n",
       "      <td>HLI</td>\n",
       "      <td>US Equity</td>\n",
       "      <td>IAI</td>\n",
       "      <td>Financials</td>\n",
       "    </tr>\n",
       "    <tr>\n",
       "      <th>888</th>\n",
       "      <td>MC</td>\n",
       "      <td>US Equity</td>\n",
       "      <td>IAI</td>\n",
       "      <td>Financials</td>\n",
       "    </tr>\n",
       "    <tr>\n",
       "      <th>889</th>\n",
       "      <td>PJC</td>\n",
       "      <td>US Equity</td>\n",
       "      <td>IAI</td>\n",
       "      <td>Financials</td>\n",
       "    </tr>\n",
       "    <tr>\n",
       "      <th>890</th>\n",
       "      <td>BGCP</td>\n",
       "      <td>US Equity</td>\n",
       "      <td>IAI</td>\n",
       "      <td>Financials</td>\n",
       "    </tr>\n",
       "    <tr>\n",
       "      <th>891</th>\n",
       "      <td>PJT</td>\n",
       "      <td>US Equity</td>\n",
       "      <td>IAI</td>\n",
       "      <td>Financials</td>\n",
       "    </tr>\n",
       "    <tr>\n",
       "      <th>892</th>\n",
       "      <td>DHIL</td>\n",
       "      <td>US Equity</td>\n",
       "      <td>IAI</td>\n",
       "      <td>Financials</td>\n",
       "    </tr>\n",
       "    <tr>\n",
       "      <th>893</th>\n",
       "      <td>INTL</td>\n",
       "      <td>US Equity</td>\n",
       "      <td>IAI</td>\n",
       "      <td>Financials</td>\n",
       "    </tr>\n",
       "    <tr>\n",
       "      <th>894</th>\n",
       "      <td>COWN</td>\n",
       "      <td>US Equity</td>\n",
       "      <td>IAI</td>\n",
       "      <td>Financials</td>\n",
       "    </tr>\n",
       "    <tr>\n",
       "      <th>895</th>\n",
       "      <td>GHL</td>\n",
       "      <td>US Equity</td>\n",
       "      <td>IAI</td>\n",
       "      <td>Financials</td>\n",
       "    </tr>\n",
       "  </tbody>\n",
       "</table>\n",
       "</div>"
      ],
      "text/plain": [
       "    symbol     region etf_symbol      sector\n",
       "869    CME  US Equity        IAI  Financials\n",
       "870    ICE  US Equity        IAI  Financials\n",
       "871     GS  US Equity        IAI  Financials\n",
       "872     MS  US Equity        IAI  Financials\n",
       "873   SCHW  US Equity        IAI  Financials\n",
       "874   AMTD  US Equity        IAI  Financials\n",
       "875   MKTX  US Equity        IAI  Financials\n",
       "876   CBOE  US Equity        IAI  Financials\n",
       "877   NDAQ  US Equity        IAI  Financials\n",
       "878   ETFC  US Equity        IAI  Financials\n",
       "879    RJF  US Equity        IAI  Financials\n",
       "880   LPLA  US Equity        IAI  Financials\n",
       "881   IBKR  US Equity        IAI  Financials\n",
       "882    LAZ  US Equity        IAI  Financials\n",
       "883     SF  US Equity        IAI  Financials\n",
       "884   VIRT  US Equity        IAI  Financials\n",
       "885    EVR  US Equity        IAI  Financials\n",
       "886    ITG  US Equity        IAI  Financials\n",
       "887    HLI  US Equity        IAI  Financials\n",
       "888     MC  US Equity        IAI  Financials\n",
       "889    PJC  US Equity        IAI  Financials\n",
       "890   BGCP  US Equity        IAI  Financials\n",
       "891    PJT  US Equity        IAI  Financials\n",
       "892   DHIL  US Equity        IAI  Financials\n",
       "893   INTL  US Equity        IAI  Financials\n",
       "894   COWN  US Equity        IAI  Financials\n",
       "895    GHL  US Equity        IAI  Financials"
      ]
     },
     "execution_count": 6,
     "metadata": {},
     "output_type": "execute_result"
    }
   ],
   "source": [
    "get_code_list_by_etf(code_list_by_sector, 'IAI')"
   ]
  },
  {
   "cell_type": "code",
   "execution_count": 7,
   "metadata": {},
   "outputs": [],
   "source": [
    "result = single_pair_trading(us_data, 'PJT', 'CME')"
   ]
  },
  {
   "cell_type": "code",
   "execution_count": 9,
   "metadata": {
    "scrolled": true
   },
   "outputs": [
    {
     "data": {
      "text/plain": [
       "date\n",
       "2009-12-31         NaN\n",
       "2010-01-04         NaN\n",
       "2010-01-05         NaN\n",
       "2010-01-06         NaN\n",
       "2010-01-07    0.003860\n",
       "2010-01-08         NaN\n",
       "2010-01-11         NaN\n",
       "2010-01-12         NaN\n",
       "2010-01-13         NaN\n",
       "2010-01-14         NaN\n",
       "2010-01-15         NaN\n",
       "2010-01-19    0.004142\n",
       "2010-01-20         NaN\n",
       "2010-01-21         NaN\n",
       "2010-01-22         NaN\n",
       "2010-01-25         NaN\n",
       "2010-01-26         NaN\n",
       "2010-01-27         NaN\n",
       "2010-01-28         NaN\n",
       "2010-01-29         NaN\n",
       "2010-02-01         NaN\n",
       "2010-02-02         NaN\n",
       "2010-02-03         NaN\n",
       "2010-02-04         NaN\n",
       "2010-02-05    0.004365\n",
       "2010-02-08         NaN\n",
       "2010-02-09         NaN\n",
       "2010-02-10         NaN\n",
       "2010-02-11    0.006142\n",
       "2010-02-12    0.006016\n",
       "                ...   \n",
       "2018-11-08    0.258248\n",
       "2018-11-09    0.248050\n",
       "2018-11-12    0.246888\n",
       "2018-11-13    0.246049\n",
       "2018-11-14    0.242055\n",
       "2018-11-15    0.243181\n",
       "2018-11-16    0.238248\n",
       "2018-11-19    0.235942\n",
       "2018-11-20    0.245552\n",
       "2018-11-21    0.249386\n",
       "2018-11-23    0.249249\n",
       "2018-11-26    0.251660\n",
       "2018-11-27    0.242106\n",
       "2018-11-28    0.257216\n",
       "2018-11-29    0.251953\n",
       "2018-11-30    0.249136\n",
       "2018-12-03    0.253557\n",
       "2018-12-04    0.235410\n",
       "2018-12-06    0.234707\n",
       "2018-12-07    0.233071\n",
       "2018-12-10    0.229630\n",
       "2018-12-11    0.228167\n",
       "2018-12-12    0.232381\n",
       "2018-12-13    0.226615\n",
       "2018-12-14    0.214933\n",
       "2018-12-17    0.208524\n",
       "2018-12-18    0.214618\n",
       "2018-12-19    0.207675\n",
       "2018-12-20    0.202163\n",
       "2018-12-21    0.197865\n",
       "Name: Adj Close, Length: 2260, dtype: float64"
      ]
     },
     "execution_count": 9,
     "metadata": {},
     "output_type": "execute_result"
    }
   ],
   "source": [
    "result['ratio']"
   ]
  },
  {
   "cell_type": "code",
   "execution_count": 10,
   "metadata": {},
   "outputs": [
    {
     "data": {
      "text/plain": [
       "19.258958406547105"
      ]
     },
     "execution_count": 10,
     "metadata": {},
     "output_type": "execute_result"
    }
   ],
   "source": [
    "result['long_return']"
   ]
  },
  {
   "cell_type": "code",
   "execution_count": 12,
   "metadata": {},
   "outputs": [
    {
     "data": {
      "text/plain": [
       "-1074.8141130245988"
      ]
     },
     "execution_count": 12,
     "metadata": {},
     "output_type": "execute_result"
    }
   ],
   "source": [
    "result['long_short_return']"
   ]
  },
  {
   "cell_type": "code",
   "execution_count": 11,
   "metadata": {
    "collapsed": true
   },
   "outputs": [
    {
     "data": {
      "text/plain": [
       "date\n",
       "2009-12-31    NaN\n",
       "2010-01-04    NaN\n",
       "2010-01-05    NaN\n",
       "2010-01-06    NaN\n",
       "2010-01-07    NaN\n",
       "2010-01-08    NaN\n",
       "2010-01-11    NaN\n",
       "2010-01-12    NaN\n",
       "2010-01-13    NaN\n",
       "2010-01-14    NaN\n",
       "2010-01-15    NaN\n",
       "2010-01-19    NaN\n",
       "2010-01-20    PJT\n",
       "2010-01-21    NaN\n",
       "2010-01-22    NaN\n",
       "2010-01-25    NaN\n",
       "2010-01-26    NaN\n",
       "2010-01-27    NaN\n",
       "2010-01-28    NaN\n",
       "2010-01-29    NaN\n",
       "2010-02-01    NaN\n",
       "2010-02-02    NaN\n",
       "2010-02-03    NaN\n",
       "2010-02-04    NaN\n",
       "2010-02-05    NaN\n",
       "2010-02-08    PJT\n",
       "2010-02-09    NaN\n",
       "2010-02-10    NaN\n",
       "2010-02-11    NaN\n",
       "2010-02-12    PJT\n",
       "             ... \n",
       "2018-11-08    CME\n",
       "2018-11-09    CME\n",
       "2018-11-12    CME\n",
       "2018-11-13    CME\n",
       "2018-11-14    CME\n",
       "2018-11-15    CME\n",
       "2018-11-16    CME\n",
       "2018-11-19    CME\n",
       "2018-11-20    CME\n",
       "2018-11-21    CME\n",
       "2018-11-23    CME\n",
       "2018-11-26    CME\n",
       "2018-11-27    CME\n",
       "2018-11-28    CME\n",
       "2018-11-29    CME\n",
       "2018-11-30    CME\n",
       "2018-12-03    CME\n",
       "2018-12-04    CME\n",
       "2018-12-06    CME\n",
       "2018-12-07    CME\n",
       "2018-12-10    CME\n",
       "2018-12-11    CME\n",
       "2018-12-12    CME\n",
       "2018-12-13    CME\n",
       "2018-12-14    CME\n",
       "2018-12-17    CME\n",
       "2018-12-18    CME\n",
       "2018-12-19    CME\n",
       "2018-12-20    CME\n",
       "2018-12-21    CME\n",
       "Length: 2260, dtype: object"
      ]
     },
     "execution_count": 11,
     "metadata": {},
     "output_type": "execute_result"
    }
   ],
   "source": [
    "result['long_asset']"
   ]
  },
  {
   "cell_type": "code",
   "execution_count": null,
   "metadata": {},
   "outputs": [],
   "source": []
  },
  {
   "cell_type": "code",
   "execution_count": null,
   "metadata": {},
   "outputs": [],
   "source": []
  },
  {
   "cell_type": "code",
   "execution_count": null,
   "metadata": {},
   "outputs": [],
   "source": []
  }
 ],
 "metadata": {
  "kernelspec": {
   "display_name": "Python (quant)",
   "language": "python",
   "name": "quant"
  },
  "language_info": {
   "codemirror_mode": {
    "name": "ipython",
    "version": 3
   },
   "file_extension": ".py",
   "mimetype": "text/x-python",
   "name": "python",
   "nbconvert_exporter": "python",
   "pygments_lexer": "ipython3",
   "version": "3.6.6"
  },
  "toc": {
   "base_numbering": 1,
   "nav_menu": {},
   "number_sections": true,
   "sideBar": true,
   "skip_h1_title": false,
   "title_cell": "Table of Contents",
   "title_sidebar": "Contents",
   "toc_cell": false,
   "toc_position": {},
   "toc_section_display": true,
   "toc_window_display": false
  },
  "varInspector": {
   "cols": {
    "lenName": 16,
    "lenType": 16,
    "lenVar": 40
   },
   "kernels_config": {
    "python": {
     "delete_cmd_postfix": "",
     "delete_cmd_prefix": "del ",
     "library": "var_list.py",
     "varRefreshCmd": "print(var_dic_list())"
    },
    "r": {
     "delete_cmd_postfix": ") ",
     "delete_cmd_prefix": "rm(",
     "library": "var_list.r",
     "varRefreshCmd": "cat(var_dic_list()) "
    }
   },
   "types_to_exclude": [
    "module",
    "function",
    "builtin_function_or_method",
    "instance",
    "_Feature"
   ],
   "window_display": false
  }
 },
 "nbformat": 4,
 "nbformat_minor": 2
}
