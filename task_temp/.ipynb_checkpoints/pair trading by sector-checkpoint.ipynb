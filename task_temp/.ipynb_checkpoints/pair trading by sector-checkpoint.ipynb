{
 "cells": [
  {
   "cell_type": "code",
   "execution_count": 16,
   "metadata": {},
   "outputs": [],
   "source": [
    "import numpy as np\n",
    "import pandas as pd\n",
    "import matplotlib.pyplot as plt\n",
    "import seaborn as sns\n",
    "# import statsmodels.api as sm\n",
    "# import tushare as ts\n",
    "import QUANTAXIS as QA\n",
    "import talib as ta\n",
    "import datetime\n",
    "import pandas_datareader.data as web\n",
    "from tqdm import tqdm_notebook"
   ]
  },
  {
   "cell_type": "code",
   "execution_count": 2,
   "metadata": {},
   "outputs": [],
   "source": [
    "plt.rcParams['figure.figsize'] = [12, 8]\n",
    "plt.rcParams['image.interpolation'] = 'nearest'\n",
    "plt.rcParams['image.cmap'] = 'gray'\n",
    "plt.style.use('ggplot')"
   ]
  },
  {
   "cell_type": "code",
   "execution_count": 5,
   "metadata": {},
   "outputs": [
    {
     "data": {
      "text/html": [
       "<div>\n",
       "<style scoped>\n",
       "    .dataframe tbody tr th:only-of-type {\n",
       "        vertical-align: middle;\n",
       "    }\n",
       "\n",
       "    .dataframe tbody tr th {\n",
       "        vertical-align: top;\n",
       "    }\n",
       "\n",
       "    .dataframe thead th {\n",
       "        text-align: right;\n",
       "    }\n",
       "</style>\n",
       "<table border=\"1\" class=\"dataframe\">\n",
       "  <thead>\n",
       "    <tr style=\"text-align: right;\">\n",
       "      <th></th>\n",
       "      <th></th>\n",
       "      <th>high</th>\n",
       "      <th>low</th>\n",
       "      <th>open</th>\n",
       "      <th>close</th>\n",
       "      <th>volume</th>\n",
       "      <th>Adj Close</th>\n",
       "    </tr>\n",
       "    <tr>\n",
       "      <th>date</th>\n",
       "      <th>code</th>\n",
       "      <th></th>\n",
       "      <th></th>\n",
       "      <th></th>\n",
       "      <th></th>\n",
       "      <th></th>\n",
       "      <th></th>\n",
       "    </tr>\n",
       "  </thead>\n",
       "  <tbody>\n",
       "    <tr>\n",
       "      <th rowspan=\"5\" valign=\"top\">2009-12-31</th>\n",
       "      <th>A</th>\n",
       "      <td>22.725323</td>\n",
       "      <td>22.124464</td>\n",
       "      <td>22.203148</td>\n",
       "      <td>22.224607</td>\n",
       "      <td>5224600.0</td>\n",
       "      <td>20.562288</td>\n",
       "    </tr>\n",
       "    <tr>\n",
       "      <th>AABA</th>\n",
       "      <td>16.959999</td>\n",
       "      <td>16.770000</td>\n",
       "      <td>16.920000</td>\n",
       "      <td>16.780001</td>\n",
       "      <td>9515600.0</td>\n",
       "      <td>16.780001</td>\n",
       "    </tr>\n",
       "    <tr>\n",
       "      <th>AAP</th>\n",
       "      <td>41.110001</td>\n",
       "      <td>40.480000</td>\n",
       "      <td>41.110001</td>\n",
       "      <td>40.480000</td>\n",
       "      <td>894500.0</td>\n",
       "      <td>39.562489</td>\n",
       "    </tr>\n",
       "    <tr>\n",
       "      <th>AAPL</th>\n",
       "      <td>30.478571</td>\n",
       "      <td>30.080000</td>\n",
       "      <td>30.447144</td>\n",
       "      <td>30.104286</td>\n",
       "      <td>88102700.0</td>\n",
       "      <td>20.159719</td>\n",
       "    </tr>\n",
       "    <tr>\n",
       "      <th>AAXN</th>\n",
       "      <td>4.430000</td>\n",
       "      <td>4.320000</td>\n",
       "      <td>4.400000</td>\n",
       "      <td>4.380000</td>\n",
       "      <td>400400.0</td>\n",
       "      <td>4.380000</td>\n",
       "    </tr>\n",
       "  </tbody>\n",
       "</table>\n",
       "</div>"
      ],
      "text/plain": [
       "                      high        low       open      close      volume  \\\n",
       "date       code                                                           \n",
       "2009-12-31 A     22.725323  22.124464  22.203148  22.224607   5224600.0   \n",
       "           AABA  16.959999  16.770000  16.920000  16.780001   9515600.0   \n",
       "           AAP   41.110001  40.480000  41.110001  40.480000    894500.0   \n",
       "           AAPL  30.478571  30.080000  30.447144  30.104286  88102700.0   \n",
       "           AAXN   4.430000   4.320000   4.400000   4.380000    400400.0   \n",
       "\n",
       "                 Adj Close  \n",
       "date       code             \n",
       "2009-12-31 A     20.562288  \n",
       "           AABA  16.780001  \n",
       "           AAP   39.562489  \n",
       "           AAPL  20.159719  \n",
       "           AAXN   4.380000  "
      ]
     },
     "execution_count": 5,
     "metadata": {},
     "output_type": "execute_result"
    }
   ],
   "source": [
    "# us_data = pd.read_csv('data/us_data.csv')\n",
    "# us_data.columns = ['date', 'high', 'low', 'open', 'close', 'volume', 'Adj Close', 'code']\n",
    "# us_data = us_data.set_index(['date', 'code'])\n",
    "# us_data = QA.QA_DataStruct_Stock_day(us_data)\n",
    "# us_data.data.head()"
   ]
  },
  {
   "cell_type": "code",
   "execution_count": 32,
   "metadata": {},
   "outputs": [],
   "source": [
    "def get_data(path, output_type='df'):\n",
    "    data = pd.read_csv(path)\n",
    "    data.columns = ['date', 'high', 'low', 'open', 'close', 'volume', 'Adj Close', 'code']\n",
    "    data = data.set_index(['date', 'code'])\n",
    "    if output_type == 'qa':\n",
    "        data = QA.QA_DataStruct_Stock_day(data)\n",
    "    return data"
   ]
  },
  {
   "cell_type": "code",
   "execution_count": 4,
   "metadata": {},
   "outputs": [],
   "source": [
    "us_data = get_data('data/us_data.csv')"
   ]
  },
  {
   "cell_type": "code",
   "execution_count": 5,
   "metadata": {},
   "outputs": [],
   "source": [
    "code_list_by_sector = pd.read_excel('data/etf_pair_code.xlsx', dtype={'symbol':str})"
   ]
  },
  {
   "cell_type": "code",
   "execution_count": 6,
   "metadata": {},
   "outputs": [
    {
     "data": {
      "text/html": [
       "<div>\n",
       "<style scoped>\n",
       "    .dataframe tbody tr th:only-of-type {\n",
       "        vertical-align: middle;\n",
       "    }\n",
       "\n",
       "    .dataframe tbody tr th {\n",
       "        vertical-align: top;\n",
       "    }\n",
       "\n",
       "    .dataframe thead th {\n",
       "        text-align: right;\n",
       "    }\n",
       "</style>\n",
       "<table border=\"1\" class=\"dataframe\">\n",
       "  <thead>\n",
       "    <tr style=\"text-align: right;\">\n",
       "      <th></th>\n",
       "      <th>symbol</th>\n",
       "      <th>region</th>\n",
       "      <th>etf_symbol</th>\n",
       "      <th>sector</th>\n",
       "    </tr>\n",
       "  </thead>\n",
       "  <tbody>\n",
       "    <tr>\n",
       "      <th>0</th>\n",
       "      <td>MSFT</td>\n",
       "      <td>US Equity</td>\n",
       "      <td>XLK</td>\n",
       "      <td>Hardware</td>\n",
       "    </tr>\n",
       "    <tr>\n",
       "      <th>1</th>\n",
       "      <td>AAPL</td>\n",
       "      <td>US Equity</td>\n",
       "      <td>XLK</td>\n",
       "      <td>Hardware</td>\n",
       "    </tr>\n",
       "    <tr>\n",
       "      <th>2</th>\n",
       "      <td>V</td>\n",
       "      <td>US Equity</td>\n",
       "      <td>XLK</td>\n",
       "      <td>Hardware</td>\n",
       "    </tr>\n",
       "    <tr>\n",
       "      <th>3</th>\n",
       "      <td>INTC</td>\n",
       "      <td>US Equity</td>\n",
       "      <td>XLK</td>\n",
       "      <td>Hardware</td>\n",
       "    </tr>\n",
       "    <tr>\n",
       "      <th>4</th>\n",
       "      <td>CSCO</td>\n",
       "      <td>US Equity</td>\n",
       "      <td>XLK</td>\n",
       "      <td>Hardware</td>\n",
       "    </tr>\n",
       "  </tbody>\n",
       "</table>\n",
       "</div>"
      ],
      "text/plain": [
       "  symbol     region etf_symbol    sector\n",
       "0   MSFT  US Equity        XLK  Hardware\n",
       "1   AAPL  US Equity        XLK  Hardware\n",
       "2      V  US Equity        XLK  Hardware\n",
       "3   INTC  US Equity        XLK  Hardware\n",
       "4   CSCO  US Equity        XLK  Hardware"
      ]
     },
     "execution_count": 6,
     "metadata": {},
     "output_type": "execute_result"
    }
   ],
   "source": [
    "code_list_by_sector.head()"
   ]
  },
  {
   "cell_type": "code",
   "execution_count": 7,
   "metadata": {},
   "outputs": [
    {
     "data": {
      "text/plain": [
       "['Hardware',\n",
       " 'Internet',\n",
       " 'China Internet',\n",
       " 'Online Gaming',\n",
       " 'Software/ Cloud Computing',\n",
       " 'Cloud Computing',\n",
       " 'Network/Security',\n",
       " 'ePayment',\n",
       " 'Semiconductor',\n",
       " 'Medical',\n",
       " 'Biotech/ Pharma',\n",
       " 'Health Care Services',\n",
       " 'Defense',\n",
       " 'Consumer',\n",
       " 'Financials',\n",
       " 'Energy',\n",
       " 'Others']"
      ]
     },
     "execution_count": 7,
     "metadata": {},
     "output_type": "execute_result"
    }
   ],
   "source": [
    "sector_list = code_list_by_sector.sector.unique().tolist()\n",
    "sector_list"
   ]
  },
  {
   "cell_type": "code",
   "execution_count": 8,
   "metadata": {},
   "outputs": [
    {
     "data": {
      "text/plain": [
       "['US Equity',\n",
       " 'HK Equity',\n",
       " 'HKD Curncy',\n",
       " 'KS Equity',\n",
       " 'JP Equity',\n",
       " 'FP Equity',\n",
       " 'TT Equity',\n",
       " 'SS Equity',\n",
       " 'GR Equity',\n",
       " 'LN Equity',\n",
       " 'NO Equity',\n",
       " 'FH Equity',\n",
       " 'CN Equity',\n",
       " 'NA Equity',\n",
       " 'ita']"
      ]
     },
     "execution_count": 8,
     "metadata": {},
     "output_type": "execute_result"
    }
   ],
   "source": [
    "region_list = code_list_by_sector.region.unique().tolist()\n",
    "region_list"
   ]
  },
  {
   "cell_type": "code",
   "execution_count": 25,
   "metadata": {},
   "outputs": [],
   "source": [
    "# code_list_by_sector.query('sector==\"%s\"' %\\\n",
    "#                           (sector_list[0]))#.symbol.tolist()\n",
    "# code_list_by_sector.query('sector==\"%s\" & region==\"%s\"' %\\\n",
    "#                           (sector_list[0], 'US Equity'))#.symbol.tolist()"
   ]
  },
  {
   "cell_type": "code",
   "execution_count": 9,
   "metadata": {},
   "outputs": [],
   "source": [
    "def get_code_list_by_sector(code_list_df, sector, region='US Equity'):\n",
    "    if region == 'all':\n",
    "        df = code_list_df.query('sector==\"%s\"' % (sector))\n",
    "    else:\n",
    "        df = code_list_df.query('sector==\"%s\" & region==\"%s\"' %\\\n",
    "                          (sector, region))\n",
    "    \n",
    "    return df"
   ]
  },
  {
   "cell_type": "code",
   "execution_count": 10,
   "metadata": {},
   "outputs": [],
   "source": [
    "us_hardware_df = get_code_list_by_sector(code_list_by_sector, \n",
    "                sector_list[0])"
   ]
  },
  {
   "cell_type": "code",
   "execution_count": 11,
   "metadata": {},
   "outputs": [
    {
     "data": {
      "text/html": [
       "<div>\n",
       "<style scoped>\n",
       "    .dataframe tbody tr th:only-of-type {\n",
       "        vertical-align: middle;\n",
       "    }\n",
       "\n",
       "    .dataframe tbody tr th {\n",
       "        vertical-align: top;\n",
       "    }\n",
       "\n",
       "    .dataframe thead th {\n",
       "        text-align: right;\n",
       "    }\n",
       "</style>\n",
       "<table border=\"1\" class=\"dataframe\">\n",
       "  <thead>\n",
       "    <tr style=\"text-align: right;\">\n",
       "      <th></th>\n",
       "      <th>symbol</th>\n",
       "      <th>region</th>\n",
       "      <th>etf_symbol</th>\n",
       "      <th>sector</th>\n",
       "    </tr>\n",
       "  </thead>\n",
       "  <tbody>\n",
       "    <tr>\n",
       "      <th>0</th>\n",
       "      <td>MSFT</td>\n",
       "      <td>US Equity</td>\n",
       "      <td>XLK</td>\n",
       "      <td>Hardware</td>\n",
       "    </tr>\n",
       "    <tr>\n",
       "      <th>1</th>\n",
       "      <td>AAPL</td>\n",
       "      <td>US Equity</td>\n",
       "      <td>XLK</td>\n",
       "      <td>Hardware</td>\n",
       "    </tr>\n",
       "    <tr>\n",
       "      <th>2</th>\n",
       "      <td>V</td>\n",
       "      <td>US Equity</td>\n",
       "      <td>XLK</td>\n",
       "      <td>Hardware</td>\n",
       "    </tr>\n",
       "    <tr>\n",
       "      <th>3</th>\n",
       "      <td>INTC</td>\n",
       "      <td>US Equity</td>\n",
       "      <td>XLK</td>\n",
       "      <td>Hardware</td>\n",
       "    </tr>\n",
       "    <tr>\n",
       "      <th>4</th>\n",
       "      <td>CSCO</td>\n",
       "      <td>US Equity</td>\n",
       "      <td>XLK</td>\n",
       "      <td>Hardware</td>\n",
       "    </tr>\n",
       "  </tbody>\n",
       "</table>\n",
       "</div>"
      ],
      "text/plain": [
       "  symbol     region etf_symbol    sector\n",
       "0   MSFT  US Equity        XLK  Hardware\n",
       "1   AAPL  US Equity        XLK  Hardware\n",
       "2      V  US Equity        XLK  Hardware\n",
       "3   INTC  US Equity        XLK  Hardware\n",
       "4   CSCO  US Equity        XLK  Hardware"
      ]
     },
     "execution_count": 11,
     "metadata": {},
     "output_type": "execute_result"
    }
   ],
   "source": [
    "us_hardware_df.head()"
   ]
  },
  {
   "cell_type": "code",
   "execution_count": 44,
   "metadata": {},
   "outputs": [],
   "source": [
    "def select_code(data, code):\n",
    "    def _select_code(data, code):\n",
    "        return data.loc[(slice(None), code), :]\n",
    "    try:\n",
    "        return _select_code(data, code)\n",
    "    except:\n",
    "        raise ValueError('CANNOT FIND THIS CODE {}'.format(code))"
   ]
  },
  {
   "cell_type": "code",
   "execution_count": 34,
   "metadata": {},
   "outputs": [],
   "source": [
    "hk_data = get_data('data/hk_data.csv')"
   ]
  },
  {
   "cell_type": "code",
   "execution_count": 48,
   "metadata": {},
   "outputs": [
    {
     "data": {
      "text/plain": [
       "Index(['3396.hk', '3969.hk', '0968.hk', '1347.hk', '6088.hk', '6869.hk',\n",
       "       '1357.hk', '1089.hk', '0327.hk', '1980.hk', '0877.hk', '0434.hk',\n",
       "       '0799.hk', '1337.hk'],\n",
       "      dtype='object', name='code')"
      ]
     },
     "execution_count": 48,
     "metadata": {},
     "output_type": "execute_result"
    }
   ],
   "source": [
    "hk_data.index.get_level_values(1).unique().tolis()"
   ]
  },
  {
   "cell_type": "code",
   "execution_count": 50,
   "metadata": {
    "scrolled": true
   },
   "outputs": [
    {
     "data": {
      "text/html": [
       "<div>\n",
       "<style scoped>\n",
       "    .dataframe tbody tr th:only-of-type {\n",
       "        vertical-align: middle;\n",
       "    }\n",
       "\n",
       "    .dataframe tbody tr th {\n",
       "        vertical-align: top;\n",
       "    }\n",
       "\n",
       "    .dataframe thead th {\n",
       "        text-align: right;\n",
       "    }\n",
       "</style>\n",
       "<table border=\"1\" class=\"dataframe\">\n",
       "  <thead>\n",
       "    <tr style=\"text-align: right;\">\n",
       "      <th></th>\n",
       "      <th></th>\n",
       "      <th>high</th>\n",
       "      <th>low</th>\n",
       "      <th>open</th>\n",
       "      <th>close</th>\n",
       "      <th>volume</th>\n",
       "      <th>Adj Close</th>\n",
       "    </tr>\n",
       "    <tr>\n",
       "      <th>date</th>\n",
       "      <th>code</th>\n",
       "      <th></th>\n",
       "      <th></th>\n",
       "      <th></th>\n",
       "      <th></th>\n",
       "      <th></th>\n",
       "      <th></th>\n",
       "    </tr>\n",
       "  </thead>\n",
       "  <tbody>\n",
       "    <tr>\n",
       "      <th>2018-12-17</th>\n",
       "      <th>3969.hk</th>\n",
       "      <td>5.78</td>\n",
       "      <td>5.68</td>\n",
       "      <td>5.75</td>\n",
       "      <td>5.75</td>\n",
       "      <td>7296604.0</td>\n",
       "      <td>5.75</td>\n",
       "    </tr>\n",
       "    <tr>\n",
       "      <th>2018-12-18</th>\n",
       "      <th>3969.hk</th>\n",
       "      <td>5.85</td>\n",
       "      <td>5.59</td>\n",
       "      <td>5.85</td>\n",
       "      <td>5.61</td>\n",
       "      <td>2842000.0</td>\n",
       "      <td>5.61</td>\n",
       "    </tr>\n",
       "    <tr>\n",
       "      <th>2018-12-19</th>\n",
       "      <th>3969.hk</th>\n",
       "      <td>5.80</td>\n",
       "      <td>5.62</td>\n",
       "      <td>5.72</td>\n",
       "      <td>5.71</td>\n",
       "      <td>11004745.0</td>\n",
       "      <td>5.71</td>\n",
       "    </tr>\n",
       "    <tr>\n",
       "      <th>2018-12-20</th>\n",
       "      <th>3969.hk</th>\n",
       "      <td>5.84</td>\n",
       "      <td>5.70</td>\n",
       "      <td>5.74</td>\n",
       "      <td>5.84</td>\n",
       "      <td>6125827.0</td>\n",
       "      <td>5.84</td>\n",
       "    </tr>\n",
       "    <tr>\n",
       "      <th>2018-12-21</th>\n",
       "      <th>3969.hk</th>\n",
       "      <td>5.85</td>\n",
       "      <td>5.51</td>\n",
       "      <td>5.80</td>\n",
       "      <td>5.63</td>\n",
       "      <td>5710583.0</td>\n",
       "      <td>5.63</td>\n",
       "    </tr>\n",
       "  </tbody>\n",
       "</table>\n",
       "</div>"
      ],
      "text/plain": [
       "                    high   low  open  close      volume  Adj Close\n",
       "date       code                                                   \n",
       "2018-12-17 3969.hk  5.78  5.68  5.75   5.75   7296604.0       5.75\n",
       "2018-12-18 3969.hk  5.85  5.59  5.85   5.61   2842000.0       5.61\n",
       "2018-12-19 3969.hk  5.80  5.62  5.72   5.71  11004745.0       5.71\n",
       "2018-12-20 3969.hk  5.84  5.70  5.74   5.84   6125827.0       5.84\n",
       "2018-12-21 3969.hk  5.85  5.51  5.80   5.63   5710583.0       5.63"
      ]
     },
     "execution_count": 50,
     "metadata": {},
     "output_type": "execute_result"
    }
   ],
   "source": [
    "select_code(hk_data, ['3396.hk', '3969.hk']).tail()"
   ]
  },
  {
   "cell_type": "code",
   "execution_count": null,
   "metadata": {},
   "outputs": [],
   "source": []
  },
  {
   "cell_type": "code",
   "execution_count": 13,
   "metadata": {},
   "outputs": [
    {
     "data": {
      "text/plain": [
       "< QA_DataStruct_Stock_day with 68 securities >"
      ]
     },
     "execution_count": 13,
     "metadata": {},
     "output_type": "execute_result"
    }
   ],
   "source": [
    "us_data.select_code(us_hardware_df.symbol.tolist())"
   ]
  },
  {
   "cell_type": "code",
   "execution_count": 12,
   "metadata": {},
   "outputs": [],
   "source": [
    "lens = len(us_hardware_df.symbol.tolist())"
   ]
  },
  {
   "cell_type": "code",
   "execution_count": 30,
   "metadata": {},
   "outputs": [],
   "source": []
  },
  {
   "cell_type": "code",
   "execution_count": 33,
   "metadata": {},
   "outputs": [],
   "source": [
    "# for i in tqdm_notebook(range(lens)):\n",
    "# #     print(i)"
   ]
  },
  {
   "cell_type": "markdown",
   "metadata": {},
   "source": [
    "1. 将单pair做成一个函数\n",
    "    - 先核对港股的pair是否正确\n",
    "2. 然后再做循环\n",
    "3. 做完这个再做买卖点"
   ]
  },
  {
   "cell_type": "code",
   "execution_count": 14,
   "metadata": {},
   "outputs": [],
   "source": [
    "hk_data = get_data('data/hk_data.csv')"
   ]
  },
  {
   "cell_type": "code",
   "execution_count": 31,
   "metadata": {
    "collapsed": true
   },
   "outputs": [
    {
     "data": {
      "text/html": [
       "<div>\n",
       "<style scoped>\n",
       "    .dataframe tbody tr th:only-of-type {\n",
       "        vertical-align: middle;\n",
       "    }\n",
       "\n",
       "    .dataframe tbody tr th {\n",
       "        vertical-align: top;\n",
       "    }\n",
       "\n",
       "    .dataframe thead th {\n",
       "        text-align: right;\n",
       "    }\n",
       "</style>\n",
       "<table border=\"1\" class=\"dataframe\">\n",
       "  <thead>\n",
       "    <tr style=\"text-align: right;\">\n",
       "      <th></th>\n",
       "      <th></th>\n",
       "      <th>high</th>\n",
       "      <th>low</th>\n",
       "      <th>open</th>\n",
       "      <th>close</th>\n",
       "      <th>volume</th>\n",
       "      <th>Adj Close</th>\n",
       "    </tr>\n",
       "    <tr>\n",
       "      <th>date</th>\n",
       "      <th>code</th>\n",
       "      <th></th>\n",
       "      <th></th>\n",
       "      <th></th>\n",
       "      <th></th>\n",
       "      <th></th>\n",
       "      <th></th>\n",
       "    </tr>\n",
       "  </thead>\n",
       "  <tbody>\n",
       "    <tr>\n",
       "      <th>2010-04-29</th>\n",
       "      <th>0877.hk</th>\n",
       "      <td>4.06</td>\n",
       "      <td>3.10</td>\n",
       "      <td>3.10</td>\n",
       "      <td>3.99</td>\n",
       "      <td>267379500.0</td>\n",
       "      <td>3.784184</td>\n",
       "    </tr>\n",
       "    <tr>\n",
       "      <th>2010-04-30</th>\n",
       "      <th>0877.hk</th>\n",
       "      <td>4.42</td>\n",
       "      <td>3.88</td>\n",
       "      <td>4.05</td>\n",
       "      <td>4.06</td>\n",
       "      <td>86302500.0</td>\n",
       "      <td>3.850574</td>\n",
       "    </tr>\n",
       "    <tr>\n",
       "      <th>2010-05-03</th>\n",
       "      <th>0877.hk</th>\n",
       "      <td>4.13</td>\n",
       "      <td>3.65</td>\n",
       "      <td>3.98</td>\n",
       "      <td>3.66</td>\n",
       "      <td>42199000.0</td>\n",
       "      <td>3.471207</td>\n",
       "    </tr>\n",
       "    <tr>\n",
       "      <th>2010-05-04</th>\n",
       "      <th>0877.hk</th>\n",
       "      <td>3.92</td>\n",
       "      <td>3.64</td>\n",
       "      <td>3.73</td>\n",
       "      <td>3.81</td>\n",
       "      <td>27618000.0</td>\n",
       "      <td>3.613469</td>\n",
       "    </tr>\n",
       "    <tr>\n",
       "      <th>2010-05-05</th>\n",
       "      <th>0877.hk</th>\n",
       "      <td>4.15</td>\n",
       "      <td>3.70</td>\n",
       "      <td>3.70</td>\n",
       "      <td>4.10</td>\n",
       "      <td>63052000.0</td>\n",
       "      <td>3.888510</td>\n",
       "    </tr>\n",
       "  </tbody>\n",
       "</table>\n",
       "</div>"
      ],
      "text/plain": [
       "                    high   low  open  close       volume  Adj Close\n",
       "date       code                                                    \n",
       "2010-04-29 0877.hk  4.06  3.10  3.10   3.99  267379500.0   3.784184\n",
       "2010-04-30 0877.hk  4.42  3.88  4.05   4.06   86302500.0   3.850574\n",
       "2010-05-03 0877.hk  4.13  3.65  3.98   3.66   42199000.0   3.471207\n",
       "2010-05-04 0877.hk  3.92  3.64  3.73   3.81   27618000.0   3.613469\n",
       "2010-05-05 0877.hk  4.15  3.70  3.70   4.10   63052000.0   3.888510"
      ]
     },
     "execution_count": 31,
     "metadata": {},
     "output_type": "execute_result"
    }
   ],
   "source": [
    "hk_data.data.head()"
   ]
  },
  {
   "cell_type": "code",
   "execution_count": 40,
   "metadata": {},
   "outputs": [],
   "source": [
    "test_data = hk_data.select_code(['0939.hk','1398.hk'])"
   ]
  },
  {
   "cell_type": "code",
   "execution_count": 56,
   "metadata": {
    "code_folding": [
     6
    ]
   },
   "outputs": [],
   "source": [
    "def position_side(ratio, avg_method='all', period=None):\n",
    "    \"\"\"\n",
    "    avg_method -- all\n",
    "               -- rolling\n",
    "               -- emwa\n",
    "    \"\"\"\n",
    "    if avg_method == 'all':\n",
    "        position_side_list = []\n",
    "        for i in range(ratio.shape[0]):\n",
    "            if i > 1:\n",
    "                if ratio[i] > np.mean(ratio[:i-1]):\n",
    "                    position_side_list.append(1)\n",
    "                elif ratio[i] < np.mean(ratio[:i-1]):\n",
    "                    position_side_list.append(-1)\n",
    "                else:\n",
    "                    position_side_list.append(np.nan)\n",
    "            elif i == 1:\n",
    "                if ratio[1] > ratio[0]:\n",
    "                    position_side_list.append(1)\n",
    "                elif ratio[1] < ratio[0]:\n",
    "                    position_side_list.append(-1)\n",
    "                else:\n",
    "                    position_side_list.append(np.nan)\n",
    "            elif i == 0:\n",
    "                position_side_list.append(np.nan)\n",
    "        position_side_series = pd.Series(position_side_list, ratio.index)\n",
    "        \n",
    "    return position_side_series"
   ]
  },
  {
   "cell_type": "code",
   "execution_count": 55,
   "metadata": {},
   "outputs": [],
   "source": []
  },
  {
   "cell_type": "code",
   "execution_count": 43,
   "metadata": {},
   "outputs": [],
   "source": [
    "def single_pair_trading(data, code1, code2):\n",
    "    \"\"\"\n",
    "    \n",
    "    \"\"\"\n",
    "    # retrieve adj close\n",
    "    asset_1_close = select_code(data, code1)['Adj Close']\n",
    "    asset_2_close = select_code(data, code2)['Adj Close']\n",
    "    \n",
    "    # calulate ratio\n",
    "    ratio = asset_1_close / asset_2_close\n",
    "    \n",
    "    position_side_series = position_side(ratio)\n",
    "    real_signal = position_side_series.shift(1)\n",
    "    long_asset_series = real_signal.apply(lambda x : code1 if x==1 else\n",
    "                                          (code2 if x==-1 else np.nan))\n",
    "    \n",
    "    asset_1_pct = asset_1_close.pct_change()\n",
    "    asset_2_pct = asset_2_close.pct_change()\n",
    "    \n",
    "    long_return = ((1+real_signal)/2 * asset_1_pct + \\\n",
    "                 (1-real_signal)/2 * asset_2_pct).mean()\n",
    "    long_short_return = (real_signal * (asset_1_pct - asset_2_pct)).mean()"
   ]
  },
  {
   "cell_type": "code",
   "execution_count": 17,
   "metadata": {},
   "outputs": [],
   "source": [
    "code = ['0939.hk','1398.hk']\n",
    "start_date = '2016-01-10'\n",
    "end_date = '2018-12-04'\n",
    "js_data = web.DataReader(code[0], 'yahoo', start_date, end_date)\n",
    "gs_data = web.DataReader(code[1], 'yahoo', start_date, end_date)"
   ]
  },
  {
   "cell_type": "code",
   "execution_count": 18,
   "metadata": {},
   "outputs": [],
   "source": [
    "js_close = js_data['Adj Close']\n",
    "gs_close = gs_data['Adj Close']"
   ]
  },
  {
   "cell_type": "code",
   "execution_count": 19,
   "metadata": {},
   "outputs": [
    {
     "data": {
      "text/plain": [
       "Date\n",
       "2016-01-11    4.215010\n",
       "2016-01-12    4.189308\n",
       "2016-01-13    4.189308\n",
       "2016-01-14    4.129339\n",
       "2016-01-15    4.052235\n",
       "Name: Adj Close, dtype: float64"
      ]
     },
     "execution_count": 19,
     "metadata": {},
     "output_type": "execute_result"
    }
   ],
   "source": [
    "js_close.head()"
   ]
  },
  {
   "cell_type": "code",
   "execution_count": 68,
   "metadata": {},
   "outputs": [
    {
     "data": {
      "text/plain": [
       "Date\n",
       "2016-01-11    3.566770\n",
       "2016-01-12    3.516058\n",
       "2016-01-13    3.524510\n",
       "2016-01-14    3.507606\n",
       "2016-01-15    3.423086\n",
       "Name: Adj Close, dtype: float64"
      ]
     },
     "execution_count": 68,
     "metadata": {},
     "output_type": "execute_result"
    }
   ],
   "source": [
    "gs_close.head()"
   ]
  },
  {
   "cell_type": "code",
   "execution_count": 20,
   "metadata": {},
   "outputs": [],
   "source": [
    "ratio = js_close / gs_close"
   ]
  },
  {
   "cell_type": "code",
   "execution_count": 21,
   "metadata": {},
   "outputs": [
    {
     "data": {
      "text/plain": [
       "Date\n",
       "2016-01-11    1.181744\n",
       "2016-01-12    1.191479\n",
       "2016-01-13    1.188621\n",
       "2016-01-14    1.177253\n",
       "2016-01-15    1.183796\n",
       "Name: Adj Close, dtype: float64"
      ]
     },
     "execution_count": 21,
     "metadata": {},
     "output_type": "execute_result"
    }
   ],
   "source": [
    "ratio.head()"
   ]
  },
  {
   "cell_type": "code",
   "execution_count": 63,
   "metadata": {},
   "outputs": [],
   "source": [
    "position_side_list = []\n",
    "for i in range(ratio.shape[0]):\n",
    "    if i > 1:\n",
    "        if ratio[i] > np.mean(ratio[:i-1]):\n",
    "            position_side_list.append(1)\n",
    "        elif ratio[i] < np.mean(ratio[:i-1]):\n",
    "            position_side_list.append(-1)\n",
    "        else:\n",
    "            position_side_list.append(np.nan)\n",
    "    elif i == 1:\n",
    "        if ratio[1] > ratio[0]:\n",
    "            position_side_list.append(1)\n",
    "        elif ratio[1] < ratio[0]:\n",
    "            position_side_list.append(-1)\n",
    "        else:\n",
    "            position_side_list.append(np.nan)\n",
    "    elif i == 0:\n",
    "        position_side_list.append(np.nan)\n",
    "position_side_series = pd.Series(position_side_list, ratio.index)"
   ]
  },
  {
   "cell_type": "code",
   "execution_count": 64,
   "metadata": {},
   "outputs": [],
   "source": [
    "backtest_position_side = position_side_series.shift(1)\n",
    "# backtest_position_side = position_side_series"
   ]
  },
  {
   "cell_type": "code",
   "execution_count": 65,
   "metadata": {
    "collapsed": true
   },
   "outputs": [
    {
     "data": {
      "text/plain": [
       "Date\n",
       "2016-01-11    NaN\n",
       "2016-01-12    NaN\n",
       "2016-01-13    1.0\n",
       "2016-01-14    1.0\n",
       "2016-01-15   -1.0\n",
       "2016-01-18   -1.0\n",
       "2016-01-19   -1.0\n",
       "2016-01-20    1.0\n",
       "2016-01-21   -1.0\n",
       "2016-01-22   -1.0\n",
       "2016-01-25   -1.0\n",
       "2016-01-26   -1.0\n",
       "2016-01-27   -1.0\n",
       "2016-01-28    1.0\n",
       "2016-01-29    1.0\n",
       "2016-02-01    1.0\n",
       "2016-02-02    1.0\n",
       "2016-02-03    1.0\n",
       "2016-02-04   -1.0\n",
       "2016-02-05   -1.0\n",
       "2016-02-11   -1.0\n",
       "2016-02-12   -1.0\n",
       "2016-02-15   -1.0\n",
       "2016-02-16   -1.0\n",
       "2016-02-17   -1.0\n",
       "2016-02-18   -1.0\n",
       "2016-02-19    1.0\n",
       "2016-02-22    1.0\n",
       "2016-02-23    1.0\n",
       "2016-02-24    1.0\n",
       "             ... \n",
       "2018-10-25   -1.0\n",
       "2018-10-26   -1.0\n",
       "2018-10-29   -1.0\n",
       "2018-10-30   -1.0\n",
       "2018-10-31   -1.0\n",
       "2018-11-01   -1.0\n",
       "2018-11-02   -1.0\n",
       "2018-11-05   -1.0\n",
       "2018-11-06   -1.0\n",
       "2018-11-07   -1.0\n",
       "2018-11-08   -1.0\n",
       "2018-11-09   -1.0\n",
       "2018-11-12    1.0\n",
       "2018-11-13    1.0\n",
       "2018-11-14    1.0\n",
       "2018-11-15   -1.0\n",
       "2018-11-16    1.0\n",
       "2018-11-19    1.0\n",
       "2018-11-20    1.0\n",
       "2018-11-21   -1.0\n",
       "2018-11-22   -1.0\n",
       "2018-11-23   -1.0\n",
       "2018-11-26   -1.0\n",
       "2018-11-27   -1.0\n",
       "2018-11-28   -1.0\n",
       "2018-11-29   -1.0\n",
       "2018-11-30    1.0\n",
       "2018-12-03   -1.0\n",
       "2018-12-04   -1.0\n",
       "2018-12-05   -1.0\n",
       "Length: 719, dtype: float64"
      ]
     },
     "execution_count": 65,
     "metadata": {},
     "output_type": "execute_result"
    }
   ],
   "source": [
    "backtest_position_side"
   ]
  },
  {
   "cell_type": "code",
   "execution_count": 68,
   "metadata": {},
   "outputs": [
    {
     "data": {
      "text/plain": [
       "Date\n",
       "2016-01-11    NaN\n",
       "2016-01-12    NaN\n",
       "2016-01-13      a\n",
       "2016-01-14      a\n",
       "2016-01-15      b\n",
       "2016-01-18      b\n",
       "2016-01-19      b\n",
       "2016-01-20      a\n",
       "2016-01-21      b\n",
       "2016-01-22      b\n",
       "2016-01-25      b\n",
       "2016-01-26      b\n",
       "2016-01-27      b\n",
       "2016-01-28      a\n",
       "2016-01-29      a\n",
       "2016-02-01      a\n",
       "2016-02-02      a\n",
       "2016-02-03      a\n",
       "2016-02-04      b\n",
       "2016-02-05      b\n",
       "2016-02-11      b\n",
       "2016-02-12      b\n",
       "2016-02-15      b\n",
       "2016-02-16      b\n",
       "2016-02-17      b\n",
       "2016-02-18      b\n",
       "2016-02-19      a\n",
       "2016-02-22      a\n",
       "2016-02-23      a\n",
       "2016-02-24      a\n",
       "             ... \n",
       "2018-10-25      b\n",
       "2018-10-26      b\n",
       "2018-10-29      b\n",
       "2018-10-30      b\n",
       "2018-10-31      b\n",
       "2018-11-01      b\n",
       "2018-11-02      b\n",
       "2018-11-05      b\n",
       "2018-11-06      b\n",
       "2018-11-07      b\n",
       "2018-11-08      b\n",
       "2018-11-09      b\n",
       "2018-11-12      a\n",
       "2018-11-13      a\n",
       "2018-11-14      a\n",
       "2018-11-15      b\n",
       "2018-11-16      a\n",
       "2018-11-19      a\n",
       "2018-11-20      a\n",
       "2018-11-21      b\n",
       "2018-11-22      b\n",
       "2018-11-23      b\n",
       "2018-11-26      b\n",
       "2018-11-27      b\n",
       "2018-11-28      b\n",
       "2018-11-29      b\n",
       "2018-11-30      a\n",
       "2018-12-03      b\n",
       "2018-12-04      b\n",
       "2018-12-05      b\n",
       "Length: 719, dtype: object"
      ]
     },
     "execution_count": 68,
     "metadata": {},
     "output_type": "execute_result"
    }
   ],
   "source": [
    "backtest_position_side.apply(lambda x : 'a' if x==1 else\\\n",
    "                             ('b' if x==-1 else np.nan))"
   ]
  },
  {
   "cell_type": "code",
   "execution_count": 25,
   "metadata": {},
   "outputs": [],
   "source": [
    "js_pct = js_close.pct_change()\n",
    "gs_pct = gs_close.pct_change()"
   ]
  },
  {
   "cell_type": "code",
   "execution_count": 29,
   "metadata": {},
   "outputs": [
    {
     "data": {
      "text/plain": [
       "0.00050363332507016509"
      ]
     },
     "execution_count": 29,
     "metadata": {},
     "output_type": "execute_result"
    }
   ],
   "source": [
    "((1+backtest_position_side)/2 * js_pct + \\\n",
    " (1-backtest_position_side)/2 * gs_pct).mean()"
   ]
  },
  {
   "cell_type": "code",
   "execution_count": 30,
   "metadata": {},
   "outputs": [
    {
     "data": {
      "text/plain": [
       "-0.00053386973747528458"
      ]
     },
     "execution_count": 30,
     "metadata": {},
     "output_type": "execute_result"
    }
   ],
   "source": [
    "(backtest_position_side * (js_pct - gs_pct)).mean()"
   ]
  },
  {
   "cell_type": "code",
   "execution_count": null,
   "metadata": {},
   "outputs": [],
   "source": []
  },
  {
   "cell_type": "code",
   "execution_count": null,
   "metadata": {},
   "outputs": [],
   "source": []
  },
  {
   "cell_type": "code",
   "execution_count": null,
   "metadata": {},
   "outputs": [],
   "source": []
  },
  {
   "cell_type": "code",
   "execution_count": null,
   "metadata": {},
   "outputs": [],
   "source": []
  },
  {
   "cell_type": "code",
   "execution_count": null,
   "metadata": {},
   "outputs": [],
   "source": []
  }
 ],
 "metadata": {
  "kernelspec": {
   "display_name": "Python (quant)",
   "language": "python",
   "name": "quant"
  },
  "language_info": {
   "codemirror_mode": {
    "name": "ipython",
    "version": 3
   },
   "file_extension": ".py",
   "mimetype": "text/x-python",
   "name": "python",
   "nbconvert_exporter": "python",
   "pygments_lexer": "ipython3",
   "version": "3.6.6"
  },
  "toc": {
   "base_numbering": 1,
   "nav_menu": {},
   "number_sections": true,
   "sideBar": true,
   "skip_h1_title": false,
   "title_cell": "Table of Contents",
   "title_sidebar": "Contents",
   "toc_cell": false,
   "toc_position": {},
   "toc_section_display": true,
   "toc_window_display": false
  },
  "varInspector": {
   "cols": {
    "lenName": 16,
    "lenType": 16,
    "lenVar": 40
   },
   "kernels_config": {
    "python": {
     "delete_cmd_postfix": "",
     "delete_cmd_prefix": "del ",
     "library": "var_list.py",
     "varRefreshCmd": "print(var_dic_list())"
    },
    "r": {
     "delete_cmd_postfix": ") ",
     "delete_cmd_prefix": "rm(",
     "library": "var_list.r",
     "varRefreshCmd": "cat(var_dic_list()) "
    }
   },
   "position": {
    "height": "366.5px",
    "left": "823px",
    "right": "20px",
    "top": "119px",
    "width": "350px"
   },
   "types_to_exclude": [
    "module",
    "function",
    "builtin_function_or_method",
    "instance",
    "_Feature"
   ],
   "window_display": false
  }
 },
 "nbformat": 4,
 "nbformat_minor": 2
}
