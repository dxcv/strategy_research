{
 "cells": [
  {
   "cell_type": "code",
   "execution_count": 1,
   "metadata": {},
   "outputs": [],
   "source": [
    "import numpy as np\n",
    "import pandas as pd\n",
    "import matplotlib.pyplot as plt\n",
    "import seaborn as sns\n",
    "# import statsmodels.api as sm\n",
    "import QUANTAXIS as QA\n",
    "import talib as ta\n",
    "import datetime #, time"
   ]
  },
  {
   "cell_type": "code",
   "execution_count": 2,
   "metadata": {},
   "outputs": [],
   "source": [
    "plt.rcParams['figure.figsize'] = [12, 8]\n",
    "plt.rcParams['image.interpolation'] = 'nearest'\n",
    "plt.rcParams['image.cmap'] = 'gray'\n",
    "plt.style.use('ggplot')"
   ]
  },
  {
   "cell_type": "code",
   "execution_count": 5,
   "metadata": {
    "collapsed": true
   },
   "outputs": [
    {
     "name": "stderr",
     "output_type": "stream",
     "text": [
      "QUANTAXIS>> Selecting the Best Server IP of TDX\n"
     ]
    },
    {
     "name": "stdout",
     "output_type": "stream",
     "text": [
      "USING DEFAULT STOCK IP\n",
      "USING DEFAULT FUTURE IP\n"
     ]
    },
    {
     "name": "stderr",
     "output_type": "stream",
     "text": [
      "QUANTAXIS>> === The BEST SERVER ===\n",
      " stock_ip 60.191.117.167 future_ip 202.103.36.71\n"
     ]
    }
   ],
   "source": [
    "# usstock_list = QA.QA_fetch_get_usstock_list('tdx')\n",
    "# usstock_list.head()"
   ]
  },
  {
   "cell_type": "code",
   "execution_count": 7,
   "metadata": {},
   "outputs": [],
   "source": [
    "# hkstock_list = QA.QA_fetch_get_hkstock_list('tdx')\n",
    "# hkstock_list.head()"
   ]
  },
  {
   "cell_type": "code",
   "execution_count": 2,
   "metadata": {},
   "outputs": [],
   "source": [
    "# writer = pd.ExcelWriter(\"data/code_list.xlsx\")\n",
    "# usstock_list.to_excel(writer, 'us_stock_list', index=False)\n",
    "# hkstock_list.to_excel(writer, 'hk_stock_list', index=False)\n",
    "# writer.save()"
   ]
  },
  {
   "cell_type": "code",
   "execution_count": 3,
   "metadata": {},
   "outputs": [
    {
     "data": {
      "text/html": [
       "<div>\n",
       "<style scoped>\n",
       "    .dataframe tbody tr th:only-of-type {\n",
       "        vertical-align: middle;\n",
       "    }\n",
       "\n",
       "    .dataframe tbody tr th {\n",
       "        vertical-align: top;\n",
       "    }\n",
       "\n",
       "    .dataframe thead th {\n",
       "        text-align: right;\n",
       "    }\n",
       "</style>\n",
       "<table border=\"1\" class=\"dataframe\">\n",
       "  <thead>\n",
       "    <tr style=\"text-align: right;\">\n",
       "      <th></th>\n",
       "      <th>category</th>\n",
       "      <th>market</th>\n",
       "      <th>name</th>\n",
       "      <th>desc</th>\n",
       "    </tr>\n",
       "    <tr>\n",
       "      <th>code</th>\n",
       "      <th></th>\n",
       "      <th></th>\n",
       "      <th></th>\n",
       "      <th></th>\n",
       "    </tr>\n",
       "  </thead>\n",
       "  <tbody>\n",
       "    <tr>\n",
       "      <th>WEAR</th>\n",
       "      <td>13</td>\n",
       "      <td>74</td>\n",
       "      <td>WEAR</td>\n",
       "      <td>WEAR</td>\n",
       "    </tr>\n",
       "    <tr>\n",
       "      <th>WEAT</th>\n",
       "      <td>13</td>\n",
       "      <td>74</td>\n",
       "      <td>WEAT信托</td>\n",
       "      <td>WEAT</td>\n",
       "    </tr>\n",
       "    <tr>\n",
       "      <th>WEB</th>\n",
       "      <td>13</td>\n",
       "      <td>74</td>\n",
       "      <td>WEB</td>\n",
       "      <td>WEB</td>\n",
       "    </tr>\n",
       "    <tr>\n",
       "      <th>WEBK</th>\n",
       "      <td>13</td>\n",
       "      <td>74</td>\n",
       "      <td>韦尔斯利银行</td>\n",
       "      <td>WEBK</td>\n",
       "    </tr>\n",
       "    <tr>\n",
       "      <th>WEC</th>\n",
       "      <td>13</td>\n",
       "      <td>74</td>\n",
       "      <td>威斯康辛能源</td>\n",
       "      <td>WEC</td>\n",
       "    </tr>\n",
       "  </tbody>\n",
       "</table>\n",
       "</div>"
      ],
      "text/plain": [
       "      category  market    name  desc\n",
       "code                                \n",
       "WEAR        13      74    WEAR  WEAR\n",
       "WEAT        13      74  WEAT信托  WEAT\n",
       "WEB         13      74     WEB   WEB\n",
       "WEBK        13      74  韦尔斯利银行  WEBK\n",
       "WEC         13      74  威斯康辛能源   WEC"
      ]
     },
     "execution_count": 3,
     "metadata": {},
     "output_type": "execute_result"
    }
   ],
   "source": [
    "usstock_list_from_file = pd.read_excel(\"data/code_list.xlsx\", 0, \n",
    "                                       dtype={'code':str, 'desc':str})\n",
    "usstock_list_from_file = usstock_list_from_file.set_index('code')\n",
    "usstock_list_from_file.head()"
   ]
  },
  {
   "cell_type": "code",
   "execution_count": 4,
   "metadata": {},
   "outputs": [
    {
     "data": {
      "text/html": [
       "<div>\n",
       "<style scoped>\n",
       "    .dataframe tbody tr th:only-of-type {\n",
       "        vertical-align: middle;\n",
       "    }\n",
       "\n",
       "    .dataframe tbody tr th {\n",
       "        vertical-align: top;\n",
       "    }\n",
       "\n",
       "    .dataframe thead th {\n",
       "        text-align: right;\n",
       "    }\n",
       "</style>\n",
       "<table border=\"1\" class=\"dataframe\">\n",
       "  <thead>\n",
       "    <tr style=\"text-align: right;\">\n",
       "      <th></th>\n",
       "      <th>category</th>\n",
       "      <th>market</th>\n",
       "      <th>name</th>\n",
       "      <th>desc</th>\n",
       "    </tr>\n",
       "    <tr>\n",
       "      <th>code</th>\n",
       "      <th></th>\n",
       "      <th></th>\n",
       "      <th></th>\n",
       "      <th></th>\n",
       "    </tr>\n",
       "  </thead>\n",
       "  <tbody>\n",
       "    <tr>\n",
       "      <th>08048</th>\n",
       "      <td>2</td>\n",
       "      <td>48</td>\n",
       "      <td>御德国际控股</td>\n",
       "      <td>08048</td>\n",
       "    </tr>\n",
       "    <tr>\n",
       "      <th>08049</th>\n",
       "      <td>2</td>\n",
       "      <td>48</td>\n",
       "      <td>吉林长龙药业</td>\n",
       "      <td>08049</td>\n",
       "    </tr>\n",
       "    <tr>\n",
       "      <th>08050</th>\n",
       "      <td>2</td>\n",
       "      <td>48</td>\n",
       "      <td>量子思维</td>\n",
       "      <td>08050</td>\n",
       "    </tr>\n",
       "    <tr>\n",
       "      <th>08051</th>\n",
       "      <td>2</td>\n",
       "      <td>48</td>\n",
       "      <td>讯智海</td>\n",
       "      <td>08051</td>\n",
       "    </tr>\n",
       "    <tr>\n",
       "      <th>08052</th>\n",
       "      <td>2</td>\n",
       "      <td>48</td>\n",
       "      <td>陆庆娱乐</td>\n",
       "      <td>08052</td>\n",
       "    </tr>\n",
       "  </tbody>\n",
       "</table>\n",
       "</div>"
      ],
      "text/plain": [
       "       category  market    name   desc\n",
       "code                                  \n",
       "08048         2      48  御德国际控股  08048\n",
       "08049         2      48  吉林长龙药业  08049\n",
       "08050         2      48    量子思维  08050\n",
       "08051         2      48     讯智海  08051\n",
       "08052         2      48    陆庆娱乐  08052"
      ]
     },
     "execution_count": 4,
     "metadata": {},
     "output_type": "execute_result"
    }
   ],
   "source": [
    "hkstock_list_from_file = pd.read_excel(\"data/code_list.xlsx\", 1, \n",
    "                                       dtype={'code':str, 'desc':str})\n",
    "hkstock_list_from_file = hkstock_list_from_file.set_index('code')\n",
    "hkstock_list_from_file.head()"
   ]
  },
  {
   "cell_type": "code",
   "execution_count": 7,
   "metadata": {},
   "outputs": [],
   "source": [
    "import pandas_datareader.data as web"
   ]
  },
  {
   "cell_type": "code",
   "execution_count": 3,
   "metadata": {},
   "outputs": [
    {
     "name": "stderr",
     "output_type": "stream",
     "text": [
      "QUANTAXIS>> Selecting the Best Server IP of TDX\n"
     ]
    },
    {
     "name": "stdout",
     "output_type": "stream",
     "text": [
      "USING DEFAULT STOCK IP\n",
      "USING DEFAULT FUTURE IP\n"
     ]
    },
    {
     "name": "stderr",
     "output_type": "stream",
     "text": [
      "QUANTAXIS>> === The BEST SERVER ===\n",
      " stock_ip 60.191.117.167 future_ip 202.103.36.71\n"
     ]
    }
   ],
   "source": [
    "code = 'AMZN'\n",
    "start = '2010-01-01'\n",
    "end = '2018-12-18'\n",
    "# web.\n",
    "data = QA.QA_fetch_get_usstock_day('tdx', code, start, end)"
   ]
  },
  {
   "cell_type": "code",
   "execution_count": 15,
   "metadata": {},
   "outputs": [
    {
     "data": {
      "text/html": [
       "<div>\n",
       "<style scoped>\n",
       "    .dataframe tbody tr th:only-of-type {\n",
       "        vertical-align: middle;\n",
       "    }\n",
       "\n",
       "    .dataframe tbody tr th {\n",
       "        vertical-align: top;\n",
       "    }\n",
       "\n",
       "    .dataframe thead th {\n",
       "        text-align: right;\n",
       "    }\n",
       "</style>\n",
       "<table border=\"1\" class=\"dataframe\">\n",
       "  <thead>\n",
       "    <tr style=\"text-align: right;\">\n",
       "      <th></th>\n",
       "      <th>open</th>\n",
       "      <th>high</th>\n",
       "      <th>low</th>\n",
       "      <th>close</th>\n",
       "      <th>position</th>\n",
       "      <th>trade</th>\n",
       "      <th>price</th>\n",
       "      <th>amount</th>\n",
       "      <th>date</th>\n",
       "      <th>code</th>\n",
       "      <th>date_stamp</th>\n",
       "    </tr>\n",
       "    <tr>\n",
       "      <th>date</th>\n",
       "      <th></th>\n",
       "      <th></th>\n",
       "      <th></th>\n",
       "      <th></th>\n",
       "      <th></th>\n",
       "      <th></th>\n",
       "      <th></th>\n",
       "      <th></th>\n",
       "      <th></th>\n",
       "      <th></th>\n",
       "      <th></th>\n",
       "    </tr>\n",
       "  </thead>\n",
       "  <tbody>\n",
       "    <tr>\n",
       "      <th>2010-01-04</th>\n",
       "      <td>136.250000</td>\n",
       "      <td>136.610001</td>\n",
       "      <td>133.139999</td>\n",
       "      <td>133.899994</td>\n",
       "      <td>0</td>\n",
       "      <td>75999</td>\n",
       "      <td>0.0</td>\n",
       "      <td>0.0</td>\n",
       "      <td>2010-01-04</td>\n",
       "      <td>AMZN</td>\n",
       "      <td>1.262534e+09</td>\n",
       "    </tr>\n",
       "    <tr>\n",
       "      <th>2010-01-05</th>\n",
       "      <td>133.429993</td>\n",
       "      <td>135.479996</td>\n",
       "      <td>131.809998</td>\n",
       "      <td>134.690002</td>\n",
       "      <td>0</td>\n",
       "      <td>88519</td>\n",
       "      <td>0.0</td>\n",
       "      <td>0.0</td>\n",
       "      <td>2010-01-05</td>\n",
       "      <td>AMZN</td>\n",
       "      <td>1.262621e+09</td>\n",
       "    </tr>\n",
       "    <tr>\n",
       "      <th>2010-01-06</th>\n",
       "      <td>134.600006</td>\n",
       "      <td>134.729996</td>\n",
       "      <td>131.649994</td>\n",
       "      <td>132.250000</td>\n",
       "      <td>0</td>\n",
       "      <td>71788</td>\n",
       "      <td>0.0</td>\n",
       "      <td>0.0</td>\n",
       "      <td>2010-01-06</td>\n",
       "      <td>AMZN</td>\n",
       "      <td>1.262707e+09</td>\n",
       "    </tr>\n",
       "    <tr>\n",
       "      <th>2010-01-07</th>\n",
       "      <td>132.009995</td>\n",
       "      <td>132.320007</td>\n",
       "      <td>128.800003</td>\n",
       "      <td>130.000000</td>\n",
       "      <td>0</td>\n",
       "      <td>110302</td>\n",
       "      <td>0.0</td>\n",
       "      <td>0.0</td>\n",
       "      <td>2010-01-07</td>\n",
       "      <td>AMZN</td>\n",
       "      <td>1.262794e+09</td>\n",
       "    </tr>\n",
       "    <tr>\n",
       "      <th>2010-01-08</th>\n",
       "      <td>130.559998</td>\n",
       "      <td>133.679993</td>\n",
       "      <td>129.029999</td>\n",
       "      <td>133.520004</td>\n",
       "      <td>0</td>\n",
       "      <td>98305</td>\n",
       "      <td>0.0</td>\n",
       "      <td>0.0</td>\n",
       "      <td>2010-01-08</td>\n",
       "      <td>AMZN</td>\n",
       "      <td>1.262880e+09</td>\n",
       "    </tr>\n",
       "  </tbody>\n",
       "</table>\n",
       "</div>"
      ],
      "text/plain": [
       "                  open        high         low       close  position   trade  \\\n",
       "date                                                                           \n",
       "2010-01-04  136.250000  136.610001  133.139999  133.899994         0   75999   \n",
       "2010-01-05  133.429993  135.479996  131.809998  134.690002         0   88519   \n",
       "2010-01-06  134.600006  134.729996  131.649994  132.250000         0   71788   \n",
       "2010-01-07  132.009995  132.320007  128.800003  130.000000         0  110302   \n",
       "2010-01-08  130.559998  133.679993  129.029999  133.520004         0   98305   \n",
       "\n",
       "            price  amount        date  code    date_stamp  \n",
       "date                                                       \n",
       "2010-01-04    0.0     0.0  2010-01-04  AMZN  1.262534e+09  \n",
       "2010-01-05    0.0     0.0  2010-01-05  AMZN  1.262621e+09  \n",
       "2010-01-06    0.0     0.0  2010-01-06  AMZN  1.262707e+09  \n",
       "2010-01-07    0.0     0.0  2010-01-07  AMZN  1.262794e+09  \n",
       "2010-01-08    0.0     0.0  2010-01-08  AMZN  1.262880e+09  "
      ]
     },
     "execution_count": 15,
     "metadata": {},
     "output_type": "execute_result"
    }
   ],
   "source": [
    "data.head()"
   ]
  },
  {
   "cell_type": "code",
   "execution_count": 11,
   "metadata": {},
   "outputs": [],
   "source": [
    "import datetime\n",
    "start_time = datetime.datetime.strptime(start, '%Y-%m-%d')\n",
    "end_time = datetime.datetime.today()\n",
    "data_from_web = web.DataReader(code, 'yahoo', start_time, end_time)"
   ]
  },
  {
   "cell_type": "code",
   "execution_count": 14,
   "metadata": {
    "collapsed": true
   },
   "outputs": [
    {
     "data": {
      "text/html": [
       "<div>\n",
       "<style scoped>\n",
       "    .dataframe tbody tr th:only-of-type {\n",
       "        vertical-align: middle;\n",
       "    }\n",
       "\n",
       "    .dataframe tbody tr th {\n",
       "        vertical-align: top;\n",
       "    }\n",
       "\n",
       "    .dataframe thead th {\n",
       "        text-align: right;\n",
       "    }\n",
       "</style>\n",
       "<table border=\"1\" class=\"dataframe\">\n",
       "  <thead>\n",
       "    <tr style=\"text-align: right;\">\n",
       "      <th></th>\n",
       "      <th>High</th>\n",
       "      <th>Low</th>\n",
       "      <th>Open</th>\n",
       "      <th>Close</th>\n",
       "      <th>Volume</th>\n",
       "      <th>Adj Close</th>\n",
       "    </tr>\n",
       "    <tr>\n",
       "      <th>Date</th>\n",
       "      <th></th>\n",
       "      <th></th>\n",
       "      <th></th>\n",
       "      <th></th>\n",
       "      <th></th>\n",
       "      <th></th>\n",
       "    </tr>\n",
       "  </thead>\n",
       "  <tbody>\n",
       "    <tr>\n",
       "      <th>2009-12-31</th>\n",
       "      <td>137.279999</td>\n",
       "      <td>134.520004</td>\n",
       "      <td>137.089996</td>\n",
       "      <td>134.520004</td>\n",
       "      <td>4523000</td>\n",
       "      <td>134.520004</td>\n",
       "    </tr>\n",
       "    <tr>\n",
       "      <th>2010-01-04</th>\n",
       "      <td>136.610001</td>\n",
       "      <td>133.139999</td>\n",
       "      <td>136.250000</td>\n",
       "      <td>133.899994</td>\n",
       "      <td>7599900</td>\n",
       "      <td>133.899994</td>\n",
       "    </tr>\n",
       "    <tr>\n",
       "      <th>2010-01-05</th>\n",
       "      <td>135.479996</td>\n",
       "      <td>131.809998</td>\n",
       "      <td>133.429993</td>\n",
       "      <td>134.690002</td>\n",
       "      <td>8851900</td>\n",
       "      <td>134.690002</td>\n",
       "    </tr>\n",
       "    <tr>\n",
       "      <th>2010-01-06</th>\n",
       "      <td>134.729996</td>\n",
       "      <td>131.649994</td>\n",
       "      <td>134.600006</td>\n",
       "      <td>132.250000</td>\n",
       "      <td>7178800</td>\n",
       "      <td>132.250000</td>\n",
       "    </tr>\n",
       "    <tr>\n",
       "      <th>2010-01-07</th>\n",
       "      <td>132.320007</td>\n",
       "      <td>128.800003</td>\n",
       "      <td>132.009995</td>\n",
       "      <td>130.000000</td>\n",
       "      <td>11030200</td>\n",
       "      <td>130.000000</td>\n",
       "    </tr>\n",
       "  </tbody>\n",
       "</table>\n",
       "</div>"
      ],
      "text/plain": [
       "                  High         Low        Open       Close    Volume  \\\n",
       "Date                                                                   \n",
       "2009-12-31  137.279999  134.520004  137.089996  134.520004   4523000   \n",
       "2010-01-04  136.610001  133.139999  136.250000  133.899994   7599900   \n",
       "2010-01-05  135.479996  131.809998  133.429993  134.690002   8851900   \n",
       "2010-01-06  134.729996  131.649994  134.600006  132.250000   7178800   \n",
       "2010-01-07  132.320007  128.800003  132.009995  130.000000  11030200   \n",
       "\n",
       "             Adj Close  \n",
       "Date                    \n",
       "2009-12-31  134.520004  \n",
       "2010-01-04  133.899994  \n",
       "2010-01-05  134.690002  \n",
       "2010-01-06  132.250000  \n",
       "2010-01-07  130.000000  "
      ]
     },
     "execution_count": 14,
     "metadata": {},
     "output_type": "execute_result"
    }
   ],
   "source": [
    "data_from_web.head()"
   ]
  },
  {
   "cell_type": "code",
   "execution_count": 18,
   "metadata": {
    "scrolled": true
   },
   "outputs": [],
   "source": [
    "AMZN_close = data_from_web.loc[:, 'Adj Close'][1:]"
   ]
  },
  {
   "cell_type": "code",
   "execution_count": 19,
   "metadata": {},
   "outputs": [],
   "source": [
    "MSFT_data = web.DataReader('MSFT', 'yahoo', start_time, end_time)"
   ]
  },
  {
   "cell_type": "code",
   "execution_count": 20,
   "metadata": {},
   "outputs": [],
   "source": [
    "MSFT_close = MSFT_data.loc[:, 'Adj Close'][1:]"
   ]
  },
  {
   "cell_type": "code",
   "execution_count": 29,
   "metadata": {},
   "outputs": [],
   "source": [
    "ratio = (AMZN_close / MSFT_close).sort_index(ascending=False)"
   ]
  },
  {
   "cell_type": "code",
   "execution_count": 30,
   "metadata": {},
   "outputs": [
    {
     "data": {
      "text/plain": [
       "Date\n",
       "2018-12-18    14.922381\n",
       "2018-12-17    14.781903\n",
       "2018-12-14    15.013770\n",
       "2018-12-13    15.151942\n",
       "2018-12-12    15.250642\n",
       "Name: Adj Close, dtype: float64"
      ]
     },
     "execution_count": 30,
     "metadata": {},
     "output_type": "execute_result"
    }
   ],
   "source": [
    "ratio.head()"
   ]
  },
  {
   "cell_type": "code",
   "execution_count": 34,
   "metadata": {},
   "outputs": [
    {
     "data": {
      "text/plain": [
       "2256"
      ]
     },
     "execution_count": 34,
     "metadata": {},
     "output_type": "execute_result"
    }
   ],
   "source": [
    "ratio.size"
   ]
  },
  {
   "cell_type": "code",
   "execution_count": 33,
   "metadata": {},
   "outputs": [],
   "source": [
    "position_side = pd.Series()"
   ]
  },
  {
   "cell_type": "code",
   "execution_count": null,
   "metadata": {},
   "outputs": [],
   "source": [
    "for i in range(ratio.size):\n",
    "    if i != ratio.size - 1:\n",
    "        if ratio[i] > np.mean(ratio[i+1:]):\n",
    "            position_side[ratio.index[i]] = 'long'\n",
    "        elif ratio[i] < np.mean(ratio[i+1:]):\n",
    "            position_side[ratio.index[i]] = 'short'\n",
    "        else:\n",
    "            position_side[ratio.index[i]] = 0\n",
    "    else:\n",
    "        position_side[ratio.index[i]] = 0"
   ]
  },
  {
   "cell_type": "code",
   "execution_count": null,
   "metadata": {},
   "outputs": [],
   "source": []
  },
  {
   "cell_type": "code",
   "execution_count": null,
   "metadata": {},
   "outputs": [],
   "source": []
  },
  {
   "cell_type": "code",
   "execution_count": null,
   "metadata": {},
   "outputs": [],
   "source": []
  }
 ],
 "metadata": {
  "kernelspec": {
   "display_name": "Python 3",
   "language": "python",
   "name": "python3"
  },
  "language_info": {
   "codemirror_mode": {
    "name": "ipython",
    "version": 3
   },
   "file_extension": ".py",
   "mimetype": "text/x-python",
   "name": "python",
   "nbconvert_exporter": "python",
   "pygments_lexer": "ipython3",
   "version": "3.6.5"
  },
  "toc": {
   "base_numbering": 1,
   "nav_menu": {},
   "number_sections": true,
   "sideBar": true,
   "skip_h1_title": false,
   "title_cell": "Table of Contents",
   "title_sidebar": "Contents",
   "toc_cell": false,
   "toc_position": {},
   "toc_section_display": true,
   "toc_window_display": false
  },
  "varInspector": {
   "cols": {
    "lenName": 16,
    "lenType": 16,
    "lenVar": 40
   },
   "kernels_config": {
    "python": {
     "delete_cmd_postfix": "",
     "delete_cmd_prefix": "del ",
     "library": "var_list.py",
     "varRefreshCmd": "print(var_dic_list())"
    },
    "r": {
     "delete_cmd_postfix": ") ",
     "delete_cmd_prefix": "rm(",
     "library": "var_list.r",
     "varRefreshCmd": "cat(var_dic_list()) "
    }
   },
   "types_to_exclude": [
    "module",
    "function",
    "builtin_function_or_method",
    "instance",
    "_Feature"
   ],
   "window_display": false
  }
 },
 "nbformat": 4,
 "nbformat_minor": 2
}
