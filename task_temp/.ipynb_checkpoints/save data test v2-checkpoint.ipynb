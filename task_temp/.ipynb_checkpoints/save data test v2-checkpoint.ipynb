{
 "cells": [
  {
   "cell_type": "markdown",
   "metadata": {},
   "source": [
    "1. ratio rsi数据已经整合到代码中， 并会进行保存;\n",
    "\n",
    "    请查看下保存结果的表, rsi和rsi_mask是否是你想要的形式;\n",
    "    \n",
    "    比如rsi_mask中, 我将30~70之间的rsi值设为0, 其余的值保留原值;\n",
    "    \n",
    "    我之前设想过, 低于30用一个值代替，比如数字-1或者文字之类的, 这里就是看你的需要了;\n",
    "\n",
    "2. 关于PX_HIGH, PX_LAST这里的`PX`是否是前复权的意思, 但这里的数据，只能是以后复权的形式去进行计算; 所以我需要知道后复权的字段是怎么样的;\n",
    "\n",
    "3. 请运行以下代码并将保存的二进制的结果文件发给我"
   ]
  },
  {
   "cell_type": "code",
   "execution_count": 2,
   "metadata": {},
   "outputs": [
    {
     "name": "stdout",
     "output_type": "stream",
     "text": [
      "The autoreload extension is already loaded. To reload it, use:\n",
      "  %reload_ext autoreload\n"
     ]
    }
   ],
   "source": [
    "%load_ext autoreload\n",
    "%autoreload 2\n",
    "\n",
    "import numpy as np\n",
    "import pandas as pd\n",
    "import matplotlib.pyplot as plt\n",
    "import talib as ta\n",
    "import datetime, time\n",
    "import pickle\n",
    "\n",
    "# import pdblp as pb\n",
    "# import blpapi "
   ]
  },
  {
   "cell_type": "code",
   "execution_count": 3,
   "metadata": {},
   "outputs": [],
   "source": [
    "plt.rcParams['figure.figsize'] = [12, 8]\n",
    "plt.rcParams['image.interpolation'] = 'nearest'\n",
    "plt.rcParams['image.cmap'] = 'gray'\n",
    "plt.style.use('ggplot')"
   ]
  },
  {
   "cell_type": "code",
   "execution_count": 3,
   "metadata": {},
   "outputs": [],
   "source": [
    "def save_file(dataframe, name):\n",
    "    \n",
    "    with open(name, 'wb') as f:\n",
    "        pickle.dump(dataframe, f)"
   ]
  },
  {
   "cell_type": "code",
   "execution_count": 4,
   "metadata": {},
   "outputs": [
    {
     "data": {
      "text/plain": [
       "<pdblp.pdblp.BCon at 0x2207210a3c8>"
      ]
     },
     "execution_count": 4,
     "metadata": {},
     "output_type": "execute_result"
    }
   ],
   "source": [
    "con = pb.BCon(port=8194, timeout=5000)\n",
    "con.start()"
   ]
  },
  {
   "cell_type": "code",
   "execution_count": 28,
   "metadata": {},
   "outputs": [],
   "source": [
    "df_code = pd.read_excel('data/etf_pair_code.xlsx', dtype={'symbol':str})"
   ]
  },
  {
   "cell_type": "code",
   "execution_count": 30,
   "metadata": {},
   "outputs": [],
   "source": [
    "ticker_list = (df_code.symbol + ' ' + df_code.region).unique().tolist()"
   ]
  },
  {
   "cell_type": "markdown",
   "metadata": {},
   "source": [
    "### test 1"
   ]
  },
  {
   "cell_type": "code",
   "execution_count": 7,
   "metadata": {},
   "outputs": [
    {
     "name": "stdout",
     "output_type": "stream",
     "text": [
      "retrieve HKD Curncy HKD Curncy data, have something wrong\n",
      "retrieve ita ita data, have something wrong\n",
      "retrieve data cost time: 333.686907963\n"
     ]
    }
   ],
   "source": [
    "df_1 = pd.DataFrame()\n",
    "err_code = []\n",
    "tic = time.perf_counter()\n",
    "for i in ticker_list:\n",
    "    try:\n",
    "        temp_df = con.bdh(i, ['PX_LAST', 'VOLUME'], '20181222', '20190109')\n",
    "        \n",
    "        try:\n",
    "            df_1 = pd.concat([df_1, temp_df], axis=1)\n",
    "        except:\n",
    "            print('concat data has problem, ticker code : %s' % i)\n",
    "        \n",
    "    except:\n",
    "        print('retrieve %s data, have something wrong' % i)\n",
    "        err_code.append(i)\n",
    "toc = time.perf_counter()\n",
    "\n",
    "print('retrieve data cost time: %s' % (toc-tic))"
   ]
  },
  {
   "cell_type": "markdown",
   "metadata": {},
   "source": [
    "如果test 1没有任何retrieve data报错，则只运行test 2, 否则就直接运行test 3"
   ]
  },
  {
   "cell_type": "markdown",
   "metadata": {},
   "source": [
    "### test 2"
   ]
  },
  {
   "cell_type": "code",
   "execution_count": null,
   "metadata": {},
   "outputs": [],
   "source": [
    "tic = time.perf_counter()\n",
    "\n",
    "df_2 = con.bdh(ticker_list, ['PX_LAST', 'VOLUME'], '20181222', '20190109')\n",
    "\n",
    "toc = time.perf_counter()\n",
    "\n",
    "print('retrieve data cost time: %s' % (toc-tic))"
   ]
  },
  {
   "cell_type": "markdown",
   "metadata": {},
   "source": [
    "### test 3"
   ]
  },
  {
   "cell_type": "code",
   "execution_count": 8,
   "metadata": {},
   "outputs": [],
   "source": [
    "df_3 = con.bdh(['AAPL US Equity', 'SPY US Equity'], ['PX_LAST', 'VOLUME'],\n",
    "        '20181222', '20190109')"
   ]
  },
  {
   "cell_type": "markdown",
   "metadata": {},
   "source": [
    "### save file"
   ]
  },
  {
   "cell_type": "markdown",
   "metadata": {},
   "source": [
    "请将保存的文件传给我, 文件名是以file_01 or file_02 or file_03"
   ]
  },
  {
   "cell_type": "code",
   "execution_count": 9,
   "metadata": {},
   "outputs": [
    {
     "name": "stdout",
     "output_type": "stream",
     "text": [
      "df_1 save finish.\n",
      "df_2 doesn't exist.\n",
      "df_3 save finish.\n"
     ]
    }
   ],
   "source": [
    "try:\n",
    "    save_file(df_1, 'file_01')\n",
    "    print(\"df_1 save finish.\")\n",
    "except:\n",
    "    print(\"df_1 doesn't exist.\")\n",
    "    \n",
    "try:\n",
    "    save_file(df_2, 'file_02')\n",
    "    print(\"df_2 save finish.\")\n",
    "except:\n",
    "    print(\"df_2 doesn't exist.\")\n",
    "\n",
    "try:\n",
    "    save_file(df_3, 'file_03')\n",
    "    print(\"df_3 save finish.\")\n",
    "except:\n",
    "    print(\"df_3 doesn't exist.\")"
   ]
  },
  {
   "cell_type": "code",
   "execution_count": 4,
   "metadata": {},
   "outputs": [],
   "source": [
    "with open('file_01', 'rb') as f:\n",
    "    df_1 = pickle.load(f)"
   ]
  },
  {
   "cell_type": "markdown",
   "metadata": {},
   "source": [
    "```python\n",
    "df_1.pivot_table(values=None, index=None, columns=None, aggfunc='mean', fill_value=None, margins=False, dropna=True, margins_name='All')\n",
    "```"
   ]
  },
  {
   "cell_type": "code",
   "execution_count": 16,
   "metadata": {
    "collapsed": true
   },
   "outputs": [
    {
     "ename": "KeyError",
     "evalue": "'field'",
     "output_type": "error",
     "traceback": [
      "\u001b[1;31m---------------------------------------------------------------------------\u001b[0m",
      "\u001b[1;31mKeyError\u001b[0m                                  Traceback (most recent call last)",
      "\u001b[1;32m<ipython-input-16-8097a971973d>\u001b[0m in \u001b[0;36m<module>\u001b[1;34m()\u001b[0m\n\u001b[1;32m----> 1\u001b[1;33m \u001b[0mdf_1\u001b[0m\u001b[1;33m.\u001b[0m\u001b[0mpivot_table\u001b[0m\u001b[1;33m(\u001b[0m\u001b[0mvalues\u001b[0m\u001b[1;33m=\u001b[0m\u001b[1;33m[\u001b[0m\u001b[1;34m'field'\u001b[0m\u001b[1;33m]\u001b[0m\u001b[1;33m,\u001b[0m \u001b[0mindex\u001b[0m\u001b[1;33m=\u001b[0m\u001b[1;33m[\u001b[0m\u001b[1;34m'date'\u001b[0m\u001b[1;33m,\u001b[0m \u001b[1;34m'ticker'\u001b[0m\u001b[1;33m]\u001b[0m\u001b[1;33m)\u001b[0m\u001b[1;33m\u001b[0m\u001b[0m\n\u001b[0m",
      "\u001b[1;32mC:\\ProgramData\\Anaconda3\\lib\\site-packages\\pandas\\core\\frame.py\u001b[0m in \u001b[0;36mpivot_table\u001b[1;34m(self, values, index, columns, aggfunc, fill_value, margins, dropna, margins_name)\u001b[0m\n\u001b[0;32m   5301\u001b[0m                            \u001b[0maggfunc\u001b[0m\u001b[1;33m=\u001b[0m\u001b[0maggfunc\u001b[0m\u001b[1;33m,\u001b[0m \u001b[0mfill_value\u001b[0m\u001b[1;33m=\u001b[0m\u001b[0mfill_value\u001b[0m\u001b[1;33m,\u001b[0m\u001b[1;33m\u001b[0m\u001b[0m\n\u001b[0;32m   5302\u001b[0m                            \u001b[0mmargins\u001b[0m\u001b[1;33m=\u001b[0m\u001b[0mmargins\u001b[0m\u001b[1;33m,\u001b[0m \u001b[0mdropna\u001b[0m\u001b[1;33m=\u001b[0m\u001b[0mdropna\u001b[0m\u001b[1;33m,\u001b[0m\u001b[1;33m\u001b[0m\u001b[0m\n\u001b[1;32m-> 5303\u001b[1;33m                            margins_name=margins_name)\n\u001b[0m\u001b[0;32m   5304\u001b[0m \u001b[1;33m\u001b[0m\u001b[0m\n\u001b[0;32m   5305\u001b[0m     \u001b[1;32mdef\u001b[0m \u001b[0mstack\u001b[0m\u001b[1;33m(\u001b[0m\u001b[0mself\u001b[0m\u001b[1;33m,\u001b[0m \u001b[0mlevel\u001b[0m\u001b[1;33m=\u001b[0m\u001b[1;33m-\u001b[0m\u001b[1;36m1\u001b[0m\u001b[1;33m,\u001b[0m \u001b[0mdropna\u001b[0m\u001b[1;33m=\u001b[0m\u001b[1;32mTrue\u001b[0m\u001b[1;33m)\u001b[0m\u001b[1;33m:\u001b[0m\u001b[1;33m\u001b[0m\u001b[0m\n",
      "\u001b[1;32mC:\\ProgramData\\Anaconda3\\lib\\site-packages\\pandas\\core\\reshape\\pivot.py\u001b[0m in \u001b[0;36mpivot_table\u001b[1;34m(data, values, index, columns, aggfunc, fill_value, margins, dropna, margins_name)\u001b[0m\n\u001b[0;32m     59\u001b[0m         \u001b[1;32mfor\u001b[0m \u001b[0mi\u001b[0m \u001b[1;32min\u001b[0m \u001b[0mvalues\u001b[0m\u001b[1;33m:\u001b[0m\u001b[1;33m\u001b[0m\u001b[0m\n\u001b[0;32m     60\u001b[0m             \u001b[1;32mif\u001b[0m \u001b[0mi\u001b[0m \u001b[1;32mnot\u001b[0m \u001b[1;32min\u001b[0m \u001b[0mdata\u001b[0m\u001b[1;33m:\u001b[0m\u001b[1;33m\u001b[0m\u001b[0m\n\u001b[1;32m---> 61\u001b[1;33m                 \u001b[1;32mraise\u001b[0m \u001b[0mKeyError\u001b[0m\u001b[1;33m(\u001b[0m\u001b[0mi\u001b[0m\u001b[1;33m)\u001b[0m\u001b[1;33m\u001b[0m\u001b[0m\n\u001b[0m\u001b[0;32m     62\u001b[0m \u001b[1;33m\u001b[0m\u001b[0m\n\u001b[0;32m     63\u001b[0m         \u001b[0mto_filter\u001b[0m \u001b[1;33m=\u001b[0m \u001b[1;33m[\u001b[0m\u001b[1;33m]\u001b[0m\u001b[1;33m\u001b[0m\u001b[0m\n",
      "\u001b[1;31mKeyError\u001b[0m: 'field'"
     ]
    }
   ],
   "source": [
    "df_1.pivot_table()"
   ]
  },
  {
   "cell_type": "code",
   "execution_count": 13,
   "metadata": {},
   "outputs": [
    {
     "data": {
      "text/html": [
       "<div>\n",
       "<style scoped>\n",
       "    .dataframe tbody tr th:only-of-type {\n",
       "        vertical-align: middle;\n",
       "    }\n",
       "\n",
       "    .dataframe tbody tr th {\n",
       "        vertical-align: top;\n",
       "    }\n",
       "\n",
       "    .dataframe thead tr th {\n",
       "        text-align: left;\n",
       "    }\n",
       "\n",
       "    .dataframe thead tr:last-of-type th {\n",
       "        text-align: right;\n",
       "    }\n",
       "</style>\n",
       "<table border=\"1\" class=\"dataframe\">\n",
       "  <thead>\n",
       "    <tr>\n",
       "      <th>ticker</th>\n",
       "      <th colspan=\"2\" halign=\"left\">MSFT US Equity</th>\n",
       "      <th colspan=\"2\" halign=\"left\">AAPL US Equity</th>\n",
       "      <th colspan=\"2\" halign=\"left\">V US Equity</th>\n",
       "      <th colspan=\"2\" halign=\"left\">INTC US Equity</th>\n",
       "      <th colspan=\"2\" halign=\"left\">CSCO US Equity</th>\n",
       "      <th>...</th>\n",
       "      <th colspan=\"2\" halign=\"left\">CF US Equity</th>\n",
       "      <th colspan=\"2\" halign=\"left\">ALB US Equity</th>\n",
       "      <th colspan=\"2\" halign=\"left\">PKG US Equity</th>\n",
       "      <th colspan=\"2\" halign=\"left\">AVY US Equity</th>\n",
       "      <th colspan=\"2\" halign=\"left\">SEE US Equity</th>\n",
       "    </tr>\n",
       "    <tr>\n",
       "      <th>field</th>\n",
       "      <th>PX_LAST</th>\n",
       "      <th>VOLUME</th>\n",
       "      <th>PX_LAST</th>\n",
       "      <th>VOLUME</th>\n",
       "      <th>PX_LAST</th>\n",
       "      <th>VOLUME</th>\n",
       "      <th>PX_LAST</th>\n",
       "      <th>VOLUME</th>\n",
       "      <th>PX_LAST</th>\n",
       "      <th>VOLUME</th>\n",
       "      <th>...</th>\n",
       "      <th>PX_LAST</th>\n",
       "      <th>VOLUME</th>\n",
       "      <th>PX_LAST</th>\n",
       "      <th>VOLUME</th>\n",
       "      <th>PX_LAST</th>\n",
       "      <th>VOLUME</th>\n",
       "      <th>PX_LAST</th>\n",
       "      <th>VOLUME</th>\n",
       "      <th>PX_LAST</th>\n",
       "      <th>VOLUME</th>\n",
       "    </tr>\n",
       "    <tr>\n",
       "      <th>date</th>\n",
       "      <th></th>\n",
       "      <th></th>\n",
       "      <th></th>\n",
       "      <th></th>\n",
       "      <th></th>\n",
       "      <th></th>\n",
       "      <th></th>\n",
       "      <th></th>\n",
       "      <th></th>\n",
       "      <th></th>\n",
       "      <th></th>\n",
       "      <th></th>\n",
       "      <th></th>\n",
       "      <th></th>\n",
       "      <th></th>\n",
       "      <th></th>\n",
       "      <th></th>\n",
       "      <th></th>\n",
       "      <th></th>\n",
       "      <th></th>\n",
       "      <th></th>\n",
       "    </tr>\n",
       "  </thead>\n",
       "  <tbody>\n",
       "    <tr>\n",
       "      <th>2018-12-22</th>\n",
       "      <td>NaN</td>\n",
       "      <td>NaN</td>\n",
       "      <td>NaN</td>\n",
       "      <td>NaN</td>\n",
       "      <td>NaN</td>\n",
       "      <td>NaN</td>\n",
       "      <td>NaN</td>\n",
       "      <td>NaN</td>\n",
       "      <td>NaN</td>\n",
       "      <td>NaN</td>\n",
       "      <td>...</td>\n",
       "      <td>NaN</td>\n",
       "      <td>NaN</td>\n",
       "      <td>NaN</td>\n",
       "      <td>NaN</td>\n",
       "      <td>NaN</td>\n",
       "      <td>NaN</td>\n",
       "      <td>NaN</td>\n",
       "      <td>NaN</td>\n",
       "      <td>NaN</td>\n",
       "      <td>NaN</td>\n",
       "    </tr>\n",
       "    <tr>\n",
       "      <th>2018-12-24</th>\n",
       "      <td>94.13</td>\n",
       "      <td>43935192.0</td>\n",
       "      <td>146.83</td>\n",
       "      <td>37169232.0</td>\n",
       "      <td>121.73</td>\n",
       "      <td>8617681.0</td>\n",
       "      <td>43.59</td>\n",
       "      <td>19241563.0</td>\n",
       "      <td>39.9705</td>\n",
       "      <td>24069389.0</td>\n",
       "      <td>...</td>\n",
       "      <td>40.11</td>\n",
       "      <td>1218727.0</td>\n",
       "      <td>73.13</td>\n",
       "      <td>870206.0</td>\n",
       "      <td>77.95</td>\n",
       "      <td>890442.0</td>\n",
       "      <td>83.79</td>\n",
       "      <td>312215.0</td>\n",
       "      <td>33.01</td>\n",
       "      <td>761286.0</td>\n",
       "    </tr>\n",
       "    <tr>\n",
       "      <th>2018-12-25</th>\n",
       "      <td>NaN</td>\n",
       "      <td>NaN</td>\n",
       "      <td>NaN</td>\n",
       "      <td>NaN</td>\n",
       "      <td>NaN</td>\n",
       "      <td>NaN</td>\n",
       "      <td>NaN</td>\n",
       "      <td>NaN</td>\n",
       "      <td>NaN</td>\n",
       "      <td>NaN</td>\n",
       "      <td>...</td>\n",
       "      <td>NaN</td>\n",
       "      <td>NaN</td>\n",
       "      <td>NaN</td>\n",
       "      <td>NaN</td>\n",
       "      <td>NaN</td>\n",
       "      <td>NaN</td>\n",
       "      <td>NaN</td>\n",
       "      <td>NaN</td>\n",
       "      <td>NaN</td>\n",
       "      <td>NaN</td>\n",
       "    </tr>\n",
       "    <tr>\n",
       "      <th>2018-12-26</th>\n",
       "      <td>100.56</td>\n",
       "      <td>51634793.0</td>\n",
       "      <td>157.17</td>\n",
       "      <td>58582544.0</td>\n",
       "      <td>130.23</td>\n",
       "      <td>13499510.0</td>\n",
       "      <td>46.19</td>\n",
       "      <td>28677632.0</td>\n",
       "      <td>42.1437</td>\n",
       "      <td>33335913.0</td>\n",
       "      <td>...</td>\n",
       "      <td>42.60</td>\n",
       "      <td>2000047.0</td>\n",
       "      <td>76.28</td>\n",
       "      <td>1500278.0</td>\n",
       "      <td>82.64</td>\n",
       "      <td>1354390.0</td>\n",
       "      <td>87.13</td>\n",
       "      <td>505563.0</td>\n",
       "      <td>34.14</td>\n",
       "      <td>1508277.0</td>\n",
       "    </tr>\n",
       "    <tr>\n",
       "      <th>2018-12-27</th>\n",
       "      <td>101.18</td>\n",
       "      <td>49498509.0</td>\n",
       "      <td>156.15</td>\n",
       "      <td>53117065.0</td>\n",
       "      <td>132.01</td>\n",
       "      <td>10882979.0</td>\n",
       "      <td>46.36</td>\n",
       "      <td>29970725.0</td>\n",
       "      <td>42.5803</td>\n",
       "      <td>28404105.0</td>\n",
       "      <td>...</td>\n",
       "      <td>43.24</td>\n",
       "      <td>2465610.0</td>\n",
       "      <td>77.22</td>\n",
       "      <td>1657080.0</td>\n",
       "      <td>84.28</td>\n",
       "      <td>1032416.0</td>\n",
       "      <td>89.32</td>\n",
       "      <td>462465.0</td>\n",
       "      <td>34.59</td>\n",
       "      <td>1639673.0</td>\n",
       "    </tr>\n",
       "  </tbody>\n",
       "</table>\n",
       "<p>5 rows × 2099 columns</p>\n",
       "</div>"
      ],
      "text/plain": [
       "ticker     MSFT US Equity             AAPL US Equity             V US Equity  \\\n",
       "field             PX_LAST      VOLUME        PX_LAST      VOLUME     PX_LAST   \n",
       "date                                                                           \n",
       "2018-12-22            NaN         NaN            NaN         NaN         NaN   \n",
       "2018-12-24          94.13  43935192.0         146.83  37169232.0      121.73   \n",
       "2018-12-25            NaN         NaN            NaN         NaN         NaN   \n",
       "2018-12-26         100.56  51634793.0         157.17  58582544.0      130.23   \n",
       "2018-12-27         101.18  49498509.0         156.15  53117065.0      132.01   \n",
       "\n",
       "ticker                 INTC US Equity             CSCO US Equity              \\\n",
       "field           VOLUME        PX_LAST      VOLUME        PX_LAST      VOLUME   \n",
       "date                                                                           \n",
       "2018-12-22         NaN            NaN         NaN            NaN         NaN   \n",
       "2018-12-24   8617681.0          43.59  19241563.0        39.9705  24069389.0   \n",
       "2018-12-25         NaN            NaN         NaN            NaN         NaN   \n",
       "2018-12-26  13499510.0          46.19  28677632.0        42.1437  33335913.0   \n",
       "2018-12-27  10882979.0          46.36  29970725.0        42.5803  28404105.0   \n",
       "\n",
       "ticker        ...     CF US Equity            ALB US Equity             \\\n",
       "field         ...          PX_LAST     VOLUME       PX_LAST     VOLUME   \n",
       "date          ...                                                        \n",
       "2018-12-22    ...              NaN        NaN           NaN        NaN   \n",
       "2018-12-24    ...            40.11  1218727.0         73.13   870206.0   \n",
       "2018-12-25    ...              NaN        NaN           NaN        NaN   \n",
       "2018-12-26    ...            42.60  2000047.0         76.28  1500278.0   \n",
       "2018-12-27    ...            43.24  2465610.0         77.22  1657080.0   \n",
       "\n",
       "ticker     PKG US Equity            AVY US Equity           SEE US Equity  \\\n",
       "field            PX_LAST     VOLUME       PX_LAST    VOLUME       PX_LAST   \n",
       "date                                                                        \n",
       "2018-12-22           NaN        NaN           NaN       NaN           NaN   \n",
       "2018-12-24         77.95   890442.0         83.79  312215.0         33.01   \n",
       "2018-12-25           NaN        NaN           NaN       NaN           NaN   \n",
       "2018-12-26         82.64  1354390.0         87.13  505563.0         34.14   \n",
       "2018-12-27         84.28  1032416.0         89.32  462465.0         34.59   \n",
       "\n",
       "ticker                 \n",
       "field          VOLUME  \n",
       "date                   \n",
       "2018-12-22        NaN  \n",
       "2018-12-24   761286.0  \n",
       "2018-12-25        NaN  \n",
       "2018-12-26  1508277.0  \n",
       "2018-12-27  1639673.0  \n",
       "\n",
       "[5 rows x 2099 columns]"
      ]
     },
     "execution_count": 13,
     "metadata": {},
     "output_type": "execute_result"
    }
   ],
   "source": [
    "df_1.head()"
   ]
  },
  {
   "cell_type": "code",
   "execution_count": 27,
   "metadata": {},
   "outputs": [
    {
     "data": {
      "text/html": [
       "<div>\n",
       "<style scoped>\n",
       "    .dataframe tbody tr th:only-of-type {\n",
       "        vertical-align: middle;\n",
       "    }\n",
       "\n",
       "    .dataframe tbody tr th {\n",
       "        vertical-align: top;\n",
       "    }\n",
       "\n",
       "    .dataframe thead th {\n",
       "        text-align: right;\n",
       "    }\n",
       "</style>\n",
       "<table border=\"1\" class=\"dataframe\">\n",
       "  <thead>\n",
       "    <tr style=\"text-align: right;\">\n",
       "      <th>field</th>\n",
       "      <th>PX_LAST</th>\n",
       "      <th>VOLUME</th>\n",
       "      <th>PX_LAST</th>\n",
       "      <th>VOLUME</th>\n",
       "      <th>PX_LAST</th>\n",
       "      <th>VOLUME</th>\n",
       "      <th>PX_LAST</th>\n",
       "      <th>VOLUME</th>\n",
       "    </tr>\n",
       "    <tr>\n",
       "      <th>date</th>\n",
       "      <th></th>\n",
       "      <th></th>\n",
       "      <th></th>\n",
       "      <th></th>\n",
       "      <th></th>\n",
       "      <th></th>\n",
       "      <th></th>\n",
       "      <th></th>\n",
       "    </tr>\n",
       "  </thead>\n",
       "  <tbody>\n",
       "    <tr>\n",
       "      <th>2018-12-22</th>\n",
       "      <td>NaN</td>\n",
       "      <td>NaN</td>\n",
       "      <td>NaN</td>\n",
       "      <td>NaN</td>\n",
       "      <td>NaN</td>\n",
       "      <td>NaN</td>\n",
       "      <td>NaN</td>\n",
       "      <td>NaN</td>\n",
       "    </tr>\n",
       "    <tr>\n",
       "      <th>2018-12-24</th>\n",
       "      <td>94.13</td>\n",
       "      <td>43935192.0</td>\n",
       "      <td>94.13</td>\n",
       "      <td>43935192.0</td>\n",
       "      <td>94.13</td>\n",
       "      <td>43935192.0</td>\n",
       "      <td>94.13</td>\n",
       "      <td>43935192.0</td>\n",
       "    </tr>\n",
       "    <tr>\n",
       "      <th>2018-12-25</th>\n",
       "      <td>NaN</td>\n",
       "      <td>NaN</td>\n",
       "      <td>NaN</td>\n",
       "      <td>NaN</td>\n",
       "      <td>NaN</td>\n",
       "      <td>NaN</td>\n",
       "      <td>NaN</td>\n",
       "      <td>NaN</td>\n",
       "    </tr>\n",
       "    <tr>\n",
       "      <th>2018-12-26</th>\n",
       "      <td>100.56</td>\n",
       "      <td>51634793.0</td>\n",
       "      <td>100.56</td>\n",
       "      <td>51634793.0</td>\n",
       "      <td>100.56</td>\n",
       "      <td>51634793.0</td>\n",
       "      <td>100.56</td>\n",
       "      <td>51634793.0</td>\n",
       "    </tr>\n",
       "    <tr>\n",
       "      <th>2018-12-27</th>\n",
       "      <td>101.18</td>\n",
       "      <td>49498509.0</td>\n",
       "      <td>101.18</td>\n",
       "      <td>49498509.0</td>\n",
       "      <td>101.18</td>\n",
       "      <td>49498509.0</td>\n",
       "      <td>101.18</td>\n",
       "      <td>49498509.0</td>\n",
       "    </tr>\n",
       "  </tbody>\n",
       "</table>\n",
       "</div>"
      ],
      "text/plain": [
       "field       PX_LAST      VOLUME  PX_LAST      VOLUME  PX_LAST      VOLUME  \\\n",
       "date                                                                        \n",
       "2018-12-22      NaN         NaN      NaN         NaN      NaN         NaN   \n",
       "2018-12-24    94.13  43935192.0    94.13  43935192.0    94.13  43935192.0   \n",
       "2018-12-25      NaN         NaN      NaN         NaN      NaN         NaN   \n",
       "2018-12-26   100.56  51634793.0   100.56  51634793.0   100.56  51634793.0   \n",
       "2018-12-27   101.18  49498509.0   101.18  49498509.0   101.18  49498509.0   \n",
       "\n",
       "field       PX_LAST      VOLUME  \n",
       "date                             \n",
       "2018-12-22      NaN         NaN  \n",
       "2018-12-24    94.13  43935192.0  \n",
       "2018-12-25      NaN         NaN  \n",
       "2018-12-26   100.56  51634793.0  \n",
       "2018-12-27   101.18  49498509.0  "
      ]
     },
     "execution_count": 27,
     "metadata": {},
     "output_type": "execute_result"
    }
   ],
   "source": [
    "df_1.loc[:, 'MSFT US Equity'].head()"
   ]
  },
  {
   "cell_type": "markdown",
   "metadata": {},
   "source": []
  },
  {
   "cell_type": "code",
   "execution_count": null,
   "metadata": {},
   "outputs": [],
   "source": [
    "df = pd.DataFrame()\n",
    "err_code = []\n",
    "tic = time.perf_counter()\n",
    "fields = ['PX_HIGH', 'PX_OPEN', 'PX_LOW', 'PX_CLOSE', 'PX_VOLUME']\n",
    "cols = ['Adj High', 'Adj Open', 'Adj Low', 'Adj Close', 'Adj Volume']\n",
    "start = '20100101'\n",
    "end = '20190110'\n",
    "\n",
    "for i in ticker_list:\n",
    "    try:\n",
    "        temp_df = con.bdh(i, fields, start, end)\n",
    "        temp_df = temp_df.loc[:, i]\n",
    "        temp_df.columns = cols\n",
    "        temp_df = temp_df.assign(code=i)\n",
    "        \n",
    "        try:\n",
    "            df = pd.concat([df, temp_df], axis=0)\n",
    "        except:\n",
    "            print('concat data has problem, ticker code : %s' % i)\n",
    "        \n",
    "    except:\n",
    "        print('retrieve %s data, have something wrong' % i)\n",
    "        err_code.append(i)\n",
    "toc = time.perf_counter()\n",
    "\n",
    "print('retrieve data cost time: %s' % (toc-tic))"
   ]
  }
 ],
 "metadata": {
  "kernelspec": {
   "display_name": "Python 3",
   "language": "python",
   "name": "python3"
  },
  "language_info": {
   "codemirror_mode": {
    "name": "ipython",
    "version": 3
   },
   "file_extension": ".py",
   "mimetype": "text/x-python",
   "name": "python",
   "nbconvert_exporter": "python",
   "pygments_lexer": "ipython3",
   "version": "3.6.5"
  },
  "toc": {
   "base_numbering": 1,
   "nav_menu": {},
   "number_sections": true,
   "sideBar": true,
   "skip_h1_title": false,
   "title_cell": "Table of Contents",
   "title_sidebar": "Contents",
   "toc_cell": false,
   "toc_position": {},
   "toc_section_display": true,
   "toc_window_display": false
  },
  "varInspector": {
   "cols": {
    "lenName": 16,
    "lenType": 16,
    "lenVar": 40
   },
   "kernels_config": {
    "python": {
     "delete_cmd_postfix": "",
     "delete_cmd_prefix": "del ",
     "library": "var_list.py",
     "varRefreshCmd": "print(var_dic_list())"
    },
    "r": {
     "delete_cmd_postfix": ") ",
     "delete_cmd_prefix": "rm(",
     "library": "var_list.r",
     "varRefreshCmd": "cat(var_dic_list()) "
    }
   },
   "types_to_exclude": [
    "module",
    "function",
    "builtin_function_or_method",
    "instance",
    "_Feature"
   ],
   "window_display": false
  }
 },
 "nbformat": 4,
 "nbformat_minor": 2
}
