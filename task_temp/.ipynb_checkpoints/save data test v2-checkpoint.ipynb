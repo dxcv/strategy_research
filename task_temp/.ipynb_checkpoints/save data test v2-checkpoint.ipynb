{
 "cells": [
  {
   "cell_type": "markdown",
   "metadata": {},
   "source": [
    "1. ratio rsi数据已经整合到代码中， 并会进行保存;\n",
    "\n",
    "    请查看下保存结果的表, rsi和rsi_mask是否是你想要的形式;\n",
    "    \n",
    "    比如rsi_mask中, 我将30~70之间的rsi值设为0, 其余的值保留原值;\n",
    "    \n",
    "    我之前设想过, 低于30用一个值代替，比如数字-1或者文字之类的, 这里就是看你的需要了;\n",
    "\n",
    "2. 关于PX_HIGH, PX_LAST这里的`PX`是否是前复权的意思, 但这里的数据，只能是以后复权的形式去进行计算; 所以我需要知道后复权的字段是怎么样的;\n",
    "\n",
    "3. 请运行以下代码并将保存的二进制的结果文件发给我"
   ]
  },
  {
   "cell_type": "code",
   "execution_count": 1,
   "metadata": {},
   "outputs": [],
   "source": [
    "%load_ext autoreload\n",
    "%autoreload 2\n",
    "\n",
    "import numpy as np\n",
    "import pandas as pd\n",
    "import matplotlib.pyplot as plt\n",
    "import talib as ta\n",
    "import datetime, time\n",
    "import pickle\n",
    "\n",
    "import pdblp as pb\n",
    "import blpapi "
   ]
  },
  {
   "cell_type": "code",
   "execution_count": 2,
   "metadata": {},
   "outputs": [],
   "source": [
    "plt.rcParams['figure.figsize'] = [12, 8]\n",
    "plt.rcParams['image.interpolation'] = 'nearest'\n",
    "plt.rcParams['image.cmap'] = 'gray'\n",
    "plt.style.use('ggplot')"
   ]
  },
  {
   "cell_type": "code",
   "execution_count": 3,
   "metadata": {},
   "outputs": [],
   "source": [
    "def save_file(dataframe, name):\n",
    "    \n",
    "    with open(name, 'wb') as f:\n",
    "        pickle.dump(dataframe, f)"
   ]
  },
  {
   "cell_type": "code",
   "execution_count": 4,
   "metadata": {},
   "outputs": [
    {
     "data": {
      "text/plain": [
       "<pdblp.pdblp.BCon at 0x2207210a3c8>"
      ]
     },
     "execution_count": 4,
     "metadata": {},
     "output_type": "execute_result"
    }
   ],
   "source": [
    "con = pb.BCon(port=8194, timeout=5000)\n",
    "con.start()"
   ]
  },
  {
   "cell_type": "code",
   "execution_count": 28,
   "metadata": {},
   "outputs": [],
   "source": [
    "df_code = pd.read_excel('data/etf_pair_code.xlsx', dtype={'symbol':str})"
   ]
  },
  {
   "cell_type": "code",
   "execution_count": 30,
   "metadata": {},
   "outputs": [],
   "source": [
    "ticker_list = (df_code.symbol + ' ' + df_code.region).unique().tolist()"
   ]
  },
  {
   "cell_type": "markdown",
   "metadata": {},
   "source": [
    "### test 1"
   ]
  },
  {
   "cell_type": "code",
   "execution_count": 7,
   "metadata": {},
   "outputs": [
    {
     "name": "stdout",
     "output_type": "stream",
     "text": [
      "retrieve HKD Curncy HKD Curncy data, have something wrong\n",
      "retrieve ita ita data, have something wrong\n",
      "retrieve data cost time: 333.686907963\n"
     ]
    }
   ],
   "source": [
    "df_1 = pd.DataFrame()\n",
    "err_code = []\n",
    "tic = time.perf_counter()\n",
    "for i in ticker_list:\n",
    "    try:\n",
    "        temp_df = con.bdh(i, ['PX_LAST', 'VOLUME'], '20181222', '20190109')\n",
    "        \n",
    "        try:\n",
    "            df_1 = pd.concat([df_1, temp_df], axis=1)\n",
    "        except:\n",
    "            print('concat data has problem, ticker code : %s' % i)\n",
    "        \n",
    "    except:\n",
    "        print('retrieve %s data, have something wrong' % i)\n",
    "        err_code.append(i)\n",
    "toc = time.perf_counter()\n",
    "\n",
    "print('retrieve data cost time: %s' % (toc-tic))"
   ]
  },
  {
   "cell_type": "markdown",
   "metadata": {},
   "source": [
    "如果test 1没有任何retrieve data报错，则只运行test 2, 否则就直接运行test 3"
   ]
  },
  {
   "cell_type": "markdown",
   "metadata": {},
   "source": [
    "### test 2"
   ]
  },
  {
   "cell_type": "code",
   "execution_count": null,
   "metadata": {},
   "outputs": [],
   "source": [
    "tic = time.perf_counter()\n",
    "\n",
    "df_2 = con.bdh(ticker_list, ['PX_LAST', 'VOLUME'], '20181222', '20190109')\n",
    "\n",
    "toc = time.perf_counter()\n",
    "\n",
    "print('retrieve data cost time: %s' % (toc-tic))"
   ]
  },
  {
   "cell_type": "markdown",
   "metadata": {},
   "source": [
    "### test 3"
   ]
  },
  {
   "cell_type": "code",
   "execution_count": 8,
   "metadata": {},
   "outputs": [],
   "source": [
    "df_3 = con.bdh(['AAPL US Equity', 'SPY US Equity'], ['PX_LAST', 'VOLUME'],\n",
    "        '20181222', '20190109')"
   ]
  },
  {
   "cell_type": "markdown",
   "metadata": {},
   "source": [
    "### save file"
   ]
  },
  {
   "cell_type": "markdown",
   "metadata": {},
   "source": [
    "请将保存的文件传给我, 文件名是以file_01 or file_02 or file_03"
   ]
  },
  {
   "cell_type": "code",
   "execution_count": 9,
   "metadata": {},
   "outputs": [
    {
     "name": "stdout",
     "output_type": "stream",
     "text": [
      "df_1 save finish.\n",
      "df_2 doesn't exist.\n",
      "df_3 save finish.\n"
     ]
    }
   ],
   "source": [
    "try:\n",
    "    save_file(df_1, 'file_01')\n",
    "    print(\"df_1 save finish.\")\n",
    "except:\n",
    "    print(\"df_1 doesn't exist.\")\n",
    "    \n",
    "try:\n",
    "    save_file(df_2, 'file_02')\n",
    "    print(\"df_2 save finish.\")\n",
    "except:\n",
    "    print(\"df_2 doesn't exist.\")\n",
    "\n",
    "try:\n",
    "    save_file(df_3, 'file_03')\n",
    "    print(\"df_3 save finish.\")\n",
    "except:\n",
    "    print(\"df_3 doesn't exist.\")"
   ]
  },
  {
   "cell_type": "code",
   "execution_count": 4,
   "metadata": {},
   "outputs": [],
   "source": [
    "with open('file_01', 'rb') as f:\n",
    "    df_1 = pickle.load(f)"
   ]
  },
  {
   "cell_type": "markdown",
   "metadata": {},
   "source": [
    "```python\n",
    "df_1.pivot_table(values=None, index=None, columns=None, aggfunc='mean', fill_value=None, margins=False, dropna=True, margins_name='All')\n",
    "```"
   ]
  },
  {
   "cell_type": "code",
   "execution_count": 54,
   "metadata": {},
   "outputs": [],
   "source": [
    "pd.DataFrame.drop_duplicates?"
   ]
  },
  {
   "cell_type": "code",
   "execution_count": null,
   "metadata": {},
   "outputs": [],
   "source": []
  },
  {
   "cell_type": "code",
   "execution_count": 67,
   "metadata": {},
   "outputs": [
    {
     "data": {
      "text/html": [
       "<div>\n",
       "<style scoped>\n",
       "    .dataframe tbody tr th:only-of-type {\n",
       "        vertical-align: middle;\n",
       "    }\n",
       "\n",
       "    .dataframe tbody tr th {\n",
       "        vertical-align: top;\n",
       "    }\n",
       "\n",
       "    .dataframe thead th {\n",
       "        text-align: right;\n",
       "    }\n",
       "</style>\n",
       "<table border=\"1\" class=\"dataframe\">\n",
       "  <thead>\n",
       "    <tr style=\"text-align: right;\">\n",
       "      <th>field</th>\n",
       "      <th>PX_LAST</th>\n",
       "      <th>VOLUME</th>\n",
       "    </tr>\n",
       "    <tr>\n",
       "      <th>date</th>\n",
       "      <th></th>\n",
       "      <th></th>\n",
       "    </tr>\n",
       "  </thead>\n",
       "  <tbody>\n",
       "    <tr>\n",
       "      <th>2018-12-22</th>\n",
       "      <td>NaN</td>\n",
       "      <td>NaN</td>\n",
       "    </tr>\n",
       "    <tr>\n",
       "      <th>2018-12-24</th>\n",
       "      <td>94.13</td>\n",
       "      <td>43935192.0</td>\n",
       "    </tr>\n",
       "    <tr>\n",
       "      <th>2018-12-25</th>\n",
       "      <td>NaN</td>\n",
       "      <td>NaN</td>\n",
       "    </tr>\n",
       "    <tr>\n",
       "      <th>2018-12-26</th>\n",
       "      <td>100.56</td>\n",
       "      <td>51634793.0</td>\n",
       "    </tr>\n",
       "    <tr>\n",
       "      <th>2018-12-27</th>\n",
       "      <td>101.18</td>\n",
       "      <td>49498509.0</td>\n",
       "    </tr>\n",
       "    <tr>\n",
       "      <th>2018-12-28</th>\n",
       "      <td>100.39</td>\n",
       "      <td>38169312.0</td>\n",
       "    </tr>\n",
       "    <tr>\n",
       "      <th>2018-12-31</th>\n",
       "      <td>101.57</td>\n",
       "      <td>33173765.0</td>\n",
       "    </tr>\n",
       "    <tr>\n",
       "      <th>2019-01-02</th>\n",
       "      <td>101.12</td>\n",
       "      <td>35329345.0</td>\n",
       "    </tr>\n",
       "    <tr>\n",
       "      <th>2019-01-03</th>\n",
       "      <td>97.40</td>\n",
       "      <td>42578410.0</td>\n",
       "    </tr>\n",
       "    <tr>\n",
       "      <th>2019-01-04</th>\n",
       "      <td>101.93</td>\n",
       "      <td>44060620.0</td>\n",
       "    </tr>\n",
       "    <tr>\n",
       "      <th>2019-01-07</th>\n",
       "      <td>102.06</td>\n",
       "      <td>35656136.0</td>\n",
       "    </tr>\n",
       "    <tr>\n",
       "      <th>2019-01-08</th>\n",
       "      <td>102.80</td>\n",
       "      <td>31514415.0</td>\n",
       "    </tr>\n",
       "    <tr>\n",
       "      <th>2019-01-09</th>\n",
       "      <td>104.27</td>\n",
       "      <td>32280840.0</td>\n",
       "    </tr>\n",
       "  </tbody>\n",
       "</table>\n",
       "</div>"
      ],
      "text/plain": [
       "field       PX_LAST      VOLUME\n",
       "date                           \n",
       "2018-12-22      NaN         NaN\n",
       "2018-12-24    94.13  43935192.0\n",
       "2018-12-25      NaN         NaN\n",
       "2018-12-26   100.56  51634793.0\n",
       "2018-12-27   101.18  49498509.0\n",
       "2018-12-28   100.39  38169312.0\n",
       "2018-12-31   101.57  33173765.0\n",
       "2019-01-02   101.12  35329345.0\n",
       "2019-01-03    97.40  42578410.0\n",
       "2019-01-04   101.93  44060620.0\n",
       "2019-01-07   102.06  35656136.0\n",
       "2019-01-08   102.80  31514415.0\n",
       "2019-01-09   104.27  32280840.0"
      ]
     },
     "execution_count": 67,
     "metadata": {},
     "output_type": "execute_result"
    }
   ],
   "source": [
    "df_1['MSFT US Equity'].groupby(level=0,axis=1).first()"
   ]
  },
  {
   "cell_type": "code",
   "execution_count": 33,
   "metadata": {},
   "outputs": [],
   "source": [
    "#df_1.reset_index()"
   ]
  },
  {
   "cell_type": "code",
   "execution_count": 59,
   "metadata": {},
   "outputs": [],
   "source": [
    "#df_1.columns.levels[0]"
   ]
  },
  {
   "cell_type": "code",
   "execution_count": 51,
   "metadata": {},
   "outputs": [],
   "source": [
    "#pd.concat([df_1['036570 KS Equity'].assign(ticker='036570 KS Equity'),df_1['053800 KS Equity'].assign(ticker='053800 KS Equity')]).reset_index().set_index(['date','ticker'])"
   ]
  },
  {
   "cell_type": "code",
   "execution_count": 62,
   "metadata": {},
   "outputs": [],
   "source": [
    "res=pd.concat([df_1[x].assign(ticker=x).groupby(level=0,axis=1).first() for x in df_1.columns.levels[0]],axis=0,sort=False).reset_index().set_index(['date','ticker'])"
   ]
  },
  {
   "cell_type": "code",
   "execution_count": 65,
   "metadata": {},
   "outputs": [
    {
     "data": {
      "text/plain": [
       "FrozenList(['date', 'ticker'])"
      ]
     },
     "execution_count": 65,
     "metadata": {},
     "output_type": "execute_result"
    }
   ],
   "source": [
    "res.index.names"
   ]
  },
  {
   "cell_type": "code",
   "execution_count": 13,
   "metadata": {},
   "outputs": [
    {
     "data": {
      "text/plain": [
       "MultiIndex(levels=[['036570 KS Equity', '053800 KS Equity', '069080 KS Equity', '078340 KS Equity', '095660 KS Equity', '1089 HK Equity', '112040 KS Equity', '1236 HK Equity', '1337 HK Equity', '1347 HK Equity', '1357 HK Equity', '1385 HK Equity', '148 HK Equity', '1686 HK Equity', '1888 HK Equity', '1980 HK Equity', '2018 HK Equity', '2280 HK Equity', '2326 JP Equity', '2342 HK Equity', '2353 TT Equity', '2357 TT Equity', '2369 HK Equity', '2377 TT Equity', '2382 HK Equity', '2432 JP Equity', '251270 KS Equity', '263750 KS Equity', '2662 HK Equity', '268 HK Equity', '285 HK Equity', '31 HK Equity', '327 HK Equity', '3336 HK Equity', '3393 HK Equity', '3396 HK Equity', '354 HK Equity', '3546 TT Equity', '3632 JP Equity', '3635 JP Equity', '3659 JP Equity', '3692 JP Equity', '3765 JP Equity', '3800 HK Equity', '3810 JP Equity', '3888 HK Equity', '3903 JP Equity', '3969 HK Equity', '434 HK Equity', '4704 JP Equity', '522 HK Equity', '582 HK Equity', '6088 HK Equity', '61 HK Equity', '6111 TT Equity', '6180 TT Equity', '633 HK Equity', '6460 JP Equity', '6869 HK Equity', '696 HK Equity', '698 HK Equity', '700 HK Equity', '732 HK Equity', '763 HK Equity', '777 HK Equity', '7832 JP Equity', '7844 JP Equity', '7974 JP Equity', '799 HK Equity', '8083 HK Equity', '818 HK Equity', '8227 HK Equity', '8279 HK Equity', '85 HK Equity', '861 HK Equity', '862 HK Equity', '877 HK Equity', '885 HK Equity', '968 HK Equity', '9684 JP Equity', '9697 JP Equity', '9766 JP Equity', '981 HK Equity', '992 HK Equity', 'A US Equity', 'AABA US Equity', 'AAP US Equity', 'AAPL US Equity', 'AAXN US Equity', 'ABBV US Equity', 'ABC US Equity', 'ABMD US Equity', 'ABT US Equity', 'ABUS US Equity', 'ACAD US Equity', 'ACHN US Equity', 'ACN US Equity', 'ACOR US Equity', 'ACRS US Equity', 'ADAP US Equity', 'ADBE US Equity', 'ADI US Equity', 'ADM US Equity', 'ADMS US Equity', 'ADP US Equity', 'ADRO US Equity', 'ADS US Equity', 'ADSK US Equity', 'AERI US Equity', 'AFX GR Equity', 'AGIO US Equity', 'AGN US Equity', 'AIMT US Equity', 'AIR US Equity', 'AJRD US Equity', 'AKAM US Equity', 'AKAO US Equity', 'AKBA US Equity', 'AKCA US Equity', 'ALB US Equity', 'ALDR US Equity', 'ALGN US Equity', 'ALKS US Equity', 'ALNY US Equity', 'ALRM US Equity', 'ALTR US Equity', 'ALXN US Equity', 'AMAG US Equity', 'AMAT US Equity', 'AMD US Equity', 'AMGN US Equity', 'AMGP US Equity', 'AMPH US Equity', 'AMRN US Equity', 'AMTD US Equity', 'AMZN US Equity', 'ANAB US Equity', 'ANET US Equity', 'ANIP US Equity', 'ANSS US Equity', 'ANTM US Equity', 'AOBC US Equity', 'APA US Equity', 'APC US Equity', 'APD US Equity', 'APH US Equity', 'APPF US Equity', 'APTI US Equity', 'APTV US Equity', 'APY US Equity', 'AR US Equity', 'ARCH US Equity', 'ARDX US Equity', 'ARNA US Equity', 'ARNC US Equity', 'AROC US Equity', 'ARRY US Equity', 'ARWR US Equity', 'ASML US Equity', 'ASND US Equity', 'ASRT US Equity', 'ATEN US Equity', 'ATHM US Equity', 'ATNX US Equity', 'ATRA US Equity', 'ATRO US Equity', 'ATVI US Equity', 'AUP CN Equity', 'AVAV US Equity', 'AVDL US Equity', 'AVGO US Equity', 'AVY US Equity', 'AXON US Equity', 'AZO US Equity', 'BA US Equity', 'BA/ LN Equity', 'BABA US Equity', 'BAH US Equity', 'BAND US Equity', 'BAS US Equity', 'BAX US Equity', 'BBY US Equity', 'BCEI US Equity', 'BCOR US Equity', 'BCOV US Equity', 'BCRX US Equity', 'BDX US Equity', 'BF/B US Equity', 'BGCP US Equity', 'BGNE US Equity', 'BHGE US Equity', 'BIDU US Equity', 'BIIB US Equity', 'BITA US Equity', 'BKNG US Equity', 'BLCM US Equity', 'BLL US Equity', 'BLUE US Equity', 'BMRN US Equity', 'BMY US Equity', 'BNFT US Equity', 'BOLD US Equity', 'BPMC US Equity', 'BR US Equity', 'BRIXX US Equity', 'BRS US Equity', 'BSX US Equity', 'BTU US Equity', 'BWA US Equity', 'BWXT US Equity', 'BZUN US Equity', 'CACI US Equity', 'CAG US Equity', 'CAH US Equity', 'CALA US Equity', 'CARA US Equity', 'CARB US Equity', 'CBLK US Equity', 'CBOE US Equity', 'CBPO US Equity', 'CCL US Equity', 'CCOI US Equity', 'CCXI US Equity', 'CDEV US Equity', 'CDNS US Equity', 'CEIX US Equity', 'CELG US Equity', 'CERN US Equity', 'CERS US Equity', 'CF US Equity', 'CHD US Equity', 'CHK US Equity', 'CHKP US Equity', 'CHRS US Equity', 'CI US Equity', 'CJ US Equity', 'CKH US Equity', 'CL US Equity', 'CLB US Equity', 'CLDX US Equity', 'CLLS US Equity', 'CLNE US Equity', 'CLR US Equity', 'CLVS US Equity', 'CLX US Equity', 'CLXT US Equity', 'CMCM US Equity', 'CME US Equity', 'CMG US Equity', 'CMPR US Equity', 'CMRX US Equity', 'CNC US Equity', 'CNCE US Equity', 'CNX US Equity', 'COG US Equity', 'COLL US Equity', 'COO US Equity', 'COP US Equity', 'COST US Equity', 'COUP US Equity', 'COWN US Equity', 'CPB US Equity', 'CPE US Equity', 'CRBP US Equity', 'CRC US Equity', 'CREE US Equity', 'CRIS US Equity', 'CRM US Equity', 'CRSP US Equity', 'CRTO US Equity', 'CRVS US Equity', 'CRZO US Equity', 'CSCO US Equity', 'CSGP US Equity', 'CSOD US Equity', 'CTMX US Equity', 'CTRP US Equity', 'CTSH US Equity', 'CTXS US Equity', 'CUB US Equity', 'CVI US Equity', 'CVIA US Equity', 'CVLT US Equity', 'CVS US Equity', 'CVX US Equity', 'CW US Equity', 'CXO US Equity', 'CY US Equity', 'CYBR US Equity', 'CYOU US Equity', 'CYTK US Equity', 'DATA US Equity', 'DBVT US Equity', 'DERM US Equity', 'DG US Equity', 'DGX US Equity', 'DHI US Equity', 'DHIL US Equity', 'DHR US Equity', 'DK US Equity', 'DLTR US Equity', 'DNR US Equity', 'DO US Equity', 'DOVA US Equity', 'DQ US Equity', 'DRI US Equity', 'DRQ US Equity', 'DVA US Equity', 'DVN US Equity', 'DWDP US Equity', 'DXC US Equity', 'EA US Equity', 'EBAY US Equity', 'ECL US Equity', 'ECR US Equity', 'EDIT US Equity', 'EGAN US Equity', 'EGL US Equity', 'EGOV US Equity', 'EGRX US Equity', 'EIGI US Equity', 'EL US Equity', 'EMN US Equity', 'ENDP US Equity', 'ENLC US Equity', 'ENTA US Equity', 'ENTG US Equity', 'ENV US Equity', 'EOG US Equity', 'EPAY US Equity', 'EPZM US Equity', 'EQIX US Equity', 'EQT US Equity', 'ESL US Equity', 'ESPR US Equity', 'ESV US Equity', 'ETFC US Equity', 'ETRN US Equity', 'ETSY US Equity', 'EVBG US Equity', 'EVR US Equity', 'EW US Equity', 'EXEL US Equity', 'EXPE US Equity', 'EXTN US Equity', 'F US Equity', 'FANG US Equity', 'FB US Equity', 'FCX US Equity', 'FDEV LN Equity', 'FENG US Equity', 'FET US Equity', 'FEYE US Equity', 'FFIV US Equity', 'FGEN US Equity', 'FI US Equity', 'FICO US Equity', 'FIS US Equity', 'FISV US Equity', 'FIVN US Equity', 'FL US Equity', 'FLIR US Equity', 'FLT US Equity', 'FLWS US Equity', 'FLXN US Equity', 'FMC US Equity', 'FOLD US Equity', 'FOMX US Equity', 'FPRX US Equity', 'FRAC US Equity', 'FSC1V FH Equity', 'FSCT US Equity', 'FTI US Equity', 'FTNT US Equity', 'FTSI US Equity', 'FUNCOM NO Equity', 'G5EN SS Equity', 'GBT US Equity', 'GD US Equity', 'GDDY US Equity', 'GDS US Equity', 'GERN US Equity', 'GHDX US Equity', 'GHL US Equity', 'GILD US Equity', 'GIS US Equity', 'GLPG US Equity', 'GLUU US Equity', 'GLW US Equity', 'GLYC US Equity', 'GM US Equity', 'GME US Equity', 'GOGO US Equity', 'GOOG US Equity', 'GOOGL US Equity', 'GPC US Equity', 'GPN US Equity', 'GPOR US Equity', 'GPRE US Equity', 'GPS US Equity', 'GRFS US Equity', 'GRMN US Equity', 'GRPN US Equity', 'GRVY US Equity', 'GS US Equity', 'GT US Equity', 'GTE US Equity', 'GTHX US Equity', 'GTO NA Equity', 'GVMXX US Equity', 'GWPH US Equity', 'HAL US Equity', 'HALO US Equity', 'HAS US Equity', 'HBI US Equity', 'HCA US Equity', 'HD US Equity', 'HDP US Equity', 'HEAR US Equity', 'HEI US Equity', 'HEI/A US Equity', 'HES US Equity', 'HFC US Equity', 'HII US Equity', 'HK US Equity', 'HLI US Equity', 'HLT US Equity', 'HLX US Equity', 'HOG US Equity', 'HOLI US Equity', 'HOLX US Equity', 'HP US Equity', 'HPE US Equity', 'HPQ US Equity', 'HPR US Equity', 'HRB US Equity', 'HRL US Equity', 'HRS US Equity', 'HSIC US Equity', 'HSTM US Equity', 'HSY US Equity', 'HUBS US Equity', 'HUM US Equity', 'HXL US Equity', 'HZNP US Equity', 'IAC US Equity', 'IBKR US Equity', 'IBM US Equity', 'ICE US Equity', 'ICPT US Equity', 'IDCC US Equity', 'IDTI US Equity', 'IDXX US Equity', 'IFF US Equity', 'ILMN US Equity', 'IMGN US Equity', 'IMMR US Equity', 'IMMU US Equity', 'IMPV US Equity', 'INAP US Equity', 'INCY US Equity', 'INO US Equity', 'INSM US Equity', 'INSW US Equity', 'INSY US Equity', 'INT US Equity', 'INTC US Equity', 'INTL US Equity', 'INTU US Equity', 'INVA US Equity', 'IONS US Equity', 'IOVA US Equity', 'IP US Equity', 'IPGP US Equity', 'IQV US Equity', 'IRWD US Equity', 'ISRG US Equity', 'IT US Equity', 'ITCI US Equity', 'ITG US Equity', 'IUGXX US Equity', 'JAG US Equity', 'JAZZ US Equity', 'JCOM US Equity', 'JD US Equity', 'JKHY US Equity', 'JKS US Equity', 'JNCE US Equity', 'JNJ US Equity', 'JNPR US Equity', 'JONE US Equity', 'JWN US Equity', 'K US Equity', 'KALA US Equity', 'KEG US Equity', 'KEYS US Equity', 'KEYW US Equity', 'KHC US Equity', 'KLAC US Equity', 'KLXE US Equity', 'KMB US Equity', 'KMI US Equity', 'KMX US Equity', 'KO US Equity', 'KOPN US Equity', 'KOS US Equity', 'KPTI US Equity', 'KR US Equity', 'KSS US Equity', 'KTOS US Equity', 'KURA US Equity', 'LAZ US Equity', 'LB US Equity', 'LBRDA US Equity', 'LDOS US Equity', 'LE US Equity', 'LEG US Equity', 'LEN US Equity', 'LEXEA US Equity', 'LGND US Equity', 'LH US Equity', 'LIN US Equity', 'LKQ US Equity', 'LLL US Equity', 'LLNW US Equity', 'LLY US Equity', 'LMNX US Equity', 'LMT US Equity', 'LNG US Equity', 'LOGI US Equity', 'LOGM US Equity', 'LOW US Equity', 'LOXO US Equity', 'LPI US Equity', 'LPLA US Equity', 'LPSN US Equity', 'LQDT US Equity', 'LRCX US Equity', 'LTRPA US Equity', 'LW US Equity', 'LXRX US Equity', 'LYB US Equity', 'M US Equity', 'MA US Equity', 'MANH US Equity', 'MANT US Equity', 'MAR US Equity', 'MARK US Equity', 'MAT US Equity', 'MB US Equity', 'MC US Equity', 'MCD US Equity', 'MCHP US Equity', 'MCK US Equity', 'MCRB US Equity', 'MDCO US Equity', 'MDLZ US Equity', 'MDR US Equity', 'MDT US Equity', 'MEDP US Equity', 'MELI US Equity', 'MGM US Equity', 'MGNX US Equity', 'MHK US Equity', 'MIME US Equity', 'MKC US Equity', 'MKSI US Equity', 'MKTX US Equity', 'MLM US Equity', 'MLNX US Equity', 'MMYT US Equity', 'MNKD US Equity', 'MNST US Equity', 'MNTA US Equity', 'MO US Equity', 'MOBL US Equity', 'MOG/A US Equity', 'MOMO US Equity', 'MOS US Equity', 'MPC US Equity', 'MPO US Equity', 'MPWR US Equity', 'MRCY US Equity', 'MRK US Equity', 'MRNS US Equity', 'MRO US Equity', 'MRSN US Equity', 'MRVL US Equity', 'MS US Equity', 'MSFT US Equity', 'MSI US Equity', 'MTCH US Equity', 'MTD US Equity', 'MTDR US Equity', 'MTGB SS Equity', 'MTRX US Equity', 'MU US Equity', 'MUR US Equity', 'MXIM US Equity', 'MYGN US Equity', 'MYL US Equity', 'MYOK US Equity', 'NBIX US Equity', 'NBL US Equity', 'NBR US Equity', 'NBRV US Equity', 'NCC LN Equity', 'NCLH US Equity', 'NCSM US Equity', 'NDAQ US Equity', 'NE US Equity', 'NEM US Equity', 'NEOS US Equity', 'NERV US Equity', 'NEWR US Equity', 'NFLX US Equity', 'NFX US Equity', 'NH US Equity', 'NINE US Equity', 'NK US Equity', 'NKE US Equity', 'NKTR US Equity', 'NLNK US Equity', 'NOC US Equity', 'NOD NO Equity', 'NOG US Equity', 'NOV US Equity', 'NPK US Equity', 'NR US Equity', 'NSTG US Equity', 'NTAP US Equity', 'NTCT US Equity', 'NTES US Equity', 'NTLA US Equity', 'NTNX US Equity', 'NTRI US Equity', 'NUE US Equity', 'NVAX US Equity', 'NVCR US Equity', 'NVDA US Equity', 'NWL US Equity', 'NXGN US Equity', 'NXPI US Equity', 'OAS US Equity', 'OII US Equity', 'OIS US Equity', 'OKE US Equity', 'OKTA US Equity', 'OLED US Equity', 'OMER US Equity', 'ON US Equity', 'ONCE US Equity', 'OPK US Equity', 'ORCL US Equity', 'ORLY US Equity', 'OSPN US Equity', 'OSTK US Equity', 'OTEX CN Equity', 'OXY US Equity', 'P US Equity', 'PACB US Equity', 'PAGP US Equity', 'PANW US Equity', 'PARR US Equity', 'PAYX US Equity', 'PBF US Equity', 'PBYI US Equity', 'PCRX US Equity', 'PDCE US Equity', 'PDLI US Equity', 'PDX SS Equity', 'PE US Equity', 'PEP US Equity', 'PETQ US Equity', 'PETS US Equity', 'PETX US Equity', 'PFE US Equity', 'PFPT US Equity', 'PG US Equity', 'PGNX US Equity', 'PHM US Equity', 'PJC US Equity', 'PJT US Equity', 'PKG US Equity', 'PKI US Equity', 'PM US Equity', 'PPG US Equity', 'PRAH US Equity', 'PRGO US Equity', 'PRTA US Equity', 'PRTK US Equity', 'PSX US Equity', 'PTCT US Equity', 'PTEN US Equity', 'PTLA US Equity', 'PUMP US Equity', 'PVAC US Equity', 'PVH US Equity', 'PXD US Equity', 'PYPL US Equity', 'QCOM US Equity', 'QEP US Equity', 'QLYS US Equity', 'QNST US Equity', 'QQ/ LN Equity', 'QRVO US Equity', 'QURE US Equity', 'RARE US Equity', 'RARX US Equity', 'RCL US Equity', 'RDC US Equity', 'RDUS US Equity', 'RDWR US Equity', 'REGI US Equity', 'REGN US Equity', 'REI US Equity', 'REN US Equity', 'RENN US Equity', 'RES US Equity', 'RETA US Equity', 'REX US Equity', 'RGEN US Equity', 'RGNX US Equity', 'RGR US Equity', 'RHT US Equity', 'RIG US Equity', 'RIGL US Equity', 'RJF US Equity', 'RL US Equity', 'RMD US Equity', 'RNET US Equity', 'ROST US Equity', 'ROVIO FH Equity', 'RPD US Equity', 'RRC US Equity', 'RTN US Equity', 'RTRX US Equity', 'RVNC US Equity', 'SABR US Equity', 'SAGE US Equity', 'SAIC US Equity', 'SAIL US Equity', 'SAP US Equity', 'SBBP US Equity', 'SBOW US Equity', 'SBUX US Equity', 'SCHW US Equity', 'SCWX US Equity', 'SD US Equity', 'SE US Equity', 'SEE US Equity', 'SEMG US Equity', 'SEND US Equity', 'SF SS Equity', 'SF US Equity', 'SFLY US Equity', 'SFUN US Equity', 'SGEN US Equity', 'SGMO US Equity', 'SGYP US Equity', 'SHPG US Equity', 'SHW US Equity', 'SINA US Equity', 'SJM US Equity', 'SLAB US Equity', 'SLB US Equity', 'SLCA US Equity', 'SM US Equity', 'SMHI US Equity', 'SN US Equity', 'SNAP US Equity', 'SND US Equity', 'SNDX US Equity', 'SNE US Equity', 'SNNA US Equity', 'SNPS US Equity', 'SOGO US Equity', 'SOHU US Equity', 'SOPH LN Equity', 'SPLK US Equity', 'SPN US Equity', 'SPPI US Equity', 'SPR US Equity', 'SPSC US Equity', 'SRCI US Equity', 'SRPT US Equity', 'SSTK US Equity', 'STM US Equity', 'STMP US Equity', 'STX US Equity', 'STZ US Equity', 'SUPN US Equity', 'SVRA US Equity', 'SWCH US Equity', 'SWKS US Equity', 'SWN US Equity', 'SYK US Equity', 'SYMC US Equity', 'SYNH US Equity', 'SYY US Equity', 'TALO US Equity', 'TAP US Equity', 'TBPH US Equity', 'TCX US Equity', 'TDC US Equity', 'TDG US Equity', 'TDW US Equity', 'TDY US Equity', 'TECH US Equity', 'TEL US Equity', 'TELL US Equity', 'TENB US Equity', 'TER US Equity', 'TGE US Equity', 'TGI US Equity', 'TGT US Equity', 'THQNB SS Equity', 'TIF US Equity', 'TJX US Equity', 'TLGT US Equity', 'TMO US Equity', 'TOBII SS Equity', 'TOCA US Equity', 'TPL US Equity', 'TPR US Equity', 'TRGP US Equity', 'TRIP US Equity', 'TRPXX US Equity', 'TRUE US Equity', 'TSCO US Equity', 'TSM US Equity', 'TSN US Equity', 'TSRO US Equity', 'TSS US Equity', 'TTD US Equity', 'TTI US Equity', 'TTPH US Equity', 'TTWO US Equity', 'TUSK US Equity', 'TWLO US Equity', 'TWOU US Equity', 'TWTR US Equity', 'TXMD US Equity', 'TXN US Equity', 'TXT US Equity', 'UA US Equity', 'UAA US Equity', 'UBI FP Equity', 'UHS US Equity', 'ULE LN Equity', 'ULTA US Equity', 'UNH US Equity', 'UNT US Equity', 'UPL US Equity', 'UTHR US Equity', 'UTX US Equity', 'V US Equity', 'VAR US Equity', 'VCYT US Equity', 'VERI US Equity', 'VFC US Equity', 'VIRT US Equity', 'VLO US Equity', 'VMC US Equity', 'VMW US Equity', 'VNDA US Equity', 'VNET US Equity', 'VRNS US Equity', 'VRNT US Equity', 'VRSN US Equity', 'VRTX US Equity', 'VTL US Equity', 'VUZI US Equity', 'VYGR US Equity', 'WAIR US Equity', 'WAT US Equity', 'WB US Equity', 'WBA US Equity', 'WBAI US Equity', 'WCG US Equity', 'WDC US Equity', 'WFT US Equity', 'WHR US Equity', 'WIFI US Equity', 'WIT US Equity', 'WIX US Equity', 'WLL US Equity', 'WMB US Equity', 'WMT US Equity', 'WPX US Equity', 'WRD US Equity', 'WRK US Equity', 'WTI US Equity', 'WU US Equity', 'WUBA US Equity', 'WYNN US Equity', 'XEC US Equity', 'XLNX US Equity', 'XLRN US Equity', 'XNCR US Equity', 'XNET US Equity', 'XOG US Equity', 'XOM US Equity', 'XRAY US Equity', 'XRX US Equity', 'YNDX US Equity', 'YRD US Equity', 'YUM US Equity', 'YY US Equity', 'Z US Equity', 'ZBH US Equity', 'ZGNX US Equity', 'ZIXI US Equity', 'ZNGA US Equity', 'ZS US Equity', 'ZTS US Equity'], ['PX_LAST', 'VOLUME']],\n",
       "           labels=[[589, 589, 87, 87, 856, 856, 466, 466, 272, 272, 543, 543, 653, 653, 170, 170, 100, 100, 447, 447, 699, 699, 267, 267, 96, 96, 843, 843, 639, 639, 700, 700, 104, 104, 468, 468, 596, 596, 277, 277, 433, 433, 357, 357, 101, 101, 128, 128, 724, 724, 358, 358, 107, 107, 809, 809, 388, 388, 145, 145, 897, 897, 537, 537, 664, 664, 590, 590, 432, 432, 552, 552, 129, 129, 869, 869, 396, 396, 362, 362, 310, 310, 630, 630, 598, 598, 498, 498, 278, 278, 833, 833, 797, 797, 775, 775, 139, 139, 794, 794, 477, 477, 224, 224, 495, 495, 880, 880, 203, 203, 115, 115, 137, 137, 485, 485, 353, 353, 789, 789, 373, 373, 489, 489, 893, 893, 705, 705, 106, 106, 361, 361, 904, 904, 473, 473, 194, 194, 393, 393, 347, 347, 135, 135, 615, 615, 85, 85, 331, 331, 312, 312, 191, 191, 841, 841, 484, 484, 869, 869, 632, 632, 343, 343, 137, 137, 560, 560, 445, 445, 276, 276, 273, 273, 115, 115, 379, 379, 905, 905, 826, 826, 338, 338, 647, 647, 770, 770, 634, 634, 162, 162, 614, 614, 834, 834, 762, 762, 530, 530, 885, 885, 876, 876, 577, 577, 483, 483, 259, 259, 249, 249, 840, 840, 908, 908, 274, 274, 788, 788, 591, 591, 124, 124, 359, 359, 659, 659, 327, 327, 518, 518, 221, 221, 564, 564, 909, 909, 402, 402, 147, 147, 200, 200, 269, 269, 749, 749, 570, 570, 210, 210, 783, 783, 755, 755, 635, 635, 183, 183, 538, 538, 417, 417, 786, 786, 380, 380, 535, 535, 549, 549, 320, 320, 828, 828, 146, 146, 883, 883, 216, 216, 777, 777, 318, 318, 703, 703, 803, 803, 866, 866, 776, 776, 674, 674, 480, 515, 515, 363, 363, 656, 656, 793, 793, 392, 392, 524, 524, 184, 184, 878, 878, 536, 536, 316, 316, 900, 900, 859, 859, 459, 459, 547, 547, 61, 61, 176, 176, 632, 632, 191, 191, 894, 894, 162, 162, 83, 83, 24, 24, 876, 876, 762, 762, 577, 577, 82, 82, 908, 908, 16, 16, 50, 50, 59, 59, 12, 12, 29, 29, 35, 35, 45, 45, 63, 63, 380, 380, 36, 36, 47, 47, 78, 78, 429, 429, 210, 210, 9, 9, 30, 30, 43, 43, 193, 193, 866, 866, 14, 14, 52, 52, 777, 777, 69, 69, 51, 51, 74, 74, 58, 58, 10, 10, 28, 28, 64, 64, 60, 60, 13, 13, 5, 5, 32, 32, 289, 289, 17, 17, 486, 486, 11, 11, 62, 62, 756, 756, 246, 246, 15, 15, 70, 70, 33, 33, 34, 34, 72, 72, 304, 304, 19, 19, 76, 76, 906, 906, 900, 900, 31, 31, 71, 71, 75, 75, 350, 350, 48, 48, 73, 73, 56, 56, 22, 717, 717, 77, 77, 53, 53, 7, 387, 387, 0, 0, 289, 289, 837, 837, 81, 81, 391, 391, 68, 68, 913, 913, 129, 129, 80, 80, 27, 27, 40, 40, 67, 67, 38, 38, 847, 847, 26, 26, 589, 589, 773, 773, 3, 3, 166, 166, 23, 23, 2, 2, 393, 393, 79, 79, 816, 816, 311, 311, 109, 109, 466, 466, 87, 87, 632, 632, 65, 65, 39, 39, 700, 700, 529, 529, 670, 670, 25, 25, 6, 6, 57, 57, 64, 64, 594, 594, 61, 61, 21, 21, 42, 42, 639, 639, 20, 20, 403, 403, 55, 55, 762, 762, 8, 8, 908, 908, 66, 66, 246, 246, 753, 753, 777, 777, 418, 418, 872, 872, 376, 376, 54, 54, 349, 349, 821, 821, 37, 37, 624, 624, 577, 577, 45, 45, 732, 732, 375, 375, 827, 46, 46, 4, 4, 44, 44, 456, 456, 504, 504, 278, 278, 468, 468, 589, 589, 513, 513, 311, 311, 837, 837, 166, 166, 100, 100, 387, 387, 124, 124, 913, 913, 439, 439, 291, 291, 288, 288, 450, 450, 259, 259, 356, 356, 839, 839, 752, 752, 783, 783, 441, 441, 178, 178, 641, 641, 544, 544, 834, 834, 183, 183, 738, 738, 125, 125, 329, 329, 747, 747, 480, 864, 864, 724, 724, 272, 272, 267, 267, 489, 489, 653, 653, 353, 353, 135, 135, 394, 394, 331, 331, 804, 804, 657, 657, 742, 742, 630, 630, 115, 115, 913, 913, 615, 615, 347, 347, 589, 589, 432, 432, 87, 87, 447, 447, 884, 884, 232, 232, 468, 468, 631, 631, 100, 100, 483, 483, 166, 166, 272, 272, 458, 458, 352, 352, 797, 797, 489, 489, 288, 288, 49, 49, 232, 232, 115, 115, 779, 779, 740, 740, 702, 702, 373, 373, 677, 677, 282, 282, 662, 662, 211, 211, 811, 811, 741, 741, 778, 778, 216, 216, 18, 18, 869, 869, 914, 914, 647, 647, 747, 747, 631, 631, 408, 408, 868, 868, 177, 177, 353, 353, 704, 704, 733, 733, 339, 339, 712, 712, 545, 545, 655, 655, 514, 514, 564, 564, 175, 175, 849, 849, 41, 41, 867, 867, 371, 371, 217, 217, 496, 496, 912, 912, 1, 1, 161, 161, 575, 575, 606, 606, 827, 370, 370, 170, 170, 466, 466, 843, 843, 700, 700, 639, 639, 897, 897, 101, 101, 830, 830, 642, 642, 129, 129, 537, 537, 128, 128, 552, 552, 596, 596, 598, 598, 498, 498, 794, 794, 158, 158, 587, 587, 705, 705, 650, 650, 451, 451, 812, 812, 581, 581, 569, 569, 287, 287, 265, 265, 326, 326, 764, 764, 566, 566, 466, 466, 830, 830, 170, 170, 158, 158, 843, 843, 101, 101, 639, 639, 537, 537, 128, 128, 642, 642, 596, 596, 897, 897, 700, 700, 129, 129, 552, 552, 498, 498, 598, 598, 794, 794, 224, 224, 787, 787, 587, 587, 650, 650, 705, 705, 812, 812, 648, 648, 488, 488, 676, 676, 851, 851, 583, 583, 89, 89, 558, 558, 130, 130, 92, 92, 525, 525, 820, 820, 283, 283, 384, 384, 199, 199, 140, 140, 192, 192, 298, 298, 186, 186, 476, 476, 796, 796, 234, 234, 226, 226, 111, 111, 206, 206, 454, 454, 870, 870, 442, 442, 915, 915, 415, 415, 341, 341, 180, 180, 714, 714, 251, 251, 126, 126, 553, 553, 910, 910, 84, 84, 474, 474, 227, 227, 452, 452, 729, 729, 121, 121, 600, 600, 213, 213, 592, 592, 875, 875, 520, 520, 91, 91, 90, 90, 438, 438, 256, 256, 879, 879, 295, 295, 460, 460, 409, 430, 430, 857, 857, 848, 848, 684, 684, 903, 903, 307, 307, 688, 688, 621, 621, 130, 130, 192, 192, 384, 384, 454, 454, 226, 226, 714, 714, 870, 870, 126, 126, 198, 198, 600, 600, 460, 460, 760, 760, 757, 757, 482, 482, 785, 785, 123, 123, 470, 470, 602, 602, 687, 687, 621, 621, 342, 342, 808, 808, 197, 197, 122, 122, 189, 189, 739, 739, 854, 854, 133, 133, 798, 798, 532, 532, 832, 832, 457, 457, 156, 156, 354, 354, 444, 444, 638, 638, 449, 449, 410, 410, 110, 110, 519, 519, 219, 219, 118, 118, 400, 400, 159, 159, 721, 721, 382, 382, 202, 202, 707, 707, 323, 323, 599, 599, 94, 94, 377, 377, 412, 412, 601, 601, 898, 898, 153, 153, 899, 899, 366, 366, 559, 559, 164, 164, 791, 791, 667, 667, 652, 652, 136, 136, 911, 911, 108, 108, 469, 469, 692, 692, 475, 475, 722, 722, 268, 268, 651, 651, 802, 802, 325, 325, 719, 719, 555, 555, 865, 865, 315, 315, 112, 112, 334, 334, 157, 157, 694, 694, 781, 781, 758, 758, 471, 471, 526, 526, 407, 407, 462, 462, 660, 660, 386, 386, 243, 243, 706, 706, 201, 201, 736, 736, 132, 132, 637, 637, 842, 842, 185, 185, 573, 573, 204, 666, 666, 163, 163, 455, 455, 540, 540, 97, 97, 120, 120, 228, 228, 478, 478, 737, 737, 711, 711, 633, 633, 275, 275, 319, 319, 233, 233, 649, 649, 673, 673, 138, 138, 255, 255, 506, 506, 127, 127, 562, 562, 215, 215, 510, 510, 708, 708, 167, 167, 222, 222, 364, 364, 629, 629, 858, 858, 689, 689, 330, 330, 726, 726, 389, 389, 461, 461, 117, 117, 95, 95, 290, 290, 669, 669, 303, 303, 293, 293, 292, 292, 679, 679, 263, 263, 464, 464, 368, 368, 99, 99, 873, 873, 245, 245, 252, 252, 613, 613, 240, 240, 675, 675, 98, 98, 792, 792, 554, 554, 160, 160, 571, 571, 103, 103, 381, 381, 93, 93, 367, 367, 105, 105, 743, 743, 690, 690, 822, 822, 493, 493, 214, 214, 195, 195, 250, 250, 270, 270, 584, 584, 152, 152, 605, 605, 172, 172, 487, 487, 772, 772, 586, 586, 619, 619, 169, 169, 819, 819, 836, 836, 116, 116, 774, 774, 617, 617, 612, 612, 622, 622, 239, 239, 266, 266, 759, 759, 871, 871, 174, 174, 855, 855, 527, 527, 735, 735, 378, 378, 623, 623, 805, 805, 437, 437, 523, 523, 844, 844, 154, 154, 423, 423, 782, 782, 807, 807, 333, 333, 443, 443, 420, 420, 285, 285, 419, 419, 209, 209, 114, 114, 576, 576, 582, 582, 88, 88, 279, 279, 509, 509, 113, 113, 168, 168, 723, 723, 165, 165, 627, 627, 141, 141, 317, 317, 874, 874, 814, 814, 678, 678, 503, 503, 672, 672, 888, 888, 685, 685, 877, 877, 556, 556, 258, 258, 574, 574, 237, 237, 500, 500, 799, 799, 790, 790, 321, 321, 497, 497, 102, 102, 507, 507, 385, 385, 572, 572, 244, 244, 565, 565, 230, 230, 831, 831, 492, 492, 440, 440, 212, 212, 436, 436, 801, 801, 763, 763, 539, 539, 187, 187, 261, 261, 135, 135, 416, 416, 551, 551, 620, 620, 194, 194, 745, 745, 531, 531, 818, 818, 390, 390, 815, 815, 345, 345, 546, 546, 731, 731, 907, 907, 654, 654, 294, 294, 312, 312, 860, 860, 220, 220, 173, 173, 426, 426, 300, 300, 709, 709, 148, 148, 395, 395, 343, 343, 850, 850, 561, 561, 181, 181, 305, 305, 296, 296, 86, 86, 517, 517, 248, 248, 502, 502, 829, 829, 607, 607, 895, 895, 508, 508, 824, 824, 413, 413, 640, 640, 542, 542, 817, 817, 522, 522, 401, 401, 563, 563, 882, 882, 208, 208, 697, 697, 512, 512, 680, 680, 428, 428, 728, 728, 360, 360, 399, 399, 491, 491, 435, 435, 409, 405, 405, 516, 516, 414, 414, 548, 548, 846, 846, 845, 845, 247, 247, 448, 448, 404, 404, 588, 588, 746, 746, 134, 134, 567, 567, 218, 218, 609, 609, 336, 336, 727, 727, 534, 534, 446, 446, 511, 511, 754, 754, 861, 861, 340, 340, 479, 479, 425, 425, 550, 550, 681, 681, 188, 188, 682, 682, 297, 297, 467, 467, 260, 260, 383, 383, 902, 902, 284, 284, 257, 257, 765, 765, 328, 328, 658, 658, 579, 579, 691, 691, 862, 862, 501, 501, 887, 887, 411, 411, 143, 143, 286, 286, 646, 646, 698, 698, 346, 346, 421, 421, 585, 585, 308, 308, 142, 142, 528, 528, 626, 626, 190, 190, 603, 603, 254, 254, 422, 422, 825, 825, 372, 372, 896, 896, 431, 431, 889, 889, 597, 597, 671, 671, 337, 337, 332, 332, 665, 665, 242, 242, 725, 725, 238, 238, 734, 734, 823, 823, 616, 616, 661, 661, 813, 813, 299, 299, 693, 693, 795, 795, 886, 886, 150, 150, 231, 231, 149, 149, 335, 335, 207, 207, 223, 223, 593, 593, 253, 253, 668, 668, 767, 767, 262, 262, 643, 643, 701, 701, 465, 465, 710, 710, 644, 644, 557, 557, 271, 271, 151, 151, 306, 306, 784, 784, 397, 397, 155, 155, 505, 505, 645, 645, 695, 695, 427, 427, 280, 280, 852, 852, 131, 131, 766, 766, 604, 604, 264, 264, 235, 235, 406, 406, 301, 301, 610, 610, 751, 751, 713, 713, 302, 302, 718, 718, 780, 780, 225, 225, 806, 806, 344, 344, 324, 324, 533, 533, 236, 236, 716, 716, 628, 628, 398, 398, 481, 481, 810, 810, 901, 901, 355, 355, 881, 881, 696, 696, 892, 892, 595, 595, 369, 369, 663, 663, 351, 351, 890, 890, 800, 800, 182, 182, 715, 715, 499, 499, 720, 720, 434, 434, 463, 463, 424, 424, 618, 618, 241, 241, 768, 768, 835, 835, 730, 730, 838, 838, 748, 748, 374, 374, 853, 853, 281, 281, 205, 205, 744, 744, 625, 625, 580, 580, 314, 314, 179, 179, 608, 608, 769, 769, 494, 494, 490, 490, 771, 771, 309, 309, 521, 521, 313, 313, 761, 761, 144, 144, 686, 686, 541, 541, 611, 611, 636, 636, 472, 472, 196, 196, 348, 348, 453, 453, 863, 863, 568, 568, 578, 578, 365, 365, 891, 891, 322, 322, 229, 229, 119, 119, 683, 683, 171, 171, 750, 750], [0, 1, 0, 1, 0, 1, 0, 1, 0, 1, 0, 1, 0, 1, 0, 1, 0, 1, 0, 1, 0, 1, 0, 1, 0, 1, 0, 1, 0, 1, 0, 1, 0, 1, 0, 1, 0, 1, 0, 1, 0, 1, 0, 1, 0, 1, 0, 1, 0, 1, 0, 1, 0, 1, 0, 1, 0, 1, 0, 1, 0, 1, 0, 1, 0, 1, 0, 1, 0, 1, 0, 1, 0, 1, 0, 1, 0, 1, 0, 1, 0, 1, 0, 1, 0, 1, 0, 1, 0, 1, 0, 1, 0, 1, 0, 1, 0, 1, 0, 1, 0, 1, 0, 1, 0, 1, 0, 1, 0, 1, 0, 1, 0, 1, 0, 1, 0, 1, 0, 1, 0, 1, 0, 1, 0, 1, 0, 1, 0, 1, 0, 1, 0, 1, 0, 1, 0, 1, 0, 1, 0, 1, 0, 1, 0, 1, 0, 1, 0, 1, 0, 1, 0, 1, 0, 1, 0, 1, 0, 1, 0, 1, 0, 1, 0, 1, 0, 1, 0, 1, 0, 1, 0, 1, 0, 1, 0, 1, 0, 1, 0, 1, 0, 1, 0, 1, 0, 1, 0, 1, 0, 1, 0, 1, 0, 1, 0, 1, 0, 1, 0, 1, 0, 1, 0, 1, 0, 1, 0, 1, 0, 1, 0, 1, 0, 1, 0, 1, 0, 1, 0, 1, 0, 1, 0, 1, 0, 1, 0, 1, 0, 1, 0, 1, 0, 1, 0, 1, 0, 1, 0, 1, 0, 1, 0, 1, 0, 1, 0, 1, 0, 1, 0, 1, 0, 1, 0, 1, 0, 1, 0, 1, 0, 1, 0, 1, 0, 1, 0, 1, 0, 1, 0, 1, 0, 1, 0, 1, 0, 1, 0, 1, 0, 1, 0, 1, 0, 1, 0, 1, 0, 1, 0, 1, 0, 1, 0, 0, 1, 0, 1, 0, 1, 0, 1, 0, 1, 0, 1, 0, 1, 0, 1, 0, 1, 0, 1, 0, 1, 0, 1, 0, 1, 0, 1, 0, 1, 0, 1, 0, 1, 0, 1, 0, 1, 0, 1, 0, 1, 0, 1, 0, 1, 0, 1, 0, 1, 0, 1, 0, 1, 0, 1, 0, 1, 0, 1, 0, 1, 0, 1, 0, 1, 0, 1, 0, 1, 0, 1, 0, 1, 0, 1, 0, 1, 0, 1, 0, 1, 0, 1, 0, 1, 0, 1, 0, 1, 0, 1, 0, 1, 0, 1, 0, 1, 0, 1, 0, 1, 0, 1, 0, 1, 0, 1, 0, 1, 0, 1, 0, 1, 0, 1, 0, 1, 0, 1, 0, 1, 0, 1, 0, 1, 0, 1, 0, 1, 0, 1, 0, 1, 0, 1, 0, 1, 0, 1, 0, 1, 0, 1, 0, 1, 0, 1, 0, 1, 0, 1, 0, 1, 0, 1, 0, 1, 0, 1, 0, 1, 0, 1, 0, 1, 0, 1, 0, 0, 1, 0, 1, 0, 1, 0, 0, 1, 0, 1, 0, 1, 0, 1, 0, 1, 0, 1, 0, 1, 0, 1, 0, 1, 0, 1, 0, 1, 0, 1, 0, 1, 0, 1, 0, 1, 0, 1, 0, 1, 0, 1, 0, 1, 0, 1, 0, 1, 0, 1, 0, 1, 0, 1, 0, 1, 0, 1, 0, 1, 0, 1, 0, 1, 0, 1, 0, 1, 0, 1, 0, 1, 0, 1, 0, 1, 0, 1, 0, 1, 0, 1, 0, 1, 0, 1, 0, 1, 0, 1, 0, 1, 0, 1, 0, 1, 0, 1, 0, 1, 0, 1, 0, 1, 0, 1, 0, 1, 0, 1, 0, 1, 0, 1, 0, 1, 0, 1, 0, 1, 0, 1, 0, 1, 0, 1, 0, 1, 0, 1, 0, 1, 0, 1, 0, 1, 0, 1, 0, 0, 1, 0, 1, 0, 1, 0, 1, 0, 1, 0, 1, 0, 1, 0, 1, 0, 1, 0, 1, 0, 1, 0, 1, 0, 1, 0, 1, 0, 1, 0, 1, 0, 1, 0, 1, 0, 1, 0, 1, 0, 1, 0, 1, 0, 1, 0, 1, 0, 1, 0, 1, 0, 1, 0, 1, 0, 1, 0, 1, 0, 1, 0, 1, 0, 1, 0, 1, 0, 1, 0, 0, 1, 0, 1, 0, 1, 0, 1, 0, 1, 0, 1, 0, 1, 0, 1, 0, 1, 0, 1, 0, 1, 0, 1, 0, 1, 0, 1, 0, 1, 0, 1, 0, 1, 0, 1, 0, 1, 0, 1, 0, 1, 0, 1, 0, 1, 0, 1, 0, 1, 0, 1, 0, 1, 0, 1, 0, 1, 0, 1, 0, 1, 0, 1, 0, 1, 0, 1, 0, 1, 0, 1, 0, 1, 0, 1, 0, 1, 0, 1, 0, 1, 0, 1, 0, 1, 0, 1, 0, 1, 0, 1, 0, 1, 0, 1, 0, 1, 0, 1, 0, 1, 0, 1, 0, 1, 0, 1, 0, 1, 0, 1, 0, 1, 0, 1, 0, 1, 0, 1, 0, 1, 0, 1, 0, 1, 0, 1, 0, 1, 0, 1, 0, 1, 0, 1, 0, 1, 0, 1, 0, 1, 0, 1, 0, 1, 0, 1, 0, 1, 0, 1, 0, 1, 0, 1, 0, 1, 0, 1, 0, 0, 1, 0, 1, 0, 1, 0, 1, 0, 1, 0, 1, 0, 1, 0, 1, 0, 1, 0, 1, 0, 1, 0, 1, 0, 1, 0, 1, 0, 1, 0, 1, 0, 1, 0, 1, 0, 1, 0, 1, 0, 1, 0, 1, 0, 1, 0, 1, 0, 1, 0, 1, 0, 1, 0, 1, 0, 1, 0, 1, 0, 1, 0, 1, 0, 1, 0, 1, 0, 1, 0, 1, 0, 1, 0, 1, 0, 1, 0, 1, 0, 1, 0, 1, 0, 1, 0, 1, 0, 1, 0, 1, 0, 1, 0, 1, 0, 1, 0, 1, 0, 1, 0, 1, 0, 1, 0, 1, 0, 1, 0, 1, 0, 1, 0, 1, 0, 1, 0, 1, 0, 1, 0, 1, 0, 1, 0, 1, 0, 1, 0, 1, 0, 1, 0, 1, 0, 1, 0, 1, 0, 1, 0, 1, 0, 1, 0, 1, 0, 1, 0, 1, 0, 1, 0, 1, 0, 1, 0, 1, 0, 1, 0, 1, 0, 1, 0, 1, 0, 1, 0, 1, 0, 1, 0, 1, 0, 1, 0, 1, 0, 1, 0, 1, 0, 1, 0, 1, 0, 1, 0, 1, 0, 1, 0, 1, 0, 1, 0, 1, 0, 1, 0, 1, 0, 1, 0, 1, 0, 1, 0, 1, 0, 1, 0, 1, 0, 1, 0, 0, 1, 0, 1, 0, 1, 0, 1, 0, 1, 0, 1, 0, 1, 0, 1, 0, 1, 0, 1, 0, 1, 0, 1, 0, 1, 0, 1, 0, 1, 0, 1, 0, 1, 0, 1, 0, 1, 0, 1, 0, 1, 0, 1, 0, 1, 0, 1, 0, 1, 0, 1, 0, 1, 0, 1, 0, 1, 0, 1, 0, 1, 0, 1, 0, 1, 0, 1, 0, 1, 0, 1, 0, 1, 0, 1, 0, 1, 0, 1, 0, 1, 0, 1, 0, 1, 0, 1, 0, 1, 0, 1, 0, 1, 0, 1, 0, 1, 0, 1, 0, 1, 0, 1, 0, 1, 0, 1, 0, 1, 0, 1, 0, 1, 0, 1, 0, 1, 0, 1, 0, 1, 0, 1, 0, 1, 0, 1, 0, 1, 0, 1, 0, 1, 0, 1, 0, 1, 0, 1, 0, 1, 0, 1, 0, 1, 0, 1, 0, 1, 0, 1, 0, 1, 0, 1, 0, 1, 0, 1, 0, 1, 0, 1, 0, 1, 0, 1, 0, 1, 0, 1, 0, 1, 0, 1, 0, 1, 0, 1, 0, 1, 0, 1, 0, 1, 0, 1, 0, 1, 0, 1, 0, 1, 0, 1, 0, 1, 0, 1, 0, 1, 0, 1, 0, 1, 0, 1, 0, 1, 0, 1, 0, 1, 0, 0, 1, 0, 1, 0, 1, 0, 1, 0, 1, 0, 1, 0, 1, 0, 1, 0, 1, 0, 1, 0, 1, 0, 1, 0, 1, 0, 1, 0, 1, 0, 1, 0, 1, 0, 1, 0, 1, 0, 1, 0, 1, 0, 1, 0, 1, 0, 1, 0, 1, 0, 1, 0, 1, 0, 1, 0, 1, 0, 1, 0, 1, 0, 1, 0, 1, 0, 1, 0, 1, 0, 1, 0, 1, 0, 1, 0, 1, 0, 1, 0, 1, 0, 1, 0, 1, 0, 1, 0, 1, 0, 1, 0, 1, 0, 1, 0, 1, 0, 1, 0, 1, 0, 1, 0, 1, 0, 1, 0, 1, 0, 1, 0, 1, 0, 1, 0, 1, 0, 1, 0, 1, 0, 1, 0, 1, 0, 1, 0, 1, 0, 1, 0, 1, 0, 1, 0, 1, 0, 1, 0, 1, 0, 1, 0, 1, 0, 1, 0, 1, 0, 1, 0, 1, 0, 1, 0, 1, 0, 1, 0, 1, 0, 1, 0, 1, 0, 1, 0, 1, 0, 1, 0, 1, 0, 1, 0, 1, 0, 1, 0, 1, 0, 1, 0, 1, 0, 1, 0, 1, 0, 1, 0, 1, 0, 1, 0, 1, 0, 1, 0, 1, 0, 1, 0, 1, 0, 1, 0, 1, 0, 1, 0, 1, 0, 1, 0, 1, 0, 1, 0, 1, 0, 1, 0, 1, 0, 1, 0, 1, 0, 1, 0, 1, 0, 1, 0, 1, 0, 1, 0, 1, 0, 1, 0, 1, 0, 1, 0, 1, 0, 1, 0, 1, 0, 1, 0, 1, 0, 1, 0, 1, 0, 1, 0, 1, 0, 1, 0, 1, 0, 1, 0, 1, 0, 1, 0, 1, 0, 1, 0, 1, 0, 1, 0, 1, 0, 1, 0, 1, 0, 1, 0, 1, 0, 1, 0, 1, 0, 1, 0, 1, 0, 1, 0, 1, 0, 1, 0, 1, 0, 1, 0, 1, 0, 1, 0, 1, 0, 1, 0, 1, 0, 1, 0, 1, 0, 1, 0, 1, 0, 1, 0, 1, 0, 1, 0, 1, 0, 1, 0, 1, 0, 1, 0, 1, 0, 1, 0, 1, 0, 1, 0, 1, 0, 1, 0, 1, 0, 1, 0, 1, 0, 1, 0, 1, 0, 1, 0, 1, 0, 1, 0, 1, 0, 1, 0, 1, 0, 1, 0, 1, 0, 1, 0, 1, 0, 1, 0, 1, 0, 1, 0, 1, 0, 1, 0, 1, 0, 1, 0, 1, 0, 1, 0, 1, 0, 1, 0, 1, 0, 1, 0, 1, 0, 1, 0, 1, 0, 1, 0, 1, 0, 1, 0, 1, 0, 1, 0, 1, 0, 0, 1, 0, 1, 0, 1, 0, 1, 0, 1, 0, 1, 0, 1, 0, 1, 0, 1, 0, 1, 0, 1, 0, 1, 0, 1, 0, 1, 0, 1, 0, 1, 0, 1, 0, 1, 0, 1, 0, 1, 0, 1, 0, 1, 0, 1, 0, 1, 0, 1, 0, 1, 0, 1, 0, 1, 0, 1, 0, 1, 0, 1, 0, 1, 0, 1, 0, 1, 0, 1, 0, 1, 0, 1, 0, 1, 0, 1, 0, 1, 0, 1, 0, 1, 0, 1, 0, 1, 0, 1, 0, 1, 0, 1, 0, 1, 0, 1, 0, 1, 0, 1, 0, 1, 0, 1, 0, 1, 0, 1, 0, 1, 0, 1, 0, 1, 0, 1, 0, 1, 0, 1, 0, 1, 0, 1, 0, 1, 0, 1, 0, 1, 0, 1, 0, 1, 0, 1, 0, 1, 0, 1, 0, 1, 0, 1, 0, 1, 0, 1, 0, 1, 0, 1, 0, 1, 0, 1, 0, 1, 0, 1, 0, 1, 0, 1, 0, 1, 0, 1, 0, 1, 0, 1, 0, 1, 0, 1, 0, 1, 0, 1, 0, 1, 0, 1, 0, 1, 0, 1, 0, 1, 0, 1, 0, 1, 0, 1, 0, 1, 0, 1, 0, 1, 0, 1, 0, 1, 0, 1, 0, 1, 0, 1, 0, 1, 0, 1, 0, 1, 0, 1, 0, 1, 0, 1, 0, 1, 0, 1, 0, 1, 0, 1, 0, 1, 0, 1, 0, 1, 0, 1, 0, 1, 0, 1, 0, 1, 0, 1, 0, 1, 0, 1, 0, 1, 0, 1, 0, 1, 0, 1, 0, 1, 0, 1, 0, 1, 0, 1, 0, 1, 0, 1, 0, 1, 0, 1, 0, 1, 0, 1, 0, 1, 0, 1, 0, 1, 0, 1, 0, 1, 0, 1, 0, 1, 0, 1, 0, 1, 0, 1, 0, 1, 0, 1, 0, 1, 0, 1, 0, 1, 0, 1, 0, 1, 0, 1, 0, 1, 0, 1, 0, 1, 0, 1, 0, 1, 0, 1, 0, 1, 0, 1, 0, 1, 0, 1, 0, 1, 0, 1, 0, 1, 0, 1, 0, 1, 0, 1, 0, 1, 0, 1, 0, 1, 0, 1, 0, 1, 0, 1, 0, 1, 0, 1, 0, 1, 0, 1, 0, 1, 0, 1, 0, 1, 0, 1, 0, 1, 0, 1, 0, 1, 0, 1, 0, 1, 0, 1, 0, 1, 0, 1, 0, 1]],\n",
       "           names=['ticker', 'field'])"
      ]
     },
     "execution_count": 13,
     "metadata": {},
     "output_type": "execute_result"
    }
   ],
   "source": [
    "df_1.columns"
   ]
  },
  {
   "cell_type": "code",
   "execution_count": 27,
   "metadata": {},
   "outputs": [
    {
     "data": {
      "text/html": [
       "<div>\n",
       "<style scoped>\n",
       "    .dataframe tbody tr th:only-of-type {\n",
       "        vertical-align: middle;\n",
       "    }\n",
       "\n",
       "    .dataframe tbody tr th {\n",
       "        vertical-align: top;\n",
       "    }\n",
       "\n",
       "    .dataframe thead th {\n",
       "        text-align: right;\n",
       "    }\n",
       "</style>\n",
       "<table border=\"1\" class=\"dataframe\">\n",
       "  <thead>\n",
       "    <tr style=\"text-align: right;\">\n",
       "      <th>field</th>\n",
       "      <th>PX_LAST</th>\n",
       "      <th>VOLUME</th>\n",
       "      <th>PX_LAST</th>\n",
       "      <th>VOLUME</th>\n",
       "      <th>PX_LAST</th>\n",
       "      <th>VOLUME</th>\n",
       "      <th>PX_LAST</th>\n",
       "      <th>VOLUME</th>\n",
       "    </tr>\n",
       "    <tr>\n",
       "      <th>date</th>\n",
       "      <th></th>\n",
       "      <th></th>\n",
       "      <th></th>\n",
       "      <th></th>\n",
       "      <th></th>\n",
       "      <th></th>\n",
       "      <th></th>\n",
       "      <th></th>\n",
       "    </tr>\n",
       "  </thead>\n",
       "  <tbody>\n",
       "    <tr>\n",
       "      <th>2018-12-22</th>\n",
       "      <td>NaN</td>\n",
       "      <td>NaN</td>\n",
       "      <td>NaN</td>\n",
       "      <td>NaN</td>\n",
       "      <td>NaN</td>\n",
       "      <td>NaN</td>\n",
       "      <td>NaN</td>\n",
       "      <td>NaN</td>\n",
       "    </tr>\n",
       "    <tr>\n",
       "      <th>2018-12-24</th>\n",
       "      <td>94.13</td>\n",
       "      <td>43935192.0</td>\n",
       "      <td>94.13</td>\n",
       "      <td>43935192.0</td>\n",
       "      <td>94.13</td>\n",
       "      <td>43935192.0</td>\n",
       "      <td>94.13</td>\n",
       "      <td>43935192.0</td>\n",
       "    </tr>\n",
       "    <tr>\n",
       "      <th>2018-12-25</th>\n",
       "      <td>NaN</td>\n",
       "      <td>NaN</td>\n",
       "      <td>NaN</td>\n",
       "      <td>NaN</td>\n",
       "      <td>NaN</td>\n",
       "      <td>NaN</td>\n",
       "      <td>NaN</td>\n",
       "      <td>NaN</td>\n",
       "    </tr>\n",
       "    <tr>\n",
       "      <th>2018-12-26</th>\n",
       "      <td>100.56</td>\n",
       "      <td>51634793.0</td>\n",
       "      <td>100.56</td>\n",
       "      <td>51634793.0</td>\n",
       "      <td>100.56</td>\n",
       "      <td>51634793.0</td>\n",
       "      <td>100.56</td>\n",
       "      <td>51634793.0</td>\n",
       "    </tr>\n",
       "    <tr>\n",
       "      <th>2018-12-27</th>\n",
       "      <td>101.18</td>\n",
       "      <td>49498509.0</td>\n",
       "      <td>101.18</td>\n",
       "      <td>49498509.0</td>\n",
       "      <td>101.18</td>\n",
       "      <td>49498509.0</td>\n",
       "      <td>101.18</td>\n",
       "      <td>49498509.0</td>\n",
       "    </tr>\n",
       "  </tbody>\n",
       "</table>\n",
       "</div>"
      ],
      "text/plain": [
       "field       PX_LAST      VOLUME  PX_LAST      VOLUME  PX_LAST      VOLUME  \\\n",
       "date                                                                        \n",
       "2018-12-22      NaN         NaN      NaN         NaN      NaN         NaN   \n",
       "2018-12-24    94.13  43935192.0    94.13  43935192.0    94.13  43935192.0   \n",
       "2018-12-25      NaN         NaN      NaN         NaN      NaN         NaN   \n",
       "2018-12-26   100.56  51634793.0   100.56  51634793.0   100.56  51634793.0   \n",
       "2018-12-27   101.18  49498509.0   101.18  49498509.0   101.18  49498509.0   \n",
       "\n",
       "field       PX_LAST      VOLUME  \n",
       "date                             \n",
       "2018-12-22      NaN         NaN  \n",
       "2018-12-24    94.13  43935192.0  \n",
       "2018-12-25      NaN         NaN  \n",
       "2018-12-26   100.56  51634793.0  \n",
       "2018-12-27   101.18  49498509.0  "
      ]
     },
     "execution_count": 27,
     "metadata": {},
     "output_type": "execute_result"
    }
   ],
   "source": [
    "df_1.loc[:, 'MSFT US Equity'].head()"
   ]
  },
  {
   "cell_type": "markdown",
   "metadata": {},
   "source": []
  },
  {
   "cell_type": "code",
   "execution_count": null,
   "metadata": {},
   "outputs": [],
   "source": [
    "df = pd.DataFrame()\n",
    "err_code = []\n",
    "tic = time.perf_counter()\n",
    "fields = ['PX_HIGH', 'PX_OPEN', 'PX_LOW', 'PX_CLOSE', 'PX_VOLUME']\n",
    "cols = ['Adj High', 'Adj Open', 'Adj Low', 'Adj Close', 'Adj Volume']\n",
    "start = '20100101'\n",
    "end = '20190110'\n",
    "\n",
    "for i in ticker_list:\n",
    "    try:\n",
    "        temp_df = con.bdh(i, fields, start, end)\n",
    "        temp_df = temp_df.loc[:, i]\n",
    "        temp_df.columns = cols\n",
    "        temp_df = temp_df.assign(code=i)\n",
    "        \n",
    "        try:\n",
    "            df = pd.concat([df, temp_df], axis=0)\n",
    "        except:\n",
    "            print('concat data has problem, ticker code : %s' % i)\n",
    "        \n",
    "    except:\n",
    "        print('retrieve %s data, have something wrong' % i)\n",
    "        err_code.append(i)\n",
    "toc = time.perf_counter()\n",
    "\n",
    "print('retrieve data cost time: %s' % (toc-tic))"
   ]
  }
 ],
 "metadata": {
  "kernelspec": {
   "display_name": "Python (quant)",
   "language": "python",
   "name": "quant"
  },
  "language_info": {
   "codemirror_mode": {
    "name": "ipython",
    "version": 3
   },
   "file_extension": ".py",
   "mimetype": "text/x-python",
   "name": "python",
   "nbconvert_exporter": "python",
   "pygments_lexer": "ipython3",
   "version": "3.6.6"
  },
  "toc": {
   "base_numbering": 1,
   "nav_menu": {},
   "number_sections": true,
   "sideBar": true,
   "skip_h1_title": false,
   "title_cell": "Table of Contents",
   "title_sidebar": "Contents",
   "toc_cell": false,
   "toc_position": {},
   "toc_section_display": true,
   "toc_window_display": false
  },
  "varInspector": {
   "cols": {
    "lenName": 16,
    "lenType": 16,
    "lenVar": 40
   },
   "kernels_config": {
    "python": {
     "delete_cmd_postfix": "",
     "delete_cmd_prefix": "del ",
     "library": "var_list.py",
     "varRefreshCmd": "print(var_dic_list())"
    },
    "r": {
     "delete_cmd_postfix": ") ",
     "delete_cmd_prefix": "rm(",
     "library": "var_list.r",
     "varRefreshCmd": "cat(var_dic_list()) "
    }
   },
   "types_to_exclude": [
    "module",
    "function",
    "builtin_function_or_method",
    "instance",
    "_Feature"
   ],
   "window_display": false
  }
 },
 "nbformat": 4,
 "nbformat_minor": 2
}
