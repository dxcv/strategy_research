{
 "cells": [
  {
   "cell_type": "markdown",
   "metadata": {},
   "source": [
    "1. 港股的汇率问题;\n",
    "2. 使用不复权的数据和除权除息的数据,定点复权"
   ]
  },
  {
   "cell_type": "markdown",
   "metadata": {},
   "source": [
    "### 港股的汇率问题"
   ]
  },
  {
   "cell_type": "code",
   "execution_count": 11,
   "metadata": {},
   "outputs": [],
   "source": [
    "# 首先是拿到HKD/USD的数据\n",
    "import numpy as np\n",
    "import pandas as pd\n",
    "import matplotlib.pyplot as plt\n",
    "import talib as ta\n",
    "import datetime, time\n",
    "import pickle\n",
    "from tqdm import tqdm_notebook\n",
    "\n",
    "import pdblp as pb\n",
    "import blpapi\n",
    "\n",
    "con = pb.BCon(port=8194, timeout=5000)\n",
    "con.start()\n",
    "\n",
    "code = 'USDHKD BGNL Curncy'\n",
    "start = '20100101'\n",
    "end = '20190117'\n",
    "df = con.bdh(code, ['PX_LAST'], start, end)"
   ]
  },
  {
   "cell_type": "markdown",
   "metadata": {},
   "source": [
    "```\n",
    "ticker\tUSDHKD BGNL Curncy\n",
    "field\tPX_LAST\n",
    "date\t\n",
    "2019-01-21\t7.8448\n",
    "2019-01-22\t7.8455\n",
    "2019-01-23\t7.8462\n",
    "2019-01-24\t7.8458\n",
    "2019-01-25\t7.8466\n",
    "```"
   ]
  },
  {
   "cell_type": "code",
   "execution_count": null,
   "metadata": {},
   "outputs": [],
   "source": [
    "df[code]"
   ]
  },
  {
   "cell_type": "code",
   "execution_count": 1,
   "metadata": {},
   "outputs": [],
   "source": [
    "# 然后对港股的行情数据进行处理\n",
    "from utils import *"
   ]
  },
  {
   "cell_type": "code",
   "execution_count": 2,
   "metadata": {},
   "outputs": [],
   "source": [
    "data = ol_data.copy()"
   ]
  },
  {
   "cell_type": "code",
   "execution_count": 6,
   "metadata": {},
   "outputs": [],
   "source": [
    "hk_code = df_code.query('region == \"HK Equity\"').symbol.unique().tolist()"
   ]
  },
  {
   "cell_type": "code",
   "execution_count": 8,
   "metadata": {},
   "outputs": [],
   "source": [
    "# data.loc[(slice(None), hk_code),:].head()"
   ]
  },
  {
   "cell_type": "code",
   "execution_count": null,
   "metadata": {},
   "outputs": [],
   "source": [
    "# 指定日期\n",
    "for i in currency_series.index:\n",
    "    data.loc[(i, hk_code),:] = data.loc[(i, hk_code),:] / currency_series[i]\n",
    "\n",
    "# save data"
   ]
  },
  {
   "cell_type": "markdown",
   "metadata": {},
   "source": [
    "### 使用不复权的数据和除权除息的数据,定点复权"
   ]
  },
  {
   "cell_type": "markdown",
   "metadata": {},
   "source": [
    "#### 拿到不复权的数据"
   ]
  },
  {
   "cell_type": "markdown",
   "metadata": {},
   "source": [
    "```python\n",
    "# 修改utils_update.py\n",
    "temp_df = con.bdh(temp_list, fields, start, end)\n",
    "# 改为\n",
    "elements = [('CshAdjAbnormal', False), ('CapChg', False), ('CshAdjNormal', False)]\n",
    "temp_df = con.bdh(temp_list, fields, start, end, elms=elements)\n",
    "```"
   ]
  },
  {
   "cell_type": "markdown",
   "metadata": {},
   "source": [
    "#### 获取除权除息的数据"
   ]
  },
  {
   "cell_type": "markdown",
   "metadata": {},
   "source": [
    "```excel\n",
    "=BDS(\"AAPL US Equity\",\"DVD_HIST_ALL\",\"headers=y\",\"cols=7;rows=67\")\n",
    "```"
   ]
  },
  {
   "cell_type": "code",
   "execution_count": 15,
   "metadata": {},
   "outputs": [],
   "source": [
    "code = \"AAPL US Equity\"\n",
    "fields = \"DVD_HIST_ALL\"\n",
    "df_dvd = con.bulkref(code, fields)\n",
    "df_dvd"
   ]
  },
  {
   "cell_type": "code",
   "execution_count": null,
   "metadata": {},
   "outputs": [],
   "source": [
    "code = \"AAPL US Equity\"\n",
    "fields = \"DVD_HIST_ALL\"\n",
    "overrides = {'headers':True}\n",
    "df_dvd_2 = con.bulkref(code, fields, ovrds=overrides)\n",
    "df_dvd_2"
   ]
  },
  {
   "cell_type": "markdown",
   "metadata": {},
   "source": [
    "成功拿到这些数据之后，就是要考虑定点复权的问题\n",
    "\n",
    "还有数据更新的问题，以及他想加入新的code和etf的问题"
   ]
  }
 ],
 "metadata": {
  "kernelspec": {
   "display_name": "Python (quant)",
   "language": "python",
   "name": "quant"
  },
  "language_info": {
   "codemirror_mode": {
    "name": "ipython",
    "version": 3
   },
   "file_extension": ".py",
   "mimetype": "text/x-python",
   "name": "python",
   "nbconvert_exporter": "python",
   "pygments_lexer": "ipython3",
   "version": "3.6.6"
  },
  "toc": {
   "base_numbering": 1,
   "nav_menu": {},
   "number_sections": true,
   "sideBar": true,
   "skip_h1_title": false,
   "title_cell": "Table of Contents",
   "title_sidebar": "Contents",
   "toc_cell": false,
   "toc_position": {},
   "toc_section_display": true,
   "toc_window_display": false
  },
  "varInspector": {
   "cols": {
    "lenName": 16,
    "lenType": 16,
    "lenVar": 40
   },
   "kernels_config": {
    "python": {
     "delete_cmd_postfix": "",
     "delete_cmd_prefix": "del ",
     "library": "var_list.py",
     "varRefreshCmd": "print(var_dic_list())"
    },
    "r": {
     "delete_cmd_postfix": ") ",
     "delete_cmd_prefix": "rm(",
     "library": "var_list.r",
     "varRefreshCmd": "cat(var_dic_list()) "
    }
   },
   "types_to_exclude": [
    "module",
    "function",
    "builtin_function_or_method",
    "instance",
    "_Feature"
   ],
   "window_display": false
  }
 },
 "nbformat": 4,
 "nbformat_minor": 2
}
