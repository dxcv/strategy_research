{
 "cells": [
  {
   "cell_type": "markdown",
   "metadata": {},
   "source": [
    "1. 港股的汇率问题;\n",
    "2. 使用不复权的数据和除权除息的数据,定点复权"
   ]
  },
  {
   "cell_type": "markdown",
   "metadata": {},
   "source": [
    "### 港股的汇率问题"
   ]
  },
  {
   "cell_type": "code",
   "execution_count": 2,
   "metadata": {},
   "outputs": [],
   "source": [
    "# 首先是拿到HKD/USD的数据\n",
    "import numpy as np\n",
    "import pandas as pd\n",
    "import matplotlib.pyplot as plt\n",
    "import talib as ta\n",
    "import datetime, time\n",
    "import pickle\n",
    "from tqdm import tqdm_notebook\n",
    "\n",
    "import pdblp as pb\n",
    "import blpapi\n",
    "\n",
    "con = pb.BCon(port=8194, timeout=5000)\n",
    "# con.start()\n",
    "\n",
    "code = 'USDHKD BGNL Curncy'\n",
    "start = '20100101'\n",
    "end = '20190117'\n",
    "# df = con.bdh(code, ['PX_LAST'], start, end)"
   ]
  },
  {
   "cell_type": "code",
   "execution_count": 4,
   "metadata": {
    "collapsed": true
   },
   "outputs": [
    {
     "data": {
      "text/html": [
       "<div>\n",
       "<style scoped>\n",
       "    .dataframe tbody tr th:only-of-type {\n",
       "        vertical-align: middle;\n",
       "    }\n",
       "\n",
       "    .dataframe tbody tr th {\n",
       "        vertical-align: top;\n",
       "    }\n",
       "\n",
       "    .dataframe thead tr th {\n",
       "        text-align: left;\n",
       "    }\n",
       "\n",
       "    .dataframe thead tr:last-of-type th {\n",
       "        text-align: right;\n",
       "    }\n",
       "</style>\n",
       "<table border=\"1\" class=\"dataframe\">\n",
       "  <thead>\n",
       "    <tr>\n",
       "      <th>ticker</th>\n",
       "      <th>USDHKD BGNL Curncy</th>\n",
       "    </tr>\n",
       "    <tr>\n",
       "      <th>field</th>\n",
       "      <th>PX_LAST</th>\n",
       "    </tr>\n",
       "    <tr>\n",
       "      <th>date</th>\n",
       "      <th></th>\n",
       "    </tr>\n",
       "  </thead>\n",
       "  <tbody>\n",
       "    <tr>\n",
       "      <th>2010-01-01</th>\n",
       "      <td>7.7552</td>\n",
       "    </tr>\n",
       "    <tr>\n",
       "      <th>2010-01-04</th>\n",
       "      <td>7.7554</td>\n",
       "    </tr>\n",
       "    <tr>\n",
       "      <th>2010-01-05</th>\n",
       "      <td>7.7569</td>\n",
       "    </tr>\n",
       "    <tr>\n",
       "      <th>2010-01-06</th>\n",
       "      <td>7.7547</td>\n",
       "    </tr>\n",
       "    <tr>\n",
       "      <th>2010-01-07</th>\n",
       "      <td>7.7546</td>\n",
       "    </tr>\n",
       "  </tbody>\n",
       "</table>\n",
       "</div>"
      ],
      "text/plain": [
       "ticker     USDHKD BGNL Curncy\n",
       "field                 PX_LAST\n",
       "date                         \n",
       "2010-01-01             7.7552\n",
       "2010-01-04             7.7554\n",
       "2010-01-05             7.7569\n",
       "2010-01-06             7.7547\n",
       "2010-01-07             7.7546"
      ]
     },
     "execution_count": 4,
     "metadata": {},
     "output_type": "execute_result"
    }
   ],
   "source": [
    "with open('data/df_cur', 'rb') as f:\n",
    "    df = pickle.load(f)\n",
    "df.head()"
   ]
  },
  {
   "cell_type": "code",
   "execution_count": 5,
   "metadata": {
    "collapsed": true
   },
   "outputs": [
    {
     "data": {
      "text/html": [
       "<div>\n",
       "<style scoped>\n",
       "    .dataframe tbody tr th:only-of-type {\n",
       "        vertical-align: middle;\n",
       "    }\n",
       "\n",
       "    .dataframe tbody tr th {\n",
       "        vertical-align: top;\n",
       "    }\n",
       "\n",
       "    .dataframe thead tr th {\n",
       "        text-align: left;\n",
       "    }\n",
       "\n",
       "    .dataframe thead tr:last-of-type th {\n",
       "        text-align: right;\n",
       "    }\n",
       "</style>\n",
       "<table border=\"1\" class=\"dataframe\">\n",
       "  <thead>\n",
       "    <tr>\n",
       "      <th>ticker</th>\n",
       "      <th>USDHKD BGNL Curncy</th>\n",
       "    </tr>\n",
       "    <tr>\n",
       "      <th>field</th>\n",
       "      <th>PX_LAST</th>\n",
       "    </tr>\n",
       "    <tr>\n",
       "      <th>date</th>\n",
       "      <th></th>\n",
       "    </tr>\n",
       "  </thead>\n",
       "  <tbody>\n",
       "    <tr>\n",
       "      <th>2019-01-11</th>\n",
       "      <td>7.8394</td>\n",
       "    </tr>\n",
       "    <tr>\n",
       "      <th>2019-01-14</th>\n",
       "      <td>7.8425</td>\n",
       "    </tr>\n",
       "    <tr>\n",
       "      <th>2019-01-15</th>\n",
       "      <td>7.8433</td>\n",
       "    </tr>\n",
       "    <tr>\n",
       "      <th>2019-01-16</th>\n",
       "      <td>7.8431</td>\n",
       "    </tr>\n",
       "    <tr>\n",
       "      <th>2019-01-17</th>\n",
       "      <td>7.8432</td>\n",
       "    </tr>\n",
       "  </tbody>\n",
       "</table>\n",
       "</div>"
      ],
      "text/plain": [
       "ticker     USDHKD BGNL Curncy\n",
       "field                 PX_LAST\n",
       "date                         \n",
       "2019-01-11             7.8394\n",
       "2019-01-14             7.8425\n",
       "2019-01-15             7.8433\n",
       "2019-01-16             7.8431\n",
       "2019-01-17             7.8432"
      ]
     },
     "execution_count": 5,
     "metadata": {},
     "output_type": "execute_result"
    }
   ],
   "source": [
    "df.tail()"
   ]
  },
  {
   "cell_type": "markdown",
   "metadata": {},
   "source": [
    "```\n",
    "ticker\tUSDHKD BGNL Curncy\n",
    "field\tPX_LAST\n",
    "date\t\n",
    "2019-01-21\t7.8448\n",
    "2019-01-22\t7.8455\n",
    "2019-01-23\t7.8462\n",
    "2019-01-24\t7.8458\n",
    "2019-01-25\t7.8466\n",
    "```"
   ]
  },
  {
   "cell_type": "code",
   "execution_count": 7,
   "metadata": {},
   "outputs": [
    {
     "data": {
      "text/html": [
       "<div>\n",
       "<style scoped>\n",
       "    .dataframe tbody tr th:only-of-type {\n",
       "        vertical-align: middle;\n",
       "    }\n",
       "\n",
       "    .dataframe tbody tr th {\n",
       "        vertical-align: top;\n",
       "    }\n",
       "\n",
       "    .dataframe thead th {\n",
       "        text-align: right;\n",
       "    }\n",
       "</style>\n",
       "<table border=\"1\" class=\"dataframe\">\n",
       "  <thead>\n",
       "    <tr style=\"text-align: right;\">\n",
       "      <th>field</th>\n",
       "      <th>PX_LAST</th>\n",
       "    </tr>\n",
       "    <tr>\n",
       "      <th>date</th>\n",
       "      <th></th>\n",
       "    </tr>\n",
       "  </thead>\n",
       "  <tbody>\n",
       "    <tr>\n",
       "      <th>2010-01-01</th>\n",
       "      <td>7.7552</td>\n",
       "    </tr>\n",
       "    <tr>\n",
       "      <th>2010-01-04</th>\n",
       "      <td>7.7554</td>\n",
       "    </tr>\n",
       "    <tr>\n",
       "      <th>2010-01-05</th>\n",
       "      <td>7.7569</td>\n",
       "    </tr>\n",
       "    <tr>\n",
       "      <th>2010-01-06</th>\n",
       "      <td>7.7547</td>\n",
       "    </tr>\n",
       "    <tr>\n",
       "      <th>2010-01-07</th>\n",
       "      <td>7.7546</td>\n",
       "    </tr>\n",
       "  </tbody>\n",
       "</table>\n",
       "</div>"
      ],
      "text/plain": [
       "field       PX_LAST\n",
       "date               \n",
       "2010-01-01   7.7552\n",
       "2010-01-04   7.7554\n",
       "2010-01-05   7.7569\n",
       "2010-01-06   7.7547\n",
       "2010-01-07   7.7546"
      ]
     },
     "execution_count": 7,
     "metadata": {},
     "output_type": "execute_result"
    }
   ],
   "source": [
    "df[code].head()"
   ]
  },
  {
   "cell_type": "code",
   "execution_count": 8,
   "metadata": {},
   "outputs": [],
   "source": [
    "# 然后对港股的行情数据进行处理\n",
    "from utils import *"
   ]
  },
  {
   "cell_type": "code",
   "execution_count": 9,
   "metadata": {},
   "outputs": [],
   "source": [
    "data = ol_data.copy()"
   ]
  },
  {
   "cell_type": "code",
   "execution_count": 10,
   "metadata": {},
   "outputs": [],
   "source": [
    "hk_code = df_code.query('region == \"HK Equity\"').symbol.unique().tolist()"
   ]
  },
  {
   "cell_type": "code",
   "execution_count": 14,
   "metadata": {},
   "outputs": [],
   "source": [
    "# hk_code"
   ]
  },
  {
   "cell_type": "code",
   "execution_count": 25,
   "metadata": {},
   "outputs": [
    {
     "data": {
      "text/plain": [
       "'2010-01-01'"
      ]
     },
     "execution_count": 25,
     "metadata": {},
     "output_type": "execute_result"
    }
   ],
   "source": [
    "df.index[0].strftime('%Y-%m-%d')"
   ]
  },
  {
   "cell_type": "code",
   "execution_count": 13,
   "metadata": {},
   "outputs": [
    {
     "data": {
      "text/html": [
       "<div>\n",
       "<style scoped>\n",
       "    .dataframe tbody tr th:only-of-type {\n",
       "        vertical-align: middle;\n",
       "    }\n",
       "\n",
       "    .dataframe tbody tr th {\n",
       "        vertical-align: top;\n",
       "    }\n",
       "\n",
       "    .dataframe thead th {\n",
       "        text-align: right;\n",
       "    }\n",
       "</style>\n",
       "<table border=\"1\" class=\"dataframe\">\n",
       "  <thead>\n",
       "    <tr style=\"text-align: right;\">\n",
       "      <th></th>\n",
       "      <th></th>\n",
       "      <th>high</th>\n",
       "      <th>open</th>\n",
       "      <th>low</th>\n",
       "      <th>volume</th>\n",
       "      <th>Adj Close</th>\n",
       "    </tr>\n",
       "    <tr>\n",
       "      <th>date</th>\n",
       "      <th>code</th>\n",
       "      <th></th>\n",
       "      <th></th>\n",
       "      <th></th>\n",
       "      <th></th>\n",
       "      <th></th>\n",
       "    </tr>\n",
       "  </thead>\n",
       "  <tbody>\n",
       "    <tr>\n",
       "      <th rowspan=\"5\" valign=\"top\">2010-01-04</th>\n",
       "      <th>1149</th>\n",
       "      <td>0.615</td>\n",
       "      <td>0.605</td>\n",
       "      <td>0.530</td>\n",
       "      <td>5244000.0</td>\n",
       "      <td>0.558</td>\n",
       "    </tr>\n",
       "    <tr>\n",
       "      <th>1385</th>\n",
       "      <td>1.583</td>\n",
       "      <td>1.483</td>\n",
       "      <td>1.465</td>\n",
       "      <td>1420000.0</td>\n",
       "      <td>1.574</td>\n",
       "    </tr>\n",
       "    <tr>\n",
       "      <th>148</th>\n",
       "      <td>18.469</td>\n",
       "      <td>18.171</td>\n",
       "      <td>17.725</td>\n",
       "      <td>966247.0</td>\n",
       "      <td>17.934</td>\n",
       "    </tr>\n",
       "    <tr>\n",
       "      <th>1686</th>\n",
       "      <td>0.336</td>\n",
       "      <td>0.319</td>\n",
       "      <td>0.319</td>\n",
       "      <td>8601612.0</td>\n",
       "      <td>0.332</td>\n",
       "    </tr>\n",
       "    <tr>\n",
       "      <th>1888</th>\n",
       "      <td>3.295</td>\n",
       "      <td>3.150</td>\n",
       "      <td>3.110</td>\n",
       "      <td>6502000.0</td>\n",
       "      <td>3.254</td>\n",
       "    </tr>\n",
       "  </tbody>\n",
       "</table>\n",
       "</div>"
      ],
      "text/plain": [
       "                   high    open     low     volume  Adj Close\n",
       "date       code                                              \n",
       "2010-01-04 1149   0.615   0.605   0.530  5244000.0      0.558\n",
       "           1385   1.583   1.483   1.465  1420000.0      1.574\n",
       "           148   18.469  18.171  17.725   966247.0     17.934\n",
       "           1686   0.336   0.319   0.319  8601612.0      0.332\n",
       "           1888   3.295   3.150   3.110  6502000.0      3.254"
      ]
     },
     "execution_count": 13,
     "metadata": {},
     "output_type": "execute_result"
    }
   ],
   "source": [
    "data.loc[(slice(None), hk_code),:].head()"
   ]
  },
  {
   "cell_type": "code",
   "execution_count": 30,
   "metadata": {},
   "outputs": [
    {
     "data": {
      "text/plain": [
       "7.7552"
      ]
     },
     "execution_count": 30,
     "metadata": {},
     "output_type": "execute_result"
    }
   ],
   "source": [
    "df.iloc[0][0]"
   ]
  },
  {
   "cell_type": "code",
   "execution_count": 35,
   "metadata": {},
   "outputs": [
    {
     "name": "stdout",
     "output_type": "stream",
     "text": [
      "Empty DataFrame\n",
      "Columns: [high, open, low, volume, Adj Close]\n",
      "Index: []\n",
      "                     high      open       low        volume  Adj Close\n",
      "date       code                                                       \n",
      "2010-01-04 1149  0.079300  0.078010  0.068339  6.761740e+05   0.071950\n",
      "           1385  0.204116  0.191222  0.188901  1.830982e+05   0.202955\n",
      "           148   2.381437  2.343013  2.285504  1.245902e+05   2.312453\n",
      "           1686  0.043325  0.041133  0.041133  1.109113e+06   0.042809\n",
      "           1888  0.424865  0.406169  0.401011  8.383836e+05   0.419579\n",
      "                     high      open       low         volume  Adj Close\n",
      "date       code                                                        \n",
      "2010-01-05 1149  0.074385  0.073096  0.070647  298572.883497   0.074385\n",
      "           1385  0.209878  0.205237  0.199306  242364.862252   0.207557\n",
      "           148   2.384844  2.315745  2.315745  132032.899741   2.373242\n",
      "           1686  0.043316  0.043316  0.042414  496362.722222   0.042801\n",
      "           1888  0.437417  0.424783  0.424783  653766.324176   0.434452\n",
      "                     high      open       low         volume  Adj Close\n",
      "date       code                                                        \n",
      "2010-01-06 1149  0.075567  0.075567  0.068346  465782.041858   0.068346\n",
      "           1385  0.218061  0.201813  0.201813  188530.826467   0.218061\n",
      "           148   2.485203  2.354830  2.350961  227826.479425   2.358570\n",
      "           1686  0.042813  0.042426  0.041910  182390.808155   0.042426\n",
      "           1888  0.443473  0.434575  0.423356  489703.018814   0.438315\n",
      "                     high      open       low        volume  Adj Close\n",
      "date       code                                                       \n",
      "2010-01-07 1149  0.075568  0.070668  0.068347  1.107988e+06   0.073118\n",
      "           1385  0.218064  0.218064  0.206458  2.063291e+05   0.212261\n",
      "           148   2.408506  2.385552  2.324169  8.630593e+04   2.339515\n",
      "           1686  0.042426  0.041911  0.041524  3.740624e+05   0.042426\n",
      "           1888  0.449411  0.441286  0.438320  4.363217e+05   0.439094\n"
     ]
    }
   ],
   "source": [
    "# 指定日期\n",
    "for i in df.index[:5]:\n",
    "    time_str = i.strftime('%Y-%m-%d')\n",
    "#     data.loc[(time_str, hk_code),:] = data.loc[(time_str, hk_code),:] / df[i][0]\n",
    "    print((data.loc[(time_str, hk_code),:] / df.loc[i][0]).head())\n",
    "#     print(data.loc[(time_str, hk_code),:].head() )\n",
    "\n",
    "# save data"
   ]
  },
  {
   "cell_type": "markdown",
   "metadata": {},
   "source": [
    "### 使用不复权的数据和除权除息的数据,定点复权"
   ]
  },
  {
   "cell_type": "markdown",
   "metadata": {},
   "source": [
    "#### 拿到不复权的数据"
   ]
  },
  {
   "cell_type": "markdown",
   "metadata": {},
   "source": [
    "```python\n",
    "# 修改utils_update.py\n",
    "temp_df = con.bdh(temp_list, fields, start, end)\n",
    "# 改为\n",
    "elements = [('CshAdjAbnormal', False), ('CapChg', False), ('CshAdjNormal', False)]\n",
    "temp_df = con.bdh(temp_list, fields, start, end, elms=elements)\n",
    "```"
   ]
  },
  {
   "cell_type": "markdown",
   "metadata": {},
   "source": [
    "#### 获取除权除息的数据"
   ]
  },
  {
   "cell_type": "markdown",
   "metadata": {},
   "source": [
    "```excel\n",
    "=BDS(\"AAPL US Equity\",\"DVD_HIST_ALL\",\"headers=y\",\"cols=7;rows=67\")\n",
    "```"
   ]
  },
  {
   "cell_type": "code",
   "execution_count": 15,
   "metadata": {},
   "outputs": [],
   "source": [
    "code = \"AAPL US Equity\"\n",
    "fields = \"DVD_HIST_ALL\"\n",
    "df_dvd = con.bulkref(code, fields)\n",
    "df_dvd"
   ]
  },
  {
   "cell_type": "code",
   "execution_count": null,
   "metadata": {},
   "outputs": [],
   "source": [
    "code = \"AAPL US Equity\"\n",
    "fields = \"DVD_HIST_ALL\"\n",
    "overrides = {'headers':True}\n",
    "df_dvd_2 = con.bulkref(code, fields, ovrds=overrides)\n",
    "df_dvd_2"
   ]
  },
  {
   "cell_type": "markdown",
   "metadata": {},
   "source": [
    "成功拿到这些数据之后，就是要考虑定点复权的问题\n",
    "\n",
    "还有数据更新的问题，以及他想加入新的code和etf的问题"
   ]
  },
  {
   "cell_type": "markdown",
   "metadata": {},
   "source": [
    "other bugs"
   ]
  },
  {
   "cell_type": "code",
   "execution_count": 1,
   "metadata": {},
   "outputs": [],
   "source": [
    "%load_ext autoreload\n",
    "%autoreload 2\n",
    "from utils_v2 import *"
   ]
  },
  {
   "cell_type": "code",
   "execution_count": 37,
   "metadata": {},
   "outputs": [
    {
     "data": {
      "application/vnd.jupyter.widget-view+json": {
       "model_id": "9ba9011aa3654b0eaf4b8d4b1007137d",
       "version_major": 2,
       "version_minor": 0
      },
      "text/plain": [
       "HBox(children=(IntProgress(value=0, max=25), HTML(value='')))"
      ]
     },
     "metadata": {},
     "output_type": "display_data"
    },
    {
     "name": "stdout",
     "output_type": "stream",
     "text": [
      "\n"
     ]
    },
    {
     "data": {
      "application/vnd.jupyter.widget-view+json": {
       "model_id": "319a75643dc44200bb5dede17edc0063",
       "version_major": 2,
       "version_minor": 0
      },
      "text/plain": [
       "HBox(children=(IntProgress(value=0, max=25), HTML(value='')))"
      ]
     },
     "metadata": {},
     "output_type": "display_data"
    },
    {
     "name": "stdout",
     "output_type": "stream",
     "text": [
      "\n"
     ]
    }
   ],
   "source": [
    "res1 = calc_pair_trading('SMH', period=245, rt_period=255)\n",
    "res2 = calc_pair_trading('SMH', period=1, rt_period=255)"
   ]
  },
  {
   "cell_type": "code",
   "execution_count": 38,
   "metadata": {},
   "outputs": [
    {
     "data": {
      "text/plain": [
       "-0.11748640146501806"
      ]
     },
     "execution_count": 38,
     "metadata": {},
     "output_type": "execute_result"
    }
   ],
   "source": [
    "res1['long_return'].sum().sum()"
   ]
  },
  {
   "cell_type": "code",
   "execution_count": 39,
   "metadata": {},
   "outputs": [
    {
     "data": {
      "text/plain": [
       "-0.15015685089676106"
      ]
     },
     "execution_count": 39,
     "metadata": {},
     "output_type": "execute_result"
    }
   ],
   "source": [
    "res2['long_return'].sum().sum()"
   ]
  },
  {
   "cell_type": "code",
   "execution_count": 40,
   "metadata": {},
   "outputs": [
    {
     "data": {
      "text/plain": [
       "-0.02789620492814109"
      ]
     },
     "execution_count": 40,
     "metadata": {},
     "output_type": "execute_result"
    }
   ],
   "source": [
    "res1['long_short_return'].sum().sum()"
   ]
  },
  {
   "cell_type": "code",
   "execution_count": 41,
   "metadata": {},
   "outputs": [
    {
     "data": {
      "text/plain": [
       "-0.09323710379162711"
      ]
     },
     "execution_count": 41,
     "metadata": {},
     "output_type": "execute_result"
    }
   ],
   "source": [
    "res2['long_short_return'].sum().sum()"
   ]
  },
  {
   "cell_type": "code",
   "execution_count": 2,
   "metadata": {
    "scrolled": true
   },
   "outputs": [
    {
     "data": {
      "application/vnd.jupyter.widget-view+json": {
       "model_id": "c519a512f24543f3ad4146e0ba86902a",
       "version_major": 2,
       "version_minor": 0
      },
      "text/plain": [
       "HBox(children=(IntProgress(value=0, max=95), HTML(value='')))"
      ]
     },
     "metadata": {},
     "output_type": "display_data"
    },
    {
     "name": "stdout",
     "output_type": "stream",
     "text": [
      "BKNG or IUGXX don't have data, please check\n",
      "GOOG or IUGXX don't have data, please check\n",
      "FB or IUGXX don't have data, please check\n",
      "AMZN or IUGXX don't have data, please check\n",
      "NFLX or IUGXX don't have data, please check\n",
      "AABA or IUGXX don't have data, please check\n",
      "EQIX or IUGXX don't have data, please check\n",
      "EBAY or IUGXX don't have data, please check\n",
      "BIDU or IUGXX don't have data, please check\n",
      "TWTR or IUGXX don't have data, please check\n",
      "JD or IUGXX don't have data, please check\n",
      "VRSN or IUGXX don't have data, please check\n",
      "NTES or IUGXX don't have data, please check\n",
      "EXPE or IUGXX don't have data, please check\n",
      "ANET or IUGXX don't have data, please check\n",
      "MELI or IUGXX don't have data, please check\n",
      "IAC or IUGXX don't have data, please check\n",
      "CTRP or IUGXX don't have data, please check\n",
      "CSGP or IUGXX don't have data, please check\n",
      "AKAM or IUGXX don't have data, please check\n",
      "GDDY or IUGXX don't have data, please check\n",
      "YNDX or IUGXX don't have data, please check\n",
      "TRIP or IUGXX don't have data, please check\n",
      "ETSY or IUGXX don't have data, please check\n",
      "OKTA or IUGXX don't have data, please check\n",
      "SNAP or IUGXX don't have data, please check\n",
      "NTNX or IUGXX don't have data, please check\n",
      "ATHM or IUGXX don't have data, please check\n",
      "NEWR or IUGXX don't have data, please check\n",
      "TTD or IUGXX don't have data, please check\n",
      "SINA or IUGXX don't have data, please check\n",
      "LOGM or IUGXX don't have data, please check\n",
      "WIX or IUGXX don't have data, please check\n",
      "WB or IUGXX don't have data, please check\n",
      "MOMO or IUGXX don't have data, please check\n",
      "JCOM or IUGXX don't have data, please check\n",
      "COUP or IUGXX don't have data, please check\n",
      "CMPR or IUGXX don't have data, please check\n",
      "TWOU or IUGXX don't have data, please check\n",
      "YY or IUGXX don't have data, please check\n",
      "CSOD or IUGXX don't have data, please check\n",
      "STMP or IUGXX don't have data, please check\n",
      "MTCH or IUGXX don't have data, please check\n",
      "ALRM or IUGXX don't have data, please check\n",
      "FIVN or IUGXX don't have data, please check\n",
      "P or IUGXX don't have data, please check\n",
      "ENV or IUGXX don't have data, please check\n",
      "LEXEA or IUGXX don't have data, please check\n",
      "CCOI or IUGXX don't have data, please check\n",
      "MIME or IUGXX don't have data, please check\n",
      "Z or IUGXX don't have data, please check\n",
      "GRPN or IUGXX don't have data, please check\n",
      "APTI or IUGXX don't have data, please check\n",
      "BNFT or IUGXX don't have data, please check\n",
      "CRTO or IUGXX don't have data, please check\n",
      "SE or IUGXX don't have data, please check\n",
      "MMYT or IUGXX don't have data, please check\n",
      "BZUN or IUGXX don't have data, please check\n",
      "SPSC or IUGXX don't have data, please check\n",
      "SFLY or IUGXX don't have data, please check\n",
      "NTRI or IUGXX don't have data, please check\n",
      "BCOR or IUGXX don't have data, please check\n",
      "LTRPA or IUGXX don't have data, please check\n",
      "HDP or IUGXX don't have data, please check\n",
      "SSTK or IUGXX don't have data, please check\n",
      "GDS or IUGXX don't have data, please check\n",
      "LPSN or IUGXX don't have data, please check\n",
      "MB or IUGXX don't have data, please check\n",
      "EIGI or IUGXX don't have data, please check\n",
      "TRUE or IUGXX don't have data, please check\n",
      "APPF or IUGXX don't have data, please check\n",
      "WIFI or IUGXX don't have data, please check\n",
      "CARB or IUGXX don't have data, please check\n",
      "SOHU or IUGXX don't have data, please check\n",
      "EGOV or IUGXX don't have data, please check\n",
      "QNST or IUGXX don't have data, please check\n",
      "TCX or IUGXX don't have data, please check\n",
      "VNET or IUGXX don't have data, please check\n",
      "SOGO or IUGXX don't have data, please check\n",
      "PETS or IUGXX don't have data, please check\n",
      "IUGXX or LE don't have data, please check\n",
      "IUGXX or FLWS don't have data, please check\n",
      "IUGXX or OSTK don't have data, please check\n",
      "IUGXX or SWCH don't have data, please check\n",
      "IUGXX or GOGO don't have data, please check\n",
      "IUGXX or LLNW don't have data, please check\n",
      "IUGXX or BCOV don't have data, please check\n",
      "IUGXX or WBAI don't have data, please check\n",
      "IUGXX or LQDT don't have data, please check\n",
      "IUGXX or EGAN don't have data, please check\n",
      "IUGXX or XNET don't have data, please check\n",
      "IUGXX or VERI don't have data, please check\n",
      "IUGXX or INAP don't have data, please check\n",
      "IUGXX or MARK don't have data, please check\n",
      "\n"
     ]
    }
   ],
   "source": [
    "res3 = calc_pair_trading('PNQI', period=245, rt_period=255)"
   ]
  },
  {
   "cell_type": "code",
   "execution_count": 7,
   "metadata": {},
   "outputs": [
    {
     "data": {
      "text/html": [
       "<div>\n",
       "<style scoped>\n",
       "    .dataframe tbody tr th:only-of-type {\n",
       "        vertical-align: middle;\n",
       "    }\n",
       "\n",
       "    .dataframe tbody tr th {\n",
       "        vertical-align: top;\n",
       "    }\n",
       "\n",
       "    .dataframe thead th {\n",
       "        text-align: right;\n",
       "    }\n",
       "</style>\n",
       "<table border=\"1\" class=\"dataframe\">\n",
       "  <thead>\n",
       "    <tr style=\"text-align: right;\">\n",
       "      <th></th>\n",
       "      <th></th>\n",
       "      <th>high</th>\n",
       "      <th>open</th>\n",
       "      <th>low</th>\n",
       "      <th>volume</th>\n",
       "      <th>Adj Close</th>\n",
       "    </tr>\n",
       "    <tr>\n",
       "      <th>date</th>\n",
       "      <th>code</th>\n",
       "      <th></th>\n",
       "      <th></th>\n",
       "      <th></th>\n",
       "      <th></th>\n",
       "      <th></th>\n",
       "    </tr>\n",
       "  </thead>\n",
       "  <tbody>\n",
       "    <tr>\n",
       "      <th rowspan=\"5\" valign=\"top\">2019-01-17</th>\n",
       "      <th>9684</th>\n",
       "      <td>3430.00</td>\n",
       "      <td>3345.00</td>\n",
       "      <td>3315.00</td>\n",
       "      <td>767100.0</td>\n",
       "      <td>3420.00</td>\n",
       "    </tr>\n",
       "    <tr>\n",
       "      <th>9697</th>\n",
       "      <td>2214.00</td>\n",
       "      <td>2179.00</td>\n",
       "      <td>2157.00</td>\n",
       "      <td>488900.0</td>\n",
       "      <td>2204.00</td>\n",
       "    </tr>\n",
       "    <tr>\n",
       "      <th>9766</th>\n",
       "      <td>5040.00</td>\n",
       "      <td>4995.00</td>\n",
       "      <td>4940.00</td>\n",
       "      <td>295600.0</td>\n",
       "      <td>4955.00</td>\n",
       "    </tr>\n",
       "    <tr>\n",
       "      <th>981</th>\n",
       "      <td>6.70</td>\n",
       "      <td>6.56</td>\n",
       "      <td>6.52</td>\n",
       "      <td>9717418.0</td>\n",
       "      <td>6.60</td>\n",
       "    </tr>\n",
       "    <tr>\n",
       "      <th>992</th>\n",
       "      <td>5.53</td>\n",
       "      <td>5.50</td>\n",
       "      <td>5.43</td>\n",
       "      <td>41066809.0</td>\n",
       "      <td>5.49</td>\n",
       "    </tr>\n",
       "  </tbody>\n",
       "</table>\n",
       "</div>"
      ],
      "text/plain": [
       "                    high     open      low      volume  Adj Close\n",
       "date       code                                                  \n",
       "2019-01-17 9684  3430.00  3345.00  3315.00    767100.0    3420.00\n",
       "           9697  2214.00  2179.00  2157.00    488900.0    2204.00\n",
       "           9766  5040.00  4995.00  4940.00    295600.0    4955.00\n",
       "           981      6.70     6.56     6.52   9717418.0       6.60\n",
       "           992      5.53     5.50     5.43  41066809.0       5.49"
      ]
     },
     "execution_count": 7,
     "metadata": {},
     "output_type": "execute_result"
    }
   ],
   "source": [
    "ol_data.loc[(slice('2015','2099'), slice(None)), :].tail()"
   ]
  },
  {
   "cell_type": "code",
   "execution_count": null,
   "metadata": {},
   "outputs": [],
   "source": []
  }
 ],
 "metadata": {
  "kernelspec": {
   "display_name": "Python (quant)",
   "language": "python",
   "name": "quant"
  },
  "language_info": {
   "codemirror_mode": {
    "name": "ipython",
    "version": 3
   },
   "file_extension": ".py",
   "mimetype": "text/x-python",
   "name": "python",
   "nbconvert_exporter": "python",
   "pygments_lexer": "ipython3",
   "version": "3.6.6"
  },
  "toc": {
   "base_numbering": 1,
   "nav_menu": {},
   "number_sections": true,
   "sideBar": true,
   "skip_h1_title": false,
   "title_cell": "Table of Contents",
   "title_sidebar": "Contents",
   "toc_cell": false,
   "toc_position": {},
   "toc_section_display": true,
   "toc_window_display": false
  },
  "varInspector": {
   "cols": {
    "lenName": 16,
    "lenType": 16,
    "lenVar": 40
   },
   "kernels_config": {
    "python": {
     "delete_cmd_postfix": "",
     "delete_cmd_prefix": "del ",
     "library": "var_list.py",
     "varRefreshCmd": "print(var_dic_list())"
    },
    "r": {
     "delete_cmd_postfix": ") ",
     "delete_cmd_prefix": "rm(",
     "library": "var_list.r",
     "varRefreshCmd": "cat(var_dic_list()) "
    }
   },
   "types_to_exclude": [
    "module",
    "function",
    "builtin_function_or_method",
    "instance",
    "_Feature"
   ],
   "window_display": false
  }
 },
 "nbformat": 4,
 "nbformat_minor": 2
}
