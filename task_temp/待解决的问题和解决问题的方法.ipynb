{
 "cells": [
  {
   "cell_type": "markdown",
   "metadata": {},
   "source": [
    "1. 港股的汇率问题;\n",
    "2. 使用不复权的数据和除权除息的数据,定点复权"
   ]
  },
  {
   "cell_type": "markdown",
   "metadata": {},
   "source": [
    "### 港股的汇率问题"
   ]
  },
  {
   "cell_type": "code",
   "execution_count": 2,
   "metadata": {},
   "outputs": [],
   "source": [
    "# 首先是拿到HKD/USD的数据\n",
    "import numpy as np\n",
    "import pandas as pd\n",
    "import matplotlib.pyplot as plt\n",
    "import talib as ta\n",
    "import datetime, time\n",
    "import pickle\n",
    "from tqdm import tqdm_notebook\n",
    "\n",
    "import pdblp as pb\n",
    "import blpapi\n",
    "\n",
    "con = pb.BCon(port=8194, timeout=5000)\n",
    "# con.start()\n",
    "\n",
    "code = 'USDHKD BGNL Curncy'\n",
    "start = '20100101'\n",
    "end = '20190117'\n",
    "# df = con.bdh(code, ['PX_LAST'], start, end)"
   ]
  },
  {
   "cell_type": "code",
   "execution_count": 4,
   "metadata": {
    "collapsed": true
   },
   "outputs": [
    {
     "data": {
      "text/html": [
       "<div>\n",
       "<style scoped>\n",
       "    .dataframe tbody tr th:only-of-type {\n",
       "        vertical-align: middle;\n",
       "    }\n",
       "\n",
       "    .dataframe tbody tr th {\n",
       "        vertical-align: top;\n",
       "    }\n",
       "\n",
       "    .dataframe thead tr th {\n",
       "        text-align: left;\n",
       "    }\n",
       "\n",
       "    .dataframe thead tr:last-of-type th {\n",
       "        text-align: right;\n",
       "    }\n",
       "</style>\n",
       "<table border=\"1\" class=\"dataframe\">\n",
       "  <thead>\n",
       "    <tr>\n",
       "      <th>ticker</th>\n",
       "      <th>USDHKD BGNL Curncy</th>\n",
       "    </tr>\n",
       "    <tr>\n",
       "      <th>field</th>\n",
       "      <th>PX_LAST</th>\n",
       "    </tr>\n",
       "    <tr>\n",
       "      <th>date</th>\n",
       "      <th></th>\n",
       "    </tr>\n",
       "  </thead>\n",
       "  <tbody>\n",
       "    <tr>\n",
       "      <th>2010-01-01</th>\n",
       "      <td>7.7552</td>\n",
       "    </tr>\n",
       "    <tr>\n",
       "      <th>2010-01-04</th>\n",
       "      <td>7.7554</td>\n",
       "    </tr>\n",
       "    <tr>\n",
       "      <th>2010-01-05</th>\n",
       "      <td>7.7569</td>\n",
       "    </tr>\n",
       "    <tr>\n",
       "      <th>2010-01-06</th>\n",
       "      <td>7.7547</td>\n",
       "    </tr>\n",
       "    <tr>\n",
       "      <th>2010-01-07</th>\n",
       "      <td>7.7546</td>\n",
       "    </tr>\n",
       "  </tbody>\n",
       "</table>\n",
       "</div>"
      ],
      "text/plain": [
       "ticker     USDHKD BGNL Curncy\n",
       "field                 PX_LAST\n",
       "date                         \n",
       "2010-01-01             7.7552\n",
       "2010-01-04             7.7554\n",
       "2010-01-05             7.7569\n",
       "2010-01-06             7.7547\n",
       "2010-01-07             7.7546"
      ]
     },
     "execution_count": 4,
     "metadata": {},
     "output_type": "execute_result"
    }
   ],
   "source": [
    "with open('data/df_cur', 'rb') as f:\n",
    "    df = pickle.load(f)\n",
    "df.head()"
   ]
  },
  {
   "cell_type": "code",
   "execution_count": 5,
   "metadata": {
    "collapsed": true
   },
   "outputs": [
    {
     "data": {
      "text/html": [
       "<div>\n",
       "<style scoped>\n",
       "    .dataframe tbody tr th:only-of-type {\n",
       "        vertical-align: middle;\n",
       "    }\n",
       "\n",
       "    .dataframe tbody tr th {\n",
       "        vertical-align: top;\n",
       "    }\n",
       "\n",
       "    .dataframe thead tr th {\n",
       "        text-align: left;\n",
       "    }\n",
       "\n",
       "    .dataframe thead tr:last-of-type th {\n",
       "        text-align: right;\n",
       "    }\n",
       "</style>\n",
       "<table border=\"1\" class=\"dataframe\">\n",
       "  <thead>\n",
       "    <tr>\n",
       "      <th>ticker</th>\n",
       "      <th>USDHKD BGNL Curncy</th>\n",
       "    </tr>\n",
       "    <tr>\n",
       "      <th>field</th>\n",
       "      <th>PX_LAST</th>\n",
       "    </tr>\n",
       "    <tr>\n",
       "      <th>date</th>\n",
       "      <th></th>\n",
       "    </tr>\n",
       "  </thead>\n",
       "  <tbody>\n",
       "    <tr>\n",
       "      <th>2019-01-11</th>\n",
       "      <td>7.8394</td>\n",
       "    </tr>\n",
       "    <tr>\n",
       "      <th>2019-01-14</th>\n",
       "      <td>7.8425</td>\n",
       "    </tr>\n",
       "    <tr>\n",
       "      <th>2019-01-15</th>\n",
       "      <td>7.8433</td>\n",
       "    </tr>\n",
       "    <tr>\n",
       "      <th>2019-01-16</th>\n",
       "      <td>7.8431</td>\n",
       "    </tr>\n",
       "    <tr>\n",
       "      <th>2019-01-17</th>\n",
       "      <td>7.8432</td>\n",
       "    </tr>\n",
       "  </tbody>\n",
       "</table>\n",
       "</div>"
      ],
      "text/plain": [
       "ticker     USDHKD BGNL Curncy\n",
       "field                 PX_LAST\n",
       "date                         \n",
       "2019-01-11             7.8394\n",
       "2019-01-14             7.8425\n",
       "2019-01-15             7.8433\n",
       "2019-01-16             7.8431\n",
       "2019-01-17             7.8432"
      ]
     },
     "execution_count": 5,
     "metadata": {},
     "output_type": "execute_result"
    }
   ],
   "source": [
    "df.tail()"
   ]
  },
  {
   "cell_type": "markdown",
   "metadata": {},
   "source": [
    "```\n",
    "ticker\tUSDHKD BGNL Curncy\n",
    "field\tPX_LAST\n",
    "date\t\n",
    "2019-01-21\t7.8448\n",
    "2019-01-22\t7.8455\n",
    "2019-01-23\t7.8462\n",
    "2019-01-24\t7.8458\n",
    "2019-01-25\t7.8466\n",
    "```"
   ]
  },
  {
   "cell_type": "code",
   "execution_count": 7,
   "metadata": {},
   "outputs": [
    {
     "data": {
      "text/html": [
       "<div>\n",
       "<style scoped>\n",
       "    .dataframe tbody tr th:only-of-type {\n",
       "        vertical-align: middle;\n",
       "    }\n",
       "\n",
       "    .dataframe tbody tr th {\n",
       "        vertical-align: top;\n",
       "    }\n",
       "\n",
       "    .dataframe thead th {\n",
       "        text-align: right;\n",
       "    }\n",
       "</style>\n",
       "<table border=\"1\" class=\"dataframe\">\n",
       "  <thead>\n",
       "    <tr style=\"text-align: right;\">\n",
       "      <th>field</th>\n",
       "      <th>PX_LAST</th>\n",
       "    </tr>\n",
       "    <tr>\n",
       "      <th>date</th>\n",
       "      <th></th>\n",
       "    </tr>\n",
       "  </thead>\n",
       "  <tbody>\n",
       "    <tr>\n",
       "      <th>2010-01-01</th>\n",
       "      <td>7.7552</td>\n",
       "    </tr>\n",
       "    <tr>\n",
       "      <th>2010-01-04</th>\n",
       "      <td>7.7554</td>\n",
       "    </tr>\n",
       "    <tr>\n",
       "      <th>2010-01-05</th>\n",
       "      <td>7.7569</td>\n",
       "    </tr>\n",
       "    <tr>\n",
       "      <th>2010-01-06</th>\n",
       "      <td>7.7547</td>\n",
       "    </tr>\n",
       "    <tr>\n",
       "      <th>2010-01-07</th>\n",
       "      <td>7.7546</td>\n",
       "    </tr>\n",
       "  </tbody>\n",
       "</table>\n",
       "</div>"
      ],
      "text/plain": [
       "field       PX_LAST\n",
       "date               \n",
       "2010-01-01   7.7552\n",
       "2010-01-04   7.7554\n",
       "2010-01-05   7.7569\n",
       "2010-01-06   7.7547\n",
       "2010-01-07   7.7546"
      ]
     },
     "execution_count": 7,
     "metadata": {},
     "output_type": "execute_result"
    }
   ],
   "source": [
    "df[code].head()"
   ]
  },
  {
   "cell_type": "code",
   "execution_count": 8,
   "metadata": {},
   "outputs": [],
   "source": [
    "# 然后对港股的行情数据进行处理\n",
    "from utils import *"
   ]
  },
  {
   "cell_type": "code",
   "execution_count": 9,
   "metadata": {},
   "outputs": [],
   "source": [
    "data = ol_data.copy()"
   ]
  },
  {
   "cell_type": "code",
   "execution_count": 10,
   "metadata": {},
   "outputs": [],
   "source": [
    "hk_code = df_code.query('region == \"HK Equity\"').symbol.unique().tolist()"
   ]
  },
  {
   "cell_type": "code",
   "execution_count": 14,
   "metadata": {},
   "outputs": [],
   "source": [
    "# hk_code"
   ]
  },
  {
   "cell_type": "code",
   "execution_count": 25,
   "metadata": {},
   "outputs": [
    {
     "data": {
      "text/plain": [
       "'2010-01-01'"
      ]
     },
     "execution_count": 25,
     "metadata": {},
     "output_type": "execute_result"
    }
   ],
   "source": [
    "df.index[0].strftime('%Y-%m-%d')"
   ]
  },
  {
   "cell_type": "code",
   "execution_count": 13,
   "metadata": {},
   "outputs": [
    {
     "data": {
      "text/html": [
       "<div>\n",
       "<style scoped>\n",
       "    .dataframe tbody tr th:only-of-type {\n",
       "        vertical-align: middle;\n",
       "    }\n",
       "\n",
       "    .dataframe tbody tr th {\n",
       "        vertical-align: top;\n",
       "    }\n",
       "\n",
       "    .dataframe thead th {\n",
       "        text-align: right;\n",
       "    }\n",
       "</style>\n",
       "<table border=\"1\" class=\"dataframe\">\n",
       "  <thead>\n",
       "    <tr style=\"text-align: right;\">\n",
       "      <th></th>\n",
       "      <th></th>\n",
       "      <th>high</th>\n",
       "      <th>open</th>\n",
       "      <th>low</th>\n",
       "      <th>volume</th>\n",
       "      <th>Adj Close</th>\n",
       "    </tr>\n",
       "    <tr>\n",
       "      <th>date</th>\n",
       "      <th>code</th>\n",
       "      <th></th>\n",
       "      <th></th>\n",
       "      <th></th>\n",
       "      <th></th>\n",
       "      <th></th>\n",
       "    </tr>\n",
       "  </thead>\n",
       "  <tbody>\n",
       "    <tr>\n",
       "      <th rowspan=\"5\" valign=\"top\">2010-01-04</th>\n",
       "      <th>1149</th>\n",
       "      <td>0.615</td>\n",
       "      <td>0.605</td>\n",
       "      <td>0.530</td>\n",
       "      <td>5244000.0</td>\n",
       "      <td>0.558</td>\n",
       "    </tr>\n",
       "    <tr>\n",
       "      <th>1385</th>\n",
       "      <td>1.583</td>\n",
       "      <td>1.483</td>\n",
       "      <td>1.465</td>\n",
       "      <td>1420000.0</td>\n",
       "      <td>1.574</td>\n",
       "    </tr>\n",
       "    <tr>\n",
       "      <th>148</th>\n",
       "      <td>18.469</td>\n",
       "      <td>18.171</td>\n",
       "      <td>17.725</td>\n",
       "      <td>966247.0</td>\n",
       "      <td>17.934</td>\n",
       "    </tr>\n",
       "    <tr>\n",
       "      <th>1686</th>\n",
       "      <td>0.336</td>\n",
       "      <td>0.319</td>\n",
       "      <td>0.319</td>\n",
       "      <td>8601612.0</td>\n",
       "      <td>0.332</td>\n",
       "    </tr>\n",
       "    <tr>\n",
       "      <th>1888</th>\n",
       "      <td>3.295</td>\n",
       "      <td>3.150</td>\n",
       "      <td>3.110</td>\n",
       "      <td>6502000.0</td>\n",
       "      <td>3.254</td>\n",
       "    </tr>\n",
       "  </tbody>\n",
       "</table>\n",
       "</div>"
      ],
      "text/plain": [
       "                   high    open     low     volume  Adj Close\n",
       "date       code                                              \n",
       "2010-01-04 1149   0.615   0.605   0.530  5244000.0      0.558\n",
       "           1385   1.583   1.483   1.465  1420000.0      1.574\n",
       "           148   18.469  18.171  17.725   966247.0     17.934\n",
       "           1686   0.336   0.319   0.319  8601612.0      0.332\n",
       "           1888   3.295   3.150   3.110  6502000.0      3.254"
      ]
     },
     "execution_count": 13,
     "metadata": {},
     "output_type": "execute_result"
    }
   ],
   "source": [
    "data.loc[(slice(None), hk_code),:].head()"
   ]
  },
  {
   "cell_type": "code",
   "execution_count": 30,
   "metadata": {},
   "outputs": [
    {
     "data": {
      "text/plain": [
       "7.7552"
      ]
     },
     "execution_count": 30,
     "metadata": {},
     "output_type": "execute_result"
    }
   ],
   "source": [
    "df.iloc[0][0]"
   ]
  },
  {
   "cell_type": "code",
   "execution_count": 35,
   "metadata": {},
   "outputs": [
    {
     "name": "stdout",
     "output_type": "stream",
     "text": [
      "Empty DataFrame\n",
      "Columns: [high, open, low, volume, Adj Close]\n",
      "Index: []\n",
      "                     high      open       low        volume  Adj Close\n",
      "date       code                                                       \n",
      "2010-01-04 1149  0.079300  0.078010  0.068339  6.761740e+05   0.071950\n",
      "           1385  0.204116  0.191222  0.188901  1.830982e+05   0.202955\n",
      "           148   2.381437  2.343013  2.285504  1.245902e+05   2.312453\n",
      "           1686  0.043325  0.041133  0.041133  1.109113e+06   0.042809\n",
      "           1888  0.424865  0.406169  0.401011  8.383836e+05   0.419579\n",
      "                     high      open       low         volume  Adj Close\n",
      "date       code                                                        \n",
      "2010-01-05 1149  0.074385  0.073096  0.070647  298572.883497   0.074385\n",
      "           1385  0.209878  0.205237  0.199306  242364.862252   0.207557\n",
      "           148   2.384844  2.315745  2.315745  132032.899741   2.373242\n",
      "           1686  0.043316  0.043316  0.042414  496362.722222   0.042801\n",
      "           1888  0.437417  0.424783  0.424783  653766.324176   0.434452\n",
      "                     high      open       low         volume  Adj Close\n",
      "date       code                                                        \n",
      "2010-01-06 1149  0.075567  0.075567  0.068346  465782.041858   0.068346\n",
      "           1385  0.218061  0.201813  0.201813  188530.826467   0.218061\n",
      "           148   2.485203  2.354830  2.350961  227826.479425   2.358570\n",
      "           1686  0.042813  0.042426  0.041910  182390.808155   0.042426\n",
      "           1888  0.443473  0.434575  0.423356  489703.018814   0.438315\n",
      "                     high      open       low        volume  Adj Close\n",
      "date       code                                                       \n",
      "2010-01-07 1149  0.075568  0.070668  0.068347  1.107988e+06   0.073118\n",
      "           1385  0.218064  0.218064  0.206458  2.063291e+05   0.212261\n",
      "           148   2.408506  2.385552  2.324169  8.630593e+04   2.339515\n",
      "           1686  0.042426  0.041911  0.041524  3.740624e+05   0.042426\n",
      "           1888  0.449411  0.441286  0.438320  4.363217e+05   0.439094\n"
     ]
    }
   ],
   "source": [
    "# 指定日期\n",
    "for i in df.index[:5]:\n",
    "    time_str = i.strftime('%Y-%m-%d')\n",
    "#     data.loc[(time_str, hk_code),:] = data.loc[(time_str, hk_code),:] / df[i][0]\n",
    "    print((data.loc[(time_str, hk_code),:] / df.loc[i][0]).head())\n",
    "#     print(data.loc[(time_str, hk_code),:].head() )\n",
    "\n",
    "# save data"
   ]
  },
  {
   "cell_type": "markdown",
   "metadata": {},
   "source": [
    "### 使用不复权的数据和除权除息的数据,定点复权"
   ]
  },
  {
   "cell_type": "markdown",
   "metadata": {},
   "source": [
    "#### 拿到不复权的数据"
   ]
  },
  {
   "cell_type": "markdown",
   "metadata": {},
   "source": [
    "```python\n",
    "# 修改utils_update.py\n",
    "temp_df = con.bdh(temp_list, fields, start, end)\n",
    "# 改为\n",
    "elements = [('CshAdjAbnormal', False), ('CapChg', False), ('CshAdjNormal', False)]\n",
    "temp_df = con.bdh(temp_list, fields, start, end, elms=elements)\n",
    "```"
   ]
  },
  {
   "cell_type": "markdown",
   "metadata": {},
   "source": [
    "#### 获取除权除息的数据"
   ]
  },
  {
   "cell_type": "markdown",
   "metadata": {},
   "source": [
    "```excel\n",
    "=BDS(\"AAPL US Equity\",\"DVD_HIST_ALL\",\"headers=y\",\"cols=7;rows=67\")\n",
    "```"
   ]
  },
  {
   "cell_type": "code",
   "execution_count": 15,
   "metadata": {},
   "outputs": [],
   "source": [
    "code = \"AAPL US Equity\"\n",
    "fields = \"DVD_HIST_ALL\"\n",
    "df_dvd = con.bulkref(code, fields)\n",
    "df_dvd"
   ]
  },
  {
   "cell_type": "code",
   "execution_count": null,
   "metadata": {},
   "outputs": [],
   "source": [
    "code = \"AAPL US Equity\"\n",
    "fields = \"DVD_HIST_ALL\"\n",
    "overrides = {'headers':True}\n",
    "df_dvd_2 = con.bulkref(code, fields, ovrds=overrides)\n",
    "df_dvd_2"
   ]
  },
  {
   "cell_type": "markdown",
   "metadata": {},
   "source": [
    "成功拿到这些数据之后，就是要考虑定点复权的问题\n",
    "\n",
    "还有数据更新的问题，以及他想加入新的code和etf的问题"
   ]
  },
  {
   "cell_type": "code",
   "execution_count": 1,
   "metadata": {},
   "outputs": [],
   "source": [
    "from utils_v2 import *"
   ]
  },
  {
   "cell_type": "code",
   "execution_count": 37,
   "metadata": {},
   "outputs": [
    {
     "data": {
      "application/vnd.jupyter.widget-view+json": {
       "model_id": "9ba9011aa3654b0eaf4b8d4b1007137d",
       "version_major": 2,
       "version_minor": 0
      },
      "text/plain": [
       "HBox(children=(IntProgress(value=0, max=25), HTML(value='')))"
      ]
     },
     "metadata": {},
     "output_type": "display_data"
    },
    {
     "name": "stdout",
     "output_type": "stream",
     "text": [
      "\n"
     ]
    },
    {
     "data": {
      "application/vnd.jupyter.widget-view+json": {
       "model_id": "319a75643dc44200bb5dede17edc0063",
       "version_major": 2,
       "version_minor": 0
      },
      "text/plain": [
       "HBox(children=(IntProgress(value=0, max=25), HTML(value='')))"
      ]
     },
     "metadata": {},
     "output_type": "display_data"
    },
    {
     "name": "stdout",
     "output_type": "stream",
     "text": [
      "\n"
     ]
    }
   ],
   "source": [
    "res1 = calc_pair_trading('SMH', period=245, rt_period=255)\n",
    "res2 = calc_pair_trading('SMH', period=1, rt_period=255)"
   ]
  },
  {
   "cell_type": "code",
   "execution_count": 38,
   "metadata": {},
   "outputs": [
    {
     "data": {
      "text/plain": [
       "-0.11748640146501806"
      ]
     },
     "execution_count": 38,
     "metadata": {},
     "output_type": "execute_result"
    }
   ],
   "source": [
    "res1['long_return'].sum().sum()"
   ]
  },
  {
   "cell_type": "code",
   "execution_count": 39,
   "metadata": {},
   "outputs": [
    {
     "data": {
      "text/plain": [
       "-0.15015685089676106"
      ]
     },
     "execution_count": 39,
     "metadata": {},
     "output_type": "execute_result"
    }
   ],
   "source": [
    "res2['long_return'].sum().sum()"
   ]
  },
  {
   "cell_type": "code",
   "execution_count": 40,
   "metadata": {},
   "outputs": [
    {
     "data": {
      "text/plain": [
       "-0.02789620492814109"
      ]
     },
     "execution_count": 40,
     "metadata": {},
     "output_type": "execute_result"
    }
   ],
   "source": [
    "res1['long_short_return'].sum().sum()"
   ]
  },
  {
   "cell_type": "code",
   "execution_count": 41,
   "metadata": {},
   "outputs": [
    {
     "data": {
      "text/plain": [
       "-0.09323710379162711"
      ]
     },
     "execution_count": 41,
     "metadata": {},
     "output_type": "execute_result"
    }
   ],
   "source": [
    "res2['long_short_return'].sum().sum()"
   ]
  },
  {
   "cell_type": "code",
   "execution_count": null,
   "metadata": {},
   "outputs": [
    {
     "data": {
      "application/vnd.jupyter.widget-view+json": {
       "model_id": "b281c8015456445989b1ea3a4f838316",
       "version_major": 2,
       "version_minor": 0
      },
      "text/plain": [
       "HBox(children=(IntProgress(value=0, max=95), HTML(value='')))"
      ]
     },
     "metadata": {},
     "output_type": "display_data"
    },
    {
     "name": "stdout",
     "output_type": "stream",
     "text": [
      "BKNG or IUGXX don't have data, please check\n",
      "GOOG or IUGXX don't have data, please check\n",
      "FB or IUGXX don't have data, please check\n",
      "AMZN or IUGXX don't have data, please check\n",
      "NFLX or IUGXX don't have data, please check\n",
      "AABA or IUGXX don't have data, please check\n",
      "EQIX or IUGXX don't have data, please check\n",
      "EBAY or IUGXX don't have data, please check\n",
      "BIDU or IUGXX don't have data, please check\n"
     ]
    }
   ],
   "source": [
    "res3 = calc_pair_trading('PNQI', period=245, rt_period=255)"
   ]
  },
  {
   "cell_type": "code",
   "execution_count": 6,
   "metadata": {},
   "outputs": [
    {
     "data": {
      "text/html": [
       "<div>\n",
       "<style scoped>\n",
       "    .dataframe tbody tr th:only-of-type {\n",
       "        vertical-align: middle;\n",
       "    }\n",
       "\n",
       "    .dataframe tbody tr th {\n",
       "        vertical-align: top;\n",
       "    }\n",
       "\n",
       "    .dataframe thead th {\n",
       "        text-align: right;\n",
       "    }\n",
       "</style>\n",
       "<table border=\"1\" class=\"dataframe\">\n",
       "  <thead>\n",
       "    <tr style=\"text-align: right;\">\n",
       "      <th></th>\n",
       "      <th></th>\n",
       "      <th>high</th>\n",
       "      <th>open</th>\n",
       "      <th>low</th>\n",
       "      <th>volume</th>\n",
       "      <th>Adj Close</th>\n",
       "    </tr>\n",
       "    <tr>\n",
       "      <th>date</th>\n",
       "      <th>code</th>\n",
       "      <th></th>\n",
       "      <th></th>\n",
       "      <th></th>\n",
       "      <th></th>\n",
       "      <th></th>\n",
       "    </tr>\n",
       "  </thead>\n",
       "  <tbody>\n",
       "    <tr>\n",
       "      <th rowspan=\"30\" valign=\"top\">2015-01-02</th>\n",
       "      <th>036570</th>\n",
       "      <td>173379.000</td>\n",
       "      <td>172901.000</td>\n",
       "      <td>169558.000</td>\n",
       "      <td>171149.0</td>\n",
       "      <td>172424.000</td>\n",
       "    </tr>\n",
       "    <tr>\n",
       "      <th>053800</th>\n",
       "      <td>34946.000</td>\n",
       "      <td>34753.000</td>\n",
       "      <td>34174.000</td>\n",
       "      <td>42121.0</td>\n",
       "      <td>34657.000</td>\n",
       "    </tr>\n",
       "    <tr>\n",
       "      <th>069080</th>\n",
       "      <td>30200.000</td>\n",
       "      <td>28500.000</td>\n",
       "      <td>28100.000</td>\n",
       "      <td>1988995.0</td>\n",
       "      <td>28700.000</td>\n",
       "    </tr>\n",
       "    <tr>\n",
       "      <th>078340</th>\n",
       "      <td>128112.000</td>\n",
       "      <td>117080.000</td>\n",
       "      <td>116738.000</td>\n",
       "      <td>841240.0</td>\n",
       "      <td>123922.000</td>\n",
       "    </tr>\n",
       "    <tr>\n",
       "      <th>095660</th>\n",
       "      <td>23100.000</td>\n",
       "      <td>22650.000</td>\n",
       "      <td>22200.000</td>\n",
       "      <td>201636.0</td>\n",
       "      <td>22900.000</td>\n",
       "    </tr>\n",
       "    <tr>\n",
       "      <th>1089</th>\n",
       "      <td>0.850</td>\n",
       "      <td>0.850</td>\n",
       "      <td>0.820</td>\n",
       "      <td>11905000.0</td>\n",
       "      <td>0.850</td>\n",
       "    </tr>\n",
       "    <tr>\n",
       "      <th>112040</th>\n",
       "      <td>37970.000</td>\n",
       "      <td>36338.000</td>\n",
       "      <td>36338.000</td>\n",
       "      <td>215380.0</td>\n",
       "      <td>37922.000</td>\n",
       "    </tr>\n",
       "    <tr>\n",
       "      <th>1149</th>\n",
       "      <td>0.510</td>\n",
       "      <td>0.490</td>\n",
       "      <td>0.490</td>\n",
       "      <td>3408000.0</td>\n",
       "      <td>0.495</td>\n",
       "    </tr>\n",
       "    <tr>\n",
       "      <th>1236</th>\n",
       "      <td>2.680</td>\n",
       "      <td>2.610</td>\n",
       "      <td>2.610</td>\n",
       "      <td>2000000.0</td>\n",
       "      <td>2.680</td>\n",
       "    </tr>\n",
       "    <tr>\n",
       "      <th>1347</th>\n",
       "      <td>9.212</td>\n",
       "      <td>9.212</td>\n",
       "      <td>8.843</td>\n",
       "      <td>141000.0</td>\n",
       "      <td>9.046</td>\n",
       "    </tr>\n",
       "    <tr>\n",
       "      <th>1385</th>\n",
       "      <td>6.790</td>\n",
       "      <td>6.790</td>\n",
       "      <td>5.900</td>\n",
       "      <td>300000.0</td>\n",
       "      <td>6.160</td>\n",
       "    </tr>\n",
       "    <tr>\n",
       "      <th>148</th>\n",
       "      <td>10.928</td>\n",
       "      <td>10.797</td>\n",
       "      <td>10.699</td>\n",
       "      <td>691900.0</td>\n",
       "      <td>10.912</td>\n",
       "    </tr>\n",
       "    <tr>\n",
       "      <th>1686</th>\n",
       "      <td>2.127</td>\n",
       "      <td>2.092</td>\n",
       "      <td>2.092</td>\n",
       "      <td>741000.0</td>\n",
       "      <td>2.101</td>\n",
       "    </tr>\n",
       "    <tr>\n",
       "      <th>1888</th>\n",
       "      <td>2.103</td>\n",
       "      <td>2.066</td>\n",
       "      <td>2.066</td>\n",
       "      <td>4864000.0</td>\n",
       "      <td>2.095</td>\n",
       "    </tr>\n",
       "    <tr>\n",
       "      <th>1980</th>\n",
       "      <td>3.898</td>\n",
       "      <td>3.898</td>\n",
       "      <td>3.661</td>\n",
       "      <td>1445000.0</td>\n",
       "      <td>3.718</td>\n",
       "    </tr>\n",
       "    <tr>\n",
       "      <th>2018</th>\n",
       "      <td>38.607</td>\n",
       "      <td>38.515</td>\n",
       "      <td>37.678</td>\n",
       "      <td>673485.0</td>\n",
       "      <td>38.282</td>\n",
       "    </tr>\n",
       "    <tr>\n",
       "      <th>2280</th>\n",
       "      <td>7.498</td>\n",
       "      <td>7.122</td>\n",
       "      <td>7.122</td>\n",
       "      <td>2462000.0</td>\n",
       "      <td>7.449</td>\n",
       "    </tr>\n",
       "    <tr>\n",
       "      <th>2342</th>\n",
       "      <td>1.813</td>\n",
       "      <td>1.794</td>\n",
       "      <td>1.735</td>\n",
       "      <td>7832650.0</td>\n",
       "      <td>1.748</td>\n",
       "    </tr>\n",
       "    <tr>\n",
       "      <th>2369</th>\n",
       "      <td>1.546</td>\n",
       "      <td>1.536</td>\n",
       "      <td>1.497</td>\n",
       "      <td>9087173.0</td>\n",
       "      <td>1.516</td>\n",
       "    </tr>\n",
       "    <tr>\n",
       "      <th>2382</th>\n",
       "      <td>13.134</td>\n",
       "      <td>13.076</td>\n",
       "      <td>12.611</td>\n",
       "      <td>852400.0</td>\n",
       "      <td>12.786</td>\n",
       "    </tr>\n",
       "    <tr>\n",
       "      <th>2662</th>\n",
       "      <td>0.555</td>\n",
       "      <td>0.537</td>\n",
       "      <td>0.519</td>\n",
       "      <td>1434000.0</td>\n",
       "      <td>0.528</td>\n",
       "    </tr>\n",
       "    <tr>\n",
       "      <th>268</th>\n",
       "      <td>2.358</td>\n",
       "      <td>2.288</td>\n",
       "      <td>2.278</td>\n",
       "      <td>3120800.0</td>\n",
       "      <td>2.338</td>\n",
       "    </tr>\n",
       "    <tr>\n",
       "      <th>285</th>\n",
       "      <td>7.563</td>\n",
       "      <td>7.179</td>\n",
       "      <td>7.179</td>\n",
       "      <td>3675000.0</td>\n",
       "      <td>7.496</td>\n",
       "    </tr>\n",
       "    <tr>\n",
       "      <th>31</th>\n",
       "      <td>0.912</td>\n",
       "      <td>0.856</td>\n",
       "      <td>0.856</td>\n",
       "      <td>16198600.0</td>\n",
       "      <td>0.912</td>\n",
       "    </tr>\n",
       "    <tr>\n",
       "      <th>327</th>\n",
       "      <td>7.683</td>\n",
       "      <td>7.541</td>\n",
       "      <td>7.417</td>\n",
       "      <td>760000.0</td>\n",
       "      <td>7.427</td>\n",
       "    </tr>\n",
       "    <tr>\n",
       "      <th>3336</th>\n",
       "      <td>3.317</td>\n",
       "      <td>3.233</td>\n",
       "      <td>3.216</td>\n",
       "      <td>1836000.0</td>\n",
       "      <td>3.292</td>\n",
       "    </tr>\n",
       "    <tr>\n",
       "      <th>3393</th>\n",
       "      <td>6.218</td>\n",
       "      <td>6.005</td>\n",
       "      <td>5.980</td>\n",
       "      <td>968000.0</td>\n",
       "      <td>6.120</td>\n",
       "    </tr>\n",
       "    <tr>\n",
       "      <th>354</th>\n",
       "      <td>2.228</td>\n",
       "      <td>2.138</td>\n",
       "      <td>2.128</td>\n",
       "      <td>4092000.0</td>\n",
       "      <td>2.198</td>\n",
       "    </tr>\n",
       "    <tr>\n",
       "      <th>3800</th>\n",
       "      <td>1.709</td>\n",
       "      <td>1.663</td>\n",
       "      <td>1.653</td>\n",
       "      <td>56156930.0</td>\n",
       "      <td>1.690</td>\n",
       "    </tr>\n",
       "    <tr>\n",
       "      <th>3888</th>\n",
       "      <td>15.382</td>\n",
       "      <td>15.127</td>\n",
       "      <td>15.107</td>\n",
       "      <td>3184000.0</td>\n",
       "      <td>15.186</td>\n",
       "    </tr>\n",
       "    <tr>\n",
       "      <th>...</th>\n",
       "      <th>...</th>\n",
       "      <td>...</td>\n",
       "      <td>...</td>\n",
       "      <td>...</td>\n",
       "      <td>...</td>\n",
       "      <td>...</td>\n",
       "    </tr>\n",
       "    <tr>\n",
       "      <th rowspan=\"30\" valign=\"top\">2019-01-17</th>\n",
       "      <th>61</th>\n",
       "      <td>0.053</td>\n",
       "      <td>0.053</td>\n",
       "      <td>0.052</td>\n",
       "      <td>2400000.0</td>\n",
       "      <td>0.053</td>\n",
       "    </tr>\n",
       "    <tr>\n",
       "      <th>6111</th>\n",
       "      <td>124.500</td>\n",
       "      <td>123.000</td>\n",
       "      <td>119.000</td>\n",
       "      <td>1126000.0</td>\n",
       "      <td>122.000</td>\n",
       "    </tr>\n",
       "    <tr>\n",
       "      <th>6180</th>\n",
       "      <td>78.400</td>\n",
       "      <td>75.500</td>\n",
       "      <td>75.400</td>\n",
       "      <td>7723000.0</td>\n",
       "      <td>78.400</td>\n",
       "    </tr>\n",
       "    <tr>\n",
       "      <th>633</th>\n",
       "      <td>0.360</td>\n",
       "      <td>0.345</td>\n",
       "      <td>0.345</td>\n",
       "      <td>874000.0</td>\n",
       "      <td>0.350</td>\n",
       "    </tr>\n",
       "    <tr>\n",
       "      <th>6460</th>\n",
       "      <td>1578.000</td>\n",
       "      <td>1569.000</td>\n",
       "      <td>1556.000</td>\n",
       "      <td>656800.0</td>\n",
       "      <td>1573.000</td>\n",
       "    </tr>\n",
       "    <tr>\n",
       "      <th>6869</th>\n",
       "      <td>23.050</td>\n",
       "      <td>22.550</td>\n",
       "      <td>22.500</td>\n",
       "      <td>1777000.0</td>\n",
       "      <td>22.600</td>\n",
       "    </tr>\n",
       "    <tr>\n",
       "      <th>696</th>\n",
       "      <td>20.500</td>\n",
       "      <td>20.350</td>\n",
       "      <td>20.100</td>\n",
       "      <td>834000.0</td>\n",
       "      <td>20.350</td>\n",
       "    </tr>\n",
       "    <tr>\n",
       "      <th>698</th>\n",
       "      <td>0.770</td>\n",
       "      <td>0.760</td>\n",
       "      <td>0.750</td>\n",
       "      <td>3340000.0</td>\n",
       "      <td>0.760</td>\n",
       "    </tr>\n",
       "    <tr>\n",
       "      <th>700</th>\n",
       "      <td>338.000</td>\n",
       "      <td>335.000</td>\n",
       "      <td>330.600</td>\n",
       "      <td>15716301.0</td>\n",
       "      <td>336.200</td>\n",
       "    </tr>\n",
       "    <tr>\n",
       "      <th>732</th>\n",
       "      <td>0.940</td>\n",
       "      <td>0.910</td>\n",
       "      <td>0.900</td>\n",
       "      <td>3317580.0</td>\n",
       "      <td>0.930</td>\n",
       "    </tr>\n",
       "    <tr>\n",
       "      <th>763</th>\n",
       "      <td>15.780</td>\n",
       "      <td>15.600</td>\n",
       "      <td>15.340</td>\n",
       "      <td>4721453.0</td>\n",
       "      <td>15.400</td>\n",
       "    </tr>\n",
       "    <tr>\n",
       "      <th>777</th>\n",
       "      <td>14.120</td>\n",
       "      <td>14.000</td>\n",
       "      <td>13.720</td>\n",
       "      <td>321500.0</td>\n",
       "      <td>13.840</td>\n",
       "    </tr>\n",
       "    <tr>\n",
       "      <th>7832</th>\n",
       "      <td>4750.000</td>\n",
       "      <td>4630.000</td>\n",
       "      <td>4620.000</td>\n",
       "      <td>892200.0</td>\n",
       "      <td>4715.000</td>\n",
       "    </tr>\n",
       "    <tr>\n",
       "      <th>7844</th>\n",
       "      <td>884.000</td>\n",
       "      <td>872.000</td>\n",
       "      <td>871.000</td>\n",
       "      <td>104100.0</td>\n",
       "      <td>880.000</td>\n",
       "    </tr>\n",
       "    <tr>\n",
       "      <th>7974</th>\n",
       "      <td>33250.000</td>\n",
       "      <td>32370.000</td>\n",
       "      <td>32150.000</td>\n",
       "      <td>2564600.0</td>\n",
       "      <td>33090.000</td>\n",
       "    </tr>\n",
       "    <tr>\n",
       "      <th>799</th>\n",
       "      <td>11.720</td>\n",
       "      <td>11.480</td>\n",
       "      <td>11.320</td>\n",
       "      <td>6132732.0</td>\n",
       "      <td>11.640</td>\n",
       "    </tr>\n",
       "    <tr>\n",
       "      <th>8083</th>\n",
       "      <td>0.560</td>\n",
       "      <td>0.540</td>\n",
       "      <td>0.540</td>\n",
       "      <td>7524000.0</td>\n",
       "      <td>0.560</td>\n",
       "    </tr>\n",
       "    <tr>\n",
       "      <th>818</th>\n",
       "      <td>1.130</td>\n",
       "      <td>1.110</td>\n",
       "      <td>1.100</td>\n",
       "      <td>1518000.0</td>\n",
       "      <td>1.130</td>\n",
       "    </tr>\n",
       "    <tr>\n",
       "      <th>8227</th>\n",
       "      <td>3.050</td>\n",
       "      <td>3.050</td>\n",
       "      <td>3.010</td>\n",
       "      <td>289000.0</td>\n",
       "      <td>3.020</td>\n",
       "    </tr>\n",
       "    <tr>\n",
       "      <th>8279</th>\n",
       "      <td>0.475</td>\n",
       "      <td>0.475</td>\n",
       "      <td>0.465</td>\n",
       "      <td>576000.0</td>\n",
       "      <td>0.470</td>\n",
       "    </tr>\n",
       "    <tr>\n",
       "      <th>861</th>\n",
       "      <td>3.470</td>\n",
       "      <td>3.470</td>\n",
       "      <td>3.430</td>\n",
       "      <td>1947000.0</td>\n",
       "      <td>3.450</td>\n",
       "    </tr>\n",
       "    <tr>\n",
       "      <th>862</th>\n",
       "      <td>0.275</td>\n",
       "      <td>0.270</td>\n",
       "      <td>0.260</td>\n",
       "      <td>355000.0</td>\n",
       "      <td>0.260</td>\n",
       "    </tr>\n",
       "    <tr>\n",
       "      <th>877</th>\n",
       "      <td>3.570</td>\n",
       "      <td>3.560</td>\n",
       "      <td>3.440</td>\n",
       "      <td>375000.0</td>\n",
       "      <td>3.520</td>\n",
       "    </tr>\n",
       "    <tr>\n",
       "      <th>885</th>\n",
       "      <td>0.059</td>\n",
       "      <td>0.056</td>\n",
       "      <td>0.055</td>\n",
       "      <td>1900200.0</td>\n",
       "      <td>0.056</td>\n",
       "    </tr>\n",
       "    <tr>\n",
       "      <th>968</th>\n",
       "      <td>3.140</td>\n",
       "      <td>3.140</td>\n",
       "      <td>3.030</td>\n",
       "      <td>10052231.0</td>\n",
       "      <td>3.130</td>\n",
       "    </tr>\n",
       "    <tr>\n",
       "      <th>9684</th>\n",
       "      <td>3430.000</td>\n",
       "      <td>3345.000</td>\n",
       "      <td>3315.000</td>\n",
       "      <td>767100.0</td>\n",
       "      <td>3420.000</td>\n",
       "    </tr>\n",
       "    <tr>\n",
       "      <th>9697</th>\n",
       "      <td>2214.000</td>\n",
       "      <td>2179.000</td>\n",
       "      <td>2157.000</td>\n",
       "      <td>488900.0</td>\n",
       "      <td>2204.000</td>\n",
       "    </tr>\n",
       "    <tr>\n",
       "      <th>9766</th>\n",
       "      <td>5040.000</td>\n",
       "      <td>4995.000</td>\n",
       "      <td>4940.000</td>\n",
       "      <td>295600.0</td>\n",
       "      <td>4955.000</td>\n",
       "    </tr>\n",
       "    <tr>\n",
       "      <th>981</th>\n",
       "      <td>6.700</td>\n",
       "      <td>6.560</td>\n",
       "      <td>6.520</td>\n",
       "      <td>9717418.0</td>\n",
       "      <td>6.600</td>\n",
       "    </tr>\n",
       "    <tr>\n",
       "      <th>992</th>\n",
       "      <td>5.530</td>\n",
       "      <td>5.500</td>\n",
       "      <td>5.430</td>\n",
       "      <td>41066809.0</td>\n",
       "      <td>5.490</td>\n",
       "    </tr>\n",
       "  </tbody>\n",
       "</table>\n",
       "<p>872845 rows × 5 columns</p>\n",
       "</div>"
      ],
      "text/plain": [
       "                         high        open         low      volume   Adj Close\n",
       "date       code                                                              \n",
       "2015-01-02 036570  173379.000  172901.000  169558.000    171149.0  172424.000\n",
       "           053800   34946.000   34753.000   34174.000     42121.0   34657.000\n",
       "           069080   30200.000   28500.000   28100.000   1988995.0   28700.000\n",
       "           078340  128112.000  117080.000  116738.000    841240.0  123922.000\n",
       "           095660   23100.000   22650.000   22200.000    201636.0   22900.000\n",
       "           1089         0.850       0.850       0.820  11905000.0       0.850\n",
       "           112040   37970.000   36338.000   36338.000    215380.0   37922.000\n",
       "           1149         0.510       0.490       0.490   3408000.0       0.495\n",
       "           1236         2.680       2.610       2.610   2000000.0       2.680\n",
       "           1347         9.212       9.212       8.843    141000.0       9.046\n",
       "           1385         6.790       6.790       5.900    300000.0       6.160\n",
       "           148         10.928      10.797      10.699    691900.0      10.912\n",
       "           1686         2.127       2.092       2.092    741000.0       2.101\n",
       "           1888         2.103       2.066       2.066   4864000.0       2.095\n",
       "           1980         3.898       3.898       3.661   1445000.0       3.718\n",
       "           2018        38.607      38.515      37.678    673485.0      38.282\n",
       "           2280         7.498       7.122       7.122   2462000.0       7.449\n",
       "           2342         1.813       1.794       1.735   7832650.0       1.748\n",
       "           2369         1.546       1.536       1.497   9087173.0       1.516\n",
       "           2382        13.134      13.076      12.611    852400.0      12.786\n",
       "           2662         0.555       0.537       0.519   1434000.0       0.528\n",
       "           268          2.358       2.288       2.278   3120800.0       2.338\n",
       "           285          7.563       7.179       7.179   3675000.0       7.496\n",
       "           31           0.912       0.856       0.856  16198600.0       0.912\n",
       "           327          7.683       7.541       7.417    760000.0       7.427\n",
       "           3336         3.317       3.233       3.216   1836000.0       3.292\n",
       "           3393         6.218       6.005       5.980    968000.0       6.120\n",
       "           354          2.228       2.138       2.128   4092000.0       2.198\n",
       "           3800         1.709       1.663       1.653  56156930.0       1.690\n",
       "           3888        15.382      15.127      15.107   3184000.0      15.186\n",
       "...                       ...         ...         ...         ...         ...\n",
       "2019-01-17 61           0.053       0.053       0.052   2400000.0       0.053\n",
       "           6111       124.500     123.000     119.000   1126000.0     122.000\n",
       "           6180        78.400      75.500      75.400   7723000.0      78.400\n",
       "           633          0.360       0.345       0.345    874000.0       0.350\n",
       "           6460      1578.000    1569.000    1556.000    656800.0    1573.000\n",
       "           6869        23.050      22.550      22.500   1777000.0      22.600\n",
       "           696         20.500      20.350      20.100    834000.0      20.350\n",
       "           698          0.770       0.760       0.750   3340000.0       0.760\n",
       "           700        338.000     335.000     330.600  15716301.0     336.200\n",
       "           732          0.940       0.910       0.900   3317580.0       0.930\n",
       "           763         15.780      15.600      15.340   4721453.0      15.400\n",
       "           777         14.120      14.000      13.720    321500.0      13.840\n",
       "           7832      4750.000    4630.000    4620.000    892200.0    4715.000\n",
       "           7844       884.000     872.000     871.000    104100.0     880.000\n",
       "           7974     33250.000   32370.000   32150.000   2564600.0   33090.000\n",
       "           799         11.720      11.480      11.320   6132732.0      11.640\n",
       "           8083         0.560       0.540       0.540   7524000.0       0.560\n",
       "           818          1.130       1.110       1.100   1518000.0       1.130\n",
       "           8227         3.050       3.050       3.010    289000.0       3.020\n",
       "           8279         0.475       0.475       0.465    576000.0       0.470\n",
       "           861          3.470       3.470       3.430   1947000.0       3.450\n",
       "           862          0.275       0.270       0.260    355000.0       0.260\n",
       "           877          3.570       3.560       3.440    375000.0       3.520\n",
       "           885          0.059       0.056       0.055   1900200.0       0.056\n",
       "           968          3.140       3.140       3.030  10052231.0       3.130\n",
       "           9684      3430.000    3345.000    3315.000    767100.0    3420.000\n",
       "           9697      2214.000    2179.000    2157.000    488900.0    2204.000\n",
       "           9766      5040.000    4995.000    4940.000    295600.0    4955.000\n",
       "           981          6.700       6.560       6.520   9717418.0       6.600\n",
       "           992          5.530       5.500       5.430  41066809.0       5.490\n",
       "\n",
       "[872845 rows x 5 columns]"
      ]
     },
     "execution_count": 6,
     "metadata": {},
     "output_type": "execute_result"
    }
   ],
   "source": [
    "ol_data.loc[(slice('2015','2019'), slice(None)), :]"
   ]
  },
  {
   "cell_type": "code",
   "execution_count": null,
   "metadata": {},
   "outputs": [],
   "source": []
  }
 ],
 "metadata": {
  "kernelspec": {
   "display_name": "Python 3",
   "language": "python",
   "name": "python3"
  },
  "language_info": {
   "codemirror_mode": {
    "name": "ipython",
    "version": 3
   },
   "file_extension": ".py",
   "mimetype": "text/x-python",
   "name": "python",
   "nbconvert_exporter": "python",
   "pygments_lexer": "ipython3",
   "version": "3.6.5"
  },
  "toc": {
   "base_numbering": 1,
   "nav_menu": {},
   "number_sections": true,
   "sideBar": true,
   "skip_h1_title": false,
   "title_cell": "Table of Contents",
   "title_sidebar": "Contents",
   "toc_cell": false,
   "toc_position": {},
   "toc_section_display": true,
   "toc_window_display": false
  },
  "varInspector": {
   "cols": {
    "lenName": 16,
    "lenType": 16,
    "lenVar": 40
   },
   "kernels_config": {
    "python": {
     "delete_cmd_postfix": "",
     "delete_cmd_prefix": "del ",
     "library": "var_list.py",
     "varRefreshCmd": "print(var_dic_list())"
    },
    "r": {
     "delete_cmd_postfix": ") ",
     "delete_cmd_prefix": "rm(",
     "library": "var_list.r",
     "varRefreshCmd": "cat(var_dic_list()) "
    }
   },
   "types_to_exclude": [
    "module",
    "function",
    "builtin_function_or_method",
    "instance",
    "_Feature"
   ],
   "window_display": false
  }
 },
 "nbformat": 4,
 "nbformat_minor": 2
}
