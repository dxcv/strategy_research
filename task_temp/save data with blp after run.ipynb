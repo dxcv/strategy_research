{
 "cells": [
  {
   "cell_type": "code",
   "execution_count": 1,
   "metadata": {},
   "outputs": [],
   "source": [
    "%load_ext autoreload\n",
    "%autoreload 2\n",
    "\n",
    "import numpy as np\n",
    "import pandas as pd\n",
    "import matplotlib.pyplot as plt\n",
    "import talib as ta\n",
    "import datetime\n",
    "\n",
    "import pdblp as pb"
   ]
  },
  {
   "cell_type": "code",
   "execution_count": 2,
   "metadata": {},
   "outputs": [],
   "source": [
    "import blpapi "
   ]
  },
  {
   "cell_type": "code",
   "execution_count": 3,
   "metadata": {},
   "outputs": [],
   "source": [
    "plt.rcParams['figure.figsize'] = [12, 8]\n",
    "plt.rcParams['image.interpolation'] = 'nearest'\n",
    "plt.rcParams['image.cmap'] = 'gray'\n",
    "plt.style.use('ggplot')"
   ]
  },
  {
   "cell_type": "markdown",
   "metadata": {},
   "source": [
    "1. 看是否能连上bloomberg"
   ]
  },
  {
   "cell_type": "code",
   "execution_count": 4,
   "metadata": {},
   "outputs": [],
   "source": [
    "con = pb.BCon(debug=True, port=8194, timeout=5000)"
   ]
  },
  {
   "cell_type": "code",
   "execution_count": 5,
   "metadata": {},
   "outputs": [
    {
     "name": "stderr",
     "output_type": "stream",
     "text": [
      "pdblp.pdblp:INFO:Event Type: SESSION_STATUS\n",
      "pdblp.pdblp:INFO:Message Received:\n",
      "SessionConnectionUp = {\n",
      "    server = \"localhost:8194\"\n",
      "    encryptionStatus = \"Clear\"\n",
      "}\n",
      "\n",
      "pdblp.pdblp:INFO:Event Type: SESSION_STATUS\n",
      "pdblp.pdblp:INFO:Message Received:\n",
      "SessionStarted = {\n",
      "    initialEndpoints[] = {\n",
      "        initialEndpoints = {\n",
      "            address = \"localhost:8194\"\n",
      "        }\n",
      "    }\n",
      "}\n",
      "\n",
      "pdblp.pdblp:INFO:Event Type: SERVICE_STATUS\n",
      "pdblp.pdblp:INFO:Message Received:\n",
      "ServiceOpened = {\n",
      "    serviceName = \"//blp/refdata\"\n",
      "}\n",
      "\n",
      "pdblp.pdblp:INFO:Event Type: SERVICE_STATUS\n",
      "pdblp.pdblp:INFO:Message Received:\n",
      "ServiceOpened = {\n",
      "    serviceName = \"//blp/exrsvc\"\n",
      "}\n",
      "\n"
     ]
    },
    {
     "data": {
      "text/plain": [
       "<pdblp.pdblp.BCon at 0x252c957d978>"
      ]
     },
     "execution_count": 5,
     "metadata": {},
     "output_type": "execute_result"
    }
   ],
   "source": [
    "# 代码能运行，则表示能成功连接\n",
    "con.start()"
   ]
  },
  {
   "cell_type": "markdown",
   "metadata": {},
   "source": [
    "2. 能否正常获取数据"
   ]
  },
  {
   "cell_type": "markdown",
   "metadata": {},
   "source": [
    "```python\n",
    "con.bdh(tickers, flds, start_date, end_date, elms=None, ovrds=None, longdata=False)\n",
    "```"
   ]
  },
  {
   "cell_type": "code",
   "execution_count": 6,
   "metadata": {
    "collapsed": true
   },
   "outputs": [
    {
     "name": "stderr",
     "output_type": "stream",
     "text": [
      "pdblp.pdblp:INFO:Sending Request:\n",
      "HistoricalDataRequest = {\n",
      "    securities[] = {\n",
      "        \"SPY US Equity\"\n",
      "    }\n",
      "    fields[] = {\n",
      "        \"PX_LAST\"\n",
      "    }\n",
      "    startDate = \"20150629\"\n",
      "    endDate = \"20150630\"\n",
      "    overrides[] = {\n",
      "    }\n",
      "}\n",
      "\n",
      "pdblp.pdblp:INFO:Event Type: RESPONSE\n",
      "pdblp.pdblp:INFO:Message Received:\n",
      "HistoricalDataResponse = {\n",
      "    securityData = {\n",
      "        security = \"SPY US Equity\"\n",
      "        eidData[] = {\n",
      "        }\n",
      "        sequenceNumber = 0\n",
      "        fieldExceptions[] = {\n",
      "        }\n",
      "        fieldData[] = {\n",
      "            fieldData = {\n",
      "                date = 2015-06-29\n",
      "                PX_LAST = 191.448900\n",
      "            }\n",
      "            fieldData = {\n",
      "                date = 2015-06-30\n",
      "                PX_LAST = 191.849600\n",
      "            }\n",
      "        }\n",
      "    }\n",
      "}\n",
      "\n"
     ]
    },
    {
     "data": {
      "text/html": [
       "<div>\n",
       "<style scoped>\n",
       "    .dataframe tbody tr th:only-of-type {\n",
       "        vertical-align: middle;\n",
       "    }\n",
       "\n",
       "    .dataframe tbody tr th {\n",
       "        vertical-align: top;\n",
       "    }\n",
       "\n",
       "    .dataframe thead tr th {\n",
       "        text-align: left;\n",
       "    }\n",
       "\n",
       "    .dataframe thead tr:last-of-type th {\n",
       "        text-align: right;\n",
       "    }\n",
       "</style>\n",
       "<table border=\"1\" class=\"dataframe\">\n",
       "  <thead>\n",
       "    <tr>\n",
       "      <th>ticker</th>\n",
       "      <th>SPY US Equity</th>\n",
       "    </tr>\n",
       "    <tr>\n",
       "      <th>field</th>\n",
       "      <th>PX_LAST</th>\n",
       "    </tr>\n",
       "    <tr>\n",
       "      <th>date</th>\n",
       "      <th></th>\n",
       "    </tr>\n",
       "  </thead>\n",
       "  <tbody>\n",
       "    <tr>\n",
       "      <th>2015-06-29</th>\n",
       "      <td>191.4489</td>\n",
       "    </tr>\n",
       "    <tr>\n",
       "      <th>2015-06-30</th>\n",
       "      <td>191.8496</td>\n",
       "    </tr>\n",
       "  </tbody>\n",
       "</table>\n",
       "</div>"
      ],
      "text/plain": [
       "ticker     SPY US Equity\n",
       "field            PX_LAST\n",
       "date                    \n",
       "2015-06-29      191.4489\n",
       "2015-06-30      191.8496"
      ]
     },
     "execution_count": 6,
     "metadata": {},
     "output_type": "execute_result"
    }
   ],
   "source": [
    "con.bdh('SPY US Equity', 'PX_LAST', '20150629', '20150630')"
   ]
  },
  {
   "cell_type": "markdown",
   "metadata": {},
   "source": [
    "如果以上代码没有问题, 关掉debug"
   ]
  },
  {
   "cell_type": "code",
   "execution_count": 7,
   "metadata": {},
   "outputs": [
    {
     "data": {
      "text/html": [
       "<div>\n",
       "<style scoped>\n",
       "    .dataframe tbody tr th:only-of-type {\n",
       "        vertical-align: middle;\n",
       "    }\n",
       "\n",
       "    .dataframe tbody tr th {\n",
       "        vertical-align: top;\n",
       "    }\n",
       "\n",
       "    .dataframe thead tr th {\n",
       "        text-align: left;\n",
       "    }\n",
       "\n",
       "    .dataframe thead tr:last-of-type th {\n",
       "        text-align: right;\n",
       "    }\n",
       "</style>\n",
       "<table border=\"1\" class=\"dataframe\">\n",
       "  <thead>\n",
       "    <tr>\n",
       "      <th>ticker</th>\n",
       "      <th colspan=\"2\" halign=\"left\">AAPL US Equity</th>\n",
       "    </tr>\n",
       "    <tr>\n",
       "      <th>field</th>\n",
       "      <th>PX_LAST</th>\n",
       "      <th>VOLUME</th>\n",
       "    </tr>\n",
       "    <tr>\n",
       "      <th>date</th>\n",
       "      <th></th>\n",
       "      <th></th>\n",
       "    </tr>\n",
       "  </thead>\n",
       "  <tbody>\n",
       "    <tr>\n",
       "      <th>2015-06-29</th>\n",
       "      <td>117.0849</td>\n",
       "      <td>49161427.0</td>\n",
       "    </tr>\n",
       "    <tr>\n",
       "      <th>2015-06-30</th>\n",
       "      <td>117.9264</td>\n",
       "      <td>44370682.0</td>\n",
       "    </tr>\n",
       "  </tbody>\n",
       "</table>\n",
       "</div>"
      ],
      "text/plain": [
       "ticker     AAPL US Equity            \n",
       "field             PX_LAST      VOLUME\n",
       "date                                 \n",
       "2015-06-29       117.0849  49161427.0\n",
       "2015-06-30       117.9264  44370682.0"
      ]
     },
     "execution_count": 7,
     "metadata": {},
     "output_type": "execute_result"
    }
   ],
   "source": [
    "con.debug = False\n",
    "\n",
    "con.bdh('AAPL US Equity', ['PX_LAST', 'VOLUME'],  '20150629', '20150630')"
   ]
  },
  {
   "cell_type": "markdown",
   "metadata": {},
   "source": [
    "是否能同时获取复数个asset的行情数据"
   ]
  },
  {
   "cell_type": "code",
   "execution_count": 8,
   "metadata": {},
   "outputs": [
    {
     "data": {
      "text/html": [
       "<div>\n",
       "<style scoped>\n",
       "    .dataframe tbody tr th:only-of-type {\n",
       "        vertical-align: middle;\n",
       "    }\n",
       "\n",
       "    .dataframe tbody tr th {\n",
       "        vertical-align: top;\n",
       "    }\n",
       "\n",
       "    .dataframe thead tr th {\n",
       "        text-align: left;\n",
       "    }\n",
       "\n",
       "    .dataframe thead tr:last-of-type th {\n",
       "        text-align: right;\n",
       "    }\n",
       "</style>\n",
       "<table border=\"1\" class=\"dataframe\">\n",
       "  <thead>\n",
       "    <tr>\n",
       "      <th>ticker</th>\n",
       "      <th colspan=\"2\" halign=\"left\">AAPL US Equity</th>\n",
       "      <th colspan=\"2\" halign=\"left\">SPY US Equity</th>\n",
       "    </tr>\n",
       "    <tr>\n",
       "      <th>field</th>\n",
       "      <th>PX_LAST</th>\n",
       "      <th>VOLUME</th>\n",
       "      <th>PX_LAST</th>\n",
       "      <th>VOLUME</th>\n",
       "    </tr>\n",
       "    <tr>\n",
       "      <th>date</th>\n",
       "      <th></th>\n",
       "      <th></th>\n",
       "      <th></th>\n",
       "      <th></th>\n",
       "    </tr>\n",
       "  </thead>\n",
       "  <tbody>\n",
       "    <tr>\n",
       "      <th>2015-06-29</th>\n",
       "      <td>117.0849</td>\n",
       "      <td>49161427.0</td>\n",
       "      <td>191.4489</td>\n",
       "      <td>202621332.0</td>\n",
       "    </tr>\n",
       "    <tr>\n",
       "      <th>2015-06-30</th>\n",
       "      <td>117.9264</td>\n",
       "      <td>44370682.0</td>\n",
       "      <td>191.8496</td>\n",
       "      <td>182925106.0</td>\n",
       "    </tr>\n",
       "  </tbody>\n",
       "</table>\n",
       "</div>"
      ],
      "text/plain": [
       "ticker     AAPL US Equity             SPY US Equity             \n",
       "field             PX_LAST      VOLUME       PX_LAST       VOLUME\n",
       "date                                                            \n",
       "2015-06-29       117.0849  49161427.0      191.4489  202621332.0\n",
       "2015-06-30       117.9264  44370682.0      191.8496  182925106.0"
      ]
     },
     "execution_count": 8,
     "metadata": {},
     "output_type": "execute_result"
    }
   ],
   "source": [
    "con.bdh(['AAPL US Equity', 'SPY US Equity'], ['PX_LAST', 'VOLUME'],\n",
    "        '20150629', '20150630')"
   ]
  },
  {
   "cell_type": "code",
   "execution_count": null,
   "metadata": {},
   "outputs": [],
   "source": []
  }
 ],
 "metadata": {
  "kernelspec": {
   "display_name": "Python 3 tensorflow",
   "language": "python",
   "name": "python3"
  },
  "language_info": {
   "codemirror_mode": {
    "name": "ipython",
    "version": 3
   },
   "file_extension": ".py",
   "mimetype": "text/x-python",
   "name": "python",
   "nbconvert_exporter": "python",
   "pygments_lexer": "ipython3",
   "version": "3.5.5"
  },
  "toc": {
   "base_numbering": 1,
   "nav_menu": {},
   "number_sections": true,
   "sideBar": true,
   "skip_h1_title": false,
   "title_cell": "Table of Contents",
   "title_sidebar": "Contents",
   "toc_cell": false,
   "toc_position": {},
   "toc_section_display": true,
   "toc_window_display": false
  },
  "varInspector": {
   "cols": {
    "lenName": 16,
    "lenType": 16,
    "lenVar": 40
   },
   "kernels_config": {
    "python": {
     "delete_cmd_postfix": "",
     "delete_cmd_prefix": "del ",
     "library": "var_list.py",
     "varRefreshCmd": "print(var_dic_list())"
    },
    "r": {
     "delete_cmd_postfix": ") ",
     "delete_cmd_prefix": "rm(",
     "library": "var_list.r",
     "varRefreshCmd": "cat(var_dic_list()) "
    }
   },
   "types_to_exclude": [
    "module",
    "function",
    "builtin_function_or_method",
    "instance",
    "_Feature"
   ],
   "window_display": false
  }
 },
 "nbformat": 4,
 "nbformat_minor": 2
}
