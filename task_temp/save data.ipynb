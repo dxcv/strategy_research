{
 "cells": [
  {
   "cell_type": "code",
   "execution_count": 1,
   "metadata": {},
   "outputs": [],
   "source": [
    "import numpy as np\n",
    "import pandas as pd\n",
    "import matplotlib.pyplot as plt\n",
    "import seaborn as sns\n",
    "# import statsmodels.api as sm\n",
    "# import tushare as ts\n",
    "import QUANTAXIS as QA\n",
    "import talib as ta\n",
    "import datetime\n"
   ]
  },
  {
   "cell_type": "code",
   "execution_count": 2,
   "metadata": {},
   "outputs": [],
   "source": [
    "plt.rcParams['figure.figsize'] = [12, 8]\n",
    "plt.rcParams['image.interpolation'] = 'nearest'\n",
    "plt.rcParams['image.cmap'] = 'gray'\n",
    "plt.style.use('ggplot')"
   ]
  },
  {
   "cell_type": "code",
   "execution_count": 3,
   "metadata": {},
   "outputs": [],
   "source": [
    "import pandas_datareader.data as web\n",
    "import datetime"
   ]
  },
  {
   "cell_type": "code",
   "execution_count": 4,
   "metadata": {},
   "outputs": [],
   "source": [
    "symbol_list = pd.read_excel('data/etf_pair_code.xlsx', 1, dtype={'symbol':str})"
   ]
  },
  {
   "cell_type": "code",
   "execution_count": 7,
   "metadata": {},
   "outputs": [
    {
     "data": {
      "text/html": [
       "<div>\n",
       "<style scoped>\n",
       "    .dataframe tbody tr th:only-of-type {\n",
       "        vertical-align: middle;\n",
       "    }\n",
       "\n",
       "    .dataframe tbody tr th {\n",
       "        vertical-align: top;\n",
       "    }\n",
       "\n",
       "    .dataframe thead th {\n",
       "        text-align: right;\n",
       "    }\n",
       "</style>\n",
       "<table border=\"1\" class=\"dataframe\">\n",
       "  <thead>\n",
       "    <tr style=\"text-align: right;\">\n",
       "      <th></th>\n",
       "      <th>symbol</th>\n",
       "      <th>region</th>\n",
       "    </tr>\n",
       "  </thead>\n",
       "  <tbody>\n",
       "    <tr>\n",
       "      <th>160</th>\n",
       "      <td>700</td>\n",
       "      <td>HK Equity</td>\n",
       "    </tr>\n",
       "    <tr>\n",
       "      <th>163</th>\n",
       "      <td>992</td>\n",
       "      <td>HK Equity</td>\n",
       "    </tr>\n",
       "    <tr>\n",
       "      <th>164</th>\n",
       "      <td>2382</td>\n",
       "      <td>HK Equity</td>\n",
       "    </tr>\n",
       "    <tr>\n",
       "      <th>165</th>\n",
       "      <td>981</td>\n",
       "      <td>HK Equity</td>\n",
       "    </tr>\n",
       "    <tr>\n",
       "      <th>166</th>\n",
       "      <td>2018</td>\n",
       "      <td>HK Equity</td>\n",
       "    </tr>\n",
       "  </tbody>\n",
       "</table>\n",
       "</div>"
      ],
      "text/plain": [
       "    symbol     region\n",
       "160    700  HK Equity\n",
       "163    992  HK Equity\n",
       "164   2382  HK Equity\n",
       "165    981  HK Equity\n",
       "166   2018  HK Equity"
      ]
     },
     "execution_count": 7,
     "metadata": {},
     "output_type": "execute_result"
    }
   ],
   "source": [
    "symbol_list[symbol_list.region == 'HK Equity'].head()"
   ]
  },
  {
   "cell_type": "code",
   "execution_count": 8,
   "metadata": {
    "collapsed": true
   },
   "outputs": [
    {
     "data": {
      "text/plain": [
       "US Equity     817\n",
       "HK Equity      54\n",
       "JP Equity      17\n",
       "KS Equity       8\n",
       "TT Equity       6\n",
       "SS Equity       6\n",
       "LN Equity       6\n",
       "FH Equity       2\n",
       "NO Equity       2\n",
       "CN Equity       2\n",
       "NA Equity       1\n",
       "GR Equity       1\n",
       "HKD Curncy      1\n",
       "ita             1\n",
       "FP Equity       1\n",
       "Name: region, dtype: int64"
      ]
     },
     "execution_count": 8,
     "metadata": {},
     "output_type": "execute_result"
    }
   ],
   "source": [
    "symbol_list.region.value_counts()"
   ]
  },
  {
   "cell_type": "code",
   "execution_count": 17,
   "metadata": {},
   "outputs": [
    {
     "data": {
      "text/html": [
       "<div>\n",
       "<style scoped>\n",
       "    .dataframe tbody tr th:only-of-type {\n",
       "        vertical-align: middle;\n",
       "    }\n",
       "\n",
       "    .dataframe tbody tr th {\n",
       "        vertical-align: top;\n",
       "    }\n",
       "\n",
       "    .dataframe thead th {\n",
       "        text-align: right;\n",
       "    }\n",
       "</style>\n",
       "<table border=\"1\" class=\"dataframe\">\n",
       "  <thead>\n",
       "    <tr style=\"text-align: right;\">\n",
       "      <th></th>\n",
       "      <th>symbol</th>\n",
       "      <th>region</th>\n",
       "    </tr>\n",
       "  </thead>\n",
       "  <tbody>\n",
       "    <tr>\n",
       "      <th>160</th>\n",
       "      <td>700</td>\n",
       "      <td>HK Equity</td>\n",
       "    </tr>\n",
       "    <tr>\n",
       "      <th>163</th>\n",
       "      <td>992</td>\n",
       "      <td>HK Equity</td>\n",
       "    </tr>\n",
       "    <tr>\n",
       "      <th>164</th>\n",
       "      <td>2382</td>\n",
       "      <td>HK Equity</td>\n",
       "    </tr>\n",
       "    <tr>\n",
       "      <th>165</th>\n",
       "      <td>981</td>\n",
       "      <td>HK Equity</td>\n",
       "    </tr>\n",
       "    <tr>\n",
       "      <th>166</th>\n",
       "      <td>2018</td>\n",
       "      <td>HK Equity</td>\n",
       "    </tr>\n",
       "  </tbody>\n",
       "</table>\n",
       "</div>"
      ],
      "text/plain": [
       "    symbol     region\n",
       "160    700  HK Equity\n",
       "163    992  HK Equity\n",
       "164   2382  HK Equity\n",
       "165    981  HK Equity\n",
       "166   2018  HK Equity"
      ]
     },
     "execution_count": 17,
     "metadata": {},
     "output_type": "execute_result"
    }
   ],
   "source": [
    "symbol_list.query(\"region=='HK Equity'\").head()"
   ]
  },
  {
   "cell_type": "code",
   "execution_count": 22,
   "metadata": {},
   "outputs": [
    {
     "data": {
      "text/plain": [
       "160    0700.hk\n",
       "163    0992.hk\n",
       "164    2382.hk\n",
       "165    0981.hk\n",
       "166    2018.hk\n",
       "Name: symbol, dtype: object"
      ]
     },
     "execution_count": 22,
     "metadata": {},
     "output_type": "execute_result"
    }
   ],
   "source": [
    "hk_symbol_list = symbol_list.query(\"region=='HK Equity'\").symbol\n",
    "hk_symbol_list = hk_symbol_list.apply(lambda x : x.zfill(4)+'.hk')\n",
    "hk_symbol_list.head()"
   ]
  },
  {
   "cell_type": "code",
   "execution_count": 23,
   "metadata": {},
   "outputs": [
    {
     "name": "stdout",
     "output_type": "stream",
     "text": [
      "0700.hk <class 'str'>\n",
      "0992.hk <class 'str'>\n",
      "2382.hk <class 'str'>\n",
      "0981.hk <class 'str'>\n",
      "2018.hk <class 'str'>\n",
      "0522.hk <class 'str'>\n",
      "0696.hk <class 'str'>\n",
      "0148.hk <class 'str'>\n",
      "0268.hk <class 'str'>\n",
      "3396.hk <class 'str'>\n",
      "3888.hk <class 'str'>\n",
      "0763.hk <class 'str'>\n",
      "0354.hk <class 'str'>\n",
      "3969.hk <class 'str'>\n",
      "0968.hk <class 'str'>\n",
      "1347.hk <class 'str'>\n",
      "0285.hk <class 'str'>\n",
      "3800.hk <class 'str'>\n",
      "1888.hk <class 'str'>\n",
      "6088.hk <class 'str'>\n",
      "8083.hk <class 'str'>\n",
      "0582.hk <class 'str'>\n",
      "0861.hk <class 'str'>\n",
      "6869.hk <class 'str'>\n",
      "1357.hk <class 'str'>\n",
      "2662.hk <class 'str'>\n",
      "0777.hk <class 'str'>\n",
      "0698.hk <class 'str'>\n",
      "1686.hk <class 'str'>\n",
      "1089.hk <class 'str'>\n",
      "0327.hk <class 'str'>\n",
      "2280.hk <class 'str'>\n",
      "1385.hk <class 'str'>\n",
      "0732.hk <class 'str'>\n",
      "1980.hk <class 'str'>\n",
      "0818.hk <class 'str'>\n",
      "3336.hk <class 'str'>\n",
      "3393.hk <class 'str'>\n",
      "8279.hk <class 'str'>\n",
      "2342.hk <class 'str'>\n",
      "0877.hk <class 'str'>\n",
      "0031.hk <class 'str'>\n",
      "8227.hk <class 'str'>\n",
      "0862.hk <class 'str'>\n",
      "0434.hk <class 'str'>\n",
      "0085.hk <class 'str'>\n",
      "0633.hk <class 'str'>\n",
      "2369.hk <class 'str'>\n",
      "0885.hk <class 'str'>\n",
      "1149.hk <class 'str'>\n",
      "0061.hk <class 'str'>\n",
      "1236.hk <class 'str'>\n",
      "0799.hk <class 'str'>\n",
      "1337.hk <class 'str'>\n"
     ]
    }
   ],
   "source": [
    "start = '2010-01-01'\n",
    "end = '2018-12-21'\n",
    "for i in hk_symbol_list:\n",
    "    temp_data = web.DataReader(i, 'yahoo', start, end)"
   ]
  }
 ],
 "metadata": {
  "kernelspec": {
   "display_name": "Python (quant)",
   "language": "python",
   "name": "quant"
  },
  "language_info": {
   "codemirror_mode": {
    "name": "ipython",
    "version": 3
   },
   "file_extension": ".py",
   "mimetype": "text/x-python",
   "name": "python",
   "nbconvert_exporter": "python",
   "pygments_lexer": "ipython3",
   "version": "3.6.6"
  },
  "toc": {
   "base_numbering": 1,
   "nav_menu": {},
   "number_sections": true,
   "sideBar": true,
   "skip_h1_title": false,
   "title_cell": "Table of Contents",
   "title_sidebar": "Contents",
   "toc_cell": false,
   "toc_position": {},
   "toc_section_display": true,
   "toc_window_display": false
  },
  "varInspector": {
   "cols": {
    "lenName": 16,
    "lenType": 16,
    "lenVar": 40
   },
   "kernels_config": {
    "python": {
     "delete_cmd_postfix": "",
     "delete_cmd_prefix": "del ",
     "library": "var_list.py",
     "varRefreshCmd": "print(var_dic_list())"
    },
    "r": {
     "delete_cmd_postfix": ") ",
     "delete_cmd_prefix": "rm(",
     "library": "var_list.r",
     "varRefreshCmd": "cat(var_dic_list()) "
    }
   },
   "types_to_exclude": [
    "module",
    "function",
    "builtin_function_or_method",
    "instance",
    "_Feature"
   ],
   "window_display": false
  }
 },
 "nbformat": 4,
 "nbformat_minor": 2
}
