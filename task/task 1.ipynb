{
 "cells": [
  {
   "cell_type": "markdown",
   "metadata": {},
   "source": [
    "```\n",
    "通过quantopian 写algo对组合中的ETF进行回测，回测时间从2016.11.14日到最新交易日，\n",
    "\n",
    "初始的时候分配1250万美金，等权重分配\n",
    "\n",
    "开始运行后\n",
    "\n",
    "1. 单只标的下跌5% 需要卖出一半仓位，下跌10% 需要全部卖出\n",
    "2. Moving average 采用 40天和60天\n",
    "3. 单只标的RSI > 75 需要减仓一半， 指数RSI（我们参考SPX的RSI吧）>70 整个portfolio 减仓一半\n",
    "\n",
    "需要把整个portfolio maximum DD 控制在-5%以内，最好-3%以内(上述1,2,3不一定能达到这个风控标准，可以再叠加一些其他的技术指标比如Bolling或MACD,KDJ)\n",
    "\n",
    "第一个回测组合可以只配置Equity ETF 看看效果如何\n",
    "\n",
    "第二个回测组合可以结合Equity ETF 和Bond ETF， 其中XLU配置30% （因为它是low beta 而且相关系数最低），Tech 类的ETF 配置 30%， Bond ETF（具体选择哪些你可以自己优化选择） 配置40%\n",
    "\n",
    "以上说的这些组合都是long的，只是在运行的过程中跌破某个指标会卖出\n",
    "\n",
    "做完这些如果效果还不错(或者实在无法达到我们的风控要求) 我们再做一个纯short的组合，就是开仓的时候已经short的组合再来看情况。\n",
    "\n",
    "\n",
    "你最近研究下 争取周五或周六的时候能有一个初步的成果向我汇报。\n",
    "\n",
    "注意，以上信息和资料都只能在你自己的电脑上操作，不可在你目前的公司电脑使用。\n",
    "```"
   ]
  },
  {
   "cell_type": "code",
   "execution_count": null,
   "metadata": {},
   "outputs": [],
   "source": [
    "pd.DataFrame.groupby."
   ]
  }
 ],
 "metadata": {
  "kernelspec": {
   "display_name": "Python (quant)",
   "language": "python",
   "name": "quant"
  },
  "language_info": {
   "codemirror_mode": {
    "name": "ipython",
    "version": 3
   },
   "file_extension": ".py",
   "mimetype": "text/x-python",
   "name": "python",
   "nbconvert_exporter": "python",
   "pygments_lexer": "ipython3",
   "version": "3.6.6"
  },
  "toc": {
   "base_numbering": 1,
   "nav_menu": {},
   "number_sections": true,
   "sideBar": true,
   "skip_h1_title": false,
   "title_cell": "Table of Contents",
   "title_sidebar": "Contents",
   "toc_cell": false,
   "toc_position": {},
   "toc_section_display": true,
   "toc_window_display": false
  },
  "varInspector": {
   "cols": {
    "lenName": 16,
    "lenType": 16,
    "lenVar": 40
   },
   "kernels_config": {
    "python": {
     "delete_cmd_postfix": "",
     "delete_cmd_prefix": "del ",
     "library": "var_list.py",
     "varRefreshCmd": "print(var_dic_list())"
    },
    "r": {
     "delete_cmd_postfix": ") ",
     "delete_cmd_prefix": "rm(",
     "library": "var_list.r",
     "varRefreshCmd": "cat(var_dic_list()) "
    }
   },
   "types_to_exclude": [
    "module",
    "function",
    "builtin_function_or_method",
    "instance",
    "_Feature"
   ],
   "window_display": false
  }
 },
 "nbformat": 4,
 "nbformat_minor": 2
}
