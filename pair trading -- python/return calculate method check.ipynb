{
 "cells": [
  {
   "cell_type": "code",
   "execution_count": 3,
   "metadata": {},
   "outputs": [],
   "source": [
    "from utils_v2 import *"
   ]
  },
  {
   "cell_type": "markdown",
   "metadata": {},
   "source": [
    "```python\n",
    "calc_pair_trading(symbol, data_source='ol', region='all', is_saving=False, save_name=None, method='rolling', period=245, rt_period=490, rsi_period=14, upper=70, lower=30, show_bar=True)\n",
    "```"
   ]
  },
  {
   "cell_type": "code",
   "execution_count": 4,
   "metadata": {},
   "outputs": [
    {
     "data": {
      "application/vnd.jupyter.widget-view+json": {
       "model_id": "73b2b75c202141a599a98a8807216034",
       "version_major": 2,
       "version_minor": 0
      },
      "text/plain": [
       "HBox(children=(IntProgress(value=0, max=25), HTML(value='')))"
      ]
     },
     "metadata": {},
     "output_type": "display_data"
    },
    {
     "name": "stdout",
     "output_type": "stream",
     "text": [
      "\n"
     ]
    }
   ],
   "source": [
    "result = calc_pair_trading('SMH',\n",
    "                          method='rolling')"
   ]
  },
  {
   "cell_type": "code",
   "execution_count": 8,
   "metadata": {},
   "outputs": [],
   "source": [
    "code1 = 'INTC'\n",
    "code2 = 'TSM'\n",
    "data = ol_data.copy()\n",
    "asset_1_close = select_code(data, code1)['Adj Close']\n",
    "asset_2_close = select_code(data, code2)['Adj Close']\n",
    "ratio = asset_1_close / asset_2_close\n",
    "\n",
    "position_side_series = position_side(ratio, 'rolling', 245)\n",
    "real_signal = position_side_series.shift(1)\n",
    "    \n",
    "asset_1_pct = asset_1_close.pct_change()\n",
    "asset_2_pct = asset_2_close.pct_change()\n",
    "\n",
    "# long_return = ((1+real_signal)/2 * asset_1_pct +  (1-real_signal)/2 * asset_2_pct)[-rt_period:].mean()\n",
    "# long_short_return = (real_signal * (asset_1_pct - asset_2_pct))[-rt_period:].mean()\n",
    "\n",
    "# ((1+real_signal)/2 * asset_1_pct +  (1-real_signal)/2 * asset_2_pct)[-490:]\n",
    "# real_signal\n",
    "# position_side_series\n",
    "# asset_1_pct"
   ]
  },
  {
   "cell_type": "code",
   "execution_count": 2,
   "metadata": {},
   "outputs": [],
   "source": [
    "from utils import *"
   ]
  },
  {
   "cell_type": "code",
   "execution_count": 2,
   "metadata": {},
   "outputs": [],
   "source": [
    "# ol_data.index.get_level_values(0)"
   ]
  },
  {
   "cell_type": "code",
   "execution_count": 8,
   "metadata": {},
   "outputs": [],
   "source": [
    "sli_data = ol_data.loc[('2010-01', slice(None)), :]"
   ]
  },
  {
   "cell_type": "code",
   "execution_count": 1,
   "metadata": {},
   "outputs": [],
   "source": [
    "# sli_data.head()"
   ]
  },
  {
   "cell_type": "code",
   "execution_count": 13,
   "metadata": {},
   "outputs": [],
   "source": [
    "ind = sli_data.index.get_level_values(0).unique()"
   ]
  },
  {
   "cell_type": "code",
   "execution_count": 15,
   "metadata": {},
   "outputs": [],
   "source": [
    "cur = pd.Series(2, index=ind)"
   ]
  },
  {
   "cell_type": "code",
   "execution_count": 23,
   "metadata": {
    "scrolled": true
   },
   "outputs": [],
   "source": [
    "# 对汇率的index进行循环，然后slc_data去乘以汇率，然后concat\n",
    "# 这里有一个问题，应该是针对港股进行，所以slice不能是None\n",
    "for i in cur.index:\n",
    "    print(sli_data.loc[(i, slice(None)), :] * cur[i])"
   ]
  },
  {
   "cell_type": "code",
   "execution_count": 5,
   "metadata": {},
   "outputs": [
    {
     "data": {
      "text/html": [
       "<div>\n",
       "<style scoped>\n",
       "    .dataframe tbody tr th:only-of-type {\n",
       "        vertical-align: middle;\n",
       "    }\n",
       "\n",
       "    .dataframe tbody tr th {\n",
       "        vertical-align: top;\n",
       "    }\n",
       "\n",
       "    .dataframe thead th {\n",
       "        text-align: right;\n",
       "    }\n",
       "</style>\n",
       "<table border=\"1\" class=\"dataframe\">\n",
       "  <thead>\n",
       "    <tr style=\"text-align: right;\">\n",
       "      <th></th>\n",
       "      <th></th>\n",
       "      <th>high</th>\n",
       "      <th>open</th>\n",
       "      <th>low</th>\n",
       "      <th>volume</th>\n",
       "      <th>Adj Close</th>\n",
       "    </tr>\n",
       "    <tr>\n",
       "      <th>date</th>\n",
       "      <th>code</th>\n",
       "      <th></th>\n",
       "      <th></th>\n",
       "      <th></th>\n",
       "      <th></th>\n",
       "      <th></th>\n",
       "    </tr>\n",
       "  </thead>\n",
       "  <tbody>\n",
       "    <tr>\n",
       "      <th rowspan=\"5\" valign=\"top\">2019-01-17</th>\n",
       "      <th>9684</th>\n",
       "      <td>3430.00</td>\n",
       "      <td>3345.00</td>\n",
       "      <td>3315.00</td>\n",
       "      <td>767100.0</td>\n",
       "      <td>3420.00</td>\n",
       "    </tr>\n",
       "    <tr>\n",
       "      <th>9697</th>\n",
       "      <td>2214.00</td>\n",
       "      <td>2179.00</td>\n",
       "      <td>2157.00</td>\n",
       "      <td>488900.0</td>\n",
       "      <td>2204.00</td>\n",
       "    </tr>\n",
       "    <tr>\n",
       "      <th>9766</th>\n",
       "      <td>5040.00</td>\n",
       "      <td>4995.00</td>\n",
       "      <td>4940.00</td>\n",
       "      <td>295600.0</td>\n",
       "      <td>4955.00</td>\n",
       "    </tr>\n",
       "    <tr>\n",
       "      <th>981</th>\n",
       "      <td>6.70</td>\n",
       "      <td>6.56</td>\n",
       "      <td>6.52</td>\n",
       "      <td>9717418.0</td>\n",
       "      <td>6.60</td>\n",
       "    </tr>\n",
       "    <tr>\n",
       "      <th>992</th>\n",
       "      <td>5.53</td>\n",
       "      <td>5.50</td>\n",
       "      <td>5.43</td>\n",
       "      <td>41066809.0</td>\n",
       "      <td>5.49</td>\n",
       "    </tr>\n",
       "  </tbody>\n",
       "</table>\n",
       "</div>"
      ],
      "text/plain": [
       "                    high     open      low      volume  Adj Close\n",
       "date       code                                                  \n",
       "2019-01-17 9684  3430.00  3345.00  3315.00    767100.0    3420.00\n",
       "           9697  2214.00  2179.00  2157.00    488900.0    2204.00\n",
       "           9766  5040.00  4995.00  4940.00    295600.0    4955.00\n",
       "           981      6.70     6.56     6.52   9717418.0       6.60\n",
       "           992      5.53     5.50     5.43  41066809.0       5.49"
      ]
     },
     "execution_count": 5,
     "metadata": {},
     "output_type": "execute_result"
    }
   ],
   "source": [
    "ol_data.tail()"
   ]
  },
  {
   "cell_type": "code",
   "execution_count": 8,
   "metadata": {},
   "outputs": [],
   "source": [
    "save_file??"
   ]
  },
  {
   "cell_type": "markdown",
   "metadata": {},
   "source": [
    "因为外汇市场是不会停的，所以需要先用data的index筛选一遍cur的数据\n",
    "\n",
    "然后遍历cur的index, 去除以汇率"
   ]
  }
 ],
 "metadata": {
  "kernelspec": {
   "display_name": "Python 3 tensorflow",
   "language": "python",
   "name": "python3"
  },
  "language_info": {
   "codemirror_mode": {
    "name": "ipython",
    "version": 3
   },
   "file_extension": ".py",
   "mimetype": "text/x-python",
   "name": "python",
   "nbconvert_exporter": "python",
   "pygments_lexer": "ipython3",
   "version": "3.5.5"
  },
  "toc": {
   "base_numbering": 1,
   "nav_menu": {},
   "number_sections": true,
   "sideBar": true,
   "skip_h1_title": false,
   "title_cell": "Table of Contents",
   "title_sidebar": "Contents",
   "toc_cell": false,
   "toc_position": {},
   "toc_section_display": true,
   "toc_window_display": false
  },
  "varInspector": {
   "cols": {
    "lenName": 16,
    "lenType": 16,
    "lenVar": 40
   },
   "kernels_config": {
    "python": {
     "delete_cmd_postfix": "",
     "delete_cmd_prefix": "del ",
     "library": "var_list.py",
     "varRefreshCmd": "print(var_dic_list())"
    },
    "r": {
     "delete_cmd_postfix": ") ",
     "delete_cmd_prefix": "rm(",
     "library": "var_list.r",
     "varRefreshCmd": "cat(var_dic_list()) "
    }
   },
   "types_to_exclude": [
    "module",
    "function",
    "builtin_function_or_method",
    "instance",
    "_Feature"
   ],
   "window_display": false
  }
 },
 "nbformat": 4,
 "nbformat_minor": 2
}
