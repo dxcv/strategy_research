{
 "cells": [
  {
   "cell_type": "markdown",
   "metadata": {},
   "source": [
    "旨在整理和回顾这段时间的工作内容\n",
    "\n",
    "看哪些做的不足\n",
    "\n",
    "哪些需要改进\n",
    "\n",
    "哪些还未完成\n",
    "\n",
    "哪些还未实现\n",
    "\n",
    "哪些还留有遗憾"
   ]
  },
  {
   "cell_type": "markdown",
   "metadata": {},
   "source": [
    "我们先看下能否正常运行代码"
   ]
  },
  {
   "cell_type": "markdown",
   "metadata": {},
   "source": [
    "### import libraries"
   ]
  },
  {
   "cell_type": "code",
   "execution_count": 2,
   "metadata": {},
   "outputs": [],
   "source": [
    "%load_ext autoreload\n",
    "%autoreload 2\n",
    "from utils import *"
   ]
  },
  {
   "cell_type": "code",
   "execution_count": 4,
   "metadata": {},
   "outputs": [],
   "source": [
    "import seaborn as sns\n",
    "plt.rcParams['figure.figsize'] = [12, 8]\n",
    "plt.rcParams['image.interpolation'] = 'nearest'\n",
    "plt.rcParams['image.cmap'] = 'gray'\n",
    "plt.style.use('ggplot')"
   ]
  },
  {
   "cell_type": "code",
   "execution_count": 3,
   "metadata": {},
   "outputs": [
    {
     "data": {
      "application/vnd.jupyter.widget-view+json": {
       "model_id": "af1085e72df64815ab65a650ef5c9bd9",
       "version_major": 2,
       "version_minor": 0
      },
      "text/plain": [
       "HBox(children=(IntProgress(value=0, max=25), HTML(value='')))"
      ]
     },
     "metadata": {},
     "output_type": "display_data"
    },
    {
     "name": "stdout",
     "output_type": "stream",
     "text": [
      "\n"
     ]
    }
   ],
   "source": [
    "result = calc_pair_trading('SMH', method='rolling')"
   ]
  },
  {
   "cell_type": "markdown",
   "metadata": {},
   "source": [
    "### function"
   ]
  },
  {
   "cell_type": "markdown",
   "metadata": {
    "heading_collapsed": true
   },
   "source": [
    "#### 更新数据"
   ]
  },
  {
   "cell_type": "markdown",
   "metadata": {
    "hidden": true
   },
   "source": [
    "每日只需要运行一次"
   ]
  },
  {
   "cell_type": "code",
   "execution_count": null,
   "metadata": {
    "hidden": true
   },
   "outputs": [],
   "source": [
    "from utils_update\n",
    "update()"
   ]
  },
  {
   "cell_type": "markdown",
   "metadata": {},
   "source": [
    "#### 从数据文件中获取数据"
   ]
  },
  {
   "cell_type": "markdown",
   "metadata": {
    "heading_collapsed": true
   },
   "source": [
    "##### data文件夹内默认只有从Bloomberg获取到的数据，数据文件名为'data.csv'"
   ]
  },
  {
   "cell_type": "code",
   "execution_count": 55,
   "metadata": {
    "hidden": true
   },
   "outputs": [],
   "source": [
    "path = 'data/data.csv'\n",
    "data = get_data(path)"
   ]
  },
  {
   "cell_type": "code",
   "execution_count": 56,
   "metadata": {
    "hidden": true,
    "scrolled": true
   },
   "outputs": [
    {
     "data": {
      "text/html": [
       "<div>\n",
       "<style scoped>\n",
       "    .dataframe tbody tr th:only-of-type {\n",
       "        vertical-align: middle;\n",
       "    }\n",
       "\n",
       "    .dataframe tbody tr th {\n",
       "        vertical-align: top;\n",
       "    }\n",
       "\n",
       "    .dataframe thead th {\n",
       "        text-align: right;\n",
       "    }\n",
       "</style>\n",
       "<table border=\"1\" class=\"dataframe\">\n",
       "  <thead>\n",
       "    <tr style=\"text-align: right;\">\n",
       "      <th></th>\n",
       "      <th></th>\n",
       "      <th>high</th>\n",
       "      <th>open</th>\n",
       "      <th>low</th>\n",
       "      <th>volume</th>\n",
       "      <th>Adj Close</th>\n",
       "    </tr>\n",
       "    <tr>\n",
       "      <th>date</th>\n",
       "      <th>code</th>\n",
       "      <th></th>\n",
       "      <th></th>\n",
       "      <th></th>\n",
       "      <th></th>\n",
       "      <th></th>\n",
       "    </tr>\n",
       "  </thead>\n",
       "  <tbody>\n",
       "    <tr>\n",
       "      <th rowspan=\"5\" valign=\"top\">2010-01-04</th>\n",
       "      <th>036570</th>\n",
       "      <td>141237.0</td>\n",
       "      <td>136143.0</td>\n",
       "      <td>136143.0</td>\n",
       "      <td>236774.0</td>\n",
       "      <td>138458.0</td>\n",
       "    </tr>\n",
       "    <tr>\n",
       "      <th>053800</th>\n",
       "      <td>24670.0</td>\n",
       "      <td>21949.0</td>\n",
       "      <td>21488.0</td>\n",
       "      <td>448371.0</td>\n",
       "      <td>24670.0</td>\n",
       "    </tr>\n",
       "    <tr>\n",
       "      <th>069080</th>\n",
       "      <td>11700.0</td>\n",
       "      <td>11200.0</td>\n",
       "      <td>11050.0</td>\n",
       "      <td>151712.0</td>\n",
       "      <td>11550.0</td>\n",
       "    </tr>\n",
       "    <tr>\n",
       "      <th>078340</th>\n",
       "      <td>13341.0</td>\n",
       "      <td>11973.0</td>\n",
       "      <td>11973.0</td>\n",
       "      <td>951783.0</td>\n",
       "      <td>13341.0</td>\n",
       "    </tr>\n",
       "    <tr>\n",
       "      <th>095660</th>\n",
       "      <td>42600.0</td>\n",
       "      <td>41300.0</td>\n",
       "      <td>41050.0</td>\n",
       "      <td>390371.0</td>\n",
       "      <td>41500.0</td>\n",
       "    </tr>\n",
       "  </tbody>\n",
       "</table>\n",
       "</div>"
      ],
      "text/plain": [
       "                       high      open       low    volume  Adj Close\n",
       "date       code                                                     \n",
       "2010-01-04 036570  141237.0  136143.0  136143.0  236774.0   138458.0\n",
       "           053800   24670.0   21949.0   21488.0  448371.0    24670.0\n",
       "           069080   11700.0   11200.0   11050.0  151712.0    11550.0\n",
       "           078340   13341.0   11973.0   11973.0  951783.0    13341.0\n",
       "           095660   42600.0   41300.0   41050.0  390371.0    41500.0"
      ]
     },
     "execution_count": 56,
     "metadata": {},
     "output_type": "execute_result"
    }
   ],
   "source": [
    "data.head()"
   ]
  },
  {
   "cell_type": "markdown",
   "metadata": {
    "heading_collapsed": true
   },
   "source": [
    "##### 选取单个ticker的数据"
   ]
  },
  {
   "cell_type": "code",
   "execution_count": 64,
   "metadata": {
    "hidden": true
   },
   "outputs": [],
   "source": [
    "code = '053800'"
   ]
  },
  {
   "cell_type": "code",
   "execution_count": 65,
   "metadata": {
    "hidden": true,
    "scrolled": true
   },
   "outputs": [
    {
     "data": {
      "text/html": [
       "<div>\n",
       "<style scoped>\n",
       "    .dataframe tbody tr th:only-of-type {\n",
       "        vertical-align: middle;\n",
       "    }\n",
       "\n",
       "    .dataframe tbody tr th {\n",
       "        vertical-align: top;\n",
       "    }\n",
       "\n",
       "    .dataframe thead th {\n",
       "        text-align: right;\n",
       "    }\n",
       "</style>\n",
       "<table border=\"1\" class=\"dataframe\">\n",
       "  <thead>\n",
       "    <tr style=\"text-align: right;\">\n",
       "      <th></th>\n",
       "      <th></th>\n",
       "      <th>high</th>\n",
       "      <th>open</th>\n",
       "      <th>low</th>\n",
       "      <th>volume</th>\n",
       "      <th>Adj Close</th>\n",
       "    </tr>\n",
       "    <tr>\n",
       "      <th>date</th>\n",
       "      <th>code</th>\n",
       "      <th></th>\n",
       "      <th></th>\n",
       "      <th></th>\n",
       "      <th></th>\n",
       "      <th></th>\n",
       "    </tr>\n",
       "  </thead>\n",
       "  <tbody>\n",
       "    <tr>\n",
       "      <th>2010-01-04</th>\n",
       "      <th>053800</th>\n",
       "      <td>24670.0</td>\n",
       "      <td>21949.0</td>\n",
       "      <td>21488.0</td>\n",
       "      <td>448371.0</td>\n",
       "      <td>24670.0</td>\n",
       "    </tr>\n",
       "    <tr>\n",
       "      <th>2010-01-05</th>\n",
       "      <th>053800</th>\n",
       "      <td>28036.0</td>\n",
       "      <td>25315.0</td>\n",
       "      <td>24163.0</td>\n",
       "      <td>875198.0</td>\n",
       "      <td>25684.0</td>\n",
       "    </tr>\n",
       "    <tr>\n",
       "      <th>2010-01-06</th>\n",
       "      <th>053800</th>\n",
       "      <td>26929.0</td>\n",
       "      <td>26099.0</td>\n",
       "      <td>24808.0</td>\n",
       "      <td>408620.0</td>\n",
       "      <td>26376.0</td>\n",
       "    </tr>\n",
       "    <tr>\n",
       "      <th>2010-01-07</th>\n",
       "      <th>053800</th>\n",
       "      <td>27806.0</td>\n",
       "      <td>26745.0</td>\n",
       "      <td>24716.0</td>\n",
       "      <td>444698.0</td>\n",
       "      <td>25039.0</td>\n",
       "    </tr>\n",
       "    <tr>\n",
       "      <th>2010-01-08</th>\n",
       "      <th>053800</th>\n",
       "      <td>26653.0</td>\n",
       "      <td>25500.0</td>\n",
       "      <td>24808.0</td>\n",
       "      <td>329499.0</td>\n",
       "      <td>26468.0</td>\n",
       "    </tr>\n",
       "  </tbody>\n",
       "</table>\n",
       "</div>"
      ],
      "text/plain": [
       "                      high     open      low    volume  Adj Close\n",
       "date       code                                                  \n",
       "2010-01-04 053800  24670.0  21949.0  21488.0  448371.0    24670.0\n",
       "2010-01-05 053800  28036.0  25315.0  24163.0  875198.0    25684.0\n",
       "2010-01-06 053800  26929.0  26099.0  24808.0  408620.0    26376.0\n",
       "2010-01-07 053800  27806.0  26745.0  24716.0  444698.0    25039.0\n",
       "2010-01-08 053800  26653.0  25500.0  24808.0  329499.0    26468.0"
      ]
     },
     "execution_count": 65,
     "metadata": {},
     "output_type": "execute_result"
    }
   ],
   "source": [
    "data.loc[(slice(None), code),:].head()"
   ]
  },
  {
   "cell_type": "markdown",
   "metadata": {
    "hidden": true
   },
   "source": [
    "亦可以用utils中的函数select_code"
   ]
  },
  {
   "cell_type": "code",
   "execution_count": 66,
   "metadata": {
    "hidden": true,
    "scrolled": true
   },
   "outputs": [
    {
     "data": {
      "text/html": [
       "<div>\n",
       "<style scoped>\n",
       "    .dataframe tbody tr th:only-of-type {\n",
       "        vertical-align: middle;\n",
       "    }\n",
       "\n",
       "    .dataframe tbody tr th {\n",
       "        vertical-align: top;\n",
       "    }\n",
       "\n",
       "    .dataframe thead th {\n",
       "        text-align: right;\n",
       "    }\n",
       "</style>\n",
       "<table border=\"1\" class=\"dataframe\">\n",
       "  <thead>\n",
       "    <tr style=\"text-align: right;\">\n",
       "      <th></th>\n",
       "      <th>high</th>\n",
       "      <th>open</th>\n",
       "      <th>low</th>\n",
       "      <th>volume</th>\n",
       "      <th>Adj Close</th>\n",
       "    </tr>\n",
       "    <tr>\n",
       "      <th>date</th>\n",
       "      <th></th>\n",
       "      <th></th>\n",
       "      <th></th>\n",
       "      <th></th>\n",
       "      <th></th>\n",
       "    </tr>\n",
       "  </thead>\n",
       "  <tbody>\n",
       "    <tr>\n",
       "      <th>2010-01-04</th>\n",
       "      <td>24670.0</td>\n",
       "      <td>21949.0</td>\n",
       "      <td>21488.0</td>\n",
       "      <td>448371.0</td>\n",
       "      <td>24670.0</td>\n",
       "    </tr>\n",
       "    <tr>\n",
       "      <th>2010-01-05</th>\n",
       "      <td>28036.0</td>\n",
       "      <td>25315.0</td>\n",
       "      <td>24163.0</td>\n",
       "      <td>875198.0</td>\n",
       "      <td>25684.0</td>\n",
       "    </tr>\n",
       "    <tr>\n",
       "      <th>2010-01-06</th>\n",
       "      <td>26929.0</td>\n",
       "      <td>26099.0</td>\n",
       "      <td>24808.0</td>\n",
       "      <td>408620.0</td>\n",
       "      <td>26376.0</td>\n",
       "    </tr>\n",
       "    <tr>\n",
       "      <th>2010-01-07</th>\n",
       "      <td>27806.0</td>\n",
       "      <td>26745.0</td>\n",
       "      <td>24716.0</td>\n",
       "      <td>444698.0</td>\n",
       "      <td>25039.0</td>\n",
       "    </tr>\n",
       "    <tr>\n",
       "      <th>2010-01-08</th>\n",
       "      <td>26653.0</td>\n",
       "      <td>25500.0</td>\n",
       "      <td>24808.0</td>\n",
       "      <td>329499.0</td>\n",
       "      <td>26468.0</td>\n",
       "    </tr>\n",
       "  </tbody>\n",
       "</table>\n",
       "</div>"
      ],
      "text/plain": [
       "               high     open      low    volume  Adj Close\n",
       "date                                                      \n",
       "2010-01-04  24670.0  21949.0  21488.0  448371.0    24670.0\n",
       "2010-01-05  28036.0  25315.0  24163.0  875198.0    25684.0\n",
       "2010-01-06  26929.0  26099.0  24808.0  408620.0    26376.0\n",
       "2010-01-07  27806.0  26745.0  24716.0  444698.0    25039.0\n",
       "2010-01-08  26653.0  25500.0  24808.0  329499.0    26468.0"
      ]
     },
     "execution_count": 66,
     "metadata": {},
     "output_type": "execute_result"
    }
   ],
   "source": [
    "select_code(data, code).head()"
   ]
  },
  {
   "cell_type": "markdown",
   "metadata": {
    "heading_collapsed": true
   },
   "source": [
    "##### 选取一组tickers的数据"
   ]
  },
  {
   "cell_type": "markdown",
   "metadata": {
    "hidden": true
   },
   "source": [
    "```\n",
    "比如我们想获取某个ETF的数据\n",
    "首先就是需要知道这个ETF里由哪些tickers构成\n",
    "```"
   ]
  },
  {
   "cell_type": "markdown",
   "metadata": {
    "hidden": true
   },
   "source": [
    "使用utils中的函数get_code_list_by_etf拿到PSJ的tickers list"
   ]
  },
  {
   "cell_type": "code",
   "execution_count": 74,
   "metadata": {
    "hidden": true
   },
   "outputs": [
    {
     "data": {
      "text/html": [
       "<div>\n",
       "<style scoped>\n",
       "    .dataframe tbody tr th:only-of-type {\n",
       "        vertical-align: middle;\n",
       "    }\n",
       "\n",
       "    .dataframe tbody tr th {\n",
       "        vertical-align: top;\n",
       "    }\n",
       "\n",
       "    .dataframe thead th {\n",
       "        text-align: right;\n",
       "    }\n",
       "</style>\n",
       "<table border=\"1\" class=\"dataframe\">\n",
       "  <thead>\n",
       "    <tr style=\"text-align: right;\">\n",
       "      <th></th>\n",
       "      <th></th>\n",
       "      <th>high</th>\n",
       "      <th>open</th>\n",
       "      <th>low</th>\n",
       "      <th>volume</th>\n",
       "      <th>Adj Close</th>\n",
       "    </tr>\n",
       "    <tr>\n",
       "      <th>date</th>\n",
       "      <th>code</th>\n",
       "      <th></th>\n",
       "      <th></th>\n",
       "      <th></th>\n",
       "      <th></th>\n",
       "      <th></th>\n",
       "    </tr>\n",
       "  </thead>\n",
       "  <tbody>\n",
       "    <tr>\n",
       "      <th rowspan=\"5\" valign=\"top\">2010-01-04</th>\n",
       "      <th>ADBE</th>\n",
       "      <td>37.3000</td>\n",
       "      <td>36.6500</td>\n",
       "      <td>36.6500</td>\n",
       "      <td>4710112.0</td>\n",
       "      <td>37.0900</td>\n",
       "    </tr>\n",
       "    <tr>\n",
       "      <th>ALRM</th>\n",
       "      <td>NaN</td>\n",
       "      <td>NaN</td>\n",
       "      <td>NaN</td>\n",
       "      <td>NaN</td>\n",
       "      <td>NaN</td>\n",
       "    </tr>\n",
       "    <tr>\n",
       "      <th>ALTR</th>\n",
       "      <td>NaN</td>\n",
       "      <td>NaN</td>\n",
       "      <td>NaN</td>\n",
       "      <td>NaN</td>\n",
       "      <td>NaN</td>\n",
       "    </tr>\n",
       "    <tr>\n",
       "      <th>ATVI</th>\n",
       "      <td>10.4115</td>\n",
       "      <td>10.2115</td>\n",
       "      <td>10.1387</td>\n",
       "      <td>9310055.0</td>\n",
       "      <td>10.2751</td>\n",
       "    </tr>\n",
       "    <tr>\n",
       "      <th>BAND</th>\n",
       "      <td>NaN</td>\n",
       "      <td>NaN</td>\n",
       "      <td>NaN</td>\n",
       "      <td>NaN</td>\n",
       "      <td>NaN</td>\n",
       "    </tr>\n",
       "  </tbody>\n",
       "</table>\n",
       "</div>"
      ],
      "text/plain": [
       "                    high     open      low     volume  Adj Close\n",
       "date       code                                                 \n",
       "2010-01-04 ADBE  37.3000  36.6500  36.6500  4710112.0    37.0900\n",
       "           ALRM      NaN      NaN      NaN        NaN        NaN\n",
       "           ALTR      NaN      NaN      NaN        NaN        NaN\n",
       "           ATVI  10.4115  10.2115  10.1387  9310055.0    10.2751\n",
       "           BAND      NaN      NaN      NaN        NaN        NaN"
      ]
     },
     "execution_count": 74,
     "metadata": {},
     "output_type": "execute_result"
    }
   ],
   "source": [
    "# 我们先拿到PSJ的tickers list\n",
    "df_code = pd.read_excel('data/etf_pair_code.xlsx', dtype={'symbol':str})\n",
    "psj_code_list = get_code_list_by_etf(df_code, 'PSJ', 'all').symbol.tolist()\n",
    "data.loc[(slice(None), psj_code_list),:].head()"
   ]
  },
  {
   "cell_type": "markdown",
   "metadata": {
    "hidden": true
   },
   "source": [
    "```\n",
    "也可以任意提取想要ticker的数据\n",
    "```"
   ]
  },
  {
   "cell_type": "code",
   "execution_count": 78,
   "metadata": {
    "hidden": true
   },
   "outputs": [
    {
     "data": {
      "text/html": [
       "<div>\n",
       "<style scoped>\n",
       "    .dataframe tbody tr th:only-of-type {\n",
       "        vertical-align: middle;\n",
       "    }\n",
       "\n",
       "    .dataframe tbody tr th {\n",
       "        vertical-align: top;\n",
       "    }\n",
       "\n",
       "    .dataframe thead th {\n",
       "        text-align: right;\n",
       "    }\n",
       "</style>\n",
       "<table border=\"1\" class=\"dataframe\">\n",
       "  <thead>\n",
       "    <tr style=\"text-align: right;\">\n",
       "      <th></th>\n",
       "      <th></th>\n",
       "      <th>high</th>\n",
       "      <th>open</th>\n",
       "      <th>low</th>\n",
       "      <th>volume</th>\n",
       "      <th>Adj Close</th>\n",
       "    </tr>\n",
       "    <tr>\n",
       "      <th>date</th>\n",
       "      <th>code</th>\n",
       "      <th></th>\n",
       "      <th></th>\n",
       "      <th></th>\n",
       "      <th></th>\n",
       "      <th></th>\n",
       "    </tr>\n",
       "  </thead>\n",
       "  <tbody>\n",
       "    <tr>\n",
       "      <th rowspan=\"3\" valign=\"top\">2010-01-04</th>\n",
       "      <th>700</th>\n",
       "      <td>32.9320</td>\n",
       "      <td>32.6190</td>\n",
       "      <td>32.5020</td>\n",
       "      <td>11261945.0</td>\n",
       "      <td>32.8140</td>\n",
       "    </tr>\n",
       "    <tr>\n",
       "      <th>AMZN</th>\n",
       "      <td>136.6100</td>\n",
       "      <td>136.2500</td>\n",
       "      <td>133.1400</td>\n",
       "      <td>7600543.0</td>\n",
       "      <td>133.9000</td>\n",
       "    </tr>\n",
       "    <tr>\n",
       "      <th>MSFT</th>\n",
       "      <td>24.8407</td>\n",
       "      <td>24.4573</td>\n",
       "      <td>24.4334</td>\n",
       "      <td>38414185.0</td>\n",
       "      <td>24.7209</td>\n",
       "    </tr>\n",
       "    <tr>\n",
       "      <th rowspan=\"2\" valign=\"top\">2010-01-05</th>\n",
       "      <th>700</th>\n",
       "      <td>33.7910</td>\n",
       "      <td>32.6780</td>\n",
       "      <td>32.6390</td>\n",
       "      <td>24423510.0</td>\n",
       "      <td>33.5570</td>\n",
       "    </tr>\n",
       "    <tr>\n",
       "      <th>AMZN</th>\n",
       "      <td>135.4790</td>\n",
       "      <td>133.4300</td>\n",
       "      <td>131.8100</td>\n",
       "      <td>8856456.0</td>\n",
       "      <td>134.6900</td>\n",
       "    </tr>\n",
       "  </tbody>\n",
       "</table>\n",
       "</div>"
      ],
      "text/plain": [
       "                     high      open       low      volume  Adj Close\n",
       "date       code                                                     \n",
       "2010-01-04 700    32.9320   32.6190   32.5020  11261945.0    32.8140\n",
       "           AMZN  136.6100  136.2500  133.1400   7600543.0   133.9000\n",
       "           MSFT   24.8407   24.4573   24.4334  38414185.0    24.7209\n",
       "2010-01-05 700    33.7910   32.6780   32.6390  24423510.0    33.5570\n",
       "           AMZN  135.4790  133.4300  131.8100   8856456.0   134.6900"
      ]
     },
     "execution_count": 78,
     "metadata": {},
     "output_type": "execute_result"
    }
   ],
   "source": [
    "some_code_list = ['MSFT', 'AMZN', '700']\n",
    "data.loc[(slice(None), some_code_list),:].head()"
   ]
  },
  {
   "cell_type": "markdown",
   "metadata": {
    "heading_collapsed": true
   },
   "source": [
    "##### 按时间获取数据"
   ]
  },
  {
   "cell_type": "code",
   "execution_count": 79,
   "metadata": {
    "hidden": true
   },
   "outputs": [
    {
     "data": {
      "text/html": [
       "<div>\n",
       "<style scoped>\n",
       "    .dataframe tbody tr th:only-of-type {\n",
       "        vertical-align: middle;\n",
       "    }\n",
       "\n",
       "    .dataframe tbody tr th {\n",
       "        vertical-align: top;\n",
       "    }\n",
       "\n",
       "    .dataframe thead th {\n",
       "        text-align: right;\n",
       "    }\n",
       "</style>\n",
       "<table border=\"1\" class=\"dataframe\">\n",
       "  <thead>\n",
       "    <tr style=\"text-align: right;\">\n",
       "      <th></th>\n",
       "      <th></th>\n",
       "      <th>high</th>\n",
       "      <th>open</th>\n",
       "      <th>low</th>\n",
       "      <th>volume</th>\n",
       "      <th>Adj Close</th>\n",
       "    </tr>\n",
       "    <tr>\n",
       "      <th>date</th>\n",
       "      <th>code</th>\n",
       "      <th></th>\n",
       "      <th></th>\n",
       "      <th></th>\n",
       "      <th></th>\n",
       "      <th></th>\n",
       "    </tr>\n",
       "  </thead>\n",
       "  <tbody>\n",
       "    <tr>\n",
       "      <th rowspan=\"5\" valign=\"top\">2010-01-04</th>\n",
       "      <th>036570</th>\n",
       "      <td>141237.0</td>\n",
       "      <td>136143.0</td>\n",
       "      <td>136143.0</td>\n",
       "      <td>236774.0</td>\n",
       "      <td>138458.0</td>\n",
       "    </tr>\n",
       "    <tr>\n",
       "      <th>053800</th>\n",
       "      <td>24670.0</td>\n",
       "      <td>21949.0</td>\n",
       "      <td>21488.0</td>\n",
       "      <td>448371.0</td>\n",
       "      <td>24670.0</td>\n",
       "    </tr>\n",
       "    <tr>\n",
       "      <th>069080</th>\n",
       "      <td>11700.0</td>\n",
       "      <td>11200.0</td>\n",
       "      <td>11050.0</td>\n",
       "      <td>151712.0</td>\n",
       "      <td>11550.0</td>\n",
       "    </tr>\n",
       "    <tr>\n",
       "      <th>078340</th>\n",
       "      <td>13341.0</td>\n",
       "      <td>11973.0</td>\n",
       "      <td>11973.0</td>\n",
       "      <td>951783.0</td>\n",
       "      <td>13341.0</td>\n",
       "    </tr>\n",
       "    <tr>\n",
       "      <th>095660</th>\n",
       "      <td>42600.0</td>\n",
       "      <td>41300.0</td>\n",
       "      <td>41050.0</td>\n",
       "      <td>390371.0</td>\n",
       "      <td>41500.0</td>\n",
       "    </tr>\n",
       "  </tbody>\n",
       "</table>\n",
       "</div>"
      ],
      "text/plain": [
       "                       high      open       low    volume  Adj Close\n",
       "date       code                                                     \n",
       "2010-01-04 036570  141237.0  136143.0  136143.0  236774.0   138458.0\n",
       "           053800   24670.0   21949.0   21488.0  448371.0    24670.0\n",
       "           069080   11700.0   11200.0   11050.0  151712.0    11550.0\n",
       "           078340   13341.0   11973.0   11973.0  951783.0    13341.0\n",
       "           095660   42600.0   41300.0   41050.0  390371.0    41500.0"
      ]
     },
     "execution_count": 79,
     "metadata": {},
     "output_type": "execute_result"
    }
   ],
   "source": [
    "# 某一天的数据\n",
    "data.loc[('2010-01-04',slice(None)),:].head()"
   ]
  },
  {
   "cell_type": "code",
   "execution_count": 81,
   "metadata": {
    "hidden": true
   },
   "outputs": [
    {
     "data": {
      "text/html": [
       "<div>\n",
       "<style scoped>\n",
       "    .dataframe tbody tr th:only-of-type {\n",
       "        vertical-align: middle;\n",
       "    }\n",
       "\n",
       "    .dataframe tbody tr th {\n",
       "        vertical-align: top;\n",
       "    }\n",
       "\n",
       "    .dataframe thead th {\n",
       "        text-align: right;\n",
       "    }\n",
       "</style>\n",
       "<table border=\"1\" class=\"dataframe\">\n",
       "  <thead>\n",
       "    <tr style=\"text-align: right;\">\n",
       "      <th></th>\n",
       "      <th></th>\n",
       "      <th>high</th>\n",
       "      <th>open</th>\n",
       "      <th>low</th>\n",
       "      <th>volume</th>\n",
       "      <th>Adj Close</th>\n",
       "    </tr>\n",
       "    <tr>\n",
       "      <th>date</th>\n",
       "      <th>code</th>\n",
       "      <th></th>\n",
       "      <th></th>\n",
       "      <th></th>\n",
       "      <th></th>\n",
       "      <th></th>\n",
       "    </tr>\n",
       "  </thead>\n",
       "  <tbody>\n",
       "    <tr>\n",
       "      <th rowspan=\"5\" valign=\"top\">2010-02-01</th>\n",
       "      <th>036570</th>\n",
       "      <td>122714.0</td>\n",
       "      <td>121324.0</td>\n",
       "      <td>116694.0</td>\n",
       "      <td>258986.0</td>\n",
       "      <td>121324.0</td>\n",
       "    </tr>\n",
       "    <tr>\n",
       "      <th>053800</th>\n",
       "      <td>21995.0</td>\n",
       "      <td>21442.0</td>\n",
       "      <td>21073.0</td>\n",
       "      <td>104049.0</td>\n",
       "      <td>21212.0</td>\n",
       "    </tr>\n",
       "    <tr>\n",
       "      <th>069080</th>\n",
       "      <td>13600.0</td>\n",
       "      <td>12950.0</td>\n",
       "      <td>12500.0</td>\n",
       "      <td>260707.0</td>\n",
       "      <td>13100.0</td>\n",
       "    </tr>\n",
       "    <tr>\n",
       "      <th>078340</th>\n",
       "      <td>11332.0</td>\n",
       "      <td>11118.0</td>\n",
       "      <td>10861.0</td>\n",
       "      <td>380158.0</td>\n",
       "      <td>11246.0</td>\n",
       "    </tr>\n",
       "    <tr>\n",
       "      <th>095660</th>\n",
       "      <td>32100.0</td>\n",
       "      <td>31650.0</td>\n",
       "      <td>30200.0</td>\n",
       "      <td>255557.0</td>\n",
       "      <td>30950.0</td>\n",
       "    </tr>\n",
       "  </tbody>\n",
       "</table>\n",
       "</div>"
      ],
      "text/plain": [
       "                       high      open       low    volume  Adj Close\n",
       "date       code                                                     \n",
       "2010-02-01 036570  122714.0  121324.0  116694.0  258986.0   121324.0\n",
       "           053800   21995.0   21442.0   21073.0  104049.0    21212.0\n",
       "           069080   13600.0   12950.0   12500.0  260707.0    13100.0\n",
       "           078340   11332.0   11118.0   10861.0  380158.0    11246.0\n",
       "           095660   32100.0   31650.0   30200.0  255557.0    30950.0"
      ]
     },
     "execution_count": 81,
     "metadata": {},
     "output_type": "execute_result"
    }
   ],
   "source": [
    "# 某一个月的数据\n",
    "data.loc[('2010-02',slice(None)),:].head()"
   ]
  },
  {
   "cell_type": "code",
   "execution_count": 83,
   "metadata": {
    "hidden": true
   },
   "outputs": [
    {
     "data": {
      "text/html": [
       "<div>\n",
       "<style scoped>\n",
       "    .dataframe tbody tr th:only-of-type {\n",
       "        vertical-align: middle;\n",
       "    }\n",
       "\n",
       "    .dataframe tbody tr th {\n",
       "        vertical-align: top;\n",
       "    }\n",
       "\n",
       "    .dataframe thead th {\n",
       "        text-align: right;\n",
       "    }\n",
       "</style>\n",
       "<table border=\"1\" class=\"dataframe\">\n",
       "  <thead>\n",
       "    <tr style=\"text-align: right;\">\n",
       "      <th></th>\n",
       "      <th></th>\n",
       "      <th>high</th>\n",
       "      <th>open</th>\n",
       "      <th>low</th>\n",
       "      <th>volume</th>\n",
       "      <th>Adj Close</th>\n",
       "    </tr>\n",
       "    <tr>\n",
       "      <th>date</th>\n",
       "      <th>code</th>\n",
       "      <th></th>\n",
       "      <th></th>\n",
       "      <th></th>\n",
       "      <th></th>\n",
       "      <th></th>\n",
       "    </tr>\n",
       "  </thead>\n",
       "  <tbody>\n",
       "    <tr>\n",
       "      <th rowspan=\"5\" valign=\"top\">2019-01-02</th>\n",
       "      <th>036570</th>\n",
       "      <td>472500.0</td>\n",
       "      <td>464500.0</td>\n",
       "      <td>461000.0</td>\n",
       "      <td>83710.0</td>\n",
       "      <td>467000.0</td>\n",
       "    </tr>\n",
       "    <tr>\n",
       "      <th>053800</th>\n",
       "      <td>46850.0</td>\n",
       "      <td>46850.0</td>\n",
       "      <td>46150.0</td>\n",
       "      <td>51420.0</td>\n",
       "      <td>46150.0</td>\n",
       "    </tr>\n",
       "    <tr>\n",
       "      <th>069080</th>\n",
       "      <td>22500.0</td>\n",
       "      <td>22250.0</td>\n",
       "      <td>21000.0</td>\n",
       "      <td>666367.0</td>\n",
       "      <td>21450.0</td>\n",
       "    </tr>\n",
       "    <tr>\n",
       "      <th>078340</th>\n",
       "      <td>129100.0</td>\n",
       "      <td>129000.0</td>\n",
       "      <td>124900.0</td>\n",
       "      <td>83280.0</td>\n",
       "      <td>125000.0</td>\n",
       "    </tr>\n",
       "    <tr>\n",
       "      <th>095660</th>\n",
       "      <td>12700.0</td>\n",
       "      <td>12500.0</td>\n",
       "      <td>12250.0</td>\n",
       "      <td>89761.0</td>\n",
       "      <td>12450.0</td>\n",
       "    </tr>\n",
       "  </tbody>\n",
       "</table>\n",
       "</div>"
      ],
      "text/plain": [
       "                       high      open       low    volume  Adj Close\n",
       "date       code                                                     \n",
       "2019-01-02 036570  472500.0  464500.0  461000.0   83710.0   467000.0\n",
       "           053800   46850.0   46850.0   46150.0   51420.0    46150.0\n",
       "           069080   22500.0   22250.0   21000.0  666367.0    21450.0\n",
       "           078340  129100.0  129000.0  124900.0   83280.0   125000.0\n",
       "           095660   12700.0   12500.0   12250.0   89761.0    12450.0"
      ]
     },
     "execution_count": 83,
     "metadata": {},
     "output_type": "execute_result"
    }
   ],
   "source": [
    "# 某一年的数据\n",
    "data.loc[('2019',slice(None)),:].head()"
   ]
  },
  {
   "cell_type": "markdown",
   "metadata": {},
   "source": [
    "##### 某个时间段某些股票的数据"
   ]
  },
  {
   "cell_type": "code",
   "execution_count": 84,
   "metadata": {},
   "outputs": [
    {
     "data": {
      "text/html": [
       "<div>\n",
       "<style scoped>\n",
       "    .dataframe tbody tr th:only-of-type {\n",
       "        vertical-align: middle;\n",
       "    }\n",
       "\n",
       "    .dataframe tbody tr th {\n",
       "        vertical-align: top;\n",
       "    }\n",
       "\n",
       "    .dataframe thead th {\n",
       "        text-align: right;\n",
       "    }\n",
       "</style>\n",
       "<table border=\"1\" class=\"dataframe\">\n",
       "  <thead>\n",
       "    <tr style=\"text-align: right;\">\n",
       "      <th></th>\n",
       "      <th></th>\n",
       "      <th>high</th>\n",
       "      <th>open</th>\n",
       "      <th>low</th>\n",
       "      <th>volume</th>\n",
       "      <th>Adj Close</th>\n",
       "    </tr>\n",
       "    <tr>\n",
       "      <th>date</th>\n",
       "      <th>code</th>\n",
       "      <th></th>\n",
       "      <th></th>\n",
       "      <th></th>\n",
       "      <th></th>\n",
       "      <th></th>\n",
       "    </tr>\n",
       "  </thead>\n",
       "  <tbody>\n",
       "    <tr>\n",
       "      <th rowspan=\"3\" valign=\"top\">2018-01-02</th>\n",
       "      <th>700</th>\n",
       "      <td>417.0680</td>\n",
       "      <td>407.0910</td>\n",
       "      <td>406.6920</td>\n",
       "      <td>24080505.0</td>\n",
       "      <td>416.8690</td>\n",
       "    </tr>\n",
       "    <tr>\n",
       "      <th>AMZN</th>\n",
       "      <td>1190.0000</td>\n",
       "      <td>1172.0000</td>\n",
       "      <td>1170.5100</td>\n",
       "      <td>2694494.0</td>\n",
       "      <td>1189.0100</td>\n",
       "    </tr>\n",
       "    <tr>\n",
       "      <th>MSFT</th>\n",
       "      <td>84.8413</td>\n",
       "      <td>84.6594</td>\n",
       "      <td>84.0451</td>\n",
       "      <td>22483797.0</td>\n",
       "      <td>84.4874</td>\n",
       "    </tr>\n",
       "    <tr>\n",
       "      <th rowspan=\"2\" valign=\"top\">2018-01-03</th>\n",
       "      <th>700</th>\n",
       "      <td>425.8490</td>\n",
       "      <td>423.0550</td>\n",
       "      <td>418.0660</td>\n",
       "      <td>22780154.0</td>\n",
       "      <td>421.2590</td>\n",
       "    </tr>\n",
       "    <tr>\n",
       "      <th>AMZN</th>\n",
       "      <td>1205.4900</td>\n",
       "      <td>1188.3000</td>\n",
       "      <td>1188.3000</td>\n",
       "      <td>3108793.0</td>\n",
       "      <td>1204.2000</td>\n",
       "    </tr>\n",
       "  </tbody>\n",
       "</table>\n",
       "</div>"
      ],
      "text/plain": [
       "                      high       open        low      volume  Adj Close\n",
       "date       code                                                        \n",
       "2018-01-02 700    417.0680   407.0910   406.6920  24080505.0   416.8690\n",
       "           AMZN  1190.0000  1172.0000  1170.5100   2694494.0  1189.0100\n",
       "           MSFT    84.8413    84.6594    84.0451  22483797.0    84.4874\n",
       "2018-01-03 700    425.8490   423.0550   418.0660  22780154.0   421.2590\n",
       "           AMZN  1205.4900  1188.3000  1188.3000   3108793.0  1204.2000"
      ]
     },
     "execution_count": 84,
     "metadata": {},
     "output_type": "execute_result"
    }
   ],
   "source": [
    "some_code_list = ['MSFT', 'AMZN', '700']\n",
    "data.loc[('2018', some_code_list),:].head()"
   ]
  },
  {
   "cell_type": "markdown",
   "metadata": {},
   "source": []
  },
  {
   "cell_type": "code",
   "execution_count": null,
   "metadata": {},
   "outputs": [],
   "source": []
  },
  {
   "cell_type": "code",
   "execution_count": null,
   "metadata": {},
   "outputs": [],
   "source": []
  }
 ],
 "metadata": {
  "kernelspec": {
   "display_name": "Python 3",
   "language": "python",
   "name": "python3"
  },
  "language_info": {
   "codemirror_mode": {
    "name": "ipython",
    "version": 3
   },
   "file_extension": ".py",
   "mimetype": "text/x-python",
   "name": "python",
   "nbconvert_exporter": "python",
   "pygments_lexer": "ipython3",
   "version": "3.6.5"
  },
  "toc": {
   "base_numbering": 1,
   "nav_menu": {},
   "number_sections": true,
   "sideBar": true,
   "skip_h1_title": false,
   "title_cell": "Table of Contents",
   "title_sidebar": "Contents",
   "toc_cell": false,
   "toc_position": {},
   "toc_section_display": true,
   "toc_window_display": false
  },
  "varInspector": {
   "cols": {
    "lenName": 16,
    "lenType": 16,
    "lenVar": 40
   },
   "kernels_config": {
    "python": {
     "delete_cmd_postfix": "",
     "delete_cmd_prefix": "del ",
     "library": "var_list.py",
     "varRefreshCmd": "print(var_dic_list())"
    },
    "r": {
     "delete_cmd_postfix": ") ",
     "delete_cmd_prefix": "rm(",
     "library": "var_list.r",
     "varRefreshCmd": "cat(var_dic_list()) "
    }
   },
   "types_to_exclude": [
    "module",
    "function",
    "builtin_function_or_method",
    "instance",
    "_Feature"
   ],
   "window_display": false
  }
 },
 "nbformat": 4,
 "nbformat_minor": 2
}
