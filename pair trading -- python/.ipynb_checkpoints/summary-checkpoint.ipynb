{
 "cells": [
  {
   "cell_type": "markdown",
   "metadata": {},
   "source": [
    "旨在整理和回顾这段时间的工作内容\n",
    "\n",
    "看哪些做的不足\n",
    "\n",
    "哪些需要改进\n",
    "\n",
    "哪些还未完成\n",
    "\n",
    "哪些还未实现\n",
    "\n",
    "哪些还留有遗憾"
   ]
  },
  {
   "cell_type": "markdown",
   "metadata": {},
   "source": [
    "```\n",
    "boll 轨道\n",
    "hkd ita\n",
    "ewm 问题?\n",
    "```"
   ]
  },
  {
   "cell_type": "markdown",
   "metadata": {},
   "source": [
    "我们先看下能否正常运行代码"
   ]
  },
  {
   "cell_type": "markdown",
   "metadata": {},
   "source": [
    "### import libraries"
   ]
  },
  {
   "cell_type": "code",
   "execution_count": 1,
   "metadata": {},
   "outputs": [],
   "source": [
    "%load_ext autoreload\n",
    "%autoreload 2\n",
    "from utils import *"
   ]
  },
  {
   "cell_type": "code",
   "execution_count": 2,
   "metadata": {},
   "outputs": [],
   "source": [
    "import seaborn as sns\n",
    "plt.rcParams['figure.figsize'] = [12, 8]\n",
    "plt.rcParams['image.interpolation'] = 'nearest'\n",
    "plt.rcParams['image.cmap'] = 'gray'\n",
    "plt.style.use('ggplot')"
   ]
  },
  {
   "cell_type": "markdown",
   "metadata": {
    "heading_collapsed": true
   },
   "source": [
    "### 更新数据"
   ]
  },
  {
   "cell_type": "markdown",
   "metadata": {
    "hidden": true
   },
   "source": [
    "每日只需要运行一次"
   ]
  },
  {
   "cell_type": "code",
   "execution_count": null,
   "metadata": {
    "hidden": true
   },
   "outputs": [],
   "source": [
    "from utils_update\n",
    "update()"
   ]
  },
  {
   "cell_type": "markdown",
   "metadata": {},
   "source": [
    "### function"
   ]
  },
  {
   "cell_type": "markdown",
   "metadata": {},
   "source": [
    "#### 从数据文件中获取数据"
   ]
  },
  {
   "cell_type": "markdown",
   "metadata": {},
   "source": [
    "##### data文件夹内默认只有从Bloomberg获取到的数据，数据文件名为'data.csv'"
   ]
  },
  {
   "cell_type": "code",
   "execution_count": 25,
   "metadata": {},
   "outputs": [],
   "source": [
    "path = 'data/data.csv'\n",
    "data = get_data(path)"
   ]
  },
  {
   "cell_type": "code",
   "execution_count": 4,
   "metadata": {
    "scrolled": true
   },
   "outputs": [
    {
     "data": {
      "text/html": [
       "<div>\n",
       "<style scoped>\n",
       "    .dataframe tbody tr th:only-of-type {\n",
       "        vertical-align: middle;\n",
       "    }\n",
       "\n",
       "    .dataframe tbody tr th {\n",
       "        vertical-align: top;\n",
       "    }\n",
       "\n",
       "    .dataframe thead th {\n",
       "        text-align: right;\n",
       "    }\n",
       "</style>\n",
       "<table border=\"1\" class=\"dataframe\">\n",
       "  <thead>\n",
       "    <tr style=\"text-align: right;\">\n",
       "      <th></th>\n",
       "      <th></th>\n",
       "      <th>high</th>\n",
       "      <th>open</th>\n",
       "      <th>low</th>\n",
       "      <th>volume</th>\n",
       "      <th>Adj Close</th>\n",
       "    </tr>\n",
       "    <tr>\n",
       "      <th>date</th>\n",
       "      <th>code</th>\n",
       "      <th></th>\n",
       "      <th></th>\n",
       "      <th></th>\n",
       "      <th></th>\n",
       "      <th></th>\n",
       "    </tr>\n",
       "  </thead>\n",
       "  <tbody>\n",
       "    <tr>\n",
       "      <th rowspan=\"5\" valign=\"top\">2010-01-04</th>\n",
       "      <th>036570</th>\n",
       "      <td>141237.0</td>\n",
       "      <td>136143.0</td>\n",
       "      <td>136143.0</td>\n",
       "      <td>236774.0</td>\n",
       "      <td>138458.0</td>\n",
       "    </tr>\n",
       "    <tr>\n",
       "      <th>053800</th>\n",
       "      <td>24670.0</td>\n",
       "      <td>21949.0</td>\n",
       "      <td>21488.0</td>\n",
       "      <td>448371.0</td>\n",
       "      <td>24670.0</td>\n",
       "    </tr>\n",
       "    <tr>\n",
       "      <th>069080</th>\n",
       "      <td>11700.0</td>\n",
       "      <td>11200.0</td>\n",
       "      <td>11050.0</td>\n",
       "      <td>151712.0</td>\n",
       "      <td>11550.0</td>\n",
       "    </tr>\n",
       "    <tr>\n",
       "      <th>078340</th>\n",
       "      <td>13341.0</td>\n",
       "      <td>11973.0</td>\n",
       "      <td>11973.0</td>\n",
       "      <td>951783.0</td>\n",
       "      <td>13341.0</td>\n",
       "    </tr>\n",
       "    <tr>\n",
       "      <th>095660</th>\n",
       "      <td>42600.0</td>\n",
       "      <td>41300.0</td>\n",
       "      <td>41050.0</td>\n",
       "      <td>390371.0</td>\n",
       "      <td>41500.0</td>\n",
       "    </tr>\n",
       "  </tbody>\n",
       "</table>\n",
       "</div>"
      ],
      "text/plain": [
       "                       high      open       low    volume  Adj Close\n",
       "date       code                                                     \n",
       "2010-01-04 036570  141237.0  136143.0  136143.0  236774.0   138458.0\n",
       "           053800   24670.0   21949.0   21488.0  448371.0    24670.0\n",
       "           069080   11700.0   11200.0   11050.0  151712.0    11550.0\n",
       "           078340   13341.0   11973.0   11973.0  951783.0    13341.0\n",
       "           095660   42600.0   41300.0   41050.0  390371.0    41500.0"
      ]
     },
     "execution_count": 4,
     "metadata": {},
     "output_type": "execute_result"
    }
   ],
   "source": [
    "data.head()"
   ]
  },
  {
   "cell_type": "markdown",
   "metadata": {
    "heading_collapsed": true
   },
   "source": [
    "##### 选取单个ticker的数据"
   ]
  },
  {
   "cell_type": "code",
   "execution_count": 5,
   "metadata": {
    "hidden": true
   },
   "outputs": [],
   "source": [
    "code = '700'"
   ]
  },
  {
   "cell_type": "code",
   "execution_count": 6,
   "metadata": {
    "hidden": true,
    "scrolled": true
   },
   "outputs": [
    {
     "data": {
      "text/html": [
       "<div>\n",
       "<style scoped>\n",
       "    .dataframe tbody tr th:only-of-type {\n",
       "        vertical-align: middle;\n",
       "    }\n",
       "\n",
       "    .dataframe tbody tr th {\n",
       "        vertical-align: top;\n",
       "    }\n",
       "\n",
       "    .dataframe thead th {\n",
       "        text-align: right;\n",
       "    }\n",
       "</style>\n",
       "<table border=\"1\" class=\"dataframe\">\n",
       "  <thead>\n",
       "    <tr style=\"text-align: right;\">\n",
       "      <th></th>\n",
       "      <th></th>\n",
       "      <th>high</th>\n",
       "      <th>open</th>\n",
       "      <th>low</th>\n",
       "      <th>volume</th>\n",
       "      <th>Adj Close</th>\n",
       "    </tr>\n",
       "    <tr>\n",
       "      <th>date</th>\n",
       "      <th>code</th>\n",
       "      <th></th>\n",
       "      <th></th>\n",
       "      <th></th>\n",
       "      <th></th>\n",
       "      <th></th>\n",
       "    </tr>\n",
       "  </thead>\n",
       "  <tbody>\n",
       "    <tr>\n",
       "      <th>2010-01-04</th>\n",
       "      <th>700</th>\n",
       "      <td>32.932</td>\n",
       "      <td>32.619</td>\n",
       "      <td>32.502</td>\n",
       "      <td>11261945.0</td>\n",
       "      <td>32.814</td>\n",
       "    </tr>\n",
       "    <tr>\n",
       "      <th>2010-01-05</th>\n",
       "      <th>700</th>\n",
       "      <td>33.791</td>\n",
       "      <td>32.678</td>\n",
       "      <td>32.639</td>\n",
       "      <td>24423510.0</td>\n",
       "      <td>33.557</td>\n",
       "    </tr>\n",
       "    <tr>\n",
       "      <th>2010-01-06</th>\n",
       "      <th>700</th>\n",
       "      <td>34.182</td>\n",
       "      <td>33.713</td>\n",
       "      <td>33.576</td>\n",
       "      <td>23279845.0</td>\n",
       "      <td>33.635</td>\n",
       "    </tr>\n",
       "    <tr>\n",
       "      <th>2010-01-07</th>\n",
       "      <th>700</th>\n",
       "      <td>33.850</td>\n",
       "      <td>33.635</td>\n",
       "      <td>32.228</td>\n",
       "      <td>27930995.0</td>\n",
       "      <td>32.346</td>\n",
       "    </tr>\n",
       "    <tr>\n",
       "      <th>2010-01-08</th>\n",
       "      <th>700</th>\n",
       "      <td>33.010</td>\n",
       "      <td>31.916</td>\n",
       "      <td>31.916</td>\n",
       "      <td>19976110.0</td>\n",
       "      <td>32.795</td>\n",
       "    </tr>\n",
       "  </tbody>\n",
       "</table>\n",
       "</div>"
      ],
      "text/plain": [
       "                   high    open     low      volume  Adj Close\n",
       "date       code                                               \n",
       "2010-01-04 700   32.932  32.619  32.502  11261945.0     32.814\n",
       "2010-01-05 700   33.791  32.678  32.639  24423510.0     33.557\n",
       "2010-01-06 700   34.182  33.713  33.576  23279845.0     33.635\n",
       "2010-01-07 700   33.850  33.635  32.228  27930995.0     32.346\n",
       "2010-01-08 700   33.010  31.916  31.916  19976110.0     32.795"
      ]
     },
     "execution_count": 6,
     "metadata": {},
     "output_type": "execute_result"
    }
   ],
   "source": [
    "data.loc[(slice(None), code),:].head()"
   ]
  },
  {
   "cell_type": "markdown",
   "metadata": {
    "hidden": true
   },
   "source": [
    "亦可以用utils中的函数select_code"
   ]
  },
  {
   "cell_type": "code",
   "execution_count": 7,
   "metadata": {
    "hidden": true,
    "scrolled": true
   },
   "outputs": [
    {
     "data": {
      "text/html": [
       "<div>\n",
       "<style scoped>\n",
       "    .dataframe tbody tr th:only-of-type {\n",
       "        vertical-align: middle;\n",
       "    }\n",
       "\n",
       "    .dataframe tbody tr th {\n",
       "        vertical-align: top;\n",
       "    }\n",
       "\n",
       "    .dataframe thead th {\n",
       "        text-align: right;\n",
       "    }\n",
       "</style>\n",
       "<table border=\"1\" class=\"dataframe\">\n",
       "  <thead>\n",
       "    <tr style=\"text-align: right;\">\n",
       "      <th></th>\n",
       "      <th>high</th>\n",
       "      <th>open</th>\n",
       "      <th>low</th>\n",
       "      <th>volume</th>\n",
       "      <th>Adj Close</th>\n",
       "    </tr>\n",
       "    <tr>\n",
       "      <th>date</th>\n",
       "      <th></th>\n",
       "      <th></th>\n",
       "      <th></th>\n",
       "      <th></th>\n",
       "      <th></th>\n",
       "    </tr>\n",
       "  </thead>\n",
       "  <tbody>\n",
       "    <tr>\n",
       "      <th>2010-01-04</th>\n",
       "      <td>32.932</td>\n",
       "      <td>32.619</td>\n",
       "      <td>32.502</td>\n",
       "      <td>11261945.0</td>\n",
       "      <td>32.814</td>\n",
       "    </tr>\n",
       "    <tr>\n",
       "      <th>2010-01-05</th>\n",
       "      <td>33.791</td>\n",
       "      <td>32.678</td>\n",
       "      <td>32.639</td>\n",
       "      <td>24423510.0</td>\n",
       "      <td>33.557</td>\n",
       "    </tr>\n",
       "    <tr>\n",
       "      <th>2010-01-06</th>\n",
       "      <td>34.182</td>\n",
       "      <td>33.713</td>\n",
       "      <td>33.576</td>\n",
       "      <td>23279845.0</td>\n",
       "      <td>33.635</td>\n",
       "    </tr>\n",
       "    <tr>\n",
       "      <th>2010-01-07</th>\n",
       "      <td>33.850</td>\n",
       "      <td>33.635</td>\n",
       "      <td>32.228</td>\n",
       "      <td>27930995.0</td>\n",
       "      <td>32.346</td>\n",
       "    </tr>\n",
       "    <tr>\n",
       "      <th>2010-01-08</th>\n",
       "      <td>33.010</td>\n",
       "      <td>31.916</td>\n",
       "      <td>31.916</td>\n",
       "      <td>19976110.0</td>\n",
       "      <td>32.795</td>\n",
       "    </tr>\n",
       "  </tbody>\n",
       "</table>\n",
       "</div>"
      ],
      "text/plain": [
       "              high    open     low      volume  Adj Close\n",
       "date                                                     \n",
       "2010-01-04  32.932  32.619  32.502  11261945.0     32.814\n",
       "2010-01-05  33.791  32.678  32.639  24423510.0     33.557\n",
       "2010-01-06  34.182  33.713  33.576  23279845.0     33.635\n",
       "2010-01-07  33.850  33.635  32.228  27930995.0     32.346\n",
       "2010-01-08  33.010  31.916  31.916  19976110.0     32.795"
      ]
     },
     "execution_count": 7,
     "metadata": {},
     "output_type": "execute_result"
    }
   ],
   "source": [
    "select_code(data, code).head()"
   ]
  },
  {
   "cell_type": "markdown",
   "metadata": {
    "heading_collapsed": true
   },
   "source": [
    "##### 选取一组tickers的数据"
   ]
  },
  {
   "cell_type": "markdown",
   "metadata": {
    "hidden": true
   },
   "source": [
    "```\n",
    "比如我们想获取某个ETF的数据\n",
    "首先就是需要知道这个ETF里由哪些tickers构成\n",
    "```"
   ]
  },
  {
   "cell_type": "markdown",
   "metadata": {
    "hidden": true
   },
   "source": [
    "使用utils中的函数get_code_list_by_etf拿到PSJ的tickers list"
   ]
  },
  {
   "cell_type": "code",
   "execution_count": 8,
   "metadata": {
    "hidden": true
   },
   "outputs": [
    {
     "data": {
      "text/html": [
       "<div>\n",
       "<style scoped>\n",
       "    .dataframe tbody tr th:only-of-type {\n",
       "        vertical-align: middle;\n",
       "    }\n",
       "\n",
       "    .dataframe tbody tr th {\n",
       "        vertical-align: top;\n",
       "    }\n",
       "\n",
       "    .dataframe thead th {\n",
       "        text-align: right;\n",
       "    }\n",
       "</style>\n",
       "<table border=\"1\" class=\"dataframe\">\n",
       "  <thead>\n",
       "    <tr style=\"text-align: right;\">\n",
       "      <th></th>\n",
       "      <th></th>\n",
       "      <th>high</th>\n",
       "      <th>open</th>\n",
       "      <th>low</th>\n",
       "      <th>volume</th>\n",
       "      <th>Adj Close</th>\n",
       "    </tr>\n",
       "    <tr>\n",
       "      <th>date</th>\n",
       "      <th>code</th>\n",
       "      <th></th>\n",
       "      <th></th>\n",
       "      <th></th>\n",
       "      <th></th>\n",
       "      <th></th>\n",
       "    </tr>\n",
       "  </thead>\n",
       "  <tbody>\n",
       "    <tr>\n",
       "      <th rowspan=\"5\" valign=\"top\">2010-01-04</th>\n",
       "      <th>ADBE</th>\n",
       "      <td>37.3000</td>\n",
       "      <td>36.6500</td>\n",
       "      <td>36.6500</td>\n",
       "      <td>4710112.0</td>\n",
       "      <td>37.0900</td>\n",
       "    </tr>\n",
       "    <tr>\n",
       "      <th>ALRM</th>\n",
       "      <td>NaN</td>\n",
       "      <td>NaN</td>\n",
       "      <td>NaN</td>\n",
       "      <td>NaN</td>\n",
       "      <td>NaN</td>\n",
       "    </tr>\n",
       "    <tr>\n",
       "      <th>ALTR</th>\n",
       "      <td>NaN</td>\n",
       "      <td>NaN</td>\n",
       "      <td>NaN</td>\n",
       "      <td>NaN</td>\n",
       "      <td>NaN</td>\n",
       "    </tr>\n",
       "    <tr>\n",
       "      <th>ATVI</th>\n",
       "      <td>10.4115</td>\n",
       "      <td>10.2115</td>\n",
       "      <td>10.1387</td>\n",
       "      <td>9310055.0</td>\n",
       "      <td>10.2751</td>\n",
       "    </tr>\n",
       "    <tr>\n",
       "      <th>BAND</th>\n",
       "      <td>NaN</td>\n",
       "      <td>NaN</td>\n",
       "      <td>NaN</td>\n",
       "      <td>NaN</td>\n",
       "      <td>NaN</td>\n",
       "    </tr>\n",
       "  </tbody>\n",
       "</table>\n",
       "</div>"
      ],
      "text/plain": [
       "                    high     open      low     volume  Adj Close\n",
       "date       code                                                 \n",
       "2010-01-04 ADBE  37.3000  36.6500  36.6500  4710112.0    37.0900\n",
       "           ALRM      NaN      NaN      NaN        NaN        NaN\n",
       "           ALTR      NaN      NaN      NaN        NaN        NaN\n",
       "           ATVI  10.4115  10.2115  10.1387  9310055.0    10.2751\n",
       "           BAND      NaN      NaN      NaN        NaN        NaN"
      ]
     },
     "execution_count": 8,
     "metadata": {},
     "output_type": "execute_result"
    }
   ],
   "source": [
    "# 我们先拿到PSJ的tickers list\n",
    "df_code = pd.read_excel('data/etf_pair_code.xlsx', dtype={'symbol':str})\n",
    "psj_code_list = get_code_list_by_etf(df_code, 'PSJ', 'all').symbol.tolist()\n",
    "data.loc[(slice(None), psj_code_list),:].head()"
   ]
  },
  {
   "cell_type": "markdown",
   "metadata": {
    "hidden": true
   },
   "source": [
    "```\n",
    "也可以任意提取想要ticker的数据\n",
    "```"
   ]
  },
  {
   "cell_type": "code",
   "execution_count": 9,
   "metadata": {
    "hidden": true
   },
   "outputs": [
    {
     "data": {
      "text/html": [
       "<div>\n",
       "<style scoped>\n",
       "    .dataframe tbody tr th:only-of-type {\n",
       "        vertical-align: middle;\n",
       "    }\n",
       "\n",
       "    .dataframe tbody tr th {\n",
       "        vertical-align: top;\n",
       "    }\n",
       "\n",
       "    .dataframe thead th {\n",
       "        text-align: right;\n",
       "    }\n",
       "</style>\n",
       "<table border=\"1\" class=\"dataframe\">\n",
       "  <thead>\n",
       "    <tr style=\"text-align: right;\">\n",
       "      <th></th>\n",
       "      <th></th>\n",
       "      <th>high</th>\n",
       "      <th>open</th>\n",
       "      <th>low</th>\n",
       "      <th>volume</th>\n",
       "      <th>Adj Close</th>\n",
       "    </tr>\n",
       "    <tr>\n",
       "      <th>date</th>\n",
       "      <th>code</th>\n",
       "      <th></th>\n",
       "      <th></th>\n",
       "      <th></th>\n",
       "      <th></th>\n",
       "      <th></th>\n",
       "    </tr>\n",
       "  </thead>\n",
       "  <tbody>\n",
       "    <tr>\n",
       "      <th rowspan=\"3\" valign=\"top\">2010-01-04</th>\n",
       "      <th>700</th>\n",
       "      <td>32.9320</td>\n",
       "      <td>32.6190</td>\n",
       "      <td>32.5020</td>\n",
       "      <td>11261945.0</td>\n",
       "      <td>32.8140</td>\n",
       "    </tr>\n",
       "    <tr>\n",
       "      <th>AMZN</th>\n",
       "      <td>136.6100</td>\n",
       "      <td>136.2500</td>\n",
       "      <td>133.1400</td>\n",
       "      <td>7600543.0</td>\n",
       "      <td>133.9000</td>\n",
       "    </tr>\n",
       "    <tr>\n",
       "      <th>MSFT</th>\n",
       "      <td>24.8407</td>\n",
       "      <td>24.4573</td>\n",
       "      <td>24.4334</td>\n",
       "      <td>38414185.0</td>\n",
       "      <td>24.7209</td>\n",
       "    </tr>\n",
       "    <tr>\n",
       "      <th rowspan=\"2\" valign=\"top\">2010-01-05</th>\n",
       "      <th>700</th>\n",
       "      <td>33.7910</td>\n",
       "      <td>32.6780</td>\n",
       "      <td>32.6390</td>\n",
       "      <td>24423510.0</td>\n",
       "      <td>33.5570</td>\n",
       "    </tr>\n",
       "    <tr>\n",
       "      <th>AMZN</th>\n",
       "      <td>135.4790</td>\n",
       "      <td>133.4300</td>\n",
       "      <td>131.8100</td>\n",
       "      <td>8856456.0</td>\n",
       "      <td>134.6900</td>\n",
       "    </tr>\n",
       "  </tbody>\n",
       "</table>\n",
       "</div>"
      ],
      "text/plain": [
       "                     high      open       low      volume  Adj Close\n",
       "date       code                                                     \n",
       "2010-01-04 700    32.9320   32.6190   32.5020  11261945.0    32.8140\n",
       "           AMZN  136.6100  136.2500  133.1400   7600543.0   133.9000\n",
       "           MSFT   24.8407   24.4573   24.4334  38414185.0    24.7209\n",
       "2010-01-05 700    33.7910   32.6780   32.6390  24423510.0    33.5570\n",
       "           AMZN  135.4790  133.4300  131.8100   8856456.0   134.6900"
      ]
     },
     "execution_count": 9,
     "metadata": {},
     "output_type": "execute_result"
    }
   ],
   "source": [
    "some_code_list = ['MSFT', 'AMZN', '700']\n",
    "data.loc[(slice(None), some_code_list),:].head()"
   ]
  },
  {
   "cell_type": "markdown",
   "metadata": {},
   "source": [
    "##### 按时间获取数据"
   ]
  },
  {
   "cell_type": "code",
   "execution_count": 10,
   "metadata": {},
   "outputs": [
    {
     "data": {
      "text/html": [
       "<div>\n",
       "<style scoped>\n",
       "    .dataframe tbody tr th:only-of-type {\n",
       "        vertical-align: middle;\n",
       "    }\n",
       "\n",
       "    .dataframe tbody tr th {\n",
       "        vertical-align: top;\n",
       "    }\n",
       "\n",
       "    .dataframe thead th {\n",
       "        text-align: right;\n",
       "    }\n",
       "</style>\n",
       "<table border=\"1\" class=\"dataframe\">\n",
       "  <thead>\n",
       "    <tr style=\"text-align: right;\">\n",
       "      <th></th>\n",
       "      <th></th>\n",
       "      <th>high</th>\n",
       "      <th>open</th>\n",
       "      <th>low</th>\n",
       "      <th>volume</th>\n",
       "      <th>Adj Close</th>\n",
       "    </tr>\n",
       "    <tr>\n",
       "      <th>date</th>\n",
       "      <th>code</th>\n",
       "      <th></th>\n",
       "      <th></th>\n",
       "      <th></th>\n",
       "      <th></th>\n",
       "      <th></th>\n",
       "    </tr>\n",
       "  </thead>\n",
       "  <tbody>\n",
       "    <tr>\n",
       "      <th rowspan=\"5\" valign=\"top\">2010-01-04</th>\n",
       "      <th>036570</th>\n",
       "      <td>141237.0</td>\n",
       "      <td>136143.0</td>\n",
       "      <td>136143.0</td>\n",
       "      <td>236774.0</td>\n",
       "      <td>138458.0</td>\n",
       "    </tr>\n",
       "    <tr>\n",
       "      <th>053800</th>\n",
       "      <td>24670.0</td>\n",
       "      <td>21949.0</td>\n",
       "      <td>21488.0</td>\n",
       "      <td>448371.0</td>\n",
       "      <td>24670.0</td>\n",
       "    </tr>\n",
       "    <tr>\n",
       "      <th>069080</th>\n",
       "      <td>11700.0</td>\n",
       "      <td>11200.0</td>\n",
       "      <td>11050.0</td>\n",
       "      <td>151712.0</td>\n",
       "      <td>11550.0</td>\n",
       "    </tr>\n",
       "    <tr>\n",
       "      <th>078340</th>\n",
       "      <td>13341.0</td>\n",
       "      <td>11973.0</td>\n",
       "      <td>11973.0</td>\n",
       "      <td>951783.0</td>\n",
       "      <td>13341.0</td>\n",
       "    </tr>\n",
       "    <tr>\n",
       "      <th>095660</th>\n",
       "      <td>42600.0</td>\n",
       "      <td>41300.0</td>\n",
       "      <td>41050.0</td>\n",
       "      <td>390371.0</td>\n",
       "      <td>41500.0</td>\n",
       "    </tr>\n",
       "  </tbody>\n",
       "</table>\n",
       "</div>"
      ],
      "text/plain": [
       "                       high      open       low    volume  Adj Close\n",
       "date       code                                                     \n",
       "2010-01-04 036570  141237.0  136143.0  136143.0  236774.0   138458.0\n",
       "           053800   24670.0   21949.0   21488.0  448371.0    24670.0\n",
       "           069080   11700.0   11200.0   11050.0  151712.0    11550.0\n",
       "           078340   13341.0   11973.0   11973.0  951783.0    13341.0\n",
       "           095660   42600.0   41300.0   41050.0  390371.0    41500.0"
      ]
     },
     "execution_count": 10,
     "metadata": {},
     "output_type": "execute_result"
    }
   ],
   "source": [
    "# 某一天的数据\n",
    "data.loc[('2010-01-04',slice(None)),:].head()"
   ]
  },
  {
   "cell_type": "code",
   "execution_count": 11,
   "metadata": {},
   "outputs": [
    {
     "data": {
      "text/html": [
       "<div>\n",
       "<style scoped>\n",
       "    .dataframe tbody tr th:only-of-type {\n",
       "        vertical-align: middle;\n",
       "    }\n",
       "\n",
       "    .dataframe tbody tr th {\n",
       "        vertical-align: top;\n",
       "    }\n",
       "\n",
       "    .dataframe thead th {\n",
       "        text-align: right;\n",
       "    }\n",
       "</style>\n",
       "<table border=\"1\" class=\"dataframe\">\n",
       "  <thead>\n",
       "    <tr style=\"text-align: right;\">\n",
       "      <th></th>\n",
       "      <th></th>\n",
       "      <th>high</th>\n",
       "      <th>open</th>\n",
       "      <th>low</th>\n",
       "      <th>volume</th>\n",
       "      <th>Adj Close</th>\n",
       "    </tr>\n",
       "    <tr>\n",
       "      <th>date</th>\n",
       "      <th>code</th>\n",
       "      <th></th>\n",
       "      <th></th>\n",
       "      <th></th>\n",
       "      <th></th>\n",
       "      <th></th>\n",
       "    </tr>\n",
       "  </thead>\n",
       "  <tbody>\n",
       "    <tr>\n",
       "      <th rowspan=\"5\" valign=\"top\">2010-02-01</th>\n",
       "      <th>036570</th>\n",
       "      <td>122714.0</td>\n",
       "      <td>121324.0</td>\n",
       "      <td>116694.0</td>\n",
       "      <td>258986.0</td>\n",
       "      <td>121324.0</td>\n",
       "    </tr>\n",
       "    <tr>\n",
       "      <th>053800</th>\n",
       "      <td>21995.0</td>\n",
       "      <td>21442.0</td>\n",
       "      <td>21073.0</td>\n",
       "      <td>104049.0</td>\n",
       "      <td>21212.0</td>\n",
       "    </tr>\n",
       "    <tr>\n",
       "      <th>069080</th>\n",
       "      <td>13600.0</td>\n",
       "      <td>12950.0</td>\n",
       "      <td>12500.0</td>\n",
       "      <td>260707.0</td>\n",
       "      <td>13100.0</td>\n",
       "    </tr>\n",
       "    <tr>\n",
       "      <th>078340</th>\n",
       "      <td>11332.0</td>\n",
       "      <td>11118.0</td>\n",
       "      <td>10861.0</td>\n",
       "      <td>380158.0</td>\n",
       "      <td>11246.0</td>\n",
       "    </tr>\n",
       "    <tr>\n",
       "      <th>095660</th>\n",
       "      <td>32100.0</td>\n",
       "      <td>31650.0</td>\n",
       "      <td>30200.0</td>\n",
       "      <td>255557.0</td>\n",
       "      <td>30950.0</td>\n",
       "    </tr>\n",
       "  </tbody>\n",
       "</table>\n",
       "</div>"
      ],
      "text/plain": [
       "                       high      open       low    volume  Adj Close\n",
       "date       code                                                     \n",
       "2010-02-01 036570  122714.0  121324.0  116694.0  258986.0   121324.0\n",
       "           053800   21995.0   21442.0   21073.0  104049.0    21212.0\n",
       "           069080   13600.0   12950.0   12500.0  260707.0    13100.0\n",
       "           078340   11332.0   11118.0   10861.0  380158.0    11246.0\n",
       "           095660   32100.0   31650.0   30200.0  255557.0    30950.0"
      ]
     },
     "execution_count": 11,
     "metadata": {},
     "output_type": "execute_result"
    }
   ],
   "source": [
    "# 某一个月的数据\n",
    "data.loc[('2010-02',slice(None)),:].head()"
   ]
  },
  {
   "cell_type": "code",
   "execution_count": 16,
   "metadata": {},
   "outputs": [
    {
     "data": {
      "text/html": [
       "<div>\n",
       "<style scoped>\n",
       "    .dataframe tbody tr th:only-of-type {\n",
       "        vertical-align: middle;\n",
       "    }\n",
       "\n",
       "    .dataframe tbody tr th {\n",
       "        vertical-align: top;\n",
       "    }\n",
       "\n",
       "    .dataframe thead th {\n",
       "        text-align: right;\n",
       "    }\n",
       "</style>\n",
       "<table border=\"1\" class=\"dataframe\">\n",
       "  <thead>\n",
       "    <tr style=\"text-align: right;\">\n",
       "      <th></th>\n",
       "      <th></th>\n",
       "      <th>high</th>\n",
       "      <th>open</th>\n",
       "      <th>low</th>\n",
       "      <th>volume</th>\n",
       "      <th>Adj Close</th>\n",
       "    </tr>\n",
       "    <tr>\n",
       "      <th>date</th>\n",
       "      <th>code</th>\n",
       "      <th></th>\n",
       "      <th></th>\n",
       "      <th></th>\n",
       "      <th></th>\n",
       "      <th></th>\n",
       "    </tr>\n",
       "  </thead>\n",
       "  <tbody>\n",
       "    <tr>\n",
       "      <th rowspan=\"5\" valign=\"top\">2018-01-01</th>\n",
       "      <th>ACAD</th>\n",
       "      <td>NaN</td>\n",
       "      <td>NaN</td>\n",
       "      <td>NaN</td>\n",
       "      <td>NaN</td>\n",
       "      <td>NaN</td>\n",
       "    </tr>\n",
       "    <tr>\n",
       "      <th>AERI</th>\n",
       "      <td>NaN</td>\n",
       "      <td>NaN</td>\n",
       "      <td>NaN</td>\n",
       "      <td>NaN</td>\n",
       "      <td>NaN</td>\n",
       "    </tr>\n",
       "    <tr>\n",
       "      <th>AGIO</th>\n",
       "      <td>NaN</td>\n",
       "      <td>NaN</td>\n",
       "      <td>NaN</td>\n",
       "      <td>NaN</td>\n",
       "      <td>NaN</td>\n",
       "    </tr>\n",
       "    <tr>\n",
       "      <th>AIMT</th>\n",
       "      <td>NaN</td>\n",
       "      <td>NaN</td>\n",
       "      <td>NaN</td>\n",
       "      <td>NaN</td>\n",
       "      <td>NaN</td>\n",
       "    </tr>\n",
       "    <tr>\n",
       "      <th>AKCA</th>\n",
       "      <td>NaN</td>\n",
       "      <td>NaN</td>\n",
       "      <td>NaN</td>\n",
       "      <td>NaN</td>\n",
       "      <td>NaN</td>\n",
       "    </tr>\n",
       "  </tbody>\n",
       "</table>\n",
       "</div>"
      ],
      "text/plain": [
       "                 high  open  low  volume  Adj Close\n",
       "date       code                                    \n",
       "2018-01-01 ACAD   NaN   NaN  NaN     NaN        NaN\n",
       "           AERI   NaN   NaN  NaN     NaN        NaN\n",
       "           AGIO   NaN   NaN  NaN     NaN        NaN\n",
       "           AIMT   NaN   NaN  NaN     NaN        NaN\n",
       "           AKCA   NaN   NaN  NaN     NaN        NaN"
      ]
     },
     "execution_count": 16,
     "metadata": {},
     "output_type": "execute_result"
    }
   ],
   "source": [
    "# 某一年的数据\n",
    "data.loc[(('2019'),slice(None)),:].head()"
   ]
  },
  {
   "cell_type": "code",
   "execution_count": 20,
   "metadata": {},
   "outputs": [
    {
     "data": {
      "text/html": [
       "<div>\n",
       "<style scoped>\n",
       "    .dataframe tbody tr th:only-of-type {\n",
       "        vertical-align: middle;\n",
       "    }\n",
       "\n",
       "    .dataframe tbody tr th {\n",
       "        vertical-align: top;\n",
       "    }\n",
       "\n",
       "    .dataframe thead th {\n",
       "        text-align: right;\n",
       "    }\n",
       "</style>\n",
       "<table border=\"1\" class=\"dataframe\">\n",
       "  <thead>\n",
       "    <tr style=\"text-align: right;\">\n",
       "      <th></th>\n",
       "      <th></th>\n",
       "      <th>high</th>\n",
       "      <th>open</th>\n",
       "      <th>low</th>\n",
       "      <th>volume</th>\n",
       "      <th>Adj Close</th>\n",
       "    </tr>\n",
       "    <tr>\n",
       "      <th>date</th>\n",
       "      <th>code</th>\n",
       "      <th></th>\n",
       "      <th></th>\n",
       "      <th></th>\n",
       "      <th></th>\n",
       "      <th></th>\n",
       "    </tr>\n",
       "  </thead>\n",
       "  <tbody>\n",
       "    <tr>\n",
       "      <th rowspan=\"5\" valign=\"top\">2018-01-02</th>\n",
       "      <th>036570</th>\n",
       "      <td>452500.0</td>\n",
       "      <td>448000.0</td>\n",
       "      <td>442000.0</td>\n",
       "      <td>121955.0</td>\n",
       "      <td>446500.0</td>\n",
       "    </tr>\n",
       "    <tr>\n",
       "      <th>053800</th>\n",
       "      <td>54300.0</td>\n",
       "      <td>54200.0</td>\n",
       "      <td>52700.0</td>\n",
       "      <td>146558.0</td>\n",
       "      <td>53300.0</td>\n",
       "    </tr>\n",
       "    <tr>\n",
       "      <th>069080</th>\n",
       "      <td>39100.0</td>\n",
       "      <td>39100.0</td>\n",
       "      <td>37550.0</td>\n",
       "      <td>781185.0</td>\n",
       "      <td>38500.0</td>\n",
       "    </tr>\n",
       "    <tr>\n",
       "      <th>078340</th>\n",
       "      <td>137927.0</td>\n",
       "      <td>134761.0</td>\n",
       "      <td>132584.0</td>\n",
       "      <td>74158.0</td>\n",
       "      <td>135058.0</td>\n",
       "    </tr>\n",
       "    <tr>\n",
       "      <th>095660</th>\n",
       "      <td>12800.0</td>\n",
       "      <td>12250.0</td>\n",
       "      <td>12200.0</td>\n",
       "      <td>177334.0</td>\n",
       "      <td>12750.0</td>\n",
       "    </tr>\n",
       "  </tbody>\n",
       "</table>\n",
       "</div>"
      ],
      "text/plain": [
       "                       high      open       low    volume  Adj Close\n",
       "date       code                                                     \n",
       "2018-01-02 036570  452500.0  448000.0  442000.0  121955.0   446500.0\n",
       "           053800   54300.0   54200.0   52700.0  146558.0    53300.0\n",
       "           069080   39100.0   39100.0   37550.0  781185.0    38500.0\n",
       "           078340  137927.0  134761.0  132584.0   74158.0   135058.0\n",
       "           095660   12800.0   12250.0   12200.0  177334.0    12750.0"
      ]
     },
     "execution_count": 20,
     "metadata": {},
     "output_type": "execute_result"
    }
   ],
   "source": [
    "# 某一年的数据\n",
    "data.loc[(slice('2018','2019'),slice(None)),:].head()"
   ]
  },
  {
   "cell_type": "code",
   "execution_count": 21,
   "metadata": {},
   "outputs": [
    {
     "data": {
      "text/html": [
       "<div>\n",
       "<style scoped>\n",
       "    .dataframe tbody tr th:only-of-type {\n",
       "        vertical-align: middle;\n",
       "    }\n",
       "\n",
       "    .dataframe tbody tr th {\n",
       "        vertical-align: top;\n",
       "    }\n",
       "\n",
       "    .dataframe thead th {\n",
       "        text-align: right;\n",
       "    }\n",
       "</style>\n",
       "<table border=\"1\" class=\"dataframe\">\n",
       "  <thead>\n",
       "    <tr style=\"text-align: right;\">\n",
       "      <th></th>\n",
       "      <th></th>\n",
       "      <th>high</th>\n",
       "      <th>open</th>\n",
       "      <th>low</th>\n",
       "      <th>volume</th>\n",
       "      <th>Adj Close</th>\n",
       "    </tr>\n",
       "    <tr>\n",
       "      <th>date</th>\n",
       "      <th>code</th>\n",
       "      <th></th>\n",
       "      <th></th>\n",
       "      <th></th>\n",
       "      <th></th>\n",
       "      <th></th>\n",
       "    </tr>\n",
       "  </thead>\n",
       "  <tbody>\n",
       "    <tr>\n",
       "      <th rowspan=\"5\" valign=\"top\">2019-01-17</th>\n",
       "      <th>9684</th>\n",
       "      <td>3430.00</td>\n",
       "      <td>3345.00</td>\n",
       "      <td>3315.00</td>\n",
       "      <td>767100.0</td>\n",
       "      <td>3420.00</td>\n",
       "    </tr>\n",
       "    <tr>\n",
       "      <th>9697</th>\n",
       "      <td>2214.00</td>\n",
       "      <td>2179.00</td>\n",
       "      <td>2157.00</td>\n",
       "      <td>488900.0</td>\n",
       "      <td>2204.00</td>\n",
       "    </tr>\n",
       "    <tr>\n",
       "      <th>9766</th>\n",
       "      <td>5040.00</td>\n",
       "      <td>4995.00</td>\n",
       "      <td>4940.00</td>\n",
       "      <td>295600.0</td>\n",
       "      <td>4955.00</td>\n",
       "    </tr>\n",
       "    <tr>\n",
       "      <th>981</th>\n",
       "      <td>6.70</td>\n",
       "      <td>6.56</td>\n",
       "      <td>6.52</td>\n",
       "      <td>9717418.0</td>\n",
       "      <td>6.60</td>\n",
       "    </tr>\n",
       "    <tr>\n",
       "      <th>992</th>\n",
       "      <td>5.53</td>\n",
       "      <td>5.50</td>\n",
       "      <td>5.43</td>\n",
       "      <td>41066809.0</td>\n",
       "      <td>5.49</td>\n",
       "    </tr>\n",
       "  </tbody>\n",
       "</table>\n",
       "</div>"
      ],
      "text/plain": [
       "                    high     open      low      volume  Adj Close\n",
       "date       code                                                  \n",
       "2019-01-17 9684  3430.00  3345.00  3315.00    767100.0    3420.00\n",
       "           9697  2214.00  2179.00  2157.00    488900.0    2204.00\n",
       "           9766  5040.00  4995.00  4940.00    295600.0    4955.00\n",
       "           981      6.70     6.56     6.52   9717418.0       6.60\n",
       "           992      5.53     5.50     5.43  41066809.0       5.49"
      ]
     },
     "execution_count": 21,
     "metadata": {},
     "output_type": "execute_result"
    }
   ],
   "source": [
    "data.loc[(slice('2018','2019'),slice(None)),:].tail()"
   ]
  },
  {
   "cell_type": "markdown",
   "metadata": {},
   "source": [
    "##### 某个时间段某些股票的数据"
   ]
  },
  {
   "cell_type": "code",
   "execution_count": 13,
   "metadata": {},
   "outputs": [
    {
     "data": {
      "text/html": [
       "<div>\n",
       "<style scoped>\n",
       "    .dataframe tbody tr th:only-of-type {\n",
       "        vertical-align: middle;\n",
       "    }\n",
       "\n",
       "    .dataframe tbody tr th {\n",
       "        vertical-align: top;\n",
       "    }\n",
       "\n",
       "    .dataframe thead th {\n",
       "        text-align: right;\n",
       "    }\n",
       "</style>\n",
       "<table border=\"1\" class=\"dataframe\">\n",
       "  <thead>\n",
       "    <tr style=\"text-align: right;\">\n",
       "      <th></th>\n",
       "      <th></th>\n",
       "      <th>high</th>\n",
       "      <th>open</th>\n",
       "      <th>low</th>\n",
       "      <th>volume</th>\n",
       "      <th>Adj Close</th>\n",
       "    </tr>\n",
       "    <tr>\n",
       "      <th>date</th>\n",
       "      <th>code</th>\n",
       "      <th></th>\n",
       "      <th></th>\n",
       "      <th></th>\n",
       "      <th></th>\n",
       "      <th></th>\n",
       "    </tr>\n",
       "  </thead>\n",
       "  <tbody>\n",
       "    <tr>\n",
       "      <th rowspan=\"3\" valign=\"top\">2018-01-02</th>\n",
       "      <th>700</th>\n",
       "      <td>417.0680</td>\n",
       "      <td>407.0910</td>\n",
       "      <td>406.6920</td>\n",
       "      <td>24080505.0</td>\n",
       "      <td>416.8690</td>\n",
       "    </tr>\n",
       "    <tr>\n",
       "      <th>AMZN</th>\n",
       "      <td>1190.0000</td>\n",
       "      <td>1172.0000</td>\n",
       "      <td>1170.5100</td>\n",
       "      <td>2694494.0</td>\n",
       "      <td>1189.0100</td>\n",
       "    </tr>\n",
       "    <tr>\n",
       "      <th>MSFT</th>\n",
       "      <td>84.8413</td>\n",
       "      <td>84.6594</td>\n",
       "      <td>84.0451</td>\n",
       "      <td>22483797.0</td>\n",
       "      <td>84.4874</td>\n",
       "    </tr>\n",
       "    <tr>\n",
       "      <th rowspan=\"2\" valign=\"top\">2018-01-03</th>\n",
       "      <th>700</th>\n",
       "      <td>425.8490</td>\n",
       "      <td>423.0550</td>\n",
       "      <td>418.0660</td>\n",
       "      <td>22780154.0</td>\n",
       "      <td>421.2590</td>\n",
       "    </tr>\n",
       "    <tr>\n",
       "      <th>AMZN</th>\n",
       "      <td>1205.4900</td>\n",
       "      <td>1188.3000</td>\n",
       "      <td>1188.3000</td>\n",
       "      <td>3108793.0</td>\n",
       "      <td>1204.2000</td>\n",
       "    </tr>\n",
       "  </tbody>\n",
       "</table>\n",
       "</div>"
      ],
      "text/plain": [
       "                      high       open        low      volume  Adj Close\n",
       "date       code                                                        \n",
       "2018-01-02 700    417.0680   407.0910   406.6920  24080505.0   416.8690\n",
       "           AMZN  1190.0000  1172.0000  1170.5100   2694494.0  1189.0100\n",
       "           MSFT    84.8413    84.6594    84.0451  22483797.0    84.4874\n",
       "2018-01-03 700    425.8490   423.0550   418.0660  22780154.0   421.2590\n",
       "           AMZN  1205.4900  1188.3000  1188.3000   3108793.0  1204.2000"
      ]
     },
     "execution_count": 13,
     "metadata": {},
     "output_type": "execute_result"
    }
   ],
   "source": [
    "some_code_list = ['MSFT', 'AMZN', '700']\n",
    "data.loc[('2018', some_code_list),:].head()"
   ]
  },
  {
   "cell_type": "markdown",
   "metadata": {},
   "source": [
    "### 计算pair trading"
   ]
  },
  {
   "cell_type": "code",
   "execution_count": 14,
   "metadata": {},
   "outputs": [
    {
     "data": {
      "text/plain": [
       "array(['XLK', 'PNQI', 'CQQQ', 'GAMR', 'PSJ', 'SKYY', 'HACK', 'SOXX',\n",
       "       'SMH', 'XLV', 'IBB', 'ITA', 'XLP', 'XLY', 'IAI', 'VDE', 'XLB'],\n",
       "      dtype='<U4')"
      ]
     },
     "execution_count": 14,
     "metadata": {},
     "output_type": "execute_result"
    }
   ],
   "source": [
    "np.array(etf_list)"
   ]
  },
  {
   "cell_type": "code",
   "execution_count": 3,
   "metadata": {},
   "outputs": [
    {
     "data": {
      "application/vnd.jupyter.widget-view+json": {
       "model_id": "82567adb4bff49c78618cb6ce9e2430d",
       "version_major": 2,
       "version_minor": 0
      },
      "text/plain": [
       "HBox(children=(IntProgress(value=0, max=25), HTML(value='')))"
      ]
     },
     "metadata": {},
     "output_type": "display_data"
    },
    {
     "name": "stdout",
     "output_type": "stream",
     "text": [
      "\n",
      "finish, see you          \n"
     ]
    }
   ],
   "source": [
    "result = calc_pair_trading('SMH', method='rolling', period=245, is_saving=True,\n",
    "                          save_name='SMH_sample')"
   ]
  },
  {
   "cell_type": "code",
   "execution_count": null,
   "metadata": {},
   "outputs": [],
   "source": [
    "# if 'HKD' in CQQQ_code_list:\n",
    "#     CQQQ_code_list.remove('HKD')\n",
    "# if 'ita' in CQQQ_code_list:\n",
    "#     CQQQ_code_list.remove('ita')"
   ]
  },
  {
   "cell_type": "markdown",
   "metadata": {},
   "source": [
    "### 计算相关性"
   ]
  },
  {
   "cell_type": "code",
   "execution_count": 27,
   "metadata": {},
   "outputs": [],
   "source": [
    "# 获取CQQQ的代码列表\n",
    "CQQQ_code_list = get_code_list_by_etf(df_code, 'CQQQ', 'all').symbol.tolist()"
   ]
  },
  {
   "cell_type": "code",
   "execution_count": 28,
   "metadata": {
    "scrolled": true
   },
   "outputs": [],
   "source": [
    "# 取最近半年的数据\n",
    "data_CQQQ = data.loc[(slice('2018-07','2019-01'), CQQQ_code_list),:]"
   ]
  },
  {
   "cell_type": "code",
   "execution_count": null,
   "metadata": {},
   "outputs": [],
   "source": [
    "# 取CQQQ的收盘的复权价格\n",
    "close_qfq_CQQQ = data_CQQQ.pivot_table(values=['Adj Close'], index=['date'],\n",
    "                     columns=['code'])['Adj Close']"
   ]
  },
  {
   "cell_type": "code",
   "execution_count": null,
   "metadata": {},
   "outputs": [],
   "source": [
    "corr = close_qfq_CQQQ.corr()"
   ]
  },
  {
   "cell_type": "code",
   "execution_count": 6,
   "metadata": {},
   "outputs": [],
   "source": [
    "def calc_corr(symbol, start, end):\n",
    "    \"\"\"\n",
    "    data -- 使用ol_data即可\n",
    "    symbol -- etf的代码, 或者需要进行相关性一串ticker构成的列表\n",
    "    start -- 计算相关性系数的开始时间\n",
    "    end -- 计算相关性系数的结束时间\n",
    "    \"\"\"\n",
    "    if type(symbol) is str:\n",
    "        codes = get_code_list_by_etf(df_code, symbol, 'all').symbol.tolist()\n",
    "        data = ol_data.loc[(slice(start, end), codes),:]\n",
    "    elif type(symbol) is list:\n",
    "        data = ol_data.loc[(slice(start, end), symbol),:]\n",
    "    close = data.pivot_table(values=['Adj Close'], index=['date'],\n",
    "                     columns=['code'])['Adj Close']\n",
    "    corr = close.corr()\n",
    "    \n",
    "    return corr"
   ]
  },
  {
   "cell_type": "code",
   "execution_count": 12,
   "metadata": {},
   "outputs": [
    {
     "data": {
      "text/plain": [
       "True"
      ]
     },
     "execution_count": 12,
     "metadata": {},
     "output_type": "execute_result"
    }
   ],
   "source": [
    "type('ar') is str"
   ]
  },
  {
   "cell_type": "code",
   "execution_count": 9,
   "metadata": {},
   "outputs": [],
   "source": [
    "\n",
    "corr = calc_corr(ol_data, 'CQQQ', '2017-01', '2019-01')"
   ]
  },
  {
   "cell_type": "code",
   "execution_count": 11,
   "metadata": {},
   "outputs": [
    {
     "data": {
      "text/plain": [
       "(76, 76)"
      ]
     },
     "execution_count": 11,
     "metadata": {},
     "output_type": "execute_result"
    }
   ],
   "source": [
    "corr.shape"
   ]
  },
  {
   "cell_type": "code",
   "execution_count": 4,
   "metadata": {},
   "outputs": [],
   "source": [
    "import seaborn as sns"
   ]
  },
  {
   "cell_type": "code",
   "execution_count": 5,
   "metadata": {},
   "outputs": [],
   "source": [
    "plt.rcParams['figure.figsize'] = [54, 54]"
   ]
  },
  {
   "cell_type": "code",
   "execution_count": null,
   "metadata": {
    "scrolled": false
   },
   "outputs": [],
   "source": [
    "sns.heatmap(corr, annot=True);"
   ]
  },
  {
   "cell_type": "code",
   "execution_count": null,
   "metadata": {},
   "outputs": [],
   "source": []
  }
 ],
 "metadata": {
  "kernelspec": {
   "display_name": "Python (quant)",
   "language": "python",
   "name": "quant"
  },
  "language_info": {
   "codemirror_mode": {
    "name": "ipython",
    "version": 3
   },
   "file_extension": ".py",
   "mimetype": "text/x-python",
   "name": "python",
   "nbconvert_exporter": "python",
   "pygments_lexer": "ipython3",
   "version": "3.6.6"
  },
  "toc": {
   "base_numbering": 1,
   "nav_menu": {},
   "number_sections": true,
   "sideBar": true,
   "skip_h1_title": false,
   "title_cell": "Table of Contents",
   "title_sidebar": "Contents",
   "toc_cell": false,
   "toc_position": {},
   "toc_section_display": true,
   "toc_window_display": false
  },
  "varInspector": {
   "cols": {
    "lenName": 16,
    "lenType": 16,
    "lenVar": 40
   },
   "kernels_config": {
    "python": {
     "delete_cmd_postfix": "",
     "delete_cmd_prefix": "del ",
     "library": "var_list.py",
     "varRefreshCmd": "print(var_dic_list())"
    },
    "r": {
     "delete_cmd_postfix": ") ",
     "delete_cmd_prefix": "rm(",
     "library": "var_list.r",
     "varRefreshCmd": "cat(var_dic_list()) "
    }
   },
   "types_to_exclude": [
    "module",
    "function",
    "builtin_function_or_method",
    "instance",
    "_Feature"
   ],
   "window_display": false
  }
 },
 "nbformat": 4,
 "nbformat_minor": 2
}
