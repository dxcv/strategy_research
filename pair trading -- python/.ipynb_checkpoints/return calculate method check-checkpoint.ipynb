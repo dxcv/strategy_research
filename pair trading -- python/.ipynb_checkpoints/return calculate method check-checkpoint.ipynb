{
 "cells": [
  {
   "cell_type": "code",
   "execution_count": 1,
   "metadata": {},
   "outputs": [],
   "source": [
    "from utils_v2 import *"
   ]
  },
  {
   "cell_type": "markdown",
   "metadata": {},
   "source": [
    "```python\n",
    "calc_pair_trading(symbol, data_source='ol', region='all', is_saving=False, save_name=None, method='rolling', period=245, rt_period=490, rsi_period=14, upper=70, lower=30, show_bar=True)\n",
    "```"
   ]
  },
  {
   "cell_type": "code",
   "execution_count": 2,
   "metadata": {},
   "outputs": [
    {
     "data": {
      "application/vnd.jupyter.widget-view+json": {
       "model_id": "17cad90df6d844d68df0601761b0a6ec",
       "version_major": 2,
       "version_minor": 0
      },
      "text/plain": [
       "HBox(children=(IntProgress(value=0, max=25), HTML(value='')))"
      ]
     },
     "metadata": {},
     "output_type": "display_data"
    },
    {
     "name": "stdout",
     "output_type": "stream",
     "text": [
      "\n"
     ]
    }
   ],
   "source": [
    "result = calc_pair_trading('SMH',\n",
    "                          method='rolling')"
   ]
  },
  {
   "cell_type": "code",
   "execution_count": 8,
   "metadata": {},
   "outputs": [],
   "source": [
    "code1 = 'INTC'\n",
    "code2 = 'TSM'\n",
    "data = ol_data.copy()\n",
    "asset_1_close = select_code(data, code1)['Adj Close']\n",
    "asset_2_close = select_code(data, code2)['Adj Close']\n",
    "ratio = asset_1_close / asset_2_close\n",
    "\n",
    "position_side_series = position_side(ratio, 'rolling', 245)\n",
    "real_signal = position_side_series.shift(1)\n",
    "    \n",
    "asset_1_pct = asset_1_close.pct_change()\n",
    "asset_2_pct = asset_2_close.pct_change()\n",
    "\n",
    "# long_return = ((1+real_signal)/2 * asset_1_pct +  (1-real_signal)/2 * asset_2_pct)[-rt_period:].mean()\n",
    "# long_short_return = (real_signal * (asset_1_pct - asset_2_pct))[-rt_period:].mean()\n",
    "\n",
    "# ((1+real_signal)/2 * asset_1_pct +  (1-real_signal)/2 * asset_2_pct)[-490:]\n",
    "# real_signal\n",
    "# position_side_series\n",
    "# asset_1_pct"
   ]
  },
  {
   "cell_type": "code",
   "execution_count": 2,
   "metadata": {},
   "outputs": [],
   "source": [
    "from utils import *"
   ]
  },
  {
   "cell_type": "code",
   "execution_count": 4,
   "metadata": {},
   "outputs": [
    {
     "data": {
      "text/plain": [
       "DatetimeIndex(['2010-01-04', '2010-01-04', '2010-01-04', '2010-01-04',\n",
       "               '2010-01-04', '2010-01-04', '2010-01-04', '2010-01-04',\n",
       "               '2010-01-04', '2010-01-04',\n",
       "               ...\n",
       "               '2019-01-17', '2019-01-17', '2019-01-17', '2019-01-17',\n",
       "               '2019-01-17', '2019-01-17', '2019-01-17', '2019-01-17',\n",
       "               '2019-01-17', '2019-01-17'],\n",
       "              dtype='datetime64[ns]', name='date', length=1700741, freq=None)"
      ]
     },
     "execution_count": 4,
     "metadata": {},
     "output_type": "execute_result"
    }
   ],
   "source": [
    "ol_data.index.get_level_values(0)"
   ]
  },
  {
   "cell_type": "code",
   "execution_count": 8,
   "metadata": {},
   "outputs": [],
   "source": [
    "sli_data = ol_data.loc[('2010-01', slice(None)), :]"
   ]
  },
  {
   "cell_type": "code",
   "execution_count": 12,
   "metadata": {},
   "outputs": [
    {
     "data": {
      "text/html": [
       "<div>\n",
       "<style scoped>\n",
       "    .dataframe tbody tr th:only-of-type {\n",
       "        vertical-align: middle;\n",
       "    }\n",
       "\n",
       "    .dataframe tbody tr th {\n",
       "        vertical-align: top;\n",
       "    }\n",
       "\n",
       "    .dataframe thead th {\n",
       "        text-align: right;\n",
       "    }\n",
       "</style>\n",
       "<table border=\"1\" class=\"dataframe\">\n",
       "  <thead>\n",
       "    <tr style=\"text-align: right;\">\n",
       "      <th></th>\n",
       "      <th></th>\n",
       "      <th>high</th>\n",
       "      <th>open</th>\n",
       "      <th>low</th>\n",
       "      <th>volume</th>\n",
       "      <th>Adj Close</th>\n",
       "    </tr>\n",
       "    <tr>\n",
       "      <th>date</th>\n",
       "      <th>code</th>\n",
       "      <th></th>\n",
       "      <th></th>\n",
       "      <th></th>\n",
       "      <th></th>\n",
       "      <th></th>\n",
       "    </tr>\n",
       "  </thead>\n",
       "  <tbody>\n",
       "    <tr>\n",
       "      <th rowspan=\"5\" valign=\"top\">2010-01-04</th>\n",
       "      <th>036570</th>\n",
       "      <td>141237.0</td>\n",
       "      <td>136143.0</td>\n",
       "      <td>136143.0</td>\n",
       "      <td>236774.0</td>\n",
       "      <td>138458.0</td>\n",
       "    </tr>\n",
       "    <tr>\n",
       "      <th>053800</th>\n",
       "      <td>24670.0</td>\n",
       "      <td>21949.0</td>\n",
       "      <td>21488.0</td>\n",
       "      <td>448371.0</td>\n",
       "      <td>24670.0</td>\n",
       "    </tr>\n",
       "    <tr>\n",
       "      <th>069080</th>\n",
       "      <td>11700.0</td>\n",
       "      <td>11200.0</td>\n",
       "      <td>11050.0</td>\n",
       "      <td>151712.0</td>\n",
       "      <td>11550.0</td>\n",
       "    </tr>\n",
       "    <tr>\n",
       "      <th>078340</th>\n",
       "      <td>13341.0</td>\n",
       "      <td>11973.0</td>\n",
       "      <td>11973.0</td>\n",
       "      <td>951783.0</td>\n",
       "      <td>13341.0</td>\n",
       "    </tr>\n",
       "    <tr>\n",
       "      <th>095660</th>\n",
       "      <td>42600.0</td>\n",
       "      <td>41300.0</td>\n",
       "      <td>41050.0</td>\n",
       "      <td>390371.0</td>\n",
       "      <td>41500.0</td>\n",
       "    </tr>\n",
       "  </tbody>\n",
       "</table>\n",
       "</div>"
      ],
      "text/plain": [
       "                       high      open       low    volume  Adj Close\n",
       "date       code                                                     \n",
       "2010-01-04 036570  141237.0  136143.0  136143.0  236774.0   138458.0\n",
       "           053800   24670.0   21949.0   21488.0  448371.0    24670.0\n",
       "           069080   11700.0   11200.0   11050.0  151712.0    11550.0\n",
       "           078340   13341.0   11973.0   11973.0  951783.0    13341.0\n",
       "           095660   42600.0   41300.0   41050.0  390371.0    41500.0"
      ]
     },
     "execution_count": 12,
     "metadata": {},
     "output_type": "execute_result"
    }
   ],
   "source": [
    "sli_data.head()"
   ]
  },
  {
   "cell_type": "code",
   "execution_count": 13,
   "metadata": {},
   "outputs": [],
   "source": [
    "ind = sli_data.index.get_level_values(0).unique()"
   ]
  },
  {
   "cell_type": "code",
   "execution_count": 15,
   "metadata": {},
   "outputs": [],
   "source": [
    "cur = pd.Series(2, index=ind)"
   ]
  },
  {
   "cell_type": "code",
   "execution_count": 23,
   "metadata": {
    "scrolled": true
   },
   "outputs": [],
   "source": [
    "# 对汇率的index进行循环，然后slc_data去乘以汇率，然后concat\n",
    "for i in cur.index:\n",
    "    print(sli_data.loc[(i, slice(None)), :] * cur[i])"
   ]
  }
 ],
 "metadata": {
  "kernelspec": {
   "display_name": "Python 3",
   "language": "python",
   "name": "python3"
  },
  "language_info": {
   "codemirror_mode": {
    "name": "ipython",
    "version": 3
   },
   "file_extension": ".py",
   "mimetype": "text/x-python",
   "name": "python",
   "nbconvert_exporter": "python",
   "pygments_lexer": "ipython3",
   "version": "3.6.5"
  },
  "toc": {
   "base_numbering": 1,
   "nav_menu": {},
   "number_sections": true,
   "sideBar": true,
   "skip_h1_title": false,
   "title_cell": "Table of Contents",
   "title_sidebar": "Contents",
   "toc_cell": false,
   "toc_position": {},
   "toc_section_display": true,
   "toc_window_display": false
  },
  "varInspector": {
   "cols": {
    "lenName": 16,
    "lenType": 16,
    "lenVar": 40
   },
   "kernels_config": {
    "python": {
     "delete_cmd_postfix": "",
     "delete_cmd_prefix": "del ",
     "library": "var_list.py",
     "varRefreshCmd": "print(var_dic_list())"
    },
    "r": {
     "delete_cmd_postfix": ") ",
     "delete_cmd_prefix": "rm(",
     "library": "var_list.r",
     "varRefreshCmd": "cat(var_dic_list()) "
    }
   },
   "types_to_exclude": [
    "module",
    "function",
    "builtin_function_or_method",
    "instance",
    "_Feature"
   ],
   "window_display": false
  }
 },
 "nbformat": 4,
 "nbformat_minor": 2
}
