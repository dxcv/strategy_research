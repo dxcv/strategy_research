{
 "cells": [
  {
   "cell_type": "code",
   "execution_count": 1,
   "metadata": {},
   "outputs": [],
   "source": [
    "%load_ext autoreload\n",
    "%autoreload 2\n",
    "from utils_v2 import *"
   ]
  },
  {
   "cell_type": "code",
   "execution_count": 2,
   "metadata": {},
   "outputs": [],
   "source": [
    "import seaborn as sns\n",
    "plt.rcParams['figure.figsize'] = [12, 8]\n",
    "plt.rcParams['image.interpolation'] = 'nearest'\n",
    "plt.rcParams['image.cmap'] = 'gray'\n",
    "plt.style.use('ggplot')"
   ]
  },
  {
   "cell_type": "markdown",
   "metadata": {},
   "source": [
    "为了验证算法的正确性, 我们取excel中的配对, excel中默认配对是建行和工行"
   ]
  },
  {
   "cell_type": "markdown",
   "metadata": {},
   "source": [
    "取建行和工行的数据"
   ]
  },
  {
   "cell_type": "code",
   "execution_count": 3,
   "metadata": {},
   "outputs": [],
   "source": [
    "# 如需验证其他pair结果, 可以同时修改excel的pair公司和下面的代码即可\n",
    "code1 = '939'\n",
    "code2 = '1398'"
   ]
  },
  {
   "cell_type": "code",
   "execution_count": 9,
   "metadata": {},
   "outputs": [],
   "source": [
    "try:\n",
    "    data = get_data('data/data.zip')\n",
    "except:\n",
    "    data = get_data('data/data.csv')"
   ]
  },
  {
   "cell_type": "code",
   "execution_count": 10,
   "metadata": {},
   "outputs": [],
   "source": [
    "data_pair = data.loc[(slice('2016-01-10', '2018-12-04'), [code1, code2]),:]"
   ]
  },
  {
   "cell_type": "markdown",
   "metadata": {},
   "source": [
    "注意这里的Adj Close的数据精度只有小数点后3位, 而excel里面不止这个数据精度"
   ]
  },
  {
   "cell_type": "code",
   "execution_count": 12,
   "metadata": {},
   "outputs": [
    {
     "data": {
      "text/plain": [
       "3.5710000000000002"
      ]
     },
     "execution_count": 12,
     "metadata": {},
     "output_type": "execute_result"
    }
   ],
   "source": [
    "data_pair['Adj Close'][0]"
   ]
  },
  {
   "cell_type": "code",
   "execution_count": 13,
   "metadata": {},
   "outputs": [
    {
     "data": {
      "text/html": [
       "<div>\n",
       "<style scoped>\n",
       "    .dataframe tbody tr th:only-of-type {\n",
       "        vertical-align: middle;\n",
       "    }\n",
       "\n",
       "    .dataframe tbody tr th {\n",
       "        vertical-align: top;\n",
       "    }\n",
       "\n",
       "    .dataframe thead th {\n",
       "        text-align: right;\n",
       "    }\n",
       "</style>\n",
       "<table border=\"1\" class=\"dataframe\">\n",
       "  <thead>\n",
       "    <tr style=\"text-align: right;\">\n",
       "      <th></th>\n",
       "      <th></th>\n",
       "      <th>high</th>\n",
       "      <th>open</th>\n",
       "      <th>low</th>\n",
       "      <th>volume</th>\n",
       "      <th>Adj Close</th>\n",
       "    </tr>\n",
       "    <tr>\n",
       "      <th>date</th>\n",
       "      <th>code</th>\n",
       "      <th></th>\n",
       "      <th></th>\n",
       "      <th></th>\n",
       "      <th></th>\n",
       "      <th></th>\n",
       "    </tr>\n",
       "  </thead>\n",
       "  <tbody>\n",
       "    <tr>\n",
       "      <th rowspan=\"2\" valign=\"top\">2016-01-11</th>\n",
       "      <th>1398</th>\n",
       "      <td>3.596</td>\n",
       "      <td>3.571</td>\n",
       "      <td>3.554</td>\n",
       "      <td>281691602.0</td>\n",
       "      <td>3.571</td>\n",
       "    </tr>\n",
       "    <tr>\n",
       "      <th>939</th>\n",
       "      <td>4.209</td>\n",
       "      <td>4.192</td>\n",
       "      <td>4.158</td>\n",
       "      <td>319178128.0</td>\n",
       "      <td>4.175</td>\n",
       "    </tr>\n",
       "    <tr>\n",
       "      <th rowspan=\"2\" valign=\"top\">2016-01-12</th>\n",
       "      <th>1398</th>\n",
       "      <td>3.622</td>\n",
       "      <td>3.596</td>\n",
       "      <td>3.495</td>\n",
       "      <td>337288458.0</td>\n",
       "      <td>3.520</td>\n",
       "    </tr>\n",
       "    <tr>\n",
       "      <th>939</th>\n",
       "      <td>4.226</td>\n",
       "      <td>4.217</td>\n",
       "      <td>4.141</td>\n",
       "      <td>256018843.0</td>\n",
       "      <td>4.150</td>\n",
       "    </tr>\n",
       "    <tr>\n",
       "      <th>2016-01-13</th>\n",
       "      <th>1398</th>\n",
       "      <td>3.622</td>\n",
       "      <td>3.571</td>\n",
       "      <td>3.512</td>\n",
       "      <td>237935728.0</td>\n",
       "      <td>3.528</td>\n",
       "    </tr>\n",
       "  </tbody>\n",
       "</table>\n",
       "</div>"
      ],
      "text/plain": [
       "                  high   open    low       volume  Adj Close\n",
       "date       code                                             \n",
       "2016-01-11 1398  3.596  3.571  3.554  281691602.0      3.571\n",
       "           939   4.209  4.192  4.158  319178128.0      4.175\n",
       "2016-01-12 1398  3.622  3.596  3.495  337288458.0      3.520\n",
       "           939   4.226  4.217  4.141  256018843.0      4.150\n",
       "2016-01-13 1398  3.622  3.571  3.512  237935728.0      3.528"
      ]
     },
     "execution_count": 13,
     "metadata": {},
     "output_type": "execute_result"
    }
   ],
   "source": [
    "data_pair.head()"
   ]
  },
  {
   "cell_type": "code",
   "execution_count": 14,
   "metadata": {},
   "outputs": [
    {
     "data": {
      "text/html": [
       "<div>\n",
       "<style scoped>\n",
       "    .dataframe tbody tr th:only-of-type {\n",
       "        vertical-align: middle;\n",
       "    }\n",
       "\n",
       "    .dataframe tbody tr th {\n",
       "        vertical-align: top;\n",
       "    }\n",
       "\n",
       "    .dataframe thead th {\n",
       "        text-align: right;\n",
       "    }\n",
       "</style>\n",
       "<table border=\"1\" class=\"dataframe\">\n",
       "  <thead>\n",
       "    <tr style=\"text-align: right;\">\n",
       "      <th></th>\n",
       "      <th></th>\n",
       "      <th>high</th>\n",
       "      <th>open</th>\n",
       "      <th>low</th>\n",
       "      <th>volume</th>\n",
       "      <th>Adj Close</th>\n",
       "    </tr>\n",
       "    <tr>\n",
       "      <th>date</th>\n",
       "      <th>code</th>\n",
       "      <th></th>\n",
       "      <th></th>\n",
       "      <th></th>\n",
       "      <th></th>\n",
       "      <th></th>\n",
       "    </tr>\n",
       "  </thead>\n",
       "  <tbody>\n",
       "    <tr>\n",
       "      <th>2018-11-30</th>\n",
       "      <th>939</th>\n",
       "      <td>6.68</td>\n",
       "      <td>6.62</td>\n",
       "      <td>6.58</td>\n",
       "      <td>274977906.0</td>\n",
       "      <td>6.67</td>\n",
       "    </tr>\n",
       "    <tr>\n",
       "      <th rowspan=\"2\" valign=\"top\">2018-12-03</th>\n",
       "      <th>1398</th>\n",
       "      <td>5.75</td>\n",
       "      <td>5.68</td>\n",
       "      <td>5.66</td>\n",
       "      <td>294301102.0</td>\n",
       "      <td>5.71</td>\n",
       "    </tr>\n",
       "    <tr>\n",
       "      <th>939</th>\n",
       "      <td>6.88</td>\n",
       "      <td>6.85</td>\n",
       "      <td>6.80</td>\n",
       "      <td>426799663.0</td>\n",
       "      <td>6.82</td>\n",
       "    </tr>\n",
       "    <tr>\n",
       "      <th rowspan=\"2\" valign=\"top\">2018-12-04</th>\n",
       "      <th>1398</th>\n",
       "      <td>5.76</td>\n",
       "      <td>5.71</td>\n",
       "      <td>5.69</td>\n",
       "      <td>245585851.0</td>\n",
       "      <td>5.76</td>\n",
       "    </tr>\n",
       "    <tr>\n",
       "      <th>939</th>\n",
       "      <td>6.82</td>\n",
       "      <td>6.80</td>\n",
       "      <td>6.75</td>\n",
       "      <td>331390610.0</td>\n",
       "      <td>6.80</td>\n",
       "    </tr>\n",
       "  </tbody>\n",
       "</table>\n",
       "</div>"
      ],
      "text/plain": [
       "                 high  open   low       volume  Adj Close\n",
       "date       code                                          \n",
       "2018-11-30 939   6.68  6.62  6.58  274977906.0       6.67\n",
       "2018-12-03 1398  5.75  5.68  5.66  294301102.0       5.71\n",
       "           939   6.88  6.85  6.80  426799663.0       6.82\n",
       "2018-12-04 1398  5.76  5.71  5.69  245585851.0       5.76\n",
       "           939   6.82  6.80  6.75  331390610.0       6.80"
      ]
     },
     "execution_count": 14,
     "metadata": {},
     "output_type": "execute_result"
    }
   ],
   "source": [
    "data_pair.tail()"
   ]
  },
  {
   "cell_type": "code",
   "execution_count": 18,
   "metadata": {},
   "outputs": [],
   "source": [
    "res = single_pair_trading(data_pair, code1, code2, method='all', period=245,\n",
    "                         rt_period=0, rsi_period=14, upper=70, lower=30)"
   ]
  },
  {
   "cell_type": "code",
   "execution_count": 19,
   "metadata": {},
   "outputs": [],
   "source": [
    "ratio = res['ratio']"
   ]
  },
  {
   "cell_type": "markdown",
   "metadata": {},
   "source": [
    "对比excel中的ratio, 观察结果"
   ]
  },
  {
   "cell_type": "markdown",
   "metadata": {},
   "source": [
    "通过仔细观察, 我们可以看到ratio在最上面的18年的数据, ratio的值和excel中的ratio是完全一样的;\n",
    "\n",
    "而当我们把数据拉到最下面, ratio的值小数点前3位还能保持一致, 原因就是数据精度的问题\n",
    "\n",
    "后面我们会看到这个数据精度到底有多少的影响"
   ]
  },
  {
   "cell_type": "code",
   "execution_count": 20,
   "metadata": {
    "scrolled": true
   },
   "outputs": [
    {
     "data": {
      "text/plain": [
       "date\n",
       "2018-12-04    1.180556\n",
       "2018-12-03    1.194396\n",
       "2018-11-30    1.199640\n",
       "2018-11-29    1.202899\n",
       "2018-11-28    1.196780\n",
       "2018-11-27    1.195298\n",
       "2018-11-26    1.195652\n",
       "2018-11-23    1.195572\n",
       "2018-11-22    1.195572\n",
       "2018-11-21    1.197053\n",
       "2018-11-20    1.200000\n",
       "2018-11-19    1.203670\n",
       "2018-11-16    1.202578\n",
       "2018-11-15    1.201479\n",
       "2018-11-14    1.197761\n",
       "2018-11-13    1.201493\n",
       "2018-11-12    1.202247\n",
       "2018-11-09    1.204120\n",
       "2018-11-08    1.200364\n",
       "2018-11-07    1.193784\n",
       "2018-11-06    1.200000\n",
       "2018-11-05    1.193015\n",
       "2018-11-02    1.183453\n",
       "2018-11-01    1.175047\n",
       "2018-10-31    1.173585\n",
       "2018-10-30    1.174242\n",
       "2018-10-29    1.168561\n",
       "2018-10-26    1.173004\n",
       "2018-10-25    1.174242\n",
       "2018-10-24    1.175803\n",
       "                ...   \n",
       "2016-02-24    1.176541\n",
       "2016-02-23    1.171209\n",
       "2016-02-22    1.173990\n",
       "2016-02-19    1.179379\n",
       "2016-02-18    1.177559\n",
       "2016-02-17    1.161592\n",
       "2016-02-16    1.163895\n",
       "2016-02-15    1.162031\n",
       "2016-02-12    1.158745\n",
       "2016-02-11    1.163057\n",
       "2016-02-05    1.166173\n",
       "2016-02-04    1.165567\n",
       "2016-02-03    1.165702\n",
       "2016-02-02    1.174728\n",
       "2016-02-01    1.180798\n",
       "2016-01-29    1.177126\n",
       "2016-01-28    1.181791\n",
       "2016-01-27    1.178931\n",
       "2016-01-26    1.164211\n",
       "2016-01-25    1.170557\n",
       "2016-01-22    1.169129\n",
       "2016-01-21    1.166565\n",
       "2016-01-20    1.171541\n",
       "2016-01-19    1.176712\n",
       "2016-01-18    1.171615\n",
       "2016-01-15    1.171287\n",
       "2016-01-14    1.164579\n",
       "2016-01-13    1.176304\n",
       "2016-01-12    1.178977\n",
       "2016-01-11    1.169140\n",
       "Name: Adj Close, Length: 715, dtype: float64"
      ]
     },
     "execution_count": 20,
     "metadata": {},
     "output_type": "execute_result"
    }
   ],
   "source": [
    "ratio.sort_index(ascending=False)"
   ]
  },
  {
   "cell_type": "markdown",
   "metadata": {},
   "source": [
    "对比excel中L2和N2单元格的值"
   ]
  },
  {
   "cell_type": "code",
   "execution_count": 21,
   "metadata": {},
   "outputs": [
    {
     "data": {
      "text/plain": [
       "0.00059422796279257355"
      ]
     },
     "execution_count": 21,
     "metadata": {},
     "output_type": "execute_result"
    }
   ],
   "source": [
    "res['long_return']"
   ]
  },
  {
   "cell_type": "code",
   "execution_count": 22,
   "metadata": {},
   "outputs": [
    {
     "data": {
      "text/plain": [
       "-0.00040874532880768948"
      ]
     },
     "execution_count": 22,
     "metadata": {},
     "output_type": "execute_result"
    }
   ],
   "source": [
    "res['long_short_return']"
   ]
  },
  {
   "cell_type": "markdown",
   "metadata": {},
   "source": [
    "因为excel中的数据都是做过填充的, 填充的意思是放假的期间也是有数据的, 使用method的是forward fill;\n",
    "\n",
    "比如, 观察excel表中2016-01-16/17两天是用2016-01-15的数据填充的;\n",
    "\n",
    "所以为了避免数据和excel中有较大出入, 才进行数据填充; 需要说明的是, 我在实际处理的过程中, 是没有去做数据填充的, 因为休息日本身就是没有数据."
   ]
  },
  {
   "cell_type": "code",
   "execution_count": 23,
   "metadata": {},
   "outputs": [],
   "source": [
    "data_pair_fill = data_pair.reset_index().set_index('date').groupby('code')\\\n",
    ".resample('D').first().fillna(method='ffill').drop('code', axis=1).\\\n",
    "reset_index().set_index(['date', 'code'])"
   ]
  },
  {
   "cell_type": "code",
   "execution_count": 24,
   "metadata": {},
   "outputs": [],
   "source": [
    "res_fill = single_pair_trading(data_pair_fill, '939', '1398', method='all', period=245,\n",
    "                         rt_period=0, rsi_period=14, upper=70, lower=30)"
   ]
  },
  {
   "cell_type": "code",
   "execution_count": 25,
   "metadata": {},
   "outputs": [],
   "source": [
    "ratio_fill = res_fill['ratio']"
   ]
  },
  {
   "cell_type": "code",
   "execution_count": 26,
   "metadata": {
    "scrolled": true
   },
   "outputs": [
    {
     "data": {
      "text/plain": [
       "date\n",
       "2018-12-04    1.180556\n",
       "2018-12-03    1.194396\n",
       "2018-12-02    1.199640\n",
       "2018-12-01    1.199640\n",
       "2018-11-30    1.199640\n",
       "2018-11-29    1.202899\n",
       "2018-11-28    1.196780\n",
       "2018-11-27    1.195298\n",
       "2018-11-26    1.195652\n",
       "2018-11-25    1.195572\n",
       "2018-11-24    1.195572\n",
       "2018-11-23    1.195572\n",
       "2018-11-22    1.195572\n",
       "2018-11-21    1.197053\n",
       "2018-11-20    1.200000\n",
       "2018-11-19    1.203670\n",
       "2018-11-18    1.202578\n",
       "2018-11-17    1.202578\n",
       "2018-11-16    1.202578\n",
       "2018-11-15    1.201479\n",
       "2018-11-14    1.197761\n",
       "2018-11-13    1.201493\n",
       "2018-11-12    1.202247\n",
       "2018-11-11    1.204120\n",
       "2018-11-10    1.204120\n",
       "2018-11-09    1.204120\n",
       "2018-11-08    1.200364\n",
       "2018-11-07    1.193784\n",
       "2018-11-06    1.200000\n",
       "2018-11-05    1.193015\n",
       "                ...   \n",
       "2016-02-09    1.166173\n",
       "2016-02-08    1.166173\n",
       "2016-02-07    1.166173\n",
       "2016-02-06    1.166173\n",
       "2016-02-05    1.166173\n",
       "2016-02-04    1.165567\n",
       "2016-02-03    1.165702\n",
       "2016-02-02    1.174728\n",
       "2016-02-01    1.180798\n",
       "2016-01-31    1.177126\n",
       "2016-01-30    1.177126\n",
       "2016-01-29    1.177126\n",
       "2016-01-28    1.181791\n",
       "2016-01-27    1.178931\n",
       "2016-01-26    1.164211\n",
       "2016-01-25    1.170557\n",
       "2016-01-24    1.169129\n",
       "2016-01-23    1.169129\n",
       "2016-01-22    1.169129\n",
       "2016-01-21    1.166565\n",
       "2016-01-20    1.171541\n",
       "2016-01-19    1.176712\n",
       "2016-01-18    1.171615\n",
       "2016-01-17    1.171287\n",
       "2016-01-16    1.171287\n",
       "2016-01-15    1.171287\n",
       "2016-01-14    1.164579\n",
       "2016-01-13    1.176304\n",
       "2016-01-12    1.178977\n",
       "2016-01-11    1.169140\n",
       "Name: Adj Close, Length: 1059, dtype: float64"
      ]
     },
     "execution_count": 26,
     "metadata": {},
     "output_type": "execute_result"
    }
   ],
   "source": [
    "ratio_fill.sort_index(ascending=False)"
   ]
  },
  {
   "cell_type": "code",
   "execution_count": 27,
   "metadata": {},
   "outputs": [
    {
     "data": {
      "text/plain": [
       "count    1059.000000\n",
       "mean        1.198451\n",
       "std         0.038797\n",
       "min         1.078202\n",
       "25%         1.178596\n",
       "50%         1.202091\n",
       "75%         1.226324\n",
       "max         1.301661\n",
       "Name: Adj Close, dtype: float64"
      ]
     },
     "execution_count": 27,
     "metadata": {},
     "output_type": "execute_result"
    }
   ],
   "source": [
    "ratio_fill.describe()"
   ]
  },
  {
   "cell_type": "markdown",
   "metadata": {},
   "source": [
    "填充数据之后的结果和excel中的结果更接近了, 数据差异原因主要就是数据精度的差异, 但是最后的结果的偏差其实并不大"
   ]
  },
  {
   "cell_type": "code",
   "execution_count": 28,
   "metadata": {},
   "outputs": [
    {
     "data": {
      "text/plain": [
       "0.00041422718167199145"
      ]
     },
     "execution_count": 28,
     "metadata": {},
     "output_type": "execute_result"
    }
   ],
   "source": [
    "res_fill['long_return']"
   ]
  },
  {
   "cell_type": "code",
   "execution_count": 29,
   "metadata": {},
   "outputs": [
    {
     "data": {
      "text/plain": [
       "-0.00024893872500236753"
      ]
     },
     "execution_count": 29,
     "metadata": {},
     "output_type": "execute_result"
    }
   ],
   "source": [
    "res_fill['long_short_return']"
   ]
  },
  {
   "cell_type": "code",
   "execution_count": 48,
   "metadata": {},
   "outputs": [
    {
     "data": {
      "text/plain": [
       "dict_keys(['ratio', 'real_signal', 'long_asset', 'long_return', 'long_short_return', 'rsi', 'rsi_mask'])"
      ]
     },
     "execution_count": 48,
     "metadata": {},
     "output_type": "execute_result"
    }
   ],
   "source": [
    "res_fill.keys()"
   ]
  },
  {
   "cell_type": "markdown",
   "metadata": {},
   "source": [
    "- 我们看一下交易信号\n",
    "    - 在单边交易中, 1代表long左边的资产, -1代表long右边的资产\n",
    "    - 在双边交易中, 1代表long左边的资产,同时short右边的资产; -1则是反过来的.\n",
    "    \n",
    "需要说明的是, 这里计算出来的信号是做过shift(1)处理的, 所以和excel对比的时候, 要稍微注意一下;\n",
    "\n",
    "比如18-12-04, 我们这里是-1, 对应到excel中18-12-03那一行的E/F列的0和1;\n",
    "\n",
    "18-12-03, 我们这里是1, 对应到excel中18-12-02那一行的E/F列的1和0;"
   ]
  },
  {
   "cell_type": "code",
   "execution_count": 30,
   "metadata": {
    "scrolled": true
   },
   "outputs": [
    {
     "data": {
      "text/plain": [
       "date\n",
       "2018-12-04   -1.0\n",
       "2018-12-03    1.0\n",
       "2018-12-02    1.0\n",
       "2018-12-01    1.0\n",
       "2018-11-30    1.0\n",
       "2018-11-29   -1.0\n",
       "2018-11-28   -1.0\n",
       "2018-11-27   -1.0\n",
       "2018-11-26   -1.0\n",
       "2018-11-25   -1.0\n",
       "2018-11-24   -1.0\n",
       "2018-11-23   -1.0\n",
       "2018-11-22   -1.0\n",
       "2018-11-21    1.0\n",
       "2018-11-20    1.0\n",
       "2018-11-19    1.0\n",
       "2018-11-18    1.0\n",
       "2018-11-17    1.0\n",
       "2018-11-16    1.0\n",
       "2018-11-15   -1.0\n",
       "2018-11-14    1.0\n",
       "2018-11-13    1.0\n",
       "2018-11-12    1.0\n",
       "2018-11-11    1.0\n",
       "2018-11-10    1.0\n",
       "2018-11-09    1.0\n",
       "2018-11-08   -1.0\n",
       "2018-11-07    1.0\n",
       "2018-11-06   -1.0\n",
       "2018-11-05   -1.0\n",
       "             ... \n",
       "2016-02-09   -1.0\n",
       "2016-02-08   -1.0\n",
       "2016-02-07   -1.0\n",
       "2016-02-06   -1.0\n",
       "2016-02-05   -1.0\n",
       "2016-02-04   -1.0\n",
       "2016-02-03    1.0\n",
       "2016-02-02    1.0\n",
       "2016-02-01    1.0\n",
       "2016-01-31    1.0\n",
       "2016-01-30    1.0\n",
       "2016-01-29    1.0\n",
       "2016-01-28    1.0\n",
       "2016-01-27   -1.0\n",
       "2016-01-26   -1.0\n",
       "2016-01-25   -1.0\n",
       "2016-01-24   -1.0\n",
       "2016-01-23   -1.0\n",
       "2016-01-22   -1.0\n",
       "2016-01-21   -1.0\n",
       "2016-01-20    1.0\n",
       "2016-01-19   -1.0\n",
       "2016-01-18   -1.0\n",
       "2016-01-17   -1.0\n",
       "2016-01-16   -1.0\n",
       "2016-01-15   -1.0\n",
       "2016-01-14    1.0\n",
       "2016-01-13    1.0\n",
       "2016-01-12    NaN\n",
       "2016-01-11    NaN\n",
       "Length: 1059, dtype: float64"
      ]
     },
     "execution_count": 30,
     "metadata": {},
     "output_type": "execute_result"
    }
   ],
   "source": [
    "res_fill['real_signal'].sort_index(ascending=False)"
   ]
  },
  {
   "cell_type": "code",
   "execution_count": 31,
   "metadata": {},
   "outputs": [],
   "source": [
    "asset_1_close = select_code(data_pair_fill, code1)['Adj Close']\n",
    "asset_2_close = select_code(data_pair_fill, code2)['Adj Close']\n",
    "ratio = asset_1_close / asset_2_close\n",
    "\n",
    "position_side_series = position_side(ratio, 'all', 245)\n",
    "real_signal = position_side_series.shift(1)\n",
    "long_asset = real_signal.apply(lambda x : code1 if x==1 else\n",
    "                                      (code2 if x==-1 else np.nan))\n",
    "\n",
    "asset_1_pct = asset_1_close.pct_change()\n",
    "asset_2_pct = asset_2_close.pct_change()\n",
    "\n",
    "# long_return = ((1+real_signal)/2 * asset_1_pct +  (1-real_signal)/2 * asset_2_pct)[-rt_period:].mean()\n",
    "# long_short_return = (real_signal * (asset_1_pct - asset_2_pct))[-rt_period:].mean()"
   ]
  },
  {
   "cell_type": "markdown",
   "metadata": {},
   "source": [
    "这个是对应到excel表中的column G"
   ]
  },
  {
   "cell_type": "code",
   "execution_count": 32,
   "metadata": {
    "scrolled": true
   },
   "outputs": [
    {
     "data": {
      "text/plain": [
       "date\n",
       "2018-12-04    0.008757\n",
       "2018-12-03    0.022489\n",
       "2018-12-02    0.000000\n",
       "2018-12-01    0.000000\n",
       "2018-11-30    0.004518\n",
       "2018-11-29   -0.012522\n",
       "2018-11-28    0.010850\n",
       "2018-11-27    0.001812\n",
       "2018-11-26    0.018450\n",
       "2018-11-25    0.000000\n",
       "2018-11-24    0.000000\n",
       "2018-11-23    0.000000\n",
       "2018-11-22   -0.001842\n",
       "2018-11-21    0.003086\n",
       "2018-11-20   -0.012195\n",
       "2018-11-19    0.004594\n",
       "2018-11-18    0.000000\n",
       "2018-11-17    0.000000\n",
       "2018-11-16    0.004615\n",
       "2018-11-15    0.009328\n",
       "2018-11-14   -0.003106\n",
       "2018-11-13    0.003115\n",
       "2018-11-12   -0.001555\n",
       "2018-11-11    0.000000\n",
       "2018-11-10    0.000000\n",
       "2018-11-09   -0.024279\n",
       "2018-11-08    0.003656\n",
       "2018-11-07   -0.001529\n",
       "2018-11-06    0.001838\n",
       "2018-11-05   -0.021583\n",
       "                ...   \n",
       "2016-02-09    0.000000\n",
       "2016-02-08    0.000000\n",
       "2016-02-07    0.000000\n",
       "2016-02-06    0.000000\n",
       "2016-02-05    0.012597\n",
       "2016-02-04    0.015535\n",
       "2016-02-03   -0.015183\n",
       "2016-02-02   -0.027771\n",
       "2016-02-01   -0.004235\n",
       "2016-01-31    0.000000\n",
       "2016-01-30    0.000000\n",
       "2016-01-29    0.023980\n",
       "2016-01-28    0.015281\n",
       "2016-01-27    0.005218\n",
       "2016-01-26   -0.025135\n",
       "2016-01-25    0.007537\n",
       "2016-01-24    0.000000\n",
       "2016-01-23    0.000000\n",
       "2016-01-22    0.015615\n",
       "2016-01-21   -0.015375\n",
       "2016-01-20   -0.033814\n",
       "2016-01-19    0.014846\n",
       "2016-01-18   -0.017216\n",
       "2016-01-17    0.000000\n",
       "2016-01-16    0.000000\n",
       "2016-01-15   -0.024203\n",
       "2016-01-14   -0.014458\n",
       "2016-01-13    0.000000\n",
       "2016-01-12         NaN\n",
       "2016-01-11         NaN\n",
       "Length: 1059, dtype: float64"
      ]
     },
     "execution_count": 32,
     "metadata": {},
     "output_type": "execute_result"
    }
   ],
   "source": [
    "((1+real_signal)/2 * asset_1_pct +  (1-real_signal)/2 * asset_2_pct).\\\n",
    "sort_index(ascending=False)"
   ]
  },
  {
   "cell_type": "markdown",
   "metadata": {},
   "source": [
    "这个是对应到excel表中的column H"
   ]
  },
  {
   "cell_type": "code",
   "execution_count": 33,
   "metadata": {
    "scrolled": true
   },
   "outputs": [
    {
     "data": {
      "text/plain": [
       "date\n",
       "2018-12-04    0.011689\n",
       "2018-12-03   -0.004490\n",
       "2018-12-02    0.000000\n",
       "2018-12-01    0.000000\n",
       "2018-11-30   -0.002728\n",
       "2018-11-29   -0.005049\n",
       "2018-11-28   -0.001253\n",
       "2018-11-27    0.000296\n",
       "2018-11-26   -0.000068\n",
       "2018-11-25   -0.000000\n",
       "2018-11-24   -0.000000\n",
       "2018-11-23   -0.000000\n",
       "2018-11-22    0.001235\n",
       "2018-11-21   -0.002469\n",
       "2018-11-20   -0.003021\n",
       "2018-11-19    0.000911\n",
       "2018-11-18    0.000000\n",
       "2018-11-17    0.000000\n",
       "2018-11-16    0.000919\n",
       "2018-11-15   -0.003133\n",
       "2018-11-14   -0.003106\n",
       "2018-11-13   -0.000630\n",
       "2018-11-12   -0.001555\n",
       "2018-11-11    0.000000\n",
       "2018-11-10    0.000000\n",
       "2018-11-09    0.003043\n",
       "2018-11-08   -0.005532\n",
       "2018-11-07   -0.005199\n",
       "2018-11-06   -0.005866\n",
       "2018-11-05   -0.007905\n",
       "                ...   \n",
       "2016-02-09   -0.000000\n",
       "2016-02-08   -0.000000\n",
       "2016-02-07   -0.000000\n",
       "2016-02-06   -0.000000\n",
       "2016-02-05   -0.000527\n",
       "2016-02-04    0.000118\n",
       "2016-02-03   -0.007625\n",
       "2016-02-02   -0.005023\n",
       "2016-02-01    0.003096\n",
       "2016-01-31    0.000000\n",
       "2016-01-30    0.000000\n",
       "2016-01-29   -0.004058\n",
       "2016-01-28    0.002457\n",
       "2016-01-27   -0.012710\n",
       "2016-01-26    0.005285\n",
       "2016-01-25   -0.001230\n",
       "2016-01-24   -0.000000\n",
       "2016-01-23   -0.000000\n",
       "2016-01-22   -0.002232\n",
       "2016-01-21    0.004182\n",
       "2016-01-20   -0.004265\n",
       "2016-01-19   -0.004414\n",
       "2016-01-18   -0.000276\n",
       "2016-01-17   -0.000000\n",
       "2016-01-16   -0.000000\n",
       "2016-01-15   -0.005621\n",
       "2016-01-14   -0.009923\n",
       "2016-01-13   -0.002273\n",
       "2016-01-12         NaN\n",
       "2016-01-11         NaN\n",
       "Length: 1059, dtype: float64"
      ]
     },
     "execution_count": 33,
     "metadata": {},
     "output_type": "execute_result"
    }
   ],
   "source": [
    "(real_signal * (asset_1_pct - asset_2_pct)).sort_index(ascending=False)"
   ]
  }
 ],
 "metadata": {
  "kernelspec": {
   "display_name": "Python (quant)",
   "language": "python",
   "name": "quant"
  },
  "language_info": {
   "codemirror_mode": {
    "name": "ipython",
    "version": 3
   },
   "file_extension": ".py",
   "mimetype": "text/x-python",
   "name": "python",
   "nbconvert_exporter": "python",
   "pygments_lexer": "ipython3",
   "version": "3.6.6"
  },
  "toc": {
   "base_numbering": 1,
   "nav_menu": {},
   "number_sections": true,
   "sideBar": true,
   "skip_h1_title": false,
   "title_cell": "Table of Contents",
   "title_sidebar": "Contents",
   "toc_cell": false,
   "toc_position": {},
   "toc_section_display": true,
   "toc_window_display": false
  },
  "varInspector": {
   "cols": {
    "lenName": 16,
    "lenType": 16,
    "lenVar": 40
   },
   "kernels_config": {
    "python": {
     "delete_cmd_postfix": "",
     "delete_cmd_prefix": "del ",
     "library": "var_list.py",
     "varRefreshCmd": "print(var_dic_list())"
    },
    "r": {
     "delete_cmd_postfix": ") ",
     "delete_cmd_prefix": "rm(",
     "library": "var_list.r",
     "varRefreshCmd": "cat(var_dic_list()) "
    }
   },
   "types_to_exclude": [
    "module",
    "function",
    "builtin_function_or_method",
    "instance",
    "_Feature"
   ],
   "window_display": false
  }
 },
 "nbformat": 4,
 "nbformat_minor": 2
}
