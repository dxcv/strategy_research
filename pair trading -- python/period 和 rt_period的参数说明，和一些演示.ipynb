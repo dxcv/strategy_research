{
 "cells": [
  {
   "cell_type": "code",
   "execution_count": 1,
   "metadata": {},
   "outputs": [],
   "source": [
    "%load_ext autoreload\n",
    "%autoreload 2\n",
    "from utils_v3 import *"
   ]
  },
  {
   "cell_type": "code",
   "execution_count": 2,
   "metadata": {},
   "outputs": [],
   "source": [
    "import seaborn as sns\n",
    "plt.rcParams['figure.figsize'] = [12, 8]\n",
    "plt.rcParams['image.interpolation'] = 'nearest'\n",
    "plt.rcParams['image.cmap'] = 'gray'\n",
    "plt.style.use('ggplot')"
   ]
  },
  {
   "cell_type": "markdown",
   "metadata": {},
   "source": [
    "我们取HK Banks中的416和1288作为示例"
   ]
  },
  {
   "cell_type": "code",
   "execution_count": 3,
   "metadata": {},
   "outputs": [],
   "source": [
    "code1 = '416'\n",
    "code2 = '1288'\n",
    "data = ol_data.copy()\n",
    "%xdel ol_data"
   ]
  },
  {
   "cell_type": "code",
   "execution_count": 4,
   "metadata": {},
   "outputs": [],
   "source": [
    "# 设置数据的开始和结束日期\n",
    "start = '2010-01-10'\n",
    "# 结束日期选取到最新一个交易日\n",
    "end = datetime.datetime.today().strftime('%Y-%m-%d')"
   ]
  },
  {
   "cell_type": "code",
   "execution_count": 5,
   "metadata": {},
   "outputs": [],
   "source": [
    "data_pair = data.loc[(slice(start, end), [code1, code2]),:]"
   ]
  },
  {
   "cell_type": "markdown",
   "metadata": {},
   "source": [
    "一些参数的说明\n",
    "\n",
    "    period, 当avg_method为rolling或者ewm时,用最近多少个ratio的平均值来作为参考值; method为all的时候, 是把过去全部的ratio做平均; 当前ratio>参考值, 就是做多\n",
    "    \n",
    "    rt_period, 计算return的时候, 取最近多少return的平均值, 作为return矩阵中的输出值"
   ]
  },
  {
   "cell_type": "markdown",
   "metadata": {},
   "source": [
    "method == 'all', 此时period可以随意设置, return我先取0, 取0就是所有的return求平均"
   ]
  },
  {
   "cell_type": "code",
   "execution_count": 6,
   "metadata": {},
   "outputs": [
    {
     "name": "stderr",
     "output_type": "stream",
     "text": [
      "E:\\Python\\tensorflow\\strategy_research\\pair trading -- python\\utils_v3.py:140: RuntimeWarning: Mean of empty slice\n",
      "  temp_mean = np.nanmean(ratio[:i-1])\n"
     ]
    }
   ],
   "source": [
    "res1 = single_pair_trading(data_pair, code1, code2, method='all', period=245,\n",
    "                         rt_period=0, rsi_period=14, upper=70, lower=30)"
   ]
  },
  {
   "cell_type": "markdown",
   "metadata": {},
   "source": [
    "我们看下历史上两个标的做多的次数是多少"
   ]
  },
  {
   "cell_type": "code",
   "execution_count": 8,
   "metadata": {},
   "outputs": [
    {
     "data": {
      "text/plain": [
       "416     389\n",
       "1288    343\n",
       "dtype: int64"
      ]
     },
     "execution_count": 8,
     "metadata": {},
     "output_type": "execute_result"
    }
   ],
   "source": [
    "res1['long_asset'].value_counts()"
   ]
  },
  {
   "cell_type": "markdown",
   "metadata": {},
   "source": [
    "两者的做多频率其实差不多"
   ]
  },
  {
   "cell_type": "markdown",
   "metadata": {},
   "source": [
    "我们分别看下做多416和1288的时候, 都是什么时间段"
   ]
  },
  {
   "cell_type": "code",
   "execution_count": 9,
   "metadata": {
    "collapsed": true
   },
   "outputs": [
    {
     "data": {
      "text/plain": [
       "date\n",
       "2015-12-10    416\n",
       "2015-12-11    416\n",
       "2015-12-14    416\n",
       "2015-12-15    416\n",
       "2015-12-16    416\n",
       "2015-12-17    416\n",
       "2015-12-31    416\n",
       "2016-01-04    416\n",
       "2016-01-05    416\n",
       "2016-01-06    416\n",
       "2016-01-07    416\n",
       "2016-01-08    416\n",
       "2016-01-11    416\n",
       "2016-01-12    416\n",
       "2016-01-13    416\n",
       "2016-01-14    416\n",
       "2016-01-15    416\n",
       "2016-01-18    416\n",
       "2016-01-19    416\n",
       "2016-01-20    416\n",
       "2016-01-21    416\n",
       "2016-01-22    416\n",
       "2016-01-25    416\n",
       "2016-01-26    416\n",
       "2016-01-27    416\n",
       "2016-01-28    416\n",
       "2016-01-29    416\n",
       "2016-02-01    416\n",
       "2016-02-02    416\n",
       "2016-02-03    416\n",
       "             ... \n",
       "2018-11-07    416\n",
       "2018-11-08    416\n",
       "2018-11-09    416\n",
       "2018-11-12    416\n",
       "2018-11-13    416\n",
       "2018-11-14    416\n",
       "2018-11-15    416\n",
       "2018-11-16    416\n",
       "2018-11-19    416\n",
       "2018-11-20    416\n",
       "2018-11-21    416\n",
       "2018-11-22    416\n",
       "2018-11-23    416\n",
       "2018-11-26    416\n",
       "2018-11-28    416\n",
       "2018-11-29    416\n",
       "2018-11-30    416\n",
       "2018-12-03    416\n",
       "2018-12-04    416\n",
       "2018-12-05    416\n",
       "2018-12-06    416\n",
       "2018-12-07    416\n",
       "2018-12-10    416\n",
       "2018-12-11    416\n",
       "2018-12-12    416\n",
       "2018-12-24    416\n",
       "2018-12-27    416\n",
       "2018-12-28    416\n",
       "2018-12-31    416\n",
       "2019-01-03    416\n",
       "Length: 389, dtype: object"
      ]
     },
     "execution_count": 9,
     "metadata": {},
     "output_type": "execute_result"
    }
   ],
   "source": [
    "res1['long_asset'][res1['long_asset'] == '416']"
   ]
  },
  {
   "cell_type": "code",
   "execution_count": 10,
   "metadata": {
    "collapsed": true
   },
   "outputs": [
    {
     "data": {
      "text/plain": [
       "date\n",
       "2015-12-18    1288\n",
       "2015-12-21    1288\n",
       "2015-12-22    1288\n",
       "2015-12-23    1288\n",
       "2015-12-24    1288\n",
       "2015-12-28    1288\n",
       "2015-12-29    1288\n",
       "2015-12-30    1288\n",
       "2016-03-08    1288\n",
       "2016-05-26    1288\n",
       "2016-05-27    1288\n",
       "2016-05-30    1288\n",
       "2016-05-31    1288\n",
       "2016-06-01    1288\n",
       "2016-06-03    1288\n",
       "2016-06-06    1288\n",
       "2016-06-07    1288\n",
       "2016-06-08    1288\n",
       "2016-06-10    1288\n",
       "2016-06-13    1288\n",
       "2016-06-14    1288\n",
       "2016-06-23    1288\n",
       "2016-06-24    1288\n",
       "2016-06-27    1288\n",
       "2016-07-14    1288\n",
       "2016-07-15    1288\n",
       "2016-07-18    1288\n",
       "2016-08-08    1288\n",
       "2016-08-09    1288\n",
       "2016-08-10    1288\n",
       "              ... \n",
       "2019-02-04    1288\n",
       "2019-02-08    1288\n",
       "2019-02-11    1288\n",
       "2019-02-12    1288\n",
       "2019-02-13    1288\n",
       "2019-02-14    1288\n",
       "2019-02-15    1288\n",
       "2019-02-18    1288\n",
       "2019-02-19    1288\n",
       "2019-02-20    1288\n",
       "2019-02-21    1288\n",
       "2019-02-22    1288\n",
       "2019-02-25    1288\n",
       "2019-02-26    1288\n",
       "2019-02-27    1288\n",
       "2019-03-04    1288\n",
       "2019-03-05    1288\n",
       "2019-03-07    1288\n",
       "2019-03-11    1288\n",
       "2019-03-13    1288\n",
       "2019-03-14    1288\n",
       "2019-03-15    1288\n",
       "2019-03-18    1288\n",
       "2019-03-19    1288\n",
       "2019-03-20    1288\n",
       "2019-03-21    1288\n",
       "2019-03-22    1288\n",
       "2019-03-25    1288\n",
       "2019-03-27    1288\n",
       "2019-03-28    1288\n",
       "Length: 343, dtype: object"
      ]
     },
     "execution_count": 10,
     "metadata": {},
     "output_type": "execute_result"
    }
   ],
   "source": [
    "res1['long_asset'][res1['long_asset'] == '1288']"
   ]
  },
  {
   "cell_type": "markdown",
   "metadata": {},
   "source": [
    "通过上面时间点的观察, 在最开始15年12月份的时候, 两者都有做多的时候, 而16年前两个月, 则一直做多416; 而到了19年, 1月3日之后, 一直是在做多1288"
   ]
  },
  {
   "cell_type": "markdown",
   "metadata": {},
   "source": [
    "我们看下做多的return的时间序列和均值"
   ]
  },
  {
   "cell_type": "code",
   "execution_count": 12,
   "metadata": {
    "collapsed": true
   },
   "outputs": [
    {
     "data": {
      "text/plain": [
       "date\n",
       "2010-07-16         NaN\n",
       "2010-07-19         NaN\n",
       "2010-07-20         NaN\n",
       "2010-07-21         NaN\n",
       "2010-07-22         NaN\n",
       "2010-07-23         NaN\n",
       "2010-07-26         NaN\n",
       "2010-07-27         NaN\n",
       "2010-07-28         NaN\n",
       "2010-07-29         NaN\n",
       "2010-07-30         NaN\n",
       "2010-08-02         NaN\n",
       "2010-08-03         NaN\n",
       "2010-08-04         NaN\n",
       "2010-08-05         NaN\n",
       "2010-08-06         NaN\n",
       "2010-08-09         NaN\n",
       "2010-08-10         NaN\n",
       "2010-08-11         NaN\n",
       "2010-08-12         NaN\n",
       "2010-08-13         NaN\n",
       "2010-08-16         NaN\n",
       "2010-08-17         NaN\n",
       "2010-08-18         NaN\n",
       "2010-08-19         NaN\n",
       "2010-08-20         NaN\n",
       "2010-08-23         NaN\n",
       "2010-08-24         NaN\n",
       "2010-08-25         NaN\n",
       "2010-08-26         NaN\n",
       "                ...   \n",
       "2019-02-15   -0.013550\n",
       "2019-02-18    0.016484\n",
       "2019-02-19   -0.002703\n",
       "2019-02-20    0.005420\n",
       "2019-02-21    0.010782\n",
       "2019-02-22    0.008000\n",
       "2019-02-25    0.018519\n",
       "2019-02-26   -0.012987\n",
       "2019-02-27         NaN\n",
       "2019-02-28         NaN\n",
       "2019-03-01         NaN\n",
       "2019-03-04    0.007937\n",
       "2019-03-05         NaN\n",
       "2019-03-06         NaN\n",
       "2019-03-07         NaN\n",
       "2019-03-08         NaN\n",
       "2019-03-11         NaN\n",
       "2019-03-12         NaN\n",
       "2019-03-13    0.000000\n",
       "2019-03-14   -0.005362\n",
       "2019-03-15    0.005391\n",
       "2019-03-18    0.002681\n",
       "2019-03-19    0.000000\n",
       "2019-03-20   -0.008021\n",
       "2019-03-21   -0.005391\n",
       "2019-03-22    0.002710\n",
       "2019-03-25         NaN\n",
       "2019-03-26         NaN\n",
       "2019-03-27    0.008242\n",
       "2019-03-28   -0.008174\n",
       "Length: 2145, dtype: float64"
      ]
     },
     "execution_count": 12,
     "metadata": {},
     "output_type": "execute_result"
    }
   ],
   "source": [
    "res1['long_return_series']"
   ]
  },
  {
   "cell_type": "code",
   "execution_count": 13,
   "metadata": {},
   "outputs": [
    {
     "data": {
      "text/plain": [
       "0.00010935265829198897"
      ]
     },
     "execution_count": 13,
     "metadata": {},
     "output_type": "execute_result"
    }
   ],
   "source": [
    "res1['long_return']"
   ]
  },
  {
   "cell_type": "markdown",
   "metadata": {},
   "source": [
    "这里解释一下rt_period参数的作用\n",
    "```\n",
    "当rt_period=0时, 就是取所有的值进行平均;\n",
    "当rt_period=14时, 就是把最近14个return进行平均\n",
    "```"
   ]
  },
  {
   "cell_type": "code",
   "execution_count": 15,
   "metadata": {},
   "outputs": [
    {
     "data": {
      "text/plain": [
       "0.00010935265829198897"
      ]
     },
     "execution_count": 15,
     "metadata": {},
     "output_type": "execute_result"
    }
   ],
   "source": [
    "rt_period = 0\n",
    "res1['long_return_series'][-rt_period:].mean()"
   ]
  },
  {
   "cell_type": "code",
   "execution_count": 16,
   "metadata": {},
   "outputs": [
    {
     "data": {
      "text/plain": [
       "-0.00079249571007360413"
      ]
     },
     "execution_count": 16,
     "metadata": {},
     "output_type": "execute_result"
    }
   ],
   "source": [
    "rt_period = 14\n",
    "res1['long_return_series'][-rt_period:].mean()"
   ]
  },
  {
   "cell_type": "code",
   "execution_count": 17,
   "metadata": {},
   "outputs": [
    {
     "data": {
      "text/plain": [
       "-0.00082974529038156385"
      ]
     },
     "execution_count": 17,
     "metadata": {},
     "output_type": "execute_result"
    }
   ],
   "source": [
    "rt_period = 245\n",
    "res1['long_return_series'][-rt_period:].mean()"
   ]
  },
  {
   "cell_type": "markdown",
   "metadata": {},
   "source": [
    "看一下method = 'rolling'的情况"
   ]
  },
  {
   "cell_type": "code",
   "execution_count": 31,
   "metadata": {},
   "outputs": [],
   "source": [
    "res2 = single_pair_trading(data_pair, code1, code2, method='rolling', period=700,\n",
    "                         rt_period=0, rsi_period=14, upper=70, lower=30)"
   ]
  },
  {
   "cell_type": "code",
   "execution_count": 32,
   "metadata": {},
   "outputs": [
    {
     "name": "stdout",
     "output_type": "stream",
     "text": [
      "[387 346]\n"
     ]
    }
   ],
   "source": [
    "print(res2['long_asset'].value_counts().values)"
   ]
  },
  {
   "cell_type": "markdown",
   "metadata": {},
   "source": [
    "数据实际的行数"
   ]
  },
  {
   "cell_type": "code",
   "execution_count": 27,
   "metadata": {},
   "outputs": [
    {
     "data": {
      "text/plain": [
       "(735,)"
      ]
     },
     "execution_count": 27,
     "metadata": {},
     "output_type": "execute_result"
    }
   ],
   "source": [
    "res2['ratio'].dropna().shape"
   ]
  },
  {
   "cell_type": "markdown",
   "metadata": {},
   "source": [
    "不同period, 对于做多和做空次数的影响"
   ]
  },
  {
   "cell_type": "markdown",
   "metadata": {},
   "source": [
    "```python\n",
    "method == 'rolling'\n",
    "```"
   ]
  },
  {
   "cell_type": "code",
   "execution_count": 33,
   "metadata": {
    "scrolled": true
   },
   "outputs": [
    {
     "name": "stdout",
     "output_type": "stream",
     "text": [
      "period, long times, short times\n",
      "1 [352 326]\n",
      "51 [387 346]\n",
      "101 [384 349]\n",
      "151 [391 342]\n",
      "201 [406 327]\n",
      "251 [421 312]\n",
      "301 [418 315]\n",
      "351 [406 327]\n",
      "401 [402 331]\n",
      "451 [396 337]\n",
      "501 [394 339]\n",
      "551 [392 341]\n",
      "601 [389 344]\n",
      "651 [389 344]\n",
      "701 [387 346]\n",
      "751 [389 344]\n"
     ]
    }
   ],
   "source": [
    "print('period, long times, short times')\n",
    "for i in range(1, 800, 50):\n",
    "    temp = single_pair_trading(data_pair, code1, code2, method='rolling', period=i,\n",
    "                         rt_period=0, rsi_period=14, upper=70, lower=30)\n",
    "    print(i, temp['long_asset'].value_counts().values)"
   ]
  },
  {
   "cell_type": "markdown",
   "metadata": {},
   "source": [
    "```python\n",
    "method == 'ewm'\n",
    "```"
   ]
  },
  {
   "cell_type": "code",
   "execution_count": 34,
   "metadata": {},
   "outputs": [
    {
     "name": "stdout",
     "output_type": "stream",
     "text": [
      "period, long times, short times\n",
      "1 [367 359]\n",
      "51 [391 342]\n",
      "101 [385 348]\n",
      "151 [375 358]\n",
      "201 [370 363]\n",
      "251 [383 350]\n",
      "301 [386 347]\n",
      "351 [384 349]\n",
      "401 [384 349]\n",
      "451 [385 348]\n",
      "501 [386 347]\n",
      "551 [388 345]\n",
      "601 [388 345]\n",
      "651 [390 343]\n",
      "701 [390 343]\n",
      "751 [393 340]\n"
     ]
    }
   ],
   "source": [
    "print('period, long times, short times')\n",
    "for i in range(1, 800, 50):\n",
    "    temp = single_pair_trading(data_pair, code1, code2, method='ewm', period=i,\n",
    "                         rt_period=0, rsi_period=14, upper=70, lower=30)\n",
    "    print(i, temp['long_asset'].value_counts().values)"
   ]
  },
  {
   "cell_type": "markdown",
   "metadata": {},
   "source": [
    "不同周期下, rt_period = 0时, long和long_short_return"
   ]
  },
  {
   "cell_type": "code",
   "execution_count": 37,
   "metadata": {},
   "outputs": [
    {
     "name": "stdout",
     "output_type": "stream",
     "text": [
      "period, long return, short return\n",
      "1 0.00219594538048 0.00178048986269\n",
      "51 0.000708552574617 -0.000864815190862\n",
      "101 0.000946064392263 -0.00038979155557\n",
      "151 0.000604165966884 -0.00107358840633\n",
      "201 0.000796327401865 -0.000689265536366\n",
      "251 0.000651568032508 -0.00097878427508\n",
      "301 0.00055826963408 -0.00116538107194\n",
      "351 0.000470212297307 -0.00134149574548\n",
      "401 0.000596977444343 -0.00108796545141\n",
      "451 0.000508651063047 -0.001264618214\n",
      "501 0.000349939873462 -0.00158204059317\n",
      "551 0.000299922857096 -0.0016820746259\n",
      "601 0.000290796028678 -0.00170032828274\n",
      "651 0.000290796028678 -0.00170032828274\n",
      "701 0.000303273937503 -0.00167537246509\n",
      "751 0.000290796028678 -0.00170032828274\n"
     ]
    }
   ],
   "source": [
    "print('period, long return, short return')\n",
    "for i in range(1, 800, 50):\n",
    "    temp = single_pair_trading(data_pair, code1, code2, method='rolling', period=i,\n",
    "                         rt_period=0, rsi_period=14, upper=70, lower=30)\n",
    "    print(i, temp['long_return'], temp['long_short_return'])"
   ]
  },
  {
   "cell_type": "code",
   "execution_count": 38,
   "metadata": {},
   "outputs": [
    {
     "name": "stdout",
     "output_type": "stream",
     "text": [
      "period, long return, short return\n",
      "1 0.00213630879358 0.00196047338074\n",
      "51 0.000847676113365 -0.000586568113364\n",
      "101 0.000930276941655 -0.000421366456786\n",
      "151 0.000541343178586 -0.00119923398292\n",
      "201 0.000412697172517 -0.00145652599506\n",
      "251 0.000246004290496 -0.0017899117591\n",
      "301 0.000341668208579 -0.00159858392294\n",
      "351 0.000481747351043 -0.00131842563801\n",
      "401 0.000548708616101 -0.00118450310789\n",
      "451 0.00060142737572 -0.00107906558865\n",
      "501 0.000639673210728 -0.00100257391864\n",
      "551 0.000566191624422 -0.00114953709125\n",
      "601 0.000566191624422 -0.00114953709125\n",
      "651 0.000508670660734 -0.00126457901863\n",
      "701 0.000508670660734 -0.00126457901863\n",
      "751 0.000484738095817 -0.00131244414846\n"
     ]
    }
   ],
   "source": [
    "print('period, long return, short return')\n",
    "for i in range(1, 800, 50):\n",
    "    temp = single_pair_trading(data_pair, code1, code2, method='ewm', period=i,\n",
    "                         rt_period=0, rsi_period=14, upper=70, lower=30)\n",
    "    print(i, temp['long_return'], temp['long_short_return'])"
   ]
  },
  {
   "cell_type": "code",
   "execution_count": 51,
   "metadata": {},
   "outputs": [],
   "source": [
    "df_res = pd.DataFrame()\n",
    "count = 0\n",
    "for i in range(1, 800, 200):\n",
    "    for j in range(10, 51, 10):\n",
    "        temp = single_pair_trading(data_pair, code1, code2, method='ewm', period=i,\n",
    "                             rt_period=j, rsi_period=14, upper=70, lower=30)\n",
    "        df_temp = pd.DataFrame([i, j, (temp['long_return']), temp['long_short_return']],\n",
    "                              index = ['period', 'rt_period', \n",
    "                                       'long_return', 'long_short_return'])\n",
    "        df_res = pd.concat([df_res, df_temp.T])\n",
    "        count += 1"
   ]
  },
  {
   "cell_type": "code",
   "execution_count": 52,
   "metadata": {},
   "outputs": [
    {
     "data": {
      "text/html": [
       "<div>\n",
       "<style scoped>\n",
       "    .dataframe tbody tr th:only-of-type {\n",
       "        vertical-align: middle;\n",
       "    }\n",
       "\n",
       "    .dataframe tbody tr th {\n",
       "        vertical-align: top;\n",
       "    }\n",
       "\n",
       "    .dataframe thead th {\n",
       "        text-align: right;\n",
       "    }\n",
       "</style>\n",
       "<table border=\"1\" class=\"dataframe\">\n",
       "  <thead>\n",
       "    <tr style=\"text-align: right;\">\n",
       "      <th></th>\n",
       "      <th>period</th>\n",
       "      <th>rt_period</th>\n",
       "      <th>long_return</th>\n",
       "      <th>long_short_return</th>\n",
       "    </tr>\n",
       "  </thead>\n",
       "  <tbody>\n",
       "    <tr>\n",
       "      <th>0</th>\n",
       "      <td>1.0</td>\n",
       "      <td>10.0</td>\n",
       "      <td>-0.006637</td>\n",
       "      <td>-0.009762</td>\n",
       "    </tr>\n",
       "    <tr>\n",
       "      <th>0</th>\n",
       "      <td>1.0</td>\n",
       "      <td>20.0</td>\n",
       "      <td>-0.002266</td>\n",
       "      <td>-0.008784</td>\n",
       "    </tr>\n",
       "    <tr>\n",
       "      <th>0</th>\n",
       "      <td>1.0</td>\n",
       "      <td>30.0</td>\n",
       "      <td>-0.002033</td>\n",
       "      <td>-0.007024</td>\n",
       "    </tr>\n",
       "    <tr>\n",
       "      <th>0</th>\n",
       "      <td>1.0</td>\n",
       "      <td>40.0</td>\n",
       "      <td>-0.001414</td>\n",
       "      <td>-0.004555</td>\n",
       "    </tr>\n",
       "    <tr>\n",
       "      <th>0</th>\n",
       "      <td>1.0</td>\n",
       "      <td>50.0</td>\n",
       "      <td>0.000105</td>\n",
       "      <td>-0.003647</td>\n",
       "    </tr>\n",
       "    <tr>\n",
       "      <th>0</th>\n",
       "      <td>201.0</td>\n",
       "      <td>10.0</td>\n",
       "      <td>-0.000320</td>\n",
       "      <td>0.002871</td>\n",
       "    </tr>\n",
       "    <tr>\n",
       "      <th>0</th>\n",
       "      <td>201.0</td>\n",
       "      <td>20.0</td>\n",
       "      <td>0.000001</td>\n",
       "      <td>-0.004249</td>\n",
       "    </tr>\n",
       "    <tr>\n",
       "      <th>0</th>\n",
       "      <td>201.0</td>\n",
       "      <td>30.0</td>\n",
       "      <td>0.001578</td>\n",
       "      <td>0.000197</td>\n",
       "    </tr>\n",
       "    <tr>\n",
       "      <th>0</th>\n",
       "      <td>201.0</td>\n",
       "      <td>40.0</td>\n",
       "      <td>0.000248</td>\n",
       "      <td>-0.001230</td>\n",
       "    </tr>\n",
       "    <tr>\n",
       "      <th>0</th>\n",
       "      <td>201.0</td>\n",
       "      <td>50.0</td>\n",
       "      <td>0.001365</td>\n",
       "      <td>-0.001127</td>\n",
       "    </tr>\n",
       "    <tr>\n",
       "      <th>0</th>\n",
       "      <td>401.0</td>\n",
       "      <td>10.0</td>\n",
       "      <td>-0.000320</td>\n",
       "      <td>0.002871</td>\n",
       "    </tr>\n",
       "    <tr>\n",
       "      <th>0</th>\n",
       "      <td>401.0</td>\n",
       "      <td>20.0</td>\n",
       "      <td>0.000001</td>\n",
       "      <td>-0.004249</td>\n",
       "    </tr>\n",
       "    <tr>\n",
       "      <th>0</th>\n",
       "      <td>401.0</td>\n",
       "      <td>30.0</td>\n",
       "      <td>0.001578</td>\n",
       "      <td>0.000197</td>\n",
       "    </tr>\n",
       "    <tr>\n",
       "      <th>0</th>\n",
       "      <td>401.0</td>\n",
       "      <td>40.0</td>\n",
       "      <td>0.000949</td>\n",
       "      <td>0.000172</td>\n",
       "    </tr>\n",
       "    <tr>\n",
       "      <th>0</th>\n",
       "      <td>401.0</td>\n",
       "      <td>50.0</td>\n",
       "      <td>0.001929</td>\n",
       "      <td>0.000002</td>\n",
       "    </tr>\n",
       "    <tr>\n",
       "      <th>0</th>\n",
       "      <td>601.0</td>\n",
       "      <td>10.0</td>\n",
       "      <td>-0.000320</td>\n",
       "      <td>0.002871</td>\n",
       "    </tr>\n",
       "    <tr>\n",
       "      <th>0</th>\n",
       "      <td>601.0</td>\n",
       "      <td>20.0</td>\n",
       "      <td>0.000001</td>\n",
       "      <td>-0.004249</td>\n",
       "    </tr>\n",
       "    <tr>\n",
       "      <th>0</th>\n",
       "      <td>601.0</td>\n",
       "      <td>30.0</td>\n",
       "      <td>0.001578</td>\n",
       "      <td>0.000197</td>\n",
       "    </tr>\n",
       "    <tr>\n",
       "      <th>0</th>\n",
       "      <td>601.0</td>\n",
       "      <td>40.0</td>\n",
       "      <td>0.000949</td>\n",
       "      <td>0.000172</td>\n",
       "    </tr>\n",
       "    <tr>\n",
       "      <th>0</th>\n",
       "      <td>601.0</td>\n",
       "      <td>50.0</td>\n",
       "      <td>0.001929</td>\n",
       "      <td>0.000002</td>\n",
       "    </tr>\n",
       "  </tbody>\n",
       "</table>\n",
       "</div>"
      ],
      "text/plain": [
       "   period  rt_period  long_return  long_short_return\n",
       "0     1.0       10.0    -0.006637          -0.009762\n",
       "0     1.0       20.0    -0.002266          -0.008784\n",
       "0     1.0       30.0    -0.002033          -0.007024\n",
       "0     1.0       40.0    -0.001414          -0.004555\n",
       "0     1.0       50.0     0.000105          -0.003647\n",
       "0   201.0       10.0    -0.000320           0.002871\n",
       "0   201.0       20.0     0.000001          -0.004249\n",
       "0   201.0       30.0     0.001578           0.000197\n",
       "0   201.0       40.0     0.000248          -0.001230\n",
       "0   201.0       50.0     0.001365          -0.001127\n",
       "0   401.0       10.0    -0.000320           0.002871\n",
       "0   401.0       20.0     0.000001          -0.004249\n",
       "0   401.0       30.0     0.001578           0.000197\n",
       "0   401.0       40.0     0.000949           0.000172\n",
       "0   401.0       50.0     0.001929           0.000002\n",
       "0   601.0       10.0    -0.000320           0.002871\n",
       "0   601.0       20.0     0.000001          -0.004249\n",
       "0   601.0       30.0     0.001578           0.000197\n",
       "0   601.0       40.0     0.000949           0.000172\n",
       "0   601.0       50.0     0.001929           0.000002"
      ]
     },
     "execution_count": 52,
     "metadata": {},
     "output_type": "execute_result"
    }
   ],
   "source": [
    "df_res"
   ]
  },
  {
   "cell_type": "markdown",
   "metadata": {},
   "source": [
    "看一下整个板块的结果"
   ]
  },
  {
   "cell_type": "code",
   "execution_count": 40,
   "metadata": {},
   "outputs": [
    {
     "data": {
      "application/vnd.jupyter.widget-view+json": {
       "model_id": "1f73b0dd96814c25a0270b672594f901",
       "version_major": 2,
       "version_minor": 0
      },
      "text/plain": [
       "HBox(children=(IntProgress(value=0, max=25), HTML(value='')))"
      ]
     },
     "metadata": {},
     "output_type": "display_data"
    },
    {
     "name": "stdout",
     "output_type": "stream",
     "text": [
      "\n",
      "finish, see you          \n"
     ]
    }
   ],
   "source": [
    "result = calc_pair_trading('HK Banks', is_saving=True, save_name='HK Banks rolling',\n",
    "                          period=255, rt_period=14)"
   ]
  }
 ],
 "metadata": {
  "kernelspec": {
   "display_name": "Python (quant)",
   "language": "python",
   "name": "quant"
  },
  "language_info": {
   "codemirror_mode": {
    "name": "ipython",
    "version": 3
   },
   "file_extension": ".py",
   "mimetype": "text/x-python",
   "name": "python",
   "nbconvert_exporter": "python",
   "pygments_lexer": "ipython3",
   "version": "3.6.6"
  },
  "toc": {
   "base_numbering": 1,
   "nav_menu": {},
   "number_sections": true,
   "sideBar": true,
   "skip_h1_title": false,
   "title_cell": "Table of Contents",
   "title_sidebar": "Contents",
   "toc_cell": false,
   "toc_position": {},
   "toc_section_display": true,
   "toc_window_display": false
  },
  "varInspector": {
   "cols": {
    "lenName": 16,
    "lenType": 16,
    "lenVar": 40
   },
   "kernels_config": {
    "python": {
     "delete_cmd_postfix": "",
     "delete_cmd_prefix": "del ",
     "library": "var_list.py",
     "varRefreshCmd": "print(var_dic_list())"
    },
    "r": {
     "delete_cmd_postfix": ") ",
     "delete_cmd_prefix": "rm(",
     "library": "var_list.r",
     "varRefreshCmd": "cat(var_dic_list()) "
    }
   },
   "position": {
    "height": "377px",
    "left": "1550px",
    "right": "20px",
    "top": "120px",
    "width": "350px"
   },
   "types_to_exclude": [
    "module",
    "function",
    "builtin_function_or_method",
    "instance",
    "_Feature"
   ],
   "window_display": false
  }
 },
 "nbformat": 4,
 "nbformat_minor": 2
}
