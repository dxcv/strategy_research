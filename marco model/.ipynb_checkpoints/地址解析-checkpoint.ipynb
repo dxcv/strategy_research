{
 "cells": [
  {
   "cell_type": "markdown",
   "metadata": {},
   "source": [
    "GDP\n",
    "\n",
    "https://fred.stlouisfed.org/graph/fredgraph.xls?bgcolor=%23e1e9f0&chart_type=line&drp=0&fo=open%20sans&graph_bgcolor=%23ffffff&height=450&mode=fred&recession_bars=on&txtcolor=%23444444&ts=12&tts=12&width=1168&nt=0&thu=0&trc=0&show_legend=yes&show_axis_titles=yes&show_tooltip=yes&id=A191RL1Q225SBEA&scale=left&cosd=1947-04-01&coed=2018-10-01&line_color=%234572a7&link_values=false&line_style=solid&mark_type=none&mw=3&lw=2&ost=-99999&oet=99999&mma=0&fml=a&fq=Quarterly&fam=avg&fgst=lin&fgsnd=2009-06-01&line_index=1&transformation=lin&vintage_date=2019-04-23&revision_date=2019-04-23&nd=1947-04-01"
   ]
  },
  {
   "cell_type": "code",
   "execution_count": null,
   "metadata": {},
   "outputs": [],
   "source": [
    "'bgcolor': '#e1e9f0',\n",
    "'chart_type': 'line',\n",
    "'drp': 0,\n",
    "'fo': 'open sans',\n",
    "'graph_bgcolor': '#ffffff',\n",
    "'height': 450,\n",
    "'mode': 'fred',\n",
    "'recession_bars': 'on',\n",
    "'txtcolor': '#444444',\n",
    "'ts': 12,\n",
    "'tts': 12,\n",
    "'width': 1168,\n",
    "'nt': 0,\n",
    "'thu': 0,\n",
    "'trc': 0,\n",
    "'show_legend': 'yes',\n",
    "'show_axis_titles': 'yes',\n",
    "'show_tooltip': 'yes',\n",
    "'id': 'A191RL1Q225SBEA',\n",
    "'scale': 'left',\n",
    "'cosd': '1947-04-01',\n",
    "'coed': '2018-10-01',\n",
    "'line_color': '#4572a7',\n",
    "'link_values': 'false',\n",
    "'line_style': 'solid',\n",
    "'mark_type': 'none',\n",
    "'mw': 3,\n",
    "'lw': 2,\n",
    "'ost': -99999,\n",
    "'oet': 99999,\n",
    "'mma': 0,\n",
    "'fml': 'a',\n",
    "'fq': 'Quarterly',\n",
    "'fam': 'avg',\n",
    "'fgst': 'lin',\n",
    "'fgsnd': '2009-06-01',\n",
    "'line_index': 1,\n",
    "'transformation': 'lin',\n",
    "'vintage_date': '2019-04-23',\n",
    "'revision_date': '2019-04-23',\n",
    "'nd': '1947-04-01',"
   ]
  }
 ],
 "metadata": {
  "kernelspec": {
   "display_name": "Python (quant)",
   "language": "python",
   "name": "quant"
  },
  "language_info": {
   "codemirror_mode": {
    "name": "ipython",
    "version": 3
   },
   "file_extension": ".py",
   "mimetype": "text/x-python",
   "name": "python",
   "nbconvert_exporter": "python",
   "pygments_lexer": "ipython3",
   "version": "3.6.7"
  },
  "toc": {
   "base_numbering": 1,
   "nav_menu": {},
   "number_sections": true,
   "sideBar": true,
   "skip_h1_title": false,
   "title_cell": "Table of Contents",
   "title_sidebar": "Contents",
   "toc_cell": false,
   "toc_position": {},
   "toc_section_display": true,
   "toc_window_display": false
  },
  "varInspector": {
   "cols": {
    "lenName": 16,
    "lenType": 16,
    "lenVar": 40
   },
   "kernels_config": {
    "python": {
     "delete_cmd_postfix": "",
     "delete_cmd_prefix": "del ",
     "library": "var_list.py",
     "varRefreshCmd": "print(var_dic_list())"
    },
    "r": {
     "delete_cmd_postfix": ") ",
     "delete_cmd_prefix": "rm(",
     "library": "var_list.r",
     "varRefreshCmd": "cat(var_dic_list()) "
    }
   },
   "types_to_exclude": [
    "module",
    "function",
    "builtin_function_or_method",
    "instance",
    "_Feature"
   ],
   "window_display": false
  }
 },
 "nbformat": 4,
 "nbformat_minor": 2
}
